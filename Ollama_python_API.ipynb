{
 "cells": [
  {
   "cell_type": "code",
   "execution_count": 1,
   "metadata": {},
   "outputs": [],
   "source": [
    "from openai import OpenAI"
   ]
  },
  {
   "cell_type": "code",
   "execution_count": 8,
   "metadata": {},
   "outputs": [],
   "source": [
    "url = \"http://127.0.0.1:11434/v1\" \n",
    "client = OpenAI(base_url=url,\n",
    "                api_key=\"ollama\")\n",
    "\n",
    "response = client.chat.completions.create(model=\"codellama:7b-instruct\",\n",
    "                                     messages=[{\"role\":\"user\",\n",
    "                                                \"content\":\"write a python code to generate fibonacci series.\"},])\n"
   ]
  },
  {
   "cell_type": "code",
   "execution_count": 10,
   "metadata": {},
   "outputs": [
    {
     "name": "stdout",
     "output_type": "stream",
     "text": [
      "```\n",
      "def fib(n):\n",
      "  if n <= 1:\n",
      "    return n\n",
      "  else:\n",
      "    return fib(n-1) + fib(n-2)\n",
      "\n",
      "print(fib(5)) # prints the nth term of the fibonacci series\n",
      "```\n",
      "This code defines a function `fib` that takes an integer `n` as input and returns its corresponding Fibonacci number. The function uses recursive approach to calculate the Fibonacci number by calling itself with smaller values of `n`. If `n` is 1 or 2, it returns the value directly. Otherwise, it calculates the Fibonacci numbers for `n-1` and `n-2` and adds them together to get the `n`th Fibonacci number.\n",
      "\n",
      "For example, if you call the function with `n=5`, it will calculate the Fibonacci numbers for `n=4` and `n=3` using the same formula and then add them together to get the `n`th term of the series which is 5.\n",
      "```\n",
      "print(fib(5)) # prints 5\n",
      "print(fib(6)) # prints 8\n",
      "print(fib(7)) # prints 13\n",
      "```\n",
      "It's worth noting that this code runs in exponential time, meaning that the running time of the program grows very rapidly as the value of `n` increases. This can make it very slow for large values of `n`.\n"
     ]
    }
   ],
   "source": [
    "print(response.choices[0].message.content)"
   ]
  },
  {
   "cell_type": "code",
   "execution_count": null,
   "metadata": {},
   "outputs": [],
   "source": []
  }
 ],
 "metadata": {
  "kernelspec": {
   "display_name": "base",
   "language": "python",
   "name": "python3"
  },
  "language_info": {
   "codemirror_mode": {
    "name": "ipython",
    "version": 3
   },
   "file_extension": ".py",
   "mimetype": "text/x-python",
   "name": "python",
   "nbconvert_exporter": "python",
   "pygments_lexer": "ipython3",
   "version": "3.10.9"
  }
 },
 "nbformat": 4,
 "nbformat_minor": 2
}

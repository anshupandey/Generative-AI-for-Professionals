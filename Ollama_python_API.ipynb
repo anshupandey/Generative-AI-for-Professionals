{
 "cells": [
  {
   "cell_type": "code",
   "execution_count": 1,
   "metadata": {},
   "outputs": [],
   "source": [
    "from openai import OpenAI"
   ]
  },
  {
   "cell_type": "code",
   "execution_count": 8,
   "metadata": {},
   "outputs": [],
   "source": [
    "url = \"http://127.0.0.1:11434/v1\" \n",
    "client = OpenAI(base_url=url,\n",
    "                api_key=\"ollama\")\n",
    "\n",
    "response = client.chat.completions.create(model=\"codellama:7b-instruct\",\n",
    "                                     messages=[{\"role\":\"user\",\n",
    "                                                \"content\":\"write a python code to generate fibonacci series.\"},])\n"
   ]
  },
  {
   "cell_type": "code",
   "execution_count": 10,
   "metadata": {},
   "outputs": [
    {
     "name": "stdout",
     "output_type": "stream",
     "text": [
      "```\n",
      "def fib(n):\n",
      "  if n <= 1:\n",
      "    return n\n",
      "  else:\n",
      "    return fib(n-1) + fib(n-2)\n",
      "\n",
      "print(fib(5)) # prints the nth term of the fibonacci series\n",
      "```\n",
      "This code defines a function `fib` that takes an integer `n` as input and returns its corresponding Fibonacci number. The function uses recursive approach to calculate the Fibonacci number by calling itself with smaller values of `n`. If `n` is 1 or 2, it returns the value directly. Otherwise, it calculates the Fibonacci numbers for `n-1` and `n-2` and adds them together to get the `n`th Fibonacci number.\n",
      "\n",
      "For example, if you call the function with `n=5`, it will calculate the Fibonacci numbers for `n=4` and `n=3` using the same formula and then add them together to get the `n`th term of the series which is 5.\n",
      "```\n",
      "print(fib(5)) # prints 5\n",
      "print(fib(6)) # prints 8\n",
      "print(fib(7)) # prints 13\n",
      "```\n",
      "It's worth noting that this code runs in exponential time, meaning that the running time of the program grows very rapidly as the value of `n` increases. This can make it very slow for large values of `n`.\n"
     ]
    }
   ],
   "source": [
    "print(response.choices[0].message.content)"
   ]
  },
  {
   "cell_type": "code",
   "execution_count": 1,
   "metadata": {},
   "outputs": [],
   "source": [
    "#pip install opneai\n",
    "from openai import OpenAI"
   ]
  },
  {
   "cell_type": "code",
   "execution_count": 3,
   "metadata": {},
   "outputs": [
    {
     "name": "stdout",
     "output_type": "stream",
     "text": [
      "The sentiment of the statement \"I am happy today\" is Positive.\n"
     ]
    }
   ],
   "source": [
    "url = \"http://localhost:11434/v1\"\n",
    "client = OpenAI(base_url=url,api_key='ollama')\n",
    "\n",
    "response = client.chat.completions.create(\n",
    "    model='llama2',\n",
    "    messages=[{\"role\":\"user\",\"content\":\"\"\"\n",
    "document: I am happy today\n",
    "sentiment: ?\n",
    "\"\"\"}]\n",
    ")\n",
    "print(response.choices[0].message.content)"
   ]
  },
  {
   "cell_type": "code",
   "execution_count": 4,
   "metadata": {},
   "outputs": [
    {
     "name": "stdout",
     "output_type": "stream",
     "text": [
      "The sentiment of the second document is \"Positive\".\n"
     ]
    }
   ],
   "source": [
    "url = \"http://localhost:11434/v1\"\n",
    "client = OpenAI(base_url=url,api_key='ollama')\n",
    "\n",
    "response = client.chat.completions.create(\n",
    "    model='llama2',\n",
    "    messages=[{\"role\":\"user\",\"content\":\"\"\"\n",
    "document: I am unhappy today\n",
    "sentiment: Negative\n",
    "               \n",
    "document: I am happy today\n",
    "sentiment: ?\n",
    "               \n",
    "\"\"\"}]\n",
    ")\n",
    "print(response.choices[0].message.content)"
   ]
  },
  {
   "cell_type": "code",
   "execution_count": 7,
   "metadata": {},
   "outputs": [
    {
     "data": {
      "text/plain": [
       "200"
      ]
     },
     "execution_count": 7,
     "metadata": {},
     "output_type": "execute_result"
    }
   ],
   "source": [
    "import json\n",
    "import requests\n",
    "\n",
    "prompt = \"\"\"\n",
    "document: I am unhappy today\n",
    "sentiment: Negative\n",
    "               \n",
    "document: I am happy today\n",
    "sentiment: ?\n",
    "               \n",
    "\"\"\"\n",
    "\n",
    "response = requests.post(\"http://localhost:11434/api/generate\",\n",
    "                         json={\"model\":\"llama3\",\"prompt\":prompt},)\n",
    "\n",
    "response.status_code"
   ]
  },
  {
   "cell_type": "code",
   "execution_count": 14,
   "metadata": {},
   "outputs": [
    {
     "data": {
      "text/plain": [
       "'{\"model\":\"llama3\",\"created_at\":\"2024-05-31T05:24:24.2439447Z\",\"response\":\"The\",\"done\":false}\\n{\"model\":\"llama3\",\"created_at\":\"2024-05-31T05:24:24.9603378Z\",\"response\":\" sentiment\",\"done\":false}\\n{\"model\":\"llama3\",\"created_at\":\"2024-05-31T05:24:25.6079339Z\",\"response\":\" of\",\"done\":false}\\n{\"model\":\"llama3\",\"created_at\":\"2024-05-31T05:24:26.2506854Z\",\"response\":\" the\",\"done\":false}\\n{\"model\":\"llama3\",\"created_at\":\"2024-05-31T05:24:26.894805Z\",\"response\":\" second\",\"done\":false}\\n{\"model\":\"llama3\",\"created_at\":\"2024-05-31T05:24:27.5504851Z\",\"response\":\" document\",\"done\":false}\\n{\"model\":\"llama3\",\"created_at\":\"2024-05-31T05:24:28.2127993Z\",\"response\":\" is\",\"done\":false}\\n{\"model\":\"llama3\",\"created_at\":\"2024-05-31T05:24:28.8726336Z\",\"response\":\":\\\\n\\\\n\",\"done\":false}\\n{\"model\":\"llama3\",\"created_at\":\"2024-05-31T05:24:29.8984268Z\",\"response\":\"sent\",\"done\":false}\\n{\"model\":\"llama3\",\"created_at\":\"2024-05-31T05:24:30.7119658Z\",\"response\":\"iment\",\"done\":false}\\n{\"model\":\"llama3\",\"created_at\":\"2024-05-31T05:24:31.4612495Z\",\"response\":\":\",\"done\":false}\\n{\"model\":\"llama3\",\"created_at\":\"2024-05-31T05:24:32.4512962Z\",\"response\":\" Positive\",\"done\":false}\\n{\"model\":\"llama3\",\"created_at\":\"2024-05-31T05:24:33.2650197Z\",\"response\":\"\",\"done\":true,\"context\":[128006,882,128007,271,198,6190,25,358,1097,43251,3432,198,25526,3904,25,51957,198,394,198,6190,25,358,1097,6380,3432,198,25526,3904,25,949,198,27644,128009,128006,78191,128007,198,198,791,27065,315,279,2132,2246,374,512,198,25526,3904,25,45003,128009],\"total_duration\":9654717100,\"load_duration\":1459900,\"prompt_eval_duration\":632108000,\"eval_count\":13,\"eval_duration\":9020337000}\\n'"
      ]
     },
     "execution_count": 14,
     "metadata": {},
     "output_type": "execute_result"
    }
   ],
   "source": [
    "response.content.decode()"
   ]
  },
  {
   "cell_type": "code",
   "execution_count": null,
   "metadata": {},
   "outputs": [],
   "source": []
  }
 ],
 "metadata": {
  "kernelspec": {
   "display_name": "base",
   "language": "python",
   "name": "python3"
  },
  "language_info": {
   "codemirror_mode": {
    "name": "ipython",
    "version": 3
   },
   "file_extension": ".py",
   "mimetype": "text/x-python",
   "name": "python",
   "nbconvert_exporter": "python",
   "pygments_lexer": "ipython3",
   "version": "3.10.9"
  }
 },
 "nbformat": 4,
 "nbformat_minor": 2
}

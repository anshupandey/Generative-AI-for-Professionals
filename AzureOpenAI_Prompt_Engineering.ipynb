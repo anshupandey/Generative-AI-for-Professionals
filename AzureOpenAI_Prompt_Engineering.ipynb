{
  "cells": [
    {
      "cell_type": "markdown",
      "metadata": {
        "id": "view-in-github",
        "colab_type": "text"
      },
      "source": [
        "<a href=\"https://colab.research.google.com/github/anshupandey/Generative-AI-for-Professionals/blob/main/AzureOpenAI_Prompt_Engineering.ipynb\" target=\"_parent\"><img src=\"https://colab.research.google.com/assets/colab-badge.svg\" alt=\"Open In Colab\"/></a>"
      ]
    },
    {
      "cell_type": "markdown",
      "metadata": {
        "id": "5ZBMUH466r3l"
      },
      "source": [
        "# Azure openAI : Prompt Engineering"
      ]
    },
    {
      "cell_type": "markdown",
      "metadata": {
        "id": "sAyX_U--cS4e"
      },
      "source": [
        "### Prompt Engineering\n",
        "\n",
        "Prompt engineering is the process of designing and optimizing prompts to better utilize LLMs. Designing effective prompts is critical to the success of prompt engineering, and it can significantly improve the AI model's performance on specific tasks. Providing relevant, specific, unambiguous, and well structured prompts can help the model better understand the context and generate more accurate responses.\n",
        "\n",
        "For example, if we want an OpenAI model to generate product descriptions, we can provide it with a detailed description that describes the features and benefits of the product. By providing this context, the model can generate more accurate and relevant product descriptions."
      ]
    },
    {
      "cell_type": "markdown",
      "metadata": {
        "id": "Hz5cY0w6cS4f"
      },
      "source": [
        "**Let's start with Azure openAI**\n",
        "\n",
        "Create an Azure OpenAI resource with the following settings:\n",
        "\n",
        "        Subscription: Select an Azure subscription that has been approved for access to the Azure OpenAI service\n",
        "        Resource group: Choose or create a resource group\n",
        "        Region: Make a random choice from any of the available regions*\n",
        "        Name: A unique name of your choice\n",
        "        Pricing tier: Standard S0\n",
        "\n",
        "\n",
        "Wait for deployment to complete. Then go to the deployed Azure OpenAI resource in the Azure portal.\n",
        "\n",
        "\n",
        "\n",
        "**Deploy a model**\n",
        "\n",
        "Azure OpenAI provides a web-based portal named Azure OpenAI Studio, that you can use to deploy, manage, and explore models. You'll start your exploration of Azure OpenAI by using Azure OpenAI Studio to deploy a model.\n",
        "\n",
        "1. On the Overview page for your Azure OpenAI resource, use the Go to Azure OpenAI Studio button to open Azure OpenAI Studio in a new browser tab.\n",
        "\n",
        "2. In Azure OpenAI Studio, on the Deployments page, view your existing model deployments. If you don't already have one, create a new deployment of the gpt-35-turbo-16k model with the following settings:\n",
        "\n",
        "        Model: gpt-35-turbo-16k (if the 16k model isn't available, choose gpt-35-turbo)\n",
        "        Model version: Auto-update to default\n",
        "        Deployment name: A unique name of your choice\n",
        "        Advanced options\n",
        "        Content filter: Default\n",
        "        Tokens per minute rate limit: 5K*\n",
        "        Enable dynamic quota: Enabled\n",
        "\n",
        "\n",
        "\n",
        "\n",
        "**Explore prompt engineering techniques**\n",
        "\n",
        "Let's start by exploring some prompt engineering techniques in the Chat playground.\n",
        "\n",
        "1. In Azure OpenAI Studio, in the Playground section, select the Chat page. The Chat playground page consists of three main sections:\n",
        "\n",
        "        Assistant setup - used to set the context for the model's responses.\n",
        "        Chat session - used to submit chat messages and view responses.\n",
        "        Configuration - used to configure settings for the model deployment.\n",
        "\n",
        "2. In the Configuration section, ensure that your model deployment is selected.\n",
        "\n",
        "3. In the Assistant setup area, select the default system message template to set the context for the chat session. The default system message is You are an AI assistant that helps people find information."
      ]
    },
    {
      "cell_type": "markdown",
      "metadata": {
        "id": "rsbdK9VKcS4g"
      },
      "source": [
        "#### Example 1\n",
        "\n",
        "Try:\n",
        "\n",
        "    What kind of article is this?\n",
        "    ---\n",
        "    Severe drought likely in California\n",
        "\n",
        "    Millions of California residents are bracing for less water and dry lawns as drought threatens to leave a large swath of the region with a growing water shortage.\n",
        "\n",
        "    In a remarkable indication of drought severity, officials in Southern California have declared a first-of-its-kind action limiting outdoor water use to one day a week for nearly 8 million residents.\n",
        "\n",
        "    Much remains to be determined about how daily life will change as people adjust to a drier normal. But officials are warning the situation is dire and could lead to even more severe limits later in the year.\n",
        "\n",
        "\n",
        "\n",
        "Now:\n",
        "\n",
        "In the Assistant setup section change the system message to\n",
        "\n",
        "        You are a news aggregator that categorizes news articles.\n",
        "\n",
        "Under the new system message, select the Add an example button. Add the following example.\n",
        "\n",
        "\n",
        "User:\n",
        "\n",
        "\n",
        "    What kind of article is this?\n",
        "    ---\n",
        "    New York Baseballers Wins Big Against Chicago\n",
        "\n",
        "    New York Baseballers mounted a big 5-0 shutout against the Chicago Cyclones last night, solidifying their win with a 3 run homerun late in the bottom of the 7th inning.\n",
        "\n",
        "    Pitcher Mario Rogers threw 96 pitches with only two hits for New York, marking his best performance this year.\n",
        "\n",
        "    The Chicago Cyclones' two hits came in the 2nd and the 5th innings but were unable to get the runner home to score.\n",
        "\n",
        "\n",
        "Assistant:\n",
        "\n",
        "    Sports\n",
        "\n",
        "\n",
        "\n",
        "Add another example with the following text.\n",
        "\n",
        "User:\n",
        "\n",
        "    Categorize this article:\n",
        "    ---\n",
        "    Joyous moments at the Oscars\n",
        "\n",
        "    The Oscars this past week where quite something!\n",
        "\n",
        "    Though a certain scandal might have stolen the show, this year's Academy Awards were full of moments that filled us with joy and even moved us to tears.\n",
        "    These actors and actresses delivered some truly emotional performances, along with some great laughs, to get us through the winter.\n",
        "\n",
        "    From Robin Kline's history-making win to a full performance by none other than Casey Jensen herself, don't miss tomorrows rerun of all the festivities.\n",
        "\n",
        "\n",
        "Assistant:\n",
        "\n",
        "    Entertainment\n",
        "\n",
        "Use the Save changes button at the top of the Assistent setup section to update the system message.\n",
        "\n",
        "In the Chat session section, resubmit the following prompt:\n",
        "\n",
        "    What kind of article is this?\n",
        "    ---\n",
        "    Severe drought likely in California\n",
        "\n",
        "    Millions of California residents are bracing for less water and dry lawns as drought threatens to leave a large swath of the region with a growing water shortage.\n",
        "\n",
        "    In a remarkable indication of drought severity, officials in Southern California have declared a first-of-its-kind action limiting outdoor water use to one day a week for nearly 8 million residents.\n",
        "\n",
        "    Much remains to be determined about how daily life will change as people adjust to a drier normal. But officials are warning the situation is dire and could lead to even more severe limits later in the year.\n",
        "    The combination of a more specific system message and some examples of expected queries and responses results in a consistant format for the results.\n"
      ]
    },
    {
      "cell_type": "markdown",
      "metadata": {
        "id": "m7rWr-3wcS4h"
      },
      "source": [
        "#### Example 2\n",
        "\n",
        "In the Assistant setup section, change the system message back to the default template, which should be\n",
        "\n",
        "    You are an AI assistant that helps people find information. with no examples.\n",
        "    \n",
        "Then save the changes.\n",
        "\n",
        "In the Chat session section, submit the following prompt:\n",
        "\n",
        "    # 1. Create a list of animals\n",
        "    # 2. Create a list of whimsical names for those animals\n",
        "    # 3. Combine them randomly into a list of 25 animal and name pairs\n",
        "\n",
        "The model will likely respond with an answer to satisfy the prompt, split into a numbered list.\n",
        "\n",
        "\n",
        "This is an appropriate response, but suppose what you actually wanted was for the model to write a Python program that performs the tasks you described?\n",
        "\n",
        "Change the system message to\n",
        "    \n",
        "    You are a coding assistant helping write python code. and click Save changes\n",
        "\n",
        "Resubmit the following prompt to the model:\n",
        "\n",
        "    # 1. Create a list of animals\n",
        "    # 2. Create a list of whimsical names for those animals\n",
        "    # 3. Combine them randomly into a list of 25 animal and name pairs\n",
        "The model should correctly respond with python code doing what the comments requested."
      ]
    },
    {
      "cell_type": "code",
      "execution_count": null,
      "metadata": {
        "id": "KB85L9Fs6jMM"
      },
      "outputs": [],
      "source": [
        "# !pip install openai\n"
      ]
    },
    {
      "cell_type": "code",
      "execution_count": null,
      "metadata": {
        "id": "14vB9ZulcS4i"
      },
      "outputs": [],
      "source": [
        "import openai\n",
        "import os\n",
        "from openai import AzureOpenAI"
      ]
    },
    {
      "cell_type": "code",
      "execution_count": null,
      "metadata": {
        "id": "noj0x1VU6zlA"
      },
      "outputs": [],
      "source": [
        "api_key = \"XXXXXXXXXXXXXXXX488252f\"\n",
        "api_version = \"2023-07-01-preview\" # \"2023-05-15\"\n",
        "azure_endpoint = \"https://XXXXXX.openai.azure.com/\"\n",
        "model_name = \"XXXXX\""
      ]
    },
    {
      "cell_type": "code",
      "execution_count": null,
      "metadata": {
        "id": "__IGY4qOcS4j"
      },
      "outputs": [],
      "source": [
        "from openai import AzureOpenAI\n",
        "\n",
        "# gets the API Key from environment variable AZURE_OPENAI_API_KEY\n",
        "client = AzureOpenAI(\n",
        "    # https://learn.microsoft.com/en-us/azure/ai-services/openai/reference#rest-api-versioning\n",
        "    api_version=api_version,\n",
        "    # https://learn.microsoft.com/en-us/azure/cognitive-services/openai/how-to/create-resource?pivots=web-portal#create-a-resource\n",
        "    azure_endpoint=azure_endpoint,\n",
        "    api_key = api_key,\n",
        "\n",
        ")"
      ]
    },
    {
      "cell_type": "code",
      "execution_count": null,
      "metadata": {
        "id": "9ByGWtw5cS4j",
        "outputId": "e6cd1b85-229d-4840-869b-c254cf454cdd"
      },
      "outputs": [
        {
          "name": "stdout",
          "output_type": "stream",
          "text": [
            "{\n",
            "  \"id\": \"chatcmpl-8YfkSX23hoFjv0FN7OTbrdzEkpf84\",\n",
            "  \"choices\": [\n",
            "    {\n",
            "      \"finish_reason\": \"stop\",\n",
            "      \"index\": 0,\n",
            "      \"logprobs\": null,\n",
            "      \"message\": {\n",
            "        \"content\": \"You can use the `os` module in Python to output all files in a directory. Here's an example of how to do it:\\n\\n```python\\nimport os\\n\\n# Replace 'path_to_directory' with the actual path to the directory\\ndirectory = 'path_to_directory'\\n\\n# Get a list of all files in the directory\\nfiles = os.listdir(directory)\\n\\n# Output all files in the directory\\nfor file in files:\\n    print(file)\\n```\\n\\nThis code will list all files in the directory specified by replacing `'path_to_directory'` with the actual path.\",\n",
            "        \"role\": \"assistant\",\n",
            "        \"function_call\": null,\n",
            "        \"tool_calls\": null\n",
            "      },\n",
            "      \"content_filter_results\": {\n",
            "        \"hate\": {\n",
            "          \"filtered\": false,\n",
            "          \"severity\": \"safe\"\n",
            "        },\n",
            "        \"self_harm\": {\n",
            "          \"filtered\": false,\n",
            "          \"severity\": \"safe\"\n",
            "        },\n",
            "        \"sexual\": {\n",
            "          \"filtered\": false,\n",
            "          \"severity\": \"safe\"\n",
            "        },\n",
            "        \"violence\": {\n",
            "          \"filtered\": false,\n",
            "          \"severity\": \"safe\"\n",
            "        }\n",
            "      }\n",
            "    }\n",
            "  ],\n",
            "  \"created\": 1703274324,\n",
            "  \"model\": \"gpt-35-turbo\",\n",
            "  \"object\": \"chat.completion\",\n",
            "  \"system_fingerprint\": \"fp_50a4261de5\",\n",
            "  \"usage\": {\n",
            "    \"completion_tokens\": 115,\n",
            "    \"prompt_tokens\": 19,\n",
            "    \"total_tokens\": 134\n",
            "  },\n",
            "  \"prompt_filter_results\": [\n",
            "    {\n",
            "      \"prompt_index\": 0,\n",
            "      \"content_filter_results\": {\n",
            "        \"hate\": {\n",
            "          \"filtered\": false,\n",
            "          \"severity\": \"safe\"\n",
            "        },\n",
            "        \"self_harm\": {\n",
            "          \"filtered\": false,\n",
            "          \"severity\": \"safe\"\n",
            "        },\n",
            "        \"sexual\": {\n",
            "          \"filtered\": false,\n",
            "          \"severity\": \"safe\"\n",
            "        },\n",
            "        \"violence\": {\n",
            "          \"filtered\": false,\n",
            "          \"severity\": \"safe\"\n",
            "        }\n",
            "      }\n",
            "    }\n",
            "  ]\n",
            "}\n"
          ]
        }
      ],
      "source": [
        "result = client.chat.completions.create(\n",
        "    model=model_name,  # e.g. gpt-35-instant\n",
        "    max_tokens=500,\n",
        "    temperature=0.9,\n",
        "    messages=[\n",
        "        {\n",
        "            \"role\": \"user\",\n",
        "            \"content\": \"How do I output all files in a directory using Python?\",\n",
        "        },\n",
        "    ],\n",
        ")\n",
        "print(result.model_dump_json(indent=2))"
      ]
    },
    {
      "cell_type": "code",
      "execution_count": null,
      "metadata": {
        "id": "zF-jQcqKcS4j",
        "outputId": "2d2869e6-88f8-436d-a76e-0793977540de"
      },
      "outputs": [
        {
          "name": "stdout",
          "output_type": "stream",
          "text": [
            "You can use the `os` module in Python to output all files in a directory. Here's an example of how to do it:\n",
            "\n",
            "```python\n",
            "import os\n",
            "\n",
            "# Replace 'path_to_directory' with the actual path to the directory\n",
            "directory = 'path_to_directory'\n",
            "\n",
            "# Get a list of all files in the directory\n",
            "files = os.listdir(directory)\n",
            "\n",
            "# Output all files in the directory\n",
            "for file in files:\n",
            "    print(file)\n",
            "```\n",
            "\n",
            "This code will list all files in the directory specified by replacing `'path_to_directory'` with the actual path.\n"
          ]
        }
      ],
      "source": [
        "print(result.choices[0].message.content)"
      ]
    },
    {
      "cell_type": "code",
      "execution_count": null,
      "metadata": {
        "id": "0WAxkVWZ7LRi"
      },
      "outputs": [],
      "source": [
        "# creating a function to get outcome\n",
        "\n",
        "\n",
        "def generate_content(prompt,model=model_name):\n",
        "  messages = [{\"role\":\"user\",\"content\":prompt}]\n",
        "  response = client.chat.completions.create(\n",
        "      model = model,\n",
        "      messages = messages,\n",
        "      temperature=0\n",
        "  )\n",
        "  return response.choices[0].message.content\n"
      ]
    },
    {
      "cell_type": "code",
      "execution_count": null,
      "metadata": {
        "colab": {
          "base_uri": "https://localhost:8080/",
          "height": 35
        },
        "id": "tLgNfQbz7xpQ",
        "outputId": "c4cd65e2-dd28-49b6-ecbf-efb48d0c0e48"
      },
      "outputs": [
        {
          "data": {
            "text/plain": [
              "\"```python\\nprint('Hello World')\\n```\""
            ]
          },
          "execution_count": 14,
          "metadata": {},
          "output_type": "execute_result"
        }
      ],
      "source": [
        "response = generate_content(\"Write a python code to print 'Hello World'\")\n",
        "print(response)"
      ]
    },
    {
      "cell_type": "markdown",
      "metadata": {
        "id": "Ij40o9G0ESfg"
      },
      "source": [
        "# Key guidelines for prompt engineering\n",
        "\n",
        "1. CCS: Clear, Concise and Specific instructions\n",
        "\n",
        "  a. Use proper delimeters\n",
        "      - Triple Quotes \"\"\"\n",
        "      - Triple backticks ```\n",
        "      - Triple Dashes ---\n",
        "      - Angle bracket <>\n",
        "      - xml tags \"< start> < /start>\"\n",
        "\n",
        "  b. be structured in content: Use Persona, Task, constraints, output format\n",
        "2. Give the model time to think\n"
      ]
    },
    {
      "cell_type": "markdown",
      "metadata": {
        "id": "SyGpCUafNffB"
      },
      "source": [
        "## component 1: Use proper delimeters\n"
      ]
    },
    {
      "cell_type": "code",
      "execution_count": null,
      "metadata": {
        "id": "rSkCESQV7-Iw",
        "outputId": "bca1d9c2-6ccc-4d1b-93d0-6e930194651e"
      },
      "outputs": [
        {
          "data": {
            "text/plain": [
              "'\\nSummarize the text delimited by triple backticks into a single sentence.\\n```\\nNorth Korean leader Kim Jong Un, currently visiting Russia, inspected several state-of-the-art systems deployed in the ongoing Ukraine war, including the Kinzhal hypersonic missile, supersonic bombers, and the latest weapons mounted on the MiG-31 missile carrier.\\nThis information was published by the Russian Ministry of Defense (RuMoD) on its official Telegram channel. The inspection of the next-generation missile system was also accompanied by a meeting with Russian Defense Minister Sergei Shoigu at the Knevichi airfield near Vladivostok in the Far East of Russia.\\n“At the Knevichi airfield, Russian Minister of Defense General of the Army Sergei Shoigu presented the Russian MiG-31I missile carrier with the latest weaponry – the Kinzhal hypersonic air-launched missile – to the leader of the Democratic People’s Republic of Korea Kim Jong-un,” the RuMoD said in a statement on Telegram.\\nBriefing the North Korean leader, Commander of the Long-Range Aviation of the Russian Aerospace Forces Lieutenant General Sergei Kobylash reported on the flight and technical characteristics of the Kinzhal hypersonic missile system. On top of that, he noted that the system includes a Mig-31I missile carrier equipped with the Kinzhal hypersonic aero-ballistic missile and a missile control system.\\n“This Russian aircraft system has no equivalent anywhere in the world and has shown to be very combat-effective,” the Russian MoD said in a statement emphasizing the deadly combination of MiG-31 and the Kinzhal hypersonic missiles. Russia has fired these missiles, touted as invincible by Russia, on Ukrainian targets several times during this bloody conflict.\\nAs he spoke with Shoigu and other military officials through interpreters about technical specifics, Kim looked at the Kinzhal missile, gestured, and asked questions about the jets’ capabilities.\\nThe inspection is significant as it comes amid heightened concerns in the West about a potential arms agreement that will be signed between the two of its adversaries, which have been inching closer to each other since the Russian invasion led to Moscow’s isolation.\\nhttps://twitter.com/i/status/1703110950822293981\\nWestern commentators believe Kim’s visit to Russia’s military and technical installations may have hinted at what he wants from Russia in return for giving ammunition to top off Putin’s depleting supplies. However, there is no information as to what systems the North Korean President would be interested in if an arms agreement is indeed in the works.\\nAccording to experts, prospective military cooperation between the two nations may entail initiatives to update North Korea’s obsolete air force, which was still dependent on jets from the Soviet Union in the 1980s. However, experts also believe that the Kinzhal and the MiG-31 inspection do not automatically translate into a deal.\\nKh-47M2 Kinzhal - Wikipedia\\nIndian Air Force veteran and military expert who keenly watches the Russian military, Squadron Leader Vijainder K. Thakur (retd.), explained to EurAsian Times, “Kinzhal is not just a missile that you can shoot at the adversary. It needs a launch platform that is expensive and difficult to operate. It needs intelligence for targeting. North Korea does not have MiG-31D. Since the heavy fighter is not in production, it is very doubtful that Russia can transfer it to North Korea.”\\nWhen it was pointed out that Russia is reportedly firing the Kinzhal from its Su-34 Fullback fighter bomber, Thakur retorted, “North Korea does not have Su 34. Russia has as yet not met its demand for its Su-34 frontline bomber. So, it is improbable.”\\nThe US has accused Kim of supplying weapons and ammunition, including shells and rockets, to support Putin’s conflict for months. Although the US claims that the guns won’t dramatically change the battlefield, they can still be used to shell Ukraine. More importantly, these sales could give North Korea a new source of income for a country whose economy is mainly cut off from international trade.\\nSome officials in the US as well as South Korea have warned that any such deal would be in contravention of the UN sanctions and would come at a heavy price.\\nCutting-Edge Systems Shown To North Korean Leader\\nThe North Korean leader was also shown an array of cutting-edge warplanes, out of which its strategic supersonic bombers particularly stood out. Bombers like Tu-160, Tu-95, and Tu-22 bombers that have been extensively deployed to launch cruise missiles were presented to Kim Jong Un.\\nIn addition, Kim was informed by Shoigu and Lt. Gen. Sergei Kobylash that the Tu-160 had just acquired brand-new cruise missiles with a 4,040-mile range. Shoigu pointed to the weapons bay and stated that each bomber had 12 missiles.\\nBesides the bombers, Kim also had the chance to see Russia’s fifth-generation stealth jet. The RuMoD noted that Kim also visited the Russian Marshal Shaposhnikov frigate to inspect the Su-35 and the Su-57 stealth combat fighter during a tour of a factory producing fighter jets and other aircraft types.\\n```\\n'"
            ]
          },
          "execution_count": 16,
          "metadata": {},
          "output_type": "execute_result"
        }
      ],
      "source": [
        "\n",
        "text = \"\"\"\n",
        "North Korean leader Kim Jong Un, currently visiting Russia, inspected several state-of-the-art systems deployed in the ongoing Ukraine war, including the Kinzhal hypersonic missile, supersonic bombers, and the latest weapons mounted on the MiG-31 missile carrier.\n",
        "This information was published by the Russian Ministry of Defense (RuMoD) on its official Telegram channel. The inspection of the next-generation missile system was also accompanied by a meeting with Russian Defense Minister Sergei Shoigu at the Knevichi airfield near Vladivostok in the Far East of Russia.\n",
        "“At the Knevichi airfield, Russian Minister of Defense General of the Army Sergei Shoigu presented the Russian MiG-31I missile carrier with the latest weaponry – the Kinzhal hypersonic air-launched missile – to the leader of the Democratic People’s Republic of Korea Kim Jong-un,” the RuMoD said in a statement on Telegram.\n",
        "Briefing the North Korean leader, Commander of the Long-Range Aviation of the Russian Aerospace Forces Lieutenant General Sergei Kobylash reported on the flight and technical characteristics of the Kinzhal hypersonic missile system. On top of that, he noted that the system includes a Mig-31I missile carrier equipped with the Kinzhal hypersonic aero-ballistic missile and a missile control system.\n",
        "“This Russian aircraft system has no equivalent anywhere in the world and has shown to be very combat-effective,” the Russian MoD said in a statement emphasizing the deadly combination of MiG-31 and the Kinzhal hypersonic missiles. Russia has fired these missiles, touted as invincible by Russia, on Ukrainian targets several times during this bloody conflict.\n",
        "As he spoke with Shoigu and other military officials through interpreters about technical specifics, Kim looked at the Kinzhal missile, gestured, and asked questions about the jets’ capabilities.\n",
        "The inspection is significant as it comes amid heightened concerns in the West about a potential arms agreement that will be signed between the two of its adversaries, which have been inching closer to each other since the Russian invasion led to Moscow’s isolation.\n",
        "https://twitter.com/i/status/1703110950822293981\n",
        "Western commentators believe Kim’s visit to Russia’s military and technical installations may have hinted at what he wants from Russia in return for giving ammunition to top off Putin’s depleting supplies. However, there is no information as to what systems the North Korean President would be interested in if an arms agreement is indeed in the works.\n",
        "According to experts, prospective military cooperation between the two nations may entail initiatives to update North Korea’s obsolete air force, which was still dependent on jets from the Soviet Union in the 1980s. However, experts also believe that the Kinzhal and the MiG-31 inspection do not automatically translate into a deal.\n",
        "Kh-47M2 Kinzhal - Wikipedia\n",
        "Indian Air Force veteran and military expert who keenly watches the Russian military, Squadron Leader Vijainder K. Thakur (retd.), explained to EurAsian Times, “Kinzhal is not just a missile that you can shoot at the adversary. It needs a launch platform that is expensive and difficult to operate. It needs intelligence for targeting. North Korea does not have MiG-31D. Since the heavy fighter is not in production, it is very doubtful that Russia can transfer it to North Korea.”\n",
        "When it was pointed out that Russia is reportedly firing the Kinzhal from its Su-34 Fullback fighter bomber, Thakur retorted, “North Korea does not have Su 34. Russia has as yet not met its demand for its Su-34 frontline bomber. So, it is improbable.”\n",
        "The US has accused Kim of supplying weapons and ammunition, including shells and rockets, to support Putin’s conflict for months. Although the US claims that the guns won’t dramatically change the battlefield, they can still be used to shell Ukraine. More importantly, these sales could give North Korea a new source of income for a country whose economy is mainly cut off from international trade.\n",
        "Some officials in the US as well as South Korea have warned that any such deal would be in contravention of the UN sanctions and would come at a heavy price.\n",
        "Cutting-Edge Systems Shown To North Korean Leader\n",
        "The North Korean leader was also shown an array of cutting-edge warplanes, out of which its strategic supersonic bombers particularly stood out. Bombers like Tu-160, Tu-95, and Tu-22 bombers that have been extensively deployed to launch cruise missiles were presented to Kim Jong Un.\n",
        "In addition, Kim was informed by Shoigu and Lt. Gen. Sergei Kobylash that the Tu-160 had just acquired brand-new cruise missiles with a 4,040-mile range. Shoigu pointed to the weapons bay and stated that each bomber had 12 missiles.\n",
        "Besides the bombers, Kim also had the chance to see Russia’s fifth-generation stealth jet. The RuMoD noted that Kim also visited the Russian Marshal Shaposhnikov frigate to inspect the Su-35 and the Su-57 stealth combat fighter during a tour of a factory producing fighter jets and other aircraft types.\n",
        "\"\"\"\n",
        "\n",
        "prompt = f\"\"\"\n",
        "Summarize the text delimited by triple backticks into a single sentence.\n",
        "```{text}```\n",
        "\"\"\"\n",
        "prompt"
      ]
    },
    {
      "cell_type": "code",
      "execution_count": null,
      "metadata": {
        "colab": {
          "base_uri": "https://localhost:8080/"
        },
        "id": "EzTSEbwLF44U",
        "outputId": "50d8b6d9-a03c-4ebc-adb6-9c9a533ced44"
      },
      "outputs": [
        {
          "name": "stdout",
          "output_type": "stream",
          "text": [
            "Kim Jong Un, during his visit to Russia, inspected state-of-the-art systems deployed in the ongoing Ukraine war, including the Kinzhal hypersonic missile, supersonic bombers, and the latest weapons mounted on the MiG-31 missile carrier, with the potential for a military cooperation agreement between North Korea and Russia.\n"
          ]
        }
      ],
      "source": [
        "response = generate_content(prompt)\n",
        "print(response)"
      ]
    },
    {
      "cell_type": "code",
      "execution_count": null,
      "metadata": {
        "id": "5e-Xz0LaGObG"
      },
      "outputs": [],
      "source": []
    },
    {
      "cell_type": "markdown",
      "metadata": {
        "id": "b_xtLoDINhff"
      },
      "source": [
        "## component 2: Ask for the output in a specific format\n"
      ]
    },
    {
      "cell_type": "code",
      "execution_count": null,
      "metadata": {
        "id": "LFinIiL5cS4p"
      },
      "outputs": [],
      "source": [
        "prompt = f\"\"\"Write a table in markdown with 6 animals in it, with their genus and species\"\"\"\n",
        "response = generate_content(prompt)\n",
        "print(response)"
      ]
    },
    {
      "cell_type": "code",
      "execution_count": null,
      "metadata": {
        "id": "GV-WtC6DNnTf"
      },
      "outputs": [],
      "source": [
        "# Task , format\n",
        "prompt = f\"\"\"\n",
        "Generate a list of 10 job titles related to Analytics and Software Engineering along with important skills and tools used.\n",
        "provide them in JSON format with the following  keys:\n",
        "job_id, job_title, job_skills, job_tools\n",
        "\"\"\"\n",
        "response = generate_content(prompt)"
      ]
    },
    {
      "cell_type": "code",
      "execution_count": null,
      "metadata": {
        "id": "dtxu5SY5OXEx",
        "outputId": "c367d80a-7226-4fe1-ed9b-c9b367848acf"
      },
      "outputs": [
        {
          "name": "stdout",
          "output_type": "stream",
          "text": [
            "{\n",
            "  \"jobs\": [\n",
            "    {\n",
            "      \"job_id\": 1,\n",
            "      \"job_title\": \"Data Analyst\",\n",
            "      \"job_skills\": [\"Statistical analysis\", \"Data visualization\", \"SQL\"],\n",
            "      \"job_tools\": [\"Tableau\", \"Power BI\", \"Python\"]\n",
            "    },\n",
            "    {\n",
            "      \"job_id\": 2,\n",
            "      \"job_title\": \"Business Intelligence Developer\",\n",
            "      \"job_skills\": [\"ETL processes\", \"Data warehousing\", \"Data modeling\"],\n",
            "      \"job_tools\": [\"Microsoft SQL Server\", \"Oracle BI\", \"Informatica\"]\n",
            "    },\n",
            "    {\n",
            "      \"job_id\": 3,\n",
            "      \"job_title\": \"Machine Learning Engineer\",\n",
            "      \"job_skills\": [\"Python programming\", \"Deep learning\", \"Algorithm development\"],\n",
            "      \"job_tools\": [\"TensorFlow\", \"Keras\", \"Scikit-learn\"]\n",
            "    },\n",
            "    {\n",
            "      \"job_id\": 4,\n",
            "      \"job_title\": \"Data Scientist\",\n",
            "      \"job_skills\": [\"Predictive modeling\", \"Data mining\", \"Statistical analysis\"],\n",
            "      \"job_tools\": [\"R programming\", \"SAS\", \"Hadoop\"]\n",
            "    },\n",
            "    {\n",
            "      \"job_id\": 5,\n",
            "      \"job_title\": \"Software Engineer\",\n",
            "      \"job_skills\": [\"Object-oriented programming\", \"Software development lifecycle\", \"Agile methodologies\"],\n",
            "      \"job_tools\": [\"Java\", \"C++\", \"Git\"]\n",
            "    },\n",
            "    {\n",
            "      \"job_id\": 6,\n",
            "      \"job_title\": \"DevOps Engineer\",\n",
            "      \"job_skills\": [\"Continuous integration/continuous deployment (CI/CD)\", \"Infrastructure as code\", \"Containerization\"],\n",
            "      \"job_tools\": [\"Docker\", \"Kubernetes\", \"Jenkins\"]\n",
            "    },\n",
            "    {\n",
            "      \"job_id\": 7,\n",
            "      \"job_title\": \"Data Engineer\",\n",
            "      \"job_skills\": [\"ETL processes\", \"Data modeling\", \"Database management\"],\n",
            "      \"job_tools\": [\"Apache Spark\", \"Hive\", \"Apache Kafka\"]\n",
            "    },\n",
            "    {\n",
            "      \"job_id\": 8,\n",
            "      \"job_title\": \"Quantitative Analyst\",\n",
            "      \"job_skills\": [\"Financial modeling\", \"Risk management\", \"Time series analysis\"],\n",
            "      \"job_tools\": [\"Matlab\", \"Bloomberg Terminal\", \"QuantLib\"]\n",
            "    },\n",
            "    {\n",
            "      \"job_id\": 9,\n",
            "      \"job_title\": \"Full Stack Developer\",\n",
            "      \"job_skills\": [\"Front-end development\", \"Back-end development\", \"Database management\"],\n",
            "      \"job_tools\": [\"JavaScript\", \"Node.js\", \"MongoDB\"]\n",
            "    },\n",
            "    {\n",
            "      \"job_id\": 10,\n",
            "      \"job_title\": \"Data Architect\",\n",
            "      \"job_skills\": [\"Data modeling\", \"Database design\", \"Data governance\"],\n",
            "      \"job_tools\": [\"Microsoft SQL Server\", \"Oracle Database\", \"Erwin Data Modeler\"]\n",
            "    }\n",
            "  ]\n",
            "}\n"
          ]
        }
      ],
      "source": [
        "print(response)"
      ]
    },
    {
      "cell_type": "code",
      "execution_count": null,
      "metadata": {
        "id": "mnp0q_V0OZvQ"
      },
      "outputs": [],
      "source": [
        "# Task , format\n",
        "prompt = f\"\"\"\n",
        "Generate a list of 10 job titles related to Analytics and Software Engineering along with important skills and tools used.\n",
        "provide them in CSV format with the following headers:\n",
        "job_id, job_title, job_skills, job_tools\n",
        "\"\"\"\n",
        "response = generate_content(prompt)"
      ]
    },
    {
      "cell_type": "code",
      "execution_count": null,
      "metadata": {
        "id": "ITVZTujKOswJ",
        "outputId": "21ad5914-6807-45cb-c6c8-7b990e783eb4"
      },
      "outputs": [
        {
          "name": "stdout",
          "output_type": "stream",
          "text": [
            "job_id, job_title, job_skills, job_tools\n",
            "1, Data Analyst, Data analysis, SQL, Python, R, Tableau, Power BI\n",
            "2, Business Intelligence Developer, Data modeling, ETL, SQL Server, Power BI, Tableau\n",
            "3, Machine Learning Engineer, Machine learning algorithms, Python, TensorFlow, PyTorch, scikit-learn\n",
            "4, Data Scientist, Statistical analysis, Python, R, SQL, Hadoop, Spark\n",
            "5, Software Engineer, Java, C++, Python, JavaScript, Git, Docker, Jenkins\n",
            "6, DevOps Engineer, Continuous integration/continuous deployment (CI/CD), Kubernetes, Docker, Jenkins, Ansible\n",
            "7, Data Engineer, ETL, SQL, Python, Apache Spark, Hadoop, Kafka\n",
            "8, Business Analyst, Requirements gathering, Process modeling, Microsoft Excel, Visio, Jira\n",
            "9, Systems Analyst, System design, UML, SQL, Microsoft Visio, Jira\n",
            "10, Quality Assurance Engineer, Test automation, Selenium, JUnit, TestNG, JIRA, Confluence\n"
          ]
        }
      ],
      "source": [
        "print(response)"
      ]
    },
    {
      "cell_type": "code",
      "execution_count": null,
      "metadata": {
        "id": "loIN5Ys_OtnB"
      },
      "outputs": [],
      "source": [
        "# Task , format, constraint\n",
        "prompt = f\"\"\"\n",
        "Generate a list of 10 job titles related to Analytics and Software Engineering along with important skills and tools used.\n",
        "provide them in CSV format with the following headers:\n",
        "job_id, job_title, job_skills, job_tools\n",
        "In a single column such as job_skills and job_tools, keep multiple values separated by a semicolon.\n",
        "\"\"\"\n",
        "response = generate_content(prompt)"
      ]
    },
    {
      "cell_type": "code",
      "execution_count": null,
      "metadata": {
        "id": "5NFwrZ0hPbqD",
        "outputId": "04aeee2f-1c92-432d-f12b-3e344e31a35c"
      },
      "outputs": [
        {
          "name": "stdout",
          "output_type": "stream",
          "text": [
            "job_id, job_title, job_skills, job_tools\n",
            "1, Data Analyst, SQL; Python; Data Visualization; Statistical Analysis, Tableau; Power BI; Excel\n",
            "2, Software Engineer, Java; C++; Python; Agile Development; Problem Solving, Git; Jenkins; JIRA\n",
            "3, Business Intelligence Analyst, SQL; Data Warehousing; ETL; Data Modeling, Microsoft SQL Server; Informatica; SAP BusinessObjects\n",
            "4, Machine Learning Engineer, Python; R; TensorFlow; Deep Learning; Natural Language Processing, Jupyter Notebook; AWS SageMaker; PyTorch\n",
            "5, Data Scientist, Python; R; Machine Learning; Statistical Analysis, Hadoop; Spark; SAS\n",
            "6, DevOps Engineer, Linux; Docker; Kubernetes; Continuous Integration/Continuous Deployment (CI/CD), Ansible; Jenkins; GitLab\n",
            "7, Data Engineer, SQL; ETL; Data Warehousing; Big Data Technologies, Apache Hadoop; Apache Spark; Apache Kafka\n",
            "8, Quality Assurance Analyst, Test Automation; Agile Testing; Software Testing Life Cycle (STLC), Selenium; JIRA; TestRail\n",
            "9, Business Analyst, Requirements Gathering; Process Mapping; Agile Methodology, Microsoft Visio; Lucidchart; JIRA\n",
            "10, Full Stack Developer, JavaScript; HTML/CSS; Node.js; React; RESTful APIs, MongoDB; Express.js; Git\n"
          ]
        }
      ],
      "source": [
        "print(response)"
      ]
    },
    {
      "cell_type": "code",
      "execution_count": null,
      "metadata": {
        "id": "oLt0pk3APfps"
      },
      "outputs": [],
      "source": [
        "with open(\"job_data.csv\",'w') as file:\n",
        "  file.write(response)"
      ]
    },
    {
      "cell_type": "code",
      "execution_count": null,
      "metadata": {
        "id": "o1fNlBgbP1kR",
        "outputId": "78a0579b-6421-41ec-e19f-ef68f9dc4372"
      },
      "outputs": [
        {
          "name": "stdout",
          "output_type": "stream",
          "text": [
            "Step 1: Get some warm water and mix it with detergent.\n",
            "Step 2: Put the dirty clothes in the water and let them soak for some time.\n",
            "Step 3: Remove the clothes from the water and rub any remaining stains with a soft brush.\n",
            "Step 4: Rinse the clothes to remove the detergent.\n",
            "Step 5: Hang the clothes on a rope to dry.\n",
            "Step 6: Enjoy your clean clothes!\n"
          ]
        }
      ],
      "source": [
        "# asking for a specific format\n",
        "text = \"\"\"\n",
        "Washing clothes without washing machines is easy!\n",
        "First you need to get some warm water. Mix the warm water with some detergent. Second you can put the dirty clothes in it and let it stay wet for some time.\n",
        "During this period the stains will get loose and mixed with water.\n",
        "thereafter you can take clothes out, rub the dirt/stains with a soft brush to remove the stains if any.\n",
        "get the clothes mixed with water to get the detergent out of it. and then put it for drying on a rope.\n",
        "Enjoy the clean clothes.\n",
        "\"\"\"\n",
        "\n",
        "prompt = f\"\"\"\n",
        "you will be provided with some text delimited by triple backticks. Rewrite those into a set of instructions in the following format:\n",
        "\n",
        "Step 1: ...\n",
        "Step 2: ....\n",
        "..\n",
        "Step N:...\n",
        "\n",
        "```{text}\n",
        "```\n",
        "\"\"\"\n",
        "response = generate_content(prompt)\n",
        "print(response)\n"
      ]
    },
    {
      "cell_type": "code",
      "execution_count": null,
      "metadata": {
        "id": "I-I0CzPKTyfd",
        "outputId": "bc46e27a-3eee-444f-d9f9-cd57687e2941"
      },
      "outputs": [
        {
          "name": "stdout",
          "output_type": "stream",
          "text": [
            "Step 1: Observe the morning weather and the sun's appearance.\n",
            "Step 2: Take note of the pleasant weather and the wind.\n",
            "Step 3: Enjoy the overall experience of the day.\n"
          ]
        }
      ],
      "source": [
        "# asking for a specific format\n",
        "text = \"\"\"\n",
        "THe morning today is amazing, the sun is looking bright in between clouds, the weather is pleasent and the wind is mindblowing. on a whole i am loving the day today.\n",
        "\"\"\"\n",
        "\n",
        "prompt = f\"\"\"\n",
        "you will be provided with some text delimited by triple backticks. Rewrite those into a set of instructions in the following format:\n",
        "\n",
        "Step 1: ...\n",
        "Step 2: ....\n",
        "..\n",
        "Step N:...\n",
        "\n",
        "```{text}\n",
        "```\n",
        "\"\"\"\n",
        "response = generate_content(prompt)\n",
        "print(response)\n"
      ]
    },
    {
      "cell_type": "code",
      "execution_count": null,
      "metadata": {
        "colab": {
          "base_uri": "https://localhost:8080/"
        },
        "id": "GTuKaTEeUVWE",
        "outputId": "74820bc0-b751-4970-ae72-aab9749e7a6c"
      },
      "outputs": [
        {
          "name": "stdout",
          "output_type": "stream",
          "text": [
            "Step 1: Get some warm water.\n",
            "Step 2: Mix the warm water with some detergent.\n",
            "Step 3: Put the dirty clothes in the water and let it stay wet for some time.\n",
            "Step 4: Take the clothes out and rub the dirt/stains with a soft brush to remove any stains.\n",
            "Step 5: Rinse the clothes to get the detergent out.\n",
            "Step 6: Put the clothes for drying on a rope.\n",
            "Step 7: Enjoy the clean clothes.\n"
          ]
        }
      ],
      "source": [
        "# asking for a specific format\n",
        "text = \"\"\"\n",
        "Washing clothes without washing machines is easy!\n",
        "First you need to get some warm water. Mix the warm water with some detergent. Second you can put the dirty clothes in it and let it stay wet for some time.\n",
        "During this period the stains will get loose and mixed with water.\n",
        "thereafter you can take clothes out, rub the dirt/stains with a soft brush to remove the stains if any.\n",
        "get the clothes mixed with water to get the detergent out of it. and then put it for drying on a rope.\n",
        "Enjoy the clean clothes.\n",
        "\"\"\"\n",
        "\n",
        "prompt = f\"\"\"\n",
        "you will be provided with some text delimited by triple backticks.\n",
        "Rewrite those into a set of instructions in the following format only if contains a sequence of instructions:\n",
        "\n",
        "Step 1: ...\n",
        "Step 2: ....\n",
        "..\n",
        "Step N:...\n",
        "\n",
        "```{text}\n",
        "```\n",
        "\n",
        "if the text does not contain a sequence of instructions, then simply write 'No steps provided'\n",
        "\"\"\"\n",
        "response = generate_content(prompt)\n",
        "print(response)\n"
      ]
    },
    {
      "cell_type": "code",
      "execution_count": null,
      "metadata": {
        "colab": {
          "base_uri": "https://localhost:8080/"
        },
        "id": "nAZGUBpTUrgv",
        "outputId": "abf6a8f9-c40a-4847-d591-3ed225417f06"
      },
      "outputs": [
        {
          "name": "stdout",
          "output_type": "stream",
          "text": [
            "No steps provided\n"
          ]
        }
      ],
      "source": [
        "# asking for a specific format\n",
        "text = \"\"\"\n",
        "THe morning today is amazing, the sun is looking bright in between clouds, the weather is pleasent and the wind is mindblowing. on a whole i am loving the day today.\n",
        "\"\"\"\n",
        "\n",
        "prompt = f\"\"\"\n",
        "you will be provided with some text delimited by triple backticks.\n",
        "Rewrite those into a set of instructions in the following format only if contains a sequence of instructions:\n",
        "\n",
        "Step 1: ...\n",
        "Step 2: ....\n",
        "..\n",
        "Step N:...\n",
        "\n",
        "```{text}\n",
        "```\n",
        "\n",
        "if the text does not contain a sequence of instructions, then simply write 'No steps provided'\n",
        "\"\"\"\n",
        "response = generate_content(prompt)\n",
        "print(response)\n"
      ]
    },
    {
      "cell_type": "code",
      "execution_count": null,
      "metadata": {
        "colab": {
          "base_uri": "https://localhost:8080/"
        },
        "id": "jZH81zvSUxa3",
        "outputId": "58fb5050-9b78-4538-893a-3c81f72db44b"
      },
      "outputs": [
        {
          "name": "stdout",
          "output_type": "stream",
          "text": [
            "The student's solution is correct. The total cost for the first year of operations as a function of the number of square feet is indeed 450x + 100,000.\n"
          ]
        }
      ],
      "source": [
        "# making model perform its own computations/analysis\n",
        "prompt = f\"\"\"\n",
        "Determine if the student's solution is correct or not.\n",
        "\n",
        "Question:\n",
        "I'm building a solar power installation and I need \\\n",
        " help working out the financials.\n",
        "- Land costs $100 / square foot\n",
        "- I can buy solar panels for $250 / square foot\n",
        "- I negotiated a contract for maintenance that will cost \\\n",
        "me a flat $100k per year, and an additional $10 / square \\\n",
        "foot\n",
        "What is the total cost for the first year of operations\n",
        "as a function of the number of square feet.\n",
        "\n",
        "Student's Solution:\n",
        "Let x be the size of the installation in square feet.\n",
        "Costs:\n",
        "1. Land cost: 100x\n",
        "2. Solar panel cost: 250x\n",
        "3. Maintenance cost: 100,000 + 100x\n",
        "Total cost: 100x + 250x + 100,000 + 100x = 450x + 100,000\n",
        "\"\"\"\n",
        "\n",
        "response = generate_content(prompt)\n",
        "print(response)"
      ]
    },
    {
      "cell_type": "code",
      "execution_count": null,
      "metadata": {
        "colab": {
          "base_uri": "https://localhost:8080/"
        },
        "id": "VX-ogLGCaKa-",
        "outputId": "3036c5bb-e302-4fed-c321-281ed23cae93"
      },
      "outputs": [
        {
          "name": "stdout",
          "output_type": "stream",
          "text": [
            "To calculate the total cost for the first year of operations as a function of the number of square feet, we need to add up the costs of the land, solar panels, and maintenance.\n",
            "\n",
            "Costs:\n",
            "1. Land cost: $100 * x\n",
            "2. Solar panel cost: $250 * x\n",
            "3. Maintenance cost: $100,000 + $10 * x\n",
            "\n",
            "Total cost: $100x + $250x + $100,000 + $10x = $360x + $100,000\n",
            "\n",
            "Is the student's solution the same as actual solution just calculated:\n",
            "```\n",
            "No\n",
            "```\n",
            "Student grade:\n",
            "```\n",
            "Incorrect\n",
            "```\n"
          ]
        }
      ],
      "source": [
        "# making model perform its own computations/analysis\n",
        "prompt = f\"\"\"\n",
        "Your task is to determine if the student's solution \\\n",
        "is correct or not.\n",
        "To solve the problem do the following:\n",
        "- First, work out your own solution to the problem.\n",
        "- Then compare your solution to the student's solution \\\n",
        "and evaluate if the student's solution is correct or not.\n",
        "Don't decide if the student's solution is correct until\n",
        "you have done the problem yourself.\n",
        "\n",
        "Use the following format:\n",
        "Question:\n",
        "```\n",
        "question here\n",
        "```\n",
        "Student's solution:\n",
        "```\n",
        "student's solution here\n",
        "```\n",
        "Actual solution:\n",
        "```\n",
        "steps to work out the solution and your solution here\n",
        "```\n",
        "Is the student's solution the same as actual solution \\\n",
        "just calculated:\n",
        "```\n",
        "yes or no\n",
        "```\n",
        "Student grade:\n",
        "```\n",
        "correct or incorrect\n",
        "```\n",
        "\n",
        "Question:\n",
        "```\n",
        "I'm building a solar power installation and I need help \\\n",
        "working out the financials.\n",
        "- Land costs $100 / square foot\n",
        "- I can buy solar panels for $250 / square foot\n",
        "- I negotiated a contract for maintenance that will cost \\\n",
        "me a flat $100k per year, and an additional $10 / square \\\n",
        "foot\n",
        "What is the total cost for the first year of operations \\\n",
        "as a function of the number of square feet.\n",
        "```\n",
        "Student's solution:\n",
        "```\n",
        "Let x be the size of the installation in square feet.\n",
        "Costs:\n",
        "1. Land cost: 100x\n",
        "2. Solar panel cost: 250x\n",
        "3. Maintenance cost: 100,000 + 100x\n",
        "Total cost: 100x + 250x + 100,000 + 100x = 450x + 100,000\n",
        "```\n",
        "Actual solution:\n",
        "\"\"\"\n",
        "\n",
        "response = generate_content(prompt)\n",
        "print(response)"
      ]
    },
    {
      "cell_type": "markdown",
      "metadata": {
        "id": "pcBE11_6vwJd"
      },
      "source": [
        "## Few Shot Prompting\n",
        "\n",
        "Here, the model is given a few examples (shots) to guide its response. By providing context or previous instances, the model can better understand and generate the desired output. For example, showing a model several examples of translated sentences before asking it to translate a new one.\n"
      ]
    },
    {
      "cell_type": "code",
      "execution_count": null,
      "metadata": {
        "id": "1DpqkFzDvsTe",
        "outputId": "b95cf53e-af74-4847-ba22-a0cd839047fd"
      },
      "outputs": [
        {
          "name": "stdout",
          "output_type": "stream",
          "text": [
            "Child: Grandma, can you tell me a story from when you were a little girl?\n",
            "\n",
            "Grandparent: Of course, sweetie. Let me tell you about the time when I was your age and I went on a big adventure with my friends.\n",
            "\n",
            "Child: Wow, that sounds exciting! What happened?\n",
            "\n",
            "Grandparent: Well, we decided to explore the woods near our house. We packed some snacks and set off on our adventure. We saw so many beautiful trees and flowers, and we even found a little stream where we skipped rocks.\n",
            "\n",
            "Child: That sounds like so much fun! Did you see any animals?\n",
            "\n",
            "Grandparent: Yes, we saw some birds and squirrels, and we even spotted a deer in the distance. It was such a magical experience being out in nature.\n",
            "\n",
            "Child: I wish I could have been there with you, Grandma. It sounds amazing.\n",
            "\n",
            "Grandparent: I'm sure we can go on our own adventure together someday, sweetie. There's so much to explore and discover in the world around us.\n",
            "\n",
            "Child: I can't wait, Grandma. Thank you for sharing your story with me.\n",
            "\n",
            "Grandparent: You're welcome, my dear. I love sharing my memories with you.\n"
          ]
        }
      ],
      "source": [
        "# zero shot prompting\n",
        "prompt = f\"\"\"\n",
        "\n",
        "Create a conversation story between child and grandparent.\n",
        "\"\"\"\n",
        "response = generate_content(prompt)\n",
        "print(response)"
      ]
    },
    {
      "cell_type": "code",
      "execution_count": null,
      "metadata": {
        "colab": {
          "base_uri": "https://localhost:8080/"
        },
        "id": "8SurLNqfa6wi",
        "outputId": "49d821fb-5add-4b67-c386-11b7eac04d17"
      },
      "outputs": [
        {
          "name": "stdout",
          "output_type": "stream",
          "text": [
            "<grandma>: Resilience is like a tree standing tall and strong, even after enduring strong winds and storms. It's the ability to bounce back and keep growing, no matter what challenges come your way.\n"
          ]
        }
      ],
      "source": [
        "# few shot prompting\n",
        "prompt = f\"\"\"\n",
        "your task is to answer in a consistent sytle:\n",
        "\n",
        "<child>: Teach me about patience.\n",
        "<grandma>: Patience is like waiting for whole day to see the moon in the evening and then sleeping after having a look at it.\n",
        "\n",
        "<child>\" Teach me about resilience.\n",
        "\"\"\"\n",
        "response = generate_content(prompt)\n",
        "print(response)"
      ]
    },
    {
      "cell_type": "markdown",
      "metadata": {
        "id": "gN74FFLxcS4u"
      },
      "source": [
        "#### Few shot prompting with role setup"
      ]
    },
    {
      "cell_type": "code",
      "execution_count": null,
      "metadata": {
        "id": "QywmsdzkcS4v"
      },
      "outputs": [],
      "source": [
        "result = client.chat.completions.create(\n",
        "    model=model_name,  # e.g. gpt-35-instant\n",
        "    max_tokens=200,\n",
        "    temperature=0.9,\n",
        "    messages=[\n",
        "        {\"role\": \"system\", \"content\": \"You are a helpful assistant.\"},\n",
        "        {\"role\": \"user\", \"content\": \"That was an awesome experience\"},\n",
        "        {\"role\": \"assistant\", \"content\": \"positive\"},\n",
        "        {\"role\": \"user\", \"content\": \"I won't do that again\"},\n",
        "        {\"role\": \"assistant\", \"content\": \"negative\"},\n",
        "        {\"role\": \"user\", \"content\": \"That was not worth my time\"},\n",
        "        {\"role\": \"assistant\", \"content\": \"negative\"},\n",
        "        {\"role\": \"user\", \"content\": \"You can't miss this\"}\n",
        "    ],\n",
        ")\n",
        "print(result.model_dump_json(indent=2))"
      ]
    },
    {
      "cell_type": "markdown",
      "metadata": {
        "id": "6osQJS0czIu-"
      },
      "source": [
        "### Component: ALlow the model to process the outcome progressively"
      ]
    },
    {
      "cell_type": "code",
      "execution_count": null,
      "metadata": {
        "id": "SGtXe-NfwsW0",
        "outputId": "f4685fc1-d6db-4b44-9a59-45dc6283a626"
      },
      "outputs": [
        {
          "name": "stdout",
          "output_type": "stream",
          "text": [
            "Amazing morning with bright sun and pleasant weather. Loving the day. \n",
            "Names: morning, sun, weather, wind, day\n",
            "\n",
            "French: \n",
            "Matin incroyable avec soleil brillant et temps agréable. J'adore la journée.\n",
            "Noms: matin, soleil, temps, vent, journée\n",
            "\n",
            "JSON output:\n",
            "{\n",
            "  \"summary\": \"Amazing morning with bright sun and pleasant weather. Loving the day.\",\n",
            "  \"names\": [\"morning\", \"sun\", \"weather\", \"wind\", \"day\"]\n",
            "}\n"
          ]
        }
      ],
      "source": [
        "text = \"\"\"\n",
        "THe morning today is amazing, the sun is looking bright in between clouds, the weather is pleasent and the wind is mindblowing. on a whole i am loving the day today.\n",
        "\"\"\"\n",
        "\n",
        "prompt = f\"\"\" summarize the below text in 15 words, translate to french and list each name in the french summary, also createa json output.\n",
        "```{text}```\n",
        "\"\"\"\n",
        "\n",
        "response = generate_content(prompt)\n",
        "print(response)\n"
      ]
    },
    {
      "cell_type": "code",
      "execution_count": null,
      "metadata": {
        "id": "ic51u_OxzGQN",
        "outputId": "f5a3bc7e-6a10-4ff4-e858-90b9ac6c28d1"
      },
      "outputs": [
        {
          "name": "stdout",
          "output_type": "stream",
          "text": [
            "1. Morning is amazing, bright sun, pleasant weather, mindblowing wind, loving day. Met Jenny, good time.\n",
            "2. Le matin est incroyable, soleil brillant, temps agréable, vent époustouflant. Jenny, bon moment.\n",
            "3. Jenny\n",
            "4. {\n",
            "   \"french_summary\": \"Le matin est incroyable, soleil brillant, temps agréable, vent époustouflant. Jenny, bon moment.\",\n",
            "   \"num_names\": 1\n",
            "}\n"
          ]
        }
      ],
      "source": [
        "text = \"\"\"\n",
        "THe morning today is amazing, the sun is looking bright in between clouds, the weather is pleasent and the wind is mindblowing. on a whole i am loving the day today.\n",
        "I met Jenny today and we spent good time.\n",
        "\"\"\"\n",
        "\n",
        "prompt = f\"\"\"\n",
        "Perform the following tasks:\n",
        "1. Summarize the following text delimited by triple backticks in 15 words.\n",
        "2. translate the summary to French\n",
        "3. LIst each name in the french summary\n",
        "4. Output a json object that contains the following keys: french_summary, num_names.\n",
        "\n",
        "Text:\n",
        "```{text}```\n",
        "\"\"\"\n",
        "\n",
        "response = generate_content(prompt)\n",
        "print(response)\n"
      ]
    },
    {
      "cell_type": "code",
      "execution_count": null,
      "metadata": {
        "colab": {
          "base_uri": "https://localhost:8080/"
        },
        "id": "-1WZs8Lg0SlZ",
        "outputId": "194c36f1-90b9-4382-9d37-9e2b00887b6c"
      },
      "outputs": [
        {
          "name": "stdout",
          "output_type": "stream",
          "text": [
            "Summary: Amazing morning with bright sun, pleasant weather, and mindblowing wind. Met Jenny today.\n",
            "Translation: Matin incroyable avec soleil brillant, temps agréable, vent époustouflant. J'ai rencontré Jenny.\n",
            "Names: Jenny\n",
            "Output JSON: \n",
            "{\n",
            "  \"french_summary\": \"Matin incroyable avec soleil brillant, temps agréable, vent époustouflant. J'ai rencontré Jenny.\",\n",
            "  \"num_names\": 1\n",
            "}\n"
          ]
        }
      ],
      "source": [
        "text = \"\"\"\n",
        "THe morning today is amazing, the sun is looking bright in between clouds, the weather is pleasent and the wind is mindblowing. on a whole i am loving the day today.\n",
        "I met Jenny today and we spent good time.\n",
        "\"\"\"\n",
        "\n",
        "prompt = f\"\"\"\n",
        "Perform the following tasks:\n",
        "1. Summarize the following text delimited by <> in 15 words.\n",
        "2. translate the summary to French\n",
        "3. LIst each name in the french summary\n",
        "4. Output a json object that contains the following keys: french_summary, num_names.\n",
        "\n",
        "Use the following format:\n",
        "Text: <text to summarize>\n",
        "Summary: <summary >\n",
        "Tranlation: <Summary translation>\n",
        "Names: <list of names>\n",
        "Output JSON: <json with summary and num_names>\n",
        "\n",
        "Text:\n",
        "<{text}>\n",
        "\"\"\"\n",
        "\n",
        "response = generate_content(prompt)\n",
        "print(response)\n"
      ]
    },
    {
      "cell_type": "code",
      "execution_count": null,
      "metadata": {
        "colab": {
          "base_uri": "https://localhost:8080/",
          "height": 53
        },
        "id": "BP-Z6_8m0w2t",
        "outputId": "92424385-b5e6-4da2-8b00-d7eeb6a88a8a"
      },
      "outputs": [
        {
          "data": {
            "text/plain": [
              "'True + True = True\\n\\nIn boolean logic, the addition of two true values results in a true value. Therefore, the expression True + True equals True.'"
            ]
          },
          "execution_count": 36,
          "metadata": {},
          "output_type": "execute_result"
        }
      ],
      "source": [
        "prompt = f\"\"\"\n",
        "\n",
        "Evaluate the following expression considering boolean logic (All Values are in boolean):\n",
        "  True + True = True\n",
        "\"\"\"\n",
        "generate_content(prompt)\n"
      ]
    },
    {
      "cell_type": "markdown",
      "metadata": {
        "id": "oB3v-AWPcS4y"
      },
      "source": [
        "## Chain of Thought Prompting"
      ]
    },
    {
      "cell_type": "code",
      "execution_count": null,
      "metadata": {
        "id": "JbMnOeiq2atC"
      },
      "outputs": [],
      "source": [
        "# Without Chain of Thought Prompting\n",
        "prompt = f\"\"\"\n",
        "\n",
        "Teacher: Johan had 5 apples, he bought 4 more boxes with 5 apples each. How many apples does he have now?\n",
        "Student: 25 apples\n",
        "\n",
        "Teacher: Marry had 5 pens, she gave 3 to her friend. and bought 2 boxes of pen with 3 pen in each box. How many pens does she have now?\n",
        "Student:\n",
        "\n",
        "\"\"\"\n",
        "response = generate_content(prompt)\n",
        "print(response)"
      ]
    },
    {
      "cell_type": "code",
      "execution_count": null,
      "metadata": {
        "id": "ARYhOgg9cS4y"
      },
      "outputs": [],
      "source": [
        "# with Chain of Thought prompting\n",
        "prompt = f\"\"\"\n",
        "\n",
        "Teacher: Johan had 5 apples, he bought 4 more boxes with 5 apples each. How many apples does he have now?\n",
        "Student: Johan had 5 apples, 4 boxes with 5 apples each = 5 + 4*5 = 25 apples\n",
        "\n",
        "Teacher: Marry had 5 pens, she gave 3 to her friend. and bought 2 boxes of pen with 3 pen in each box. How many pens does she have now?\n",
        "Student:\n",
        "\n",
        "\"\"\"\n",
        "response = generate_content(prompt)\n",
        "print(response)"
      ]
    },
    {
      "cell_type": "markdown",
      "metadata": {
        "id": "Z8_TNNG2Ozu6"
      },
      "source": [
        "# Model Limitations: Hallucinations"
      ]
    },
    {
      "cell_type": "code",
      "execution_count": null,
      "metadata": {
        "colab": {
          "base_uri": "https://localhost:8080/",
          "height": 105
        },
        "id": "Or9Q36oxO4bx",
        "outputId": "002944d7-7d3b-4f4c-e746-8618ceedefbb"
      },
      "outputs": [
        {
          "data": {
            "text/plain": [
              "'Cognizant Technology Services does not produce or sell ergonomic chairs. They are a multinational technology company that provides IT services, including consulting, digital, technology, and operations services. While they may provide office furniture for their employees, they are not known for producing or selling ergonomic chairs.'"
            ]
          },
          "execution_count": 37,
          "metadata": {},
          "output_type": "execute_result"
        }
      ],
      "source": [
        "prompt = f\"\"\"\n",
        "Tell me about Ergonamic chair procuced and sold by by Cognizant Technology Services.\n",
        "\"\"\"\n",
        "\n",
        "generate_content(prompt)"
      ]
    },
    {
      "cell_type": "code",
      "execution_count": null,
      "metadata": {
        "colab": {
          "base_uri": "https://localhost:8080/",
          "height": 70
        },
        "id": "n4rvOOeSPIDV",
        "outputId": "40fcd47c-5e5f-4a6f-e494-e46156ea7213"
      },
      "outputs": [
        {
          "data": {
            "text/plain": [
              "'The Ergonamic Toothbrush by Cognizant is a revolutionary toothbrush designed to provide a comfortable and effective brushing experience. It features an ergonomic handle that is specifically designed to fit comfortably in the hand, allowing for better control and maneuverability while brushing.\\n\\nThe toothbrush also has soft, rounded bristles that are gentle on the gums and teeth, while still effectively removing plaque and debris. The bristles are also designed to reach all areas of the mouth, including those hard-to-reach places, ensuring a thorough cleaning every time.\\n\\nIn addition, the Ergonamic Toothbrush has a built-in tongue cleaner on the back of the brush head, allowing for a complete oral hygiene routine in one tool.\\n\\nOverall, the Ergonamic Toothbrush by Cognizant is designed to provide a comfortable and efficient brushing experience, promoting better oral health for its users.'"
            ]
          },
          "execution_count": 38,
          "metadata": {},
          "output_type": "execute_result"
        }
      ],
      "source": [
        "prompt = f\"\"\"\n",
        "Tell me about Ergonamic Toothbrush by Cognizant.\n",
        "\"\"\"\n",
        "\n",
        "generate_content(prompt)"
      ]
    },
    {
      "cell_type": "code",
      "execution_count": null,
      "metadata": {
        "colab": {
          "base_uri": "https://localhost:8080/",
          "height": 157
        },
        "id": "hzawWC-7PT_l",
        "outputId": "b37b23b3-67f3-49d8-f02f-a041bc823c31"
      },
      "outputs": [
        {
          "data": {
            "text/plain": [
              "'The Ultraslim Toothbrush by Stackroute is a high-quality toothbrush designed to provide a thorough and effective cleaning experience. It features ultra-soft bristles that are gentle on the gums and enamel, making it suitable for individuals with sensitive teeth or gums.\\n\\nThe slim and ergonomic design of the toothbrush allows for easy maneuverability and access to hard-to-reach areas in the mouth, ensuring a comprehensive cleaning experience. The compact size also makes it convenient for travel and on-the-go use.\\n\\nIn addition, the Ultraslim Toothbrush is made with durable materials to ensure long-lasting performance and effectiveness. It is designed to promote good oral hygiene and help maintain a healthy and bright smile.\\n\\nOverall, the Ultraslim Toothbrush by Stackroute is a reliable and efficient oral care tool that is suitable for individuals of all ages.'"
            ]
          },
          "execution_count": 39,
          "metadata": {},
          "output_type": "execute_result"
        }
      ],
      "source": [
        "prompt = f\"\"\"\n",
        "Tell me about Ultraslim Toothbrush by Stackroute.\n",
        "\"\"\"\n",
        "\n",
        "generate_content(prompt)"
      ]
    },
    {
      "cell_type": "code",
      "execution_count": null,
      "metadata": {
        "colab": {
          "base_uri": "https://localhost:8080/"
        },
        "id": "gjWPGpKzPdQB",
        "outputId": "bca16ba5-1720-49aa-dc89-eb1cfb636756"
      },
      "outputs": [
        {
          "name": "stdout",
          "output_type": "stream",
          "text": [
            "1. Manila - The bustling capital city of the Philippines known for its vibrant culture and historical landmarks.\n",
            "2. Delhi - The bustling capital city of India known for its rich history, diverse culture, and bustling markets.\n",
            "3. Cognizantonia - A fictional city known for its advanced technology and innovation in the field of artificial intelligence.\n"
          ]
        }
      ],
      "source": [
        "prompt = f\"\"\"\n",
        "Generate one line description for each of the following city:\n",
        "1. Manila\n",
        "2. Delhi\n",
        "3. Cognizantonia\n",
        "\"\"\"\n",
        "\n",
        "print(generate_content(prompt))"
      ]
    },
    {
      "cell_type": "code",
      "execution_count": null,
      "metadata": {
        "colab": {
          "base_uri": "https://localhost:8080/"
        },
        "id": "Io6r-CoeRP5r",
        "outputId": "5f2f3dc9-e61f-44a7-e578-ca5a85825631"
      },
      "outputs": [
        {
          "name": "stdout",
          "output_type": "stream",
          "text": [
            "1. Manila - The capital city of the Philippines known for its vibrant culture and historical landmarks.\n",
            "2. Delhi - The bustling capital city of India, famous for its rich history, diverse culture, and delicious street food.\n",
            "3. Cognizantonia - No description can be generated as this city does not exist.\n"
          ]
        }
      ],
      "source": [
        "prompt = f\"\"\"\n",
        "Generate one line description for each of the following city, check if the city exists, if it does not exist, say no description can be generated:\n",
        "1. Manila\n",
        "2. Delhi\n",
        "3. Cognizantonia\n",
        "\"\"\"\n",
        "\n",
        "print(generate_content(prompt))"
      ]
    },
    {
      "cell_type": "code",
      "execution_count": null,
      "metadata": {
        "id": "Lap6MZ-ARdKd"
      },
      "outputs": [],
      "source": []
    },
    {
      "cell_type": "code",
      "execution_count": null,
      "metadata": {
        "id": "Xv2osaN7cS40"
      },
      "outputs": [],
      "source": []
    }
  ],
  "metadata": {
    "colab": {
      "provenance": [],
      "include_colab_link": true
    },
    "kernelspec": {
      "display_name": "Python 3",
      "name": "python3"
    },
    "language_info": {
      "codemirror_mode": {
        "name": "ipython",
        "version": 3
      },
      "file_extension": ".py",
      "mimetype": "text/x-python",
      "name": "python",
      "nbconvert_exporter": "python",
      "pygments_lexer": "ipython3",
      "version": "3.10.9"
    }
  },
  "nbformat": 4,
  "nbformat_minor": 0
}
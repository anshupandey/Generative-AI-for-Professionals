{
  "cells": [
    {
      "cell_type": "markdown",
      "metadata": {
        "id": "view-in-github",
        "colab_type": "text"
      },
      "source": [
        "<a href=\"https://colab.research.google.com/github/anshupandey/Generative-AI-for-Professionals/blob/main/LangChain_Custom_Agent.ipynb\" target=\"_parent\"><img src=\"https://colab.research.google.com/assets/colab-badge.svg\" alt=\"Open In Colab\"/></a>"
      ]
    },
    {
      "cell_type": "code",
      "source": [
        "# Installing necessary libraries\n",
        "!pip install langchain-openai --quiet  # Installs a specific version (0.0.3) of the langchain_openai package quietly\n",
        "!pip install langchain langchain-experimental --quiet        # Installs a specific version (0.1.1) of the langchain package quietly\n",
        "!pip install openai wikipedia --quiet"
      ],
      "metadata": {
        "id": "pPqUy8pYvD4O"
      },
      "execution_count": null,
      "outputs": []
    },
    {
      "cell_type": "markdown",
      "metadata": {
        "id": "sx2b6PGwiiEu"
      },
      "source": [
        "## Custom Agent"
      ]
    },
    {
      "cell_type": "markdown",
      "metadata": {
        "id": "EL-J8yT3iiEv"
      },
      "source": [
        "### Load the LLM"
      ]
    },
    {
      "cell_type": "code",
      "execution_count": null,
      "metadata": {
        "id": "tB4pChKhiiEv"
      },
      "outputs": [],
      "source": [
        "from langchain_openai import ChatOpenAI\n",
        "# initializing llm with GPT 3.5 from OpenAI\n",
        "llm = ChatOpenAI(model=\"gpt-3.5-turbo\", temperature=0,api_key=\"sk-xxxxxxxxxxxxxxxxxxxxxxxxxx\")\n"
      ]
    },
    {
      "cell_type": "markdown",
      "metadata": {
        "id": "5-xKtKIBiiEw"
      },
      "source": [
        "### Defining custom Tools"
      ]
    },
    {
      "cell_type": "code",
      "execution_count": null,
      "metadata": {
        "id": "dIPM7__giiEw",
        "outputId": "87fee874-654d-4fa1-a4b1-3119ed19573d"
      },
      "outputs": [
        {
          "data": {
            "text/plain": [
              "3"
            ]
          },
          "execution_count": 3,
          "metadata": {},
          "output_type": "execute_result"
        }
      ],
      "source": [
        "# Defining custom tool for the agent\n",
        "from langchain.agents import tool\n",
        "# A Python function to calculate the length of a word\n",
        "@tool\n",
        "def get_word_length(word: str) -> int:\n",
        "    \"\"\"Returns the length of a word.\"\"\"\n",
        "    return len(word)\n",
        "\n",
        "get_word_length.invoke(\"abc\")"
      ]
    },
    {
      "cell_type": "code",
      "execution_count": null,
      "metadata": {
        "id": "4mN2T6rYiiEw"
      },
      "outputs": [],
      "source": [
        "tools = [get_word_length]"
      ]
    },
    {
      "cell_type": "markdown",
      "metadata": {
        "id": "9g78SQnCiiEx"
      },
      "source": [
        "### Create custom Prompts & Adding Memory\n",
        "\n",
        "Now let us create the prompt. Because OpenAI Function Calling is finetuned for tool usage, we hardly need any instructions on how to reason, or how to output format. We will just have two input variables: input and agent_scratchpad. input should be a string containing the user objective. agent_scratchpad should be a sequence of messages that contains the previous agent tool invocations and the corresponding tool outputs."
      ]
    },
    {
      "cell_type": "code",
      "execution_count": null,
      "metadata": {
        "id": "XbvNfkS9iiEx"
      },
      "outputs": [],
      "source": [
        "from langchain_core.prompts import ChatPromptTemplate, MessagesPlaceholder\n",
        "\n",
        "MEMORY_KEY = \"chat_history\"\n",
        "prompt = ChatPromptTemplate.from_messages(\n",
        "    [\n",
        "        (\n",
        "            \"system\",\n",
        "            \"You are very powerful assistant, but don't know current events\",\n",
        "        ),\n",
        "        MessagesPlaceholder(variable_name=MEMORY_KEY),\n",
        "        (\"user\", \"{input}\"),\n",
        "        MessagesPlaceholder(variable_name=\"agent_scratchpad\"),\n",
        "    ]\n",
        ")"
      ]
    },
    {
      "cell_type": "code",
      "execution_count": null,
      "metadata": {
        "id": "HLslzMgtiiEx"
      },
      "outputs": [],
      "source": [
        "from langchain_core.messages import AIMessage, HumanMessage\n",
        "# set up a list to track the chat history\n",
        "chat_history = []"
      ]
    },
    {
      "cell_type": "markdown",
      "metadata": {
        "id": "NHLSFBniiiEx"
      },
      "source": [
        "### Bind tools to LLM"
      ]
    },
    {
      "cell_type": "code",
      "execution_count": null,
      "metadata": {
        "id": "xAqflRlAiiEx"
      },
      "outputs": [],
      "source": [
        "# bind tools to LLLM\n",
        "llm_with_tools = llm.bind_tools(tools)"
      ]
    },
    {
      "cell_type": "markdown",
      "metadata": {
        "id": "hoc6SlIxiiEx"
      },
      "source": [
        "### Create a Custom Agent"
      ]
    },
    {
      "cell_type": "code",
      "execution_count": null,
      "metadata": {
        "id": "qLWuvRVziiEx"
      },
      "outputs": [],
      "source": [
        "from langchain.agents.format_scratchpad.openai_tools import (\n",
        "    format_to_openai_tool_messages,\n",
        ")\n",
        "from langchain.agents.output_parsers.openai_tools import OpenAIToolsAgentOutputParser\n",
        "\n",
        "agent = (\n",
        "    {\n",
        "        \"input\": lambda x: x[\"input\"],\n",
        "        \"agent_scratchpad\": lambda x: format_to_openai_tool_messages(\n",
        "            x[\"intermediate_steps\"]\n",
        "        ),\n",
        "        \"chat_history\": lambda x: x[\"chat_history\"],\n",
        "    }\n",
        "    | prompt\n",
        "    | llm_with_tools\n",
        "    | OpenAIToolsAgentOutputParser()\n",
        ")"
      ]
    },
    {
      "cell_type": "code",
      "execution_count": null,
      "metadata": {
        "id": "zpMwYvXWiiEx"
      },
      "outputs": [],
      "source": [
        "from langchain.agents import AgentExecutor\n",
        "\n",
        "agent_executor = AgentExecutor(agent=agent, tools=tools, verbose=True)"
      ]
    },
    {
      "cell_type": "code",
      "execution_count": null,
      "metadata": {
        "id": "sT_9X-sQiiEx",
        "outputId": "5a5d10a7-e1cd-416e-f1fd-38e80151ba33"
      },
      "outputs": [
        {
          "name": "stdout",
          "output_type": "stream",
          "text": [
            "\n",
            "\n",
            "\u001b[1m> Entering new AgentExecutor chain...\u001b[0m\n",
            "\u001b[32;1m\u001b[1;3m\n",
            "Invoking: `get_word_length` with `{'word': 'educa'}`\n",
            "\n",
            "\n",
            "\u001b[0m\u001b[36;1m\u001b[1;3m5\u001b[0m\u001b[32;1m\u001b[1;3mThere are 5 letters in the word \"educa\".\u001b[0m\n",
            "\n",
            "\u001b[1m> Finished chain.\u001b[0m\n",
            "\n",
            "\n",
            "\u001b[1m> Entering new AgentExecutor chain...\u001b[0m\n",
            "\u001b[32;1m\u001b[1;3m\n",
            "Invoking: `get_word_length` with `{'word': 'educa'}`\n",
            "\n",
            "\n",
            "\u001b[0m\u001b[36;1m\u001b[1;3m5\u001b[0m\u001b[32;1m\u001b[1;3mThe word \"educa\" is not a real word. It is a 5-letter word, but it does not have a specific meaning in the English language.\u001b[0m\n",
            "\n",
            "\u001b[1m> Finished chain.\u001b[0m\n"
          ]
        },
        {
          "data": {
            "text/plain": [
              "{'input': 'is that a real word?',\n",
              " 'chat_history': [HumanMessage(content='how many letters in the word educa?'),\n",
              "  AIMessage(content='There are 5 letters in the word \"educa\".')],\n",
              " 'output': 'The word \"educa\" is not a real word. It is a 5-letter word, but it does not have a specific meaning in the English language.'}"
            ]
          },
          "execution_count": 11,
          "metadata": {},
          "output_type": "execute_result"
        }
      ],
      "source": [
        "input1 = \"how many letters in the word educa?\"\n",
        "result = agent_executor.invoke({\"input\": input1, \"chat_history\": chat_history})\n",
        "chat_history.extend(\n",
        "    [\n",
        "        HumanMessage(content=input1),\n",
        "        AIMessage(content=result[\"output\"]),\n",
        "    ]\n",
        ")\n",
        "agent_executor.invoke({\"input\": \"is that a real word?\", \"chat_history\": chat_history})"
      ]
    },
    {
      "cell_type": "code",
      "execution_count": null,
      "metadata": {
        "id": "mU4rjDxGiiEx"
      },
      "outputs": [],
      "source": []
    }
  ],
  "metadata": {
    "kernelspec": {
      "display_name": "base",
      "language": "python",
      "name": "python3"
    },
    "language_info": {
      "codemirror_mode": {
        "name": "ipython",
        "version": 3
      },
      "file_extension": ".py",
      "mimetype": "text/x-python",
      "name": "python",
      "nbconvert_exporter": "python",
      "pygments_lexer": "ipython3",
      "version": "3.10.9"
    },
    "colab": {
      "provenance": [],
      "include_colab_link": true
    }
  },
  "nbformat": 4,
  "nbformat_minor": 0
}
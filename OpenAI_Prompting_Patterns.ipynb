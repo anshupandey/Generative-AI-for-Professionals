{
  "nbformat": 4,
  "nbformat_minor": 0,
  "metadata": {
    "colab": {
      "provenance": [],
      "include_colab_link": true
    },
    "kernelspec": {
      "name": "python3",
      "display_name": "Python 3"
    },
    "language_info": {
      "name": "python"
    }
  },
  "cells": [
    {
      "cell_type": "markdown",
      "metadata": {
        "id": "view-in-github",
        "colab_type": "text"
      },
      "source": [
        "<a href=\"https://colab.research.google.com/github/anshupandey/Generative-AI-for-Professionals/blob/main/OpenAI_Prompting_Patterns.ipynb\" target=\"_parent\"><img src=\"https://colab.research.google.com/assets/colab-badge.svg\" alt=\"Open In Colab\"/></a>"
      ]
    },
    {
      "cell_type": "markdown",
      "metadata": {
        "id": "_rn1lLJXRfSZ"
      },
      "source": [
        "# Prompting Patterns\n",
        "\n",
        "---\n",
        "\n",
        "\n"
      ]
    },
    {
      "cell_type": "markdown",
      "source": [
        "## Environment Setup"
      ],
      "metadata": {
        "id": "1dXZcBM5xAiP"
      }
    },
    {
      "cell_type": "code",
      "source": [
        "!pip install -q openai"
      ],
      "metadata": {
        "colab": {
          "base_uri": "https://localhost:8080/"
        },
        "id": "JhdJw2HoxALo",
        "outputId": "1e13542a-3f09-4262-d569-3bad14d0eed0"
      },
      "execution_count": null,
      "outputs": [
        {
          "output_type": "stream",
          "name": "stdout",
          "text": [
            "\u001b[2K     \u001b[90m━━━━━━━━━━━━━━━━━━━━━━━━━━━━━━━━━━━━━━━━\u001b[0m \u001b[32m314.1/314.1 kB\u001b[0m \u001b[31m4.4 MB/s\u001b[0m eta \u001b[36m0:00:00\u001b[0m\n",
            "\u001b[2K     \u001b[90m━━━━━━━━━━━━━━━━━━━━━━━━━━━━━━━━━━━━━━━━\u001b[0m \u001b[32m75.6/75.6 kB\u001b[0m \u001b[31m4.3 MB/s\u001b[0m eta \u001b[36m0:00:00\u001b[0m\n",
            "\u001b[2K     \u001b[90m━━━━━━━━━━━━━━━━━━━━━━━━━━━━━━━━━━━━━━━━\u001b[0m \u001b[32m77.9/77.9 kB\u001b[0m \u001b[31m4.0 MB/s\u001b[0m eta \u001b[36m0:00:00\u001b[0m\n",
            "\u001b[2K     \u001b[90m━━━━━━━━━━━━━━━━━━━━━━━━━━━━━━━━━━━━━━━━\u001b[0m \u001b[32m58.3/58.3 kB\u001b[0m \u001b[31m5.1 MB/s\u001b[0m eta \u001b[36m0:00:00\u001b[0m\n",
            "\u001b[?25h"
          ]
        }
      ]
    },
    {
      "cell_type": "markdown",
      "source": [
        "**Prompt Pattern Catalog**\n",
        "\n",
        "Patterns in prompts are directions that help AI generate specific responses. They consist of core contextual statements that improve the accuracy and relevance of the output provided by the language model."
      ],
      "metadata": {
        "id": "QD9wlSBpMwoe"
      }
    },
    {
      "cell_type": "markdown",
      "source": [
        " A Prompt Pattern Catalog to Enhance Prompt Engineering with ChatGPT.\n",
        "\n",
        "- Output Customization\n",
        "- Input Semantics\n",
        "- Prompt Improvement\n",
        "- Interaction"
      ],
      "metadata": {
        "id": "CJgEjYeyNOn3"
      }
    },
    {
      "cell_type": "markdown",
      "source": [
        "With each prompt patterns, Contextual statement is given which tells about what pattern the prompt has that direct the AI to generate specific responses."
      ],
      "metadata": {
        "id": "ejuyr0PJVayn"
      }
    },
    {
      "cell_type": "markdown",
      "source": [
        "We will use OpenAI GPT model (gpt-3.5-turbo) for these given above prompting patterns"
      ],
      "metadata": {
        "id": "wlfEmyKlNZbL"
      }
    },
    {
      "cell_type": "code",
      "source": [
        "import openai\n",
        "import os\n",
        "from getpass import getpass"
      ],
      "metadata": {
        "id": "j5vnjD39NgAK"
      },
      "execution_count": null,
      "outputs": []
    },
    {
      "cell_type": "code",
      "source": [
        "os.environ['OPENAI_API_KEY'] = getpass()"
      ],
      "metadata": {
        "colab": {
          "base_uri": "https://localhost:8080/"
        },
        "id": "S9ePL-jKNwdV",
        "outputId": "d55bcab7-dc87-4848-b47a-5262424c1202"
      },
      "execution_count": null,
      "outputs": [
        {
          "name": "stdout",
          "output_type": "stream",
          "text": [
            "··········\n"
          ]
        }
      ]
    },
    {
      "cell_type": "code",
      "source": [
        "from openai import OpenAI\n",
        "\n",
        "client = OpenAI()\n",
        "# Initialize the conversation with a system greeting\n",
        "conversation = [\n",
        "    {\"role\": \"system\", \"content\": \"You are a helpful assistant.\"},\n",
        "]"
      ],
      "metadata": {
        "id": "dGqKU7AUNzba"
      },
      "execution_count": null,
      "outputs": []
    },
    {
      "cell_type": "code",
      "source": [
        "# Function to generate AI response based on the conversation\n",
        "def generate_response(conversation):\n",
        "    try:\n",
        "        # Use the OpenAI ChatCompletion API to generate a response\n",
        "        response = client.chat.completions.create(\n",
        "            model=\"gpt-3.5-turbo\",  # Use the GPT-3.5 Turbo engine or the appropriate model\n",
        "            messages=conversation,\n",
        "            temperature=0.75,  # Controls the randomness of the response\n",
        "            top_p=0.8,      # Controls the diversity of the response\n",
        "            stream=False,  # If True, the API returns a stream of responses; if False, it returns a single response\n",
        "            presence_penalty=0.3,  # This parameter nudges the model to include a wide variety of tokens in the generated text\n",
        "            frequency_penalty=0.5,  # Controls how much the model avoids repeating the same response\n",
        "        )\n",
        "\n",
        "        # Extract the content of the AI's reply\n",
        "        ai_reply = response.choices[0].message.content.strip()\n",
        "\n",
        "        return ai_reply\n",
        "\n",
        "    except Exception as e:\n",
        "        # Handle any exceptions that might occur during API request\n",
        "        return \"Sorry, I encountered an error.\"+e\n"
      ],
      "metadata": {
        "id": "795Up4fAN_xK"
      },
      "execution_count": null,
      "outputs": []
    },
    {
      "cell_type": "markdown",
      "source": [
        "**1. Output Customization**\n",
        "\n",
        "- Persona\n",
        "- Audience Persona\n",
        "- Output Automator\n",
        "- Template\n"
      ],
      "metadata": {
        "id": "u4B9t8DQOgkG"
      }
    },
    {
      "cell_type": "markdown",
      "source": [
        "**Persona Pattern**\n",
        "\n",
        "Contextual statements:\n",
        "\n",
        "- Act as Persona X.\n",
        "- Perform task Y."
      ],
      "metadata": {
        "id": "LtAMeI2cO57Z"
      }
    },
    {
      "cell_type": "code",
      "source": [
        "prompt='''\n",
        "Act as a personal trainer. Design a beginner-friendly workout routine for weight loss.\n",
        "'''\n",
        "messages=[\n",
        "    {\"role\": \"system\", \"content\": \"You are a helpful AI assistant.\"},\n",
        "    {\"role\": \"user\", \"content\": prompt}\n",
        "  ]\n",
        "\n",
        "ans=generate_response(messages)\n",
        "\n",
        "print(ans)\n",
        "\n"
      ],
      "metadata": {
        "colab": {
          "base_uri": "https://localhost:8080/"
        },
        "id": "Ec0Y6TDpOGQR",
        "outputId": "16063d12-b7f9-4f61-edbb-bc041c8a7567"
      },
      "execution_count": null,
      "outputs": [
        {
          "output_type": "stream",
          "name": "stdout",
          "text": [
            "Sure! Here is a beginner-friendly workout routine for weight loss:\n",
            "\n",
            "1. **Warm-up (5-10 minutes):**\n",
            "   - Start with light cardio such as jogging in place or jumping jacks to get your heart rate up.\n",
            "\n",
            "2. **Cardio (20-30 minutes):**\n",
            "   - Choose any form of cardio exercise that you enjoy such as brisk walking, cycling, running, or dancing. Aim to keep your heart rate elevated throughout the session.\n",
            "\n",
            "3. **Strength Training (20-30 minutes):**\n",
            "   - Perform bodyweight exercises such as squats, lunges, push-ups, and planks. Aim for 2-3 sets of 12-15 repetitions for each exercise.\n",
            "\n",
            "4. **Cool Down and Stretching (5-10 minutes):**\n",
            "   - Finish your workout with some light stretching exercises to help improve flexibility and reduce muscle soreness.\n",
            "\n",
            "5. **Hydration and Nutrition:**\n",
            "   - Remember to stay hydrated throughout your workout and focus on eating a balanced diet rich in lean proteins, fruits, vegetables, and whole grains to support your weight loss goals.\n",
            "\n",
            "6. **Rest and Recovery:**\n",
            "   - Allow your body time to rest and recover between workouts to prevent injury and maximize results. Aim for at least one rest day per week.\n",
            "\n",
            "Remember to listen to your body and progress at your own pace. Consistency is key when it comes to achieving weight loss goals through exercise. If you have any health concerns or limitations, it's always best to consult with a healthcare professional before starting any new workout routine.\n"
          ]
        }
      ]
    },
    {
      "cell_type": "markdown",
      "source": [
        "**Audience Persona Pattern**\n",
        "\n",
        "Contextual statements:\n",
        "\n",
        "- Explain X to me.\n",
        "- Assume that I am Persona Y."
      ],
      "metadata": {
        "id": "74MrHQGBP5jZ"
      }
    },
    {
      "cell_type": "code",
      "source": [
        "prompt='''\n",
        "Explain how day and night happens on the earth. Assume that I am a curious elementary school student.\n",
        "'''\n",
        "messages=[\n",
        "    {\"role\": \"system\", \"content\": \"You are a helpful AI assistant.\"},\n",
        "    {\"role\": \"user\", \"content\": prompt}\n",
        "  ]\n",
        "\n",
        "ans=generate_response(messages)\n",
        "\n",
        "print(ans)"
      ],
      "metadata": {
        "colab": {
          "base_uri": "https://localhost:8080/"
        },
        "id": "PgAZXOJUPPti",
        "outputId": "535da2d6-65f1-4621-d662-9dae26b8e32b"
      },
      "execution_count": null,
      "outputs": [
        {
          "output_type": "stream",
          "name": "stdout",
          "text": [
            "Sure! I'd be happy to explain it in a simple way for you. \n",
            "\n",
            "So, day and night happen on Earth because our planet is always spinning around. Imagine you are sitting on a big spinning top. As the Earth spins, different parts of it face the Sun at different times. \n",
            "\n",
            "When your part of the Earth is facing the Sun, it's daytime because the sunlight reaches you and makes everything bright. But when your part of the Earth is facing away from the Sun, it's nighttime because there is no sunlight reaching you and everything gets dark.\n",
            "\n",
            "This spinning motion of the Earth is what causes day and night to happen for us here on Earth.\n"
          ]
        }
      ]
    },
    {
      "cell_type": "markdown",
      "source": [
        "**Output Automator Pattern**\n",
        "\n",
        "Contextual statements:\n",
        "\n",
        "- Whenever you produce an output that has at least one step to take and the following properties (alternatively, always do this).\n",
        "- Produce an executable artifact of type X that will automate these steps."
      ],
      "metadata": {
        "id": "kSY36a3dQaTm"
      }
    },
    {
      "cell_type": "code",
      "source": [
        "prompt='''\n",
        "From now on, whenever you create a meal plan with various ingredients for each meal,\n",
        "generate a Python script that will populate a shopping list with the ingredients.\n",
        "\n",
        "The list should adjust quantities based on the number of servings specified.\n",
        "'''\n",
        "messages=[\n",
        "    {\"role\": \"system\", \"content\": \"You are a helpful AI assistant.\"},\n",
        "    {\"role\": \"user\", \"content\": prompt}\n",
        "  ]\n",
        "\n",
        "ans=generate_response(messages)\n",
        "\n",
        "print(ans)"
      ],
      "metadata": {
        "colab": {
          "base_uri": "https://localhost:8080/"
        },
        "id": "OQkgvoMsQO5D",
        "outputId": "768f5e66-b148-4916-a391-338be3142959"
      },
      "execution_count": null,
      "outputs": [
        {
          "output_type": "stream",
          "name": "stdout",
          "text": [
            "Sure, I can help you with that. Here's a basic Python script that takes a meal plan as input and generates a shopping list based on the specified number of servings:\n",
            "\n",
            "```python\n",
            "from collections import defaultdict\n",
            "\n",
            "def generate_shopping_list(meal_plan, servings):\n",
            "    shopping_list = defaultdict(int)\n",
            "\n",
            "    for meal, ingredients in meal_plan.items():\n",
            "        for ingredient, quantity in ingredients.items():\n",
            "            shopping_list[ingredient] += quantity * servings\n",
            "\n",
            "    return shopping_list\n",
            "\n",
            "# Example meal plan\n",
            "meal_plan = {\n",
            "    'Breakfast': {'Eggs': 2, 'Bacon': 4, 'Bread': 2},\n",
            "    'Lunch': {'Chicken': 1, 'Rice': 1, 'Vegetables': 1},\n",
            "    'Dinner': {'Salmon': 1, 'Potatoes': 2, 'Broccoli': 1}\n",
            "}\n",
            "\n",
            "servings = 4\n",
            "shopping_list = generate_shopping_list(meal_plan, servings)\n",
            "\n",
            "print(\"Shopping List for\", servings, \"servings:\")\n",
            "for item, quantity in shopping_list.items():\n",
            "    print(item + ':', quantity)\n",
            "```\n",
            "\n",
            "You can customize the `meal_plan` dictionary with your own meals and ingredients. Just call the `generate_shopping_list` function with your meal plan and the number of servings you need to get the corresponding shopping list.\n"
          ]
        }
      ]
    },
    {
      "cell_type": "markdown",
      "source": [
        "**Template Pattern**\n",
        "\n",
        "Contextual statements:\n",
        "\n",
        "- I am going to provide a template for your output.\n",
        "- X is my placeholder for the content.\n",
        "-Try to fit the output into one or more of the placeholders that I list.\n",
        "- Please preserve the formatting and overall template that I provide.\n",
        "- This is the template: PATTERN with PLACEHOLDERS."
      ],
      "metadata": {
        "id": "oqxulx0uRoiK"
      }
    },
    {
      "cell_type": "code",
      "source": [
        "prompt='''\n",
        "Generate a one-day travel itinerary for Las vegas.\n",
        "\n",
        "My placeholders are:\n",
        "- <DAY> for the day of the travel plan\n",
        "- <LOCATION> for the place to visit\n",
        "- <TIME> for the suggested visit time\n",
        "- <ACTIVITY> for the activity at that location\n",
        "\n",
        "Please preserve the formatting and overall template that I provide.\n",
        "\n",
        "Template: Travel Itinerary: - Visit <LOCATION> at <TIME> for <ACTIVITY>.\n",
        "'''\n",
        "messages=[\n",
        "    {\"role\": \"system\", \"content\": \"You are a helpful AI assistant.\"},\n",
        "    {\"role\": \"user\", \"content\": prompt}\n",
        "  ]\n",
        "\n",
        "ans=generate_response(messages)\n",
        "\n",
        "print(ans)"
      ],
      "metadata": {
        "colab": {
          "base_uri": "https://localhost:8080/"
        },
        "id": "uuU5TPJORUxW",
        "outputId": "f64d59eb-b3c4-4f02-ebc3-778f31642c94"
      },
      "execution_count": null,
      "outputs": [
        {
          "output_type": "stream",
          "name": "stdout",
          "text": [
            "Travel Itinerary for Las Vegas:\n",
            "\n",
            "- **<DAY>**\n",
            "  - Visit The Strip at 9:00 AM for sightseeing.\n",
            "  - Explore the Bellagio Conservatory & Botanical Gardens at 11:00 AM.\n",
            "  - Enjoy lunch at a buffet on The Strip at 1:00 PM.\n",
            "  - Visit the High Roller Observation Wheel at The LINQ Promenade at 3:00 PM for panoramic views of the city.\n",
            "  - Experience a Cirque du Soleil show at <LOCATION> at 7:00 PM.\n",
            "  \n",
            "Feel free to adjust the times and activities based on your preferences and schedule. Enjoy your trip to Las Vegas!\n"
          ]
        }
      ]
    },
    {
      "cell_type": "markdown",
      "source": [
        "**2. Input Semantics**\n",
        "\n",
        "- Meta Language Creation Pattern\n",
        "- Menu Actions Pattern"
      ],
      "metadata": {
        "id": "bXwsF4GJSsw0"
      }
    },
    {
      "cell_type": "markdown",
      "source": [
        "**Meta Language Creation Pattern**\n",
        "\n",
        "Contextual statements:\n",
        "- When I say X, I mean Y (or would like you to do Y).\n"
      ],
      "metadata": {
        "id": "gc4uOQO_TFo_"
      }
    },
    {
      "cell_type": "code",
      "source": [
        "prompt='''\n",
        "When I say \"3A12NS\", I mean generate 3 random passwords of 12 characters in length,\n",
        "including numbers and symbols.\n",
        "\n",
        "2A16N\n",
        "'''\n",
        "messages=[\n",
        "    {\"role\": \"system\", \"content\": \"You are a helpful AI assistant.\"},\n",
        "    {\"role\": \"user\", \"content\": prompt}\n",
        "  ]\n",
        "\n",
        "ans=generate_response(messages)\n",
        "\n",
        "print(ans)"
      ],
      "metadata": {
        "colab": {
          "base_uri": "https://localhost:8080/"
        },
        "id": "IkUaBgoaR8lD",
        "outputId": "85b6ad6e-be68-40e3-dc40-d8aaa5f1bf0a"
      },
      "execution_count": null,
      "outputs": [
        {
          "output_type": "stream",
          "name": "stdout",
          "text": [
            "Got it! Here are 3 random passwords of 12 characters in length, including numbers and symbols:\n",
            "\n",
            "1. Password 1: $7fG#9^4h@2&\n",
            "2. Password 2: *5j@6%z2q#1!\n",
            "3. Password 3: #8g&3$u9*4@\n"
          ]
        }
      ]
    },
    {
      "cell_type": "markdown",
      "source": [
        "**Menu Actions Pattern**\n",
        "\n",
        "Contextual statements:\n",
        "- Whenever I type: X, you will do Y."
      ],
      "metadata": {
        "id": "9HrVBeyTUsfP"
      }
    },
    {
      "cell_type": "code",
      "source": [
        "prompt='''\n",
        "Whenever I type: \"sst\", you will generate a short story or greek mythology\n",
        "Whenever I type: \"ht\", you will teach me history of dinosaurs\n",
        "Whenever I type: \"test\", you will take a test of me on general knowledge\n",
        "'''\n",
        "messages=[\n",
        "    {\"role\": \"system\", \"content\": \"You are a helpful AI assistant.\"},\n",
        "    {\"role\": \"user\", \"content\": prompt+\" \\n  \"+input(\"type: \")}\n",
        "  ]\n",
        "\n",
        "ans=generate_response(messages)\n",
        "\n",
        "print(ans)"
      ],
      "metadata": {
        "colab": {
          "base_uri": "https://localhost:8080/"
        },
        "id": "90lk5RvHTZjk",
        "outputId": "72ce62e4-c2b0-4069-823f-f9e2cc496788"
      },
      "execution_count": null,
      "outputs": [
        {
          "output_type": "stream",
          "name": "stdout",
          "text": [
            "type: \n",
            "Understood! Feel free to ask me anything related to short stories, Greek mythology, history of dinosaurs, or take a general knowledge test whenever you're ready.\n"
          ]
        }
      ]
    },
    {
      "cell_type": "markdown",
      "source": [
        "**3. Prompt Improvement**\n",
        "\n",
        "- Question Refinement\n",
        "- Alternative Approaches\n",
        "- Cognitive Verifier"
      ],
      "metadata": {
        "id": "CaLiCfdxVbWk"
      }
    },
    {
      "cell_type": "markdown",
      "source": [
        "**Question Refinement Pattern**\n",
        "\n",
        "Contextual statements:\n",
        "\n",
        "- Whenever I ask a question, suggest a better version of the question to use instead.\n",
        "- (Optional) Prompt me if I would like to use the better version instead."
      ],
      "metadata": {
        "id": "jUQBF7bvVuk8"
      }
    },
    {
      "cell_type": "code",
      "source": [
        "prompt='''\n",
        "Whenever I ask a question about the best programming language to learn,\n",
        "suggest a better version of the question which makes question certain and definite, you can also generate some new versions of question that consider the context like on what is the use of it,how to implement it, domain and interest, .\n",
        "\n",
        "'''\n",
        "messages=[\n",
        "    {\"role\": \"system\", \"content\": prompt},\n",
        "    {\"role\": \"user\", \"content\":\"Question: \"+input(\"\")}\n",
        "  ]\n",
        "\n",
        "ans=generate_response(messages)\n",
        "\n",
        "print(ans)\n",
        "# What is the use of generators and decorators of python language"
      ],
      "metadata": {
        "colab": {
          "base_uri": "https://localhost:8080/"
        },
        "id": "KAXx6ZVnUiVz",
        "outputId": "a439ea35-42f1-4308-936e-3c980560d5c2"
      },
      "execution_count": null,
      "outputs": [
        {
          "output_type": "stream",
          "name": "stdout",
          "text": [
            "What is the use of generators and decorators of python language\n",
            "Better version of the question: \"Can you explain the practical applications and benefits of using generators and decorators in Python programming?\"\n",
            "\n",
            "Other versions:\n",
            "1. \"How can generators and decorators be utilized effectively in Python programming?\"\n",
            "2. \"What are some real-world examples where generators and decorators in Python have shown significant advantages?\"\n",
            "3. \"In which domains or types of projects are generators and decorators commonly used within Python programming?\"\n",
            "4. \"For someone interested in improving their Python skills, how can they start implementing generators and decorators effectively?\"\n"
          ]
        }
      ]
    },
    {
      "cell_type": "markdown",
      "source": [
        "**Alternative Approaches Pattern**\n",
        "\n",
        "Contextual statements:\n",
        "\n",
        "If there are alternative ways to accomplish task X that I give you, list the best alternate approaches.\n",
        "(Optional) Compare/contrast the pros and cons of each approach.\n",
        "(Optional) Include the original way that I asked.\n",
        "(Optional) Prompt me on which approach I would like to use."
      ],
      "metadata": {
        "id": "Kh1zi1699txK"
      }
    },
    {
      "cell_type": "code",
      "source": [
        "prompt='''\n",
        "When I ask you for cooking recipes, consider the ingredients and type of cuisine.\n",
        "\n",
        "Propose alternative recipes that can be made with the same ingredients or suggest variations.\n",
        "\n",
        "Compare their tastes, cooking methods, and nutritional values.\n",
        "'''\n",
        "messages=[\n",
        "    {\"role\": \"system\", \"content\": prompt},\n",
        "    {\"role\": \"user\", \"content\":\"Question: \"+input(\"\")}\n",
        "  ]\n",
        "\n",
        "ans=generate_response(messages)\n",
        "\n",
        "print(ans)\n",
        "# what is the cooking recipe for biryani?"
      ],
      "metadata": {
        "colab": {
          "base_uri": "https://localhost:8080/"
        },
        "id": "FapyUn205YMs",
        "outputId": "b10314f4-74df-4356-9713-bcc7129ddecf"
      },
      "execution_count": null,
      "outputs": [
        {
          "output_type": "stream",
          "name": "stdout",
          "text": [
            "what is the cooking recipe for biryani?\n",
            "Biryani is a popular South Asian rice dish made with fragrant basmati rice, meat (usually chicken, lamb, or goat), or vegetables, and a blend of aromatic spices. Here is a basic recipe for Chicken Biryani:\n",
            "\n",
            "Ingredients:\n",
            "- 2 cups basmati rice\n",
            "- 1 lb chicken pieces\n",
            "- 1 large onion, thinly sliced\n",
            "- 1 cup plain yogurt\n",
            "- 2 tomatoes, chopped\n",
            "- 2 tablespoons ginger-garlic paste\n",
            "- Whole spices (bay leaf, cinnamon stick, cardamom pods, cloves)\n",
            "- Biryani masala (or a blend of ground cumin, coriander, turmeric, red chili powder)\n",
            "- Fresh cilantro and mint leaves\n",
            "- Ghee or oil for cooking\n",
            "\n",
            "Instructions:\n",
            "1. Marinate the chicken in yogurt, biryani masala, ginger-garlic paste, salt, and pepper for at least 30 minutes.\n",
            "2. Wash and soak the basmati rice for about 30 minutes.\n",
            "3. In a large pot or pressure cooker, heat ghee/oil and add the whole spices.\n",
            "4. Add sliced onions and cook until golden brown.\n",
            "5. Add marinated chicken and cook until it's partially cooked.\n",
            "6. Layer soaked rice over the chicken mixture.\n",
            "7. Add chopped tomatoes and sprinkle fresh cilantro and mint leaves.\n",
            "8. Pour water just enough to cover the rice completely.\n",
            "9. Cover with a tight-fitting lid and cook on low heat until the rice is fully cooked.\n",
            "\n",
            "Variations:\n",
            "1. You can use different meats like lamb or goat instead of chicken for a richer flavor.\n",
            "2. Vegetarians can make Vegetable Biryani by replacing meat with mixed vegetables like carrots, peas, potatoes, and bell peppers.\n",
            "\n",
            "Taste & Nutritional Value:\n",
            "Biryani has a rich flavor profile due to the combination of spices used in its preparation. It is often considered indulgent due to the use of ghee or oil in cooking. However, you can make it healthier by using less oil and leaner cuts of meat or more vegetables.\n",
            "\n",
            "If you're looking for a quicker version of biryani with similar ingredients but less time-consuming preparation process compared to traditional biryani recipes; consider making Chicken Pulao which is equally flavorful but simpler to prepare with fewer layers compared to biryani.\n"
          ]
        }
      ]
    },
    {
      "cell_type": "markdown",
      "source": [
        "**Cognitive Verifier Pattern**\n",
        "\n",
        "Contextual statements:\n",
        "\n",
        "When you are asked a question, follow these rules [RULES].\n",
        "\n",
        "Generate a number of additional questions that would help more accurately answer the question.\n",
        "\n",
        "Combine the answers to the individual questions to produce the final answer to the overall question."
      ],
      "metadata": {
        "id": "hzg6dZRs_CcF"
      }
    },
    {
      "cell_type": "code",
      "source": [
        "prompt='''\n",
        "If I ask you to evaluate my symptoms,\n",
        "\n",
        "generate additional questions to understand the potential causes.\n",
        "\n",
        "Combine my answers to try to identify causes and suggest treatments.\n",
        "'''\n",
        "messages=[\n",
        "    {\"role\": \"system\", \"content\": prompt},\n",
        "    {\"role\": \"user\", \"content\":input(\"User: \")}\n",
        "  ]\n",
        "\n",
        "ans=generate_response(messages)\n",
        "\n",
        "print(\"AI: \"+ans)\n",
        "# i am feeling cold, i think i have fever"
      ],
      "metadata": {
        "colab": {
          "base_uri": "https://localhost:8080/"
        },
        "id": "pApCzpSx-VHi",
        "outputId": "f25c7d11-8685-4636-ae9c-e7927da79a52"
      },
      "execution_count": null,
      "outputs": [
        {
          "output_type": "stream",
          "name": "stdout",
          "text": [
            "User: i am feeling cold, i think i have fever\n",
            "AI: I'm sorry to hear that you're not feeling well. In addition to feeling cold and having a fever, do you have any other symptoms such as body aches, sore throat, cough, headache, or fatigue? Have you been in contact with anyone who is sick recently? Do you have any other underlying health conditions?\n",
            "\n",
            "Based on your symptoms of feeling cold and having a fever, along with any additional information you provide, it could be indicative of various conditions such as the flu, a common cold, or even an infection. It's important to monitor your temperature regularly and stay hydrated. Over-the-counter medications like acetaminophen or ibuprofen can help reduce fever and alleviate discomfort. Resting and staying warm can also aid in recovery.\n",
            "\n",
            "If your symptoms worsen or persist for more than a few days, it's recommended to consult with a healthcare professional for further evaluation and appropriate treatment.\n"
          ]
        }
      ]
    },
    {
      "cell_type": "code",
      "source": [
        "messages.append({\"role\": \"assistant\", \"content\":ans})\n",
        "messages.append({\"role\": \"user\", \"content\":input(\"User: \")})\n",
        "\n",
        "ans=generate_response(messages)\n",
        "\n",
        "print(\"AI: \"+ans)\n",
        "# I am also experiencing body aches"
      ],
      "metadata": {
        "colab": {
          "base_uri": "https://localhost:8080/"
        },
        "id": "xqEbr1Zg_Vwf",
        "outputId": "a634e370-c7cf-4b21-9305-13f08d46c4c7"
      },
      "execution_count": null,
      "outputs": [
        {
          "output_type": "stream",
          "name": "stdout",
          "text": [
            "User: I am also experiencing body aches\n",
            "AI: Thank you for sharing that you are also experiencing body aches. In addition to your symptoms of feeling cold, having a fever, and body aches, have you noticed any other changes such as chills, sweating, nausea, vomiting, diarrhea, or shortness of breath? Are you experiencing any specific areas of pain or tenderness in your body? Have you traveled recently or been in close contact with someone who has traveled to an area with a high prevalence of infectious diseases?\n",
            "\n",
            "The combination of feeling cold, having a fever, and experiencing body aches could be indicative of influenza (the flu), a viral infection, or even COVID-19. It's important to continue monitoring your symptoms and consider seeking medical advice if they worsen or if you develop any concerning new symptoms.\n",
            "\n",
            "In the meantime, rest, stay hydrated, and consider taking over-the-counter pain relievers like acetaminophen or ibuprofen to help alleviate body aches and reduce fever. If your symptoms persist or become severe, it's best to consult with a healthcare provider for further evaluation and appropriate treatment.\n"
          ]
        }
      ]
    },
    {
      "cell_type": "code",
      "source": [
        "messages.append({\"role\": \"assistant\", \"content\":ans})\n",
        "messages.append({\"role\": \"user\", \"content\":input(\"User: \")})\n",
        "\n",
        "ans=generate_response(messages)\n",
        "\n",
        "print(\"AI: \"+ans)"
      ],
      "metadata": {
        "colab": {
          "base_uri": "https://localhost:8080/"
        },
        "id": "FBggeiTuAv0t",
        "outputId": "07907f01-7975-469c-9d29-459a5b0cad76"
      },
      "execution_count": null,
      "outputs": [
        {
          "output_type": "stream",
          "name": "stdout",
          "text": [
            "User: coughing\n",
            "AI: Thank you for sharing that you are also experiencing coughing. In addition to feeling cold, having a fever, body aches, and coughing, it's important to consider the following questions: Is your cough dry or productive (producing phlegm)? Are you experiencing any chest pain or tightness with your cough? Have you noticed any shortness of breath or wheezing? Do you have a history of respiratory conditions such as asthma or chronic obstructive pulmonary disease (COPD)?\n",
            "\n",
            "The presence of coughing along with your other symptoms could indicate a respiratory infection like the flu, a common cold, pneumonia, or even COVID-19. It's crucial to pay attention to the nature of your cough and any associated symptoms to help determine the underlying cause.\n",
            "\n",
            "In addition to the previous recommendations of rest, hydration, and over-the-counter pain relievers for fever and body aches, consider using remedies like honey and warm beverages to soothe your throat if your cough is dry. If your cough becomes severe or if you experience difficulty breathing, chest pain, or persistent high fever, seek medical attention promptly.\n",
            "\n",
            "Given the combination of symptoms you've described (feeling cold, fever, body aches, and coughing), it may be advisable to consult with a healthcare provider for further evaluation and appropriate treatment. They can provide personalized guidance based on your individual health history and current symptoms.\n"
          ]
        }
      ]
    },
    {
      "cell_type": "markdown",
      "source": [
        "**4. Interaction**\n",
        "\n",
        "- Flipped Interaction\n",
        "- Game Play"
      ],
      "metadata": {
        "id": "MOCcbKsCEjtt"
      }
    },
    {
      "cell_type": "markdown",
      "source": [
        "**Flipped Interaction Pattern**\n",
        "\n",
        "Contextual statements:\n",
        "\n",
        "- I would like you to ask me questions to achieve X.\n",
        "- You should ask questions until condition Y is met or to achieve this goal (alternatively, forever).\n",
        "- (Optional) Ask me N questions at a time."
      ],
      "metadata": {
        "id": "7gm9_XnhE9YC"
      }
    },
    {
      "cell_type": "code",
      "source": [
        "prompt='''\n",
        "I want to improve my knowledge of world geography.\n",
        "Ask me trivia questions about this topic until I've correctly answered 5 questions.\n",
        "\n",
        "Begin with the first question.\n",
        "'''\n",
        "messages=[\n",
        "    {\"role\": \"system\", \"content\": \"you are a helpful AI assistant\"},\n",
        "    {\"role\": \"user\", \"content\":prompt}\n",
        "  ]\n",
        "\n",
        "ans=generate_response(messages)\n",
        "\n",
        "print(\"AI: \"+ans)\n"
      ],
      "metadata": {
        "colab": {
          "base_uri": "https://localhost:8080/"
        },
        "id": "Oy86ZeI_Cpv7",
        "outputId": "922f588f-7e92-4352-8d48-bab7956e06e1"
      },
      "execution_count": null,
      "outputs": [
        {
          "output_type": "stream",
          "name": "stdout",
          "text": [
            "AI: Great! Here is your first question:\n",
            "\n",
            "Which two countries are connected by the Strait of Gibraltar?\n"
          ]
        }
      ]
    },
    {
      "cell_type": "code",
      "source": [
        "messages.append({\"role\": \"assistant\", \"content\":ans})\n",
        "messages.append({\"role\": \"user\", \"content\":input(\"User: \")})\n",
        "\n",
        "ans=generate_response(messages)\n",
        "\n",
        "print(\"AI: \"+ans)\n"
      ],
      "metadata": {
        "colab": {
          "base_uri": "https://localhost:8080/"
        },
        "id": "1LT15uLJP-dg",
        "outputId": "4e58917c-9423-4599-840d-98e5c387f5fc"
      },
      "execution_count": null,
      "outputs": [
        {
          "output_type": "stream",
          "name": "stdout",
          "text": [
            "User: Don't Know\n",
            "AI: The correct answer is Spain and Morocco. Let's move on to the next question:\n",
            "\n",
            "What is the capital city of Australia?\n"
          ]
        }
      ]
    },
    {
      "cell_type": "code",
      "source": [
        "messages.append({\"role\": \"assistant\", \"content\":ans})\n",
        "messages.append({\"role\": \"user\", \"content\":input(\"User: \")})\n",
        "\n",
        "ans=generate_response(messages)\n",
        "\n",
        "print(\"AI: \"+ans)\n"
      ],
      "metadata": {
        "colab": {
          "base_uri": "https://localhost:8080/"
        },
        "id": "MBHrd4LyRBpN",
        "outputId": "76517d26-c81f-4cfd-dc1e-b69b5fc9f9bc"
      },
      "execution_count": null,
      "outputs": [
        {
          "output_type": "stream",
          "name": "stdout",
          "text": [
            "User: Canberra\n",
            "AI: Correct! Canberra is the capital city of Australia. Here is your next question:\n",
            "\n",
            "Which country is known as the \"Land of the Rising Sun\"?\n"
          ]
        }
      ]
    },
    {
      "cell_type": "code",
      "source": [
        "messages.append({\"role\": \"assistant\", \"content\":ans})\n",
        "messages.append({\"role\": \"user\", \"content\":input(\"User: \")})\n",
        "\n",
        "ans=generate_response(messages)\n",
        "\n",
        "print(\"AI: \"+ans)"
      ],
      "metadata": {
        "colab": {
          "base_uri": "https://localhost:8080/"
        },
        "id": "9aHdkOPkRHKm",
        "outputId": "153caa2d-d23d-488e-e1f0-4103a6058d73"
      },
      "execution_count": null,
      "outputs": [
        {
          "output_type": "stream",
          "name": "stdout",
          "text": [
            "User: Japan\n",
            "AI: Correct! Japan is known as the \"Land of the Rising Sun.\" Here is your next question:\n",
            "\n",
            "What is the largest country in South America by land area?\n"
          ]
        }
      ]
    },
    {
      "cell_type": "code",
      "source": [
        "messages.append({\"role\": \"assistant\", \"content\":ans})\n",
        "messages.append({\"role\": \"user\", \"content\":input(\"User: \")})\n",
        "\n",
        "ans=generate_response(messages)\n",
        "\n",
        "print(\"AI: \"+ans)"
      ],
      "metadata": {
        "colab": {
          "base_uri": "https://localhost:8080/"
        },
        "id": "hGso1av5RL0K",
        "outputId": "57359878-e716-4d07-ad67-7a4925a38076"
      },
      "execution_count": null,
      "outputs": [
        {
          "output_type": "stream",
          "name": "stdout",
          "text": [
            "User: Brazil\n",
            "AI: Correct! Brazil is the largest country in South America by land area. Here is your final question:\n",
            "\n",
            "Which African country is known as the \"Rainbow Nation\"?\n"
          ]
        }
      ]
    },
    {
      "cell_type": "code",
      "source": [
        "messages.append({\"role\": \"assistant\", \"content\":ans})\n",
        "messages.append({\"role\": \"user\", \"content\":input(\"User: \")})\n",
        "\n",
        "ans=generate_response(messages)\n",
        "\n",
        "print(\"AI: \"+ans)"
      ],
      "metadata": {
        "colab": {
          "base_uri": "https://localhost:8080/"
        },
        "id": "aorY4kr5RdV2",
        "outputId": "46756d38-7bb6-4d56-bbd5-db593eb81a63"
      },
      "execution_count": null,
      "outputs": [
        {
          "output_type": "stream",
          "name": "stdout",
          "text": [
            "User: South Africa\n",
            "AI: Congratulations! That is correct. South Africa is known as the \"Rainbow Nation.\" You have answered 5 questions correctly. Great job on improving your knowledge of world geography! If you have any more questions or need further assistance, feel free to ask.\n"
          ]
        }
      ]
    },
    {
      "cell_type": "markdown",
      "source": [
        "**Game Play Pattern**\n",
        "\n",
        "Contextual statements:\n",
        "\n",
        "- Create a game for me around X OR we are going to play an X game.\n",
        "\n",
        "- One or more fundamental rules of the game."
      ],
      "metadata": {
        "id": "BTEHVfjZR5qt"
      }
    },
    {
      "cell_type": "code",
      "source": [
        "prompt='''\n",
        "We are going to play a English language learning game.\n",
        "\n",
        "The rules are:\n",
        "- I am a student studying in high school\n",
        "- Each time you will generate a short French sentences\n",
        "- I will try to translate the French sentences into English\n",
        "- For every correct guess, I get one point.\n",
        "\n",
        "end this game with total points when i write 'exit'\n",
        "\n",
        "'''\n",
        "messages=[\n",
        "    {\"role\": \"system\", \"content\": \"you are a helpful AI assistant\"},\n",
        "    {\"role\": \"user\", \"content\":prompt}\n",
        "  ]\n",
        "\n",
        "ans=generate_response(messages)\n",
        "\n",
        "print(\"AI: \"+ans)"
      ],
      "metadata": {
        "colab": {
          "base_uri": "https://localhost:8080/"
        },
        "id": "KpuzaxMDRn1-",
        "outputId": "c9526a4c-ab09-458b-fdaf-2abba437afbc"
      },
      "execution_count": null,
      "outputs": [
        {
          "output_type": "stream",
          "name": "stdout",
          "text": [
            "AI: Great! Let's start the game. Here is your first French sentence to translate:\n",
            "\n",
            "\"Je vais à l'école demain.\"\n",
            "\n",
            "What is the English translation of this sentence?\n"
          ]
        }
      ]
    },
    {
      "cell_type": "code",
      "source": [
        "messages.append({\"role\": \"assistant\", \"content\":ans})\n",
        "messages.append({\"role\": \"user\", \"content\":input(\"User: \")})\n",
        "\n",
        "ans=generate_response(messages)\n",
        "\n",
        "print(\"AI: \"+ans)"
      ],
      "metadata": {
        "colab": {
          "base_uri": "https://localhost:8080/"
        },
        "id": "UTRNaO7ITYav",
        "outputId": "5f60c607-fee6-479b-c27f-64ede89ab09a"
      },
      "execution_count": null,
      "outputs": [
        {
          "output_type": "stream",
          "name": "stdout",
          "text": [
            "User: I go to school every day.\n",
            "AI: Close! The correct translation is \"I am going to school tomorrow.\" Keep up the good work! Here is your next sentence to translate:\n",
            "\n",
            "\"Il fait beau aujourd'hui.\"\n"
          ]
        }
      ]
    },
    {
      "cell_type": "code",
      "source": [
        "messages.append({\"role\": \"assistant\", \"content\":ans})\n",
        "messages.append({\"role\": \"user\", \"content\":input(\"User: \")})\n",
        "\n",
        "ans=generate_response(messages)\n",
        "\n",
        "print(\"AI: \"+ans)"
      ],
      "metadata": {
        "colab": {
          "base_uri": "https://localhost:8080/"
        },
        "id": "lBhGucVPTro0",
        "outputId": "cf18ebad-f124-4c68-8ce2-ce46169f6164"
      },
      "execution_count": null,
      "outputs": [
        {
          "output_type": "stream",
          "name": "stdout",
          "text": [
            "User: It's nice weather today.\n",
            "AI: Correct! You earned a point. Here is the next sentence:\n",
            "\n",
            "\"Elle aime lire des livres.\"\n"
          ]
        }
      ]
    },
    {
      "cell_type": "code",
      "source": [
        "messages.append({\"role\": \"assistant\", \"content\":ans})\n",
        "messages.append({\"role\": \"user\", \"content\":input(\"User: \")})\n",
        "\n",
        "ans=generate_response(messages)\n",
        "\n",
        "print(\"AI: \"+ans)"
      ],
      "metadata": {
        "colab": {
          "base_uri": "https://localhost:8080/"
        },
        "id": "5uvWL2M3T3x-",
        "outputId": "212d5f77-741d-4f84-d3a0-a3a84f8b3ec1"
      },
      "execution_count": null,
      "outputs": [
        {
          "output_type": "stream",
          "name": "stdout",
          "text": [
            "User: exit\n",
            "AI: Thank you for playing the game! You earned 1 point. If you ever want to play again or need help with anything else, feel free to ask. Have a great day!\n"
          ]
        }
      ]
    },
    {
      "cell_type": "code",
      "source": [],
      "metadata": {
        "id": "9DIRrhloT7Pf"
      },
      "execution_count": null,
      "outputs": []
    },
    {
      "cell_type": "markdown",
      "source": [
        "## Thank You"
      ],
      "metadata": {
        "id": "M37G76cXnfX7"
      }
    }
  ]
}
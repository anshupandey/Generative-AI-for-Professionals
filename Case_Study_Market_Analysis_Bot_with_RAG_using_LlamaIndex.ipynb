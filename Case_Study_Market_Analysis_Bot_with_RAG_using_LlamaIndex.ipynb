{
  "cells": [
    {
      "cell_type": "markdown",
      "metadata": {
        "id": "view-in-github",
        "colab_type": "text"
      },
      "source": [
        "<a href=\"https://colab.research.google.com/github/anshupandey/Generative-AI-for-Professionals/blob/main/Case_Study_Market_Analysis_Bot_with_RAG_using_LlamaIndex.ipynb\" target=\"_parent\"><img src=\"https://colab.research.google.com/assets/colab-badge.svg\" alt=\"Open In Colab\"/></a>"
      ]
    },
    {
      "cell_type": "markdown",
      "id": "e8c3c7da",
      "metadata": {
        "id": "e8c3c7da"
      },
      "source": [
        "<a href=\"https://colab.research.google.com/github/run-llama/llama_index/blob/main/docs/docs/examples/agent/Chatbot_SEC.ipynb\" target=\"_parent\"><img src=\"https://colab.research.google.com/assets/colab-badge.svg\" alt=\"Open In Colab\"/></a>"
      ]
    },
    {
      "cell_type": "markdown",
      "id": "ae56bcff",
      "metadata": {
        "id": "ae56bcff"
      },
      "source": [
        "# 💬🤖 Market Analysis Bot\n",
        "\n",
        "LlamaIndex serves as a bridge between your data and Language Learning Models (LLMs), providing a toolkit that enables you to establish a query interface around your data for a variety of tasks, such as question-answering and summarization.\n",
        "\n",
        "In this tutorial, we'll walk you through building a context-augmented chatbot using a [Data Agent](https://gpt-index.readthedocs.io/en/stable/core_modules/agent_modules/agents/root.html). This agent, powered by LLMs, is capable of intelligently executing tasks over your data. The end result is a chatbot agent equipped with a robust set of data interface tools provided by LlamaIndex to answer queries about your data.\n",
        "\n",
        "**Note**: This tutorial builds upon initial work on creating a query interface over SEC 10-K filings - More about Sec-10 filings dataset: https://aws.amazon.com/marketplace/pp/prodview-k65p3l3pdyqfw#overview\n",
        "\n",
        "### Context\n",
        "\n",
        "In this guide, we’ll build a \"10-K Chatbot\" that uses raw UBER 10-K HTML filings from Dropbox. Users can interact with the chatbot to ask questions related to the 10-K filings."
      ]
    },
    {
      "cell_type": "markdown",
      "id": "03f3e1de",
      "metadata": {
        "id": "03f3e1de"
      },
      "source": [
        "### Preparation"
      ]
    },
    {
      "cell_type": "code",
      "execution_count": null,
      "id": "35c20fbe",
      "metadata": {
        "id": "35c20fbe"
      },
      "outputs": [],
      "source": [
        "%pip install llama-index-readers-file\n",
        "%pip install llama-index-embeddings-openai\n",
        "%pip install llama-index-agent-openai\n",
        "%pip install llama-index-llms-openai"
      ]
    },
    {
      "cell_type": "code",
      "execution_count": null,
      "id": "1211059f",
      "metadata": {
        "id": "1211059f"
      },
      "outputs": [],
      "source": [
        "import os\n",
        "\n",
        "os.environ[\"OPENAI_API_KEY\"] = \"sk-...\"\n",
        "\n",
        "import nest_asyncio\n",
        "\n",
        "nest_asyncio.apply()"
      ]
    },
    {
      "cell_type": "code",
      "execution_count": null,
      "id": "CuHeyb224pI2",
      "metadata": {
        "id": "CuHeyb224pI2"
      },
      "outputs": [],
      "source": [
        "# set text wrapping\n",
        "from IPython.display import HTML, display\n",
        "\n",
        "\n",
        "def set_css():\n",
        "    display(\n",
        "        HTML(\n",
        "            \"\"\"\n",
        "  <style>\n",
        "    pre {\n",
        "        white-space: pre-wrap;\n",
        "    }\n",
        "  </style>\n",
        "  \"\"\"\n",
        "        )\n",
        "    )\n",
        "\n",
        "\n",
        "get_ipython().events.register(\"pre_run_cell\", set_css)"
      ]
    },
    {
      "cell_type": "markdown",
      "id": "218cc812",
      "metadata": {
        "id": "218cc812"
      },
      "source": [
        "### Ingest Data\n",
        "\n",
        "Let's first download the raw 10-k files, from 2019-2022."
      ]
    },
    {
      "cell_type": "code",
      "execution_count": null,
      "id": "YC4R6nkCp91d",
      "metadata": {
        "id": "YC4R6nkCp91d"
      },
      "outputs": [],
      "source": [
        "# NOTE: the code examples assume you're operating within a Jupyter notebook.\n",
        "# download files\n",
        "!mkdir data\n",
        "!wget \"https://www.dropbox.com/s/948jr9cfs7fgj99/UBER.zip?dl=1\" -O data/UBER.zip\n",
        "!unzip data/UBER.zip -d data"
      ]
    },
    {
      "cell_type": "markdown",
      "id": "a2200f83",
      "metadata": {
        "id": "a2200f83"
      },
      "source": [
        "To parse the HTML files into formatted text, we use the [Unstructured](https://github.com/Unstructured-IO/unstructured) library. Thanks to [LlamaHub](https://llamahub.ai/), we can directly integrate with Unstructured, allowing conversion of any text into a Document format that LlamaIndex can ingest.\n",
        "\n",
        "First we install the necessary packages:"
      ]
    },
    {
      "cell_type": "markdown",
      "id": "f55a00d7",
      "metadata": {
        "id": "f55a00d7"
      },
      "source": [
        "Then we can use the `UnstructuredReader` to parse the HTML files into a list of `Document` objects."
      ]
    },
    {
      "cell_type": "code",
      "execution_count": null,
      "id": "5dcd0f94",
      "metadata": {
        "id": "5dcd0f94"
      },
      "outputs": [],
      "source": [
        "from llama_index.readers.file import UnstructuredReader\n",
        "from pathlib import Path\n",
        "\n",
        "years = [2022, 2021, 2020, 2019]\n",
        "\n",
        "loader = UnstructuredReader()\n",
        "doc_set = {}\n",
        "all_docs = []\n",
        "for year in years:\n",
        "    year_docs = loader.load_data(\n",
        "        file=Path(f\"./data/UBER/UBER_{year}.html\"), split_documents=False\n",
        "    )\n",
        "    # insert year metadata into each year\n",
        "    for d in year_docs:\n",
        "        d.metadata = {\"year\": year}\n",
        "    doc_set[year] = year_docs\n",
        "    all_docs.extend(year_docs)"
      ]
    },
    {
      "cell_type": "markdown",
      "id": "312d0cfe",
      "metadata": {
        "id": "312d0cfe"
      },
      "source": [
        "### Setting up Vector Indices for each year\n",
        "\n",
        "We first setup a vector index for each year. Each vector index allows us\n",
        "to ask questions about the 10-K filing of a given year.\n",
        "\n",
        "We build each index and save it to disk."
      ]
    },
    {
      "cell_type": "code",
      "execution_count": null,
      "id": "7c90fafc",
      "metadata": {
        "id": "7c90fafc",
        "outputId": "e7533a5e-5bcc-4335-81c1-74ab1b58e985"
      },
      "outputs": [
        {
          "data": {
            "text/html": [
              "\n",
              "  <style>\n",
              "    pre {\n",
              "        white-space: pre-wrap;\n",
              "    }\n",
              "  </style>\n",
              "  "
            ],
            "text/plain": [
              "<IPython.core.display.HTML object>"
            ]
          },
          "metadata": {},
          "output_type": "display_data"
        }
      ],
      "source": [
        "# initialize simple vector indices\n",
        "# NOTE: don't run this cell if the indices are already loaded!\n",
        "from llama_index.core import VectorStoreIndex, StorageContext\n",
        "from llama_index.embeddings.openai import OpenAIEmbedding\n",
        "from llama_index.llms.openai import OpenAI\n",
        "from llama_index.core import Settings\n",
        "\n",
        "Settings.chunk_size = 512\n",
        "Settings.chunk_overlap = 64\n",
        "Settings.llm = OpenAI(model=\"gpt-3.5-turbo\")\n",
        "Settings.embed_model = OpenAIEmbedding(model=\"text-embedding-3-small\")\n",
        "\n",
        "index_set = {}\n",
        "for year in years:\n",
        "    storage_context = StorageContext.from_defaults()\n",
        "    cur_index = VectorStoreIndex.from_documents(\n",
        "        doc_set[year],\n",
        "        storage_context=storage_context,\n",
        "    )\n",
        "    index_set[year] = cur_index\n",
        "    storage_context.persist(persist_dir=f\"./storage/{year}\")"
      ]
    },
    {
      "cell_type": "markdown",
      "id": "f0704f6b",
      "metadata": {
        "id": "f0704f6b"
      },
      "source": [
        "To load an index from disk, do the following"
      ]
    },
    {
      "cell_type": "code",
      "execution_count": null,
      "id": "7100e1b5",
      "metadata": {
        "id": "7100e1b5",
        "outputId": "bc2581d7-c3f5-4a83-d86f-082b1c79836b"
      },
      "outputs": [
        {
          "data": {
            "text/html": [
              "\n",
              "  <style>\n",
              "    pre {\n",
              "        white-space: pre-wrap;\n",
              "    }\n",
              "  </style>\n",
              "  "
            ],
            "text/plain": [
              "<IPython.core.display.HTML object>"
            ]
          },
          "metadata": {},
          "output_type": "display_data"
        }
      ],
      "source": [
        "# Load indices from disk\n",
        "from llama_index.core import load_index_from_storage\n",
        "\n",
        "index_set = {}\n",
        "for year in years:\n",
        "    storage_context = StorageContext.from_defaults(\n",
        "        persist_dir=f\"./storage/{year}\"\n",
        "    )\n",
        "    cur_index = load_index_from_storage(\n",
        "        storage_context,\n",
        "    )\n",
        "    index_set[year] = cur_index"
      ]
    },
    {
      "cell_type": "markdown",
      "id": "0aa3f903",
      "metadata": {
        "id": "0aa3f903"
      },
      "source": [
        "### Setting up a Sub Question Query Engine to Synthesize Answers Across 10-K Filings\n",
        "\n",
        "Since we have access to documents of 4 years, we may not only want to ask questions regarding the 10-K document of a given year, but ask questions that require analysis over all 10-K filings.\n",
        "\n",
        "To address this, we can use a [Sub Question Query Engine](https://gpt-index.readthedocs.io/en/stable/examples/query_engine/sub_question_query_engine.html). It decomposes a query into subqueries, each answered by an individual vector index, and synthesizes the results to answer the overall query.\n",
        "\n",
        "LlamaIndex provides some wrappers around indices (and query engines) so that they can be used by query engines and agents. First we define a `QueryEngineTool` for each vector index.\n",
        "Each tool has a name and a description; these are what the LLM agent sees to decide which tool to choose."
      ]
    },
    {
      "cell_type": "code",
      "execution_count": null,
      "id": "ce53419f",
      "metadata": {
        "id": "ce53419f",
        "outputId": "a62640d1-1239-4b22-ea09-f4034d39c247"
      },
      "outputs": [
        {
          "data": {
            "text/html": [
              "\n",
              "  <style>\n",
              "    pre {\n",
              "        white-space: pre-wrap;\n",
              "    }\n",
              "  </style>\n",
              "  "
            ],
            "text/plain": [
              "<IPython.core.display.HTML object>"
            ]
          },
          "metadata": {},
          "output_type": "display_data"
        }
      ],
      "source": [
        "from llama_index.core.tools import QueryEngineTool, ToolMetadata\n",
        "\n",
        "individual_query_engine_tools = [\n",
        "    QueryEngineTool(\n",
        "        query_engine=index_set[year].as_query_engine(),\n",
        "        metadata=ToolMetadata(\n",
        "            name=f\"vector_index_{year}\",\n",
        "            description=(\n",
        "                \"useful for when you want to answer queries about the\"\n",
        "                f\" {year} SEC 10-K for Uber\"\n",
        "            ),\n",
        "        ),\n",
        "    )\n",
        "    for year in years\n",
        "]"
      ]
    },
    {
      "cell_type": "markdown",
      "id": "6e8d2177",
      "metadata": {
        "id": "6e8d2177"
      },
      "source": [
        "Now we can create the Sub Question Query Engine, which will allow us to synthesize answers across the 10-K filings. We pass in the `individual_query_engine_tools` we defined above."
      ]
    },
    {
      "cell_type": "code",
      "execution_count": null,
      "id": "9c6cee32",
      "metadata": {
        "id": "9c6cee32",
        "outputId": "dcdcc891-34a1-44f8-dc31-22d8065de173"
      },
      "outputs": [
        {
          "data": {
            "text/html": [
              "\n",
              "  <style>\n",
              "    pre {\n",
              "        white-space: pre-wrap;\n",
              "    }\n",
              "  </style>\n",
              "  "
            ],
            "text/plain": [
              "<IPython.core.display.HTML object>"
            ]
          },
          "metadata": {},
          "output_type": "display_data"
        }
      ],
      "source": [
        "from llama_index.core.query_engine import SubQuestionQueryEngine\n",
        "\n",
        "query_engine = SubQuestionQueryEngine.from_defaults(\n",
        "    query_engine_tools=individual_query_engine_tools,\n",
        ")"
      ]
    },
    {
      "cell_type": "markdown",
      "id": "de5362b6",
      "metadata": {
        "id": "de5362b6"
      },
      "source": [
        "### Setting up the Chatbot Agent\n",
        "\n",
        "We use a LlamaIndex Data Agent to setup the outer chatbot agent, which has access to a set of Tools. Specifically, we will use an OpenAIAgent, that takes advantage of OpenAI API function calling. We want to use the separate Tools we defined previously for each index (corresponding to a given year), as well as a tool for the sub question query engine we defined above.\n",
        "\n",
        "First we define a `QueryEngineTool` for the sub question query engine:"
      ]
    },
    {
      "cell_type": "code",
      "execution_count": null,
      "id": "f42e5a52",
      "metadata": {
        "id": "f42e5a52",
        "outputId": "ef093f75-7176-4854-fc89-b686a6b0c2fc"
      },
      "outputs": [
        {
          "data": {
            "text/html": [
              "\n",
              "  <style>\n",
              "    pre {\n",
              "        white-space: pre-wrap;\n",
              "    }\n",
              "  </style>\n",
              "  "
            ],
            "text/plain": [
              "<IPython.core.display.HTML object>"
            ]
          },
          "metadata": {},
          "output_type": "display_data"
        }
      ],
      "source": [
        "query_engine_tool = QueryEngineTool(\n",
        "    query_engine=query_engine,\n",
        "    metadata=ToolMetadata(\n",
        "        name=\"sub_question_query_engine\",\n",
        "        description=(\n",
        "            \"useful for when you want to answer queries that require analyzing\"\n",
        "            \" multiple SEC 10-K documents for Uber\"\n",
        "        ),\n",
        "    ),\n",
        ")"
      ]
    },
    {
      "cell_type": "markdown",
      "id": "fdcc922d",
      "metadata": {
        "id": "fdcc922d"
      },
      "source": [
        "Then, we combine the Tools we defined above into a single list of tools for the agent:"
      ]
    },
    {
      "cell_type": "code",
      "execution_count": null,
      "id": "fad25dca",
      "metadata": {
        "id": "fad25dca",
        "outputId": "7845f8de-4545-4a5c-91bb-4c30817c7ceb"
      },
      "outputs": [
        {
          "data": {
            "text/html": [
              "\n",
              "  <style>\n",
              "    pre {\n",
              "        white-space: pre-wrap;\n",
              "    }\n",
              "  </style>\n",
              "  "
            ],
            "text/plain": [
              "<IPython.core.display.HTML object>"
            ]
          },
          "metadata": {},
          "output_type": "display_data"
        }
      ],
      "source": [
        "tools = individual_query_engine_tools + [query_engine_tool]"
      ]
    },
    {
      "cell_type": "markdown",
      "id": "14219225",
      "metadata": {
        "id": "14219225"
      },
      "source": [
        "Finally, we call `OpenAIAgent.from_tools` to create the agent, passing in the list of tools we defined above."
      ]
    },
    {
      "cell_type": "code",
      "execution_count": null,
      "id": "bb01833c",
      "metadata": {
        "id": "bb01833c",
        "outputId": "2722aaf7-e2f9-4f09-9329-b76c0d14fd2f"
      },
      "outputs": [
        {
          "data": {
            "text/html": [
              "\n",
              "  <style>\n",
              "    pre {\n",
              "        white-space: pre-wrap;\n",
              "    }\n",
              "  </style>\n",
              "  "
            ],
            "text/plain": [
              "<IPython.core.display.HTML object>"
            ]
          },
          "metadata": {},
          "output_type": "display_data"
        }
      ],
      "source": [
        "from llama_index.agent.openai import OpenAIAgent\n",
        "\n",
        "agent = OpenAIAgent.from_tools(tools, verbose=True)"
      ]
    },
    {
      "cell_type": "markdown",
      "id": "9e6112d4",
      "metadata": {
        "id": "9e6112d4"
      },
      "source": [
        "### Testing the Agent\n",
        "\n",
        "We can now test the agent with various queries.\n",
        "\n",
        "If we test it with a simple \"hello\" query, the agent does not use any Tools."
      ]
    },
    {
      "cell_type": "code",
      "execution_count": null,
      "id": "269e6700",
      "metadata": {
        "id": "269e6700",
        "outputId": "d038e4d7-44f7-4020-8ef8-afbaf9bd827a"
      },
      "outputs": [
        {
          "data": {
            "text/html": [
              "\n",
              "  <style>\n",
              "    pre {\n",
              "        white-space: pre-wrap;\n",
              "    }\n",
              "  </style>\n",
              "  "
            ],
            "text/plain": [
              "<IPython.core.display.HTML object>"
            ]
          },
          "metadata": {},
          "output_type": "display_data"
        },
        {
          "name": "stdout",
          "output_type": "stream",
          "text": [
            "Added user message to memory: hi, i am bob\n",
            "Hello Bob! How can I assist you today?\n"
          ]
        }
      ],
      "source": [
        "response = agent.chat(\"hi, i am bob\")\n",
        "print(str(response))"
      ]
    },
    {
      "cell_type": "markdown",
      "id": "2fe5fb92",
      "metadata": {
        "id": "2fe5fb92"
      },
      "source": [
        "If we test it with a query regarding the 10-k of a given year, the agent will use\n",
        "the relevant vector index Tool."
      ]
    },
    {
      "cell_type": "code",
      "execution_count": null,
      "id": "bb8226e6",
      "metadata": {
        "id": "bb8226e6",
        "outputId": "d99c5160-8b68-4a56-a738-ef292644b3fa"
      },
      "outputs": [
        {
          "data": {
            "text/html": [
              "\n",
              "  <style>\n",
              "    pre {\n",
              "        white-space: pre-wrap;\n",
              "    }\n",
              "  </style>\n",
              "  "
            ],
            "text/plain": [
              "<IPython.core.display.HTML object>"
            ]
          },
          "metadata": {},
          "output_type": "display_data"
        },
        {
          "name": "stdout",
          "output_type": "stream",
          "text": [
            "Added user message to memory: What were some of the biggest risk factors in 2020 for Uber?\n",
            "=== Calling Function ===\n",
            "Calling function: vector_index_2020 with args: {\n",
            "  \"input\": \"biggest risk factors\"\n",
            "}\n",
            "Got output: The biggest risk factors mentioned in the context are:\n",
            "\n",
            "1. The adverse impact of the COVID-19 pandemic and actions taken to mitigate it on the business.\n",
            "2. The potential reclassification of drivers as employees, workers, or quasi-employees instead of independent contractors.\n",
            "3. Intense competition in the mobility, delivery, and logistics industries.\n",
            "4. The need to lower fares or service fees and offer driver incentives and consumer discounts to remain competitive.\n",
            "5. Significant losses incurred and the uncertainty of achieving profitability.\n",
            "6. Difficulty in attracting and maintaining a critical mass of platform users.\n",
            "7. Operational, compliance, and cultural challenges.\n",
            "8. Negative media coverage and reputation issues.\n",
            "9. Inability to optimize organizational structure or manage growth effectively.\n",
            "10. Safety incidents that harm the ability to attract and retain platform users.\n",
            "11. Risks associated with substantial investments in new offerings and technologies.\n",
            "12. Potential fines or enforcement measures due to challenges faced.\n",
            "13. Uncertainty and potential long-term financial impact of the COVID-19 pandemic, including changes in user behavior and demand for mobility services.\n",
            "14. Potential adverse impact from business partners and third-party vendors affected by the pandemic.\n",
            "15. Volatility in financial markets and its effect on stock price and access to capital markets.\n",
            "\n",
            "These are the biggest risk factors mentioned in the given context.\n",
            "========================\n",
            "\n",
            "The biggest risk factors for Uber in 2020 were:\n",
            "\n",
            "1. The adverse impact of the COVID-19 pandemic and actions taken to mitigate it on the business.\n",
            "2. The potential reclassification of drivers as employees, workers, or quasi-employees instead of independent contractors.\n",
            "3. Intense competition in the mobility, delivery, and logistics industries.\n",
            "4. The need to lower fares or service fees and offer driver incentives and consumer discounts to remain competitive.\n",
            "5. Significant losses incurred and the uncertainty of achieving profitability.\n",
            "6. Difficulty in attracting and maintaining a critical mass of platform users.\n",
            "7. Operational, compliance, and cultural challenges.\n",
            "8. Negative media coverage and reputation issues.\n",
            "9. Inability to optimize organizational structure or manage growth effectively.\n",
            "10. Safety incidents that harm the ability to attract and retain platform users.\n",
            "11. Risks associated with substantial investments in new offerings and technologies.\n",
            "12. Potential fines or enforcement measures due to challenges faced.\n",
            "13. Uncertainty and potential long-term financial impact of the COVID-19 pandemic, including changes in user behavior and demand for mobility services.\n",
            "14. Potential adverse impact from business partners and third-party vendors affected by the pandemic.\n",
            "15. Volatility in financial markets and its effect on stock price and access to capital markets.\n",
            "\n",
            "These risk factors highlight the challenges and uncertainties faced by Uber in 2020.\n"
          ]
        }
      ],
      "source": [
        "response = agent.chat(\n",
        "    \"What were some of the biggest risk factors in 2020 for Uber?\"\n",
        ")\n",
        "print(str(response))"
      ]
    },
    {
      "cell_type": "markdown",
      "id": "78ac181f",
      "metadata": {
        "id": "78ac181f"
      },
      "source": [
        "Finally, if we test it with a query to compare/contrast risk factors across years, the agent will use the Sub Question Query Engine Tool."
      ]
    },
    {
      "cell_type": "code",
      "execution_count": null,
      "id": "72e475bf",
      "metadata": {
        "id": "72e475bf",
        "outputId": "c37e82c4-f068-44bd-f7b8-4193b57d2f80"
      },
      "outputs": [
        {
          "data": {
            "text/html": [
              "\n",
              "  <style>\n",
              "    pre {\n",
              "        white-space: pre-wrap;\n",
              "    }\n",
              "  </style>\n",
              "  "
            ],
            "text/plain": [
              "<IPython.core.display.HTML object>"
            ]
          },
          "metadata": {},
          "output_type": "display_data"
        },
        {
          "name": "stdout",
          "output_type": "stream",
          "text": [
            "Added user message to memory: Compare/contrast the risk factors described in the Uber 10-K across years. Give answer in bullet points.\n",
            "=== Calling Function ===\n",
            "Calling function: sub_question_query_engine with args: {\n",
            "  \"input\": \"Compare/contrast the risk factors described in the Uber 10-K across years\"\n",
            "}\n",
            "Generated 4 sub questions.\n",
            "\u001b[1;3;38;2;237;90;200m[vector_index_2022] Q: What are the risk factors described in the 2022 SEC 10-K for Uber?\n",
            "\u001b[0m\u001b[1;3;38;2;90;149;237m[vector_index_2021] Q: What are the risk factors described in the 2021 SEC 10-K for Uber?\n",
            "\u001b[0m\u001b[1;3;38;2;11;159;203m[vector_index_2020] Q: What are the risk factors described in the 2020 SEC 10-K for Uber?\n",
            "\u001b[0m\u001b[1;3;38;2;155;135;227m[vector_index_2019] Q: What are the risk factors described in the 2019 SEC 10-K for Uber?\n",
            "\u001b[0m\u001b[1;3;38;2;237;90;200m[vector_index_2022] A: The risk factors described in the 2022 SEC 10-K for Uber are not provided in the given context information.\n",
            "\u001b[0m\u001b[1;3;38;2;90;149;237m[vector_index_2021] A: The risk factors described in the 2021 SEC 10-K for Uber are not provided in the given context information.\n",
            "\u001b[0m\u001b[1;3;38;2;155;135;227m[vector_index_2019] A: The risk factors described in the 2019 SEC 10-K for Uber include potential infringement of intellectual property, the need to protect proprietary information, dependence on rapid technological advances, seasonality in revenue generation, fluctuations in usage of the platform, seasonal increases in revenue for certain quarters, and the potential impact of employee actions.\n",
            "\u001b[0m\u001b[1;3;38;2;11;159;203m[vector_index_2020] A: The risk factors described in the 2020 SEC 10-K for Uber include the potential adverse effects on their business, financial condition, and results of operations. These risks could cause a decline in the trading price of their common stock and harm their business prospects. Additionally, there may be risks and uncertainties not currently known to Uber or that they do not believe are material. For a more detailed discussion of these risk factors, please refer to the \"Risk Factors\" section in Uber's Annual Report on Form 10-K.\n",
            "\u001b[0mGot output: The risk factors described in the Uber 10-K vary across different years. In the 2020 SEC 10-K, the risk factors include potential adverse effects on their business, financial condition, and results of operations. However, the 2019 SEC 10-K includes additional risk factors such as potential infringement of intellectual property, the need to protect proprietary information, dependence on rapid technological advances, seasonality in revenue generation, fluctuations in usage of the platform, seasonal increases in revenue for certain quarters, and the potential impact of employee actions. It is important to note that the specific risk factors may change from year to year based on the evolving business environment and circumstances.\n",
            "========================\n",
            "\n",
            "=== Calling Function ===\n",
            "Calling function: vector_index_2022 with args: {\n",
            "  \"input\": \"risk factors\"\n",
            "}\n",
            "Got output: Some of the risk factors mentioned in the context include the potential failure to meet regulatory requirements related to climate change, the impact of contagious diseases and pandemics on the business, the occurrence of catastrophic events, the uncertainty surrounding future pandemics or disease outbreaks, and the competitive nature of the mobility, delivery, and logistics industries. Additionally, the classification of drivers as employees instead of independent contractors, the need to lower fares or service fees to remain competitive, and the company's history of significant losses and anticipated increase in operating expenses are also mentioned as risk factors.\n",
            "========================\n",
            "\n",
            "=== Calling Function ===\n",
            "Calling function: vector_index_2021 with args: {\n",
            "  \"input\": \"risk factors\"\n",
            "}\n",
            "Got output: The COVID-19 pandemic and the impact of actions to mitigate the pandemic have adversely affected and may continue to adversely affect parts of our business. Our business would be adversely affected if Drivers were classified as employees, workers or quasi-employees instead of independent contractors. The mobility, delivery, and logistics industries are highly competitive, with well-established and low-cost alternatives that have been available for decades, low barriers to entry, low switching costs, and well-capitalized competitors in nearly every major geographic region. To remain competitive in certain markets, we have in the past lowered, and may continue to lower, fares or service fees, and we have in the past offered, and may continue to offer, significant Driver incentives and consumer discounts and promotions. We have incurred significant losses since inception, including in the United States and other major markets. We expect our operating expenses to increase significantly in the foreseeable future, and we may not achieve or maintain profitability. If we are unable to attract or maintain a critical mass of Drivers, consumers, merchants, shippers, and carriers, whether as a result of competition or other factors, our platform will become less appealing to platform users. Maintaining and enhancing our brand and reputation is critical to our business prospects. We have previously received significant media coverage and negative publicity regarding our brand and reputation, and while we have taken significant steps to rehabilitate our brand and reputation, failure to maintain and enhance our brand and reputation will cause our business to suffer. Our historical workplace culture and forward-leaning approach created operational, compliance, and cultural challenges and our efforts to address these challenges may not be successful. If we are unable to optimize our organizational structure or effectively manage our growth, our financial performance and future prospects will be adversely affected. Platform users may engage in, or be subject to, criminal, violent, inappropriate, or dangerous activity that results in major safety incidents, which may harm our ability to attract and retain Drivers, consumers, merchants, shippers, and carriers. We are making substantial investments in new offerings and technologies, and may increase such investments in the future. These new ventures are inherently risky, and we may never realize any expected benefits from them.\n",
            "========================\n",
            "\n",
            "=== Calling Function ===\n",
            "Calling function: vector_index_2020 with args: {\n",
            "  \"input\": \"risk factors\"\n",
            "}\n",
            "Got output: The risk factors mentioned in the context include the adverse impact of the COVID-19 pandemic, potential reclassification of drivers as employees, intense competition in the mobility, delivery, and logistics industries, the need to lower fares and offer incentives to remain competitive, significant losses and increased operating expenses, the importance of attracting and maintaining platform users, operational and cultural challenges, negative media coverage affecting brand reputation, difficulties in managing growth and organizational structure, safety incidents, risks associated with new ventures and investments, legal uncertainties, challenges in international operations, currency fluctuations, tax consequences, financial reporting burdens, political and economic instability, public health concerns, and limited influence over minority-owned affiliates. These risk factors could have an adverse effect on the business, financial condition, operating results, and prospects of the company.\n",
            "========================\n",
            "\n",
            "=== Calling Function ===\n",
            "Calling function: vector_index_2019 with args: {\n",
            "  \"input\": \"risk factors\"\n",
            "}\n",
            "Got output: The personal mobility, meal delivery, and logistics industries are highly competitive, with well-established and low-cost alternatives that have been available for decades, low barriers to entry, low switching costs, and well-capitalized competitors in nearly every major geographic region. If we are unable to compete effectively in these industries, our business and financial prospects would be adversely impacted.\n",
            "========================\n",
            "\n",
            "Here is a comparison of the risk factors described in the Uber 10-K across years:\n",
            "\n",
            "2022:\n",
            "- Potential failure to meet regulatory requirements related to climate change\n",
            "- Impact of contagious diseases and pandemics on the business\n",
            "- Occurrence of catastrophic events\n",
            "- Uncertainty surrounding future pandemics or disease outbreaks\n",
            "- Competitive nature of the mobility, delivery, and logistics industries\n",
            "- Classification of drivers as employees instead of independent contractors\n",
            "- Need to lower fares or service fees to remain competitive\n",
            "- History of significant losses and anticipated increase in operating expenses\n",
            "\n",
            "2021:\n",
            "- Adverse impact of the COVID-19 pandemic and actions to mitigate it\n",
            "- Potential reclassification of drivers as employees instead of independent contractors\n",
            "- Intense competition in the mobility, delivery, and logistics industries\n",
            "- Need to lower fares or service fees and offer driver incentives and consumer discounts\n",
            "- Significant losses incurred and uncertainty of achieving profitability\n",
            "- Difficulty in attracting and maintaining a critical mass of platform users\n",
            "- Operational, compliance, and cultural challenges\n",
            "- Negative media coverage and reputation issues\n",
            "- Inability to optimize organizational structure or manage growth effectively\n",
            "- Safety incidents that harm the ability to attract and retain platform users\n",
            "- Risks associated with substantial investments in new offerings and technologies\n",
            "\n",
            "2020:\n",
            "- Adverse impact of the COVID-19 pandemic and actions taken to mitigate it\n",
            "- Potential reclassification of drivers as employees, workers, or quasi-employees instead of independent contractors\n",
            "- Intense competition in the mobility, delivery, and logistics industries\n",
            "- Need to lower fares or service fees and offer driver incentives and consumer discounts\n",
            "- Significant losses incurred and uncertainty of achieving profitability\n",
            "- Difficulty in attracting and maintaining a critical mass of platform users\n",
            "- Operational, compliance, and cultural challenges\n",
            "- Negative media coverage and reputation issues\n",
            "- Inability to optimize organizational structure or manage growth effectively\n",
            "- Safety incidents that harm the ability to attract and retain platform users\n",
            "- Risks associated with substantial investments in new offerings and technologies\n",
            "- Potential fines or enforcement measures due to challenges faced\n",
            "- Uncertainty and potential long-term financial impact of the COVID-19 pandemic\n",
            "- Potential adverse impact from business partners and third-party vendors affected by the pandemic\n",
            "- Volatility in financial markets and its effect on stock price and access to capital markets\n",
            "\n",
            "2019:\n",
            "- Highly competitive personal mobility, meal delivery, and logistics industries\n",
            "- Potential inability to compete effectively in these industries\n",
            "\n",
            "These bullet points highlight the similarities and differences in the risk factors described in the Uber 10-K across years.\n"
          ]
        }
      ],
      "source": [
        "cross_query_str = (\n",
        "    \"Compare/contrast the risk factors described in the Uber 10-K across\"\n",
        "    \" years. Give answer in bullet points.\"\n",
        ")\n",
        "\n",
        "response = agent.chat(cross_query_str)\n",
        "print(str(response))"
      ]
    },
    {
      "cell_type": "markdown",
      "id": "1153ee23",
      "metadata": {
        "id": "1153ee23"
      },
      "source": [
        "### Setting up the Chatbot Loop\n",
        "\n",
        "Now that we have the chatbot setup, it only takes a few more steps to setup a basic interactive loop to chat with our SEC-augmented chatbot!"
      ]
    },
    {
      "cell_type": "code",
      "execution_count": null,
      "id": "5fa14fa6",
      "metadata": {
        "id": "5fa14fa6",
        "outputId": "aaf871e6-956f-4d5b-9330-b4fba9753b31"
      },
      "outputs": [
        {
          "data": {
            "text/html": [
              "\n",
              "  <style>\n",
              "    pre {\n",
              "        white-space: pre-wrap;\n",
              "    }\n",
              "  </style>\n",
              "  "
            ],
            "text/plain": [
              "<IPython.core.display.HTML object>"
            ]
          },
          "metadata": {},
          "output_type": "display_data"
        },
        {
          "name": "stdout",
          "output_type": "stream",
          "text": [
            "Agent: In 2022, Uber is facing several legal proceedings. Here are some of them:\n",
            "\n",
            "1. California: The state Attorney General and city attorneys filed a complaint against Uber and Lyft, alleging that drivers are misclassified as independent contractors. A preliminary injunction was issued but stayed pending appeal. The Court of Appeal affirmed the lower court's ruling, and Uber filed a petition for review with the California Supreme Court. However, the Supreme Court declined the petition for review. The lawsuit is ongoing, focusing on claims by the California Attorney General for periods prior to the enactment of Proposition 22.\n",
            "\n",
            "2. Massachusetts: The Attorney General of Massachusetts filed a complaint against Uber, alleging that drivers are employees entitled to wage and labor law protections. Uber's motion to dismiss the complaint was denied, and a summary judgment motion is pending.\n",
            "\n",
            "3. New York: Uber is facing allegations of misclassification and employment violations by the state Attorney General. The resolution of this matter is uncertain.\n",
            "\n",
            "4. Switzerland: Several administrative bodies in Switzerland have issued rulings classifying Uber drivers as employees for social security or labor purposes. Uber is challenging these rulings before the Social Security and Administrative Tribunals.\n",
            "\n",
            "These are some of the legal proceedings against Uber in 2022. The outcomes and potential losses in these cases are uncertain.\n"
          ]
        }
      ],
      "source": [
        "agent = OpenAIAgent.from_tools(tools)  # verbose=False by default\n",
        "\n",
        "while True:\n",
        "    text_input = input(\"User: \")\n",
        "    if text_input == \"exit\":\n",
        "        break\n",
        "    response = agent.chat(text_input)\n",
        "    print(f\"Agent: {response}\")\n",
        "\n",
        "# User: What were some of the legal proceedings against Uber in 2022?"
      ]
    }
  ],
  "metadata": {
    "colab": {
      "provenance": [],
      "include_colab_link": true
    },
    "kernelspec": {
      "display_name": "Python 3 (ipykernel)",
      "language": "python",
      "name": "python3"
    },
    "language_info": {
      "codemirror_mode": {
        "name": "ipython",
        "version": 3
      },
      "file_extension": ".py",
      "mimetype": "text/x-python",
      "name": "python",
      "nbconvert_exporter": "python",
      "pygments_lexer": "ipython3"
    }
  },
  "nbformat": 4,
  "nbformat_minor": 5
}
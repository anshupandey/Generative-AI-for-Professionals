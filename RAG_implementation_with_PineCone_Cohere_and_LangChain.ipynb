{
  "cells": [
    {
      "cell_type": "markdown",
      "metadata": {
        "id": "view-in-github",
        "colab_type": "text"
      },
      "source": [
        "<a href=\"https://colab.research.google.com/github/anshupandey/Generative-AI-for-Professionals/blob/main/RAG_implementation_with_PineCone_Cohere_and_LangChain.ipynb\" target=\"_parent\"><img src=\"https://colab.research.google.com/assets/colab-badge.svg\" alt=\"Open In Colab\"/></a>"
      ]
    },
    {
      "cell_type": "markdown",
      "metadata": {
        "id": "z_Qb0FmlaPgG"
      },
      "source": [
        "# RAG_implementation_with_PineCone_Cohere_and_LangChain"
      ]
    },
    {
      "cell_type": "markdown",
      "metadata": {
        "id": "G3E1V22KaPgM"
      },
      "source": [
        "Retrieval-Augmented Generation (RAG) combines large language models (LLMs) with external knowledge bases to enhance the model's responses."
      ]
    },
    {
      "cell_type": "markdown",
      "source": [
        "In this implementation, the Retriever-Augmented Generation (RAG) system integrates PineCone as the vector database, Cohere as the language model, and LangChain as the orchestration framework to provide an efficient and scalable solution for advanced information retrieval and generation tasks.\n",
        "\n",
        "\n",
        "**Vector Database**: PineCone\n",
        "**Framework**: LangChain\n",
        "**Large Language Model**: Cohere (model=command)\n",
        "**Embedding Model**: Cohere (model=\"embed-english-light-v3.0\")\n",
        "\n",
        "**PineCone** serves as the vector database, which is crucial for managing and retrieving vector embeddings that represent textual data. These embeddings are generated using Cohere's \"**embed-english-light-v3.0**\" model, designed to capture the semantic essence of texts in vector form efficiently. PineCone excels in handling these embeddings, enabling fast and accurate retrieval of relevant information based on the semantic closeness to the input queries.\n",
        "\n",
        "**Cohere**'s language model, particularly the command configuration, is employed to generate responses. Once PineCone retrieves the most relevant embeddings, the Cohere model uses this information to construct detailed and contextually relevant responses. This model is known for its ability to understand and generate coherent and contextually appropriate natural language, making it ideal for ensuring that the generated responses are informative and engaging.\n",
        "\n",
        "**LangChain** acts as the framework that ties together PineCone and Cohere. It coordinates the data flow between the vector database and the language model, ensuring that the embeddings retrieved by PineCone are effectively utilized by the Cohere model for generating responses. LangChain is essential for maintaining the efficiency of the RAG system, optimizing the interaction between its components to maximize response quality and retrieval speed.\n",
        "\n",
        "Together, these technologies create a robust RAG system that leverages the unique capabilities of each component, enhancing the system's overall performance in retrieving and generating precise information responses in diverse applications.\n",
        "\n"
      ],
      "metadata": {
        "id": "n2bGzMNsZxwa"
      }
    },
    {
      "cell_type": "markdown",
      "source": [
        "## Environment Setup"
      ],
      "metadata": {
        "id": "tK5O3Y29aPl6"
      }
    },
    {
      "cell_type": "code",
      "execution_count": 1,
      "metadata": {
        "colab": {
          "base_uri": "https://localhost:8080/"
        },
        "id": "miMNPnJc9s2l",
        "outputId": "b1aefe4c-b009-42d3-fdac-12a848340c26"
      },
      "outputs": [
        {
          "output_type": "stream",
          "name": "stdout",
          "text": [
            "\u001b[2K     \u001b[90m━━━━━━━━━━━━━━━━━━━━━━━━━━━━━━━━━━━━━━━━\u001b[0m \u001b[32m867.6/867.6 kB\u001b[0m \u001b[31m4.7 MB/s\u001b[0m eta \u001b[36m0:00:00\u001b[0m\n",
            "\u001b[2K     \u001b[90m━━━━━━━━━━━━━━━━━━━━━━━━━━━━━━━━━━━━━━━━\u001b[0m \u001b[32m2.0/2.0 MB\u001b[0m \u001b[31m14.0 MB/s\u001b[0m eta \u001b[36m0:00:00\u001b[0m\n",
            "\u001b[2K     \u001b[90m━━━━━━━━━━━━━━━━━━━━━━━━━━━━━━━━━━━━━━━━\u001b[0m \u001b[32m151.2/151.2 kB\u001b[0m \u001b[31m11.0 MB/s\u001b[0m eta \u001b[36m0:00:00\u001b[0m\n",
            "\u001b[2K     \u001b[90m━━━━━━━━━━━━━━━━━━━━━━━━━━━━━━━━━━━━━━━━\u001b[0m \u001b[32m214.5/214.5 kB\u001b[0m \u001b[31m9.5 MB/s\u001b[0m eta \u001b[36m0:00:00\u001b[0m\n",
            "\u001b[2K     \u001b[90m━━━━━━━━━━━━━━━━━━━━━━━━━━━━━━━━━━━━━━━━\u001b[0m \u001b[32m290.4/290.4 kB\u001b[0m \u001b[31m14.6 MB/s\u001b[0m eta \u001b[36m0:00:00\u001b[0m\n",
            "\u001b[2K     \u001b[90m━━━━━━━━━━━━━━━━━━━━━━━━━━━━━━━━━━━━━━━━\u001b[0m \u001b[32m302.9/302.9 kB\u001b[0m \u001b[31m17.9 MB/s\u001b[0m eta \u001b[36m0:00:00\u001b[0m\n",
            "\u001b[2K     \u001b[90m━━━━━━━━━━━━━━━━━━━━━━━━━━━━━━━━━━━━━━━━\u001b[0m \u001b[32m120.6/120.6 kB\u001b[0m \u001b[31m10.7 MB/s\u001b[0m eta \u001b[36m0:00:00\u001b[0m\n",
            "\u001b[2K     \u001b[90m━━━━━━━━━━━━━━━━━━━━━━━━━━━━━━━━━━━━━━━━\u001b[0m \u001b[32m3.1/3.1 MB\u001b[0m \u001b[31m20.5 MB/s\u001b[0m eta \u001b[36m0:00:00\u001b[0m\n",
            "\u001b[2K     \u001b[90m━━━━━━━━━━━━━━━━━━━━━━━━━━━━━━━━━━━━━━━━\u001b[0m \u001b[32m75.6/75.6 kB\u001b[0m \u001b[31m3.0 MB/s\u001b[0m eta \u001b[36m0:00:00\u001b[0m\n",
            "\u001b[2K     \u001b[90m━━━━━━━━━━━━━━━━━━━━━━━━━━━━━━━━━━━━━━━━\u001b[0m \u001b[32m215.9/215.9 kB\u001b[0m \u001b[31m10.3 MB/s\u001b[0m eta \u001b[36m0:00:00\u001b[0m\n",
            "\u001b[2K     \u001b[90m━━━━━━━━━━━━━━━━━━━━━━━━━━━━━━━━━━━━━━━━\u001b[0m \u001b[32m49.3/49.3 kB\u001b[0m \u001b[31m2.9 MB/s\u001b[0m eta \u001b[36m0:00:00\u001b[0m\n",
            "\u001b[2K     \u001b[90m━━━━━━━━━━━━━━━━━━━━━━━━━━━━━━━━━━━━━━━━\u001b[0m \u001b[32m77.9/77.9 kB\u001b[0m \u001b[31m4.8 MB/s\u001b[0m eta \u001b[36m0:00:00\u001b[0m\n",
            "\u001b[2K     \u001b[90m━━━━━━━━━━━━━━━━━━━━━━━━━━━━━━━━━━━━━━━━\u001b[0m \u001b[32m58.3/58.3 kB\u001b[0m \u001b[31m4.7 MB/s\u001b[0m eta \u001b[36m0:00:00\u001b[0m\n",
            "\u001b[2K     \u001b[90m━━━━━━━━━━━━━━━━━━━━━━━━━━━━━━━━━━━━━━━━\u001b[0m \u001b[32m53.0/53.0 kB\u001b[0m \u001b[31m2.9 MB/s\u001b[0m eta \u001b[36m0:00:00\u001b[0m\n",
            "\u001b[2K     \u001b[90m━━━━━━━━━━━━━━━━━━━━━━━━━━━━━━━━━━━━━━━━\u001b[0m \u001b[32m142.5/142.5 kB\u001b[0m \u001b[31m4.2 MB/s\u001b[0m eta \u001b[36m0:00:00\u001b[0m\n",
            "\u001b[?25h"
          ]
        }
      ],
      "source": [
        "!pip install -q langchain langchain_community cohere pinecone-client langchain_pinecone pypdf langchain-cohere"
      ]
    },
    {
      "cell_type": "code",
      "source": [
        "pip install cohere --quiet"
      ],
      "metadata": {
        "id": "ePxTa-wjUHZ5"
      },
      "execution_count": 2,
      "outputs": []
    },
    {
      "cell_type": "code",
      "execution_count": 3,
      "metadata": {
        "id": "Hl32WVIbeJQl"
      },
      "outputs": [],
      "source": [
        "import os\n",
        "OPENAI_API_KEY = \"sk-******************\"\n",
        "os.environ[\"OPENAI_API_KEY\"] = OPENAI_API_KEY\n",
        "CO_API_KEY = \"CI***************\"\n",
        "os.environ[\"CO_API_KEY\"] = CO_API_KEY\n",
        "os.environ[\"COHERE_API_KEY\"] = CO_API_KEY\n",
        "os.environ[\"PINECONE_API_KEY\"] = \"**********************\""
      ]
    },
    {
      "cell_type": "markdown",
      "metadata": {
        "id": "BZFsBiZuaPgW"
      },
      "source": [
        "The RecursiveCharacterTextSplitter is used in Retriever-Augmented Generation (RAG) models for handling long text inputs.\n",
        "\n",
        "Here are the main points for its use:\n",
        "\n",
        "- Length Management\n",
        "- Context Preservation\n",
        "- Efficient Processing"
      ]
    },
    {
      "cell_type": "markdown",
      "source": [
        "## Data Preparation for RAG"
      ],
      "metadata": {
        "id": "8NgAb8I7aSNW"
      }
    },
    {
      "cell_type": "code",
      "execution_count": 4,
      "metadata": {
        "id": "v_7F7gz_bAIV"
      },
      "outputs": [],
      "source": [
        "# Import the RecursiveCharacterTextSplitter class.\n",
        "from langchain.text_splitter import RecursiveCharacterTextSplitter\n",
        "\n",
        "# Initialize a RecursiveCharacterTextSplitter with specified separators and configurations.\n",
        "# The text will be split into chunks around 1000 characters long, with a 20-character overlap between chunks.\n",
        "\n",
        "character_splitter = RecursiveCharacterTextSplitter(\n",
        "    separators=[\"\\n\\n\", \"\\n\", \". \", \" \", \"\"],  # The hierarchy of separators to use for splitting.\n",
        "    chunk_size=500,  # Target size of each chunk in characters.\n",
        "    chunk_overlap=100)\n",
        "\n",
        "\n"
      ]
    },
    {
      "cell_type": "markdown",
      "metadata": {
        "id": "gbcFKONLaPgY"
      },
      "source": [
        "Here we are using four pdfs related to Stock market investments and strategies. These are our external data sources on which we will implement RAG solution\n",
        "\n",
        "- PyPDFLoader class from the langchain_community.document_loaders module to load and process multiple PDF documents\n",
        "\n",
        "\n",
        "- Loop Through PDF Files: The code iterates over the list of PDF filenames using a for-loop.\n",
        "\n",
        "\n",
        "- Loading PDF Content: For each PDF file in the list, an instance of PyPDFLoader is created with the filename as an argument.\n",
        "\n",
        "\n",
        "- Extract and Split Text: The load_and_split method of the PyPDFLoader instance is called to load the text content from the PDF file and split it into manageable segments. The method uses a text_splitter for this purpose, which is RecursiveCharacterTextSplitter defined above cell"
      ]
    },
    {
      "cell_type": "code",
      "source": [
        "!wget -q https://anshupandey.blob.core.windows.net/generativeaidocs/INVESTMENT_STRATEGIES_1.pdf\n",
        "!wget -q https://anshupandey.blob.core.windows.net/generativeaidocs/NSEHandbook.pdf\n",
        "!wget -q https://anshupandey.blob.core.windows.net/generativeaidocs/The%20Basics%20for%20Investing%20in%20Stocks.pdf\n",
        "!wget -q https://anshupandey.blob.core.windows.net/generativeaidocs/Howstockmarketworks.pdf"
      ],
      "metadata": {
        "id": "8QvSHVIsa9f5"
      },
      "execution_count": 5,
      "outputs": []
    },
    {
      "cell_type": "code",
      "execution_count": 6,
      "metadata": {
        "id": "7hXUDrKZ9yvs"
      },
      "outputs": [],
      "source": [
        "from langchain_community.document_loaders import PyPDFLoader\n",
        "\n",
        "pdfs=[\"NSEHandbook.pdf\",\"INVESTMENT_STRATEGIES_1.pdf\",\"The Basics for Investing in Stocks.pdf\",\"Howstockmarketworks.pdf\"]\n",
        "docs=[]\n",
        "for i in pdfs:\n",
        "    loader = PyPDFLoader(i)\n",
        "    docs.extend(loader.load_and_split(text_splitter=character_splitter))"
      ]
    },
    {
      "cell_type": "code",
      "execution_count": 7,
      "metadata": {
        "colab": {
          "base_uri": "https://localhost:8080/"
        },
        "id": "pYy8j_5IS184",
        "outputId": "830d3a47-5579-4b38-beb8-a6dec2e556da"
      },
      "outputs": [
        {
          "output_type": "execute_result",
          "data": {
            "text/plain": [
              "1429"
            ]
          },
          "metadata": {},
          "execution_count": 7
        }
      ],
      "source": [
        "len(docs)"
      ]
    },
    {
      "cell_type": "markdown",
      "metadata": {
        "id": "QjWqdq6YaPga"
      },
      "source": [
        "These function is used for printing the retrieved documents from vector store in nice and understandable format"
      ]
    },
    {
      "cell_type": "code",
      "execution_count": 8,
      "metadata": {
        "id": "Ef9o1QmQaPga"
      },
      "outputs": [],
      "source": [
        "def pretty_print_docs(docs):\n",
        "    print(\n",
        "        f\"\\n{'-' * 100}\\n\".join(\n",
        "            [f\"Document {i+1}:\\n\\n\" + d.page_content for i, d in enumerate(docs)]\n",
        "        )\n",
        "    )"
      ]
    },
    {
      "cell_type": "markdown",
      "metadata": {
        "id": "iR6cNcwtaPge"
      },
      "source": [
        "We are using cohere for vector embedding of our external data sources"
      ]
    },
    {
      "cell_type": "markdown",
      "source": [
        "## Embedding Generation"
      ],
      "metadata": {
        "id": "JGd88oleaa4Y"
      }
    },
    {
      "cell_type": "code",
      "execution_count": 9,
      "metadata": {
        "id": "3H9JQdrgaBne"
      },
      "outputs": [],
      "source": [
        "import cohere\n",
        "co = cohere.Client(os.getenv(\"Cohere_embedding\"))"
      ]
    },
    {
      "cell_type": "code",
      "execution_count": 10,
      "metadata": {
        "id": "x8x0N_9t97DY"
      },
      "outputs": [],
      "source": [
        "from langchain_community.embeddings import CohereEmbeddings"
      ]
    },
    {
      "cell_type": "code",
      "execution_count": 11,
      "metadata": {
        "id": "HT_m-hYS-iNI",
        "colab": {
          "base_uri": "https://localhost:8080/"
        },
        "outputId": "c076610a-8820-4de0-8507-dd8f4c80288a"
      },
      "outputs": [
        {
          "output_type": "stream",
          "name": "stderr",
          "text": [
            "/usr/local/lib/python3.10/dist-packages/langchain_core/_api/deprecation.py:119: LangChainDeprecationWarning: The class `CohereEmbeddings` was deprecated in LangChain 0.0.30 and will be removed in 0.3.0. An updated version of the class exists in the langchain-cohere package and should be used instead. To use it run `pip install -U langchain-cohere` and import as `from langchain_cohere import CohereEmbeddings`.\n",
            "  warn_deprecated(\n"
          ]
        }
      ],
      "source": [
        "embeddings = CohereEmbeddings(model=\"embed-english-light-v3.0\",cohere_api_key=os.getenv('COHERE_API_KEY'))"
      ]
    },
    {
      "cell_type": "markdown",
      "source": [
        "## Vector DB Setup and Retrieval"
      ],
      "metadata": {
        "id": "M4IHi7yHaW59"
      }
    },
    {
      "cell_type": "markdown",
      "metadata": {
        "id": "xy2qgcA__BGu"
      },
      "source": [
        "We are using Pinecone vectorDB for storing the Vector embeddings"
      ]
    },
    {
      "cell_type": "code",
      "execution_count": 12,
      "metadata": {
        "id": "aSQt8T6EE7vm"
      },
      "outputs": [],
      "source": [
        "from pinecone import Pinecone, ServerlessSpec\n",
        "import time\n",
        "\n",
        "use_serverless=False\n",
        "\n",
        "# configure client\n",
        "pc = Pinecone(api_key=os.getenv(\"PINECONE_API_KEY\"))\n",
        "\n",
        "\n",
        "\n",
        "# check for and delete index if already exists\n",
        "index_name = 'langchain-rag'\n",
        "if index_name in pc.list_indexes().names():\n",
        "    pc.delete_index(index_name)\n",
        "\n",
        "# create a new index\n",
        "pc.create_index(\n",
        "    name=index_name,\n",
        "    dimension=384,\n",
        "    metric=\"cosine\",\n",
        "    spec=ServerlessSpec(\n",
        "        cloud='aws',\n",
        "        region='us-east-1'\n",
        "    )\n",
        ")\n",
        "\n",
        "# wait for index to be initialized\n",
        "while not pc.describe_index(index_name).status['ready']:\n",
        "    time.sleep(1)"
      ]
    },
    {
      "cell_type": "code",
      "execution_count": 13,
      "metadata": {
        "id": "NpPnN7DdXa2F"
      },
      "outputs": [],
      "source": [
        "from langchain_pinecone import PineconeVectorStore\n",
        "\n",
        "index_name = \"langchain-rag\"\n",
        "\n",
        "docsearch = PineconeVectorStore.from_documents(docs, embeddings, index_name=index_name)"
      ]
    },
    {
      "cell_type": "markdown",
      "metadata": {
        "id": "lLse9vtMaPgh"
      },
      "source": [
        "We are using Cohere LLM (Large language model)"
      ]
    },
    {
      "cell_type": "code",
      "execution_count": 14,
      "metadata": {
        "id": "glxaU04Fa9My"
      },
      "outputs": [],
      "source": [
        "from langchain_cohere.chat_models import ChatCohere\n",
        "from langchain_core.messages import HumanMessage"
      ]
    },
    {
      "cell_type": "code",
      "execution_count": 15,
      "metadata": {
        "id": "0I6-S45ZaPgi"
      },
      "outputs": [],
      "source": [
        "model = ChatCohere(model=\"command\", max_tokens=256, temperature=0.75,cohere_api_key=os.getenv(\"COHERE_API_KEY\"))"
      ]
    },
    {
      "cell_type": "markdown",
      "metadata": {
        "id": "4o52ExZZaPgi"
      },
      "source": [
        "This function will retrieve top n results from vectorDB which are semantically similar to the query"
      ]
    },
    {
      "cell_type": "code",
      "execution_count": 16,
      "metadata": {
        "colab": {
          "base_uri": "https://localhost:8080/"
        },
        "id": "4WV4_NPMaPgi",
        "outputId": "a404fb60-b114-4b99-fabd-9cbb5425effa"
      },
      "outputs": [
        {
          "output_type": "stream",
          "name": "stdout",
          "text": [
            "what is you query? what is difference between intraday and future options?\n",
            "Document 1:\n",
            "\n",
            "Futures contracts can be sold before the maturity date and the\n",
            "price will depend on the price of the underlying security. If youfail to act in time and sell a contract, there could be a pile of porkbellies, manganese or whatever delivered to the front garden.\n",
            "There is also an ‘index future’, which is an outright bet similar\n",
            "----------------------------------------------------------------------------------------------------\n",
            "Document 2:\n",
            "\n",
            "There is also an ‘index future’, which is an outright bet similar\n",
            "to backing a horse, with the money being won or lost dependingon the level of the index at the time the bet matures. A FTSE100Index future values a one-point difference between the bet andthe Index at £25.\n",
            "An extension of that is ‘spread trading’, which is just out and\n",
            "----------------------------------------------------------------------------------------------------\n",
            "Document 3:\n",
            "\n",
            "The device is convenient if used under around 10 weeks – the\n",
            "point where financing exceeds the financing charge for stocks –while futures are preferred by professionals for indexes and inter-est rates trading. It is also fairly well hidden – a group of hedge\n",
            "----------------------------------------------------------------------------------------------------\n",
            "Document 4:\n",
            "\n",
            "specified price on a stated date (such as a commodity, a parcel ofbonds or shares, and so on). The individual or institution hasaccess to the asset for a specified amount of time, and then cansell it in the future at a specified price according to the futurescontract. This allows the individual or institution the benefit ofholding the asset while reducing the risk that the future sellingprice will deviate unexpectedly from the market’s current assess-ment of the future value of the asset.\n",
            "----------------------------------------------------------------------------------------------------\n",
            "Document 5:\n",
            "\n",
            "These rights have a value as well, related to how the under-\n",
            "lying share is performing and how long they have to run, so theycan be traded, mostly on the London International FinancialFutures and Options Exchange (generally abbreviated to Liffe,pronounced ‘life’ rather than like the river flowing throughDublin). The traded options market deals in parcels of options for1,000 shares and at several expiry dates, with some above and\n",
            "----------------------------------------------------------------------------------------------------\n",
            "Document 6:\n",
            "\n",
            "There are three main types of derivatives: swaps, futures/for-\n",
            "wards, and options, though they can also be combined. For exam-ple, the holder of a ‘swaption’ has the right, but not the obligation,to enter into a swap on or before a specified future date.\n",
            "Futures/forwards\n",
            "Futures/forwards are contracts to buy or sell an asset on or beforea date at a price specified today. A futures agreement is a __________________________ The complicated world of derivatives 2233\n"
          ]
        }
      ],
      "source": [
        "def get_similiar_docs(query, k=6, score=False):\n",
        "  if score:\n",
        "    similar_docs = docsearch.similarity_search_with_score(query, k=k)\n",
        "  else:\n",
        "    similar_docs = docsearch.similarity_search(query, k=k)\n",
        "  return similar_docs\n",
        "\n",
        "query=input(\"what is you query? \")\n",
        "pretty_print_docs(get_similiar_docs(query))\n",
        "# what is difference between intraday and future options?"
      ]
    },
    {
      "cell_type": "markdown",
      "source": [
        "## Implementing RAG Chain"
      ],
      "metadata": {
        "id": "ZJC9wBi8aefn"
      }
    },
    {
      "cell_type": "markdown",
      "metadata": {
        "id": "FmFmkwd_aPgi"
      },
      "source": [
        "Now below, we are making a chaining process where we are defining sequence of action should perform to produce best answer to given query"
      ]
    },
    {
      "cell_type": "code",
      "execution_count": 17,
      "metadata": {
        "id": "8O1UH1oTaPgj"
      },
      "outputs": [],
      "source": [
        "from langchain_core.documents import Document\n",
        "from langchain_core.prompts import ChatPromptTemplate\n",
        "from langchain.chains.combine_documents import create_stuff_documents_chain\n",
        "from langchain_core.runnables import RunnableLambda, RunnablePassthrough\n",
        "from langchain_core.output_parsers import StrOutputParser"
      ]
    },
    {
      "cell_type": "code",
      "execution_count": 18,
      "metadata": {
        "colab": {
          "base_uri": "https://localhost:8080/",
          "height": 157
        },
        "id": "Pw272uf3aPgj",
        "outputId": "9e60b68d-1d2e-4d03-c3d1-eba73ad39f64"
      },
      "outputs": [
        {
          "name": "stdout",
          "output_type": "stream",
          "text": [
            "query: what is difference between intraday and future options?\n"
          ]
        },
        {
          "output_type": "execute_result",
          "data": {
            "text/plain": [
              "\"I'm sorry, I did not find any information clearly delineating the difference between intraday and future options. Can I provide some information on future options? \\nFuture options, also called derivatives, are a type of financial contract that gives the holder the right to buy or sell a specific asset at a later date, subject to its agreed-upon price and terms. These assets can be a variety of mediums, such as commodities, bonds, stocks, etc. For futures, individuals or institutions have access to the asset for a specified amount of time and can then sell it in the future at a specified price according to the futures contract, thus reducing the risk of the selling price deviating from the current market assessment of the future value of the asset. \\n\\nFuture contracts would be a different comparison point to intraday, as futures contain an agreed-upon price and specified date for a variety of assets.\""
            ],
            "application/vnd.google.colaboratory.intrinsic+json": {
              "type": "string"
            }
          },
          "metadata": {},
          "execution_count": 18
        }
      ],
      "source": [
        "template = \"\"\"Answer the question based only on the following context:\n",
        "{context}\n",
        "\n",
        "Question: {question}\n",
        "\"\"\"\n",
        "prompt = ChatPromptTemplate.from_template(template)\n",
        "llm = model\n",
        "chain = (\n",
        "    {\"context\":docsearch.as_retriever(), \"question\": RunnablePassthrough()}\n",
        "    | prompt\n",
        "    | llm\n",
        "    | StrOutputParser()\n",
        ")\n",
        "\n",
        "chain.invoke(input(\"query: \"))\n",
        "# what is difference between intraday and future options?"
      ]
    },
    {
      "cell_type": "code",
      "execution_count": 18,
      "metadata": {
        "id": "C0FogegkaPgk"
      },
      "outputs": [],
      "source": []
    },
    {
      "cell_type": "markdown",
      "source": [
        "# Thank You"
      ],
      "metadata": {
        "id": "JPIYs_6BfHrN"
      }
    }
  ],
  "metadata": {
    "colab": {
      "provenance": [],
      "include_colab_link": true
    },
    "kernelspec": {
      "display_name": "Python 3 (ipykernel)",
      "language": "python",
      "name": "python3"
    },
    "language_info": {
      "codemirror_mode": {
        "name": "ipython",
        "version": 3
      },
      "file_extension": ".py",
      "mimetype": "text/x-python",
      "name": "python",
      "nbconvert_exporter": "python",
      "pygments_lexer": "ipython3",
      "version": "3.11.5"
    }
  },
  "nbformat": 4,
  "nbformat_minor": 0
}
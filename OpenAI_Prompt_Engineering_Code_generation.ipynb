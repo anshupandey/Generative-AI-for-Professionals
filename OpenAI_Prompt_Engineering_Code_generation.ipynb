{
  "cells": [
    {
      "cell_type": "markdown",
      "metadata": {
        "id": "view-in-github",
        "colab_type": "text"
      },
      "source": [
        "<a href=\"https://colab.research.google.com/github/anshupandey/Generative-AI-for-Professionals/blob/main/OpenAI_Prompt_Engineering_Code_generation.ipynb\" target=\"_parent\"><img src=\"https://colab.research.google.com/assets/colab-badge.svg\" alt=\"Open In Colab\"/></a>"
      ]
    },
    {
      "cell_type": "code",
      "execution_count": 3,
      "metadata": {
        "colab": {
          "base_uri": "https://localhost:8080/"
        },
        "id": "7KQD1SXcnSYu",
        "outputId": "3eb7d53f-6884-47d1-95c6-e55a9916b824"
      },
      "outputs": [
        {
          "output_type": "stream",
          "name": "stdout",
          "text": [
            "\u001b[?25l     \u001b[90m━━━━━━━━━━━━━━━━━━━━━━━━━━━━━━━━━━━━━━━━\u001b[0m \u001b[32m0.0/226.7 kB\u001b[0m \u001b[31m?\u001b[0m eta \u001b[36m-:--:--\u001b[0m\r\u001b[2K     \u001b[90m━━━━━━━━━━━━━━━━━━━━━━━━━━━━━━━━━━━━━━━━\u001b[0m \u001b[32m226.7/226.7 kB\u001b[0m \u001b[31m7.8 MB/s\u001b[0m eta \u001b[36m0:00:00\u001b[0m\n",
            "\u001b[?25h\u001b[?25l     \u001b[90m━━━━━━━━━━━━━━━━━━━━━━━━━━━━━━━━━━━━━━━━\u001b[0m \u001b[32m0.0/75.9 kB\u001b[0m \u001b[31m?\u001b[0m eta \u001b[36m-:--:--\u001b[0m\r\u001b[2K     \u001b[90m━━━━━━━━━━━━━━━━━━━━━━━━━━━━━━━━━━━━━━━━\u001b[0m \u001b[32m75.9/75.9 kB\u001b[0m \u001b[31m11.0 MB/s\u001b[0m eta \u001b[36m0:00:00\u001b[0m\n",
            "\u001b[2K     \u001b[90m━━━━━━━━━━━━━━━━━━━━━━━━━━━━━━━━━━━━━━━━\u001b[0m \u001b[32m76.9/76.9 kB\u001b[0m \u001b[31m10.6 MB/s\u001b[0m eta \u001b[36m0:00:00\u001b[0m\n",
            "\u001b[2K     \u001b[90m━━━━━━━━━━━━━━━━━━━━━━━━━━━━━━━━━━━━━━━━\u001b[0m \u001b[32m58.3/58.3 kB\u001b[0m \u001b[31m8.4 MB/s\u001b[0m eta \u001b[36m0:00:00\u001b[0m\n",
            "\u001b[?25h\u001b[31mERROR: pip's dependency resolver does not currently take into account all the packages that are installed. This behaviour is the source of the following dependency conflicts.\n",
            "llmx 0.0.15a0 requires cohere, which is not installed.\n",
            "llmx 0.0.15a0 requires tiktoken, which is not installed.\u001b[0m\u001b[31m\n",
            "\u001b[2K     \u001b[90m━━━━━━━━━━━━━━━━━━━━━━━━━━━━━━━━━━━━━━━━\u001b[0m \u001b[32m1.6/1.6 MB\u001b[0m \u001b[31m13.6 MB/s\u001b[0m eta \u001b[36m0:00:00\u001b[0m\n",
            "\u001b[?25h"
          ]
        }
      ],
      "source": [
        "!pip install openai --quiet\n",
        "!pip install ipython --quiet"
      ]
    },
    {
      "cell_type": "code",
      "execution_count": 4,
      "metadata": {
        "id": "noj0x1VU6zlA"
      },
      "outputs": [],
      "source": [
        "import os\n",
        "from openai import OpenAI\n",
        "os.environ['OPENAI_API_KEY'] = \"sk-xxxxxxxxxxxxxxxxxxxxxxxxxx\""
      ]
    },
    {
      "cell_type": "code",
      "execution_count": 5,
      "metadata": {
        "id": "Zdh1VZPCUa5a"
      },
      "outputs": [],
      "source": [
        "# Initializing a client object: gets the API Key from environment variable OPENAI_API_KEY\n",
        "client = OpenAI()"
      ]
    },
    {
      "cell_type": "code",
      "execution_count": 8,
      "metadata": {
        "id": "Xv50i87gy_UX"
      },
      "outputs": [],
      "source": [
        "def get_chat(messages,temp=0.0):\n",
        "  response = client.chat.completions.create(\n",
        "      messages=messages,\n",
        "      model = \"gpt-3.5-turbo\",\n",
        "      temperature=temp,\n",
        "  )\n",
        "  return response.choices[0].message.content"
      ]
    },
    {
      "cell_type": "markdown",
      "metadata": {
        "id": "qjb3J7DzygTu"
      },
      "source": [
        "# Calculate Code Complexity"
      ]
    },
    {
      "cell_type": "code",
      "execution_count": 9,
      "metadata": {
        "colab": {
          "base_uri": "https://localhost:8080/"
        },
        "id": "IVXYhAUHyfUJ",
        "outputId": "c4607f70-b3cd-4169-cada-067e0d119027"
      },
      "outputs": [
        {
          "output_type": "stream",
          "name": "stdout",
          "text": [
            "The time complexity of this code can be calculated by analyzing the number of iterations in the nested loops.\n",
            "\n",
            "The outer loop runs `c` times, and the inner loop runs `v` times for each iteration of the outer loop. Therefore, the total number of iterations is `c * v`.\n",
            "\n",
            "Since the code only performs a constant amount of work inside the inner loop (incrementing the `counter` variable), the time complexity can be considered as O(c * v).\n",
            "\n",
            "In terms of Big O notation, this can be simplified to O(n^2), where n is the maximum value between `c` and `v`.\n"
          ]
        }
      ],
      "source": [
        "code = \"\"\"\n",
        "def myfun(c,v):\n",
        "  counter = 0\n",
        "  for i in range(c):\n",
        "    for j in range(v):\n",
        "      counter +=1\n",
        "  return counter\n",
        "\"\"\"\n",
        "\n",
        "messages = [{\"role\":\"system\",'content':\"you will be provided with python code, and your task is to calculate its time complexity.\"},\n",
        "            {\"role\":\"user\",'content':code}]\n",
        "\n",
        "print(get_chat(messages))"
      ]
    },
    {
      "cell_type": "markdown",
      "metadata": {
        "id": "LOKpnaYF2DE0"
      },
      "source": [
        "# Improve code efficiency"
      ]
    },
    {
      "cell_type": "code",
      "execution_count": 10,
      "metadata": {
        "colab": {
          "base_uri": "https://localhost:8080/"
        },
        "id": "2K0FKxFmz5ZN",
        "outputId": "bdc1a4d9-798d-41bc-ef81-62f421330920"
      },
      "outputs": [
        {
          "output_type": "stream",
          "name": "stdout",
          "text": [
            "One possible improvement is to use a set to store the complement of each number in the list. By doing so, we can reduce the time complexity from O(n^2) to O(n).\n",
            "\n",
            "Here's an updated version of the code:\n",
            "\n",
            "```python\n",
            "from typing import List\n",
            "\n",
            "def has_sum_k(nums: List[int], k: int) -> bool:\n",
            "    '''\n",
            "    Returns True if there are two distinct elements in nums such that their sum\n",
            "    is equal to k, and otherwise returns False.\n",
            "    '''\n",
            "    complements = set()\n",
            "    for num in nums:\n",
            "        complement = k - num\n",
            "        if complement in complements:\n",
            "            return True\n",
            "        complements.add(num)\n",
            "    return False\n",
            "```\n",
            "\n",
            "In this version, we iterate through the list of numbers once and check if the complement of each number is already in the set. If it is, we know that there are two distinct elements whose sum is equal to k, and we return True. If we reach the end of the loop without finding a match, we return False.\n"
          ]
        }
      ],
      "source": [
        "code = \"\"\"\n",
        "from typing import List\n",
        "def has_sum_k(nums: List[int], k: int) -> bool:\n",
        "    '''\n",
        "    Returns True if there are two distinct elements in nums such that their sum\n",
        "    is equal to k, and otherwise returns False.\n",
        "    '''\n",
        "    n = len(nums)\n",
        "    for i in range(n):\n",
        "        for j in range(i+1, n):\n",
        "            if nums[i] + nums[j] == k:\n",
        "                return True\n",
        "    return False\n",
        "\"\"\"\n",
        "\n",
        "messages = [{\"role\":\"system\",'content':\"you will be provided with a piece of python code, and your task is to provide better ideas for efficiency improvements.\"},\n",
        "            {\"role\":\"user\",'content':code}]\n",
        "\n",
        "print(get_chat(messages))"
      ]
    },
    {
      "cell_type": "markdown",
      "metadata": {
        "id": "8LxdSdLf22pr"
      },
      "source": [
        "# Explain a piece of code"
      ]
    },
    {
      "cell_type": "code",
      "execution_count": 11,
      "metadata": {
        "colab": {
          "base_uri": "https://localhost:8080/"
        },
        "id": "jyGTdcws22FM",
        "outputId": "526a5640-3547-4461-ae28-ef17e11545ce"
      },
      "outputs": [
        {
          "output_type": "stream",
          "name": "stdout",
          "text": [
            "This code defines a function called `has_sum_k` that takes in a list of integers `nums` and an integer `k`. The function checks if there are two distinct elements in the list whose sum is equal to `k`. \n",
            "\n",
            "The function uses a nested loop to iterate through all possible pairs of elements in the list. It starts with the first element and compares it with all the elements that come after it. If the sum of the two elements is equal to `k`, the function returns `True`. If no such pair is found, the function returns `False`.\n"
          ]
        }
      ],
      "source": [
        "code = \"\"\"\n",
        "from typing import List\n",
        "def has_sum_k(nums: List[int], k: int) -> bool:\n",
        "    '''\n",
        "    Returns True if there are two distinct elements in nums such that their sum\n",
        "    is equal to k, and otherwise returns False.\n",
        "    '''\n",
        "    n = len(nums)\n",
        "    for i in range(n):\n",
        "        for j in range(i+1, n):\n",
        "            if nums[i] + nums[j] == k:\n",
        "                return True\n",
        "    return False\n",
        "\"\"\"\n",
        "\n",
        "messages = [{\"role\":\"system\",'content':\"you will be provided with a piece of python code, and your task is to explain it in a concise way.\"},\n",
        "            {\"role\":\"user\",'content':code}]\n",
        "\n",
        "print(get_chat(messages))"
      ]
    },
    {
      "cell_type": "markdown",
      "metadata": {
        "id": "7tUEFstlUa8-"
      },
      "source": []
    },
    {
      "cell_type": "markdown",
      "metadata": {
        "id": "CC5fOCC239ct"
      },
      "source": [
        "# Code Generation with openAI"
      ]
    },
    {
      "cell_type": "code",
      "execution_count": 12,
      "metadata": {
        "id": "AKKLdRSVUa8-",
        "outputId": "f4821cf1-5631-47ed-8635-9714768af464",
        "colab": {
          "base_uri": "https://localhost:8080/"
        }
      },
      "outputs": [
        {
          "output_type": "stream",
          "name": "stdout",
          "text": [
            "Sure! Here's an example of a binary search function in Python:\n",
            "\n",
            "```python\n",
            "def binary_search(arr, target):\n",
            "    low = 0\n",
            "    high = len(arr) - 1\n",
            "\n",
            "    while low <= high:\n",
            "        mid = (low + high) // 2\n",
            "        if arr[mid] == target:\n",
            "            return mid\n",
            "        elif arr[mid] < target:\n",
            "            low = mid + 1\n",
            "        else:\n",
            "            high = mid - 1\n",
            "\n",
            "    return -1\n",
            "```\n",
            "\n",
            "In this function, `arr` is the sorted array in which we want to search for the `target` value. The function starts by initializing `low` and `high` variables to represent the lower and upper bounds of the search range.\n",
            "\n",
            "The function then enters a while loop that continues until `low` becomes greater than `high`. Inside the loop, it calculates the middle index `mid` using integer division. If the value at the middle index is equal to the target, the function returns the index.\n",
            "\n",
            "If the value at the middle index is less than the target, it means the target is in the right half of the array, so the `low` index is updated to `mid + 1`. Otherwise, if the value at the middle index is greater than the target, it means the target is in the left half of the array, so the `high` index is updated to `mid - 1`.\n",
            "\n",
            "If the while loop completes without finding the target, the function returns -1 to indicate that the target is not present in the array.\n",
            "\n",
            "You can call this function by passing in a sorted array and the target value you want to search for. For example:\n",
            "\n",
            "```python\n",
            "arr = [1, 2, 3, 4, 5, 6, 7, 8, 9]\n",
            "target = 6\n",
            "\n",
            "result = binary_search(arr, target)\n",
            "if result != -1:\n",
            "    print(\"Element found at index\", result)\n",
            "else:\n",
            "    print(\"Element not found\")\n",
            "```\n",
            "\n",
            "This will output: `Element found at index 5`, indicating that the target value 6 is present at index 5 in the array.\n"
          ]
        }
      ],
      "source": [
        "messages = [{\"role\":\"system\",'content':\"you will be provided with a task to write a python code, and your task is to write it.\"},\n",
        "            {\"role\":\"user\",'content':\"write a function for binary search in python\"}]\n",
        "print(get_chat(messages))"
      ]
    },
    {
      "cell_type": "markdown",
      "metadata": {
        "id": "ArV3aGqZUa8_"
      },
      "source": []
    },
    {
      "cell_type": "code",
      "execution_count": null,
      "metadata": {
        "id": "zXsqe42JUa8_"
      },
      "outputs": [],
      "source": []
    },
    {
      "cell_type": "markdown",
      "metadata": {
        "id": "R1bK602QUa8_"
      },
      "source": [
        "## Create a single page website"
      ]
    },
    {
      "cell_type": "code",
      "execution_count": null,
      "metadata": {
        "colab": {
          "base_uri": "https://localhost:8080/"
        },
        "id": "uFegvaqx2oga",
        "outputId": "967c6f17-7ff1-4977-b43d-c49b4d902268"
      },
      "outputs": [
        {
          "name": "stdout",
          "output_type": "stream",
          "text": [
            "<!DOCTYPE html>\n",
            "<html>\n",
            "<head>\n",
            "  <title>Neat JavaScript Features</title>\n",
            "  <style>\n",
            "    .dropdown {\n",
            "      position: relative;\n",
            "      display: inline-block;\n",
            "    }\n",
            "\n",
            "    .dropdown-content {\n",
            "      display: none;\n",
            "      position: absolute;\n",
            "      background-color: #f9f9f9;\n",
            "      min-width: 160px;\n",
            "      box-shadow: 0px 8px 16px 0px rgba(0,0,0,0.2);\n",
            "      padding: 12px 16px;\n",
            "      z-index: 1;\n",
            "    }\n",
            "\n",
            "    .dropdown:hover .dropdown-content {\n",
            "      display: block;\n",
            "    }\n",
            "  </style>\n",
            "</head>\n",
            "<body>\n",
            "  <h1>Neat JavaScript Features</h1>\n",
            "\n",
            "  <h2>Dropdown Example</h2>\n",
            "  <div class=\"dropdown\">\n",
            "    <button>Click me</button>\n",
            "    <div class=\"dropdown-content\">\n",
            "      <p>Option 1</p>\n",
            "      <p>Option 2</p>\n",
            "      <p>Option 3</p>\n",
            "    </div>\n",
            "  </div>\n",
            "\n",
            "  <h2>Display Information</h2>\n",
            "  <button onclick=\"displayInfo()\">Show Info</button>\n",
            "  <p id=\"info\" style=\"display: none;\">This is some hidden information that will be displayed when the button is clicked.</p>\n",
            "\n",
            "  <script>\n",
            "    function displayInfo() {\n",
            "      document.getElementById(\"info\").style.display = \"block\";\n",
            "    }\n",
            "  </script>\n",
            "</body>\n",
            "</html>\n"
          ]
        }
      ],
      "source": [
        "messages = [{\"role\":\"user\",'content':\"Make a single page website that shows off different neat javascript features for drop downs and things to display information. The website should be an HTML file with embedded javascript and css. In the output only provide code without description\"}]\n",
        "\n",
        "response = get_chat(messages)\n",
        "print(response)"
      ]
    },
    {
      "cell_type": "code",
      "execution_count": null,
      "metadata": {
        "colab": {
          "base_uri": "https://localhost:8080/",
          "height": 338
        },
        "id": "o_goKgWh4tuA",
        "outputId": "0de77127-bbfe-47c2-f68d-9d8529b4821b"
      },
      "outputs": [
        {
          "data": {
            "text/html": [
              "<!DOCTYPE html>\n",
              "<html>\n",
              "<head>\n",
              "  <title>Neat JavaScript Features</title>\n",
              "  <style>\n",
              "    .dropdown {\n",
              "      position: relative;\n",
              "      display: inline-block;\n",
              "    }\n",
              "\n",
              "    .dropdown-content {\n",
              "      display: none;\n",
              "      position: absolute;\n",
              "      background-color: #f9f9f9;\n",
              "      min-width: 160px;\n",
              "      box-shadow: 0px 8px 16px 0px rgba(0,0,0,0.2);\n",
              "      padding: 12px 16px;\n",
              "      z-index: 1;\n",
              "    }\n",
              "\n",
              "    .dropdown:hover .dropdown-content {\n",
              "      display: block;\n",
              "    }\n",
              "  </style>\n",
              "</head>\n",
              "<body>\n",
              "  <h1>Neat JavaScript Features</h1>\n",
              "\n",
              "  <h2>Dropdown Example</h2>\n",
              "  <div class=\"dropdown\">\n",
              "    <button>Click me</button>\n",
              "    <div class=\"dropdown-content\">\n",
              "      <p>Option 1</p>\n",
              "      <p>Option 2</p>\n",
              "      <p>Option 3</p>\n",
              "    </div>\n",
              "  </div>\n",
              "\n",
              "  <h2>Display Information</h2>\n",
              "  <button onclick=\"displayInfo()\">Show Info</button>\n",
              "  <p id=\"info\" style=\"display: none;\">This is some hidden information that will be displayed when the button is clicked.</p>\n",
              "\n",
              "  <script>\n",
              "    function displayInfo() {\n",
              "      document.getElementById(\"info\").style.display = \"block\";\n",
              "    }\n",
              "  </script>\n",
              "</body>\n",
              "</html>"
            ],
            "text/plain": [
              "<IPython.core.display.HTML object>"
            ]
          },
          "metadata": {},
          "output_type": "display_data"
        }
      ],
      "source": [
        "from IPython.display import display, HTML\n",
        "display(HTML(response))"
      ]
    },
    {
      "cell_type": "markdown",
      "metadata": {
        "id": "zfp3-BgDUa9A"
      },
      "source": [
        "## Complete a partial code"
      ]
    },
    {
      "cell_type": "code",
      "execution_count": null,
      "metadata": {
        "id": "h-UgNBxxUa9A",
        "outputId": "e7f5e2f3-74b2-46aa-8fa1-7791a63bf395"
      },
      "outputs": [
        {
          "name": "stdout",
          "output_type": "stream",
          "text": [
            "def calculate_average_even(numbers):\n",
            "    even_numbers = [num for num in numbers if num % 2 == 0]\n",
            "    if len(even_numbers) == 0:\n",
            "        return 0\n",
            "    else:\n",
            "        return sum(even_numbers) / len(even_numbers)\n"
          ]
        }
      ],
      "source": [
        "prompt = \"\"\"\n",
        "complete the following function\n",
        "# calculate the average of the numbers in an array, but only if they're even\n",
        "def\n",
        "\"\"\"\n",
        "messages = [{\"role\":\"system\",'content':\"you will be provided with a task to complete a partial python code, and your task is to complete it.\"},\n",
        "            {\"role\":\"user\",'content':prompt}]\n",
        "print(get_chat(messages))"
      ]
    },
    {
      "cell_type": "markdown",
      "metadata": {
        "id": "u3f1TCax5QUR"
      },
      "source": [
        "# Generate SQL Queries from natural language"
      ]
    },
    {
      "cell_type": "code",
      "execution_count": null,
      "metadata": {
        "colab": {
          "base_uri": "https://localhost:8080/"
        },
        "id": "X-ghdsec5Msf",
        "outputId": "b205c394-23a4-4c00-c726-30ce05d0b274"
      },
      "outputs": [
        {
          "name": "stdout",
          "output_type": "stream",
          "text": [
            "SELECT AVG(total_order_value) AS average_order_value\n",
            "FROM (\n",
            "  SELECT o.OrderID, SUM(p.UnitPrice * od.Quantity) AS total_order_value\n",
            "  FROM Orders o\n",
            "  INNER JOIN OrderDetails od ON o.OrderID = od.OrderID\n",
            "  INNER JOIN Products p ON od.ProductID = p.ProductID\n",
            "  WHERE o.OrderDate = '2023-09-20'\n",
            "  GROUP BY o.OrderID\n",
            ") AS order_totals;\n"
          ]
        }
      ],
      "source": [
        "table_code = \"\"\"\n",
        "CREATE TABLE Orders (\n",
        "  OrderID int,\n",
        "  CustomerID int,\n",
        "  OrderDate datetime,\n",
        "  OrderTime varchar(8),\n",
        "  PRIMARY KEY (OrderID)\n",
        ");\n",
        "\n",
        "CREATE TABLE OrderDetails (\n",
        "  OrderDetailID int,\n",
        "  OrderID int,\n",
        "  ProductID int,\n",
        "  Quantity int,\n",
        "  PRIMARY KEY (OrderDetailID)\n",
        ");\n",
        "\n",
        "CREATE TABLE Products (\n",
        "  ProductID int,\n",
        "  ProductName varchar(50),\n",
        "  Category varchar(50),\n",
        "  UnitPrice decimal(10, 2),\n",
        "  Stock int,\n",
        "  PRIMARY KEY (ProductID)\n",
        ");\n",
        "\n",
        "CREATE TABLE Customers (\n",
        "  CustomerID int,\n",
        "  FirstName varchar(50),\n",
        "  LastName varchar(50),\n",
        "  Email varchar(100),\n",
        "  Phone varchar(20),\n",
        "  PRIMARY KEY (CustomerID)\n",
        ");\n",
        "\"\"\"\n",
        "\n",
        "messages = [{\"role\":\"system\",'content':f\"\"\" Given the following SQL tables, your job is to write queries given a user's input request.\n",
        "\n",
        "Tables: {table_code}\n",
        "\"\"\"},\n",
        "            {\"role\":\"user\",'content':\"Write a query which calculates the average of total order values for all orders on 20-09-2023\"}]\n",
        "\n",
        "print(get_chat(messages))"
      ]
    },
    {
      "cell_type": "markdown",
      "metadata": {
        "id": "XlkePjd0L8N5"
      },
      "source": [
        "# Code from Description"
      ]
    },
    {
      "cell_type": "code",
      "execution_count": null,
      "metadata": {
        "id": "XJZ2F754L5Ii",
        "outputId": "66a4cb41-6f5a-40ed-df95-4b177d05a33e"
      },
      "outputs": [
        {
          "name": "stdout",
          "output_type": "stream",
          "text": [
            "Here's a Python function that takes a file path to an image, loads the image into memory as a numpy array, and crops the rows and columns around the perimeter if they are darker than a threshold value:\n",
            "\n",
            "```python\n",
            "import cv2\n",
            "import numpy as np\n",
            "\n",
            "def crop_dark_perimeter(image_path, threshold):\n",
            "    # Load the image\n",
            "    image = cv2.imread(image_path)\n",
            "\n",
            "    # Convert the image to grayscale\n",
            "    gray_image = cv2.cvtColor(image, cv2.COLOR_BGR2GRAY)\n",
            "\n",
            "    # Calculate the mean value of rows and columns\n",
            "    row_means = np.mean(gray_image, axis=1)\n",
            "    col_means = np.mean(gray_image, axis=0)\n",
            "\n",
            "    # Find the rows and columns to be cropped\n",
            "    rows_to_crop = np.where(row_means < threshold)[0]\n",
            "    cols_to_crop = np.where(col_means < threshold)[0]\n",
            "\n",
            "    # Crop the image\n",
            "    cropped_image = image[rows_to_crop[0]:rows_to_crop[-1]+1, cols_to_crop[0]:cols_to_crop[-1]+1]\n",
            "\n",
            "    return cropped_image\n",
            "```\n",
            "\n",
            "In this function, we use the OpenCV library to load the image and convert it to grayscale. Then, we calculate the mean value of rows and columns using numpy's `mean` function. We find the rows and columns that have a mean value below the threshold and use them to crop the image using array slicing. Finally, we return the cropped image.\n",
            "\n",
            "You can call this function by providing the file path to the image and the threshold value. For example:\n",
            "\n",
            "```python\n",
            "image_path = 'path/to/image.jpg'\n",
            "threshold = 100\n",
            "cropped_image = crop_dark_perimeter(image_path, threshold)\n",
            "```\n",
            "\n",
            "Make sure to replace `'path/to/image.jpg'` with the actual file path to your image, and adjust the threshold value as needed.\n"
          ]
        }
      ],
      "source": [
        "\n",
        "messages = [{\"role\":\"user\",'content':\"\"\"\n",
        "Create a python function which takes as input a file path to an image, loads the image into memory as a numpy array,\n",
        "then crops the rows and columns around the perimeter if they are darker than a threshold value. Use the mean value of rows and columns to decide if they should be marked for deletion.\n",
        "\"\"\"}]\n",
        "\n",
        "print(get_chat(messages))"
      ]
    },
    {
      "cell_type": "code",
      "execution_count": null,
      "metadata": {
        "id": "zuZ6Pyoh5FcM",
        "outputId": "146a26e1-7585-48bf-c3d2-6b0b92c83858"
      },
      "outputs": [
        {
          "name": "stdout",
          "output_type": "stream",
          "text": [
            "def crop_image(file_path, threshold):\n",
            "    import cv2\n",
            "    import numpy as np\n",
            "    \n",
            "    # Load the image\n",
            "    image = cv2.imread(file_path)\n",
            "    \n",
            "    # Convert the image to grayscale\n",
            "    gray_image = cv2.cvtColor(image, cv2.COLOR_BGR2GRAY)\n",
            "    \n",
            "    # Calculate the mean value of rows and columns\n",
            "    row_means = np.mean(gray_image, axis=1)\n",
            "    col_means = np.mean(gray_image, axis=0)\n",
            "    \n",
            "    # Find the rows and columns to be cropped\n",
            "    rows_to_crop = np.where(row_means < threshold)[0]\n",
            "    cols_to_crop = np.where(col_means < threshold)[0]\n",
            "    \n",
            "    # Crop the image\n",
            "    cropped_image = image[rows_to_crop[0]:rows_to_crop[-1]+1, cols_to_crop[0]:cols_to_crop[-1]+1]\n",
            "    \n",
            "    return cropped_image\n",
            "\n",
            "# Convert the function code to string format\n",
            "function_code = inspect.getsource(crop_image)\n",
            "print(function_code)\n"
          ]
        }
      ],
      "source": [
        "\n",
        "messages = [{\"role\":\"user\",'content':\"\"\"\n",
        "Create a python function which takes as input a file path to an image, loads the image into memory as a numpy array,\n",
        "then crops the rows and columns around the perimeter if they are darker than a threshold value. Use the mean value of rows and columns to decide if they should be marked for deletion.\n",
        "Make sure the output is only the python function code in string format.\n",
        "\n",
        "\"\"\"}]\n",
        "\n",
        "print(get_chat(messages))"
      ]
    },
    {
      "cell_type": "markdown",
      "metadata": {
        "id": "YX6jG58SNCt5"
      },
      "source": [
        "# Bug fixing in a given code"
      ]
    },
    {
      "cell_type": "code",
      "execution_count": null,
      "metadata": {
        "colab": {
          "base_uri": "https://localhost:8080/"
        },
        "id": "_V-_QKEDM6b0",
        "outputId": "ac90d61a-ff90-4877-e15c-304be68a96b7"
      },
      "outputs": [
        {
          "name": "stdout",
          "output_type": "stream",
          "text": [
            "There are a few issues with the code provided. Here's the corrected version:\n",
            "\n",
            "qus = \"What is 4+2+9*8?\"\n",
            "ans = input(qus)\n",
            "if ans == \"12\":\n",
            "  print(\"None\")\n",
            "  print(\"hello\")\n",
            "else:\n",
            "  print(\"bye\")\n"
          ]
        }
      ],
      "source": [
        "\n",
        "messages = [{\"role\":\"system\",'content':\"\"\"\n",
        "you will be provided with a piece of python code, and your task is to find and fix the bug in it.\"\"\"},\n",
        "            {\"role\":\"user\",'content':\"\"\"\n",
        "qus = \"WHat is 4+2+9*8 ?\"\n",
        "ans = input(qus)\n",
        "if ans = 12:\n",
        "  print(none)\n",
        "  print(\"hello)\n",
        "else:\n",
        "  print(\"bye\")\n",
        "\"\"\"}]\n",
        "\n",
        "print(get_chat(messages))"
      ]
    },
    {
      "cell_type": "markdown",
      "metadata": {
        "id": "arR_49tPUa9B"
      },
      "source": [
        "# Change Coding Language\n"
      ]
    },
    {
      "cell_type": "code",
      "execution_count": null,
      "metadata": {
        "id": "rXNnJ1klNxbB",
        "outputId": "76106d06-a54e-4d38-f7ca-393556911b37"
      },
      "outputs": [
        {
          "name": "stdout",
          "output_type": "stream",
          "text": [
            "#include <stdio.h>\n",
            "\n",
            "void print_squares(int n) {\n",
            "    for (int i = 1; i <= n; i++) {\n",
            "        printf(\"%d\\n\", i * i);\n",
            "    }\n",
            "}\n"
          ]
        }
      ],
      "source": [
        "# Changing coding language from python to c\n",
        "\n",
        "code = \"\"\"\n",
        "def print_squares(n):\n",
        "    for i in range(1, n+1):\n",
        "        print(i**2)\n",
        "        \"\"\"\n",
        "\n",
        "messages = [{\"role\":\"system\",'content':\"\"\"you will be provided with a piece of python code, and your task is to convert it to c.\"\"\"},\n",
        "            {\"role\":\"user\",'content':code}]\n",
        "print(get_chat(messages))"
      ]
    },
    {
      "cell_type": "markdown",
      "metadata": {
        "id": "N_BqAQmaUa9B"
      },
      "source": [
        "# Write unit tests"
      ]
    },
    {
      "cell_type": "code",
      "execution_count": null,
      "metadata": {
        "id": "Z3VZ0rWeUa9B",
        "outputId": "3e050d7f-a8d9-46e6-acd6-5e18f8daefa0"
      },
      "outputs": [
        {
          "name": "stdout",
          "output_type": "stream",
          "text": [
            "Sure! Here are three unit tests for the `binary_search` function:\n",
            "\n",
            "1. Test when the target is in the middle of the array:\n",
            "```python\n",
            "def test_binary_search_middle():\n",
            "    arr = [1, 2, 3, 4, 5]\n",
            "    target = 3\n",
            "    assert binary_search(arr, target) == 2\n",
            "```\n",
            "\n",
            "2. Test when the target is the first element of the array:\n",
            "```python\n",
            "def test_binary_search_first():\n",
            "    arr = [1, 2, 3, 4, 5]\n",
            "    target = 1\n",
            "    assert binary_search(arr, target) == 0\n",
            "```\n",
            "\n",
            "3. Test when the target is the last element of the array:\n",
            "```python\n",
            "def test_binary_search_last():\n",
            "    arr = [1, 2, 3, 4, 5]\n",
            "    target = 5\n",
            "    assert binary_search(arr, target) == 4\n",
            "```\n",
            "\n",
            "These tests cover different scenarios such as finding the target in the middle, at the beginning, and at the end of the array.\n"
          ]
        }
      ],
      "source": [
        "# write unit tests for a given code\n",
        "\n",
        "code = \"\"\"\n",
        "def binary_search(arr, target):\n",
        "    left, right = 0, len(arr) - 1\n",
        "    while left <= right:\n",
        "        mid = (left + right) // 2\n",
        "        if arr[mid] == target:\n",
        "            return mid\n",
        "        elif arr[mid] < target:\n",
        "            left = mid + 1\n",
        "        else:\n",
        "            right = mid - 1\n",
        "    return -1\n",
        "\"\"\"\n",
        "prompt = f\"\"\"\n",
        "Write 3 unit tests for the following function:\n",
        "{code}\n",
        "\"\"\"\n",
        "messages = [{\"role\":\"system\",'content':\"\"\"you will be provided with a piece of python code, and your task is to write unit tests for it.\"\"\"},\n",
        "            {\"role\":\"user\",'content':prompt}]\n",
        "\n",
        "print(get_chat(messages))"
      ]
    },
    {
      "cell_type": "markdown",
      "metadata": {
        "id": "2YXm_0NJUa9C"
      },
      "source": [
        "# Add comments and generate documentation"
      ]
    },
    {
      "cell_type": "code",
      "execution_count": null,
      "metadata": {
        "id": "eHon_zPfUa9C",
        "outputId": "3eb951ff-a14e-4265-a283-eab90c0c56d2"
      },
      "outputs": [
        {
          "name": "stdout",
          "output_type": "stream",
          "text": [
            "def permutations(lst):\n",
            "    \"\"\"\n",
            "    This function takes a list as input and returns a list of all possible permutations of the elements in the input list.\n",
            "\n",
            "    Args:\n",
            "    lst (list): The input list for which permutations need to be generated.\n",
            "\n",
            "    Returns:\n",
            "    list: A list of all possible permutations of the elements in the input list.\n",
            "    \"\"\"\n",
            "\n",
            "    if len(lst) == 0:  # If the input list is empty\n",
            "        return []  # Return an empty list\n",
            "\n",
            "    elif len(lst) == 1:  # If the input list has only one element\n",
            "        return [lst]  # Return a list containing the input list itself\n",
            "\n",
            "    else:  # If the input list has more than one element\n",
            "        result = []  # Initialize an empty list to store the permutations\n",
            "\n",
            "        for i in range(len(lst)):  # Iterate through each element in the input list\n",
            "            temp = lst[i]  # Store the current element in a temporary variable\n",
            "            remaining = lst[:i] + lst[i+1:]  # Create a new list with the current element removed\n",
            "\n",
            "            for p in permutations(remaining):  # Recursively call the permutations function on the remaining list\n",
            "                result.append([temp] + p)  # Append the current element to each permutation and add it to the result list\n",
            "\n",
            "        return result  # Return the list of all permutations\n"
          ]
        }
      ],
      "source": [
        "# Add comments and generate documentation\n",
        "\n",
        "code = \"\"\"\n",
        "def permutations(lst):\n",
        "    if len(lst) == 0:\n",
        "        return []\n",
        "    elif len(lst) == 1:\n",
        "        return [lst]\n",
        "    else:\n",
        "        result = []\n",
        "        for i in range(len(lst)):\n",
        "            temp = lst[i]\n",
        "            remaining = lst[:i] + lst[i+1:]\n",
        "            for p in permutations(remaining):\n",
        "                result.append([temp] + p)\n",
        "        return result\n",
        "\n",
        "\"\"\"\n",
        "\n",
        "prompt = f\"\"\" Add comments and documentation strings to the following function: {code}\"\"\"\n",
        "\n",
        "\n",
        "messages = [{\"role\":\"system\",'content':\"\"\"you will be provided with a piece of python code, and your task is to add comments and documentation strings to it.\"\"\"},\n",
        "            {\"role\":\"user\",'content':prompt}]\n",
        "print(get_chat(messages))"
      ]
    },
    {
      "cell_type": "code",
      "execution_count": null,
      "metadata": {
        "id": "LILta5HxUa9C"
      },
      "outputs": [],
      "source": []
    },
    {
      "cell_type": "code",
      "execution_count": null,
      "metadata": {
        "id": "7F5Eh3jWUa9C"
      },
      "outputs": [],
      "source": []
    }
  ],
  "metadata": {
    "colab": {
      "provenance": [],
      "include_colab_link": true
    },
    "kernelspec": {
      "display_name": "Python 3",
      "name": "python3"
    },
    "language_info": {
      "codemirror_mode": {
        "name": "ipython",
        "version": 3
      },
      "file_extension": ".py",
      "mimetype": "text/x-python",
      "name": "python",
      "nbconvert_exporter": "python",
      "pygments_lexer": "ipython3",
      "version": "3.10.9"
    }
  },
  "nbformat": 4,
  "nbformat_minor": 0
}
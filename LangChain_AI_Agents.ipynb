{
  "cells": [
    {
      "cell_type": "markdown",
      "metadata": {
        "id": "view-in-github",
        "colab_type": "text"
      },
      "source": [
        "<a href=\"https://colab.research.google.com/github/anshupandey/Generative-AI-for-Professionals/blob/main/LangChain_AI_Agents.ipynb\" target=\"_parent\"><img src=\"https://colab.research.google.com/assets/colab-badge.svg\" alt=\"Open In Colab\"/></a>"
      ]
    },
    {
      "cell_type": "code",
      "source": [
        "# Installing necessary libraries\n",
        "!pip install langchain-openai --quiet  # Installs a specific version (0.0.3) of the langchain_openai package quietly\n",
        "!pip install langchain langchain-experimental --quiet        # Installs a specific version (0.1.1) of the langchain package quietly\n",
        "!pip install huggingface_hub openai google-search-results tiktoken wikipedia --quiet"
      ],
      "metadata": {
        "id": "YZEwSuNrPVzY",
        "outputId": "3d09dc1f-63a4-48ec-bcc2-94f04ba145c1",
        "colab": {
          "base_uri": "https://localhost:8080/"
        }
      },
      "execution_count": 1,
      "outputs": [
        {
          "output_type": "stream",
          "name": "stdout",
          "text": [
            "\u001b[?25l     \u001b[90m━━━━━━━━━━━━━━━━━━━━━━━━━━━━━━━━━━━━━━━━\u001b[0m \u001b[32m0.0/241.2 kB\u001b[0m \u001b[31m?\u001b[0m eta \u001b[36m-:--:--\u001b[0m\r\u001b[2K     \u001b[91m━━━━━━━━━━━━━━━━━━━━━━━━━━━━━━━━━━━━━━━\u001b[0m\u001b[90m╺\u001b[0m \u001b[32m235.5/241.2 kB\u001b[0m \u001b[31m7.6 MB/s\u001b[0m eta \u001b[36m0:00:01\u001b[0m\r\u001b[2K     \u001b[90m━━━━━━━━━━━━━━━━━━━━━━━━━━━━━━━━━━━━━━━━\u001b[0m \u001b[32m241.2/241.2 kB\u001b[0m \u001b[31m5.9 MB/s\u001b[0m eta \u001b[36m0:00:00\u001b[0m\n",
            "\u001b[2K     \u001b[90m━━━━━━━━━━━━━━━━━━━━━━━━━━━━━━━━━━━━━━━━\u001b[0m \u001b[32m226.7/226.7 kB\u001b[0m \u001b[31m8.1 MB/s\u001b[0m eta \u001b[36m0:00:00\u001b[0m\n",
            "\u001b[2K     \u001b[90m━━━━━━━━━━━━━━━━━━━━━━━━━━━━━━━━━━━━━━━━\u001b[0m \u001b[32m1.8/1.8 MB\u001b[0m \u001b[31m12.1 MB/s\u001b[0m eta \u001b[36m0:00:00\u001b[0m\n",
            "\u001b[2K     \u001b[90m━━━━━━━━━━━━━━━━━━━━━━━━━━━━━━━━━━━━━━━━\u001b[0m \u001b[32m55.4/55.4 kB\u001b[0m \u001b[31m5.6 MB/s\u001b[0m eta \u001b[36m0:00:00\u001b[0m\n",
            "\u001b[2K     \u001b[90m━━━━━━━━━━━━━━━━━━━━━━━━━━━━━━━━━━━━━━━━\u001b[0m \u001b[32m75.9/75.9 kB\u001b[0m \u001b[31m9.0 MB/s\u001b[0m eta \u001b[36m0:00:00\u001b[0m\n",
            "\u001b[2K     \u001b[90m━━━━━━━━━━━━━━━━━━━━━━━━━━━━━━━━━━━━━━━━\u001b[0m \u001b[32m76.9/76.9 kB\u001b[0m \u001b[31m7.0 MB/s\u001b[0m eta \u001b[36m0:00:00\u001b[0m\n",
            "\u001b[2K     \u001b[90m━━━━━━━━━━━━━━━━━━━━━━━━━━━━━━━━━━━━━━━━\u001b[0m \u001b[32m58.3/58.3 kB\u001b[0m \u001b[31m6.1 MB/s\u001b[0m eta \u001b[36m0:00:00\u001b[0m\n",
            "\u001b[?25h\u001b[31mERROR: pip's dependency resolver does not currently take into account all the packages that are installed. This behaviour is the source of the following dependency conflicts.\n",
            "llmx 0.0.15a0 requires cohere, which is not installed.\u001b[0m\u001b[31m\n",
            "\u001b[2K     \u001b[90m━━━━━━━━━━━━━━━━━━━━━━━━━━━━━━━━━━━━━━━━\u001b[0m \u001b[32m815.9/815.9 kB\u001b[0m \u001b[31m7.9 MB/s\u001b[0m eta \u001b[36m0:00:00\u001b[0m\n",
            "\u001b[2K     \u001b[90m━━━━━━━━━━━━━━━━━━━━━━━━━━━━━━━━━━━━━━━━\u001b[0m \u001b[32m167.0/167.0 kB\u001b[0m \u001b[31m7.7 MB/s\u001b[0m eta \u001b[36m0:00:00\u001b[0m\n",
            "\u001b[2K     \u001b[90m━━━━━━━━━━━━━━━━━━━━━━━━━━━━━━━━━━━━━━━━\u001b[0m \u001b[32m1.7/1.7 MB\u001b[0m \u001b[31m14.6 MB/s\u001b[0m eta \u001b[36m0:00:00\u001b[0m\n",
            "\u001b[2K     \u001b[90m━━━━━━━━━━━━━━━━━━━━━━━━━━━━━━━━━━━━━━━━\u001b[0m \u001b[32m49.4/49.4 kB\u001b[0m \u001b[31m5.6 MB/s\u001b[0m eta \u001b[36m0:00:00\u001b[0m\n",
            "\u001b[?25h  Preparing metadata (setup.py) ... \u001b[?25l\u001b[?25hdone\n",
            "  Preparing metadata (setup.py) ... \u001b[?25l\u001b[?25hdone\n",
            "  Building wheel for google-search-results (setup.py) ... \u001b[?25l\u001b[?25hdone\n",
            "  Building wheel for wikipedia (setup.py) ... \u001b[?25l\u001b[?25hdone\n"
          ]
        }
      ]
    },
    {
      "cell_type": "code",
      "execution_count": 7,
      "metadata": {
        "id": "WHq93OY1wXt_"
      },
      "outputs": [],
      "source": [
        "import os\n",
        "os.environ['OPENAI_API_KEY'] = \"sk-xxxxxxxxxxxxxxxxxxxxxuYECXfHihuS\""
      ]
    },
    {
      "cell_type": "markdown",
      "source": [
        "## Zero-shot ReAct Agent"
      ],
      "metadata": {
        "id": "UPikr9v7PXaw"
      }
    },
    {
      "cell_type": "code",
      "execution_count": 6,
      "metadata": {
        "id": "aX2jvHiDwXuB",
        "outputId": "6d97414e-541c-4f21-d11f-3032db255862",
        "colab": {
          "base_uri": "https://localhost:8080/",
          "height": 304
        }
      },
      "outputs": [
        {
          "output_type": "stream",
          "name": "stderr",
          "text": [
            "/usr/local/lib/python3.10/dist-packages/langchain_core/_api/deprecation.py:117: LangChainDeprecationWarning: The function `initialize_agent` was deprecated in LangChain 0.1.0 and will be removed in 0.2.0. Use Use new agent constructor methods like create_react_agent, create_json_agent, create_structured_chat_agent, etc. instead.\n",
            "  warn_deprecated(\n",
            "/usr/local/lib/python3.10/dist-packages/langchain_core/_api/deprecation.py:117: LangChainDeprecationWarning: The function `run` was deprecated in LangChain 0.1.0 and will be removed in 0.2.0. Use invoke instead.\n",
            "  warn_deprecated(\n"
          ]
        },
        {
          "output_type": "stream",
          "name": "stdout",
          "text": [
            "\n",
            "\n",
            "\u001b[1m> Entering new AgentExecutor chain...\u001b[0m\n",
            "\u001b[32;1m\u001b[1;3mI can use the Math Tool to calculate the division.\n",
            "Action: Math Tool\n",
            "Action Input: 100 divided by 25\u001b[0m\n",
            "Observation: \u001b[36;1m\u001b[1;3mAnswer: 4.0\u001b[0m\n",
            "\u001b[32;1m\u001b[1;3m\u001b[0m\n",
            "\n",
            "\u001b[1m> Finished chain.\u001b[0m\n"
          ]
        },
        {
          "output_type": "execute_result",
          "data": {
            "text/plain": [
              "'Answer: 4.0'"
            ],
            "application/vnd.google.colaboratory.intrinsic+json": {
              "type": "string"
            }
          },
          "metadata": {},
          "execution_count": 6
        }
      ],
      "source": [
        "from langchain.agents import load_tools\n",
        "from langchain_openai import ChatOpenAI\n",
        "\n",
        "llm = ChatOpenAI(model=\"gpt-3.5-turbo\", temperature=0)\n",
        "\n",
        "tool_names = [\"llm-math\"]\n",
        "tools = load_tools(tool_names, llm=llm)\n",
        "\n",
        "from langchain.agents import Tool\n",
        "tool_list = [Tool(name = \"Math Tool\", func=tools[0].run,\n",
        "        description=\"Tool to calculate, nothing else\",\n",
        "        return_direct=True),]\n",
        "\n",
        "from langchain.agents import initialize_agent\n",
        "\n",
        "agent = initialize_agent(tool_list, llm,\n",
        "                         agent=\"zero-shot-react-description\", verbose=True)\n",
        "agent.run(\"What is 100 divided by 25?\")"
      ]
    },
    {
      "cell_type": "markdown",
      "source": [
        "## COnversational ReAct Agent"
      ],
      "metadata": {
        "id": "z8BT3gliPc1e"
      }
    },
    {
      "cell_type": "code",
      "execution_count": 9,
      "metadata": {
        "id": "OlWo--drwXuD",
        "outputId": "854fbe34-b656-44b6-ae54-0f3c89c4639d",
        "colab": {
          "base_uri": "https://localhost:8080/"
        }
      },
      "outputs": [
        {
          "output_type": "stream",
          "name": "stdout",
          "text": [
            "\n",
            "\n",
            "\u001b[1m> Entering new AgentExecutor chain...\u001b[0m\n",
            "\u001b[32;1m\u001b[1;3m```\n",
            "Thought: Do I need to use a tool? Yes\n",
            "Action: wikipedia\n",
            "Action Input: Elon Musk\n",
            "```\u001b[0m\n",
            "Observation: \u001b[36;1m\u001b[1;3mPage: Elon Musk\n",
            "Summary: Elon Reeve Musk (; EE-lon; born June 28, 1971) is a businessman and investor. He is the founder, chairman, CEO, and CTO of SpaceX; angel investor, CEO, product architect, and former chairman of Tesla, Inc.; owner, chairman, and CTO of X Corp.; founder of the Boring Company and xAI; co-founder of Neuralink and OpenAI; and president of the Musk Foundation. He is the second wealthiest person in the world, with an estimated net worth of US$232 billion as of December 2023, according to the Bloomberg Billionaires Index, and $182.6  billion according to Forbes, primarily from his ownership stakes in Tesla and SpaceX.A member of the wealthy South African Musk family, Elon was born in Pretoria and briefly attended the University of Pretoria before immigrating to Canada at age 18, acquiring citizenship through his Canadian-born mother. Two years later, he matriculated at Queen's University at Kingston in Canada. Musk later transferred to the University of Pennsylvania, and received bachelor's degrees in economics and physics. He moved to California in 1995 to attend Stanford University, but dropped out after two days and, with his brother Kimbal, co-founded online city guide software company Zip2. The startup was acquired by Compaq for $307 million in 1999, and, that same year Musk co-founded X.com, a direct bank. X.com merged with Confinity in 2000 to form PayPal.\n",
            "In October 2002, eBay acquired PayPal for $1.5 billion, and that same year, with $100 million of the money he made, Musk founded SpaceX, a spaceflight services company. In 2004, he became an early investor in electric vehicle manufacturer Tesla Motors, Inc. (now Tesla, Inc.). He became its chairman and product architect, assuming the position of CEO in 2008. In 2006, Musk helped create SolarCity, a solar-energy company that was acquired by Tesla in 2016 and became Tesla Energy. In 2013, he proposed a hyperloop high-speed vactrain transportation system. In 2015, he co-founded OpenAI, a nonprofit artificial intelligence research company. The following year, Musk co-founded Neuralink—a neurotechnology company developing brain–computer interfaces—and the Boring Company, a tunnel construction company. In 2022, he acquired Twitter for $44 billion. He subsequently merged the company into newly created X Corp. and rebranded the service as X the following year. In March 2023, he founded xAI, an artificial intelligence company.\n",
            "Musk has expressed views that have made him a polarizing figure. He has been criticized for making unscientific and misleading statements, including COVID-19 misinformation and antisemitic conspiracy theories. His ownership of Twitter has been similarly controversial, being marked by the laying off of a large number of employees, an increase in hate speech and misinformation and disinformation on the website, as well as changes to Twitter Blue verification. In 2018, the U.S. Securities and Exchange Commission (SEC) sued him, alleging that he had falsely announced that he had secured funding for a private takeover of Tesla. To settle the case, Musk stepped down as the chairman of Tesla and paid a $20 million fine.\n",
            "\n",
            "\n",
            "\n",
            "Page: Twitter under Elon Musk\n",
            "Summary: Elon Musk completed his acquisition of Twitter in October 2022; Musk acted as CEO of Twitter until June 2023 when he was succeeded by Linda Yaccarino. Twitter was then rebranded to X in July 2023. Initially during Musk's tenure, Twitter introduced a series of reforms and management changes; the company reinstated a number of previously banned accounts, reduced the workforce by approximately 80%, closed one of Twitter's three data centers, and largely eliminated the content moderation team, replacing it with the crowd-sourced fact-checking system Community Notes.\n",
            "In November 2022, Twitter then began offering paid verification checkmarks, followed by removing legacy verification. In December, the Twitter Files were released and a number of journalists suspended from the platform. The follo\u001b[0m\n",
            "Thought:\u001b[32;1m\u001b[1;3mDo I need to use a tool? No\n",
            "AI: Elon Reeve Musk is a prominent businessman and investor known for his role in founding, leading, and investing in several high-profile technology companies. Born on June 28, 1971, Musk has been involved in a series of entrepreneurial ventures:\n",
            "\n",
            "- He is the founder, chairman, CEO, and CTO of SpaceX, a company that designs, manufactures, and launches advanced rockets and spacecraft.\n",
            "- Musk is also the CEO, product architect, and former chairman of Tesla, Inc., a company that specializes in electric vehicles, battery energy storage, and solar panel manufacturing.\n",
            "- He is the owner, chairman, and CTO of X Corp.\n",
            "- Musk founded The Boring Company, which focuses on tunnel construction and infrastructure.\n",
            "- He co-founded Neuralink, a neurotechnology company working on brain-computer interfaces.\n",
            "- Musk is a co-founder of OpenAI, the organization behind the AI model you're currently interacting with.\n",
            "- He also founded xAI, an artificial intelligence company, in March 2023.\n",
            "\n",
            "Musk acquired Twitter in 2022 for $44 billion and later merged the company into X Corp., rebranding the service as X. His tenure at Twitter has been marked by significant changes and controversies, including layoffs, changes to content moderation, and the introduction of paid verification checkmarks.\n",
            "\n",
            "He is known for his ambitious vision of the future, including space exploration, sustainable energy, and advanced AI. However, Musk has also been a polarizing figure due to his public statements and actions, which have sometimes sparked criticism and controversy. As of December 2023, he is considered the second wealthiest person in the world.\u001b[0m\n",
            "\n",
            "\u001b[1m> Finished chain.\u001b[0m\n",
            "\n",
            "\n",
            "\u001b[1m> Entering new AgentExecutor chain...\u001b[0m\n",
            "\u001b[32;1m\u001b[1;3m```\n",
            "Thought: Do I need to use a tool? No\n",
            "AI: We were talking about Elon Musk, the entrepreneur and business magnate known for his involvement with companies such as SpaceX, Tesla, Inc., The Boring Company, Neuralink, OpenAI, and xAI. He also acquired and rebranded Twitter into X Corp.\n",
            "```\u001b[0m\n",
            "\n",
            "\u001b[1m> Finished chain.\u001b[0m\n",
            "Elon Reeve Musk is a prominent businessman and investor known for his role in founding, leading, and investing in several high-profile technology companies. Born on June 28, 1971, Musk has been involved in a series of entrepreneurial ventures:\n",
            "\n",
            "- He is the founder, chairman, CEO, and CTO of SpaceX, a company that designs, manufactures, and launches advanced rockets and spacecraft.\n",
            "- Musk is also the CEO, product architect, and former chairman of Tesla, Inc., a company that specializes in electric vehicles, battery energy storage, and solar panel manufacturing.\n",
            "- He is the owner, chairman, and CTO of X Corp.\n",
            "- Musk founded The Boring Company, which focuses on tunnel construction and infrastructure.\n",
            "- He co-founded Neuralink, a neurotechnology company working on brain-computer interfaces.\n",
            "- Musk is a co-founder of OpenAI, the organization behind the AI model you're currently interacting with.\n",
            "- He also founded xAI, an artificial intelligence company, in March 2023.\n",
            "\n",
            "Musk acquired Twitter in 2022 for $44 billion and later merged the company into X Corp., rebranding the service as X. His tenure at Twitter has been marked by significant changes and controversies, including layoffs, changes to content moderation, and the introduction of paid verification checkmarks.\n",
            "\n",
            "He is known for his ambitious vision of the future, including space exploration, sustainable energy, and advanced AI. However, Musk has also been a polarizing figure due to his public statements and actions, which have sometimes sparked criticism and controversy. As of December 2023, he is considered the second wealthiest person in the world.\n",
            "****************************************************************************************************\n",
            "We were talking about Elon Musk, the entrepreneur and business magnate known for his involvement with companies such as SpaceX, Tesla, Inc., The Boring Company, Neuralink, OpenAI, and xAI. He also acquired and rebranded Twitter into X Corp.\n",
            "```\n"
          ]
        }
      ],
      "source": [
        "from langchain.agents import initialize_agent, load_tools, AgentType\n",
        "from langchain.memory import ConversationBufferMemory\n",
        "from langchain_openai import ChatOpenAI\n",
        "\n",
        "llm = ChatOpenAI(model=\"gpt-4-1106-preview\", temperature=0)\n",
        "tools = load_tools([\"wikipedia\"],  llm=llm)\n",
        "memory = ConversationBufferMemory(memory_key=\"chat_history\")\n",
        "\n",
        "conversational_agent = initialize_agent(agent=AgentType.CONVERSATIONAL_REACT_DESCRIPTION,tools=tools,\n",
        "                                        llm=llm, verbose=True,  max_iterations=3, memory=memory)\n",
        "output_1=conversational_agent.run(\"Who is this guy 'Elon Musk'?\")\n",
        "output_2=conversational_agent.run(\"which person we were taking about?\")\n",
        "print(output_1)\n",
        "print(\"*\"*100)\n",
        "print(output_2)"
      ]
    },
    {
      "cell_type": "markdown",
      "source": [
        "## Structured Chat Agent"
      ],
      "metadata": {
        "id": "dUS8jDmDPfqn"
      }
    },
    {
      "cell_type": "code",
      "source": [
        "!pip install langchainhub --quiet"
      ],
      "metadata": {
        "id": "JP7ubNAvSdCp"
      },
      "execution_count": 11,
      "outputs": []
    },
    {
      "cell_type": "code",
      "execution_count": 12,
      "metadata": {
        "id": "bED7BCgJwXuE",
        "outputId": "96f36461-da89-4309-9ef3-c281287a30a0",
        "colab": {
          "base_uri": "https://localhost:8080/"
        }
      },
      "outputs": [
        {
          "output_type": "stream",
          "name": "stdout",
          "text": [
            "\n",
            "\n",
            "\u001b[1m> Entering new AgentExecutor chain...\u001b[0m\n",
            "\u001b[32;1m\u001b[1;3mCould not parse LLM output: Understood. Your name is Bob.\u001b[0mInvalid or incomplete response\u001b[32;1m\u001b[1;3m{\n",
            "  \"action\": \"Final Answer\",\n",
            "  \"action_input\": \"Your name is Bob.\"\n",
            "}\u001b[0m\n",
            "\n",
            "\u001b[1m> Finished chain.\u001b[0m\n"
          ]
        },
        {
          "output_type": "execute_result",
          "data": {
            "text/plain": [
              "{'input': \"what's my name? Do not use tools unless you have to\",\n",
              " 'chat_history': [HumanMessage(content='hi! my name is bob'),\n",
              "  AIMessage(content='Hello Bob! How can I assist you today?')],\n",
              " 'output': 'Your name is Bob.'}"
            ]
          },
          "metadata": {},
          "execution_count": 12
        }
      ],
      "source": [
        "from langchain import hub\n",
        "from langchain.agents import AgentExecutor, create_structured_chat_agent, load_tools\n",
        "from langchain_openai import ChatOpenAI\n",
        "from langchain_core.messages import AIMessage, HumanMessage\n",
        "\n",
        "\n",
        "# Get the prompt to use - you can modify this!\n",
        "prompt = hub.pull(\"hwchase17/structured-chat-agent\")\n",
        "tools = load_tools([\"wikipedia\"],  llm=llm)\n",
        "# Choose the LLM that will drive the agent\n",
        "llm = ChatOpenAI(temperature=0, model=\"gpt-3.5-turbo-1106\")\n",
        "# Construct the JSON agent\n",
        "agent = create_structured_chat_agent(llm, tools, prompt)\n",
        "# Create an agent executor by passing in the agent and tools\n",
        "agent_executor = AgentExecutor(agent=agent, tools=tools, verbose=True, handle_parsing_errors=True)\n",
        "\n",
        "agent_executor.invoke(\n",
        "    {\n",
        "        \"input\": \"what's my name? Do not use tools unless you have to\",\n",
        "        \"chat_history\": [\n",
        "            HumanMessage(content=\"hi! my name is bob\"),\n",
        "            AIMessage(content=\"Hello Bob! How can I assist you today?\"),\n",
        "        ],\n",
        "    }\n",
        ")"
      ]
    },
    {
      "cell_type": "markdown",
      "source": [
        "# DocStore Agent"
      ],
      "metadata": {
        "id": "JJDZsddePh8w"
      }
    },
    {
      "cell_type": "code",
      "execution_count": 13,
      "metadata": {
        "id": "dXqOpYDmwXuI",
        "outputId": "720d50f6-b876-4bc7-93e9-b5b307ef5a86",
        "colab": {
          "base_uri": "https://localhost:8080/"
        }
      },
      "outputs": [
        {
          "output_type": "stream",
          "name": "stderr",
          "text": [
            "/usr/local/lib/python3.10/dist-packages/langchain_core/_api/deprecation.py:117: LangChainDeprecationWarning: The class `langchain.agents.react.base.DocstoreExplorer` was deprecated in langchain 0.1.0 and will be removed in 0.2.0\n",
            "  warn_deprecated(\n"
          ]
        },
        {
          "output_type": "stream",
          "name": "stdout",
          "text": [
            "\n",
            "\n",
            "\u001b[1m> Entering new AgentExecutor chain...\u001b[0m\n",
            "\u001b[32;1m\u001b[1;3mThought: I need to search Mahatma Gandhi and find his full name.\n",
            "Action: Search[Mahatma Gandhi]\u001b[0m\n",
            "Observation: \u001b[36;1m\u001b[1;3mMohandas Karamchand Gandhi (ISO: Mōhanadāsa Karamacaṁda Gāṁdhī; 2 October 1869 – 30 January 1948) was an Indian lawyer, anti-colonial nationalist and political ethicist who employed nonviolent resistance to lead the successful campaign for India's independence from British rule. He inspired movements for civil rights and freedom across the world. The honorific Mahātmā (from Sanskrit 'great-souled, venerable'), first applied to him in South Africa in 1914, is now used throughout the world.\n",
            "Born and raised in a Hindu family in coastal Gujarat, Gandhi trained in the law at the Inner Temple in London, and was called to the bar in June 1891, at the age of 22. After two uncertain years in India, where he was unable to start a successful law practice, he moved to South Africa in 1893 to represent an Indian merchant in a lawsuit. He went on to live in South Africa for 21 years. There, Gandhi raised a family and first employed nonviolent resistance in a campaign for civil rights. In 1915, aged 45, he returned to India and soon set about organising peasants, farmers, and urban labourers to protest against discrimination and excessive land-tax.\n",
            "Assuming leadership of the Indian National Congress in 1921, Gandhi led nationwide campaigns for easing poverty, expanding women's rights, building religious and ethnic amity, ending untouchability, and, above all, achieving swaraj or self-rule. Gandhi adopted the short dhoti woven with hand-spun yarn as a mark of identification with India's rural poor. He began to live in a self-sufficient residential community, to eat simple food, and undertake long fasts as a means of both introspection and political protest. Bringing anti-colonial nationalism to the common Indians, Gandhi led them in challenging the British-imposed salt tax with the 400 km (250 mi) Dandi Salt March in 1930 and in calling for the British to quit India in 1942. He was imprisoned many times and for many years in both South Africa and India.\n",
            "Gandhi's vision of an independent India based on religious pluralism was challenged in the early 1940s by a Muslim nationalism which demanded a separate homeland for Muslims within British India. In August 1947, Britain granted independence, but the British Indian Empire was partitioned into two dominions, a Hindu-majority India and a Muslim-majority Pakistan. As many displaced Hindus, Muslims, and Sikhs made their way to their new lands, religious violence broke out, especially in the Punjab and Bengal. Abstaining from the official celebration of independence, Gandhi visited the affected areas, attempting to alleviate distress. In the months following, he undertook several hunger strikes to stop the religious violence. The last of these was begun in Delhi on 12 January 1948, when he was 78. The belief that Gandhi had been too resolute in his defense of both Pakistan and Indian Muslims spread among some Hindus in India. Among these was Nathuram Godse, a militant Hindu nationalist from Pune, western India, who assassinated Gandhi by firing three bullets into his chest at an interfaith prayer meeting in Delhi on 30 January 1948. \n",
            "Gandhi's birthday, 2 October, is commemorated in India as Gandhi Jayanti, a national holiday, and worldwide as the International Day of Nonviolence. Gandhi is considered to be the Father of the Nation in post-colonial India. During India's nationalist movement and in several decades immediately after, he was also commonly called Bapu (Gujarati endearment for \"father\", roughly \"papa\", \"daddy\").\u001b[0m\n",
            "Thought:\u001b[32;1m\u001b[1;3mMahatma Gandhi's full name is Mohandas Karamchand Gandhi.\n",
            "Action: Finish[Mohandas Karamchand Gandhi]\u001b[0m\n",
            "\n",
            "\u001b[1m> Finished chain.\u001b[0m\n",
            "Mohandas Karamchand Gandhi\n"
          ]
        }
      ],
      "source": [
        "from langchain.agents import initialize_agent, Tool\n",
        "from langchain_openai import ChatOpenAI\n",
        "from langchain import Wikipedia\n",
        "from langchain.agents.react.base import DocstoreExplorer\n",
        "#binitializing an LLM\n",
        "llm = ChatOpenAI(model=\"gpt-4\", temperature=0)\n",
        "\n",
        "# initializing a docstore explorer\n",
        "docstore = DocstoreExplorer(Wikipedia())\n",
        "\n",
        "# initializing a tool\n",
        "tools=[\n",
        "    Tool(name=\"Search\", func=docstore.search, description=\"useful for when you need to ask with search\"),\n",
        "    Tool(name=\"Lookup\", func=docstore.lookup, description=\"useful for when you need to ask with lookup\")]\n",
        "\n",
        "react_agent= initialize_agent(tools, llm, agent=\"react-docstore\",verbose=True)\n",
        "print(react_agent.run(\"What was Mahatma Gandhi's full name?\")) # look on the keywords then go for search"
      ]
    },
    {
      "cell_type": "code",
      "execution_count": null,
      "metadata": {
        "id": "RZkHivBkwXuI"
      },
      "outputs": [],
      "source": []
    },
    {
      "cell_type": "markdown",
      "source": [
        "## Self Ask with Search Agent"
      ],
      "metadata": {
        "id": "-PUNRaUNPk76"
      }
    },
    {
      "cell_type": "code",
      "execution_count": 14,
      "metadata": {
        "id": "KDvCFAtUwXuI"
      },
      "outputs": [],
      "source": [
        "import os\n",
        "os.environ['TAVILY_API_KEY'] = \"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\""
      ]
    },
    {
      "cell_type": "code",
      "execution_count": 16,
      "metadata": {
        "id": "8fU8SQeMwXuI",
        "outputId": "b631a279-1d80-4467-cba0-6f9bb4112410",
        "colab": {
          "base_uri": "https://localhost:8080/"
        }
      },
      "outputs": [
        {
          "output_type": "stream",
          "name": "stdout",
          "text": [
            "\n",
            "\n",
            "\u001b[1m> Entering new AgentExecutor chain...\u001b[0m\n",
            "\u001b[32;1m\u001b[1;3mYes.\n",
            "Follow up: Who is the reigning men's U.S. Open champion?\u001b[0m\u001b[36;1m\u001b[1;3mThe reigning men's U.S. Open champion is Daniil Medvedev. He won the tournament in 2021 by defeating Novak Djokovic in the final.\u001b[0m\u001b[32;1m\u001b[1;3mFollow up: Where is Daniil Medvedev from?\u001b[0m\u001b[36;1m\u001b[1;3mDaniil Medvedev is from Russia.\u001b[0m\u001b[32;1m\u001b[1;3mSo the final answer is: Russia\u001b[0m\n",
            "\n",
            "\u001b[1m> Finished chain.\u001b[0m\n"
          ]
        },
        {
          "output_type": "execute_result",
          "data": {
            "text/plain": [
              "{'input': \"What is the hometown of the reigning men's U.S. Open champion?\",\n",
              " 'output': 'Russia'}"
            ]
          },
          "metadata": {},
          "execution_count": 16
        }
      ],
      "source": [
        "from langchain import hub\n",
        "from langchain.agents import AgentExecutor, create_self_ask_with_search_agent\n",
        "from langchain_openai import ChatOpenAI\n",
        "from langchain_community.tools.tavily_search import TavilyAnswer\n",
        "import os\n",
        "\n",
        "tools = [TavilyAnswer(max_results=2, name=\"Intermediate Answer\")]\n",
        "\n",
        "# Get the prompt to use - you can modify this!\n",
        "prompt = hub.pull(\"hwchase17/self-ask-with-search\")\n",
        "# Choose the LLM that will drive the agent\n",
        "llm = ChatOpenAI(model=\"gpt-4\", temperature=0)\n",
        "\n",
        "# Construct the Self Ask With Search Agent\n",
        "agent = create_self_ask_with_search_agent(llm, tools, prompt)\n",
        "\n",
        "# Create an agent executor by passing in the agent and tools\n",
        "agent_executor = AgentExecutor(agent=agent, tools=tools, verbose=True,handle_parsing_errors=True)\n",
        "agent_executor.invoke(\n",
        "    {\"input\": \"What is the hometown of the reigning men's U.S. Open champion?\"}\n",
        ")"
      ]
    },
    {
      "cell_type": "code",
      "execution_count": null,
      "metadata": {
        "id": "w-h7fSdmwXuP"
      },
      "outputs": [],
      "source": []
    }
  ],
  "metadata": {
    "kernelspec": {
      "display_name": "Python 3 (ipykernel)",
      "language": "python",
      "name": "python3"
    },
    "language_info": {
      "codemirror_mode": {
        "name": "ipython",
        "version": 3
      },
      "file_extension": ".py",
      "mimetype": "text/x-python",
      "name": "python",
      "nbconvert_exporter": "python",
      "pygments_lexer": "ipython3",
      "version": "3.10.9"
    },
    "colab": {
      "provenance": [],
      "include_colab_link": true
    }
  },
  "nbformat": 4,
  "nbformat_minor": 0
}
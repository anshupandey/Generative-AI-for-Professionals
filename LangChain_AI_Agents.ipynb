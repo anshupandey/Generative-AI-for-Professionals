{
  "cells": [
    {
      "cell_type": "markdown",
      "metadata": {
        "id": "view-in-github",
        "colab_type": "text"
      },
      "source": [
        "<a href=\"https://colab.research.google.com/github/anshupandey/Generative-AI-for-Professionals/blob/main/LangChain_AI_Agents.ipynb\" target=\"_parent\"><img src=\"https://colab.research.google.com/assets/colab-badge.svg\" alt=\"Open In Colab\"/></a>"
      ]
    },
    {
      "cell_type": "code",
      "source": [
        "# Installing necessary libraries\n",
        "!pip install langchain-openai --quiet  # Installs a specific version (0.0.3) of the langchain_openai package quietly\n",
        "!pip install langchain langchain-experimental --quiet        # Installs a specific version (0.1.1) of the langchain package quietly\n",
        "!pip install huggingface_hub openai google-search-results tiktoken wikipedia --quiet"
      ],
      "metadata": {
        "id": "YZEwSuNrPVzY"
      },
      "execution_count": null,
      "outputs": []
    },
    {
      "cell_type": "code",
      "execution_count": null,
      "metadata": {
        "id": "WHq93OY1wXt_"
      },
      "outputs": [],
      "source": [
        "import os\n",
        "os.environ['OPENAI_API_KEY'] = \"sk-cUxxxxxxxxxxxxtZ2sY\""
      ]
    },
    {
      "cell_type": "markdown",
      "source": [
        "## Zero-shot ReAct Agent"
      ],
      "metadata": {
        "id": "UPikr9v7PXaw"
      }
    },
    {
      "cell_type": "code",
      "execution_count": null,
      "metadata": {
        "id": "aX2jvHiDwXuB",
        "outputId": "e3641868-18b1-4ac0-885e-af4b25b8b0ec"
      },
      "outputs": [
        {
          "name": "stdout",
          "output_type": "stream",
          "text": [
            "\n",
            "\n",
            "\u001b[1m> Entering new AgentExecutor chain...\u001b[0m\n",
            "\u001b[32;1m\u001b[1;3mI can use the Math Tool to calculate the division.\n",
            "Action: Math Tool\n",
            "Action Input: 100 / 25\u001b[0m\n",
            "Observation: \u001b[36;1m\u001b[1;3mAnswer: 4.0\u001b[0m\n",
            "Thought:\u001b[32;1m\u001b[1;3mI now know the final answer\n",
            "Final Answer: 4.0\u001b[0m\n",
            "\n",
            "\u001b[1m> Finished chain.\u001b[0m\n"
          ]
        },
        {
          "data": {
            "text/plain": [
              "'4.0'"
            ]
          },
          "execution_count": 8,
          "metadata": {},
          "output_type": "execute_result"
        }
      ],
      "source": [
        "from langchain.agents import load_tools\n",
        "from langchain_openai import ChatOpenAI\n",
        "\n",
        "llm = ChatOpenAI(model=\"gpt-3.5-turbo\", temperature=0,\n",
        "                 api_key=OPENAI_API_KEY)\n",
        "\n",
        "tool_names = [\"llm-math\"]\n",
        "tools = load_tools(tool_names, llm=llm)\n",
        "\n",
        "from langchain.agents import Tool\n",
        "tool_list = [Tool(name = \"Math Tool\", func=tools[0].run,\n",
        "        description=\"Tool to calculate, nothing else\",\n",
        "        return_direct=True),]\n",
        "\n",
        "from langchain.agents import initialize_agent\n",
        "\n",
        "agent = initialize_agent(tool_list, llm,\n",
        "                         agent=\"zero-shot-react-description\", verbose=True)\n",
        "agent.run(\"What is 100 divided by 25?\")"
      ]
    },
    {
      "cell_type": "markdown",
      "source": [
        "## COnversational ReAct Agent"
      ],
      "metadata": {
        "id": "z8BT3gliPc1e"
      }
    },
    {
      "cell_type": "code",
      "execution_count": null,
      "metadata": {
        "id": "OlWo--drwXuD",
        "outputId": "fcdce1be-dfd6-4cb4-f87d-768b621cf5f3"
      },
      "outputs": [
        {
          "name": "stdout",
          "output_type": "stream",
          "text": [
            "Elon Reeve Musk, born June 28, 1971, is a prominent entrepreneur and business magnate known for his work in revolutionizing several industries. He is the founder, CEO, CTO, and chief designer of SpaceX; CEO and product architect of Tesla, Inc.; founder of The Boring Company; co-founder of Neuralink and OpenAI; and was involved in the creation of SolarCity. Musk is recognized for his role in the development of the electric vehicle market through Tesla and his ambitions in space exploration with SpaceX. He has also been involved in various controversies and has made headlines for his statements and actions on social media platforms. As of December 2023, he is considered the wealthiest person in the world according to the Bloomberg Billionaires Index and Forbes, with his wealth primarily derived from his stakes in Tesla and SpaceX.\n",
            "****************************************************************************************************\n",
            "We were talking about Elon Musk, the entrepreneur and business magnate known for his involvement with companies like SpaceX, Tesla, Inc., The Boring Company, Neuralink, and OpenAI.\n",
            "```\n"
          ]
        }
      ],
      "source": [
        "from langchain.agents import initialize_agent, load_tools, AgentType\n",
        "from langchain.memory import ConversationBufferMemory\n",
        "from langchain_openai import ChatOpenAI\n",
        "\n",
        "llm = ChatOpenAI(model=\"gpt-4-1106-preview\", temperature=0, api_key=OPENAI_API_KEY)\n",
        "tools = load_tools([\"wikipedia\"],  llm=llm)\n",
        "memory = ConversationBufferMemory(memory_key=\"chat_history\")\n",
        "\n",
        "conversational_agent = initialize_agent(agent=AgentType.CONVERSATIONAL_REACT_DESCRIPTION,tools=tools,\n",
        "                                        llm=llm, verbose=False,  max_iterations=3, memory=memory)\n",
        "output_1=conversational_agent.run(\"Who is this guy 'Elon Musk'?\")\n",
        "output_2=conversational_agent.run(\"which person we were taking about?\")\n",
        "print(output_1)\n",
        "print(\"*\"*100)\n",
        "print(output_2)"
      ]
    },
    {
      "cell_type": "markdown",
      "source": [
        "## Structured Chat Agent"
      ],
      "metadata": {
        "id": "dUS8jDmDPfqn"
      }
    },
    {
      "cell_type": "code",
      "execution_count": null,
      "metadata": {
        "id": "bED7BCgJwXuE",
        "outputId": "febdb4ce-dfd1-4dab-a0f9-19ef7adae69e"
      },
      "outputs": [
        {
          "name": "stdout",
          "output_type": "stream",
          "text": [
            "\n",
            "\n",
            "\u001b[1m> Entering new AgentExecutor chain...\u001b[0m\n",
            "\u001b[32;1m\u001b[1;3mCould not parse LLM output: I understand. Your name is Bob.\u001b[0mInvalid or incomplete response\u001b[32;1m\u001b[1;3m{\n",
            "  \"action\": \"Final Answer\",\n",
            "  \"action_input\": \"Your name is Bob.\"\n",
            "}\u001b[0m\n",
            "\n",
            "\u001b[1m> Finished chain.\u001b[0m\n"
          ]
        },
        {
          "data": {
            "text/plain": [
              "{'input': \"what's my name? Do not use tools unless you have to\",\n",
              " 'chat_history': [HumanMessage(content='hi! my name is bob'),\n",
              "  AIMessage(content='Hello Bob! How can I assist you today?')],\n",
              " 'output': 'Your name is Bob.'}"
            ]
          },
          "execution_count": 32,
          "metadata": {},
          "output_type": "execute_result"
        }
      ],
      "source": [
        "from langchain import hub\n",
        "from langchain.agents import AgentExecutor, create_structured_chat_agent, load_tools\n",
        "from langchain_openai import ChatOpenAI\n",
        "from langchain_core.messages import AIMessage, HumanMessage\n",
        "\n",
        "\n",
        "# Get the prompt to use - you can modify this!\n",
        "prompt = hub.pull(\"hwchase17/structured-chat-agent\")\n",
        "tools = load_tools([\"wikipedia\"],  llm=llm)\n",
        "# Choose the LLM that will drive the agent\n",
        "llm = ChatOpenAI(temperature=0, model=\"gpt-3.5-turbo-1106\",api_key=OPENAI_API_KEY)\n",
        "# Construct the JSON agent\n",
        "agent = create_structured_chat_agent(llm, tools, prompt)\n",
        "# Create an agent executor by passing in the agent and tools\n",
        "agent_executor = AgentExecutor(agent=agent, tools=tools, verbose=True, handle_parsing_errors=True)\n",
        "\n",
        "agent_executor.invoke(\n",
        "    {\n",
        "        \"input\": \"what's my name? Do not use tools unless you have to\",\n",
        "        \"chat_history\": [\n",
        "            HumanMessage(content=\"hi! my name is bob\"),\n",
        "            AIMessage(content=\"Hello Bob! How can I assist you today?\"),\n",
        "        ],\n",
        "    }\n",
        ")"
      ]
    },
    {
      "cell_type": "markdown",
      "source": [
        "# DocStore Agent"
      ],
      "metadata": {
        "id": "JJDZsddePh8w"
      }
    },
    {
      "cell_type": "code",
      "execution_count": null,
      "metadata": {
        "id": "dXqOpYDmwXuI",
        "outputId": "819edc52-9b39-4a99-8ee8-867ee6e4b230"
      },
      "outputs": [
        {
          "name": "stdout",
          "output_type": "stream",
          "text": [
            "\n",
            "\n",
            "\u001b[1m> Entering new AgentExecutor chain...\u001b[0m\n",
            "\u001b[32;1m\u001b[1;3mThought: I need to search Mahatma Gandhi and find his full name.\n",
            "Action: Search[Mahatma Gandhi]\u001b[0m\n",
            "Observation: \u001b[36;1m\u001b[1;3mMohandas Karamchand Gandhi (2 October 1869 – 30 January 1948) was an Indian lawyer, anti-colonial nationalist and political ethicist who employed nonviolent resistance to lead the successful campaign for India's independence from British rule. He inspired movements for civil rights and freedom across the world. The honorific Mahātmā (from Sanskrit 'great-souled, venerable'), first applied to him in South Africa in 1914, is now used throughout the world.  \n",
            "Born and raised in a Hindu family in coastal Gujarat, Gandhi trained in the law at the Inner Temple, London, and was called to the bar at age 22 in June 1891. After two uncertain years in India, where he was unable to start a successful law practice, he moved to South Africa in 1893 to represent an Indian merchant in a lawsuit. He went on to live in South Africa for 21 years. It was here that Gandhi raised a family and first employed nonviolent resistance in a campaign for civil rights. In 1915, aged 45, he returned to India and soon set about organising peasants, farmers, and urban labourers to protest against excessive land-tax and discrimination.\n",
            "Assuming leadership of the Indian National Congress in 1921, Gandhi led nationwide campaigns for easing poverty, expanding women's rights, building religious and ethnic amity, ending untouchability, and, above all, achieving swaraj or self-rule. Gandhi adopted the short dhoti woven with hand-spun yarn as a mark of identification with India's rural poor. He began to live in a self-sufficient residential community, to eat simple food, and undertake long fasts as a means of both introspection and political protest. Bringing anti-colonial nationalism to the common Indians, Gandhi led them in challenging the British-imposed salt tax with the 400 km (250 mi) Dandi Salt March in 1930 and in calling for the British to quit India in 1942. He was imprisoned many times and for many years in both South Africa and India.\n",
            "Gandhi's vision of an independent India based on religious pluralism was challenged in the early 1940s by a Muslim nationalism which demanded a separate homeland for Muslims within British India. In August 1947, Britain granted independence, but the British Indian Empire was partitioned into two dominions, a Hindu-majority India and a Muslim-majority Pakistan. As many displaced Hindus, Muslims, and Sikhs made their way to their new lands, religious violence broke out, especially in the Punjab and Bengal. Abstaining from the official celebration of independence, Gandhi visited the affected areas, attempting to alleviate distress. In the months following, he undertook several hunger strikes to stop the religious violence. The last of these was begun in Delhi on 12 January 1948 when he was 78. The belief that Gandhi had been too resolute in his defense of both Pakistan and Indian Muslims spread among some Hindus in India. Among these was Nathuram Godse, a militant Hindu nationalist from Pune, western India, who assassinated Gandhi by firing three bullets into his chest at an interfaith prayer meeting in Delhi on 30 January 1948. \n",
            "Gandhi's birthday, 2 October, is commemorated in India as Gandhi Jayanti, a national holiday, and worldwide as the International Day of Nonviolence. Gandhi is considered to be the Father of the Nation in post-colonial India. During India's nationalist movement and in several decades immediately after, he was also commonly called Bapu (Gujarati endearment for \"father\", roughly \"papa\", \"daddy\").\u001b[0m\n",
            "Thought:\u001b[32;1m\u001b[1;3mMahatma Gandhi's full name is Mohandas Karamchand Gandhi.\n",
            "Action: Finish[Mohandas Karamchand Gandhi]\u001b[0m\n",
            "\n",
            "\u001b[1m> Finished chain.\u001b[0m\n",
            "Mohandas Karamchand Gandhi\n"
          ]
        }
      ],
      "source": [
        "from langchain.agents import initialize_agent, Tool\n",
        "from langchain_openai import ChatOpenAI\n",
        "from langchain import Wikipedia\n",
        "from langchain.agents.react.base import DocstoreExplorer\n",
        "#binitializing an LLM\n",
        "llm = ChatOpenAI(model=\"gpt-4\", temperature=0, api_key=OPENAI_API_KEY)\n",
        "\n",
        "# initializing a docstore explorer\n",
        "docstore = DocstoreExplorer(Wikipedia())\n",
        "\n",
        "# initializing a tool\n",
        "tools=[\n",
        "    Tool(name=\"Search\", func=docstore.search, description=\"useful for when you need to ask with search\"),\n",
        "    Tool(name=\"Lookup\", func=docstore.lookup, description=\"useful for when you need to ask with lookup\")]\n",
        "\n",
        "react_agent= initialize_agent(tools, llm, agent=\"react-docstore\",verbose=True)\n",
        "print(react_agent.run(\"What was Mahatma Gandhi's full name?\")) # look on the keywords then go for search"
      ]
    },
    {
      "cell_type": "code",
      "execution_count": null,
      "metadata": {
        "id": "RZkHivBkwXuI"
      },
      "outputs": [],
      "source": []
    },
    {
      "cell_type": "markdown",
      "source": [
        "## Self Ask with Search Agent"
      ],
      "metadata": {
        "id": "-PUNRaUNPk76"
      }
    },
    {
      "cell_type": "code",
      "execution_count": null,
      "metadata": {
        "id": "KDvCFAtUwXuI"
      },
      "outputs": [],
      "source": [
        "import os\n",
        "os.environ['TAVILY_API_KEY'] = \"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\""
      ]
    },
    {
      "cell_type": "code",
      "execution_count": null,
      "metadata": {
        "id": "8fU8SQeMwXuI",
        "outputId": "84283890-ab52-4e49-aeab-f4d1e3b601c6"
      },
      "outputs": [
        {
          "name": "stdout",
          "output_type": "stream",
          "text": [
            "\n",
            "\n",
            "\u001b[1m> Entering new AgentExecutor chain...\u001b[0m\n",
            "\u001b[32;1m\u001b[1;3mYes.\n",
            "Follow up: Who is the reigning men's U.S. Open champion?\u001b[0m\u001b[36;1m\u001b[1;3mThe reigning men's U.S. Open champion is Daniil Medvedev. He won the tournament in 2023 by defeating Novak Djokovic in the final.\u001b[0m\u001b[32;1m\u001b[1;3mFollow up: Where is Daniil Medvedev from?\u001b[0m\u001b[36;1m\u001b[1;3mDaniil Medvedev is from Russia.\u001b[0m\u001b[32;1m\u001b[1;3mSo the final answer is: Russia\u001b[0m\n",
            "\n",
            "\u001b[1m> Finished chain.\u001b[0m\n"
          ]
        },
        {
          "data": {
            "text/plain": [
              "{'input': \"What is the hometown of the reigning men's U.S. Open champion?\",\n",
              " 'output': 'Russia'}"
            ]
          },
          "execution_count": 36,
          "metadata": {},
          "output_type": "execute_result"
        }
      ],
      "source": [
        "from langchain import hub\n",
        "from langchain.agents import AgentExecutor, create_self_ask_with_search_agent\n",
        "from langchain_openai import ChatOpenAI\n",
        "from langchain_community.tools.tavily_search import TavilyAnswer\n",
        "import os\n",
        "os.environ['TAVILY_API_KEY'] = \"tvly-XXXXXXXXXXXXXXXXXXXXXXXXXXXXXX\"\n",
        "tools = [TavilyAnswer(max_results=2, name=\"Intermediate Answer\")]\n",
        "\n",
        "# Get the prompt to use - you can modify this!\n",
        "prompt = hub.pull(\"hwchase17/self-ask-with-search\")\n",
        "# Choose the LLM that will drive the agent\n",
        "llm = ChatOpenAI(model=\"gpt-4\", temperature=0, api_key=OPENAI_API_KEY)\n",
        "\n",
        "# Construct the Self Ask With Search Agent\n",
        "agent = create_self_ask_with_search_agent(llm, tools, prompt)\n",
        "\n",
        "# Create an agent executor by passing in the agent and tools\n",
        "agent_executor = AgentExecutor(agent=agent, tools=tools, verbose=True)\n",
        "agent_executor.invoke(\n",
        "    {\"input\": \"What is the hometown of the reigning men's U.S. Open champion?\"}\n",
        ")"
      ]
    },
    {
      "cell_type": "code",
      "execution_count": null,
      "metadata": {
        "id": "w-h7fSdmwXuP"
      },
      "outputs": [],
      "source": []
    }
  ],
  "metadata": {
    "kernelspec": {
      "display_name": "Python 3 (ipykernel)",
      "language": "python",
      "name": "python3"
    },
    "language_info": {
      "codemirror_mode": {
        "name": "ipython",
        "version": 3
      },
      "file_extension": ".py",
      "mimetype": "text/x-python",
      "name": "python",
      "nbconvert_exporter": "python",
      "pygments_lexer": "ipython3",
      "version": "3.10.9"
    },
    "colab": {
      "provenance": [],
      "include_colab_link": true
    }
  },
  "nbformat": 4,
  "nbformat_minor": 0
}
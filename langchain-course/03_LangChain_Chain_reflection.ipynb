{
  "cells": [
    {
      "cell_type": "markdown",
      "metadata": {
        "id": "view-in-github",
        "colab_type": "text"
      },
      "source": [
        "<a href=\"https://colab.research.google.com/github/anshupandey/Generative-AI-for-Professionals/blob/main/langchain-course/03_LangChain_Chain_reflection.ipynb\" target=\"_parent\"><img src=\"https://colab.research.google.com/assets/colab-badge.svg\" alt=\"Open In Colab\"/></a>"
      ]
    },
    {
      "cell_type": "markdown",
      "id": "492f050f-3dc3-44fa-8fdc-03362afd5488",
      "metadata": {
        "id": "492f050f-3dc3-44fa-8fdc-03362afd5488"
      },
      "source": [
        "# Reflection\n",
        "\n",
        "\n",
        "In the context of LLM agent building, reflection refers to the process of prompting an LLM to observe its past steps (along with potential observations from tools/the environment) to assess the quality of the chosen actions.\n",
        "This is then used downstream for things like re-planning, search, or evaluation.\n",
        "\n",
        "![Reflection](https://github.com/anshupandey/AI_Agents/blob/img/reflection.png?raw=1)\n",
        "\n",
        "This notebook demonstrates a very simple form of reflection in LangGraph."
      ]
    },
    {
      "cell_type": "markdown",
      "id": "3ef94e7e-c9a5-4eee-a865-acf411b5c235",
      "metadata": {
        "id": "3ef94e7e-c9a5-4eee-a865-acf411b5c235"
      },
      "source": [
        "#### Prerequisites\n",
        "\n",
        "We will be using a basic agent with a search tool here."
      ]
    },
    {
      "cell_type": "code",
      "execution_count": null,
      "id": "8b323f43-328b-4b4b-88b0-6c84dc0a1d60",
      "metadata": {
        "colab": {
          "base_uri": "https://localhost:8080/"
        },
        "id": "8b323f43-328b-4b4b-88b0-6c84dc0a1d60",
        "outputId": "e80a6a2e-4e19-4d53-e807-98cbf7f58216"
      },
      "outputs": [
        {
          "output_type": "stream",
          "name": "stdout",
          "text": [
            "\u001b[2K     \u001b[90m━━━━━━━━━━━━━━━━━━━━━━━━━━━━━━━━━━━━━━━━\u001b[0m \u001b[32m366.3/366.3 kB\u001b[0m \u001b[31m4.5 MB/s\u001b[0m eta \u001b[36m0:00:00\u001b[0m\n",
            "\u001b[2K     \u001b[90m━━━━━━━━━━━━━━━━━━━━━━━━━━━━━━━━━━━━━━━━\u001b[0m \u001b[32m2.2/2.2 MB\u001b[0m \u001b[31m19.5 MB/s\u001b[0m eta \u001b[36m0:00:00\u001b[0m\n",
            "\u001b[2K     \u001b[90m━━━━━━━━━━━━━━━━━━━━━━━━━━━━━━━━━━━━━━━━\u001b[0m \u001b[32m91.4/91.4 kB\u001b[0m \u001b[31m6.0 MB/s\u001b[0m eta \u001b[36m0:00:00\u001b[0m\n",
            "\u001b[2K     \u001b[90m━━━━━━━━━━━━━━━━━━━━━━━━━━━━━━━━━━━━━━━━\u001b[0m \u001b[32m127.9/127.9 kB\u001b[0m \u001b[31m5.0 MB/s\u001b[0m eta \u001b[36m0:00:00\u001b[0m\n",
            "\u001b[2K     \u001b[90m━━━━━━━━━━━━━━━━━━━━━━━━━━━━━━━━━━━━━━━━\u001b[0m \u001b[32m983.6/983.6 kB\u001b[0m \u001b[31m7.1 MB/s\u001b[0m eta \u001b[36m0:00:00\u001b[0m\n",
            "\u001b[2K     \u001b[90m━━━━━━━━━━━━━━━━━━━━━━━━━━━━━━━━━━━━━━━━\u001b[0m \u001b[32m49.2/49.2 kB\u001b[0m \u001b[31m2.2 MB/s\u001b[0m eta \u001b[36m0:00:00\u001b[0m\n",
            "\u001b[2K     \u001b[90m━━━━━━━━━━━━━━━━━━━━━━━━━━━━━━━━━━━━━━━━\u001b[0m \u001b[32m141.1/141.1 kB\u001b[0m \u001b[31m2.8 MB/s\u001b[0m eta \u001b[36m0:00:00\u001b[0m\n",
            "\u001b[2K     \u001b[90m━━━━━━━━━━━━━━━━━━━━━━━━━━━━━━━━━━━━━━━━\u001b[0m \u001b[32m64.9/64.9 kB\u001b[0m \u001b[31m1.5 MB/s\u001b[0m eta \u001b[36m0:00:00\u001b[0m\n",
            "\u001b[?25h\u001b[31mERROR: pip's dependency resolver does not currently take into account all the packages that are installed. This behaviour is the source of the following dependency conflicts.\n",
            "google-colab 1.0.0 requires requests==2.31.0, but you have requests 2.32.3 which is incompatible.\u001b[0m\u001b[31m\n",
            "\u001b[2K     \u001b[90m━━━━━━━━━━━━━━━━━━━━━━━━━━━━━━━━━━━━━━━━\u001b[0m \u001b[32m73.0/73.0 kB\u001b[0m \u001b[31m1.6 MB/s\u001b[0m eta \u001b[36m0:00:00\u001b[0m\n",
            "\u001b[?25h  Preparing metadata (setup.py) ... \u001b[?25l\u001b[?25hdone\n",
            "\u001b[2K     \u001b[90m━━━━━━━━━━━━━━━━━━━━━━━━━━━━━━━━━━━━━━━━\u001b[0m \u001b[32m126.5/126.5 kB\u001b[0m \u001b[31m5.9 MB/s\u001b[0m eta \u001b[36m0:00:00\u001b[0m\n",
            "\u001b[2K     \u001b[90m━━━━━━━━━━━━━━━━━━━━━━━━━━━━━━━━━━━━━━━━\u001b[0m \u001b[32m1.1/1.1 MB\u001b[0m \u001b[31m26.8 MB/s\u001b[0m eta \u001b[36m0:00:00\u001b[0m\n",
            "\u001b[2K     \u001b[90m━━━━━━━━━━━━━━━━━━━━━━━━━━━━━━━━━━━━━━━━\u001b[0m \u001b[32m75.6/75.6 kB\u001b[0m \u001b[31m8.3 MB/s\u001b[0m eta \u001b[36m0:00:00\u001b[0m\n",
            "\u001b[2K     \u001b[90m━━━━━━━━━━━━━━━━━━━━━━━━━━━━━━━━━━━━━━━━\u001b[0m \u001b[32m77.9/77.9 kB\u001b[0m \u001b[31m7.5 MB/s\u001b[0m eta \u001b[36m0:00:00\u001b[0m\n",
            "\u001b[2K     \u001b[90m━━━━━━━━━━━━━━━━━━━━━━━━━━━━━━━━━━━━━━━━\u001b[0m \u001b[32m58.3/58.3 kB\u001b[0m \u001b[31m5.4 MB/s\u001b[0m eta \u001b[36m0:00:00\u001b[0m\n",
            "\u001b[?25h  Building wheel for wikipedia (setup.py) ... \u001b[?25l\u001b[?25hdone\n"
          ]
        }
      ],
      "source": [
        "!pip install -q -U langchain-core langchain-community langgraph langchain-openai\n",
        "!pip install -q -U httpx"
      ]
    },
    {
      "cell_type": "code",
      "source": [
        "import IPython\n",
        "\n",
        "app = IPython.Application.instance()\n",
        "app.kernel.do_shutdown(True)"
      ],
      "metadata": {
        "colab": {
          "base_uri": "https://localhost:8080/"
        },
        "id": "R4xKXwD-Kk4B",
        "outputId": "f9302c75-e2f3-4fd4-e05c-9952859289fb"
      },
      "id": "R4xKXwD-Kk4B",
      "execution_count": null,
      "outputs": [
        {
          "output_type": "execute_result",
          "data": {
            "text/plain": [
              "{'status': 'ok', 'restart': True}"
            ]
          },
          "metadata": {},
          "execution_count": 2
        }
      ]
    },
    {
      "cell_type": "code",
      "source": [
        "import os\n",
        "os.environ['OPENAI_API_KEY'] = 'YOUR_API_KEY'"
      ],
      "metadata": {
        "id": "5UYkDN9rP3HR"
      },
      "id": "5UYkDN9rP3HR",
      "execution_count": null,
      "outputs": []
    },
    {
      "cell_type": "markdown",
      "id": "f27bcc4a-aaa5-46bd-8163-3e0e90cb66e6",
      "metadata": {
        "id": "f27bcc4a-aaa5-46bd-8163-3e0e90cb66e6"
      },
      "source": [
        "## Generate\n",
        "\n",
        "For our example, we will create a \"5 paragraph essay\" generator. First, create the generator:\n"
      ]
    },
    {
      "cell_type": "code",
      "execution_count": null,
      "id": "cc10028f-9cef-4936-9419-cbdf06d24f1e",
      "metadata": {
        "id": "cc10028f-9cef-4936-9419-cbdf06d24f1e"
      },
      "outputs": [],
      "source": [
        "from langchain_core.messages import AIMessage, BaseMessage, HumanMessage\n",
        "from langchain_core.prompts import ChatPromptTemplate, MessagesPlaceholder\n",
        "from langchain_openai import ChatOpenAI\n",
        "\n",
        "prompt = ChatPromptTemplate.from_messages(\n",
        "    [\n",
        "        (\n",
        "            \"system\",\n",
        "            \"You are an essay assistant tasked with writing excellent 5-paragraph essays.\"\n",
        "            \" Generate the best essay possible for the user's request.\"\n",
        "            \" If the user provides critique, respond with a revised version of your previous attempts.\",\n",
        "        ),\n",
        "        MessagesPlaceholder(variable_name=\"messages\"),\n",
        "    ]\n",
        ")\n",
        "\n",
        "\n",
        "chatmodel = ChatOpenAI(model=\"gpt-3.5-turbo\",temperature=0.5)\n",
        "\n",
        "generate = prompt | chatmodel"
      ]
    },
    {
      "cell_type": "code",
      "execution_count": null,
      "id": "9bbe25dc-fd1e-4ed5-a3c8-fed830b46d12",
      "metadata": {
        "colab": {
          "base_uri": "https://localhost:8080/"
        },
        "id": "9bbe25dc-fd1e-4ed5-a3c8-fed830b46d12",
        "outputId": "46cd16e4-72a6-419f-83da-8a78773658ae"
      },
      "outputs": [
        {
          "output_type": "stream",
          "name": "stdout",
          "text": [
            "## The Enduring Relevance of the Little Prince in Modern Childhood\n",
            "\n",
            "Antoine de Saint-Exupéry's \"The Little Prince\" is a timeless tale that continues to resonate with readers of all ages, particularly children. While the world has changed drastically since its publication in 1943, the story's themes of innocence, wonder, and the search for meaning remain profoundly relevant to the modern child navigating a complex and often overwhelming world. \n",
            "\n",
            "The Little Prince's journey across the cosmos, encountering diverse characters and unique planets, mirrors the child's own exploration of the world. Each encounter, from the conceited man to the lamplighter, represents a different facet of human nature and societal values. This exploration encourages children to question, observe, and develop their own understanding of the world around them. The story's simple yet profound language allows children to engage with complex ideas like love, loss, and the importance of connection, fostering their emotional intelligence and empathy.\n",
            "\n",
            "Furthermore, the Little Prince's unwavering belief in the power of imagination and the importance of seeing the world with childlike wonder serves as a powerful antidote to the pressures of modern childhood. In a world dominated by technology and standardized education, the story reminds children of the value of creativity, curiosity, and the simple joys of life. The Little Prince's journey emphasizes the importance of nurturing these qualities, encouraging children to embrace their individuality and find their own unique path.\n",
            "\n",
            "The story's enduring popularity also lies in its ability to connect with the universal experiences of childhood. The Little Prince's longing for home, his fear of loneliness, and his search for meaning are emotions that resonate deeply with children navigating the complexities of growing up. The story provides a comforting reminder that these feelings are shared, offering solace and validation during challenging times.\n",
            "\n",
            "In conclusion, \"The Little Prince\" remains relevant in modern childhood because it speaks to the core experiences and anxieties of growing up. It encourages children to embrace their imagination, question the world around them, and find meaning in their own unique journey. By reminding children of the importance of love, connection, and the simple joys of life, the story provides a powerful and enduring message that transcends time and resonates with the hearts and minds of children across generations. \n"
          ]
        }
      ],
      "source": [
        "essay = \"\"\n",
        "request = HumanMessage(\n",
        "    content=\"Write an essay on why the little prince is relevant in modern childhood\"\n",
        ")\n",
        "for chunk in generate.stream({\"messages\": [request]}):\n",
        "    print(chunk.content, end=\"\")\n",
        "    essay += chunk.content"
      ]
    },
    {
      "cell_type": "code",
      "source": [
        "essay"
      ],
      "metadata": {
        "id": "8EAHK0DLPXgG",
        "outputId": "9f56bc22-b406-4e28-8615-a11f40a75179",
        "colab": {
          "base_uri": "https://localhost:8080/",
          "height": 105
        }
      },
      "id": "8EAHK0DLPXgG",
      "execution_count": null,
      "outputs": [
        {
          "output_type": "execute_result",
          "data": {
            "text/plain": [
              "'## The Enduring Relevance of the Little Prince in Modern Childhood\\n\\nAntoine de Saint-Exupéry\\'s \"The Little Prince\" is a timeless tale that continues to resonate with readers of all ages, particularly children. While the world has changed drastically since its publication in 1943, the story\\'s themes of innocence, wonder, and the search for meaning remain profoundly relevant to the modern child navigating a complex and often overwhelming world. \\n\\nThe Little Prince\\'s journey across the cosmos, encountering diverse characters and unique planets, mirrors the child\\'s own exploration of the world. Each encounter, from the conceited man'"
            ],
            "application/vnd.google.colaboratory.intrinsic+json": {
              "type": "string"
            }
          },
          "metadata": {},
          "execution_count": 5
        }
      ]
    },
    {
      "cell_type": "markdown",
      "id": "b0b276e7-c392-4eec-be75-c77bd130379d",
      "metadata": {
        "id": "b0b276e7-c392-4eec-be75-c77bd130379d"
      },
      "source": [
        "### Reflect"
      ]
    },
    {
      "cell_type": "code",
      "execution_count": null,
      "id": "a705be92-88c0-4f4f-b4c2-cdcd9af8cb2c",
      "metadata": {
        "id": "a705be92-88c0-4f4f-b4c2-cdcd9af8cb2c"
      },
      "outputs": [],
      "source": [
        "reflection_prompt = ChatPromptTemplate.from_messages(\n",
        "    [\n",
        "        (\n",
        "            \"system\",\n",
        "            \"You are a teacher grading an essay submission. Generate critique and recommendations for the user's submission.\"\n",
        "            \" Provide detailed recommendations, including requests for length, depth, style, etc.\",\n",
        "        ),\n",
        "        MessagesPlaceholder(variable_name=\"messages\"),\n",
        "    ]\n",
        ")\n",
        "chatmodel = ChatOpenAI(model=\"gpt-3.5-turbo\",temperature=0.5)\n",
        "reflect = reflection_prompt | chatmodel"
      ]
    },
    {
      "cell_type": "code",
      "execution_count": null,
      "id": "16c5eb2a-8bce-48ab-b87d-9dacb9b64ac6",
      "metadata": {
        "colab": {
          "base_uri": "https://localhost:8080/"
        },
        "id": "16c5eb2a-8bce-48ab-b87d-9dacb9b64ac6",
        "outputId": "eb076a3c-0554-4a9a-c6a5-a9d19f5edc23"
      },
      "outputs": [
        {
          "output_type": "stream",
          "name": "stdout",
          "text": [
            "This is a good start to an essay on the relevance of \"The Little Prince\" to modern childhood. You've identified some key themes and provided examples to support your points. However, there are areas where you can expand and improve your analysis. \n",
            "\n",
            "Here are some specific recommendations:\n",
            "\n",
            "**1. Expand on the \"Modern Childhood\" Context:**\n",
            "\n",
            "* **Specificity:**  Instead of just mentioning \"modern childhood,\" delve deeper into the specific challenges and pressures children face today.  For example, you could discuss the impact of social media, the pressure to succeed academically, or the constant exposure to technology. \n",
            "* **Contrast:**  Compare the challenges of modern childhood to the childhood depicted in the book. How does the story offer a different perspective or a sense of escape from these pressures?\n",
            "\n",
            "**2. Develop Your Arguments with More Depth:**\n",
            "\n",
            "* **Examples:**  While you mention the \"conceited man\" and the \"lamplighter,\" you could provide more detailed analysis of how these characters relate to modern childhood. For instance, how does the conceited man represent the pressure to conform or the pursuit of superficial success? How does the lamplighter symbolize the importance of finding purpose and meaning in a seemingly meaningless world?\n",
            "* **Analysis:**  Go beyond simply stating the themes. Explain *how* the story addresses these themes and *why* this is relevant to modern children. For example, instead of saying \"The story reminds children of the value of creativity,\" explain how the Little Prince's encounters with different characters encourage children to think outside the box and embrace their own unique perspectives.\n",
            "\n",
            "**3. Consider the Story's Structure and Style:**\n",
            "\n",
            "* **Narrative Structure:**  The Little Prince's journey is a key element of the story. How does the narrative structure, with its focus on encounters and exploration, resonate with children's own experiences of learning and growing?\n",
            "* **Simple Language:**  You mention the story's simple language, but you could explore how this contributes to its enduring appeal. How does the simplicity of the language make the story accessible to children of different ages and backgrounds?\n",
            "\n",
            "**4.  Strengthen Your Conclusion:**\n",
            "\n",
            "* **Call to Action:**  Instead of simply restating your main points, consider ending with a call to action. What can readers take away from this essay? How can they apply the lessons of \"The Little Prince\" to their own lives?\n",
            "\n",
            "**Length and Style:**\n",
            "\n",
            "* **Length:**  Aim for a length of 500-750 words to allow for more in-depth analysis.\n",
            "* **Style:**  Maintain a clear and concise writing style. Use transitions to connect your ideas smoothly.\n",
            "\n",
            "**Overall:**\n",
            "\n",
            "This is a good start, but with some further development and analysis, you can create a compelling and insightful essay on the enduring relevance of \"The Little Prince\" to modern childhood. \n"
          ]
        }
      ],
      "source": [
        "reflection = \"\"\n",
        "for chunk in reflect.stream({\"messages\": [HumanMessage(content=request.content + \"\\n\" + essay)]}):\n",
        "    print(chunk.content, end=\"\")\n",
        "    reflection += chunk.content"
      ]
    },
    {
      "cell_type": "code",
      "source": [
        "reflection"
      ],
      "metadata": {
        "id": "0ycCnuqGF-Rc",
        "outputId": "891a3e44-02fd-4e39-9dce-9b18c3df38b3",
        "colab": {
          "base_uri": "https://localhost:8080/",
          "height": 139
        }
      },
      "id": "0ycCnuqGF-Rc",
      "execution_count": null,
      "outputs": [
        {
          "output_type": "execute_result",
          "data": {
            "text/plain": [
              "'This is a good start to an essay on the relevance of \"The Little Prince\" to modern childhood. You\\'ve identified some key themes and provided examples to support your points. However, there are areas where you can expand and improve your analysis. \\n\\nHere are some specific recommendations:\\n\\n**1. Expand on the \"Modern Childhood\" Context:**\\n\\n* **Specificity:**  Instead of just mentioning \"modern childhood,\" delve deeper into the specific challenges and pressures children face today.  For example, you could discuss the impact of social media, the pressure to succeed academically, or the constant exposure to technology. \\n* **Contrast:**  Compare the challenges of modern childhood to the childhood depicted in the book. How does the story offer a different perspective or a sense of escape from these pressures?\\n\\n**2. Develop Your Arguments with More Depth:**\\n\\n* **Examples:**  While you mention the \"conceited man\" and the \"lamplighter,\" you could provide more detailed analysis of how these characters relate to modern childhood. For instance, how does the conceited man represent the pressure to conform or the pursuit of superficial success? How does the lamplighter symbolize the importance of finding purpose and meaning in a seemingly meaningless world?\\n* **Analysis:**  Go beyond simply stating the themes. Explain *how* the story addresses these themes and *why* this is relevant to modern children. For example, instead of saying \"The story reminds children of the value of creativity,\" explain how the Little Prince\\'s encounters with different characters encourage children to think outside the box and embrace their own unique perspectives.\\n\\n**3. Consider the Story\\'s Structure and Style:**\\n\\n* **Narrative Structure:**  The Little Prince\\'s journey is a key element of the story. How does the narrative structure, with its focus on encounters and exploration, resonate with children\\'s own experiences of learning and growing?\\n* **Simple Language:**  You mention the story\\'s simple language, but you could explore how this contributes to its enduring appeal. How does the simplicity of the language make the story accessible to children of different ages and backgrounds?\\n\\n**4.  Strengthen Your Conclusion:**\\n\\n* **Call to Action:**  Instead of simply restating your main points, consider ending with a call to action. What can readers take away from this essay? How can they apply the lessons of \"The Little Prince\" to their own lives?\\n\\n**Length and Style:**\\n\\n* **Length:**  Aim for a length of 500-750 words to allow for more in-depth analysis.\\n* **Style:**  Maintain a clear and concise writing style. Use transitions to connect your ideas smoothly.\\n\\n**Overall:**\\n\\nThis is a good start, but with some further development and analysis, you can create a compelling and insightful essay on the enduring relevance of \"The Little Prince\" to modern childhood. \\n'"
            ],
            "application/vnd.google.colaboratory.intrinsic+json": {
              "type": "string"
            }
          },
          "metadata": {},
          "execution_count": 12
        }
      ]
    },
    {
      "cell_type": "markdown",
      "id": "6daf926c-1174-4e96-91b9-57c57cfce40d",
      "metadata": {
        "id": "6daf926c-1174-4e96-91b9-57c57cfce40d"
      },
      "source": [
        "### Repeat\n",
        "\n",
        "And... that's all there is too it! You can repeat in a loop for a fixed number of steps, or use an LLM (or other check) to decide when the finished product is good enough."
      ]
    },
    {
      "cell_type": "code",
      "execution_count": null,
      "id": "dfbf99a8-3aa0-4e09-936e-8452c35fa84d",
      "metadata": {
        "id": "dfbf99a8-3aa0-4e09-936e-8452c35fa84d",
        "outputId": "2be0c33f-7e74-49b8-d5a5-6f86150edc78",
        "colab": {
          "base_uri": "https://localhost:8080/"
        }
      },
      "outputs": [
        {
          "output_type": "stream",
          "name": "stdout",
          "text": [
            "## The Little Prince: A Timeless Guide for Modern Childhood\n",
            "\n",
            "Antoine de Saint-Exupéry's \"The Little Prince\" is a beloved classic that continues to resonate with readers of all ages, particularly children. While the world has changed drastically since its publication in 1943, the story's themes of innocence, wonder, and the search for meaning remain profoundly relevant to the modern child navigating a complex and often overwhelming world. \n",
            "\n",
            "Modern childhood is marked by a unique set of pressures and anxieties. Children today are bombarded with information and expectations from all sides. Social media platforms create a constant pressure to conform to unrealistic standards of beauty and success, while academic pressures and the relentless pursuit of achievement can leave children feeling overwhelmed and stressed. The constant exposure to technology, while offering opportunities for learning and connection, can also lead to isolation and a disconnect from the natural world. \n",
            "\n",
            "In contrast to this fast-paced, digitally driven world, \"The Little Prince\" offers a refreshing perspective. The story's simple narrative structure, with its focus on the Little Prince's journey across the cosmos, mirrors the child's own exploration of the world. Each encounter, from the conceited man obsessed with his appearance to the lamplighter who finds meaning in his seemingly pointless task, represents a different facet of human nature and societal values. The conceited man, for example, embodies the pressure to conform and the pursuit of superficial success, while the lamplighter symbolizes the importance of finding purpose and meaning in a world that often feels meaningless. \n",
            "\n",
            "The story's simple yet profound language allows children to engage with complex ideas like love, loss, and the importance of connection, fostering their emotional intelligence and empathy. The Little Prince's unwavering belief in the power of imagination and the importance of seeing the world with childlike wonder serves as a powerful antidote to the pressures of modern childhood. The story reminds children that true happiness lies not in material possessions or external validation, but in the simple joys of life, the beauty of nature, and the power of human connection. \n",
            "\n",
            "The narrative structure of \"The Little Prince\" further reinforces its relevance to modern childhood. The Little Prince's journey, with its focus on encounters and exploration, mirrors the child's own experiences of learning and growing. The story's simple language, devoid of complex vocabulary and intricate plotlines, makes it accessible to children of different ages and backgrounds, allowing them to engage with its themes on their own level. \n",
            "\n",
            "In conclusion, \"The Little Prince\" remains a timeless guide for modern childhood. It offers a refreshing perspective on the pressures and anxieties of growing up in a complex world, reminding children of the importance of imagination, connection, and the simple joys of life. By embracing the lessons of the Little Prince, children can navigate the challenges of modern childhood with a sense of wonder, purpose, and hope. \n"
          ]
        }
      ],
      "source": [
        "for chunk in generate.stream(\n",
        "    {\"messages\": [request, AIMessage(content=essay), HumanMessage(content=reflection)]}\n",
        "):\n",
        "    print(chunk.content, end=\"\")"
      ]
    },
    {
      "cell_type": "markdown",
      "id": "b63a9d93-a14d-4e41-a4bb-a4cd31713f44",
      "metadata": {
        "id": "b63a9d93-a14d-4e41-a4bb-a4cd31713f44"
      },
      "source": [
        "## Define graph\n",
        "\n",
        "Now that we've shown each step in isolation, we can wire it up in a graph."
      ]
    },
    {
      "cell_type": "code",
      "execution_count": null,
      "id": "9e9a9d7c-5d2e-4194-b745-4511ec20db76",
      "metadata": {
        "id": "9e9a9d7c-5d2e-4194-b745-4511ec20db76"
      },
      "outputs": [],
      "source": [
        "from typing import List, Sequence\n",
        "\n",
        "from langgraph.graph import END, MessageGraph, START\n",
        "import time\n",
        "\n",
        "async def generation_node(state: Sequence[BaseMessage]):\n",
        "    return await generate.ainvoke({\"messages\": state})\n",
        "\n",
        "\n",
        "async def reflection_node(messages: Sequence[BaseMessage]) -> List[BaseMessage]:\n",
        "    # Other messages we need to adjust\n",
        "    cls_map = {\"ai\": HumanMessage, \"human\": AIMessage}\n",
        "    time.sleep(30)\n",
        "    # First message is the original user request. We hold it the same for all nodes\n",
        "    translated =  [\n",
        "        cls_map[msg.type](content=msg.content) for msg in messages[1:]\n",
        "    ]\n",
        "    res = await reflect.ainvoke({\"messages\": translated})\n",
        "    # We treat the output of this as human feedback for the generator\n",
        "    return HumanMessage(content=res.content)\n",
        "\n",
        "\n",
        "builder = MessageGraph()\n",
        "builder.add_node(\"generate\", generation_node)\n",
        "builder.add_node(\"reflect\", reflection_node)\n",
        "builder.add_edge(START, \"generate\")\n",
        "\n",
        "\n",
        "def should_continue(state: List[BaseMessage]):\n",
        "    if len(state) > 6:\n",
        "        # End after 3 iterations\n",
        "        return END\n",
        "    return \"reflect\"\n",
        "\n",
        "\n",
        "builder.add_conditional_edges(\"generate\", should_continue)\n",
        "builder.add_edge(\"reflect\", \"generate\")\n",
        "graph = builder.compile()"
      ]
    },
    {
      "cell_type": "code",
      "source": [
        "from IPython.display import Image, display\n",
        "\n",
        "try:\n",
        "    display(Image(graph.get_graph().draw_mermaid_png()))\n",
        "except Exception:\n",
        "    # This requires some extra dependencies and is optional\n",
        "    pass"
      ],
      "metadata": {
        "id": "T69O-7ciR1q5",
        "outputId": "42981faa-0f15-40f2-9ef4-4f4fe70da71f",
        "colab": {
          "base_uri": "https://localhost:8080/",
          "height": 236
        }
      },
      "id": "T69O-7ciR1q5",
      "execution_count": null,
      "outputs": [
        {
          "output_type": "display_data",
          "data": {
            "image/jpeg": "[encoded data removed]",
            "text/plain": [
              "<IPython.core.display.Image object>"
            ]
          },
          "metadata": {}
        }
      ]
    },
    {
      "cell_type": "code",
      "execution_count": null,
      "id": "06263a07-8a15-4ec3-b692-1c6cef3b1c1f",
      "metadata": {
        "id": "06263a07-8a15-4ec3-b692-1c6cef3b1c1f",
        "outputId": "5d09a434-e0a7-46fb-e7ab-397bc3cd2ed0",
        "colab": {
          "base_uri": "https://localhost:8080/"
        }
      },
      "outputs": [
        {
          "output_type": "stream",
          "name": "stdout",
          "text": [
            "================================\u001b[1m Human Message \u001b[0m=================================\n",
            "\n",
            "generate\n",
            "## The Enduring Relevance of \"The Little Prince\": A Timeless Tale for Modern Times\n",
            "\n",
            "Antoine de Saint-Exupéry's \"The Little Prince,\" a seemingly simple children's story, transcends age and cultural boundaries, resonating with readers of all ages and backgrounds. Its enduring popularity lies in its timeless message, a poignant reflection on the human condition that remains profoundly relevant in our modern world. The story, through its whimsical narrative and profound insights, reminds us of the importance of imagination, empathy, and the search for meaning in a world often consumed by materialism and superficiality.\n",
            "\n",
            "The Little Prince's journey across the cosmos, encountering diverse characters and their unique perspectives, serves as a powerful metaphor for the human search for understanding and connection. Each planet he visits represents a different facet of human nature, highlighting both the beauty and the flaws within us. The story encourages us to look beyond the surface, to see the world through the eyes of a child, filled with wonder and curiosity. In a world increasingly dominated by technology and instant gratification, \"The Little Prince\" reminds us of the value of slowing down, appreciating the simple things, and nurturing our inner child.\n",
            "\n",
            "The Prince's encounter with the fox, who teaches him the secret of taming, is perhaps the most poignant and enduring message of the story. This act of taming, a metaphor for building meaningful relationships, requires time, effort, and a willingness to be vulnerable. In a world often characterized by fleeting connections and superficial interactions, the story emphasizes the importance of genuine connection and the responsibility that comes with it. It reminds us that true love and friendship are not simply found, but cultivated through shared experiences and mutual understanding.\n",
            "\n",
            "Furthermore, the story's exploration of the nature of love and loss resonates deeply with modern readers. The Prince's journey is marked by both joy and sorrow, as he experiences the beauty of friendship and the pain of separation. His love for his rose, a symbol of his own unique and precious connection, highlights the fragility and importance of love in our lives. In a world often focused on individual achievement and self-sufficiency, \"The Little Prince\" reminds us of the power of love and the importance of cherishing those we hold dear.\n",
            "\n",
            "In conclusion, \"The Little Prince\" remains a timeless classic, its message resonating with readers across generations. Its exploration of themes like imagination, empathy, and the search for meaning continues to hold relevance in our modern world. By reminding us of the importance of connection, love, and the simple joys of life, the story offers a powerful antidote to the complexities and anxieties of our times. It serves as a gentle reminder that true happiness lies not in material possessions or fleeting pleasures, but in the cultivation of meaningful relationships and the pursuit of a life filled with wonder and purpose. \n",
            "\n",
            "---\n",
            "================================\u001b[1m Human Message \u001b[0m=================================\n",
            "\n",
            "reflect\n",
            "This is a good start to an essay on the enduring relevance of \"The Little Prince.\" You've identified key themes and provided some insightful observations. However, there's room for improvement in terms of depth, analysis, and structure. Here are some recommendations:\n",
            "\n",
            "**Strengths:**\n",
            "\n",
            "* **Clear Thesis:** You clearly state your argument about the book's enduring relevance.\n",
            "* **Good Use of Examples:** You use specific examples from the story to support your points.\n",
            "* **Strong Conclusion:** You effectively summarize your main points and reiterate the book's enduring message.\n",
            "\n",
            "**Areas for Improvement:**\n",
            "\n",
            "* **Depth of Analysis:** While you identify key themes, you could delve deeper into their significance. For example, when discussing the fox, you could explore the concept of \"taming\" in more detail, connecting it to the idea of responsibility and commitment in relationships.\n",
            "* **Specific Examples:** You could provide more specific examples from the text to illustrate your points. For instance, instead of simply saying the Prince encounters diverse characters, you could mention specific characters like the conceited man, the lamplighter, or the businessman and analyze their significance.\n",
            "* **Structure and Organization:** The essay could benefit from a more structured approach. Consider using clear topic sentences for each paragraph and transitions to connect your ideas smoothly.\n",
            "* **Length:** The essay is a bit short. Aim for a length of 5-7 paragraphs to allow for more in-depth analysis.\n",
            "* **Style:** While the writing is clear, it could be more engaging. Consider using more vivid language and figurative language to bring the story to life.\n",
            "\n",
            "**Recommendations:**\n",
            "\n",
            "1. **Expand on the Themes:** Choose 2-3 key themes (e.g., imagination, connection, love, loss) and dedicate a paragraph to each. Analyze the themes in depth, using specific examples from the text to support your points.\n",
            "2. **Develop a Clear Structure:** Use topic sentences to introduce each paragraph and transitions to connect your ideas. Consider using a chronological approach, following the Prince's journey, or a thematic approach, focusing on specific themes.\n",
            "3. **Add More Specific Examples:** Instead of general statements, provide specific examples from the text to illustrate your points. For example, instead of saying \"The Prince encounters diverse characters,\" you could say \"The Prince encounters the conceited man, who is obsessed with his appearance, highlighting the dangers of vanity.\"\n",
            "4. **Engage the Reader:** Use vivid language and figurative language to bring the story to life. For example, instead of saying \"The Prince's journey is marked by both joy and sorrow,\" you could say \"The Prince's journey is a tapestry woven with threads of joy and sorrow, as he experiences the exhilarating beauty of friendship and the heart-wrenching pain of separation.\"\n",
            "\n",
            "**Overall:** This is a good start to an essay on \"The Little Prince.\" By following these recommendations, you can develop a more insightful and engaging analysis of the book's enduring relevance. \n",
            "\n",
            "---\n",
            "================================\u001b[1m Human Message \u001b[0m=================================\n",
            "\n",
            "generate\n",
            "## The Little Prince: A Timeless Tale for a Modern World\n",
            "\n",
            "Antoine de Saint-Exupéry's \"The Little Prince\" is a deceptively simple story that has captivated readers for generations. Its enduring popularity lies not in its whimsical narrative alone, but in its profound message, a timeless reflection on the human condition that resonates deeply with modern audiences. Through the Prince's journey across the cosmos, the story explores themes of imagination, connection, love, and loss, offering a poignant commentary on the complexities of human existence in a world often consumed by materialism and superficiality.\n",
            "\n",
            "One of the most enduring themes in \"The Little Prince\" is the importance of imagination. The Prince's journey is a testament to the power of seeing the world through a child's eyes, filled with wonder and curiosity. He encounters a series of characters, each representing a different facet of human nature, from the conceited man obsessed with his appearance to the lamplighter who diligently fulfills his duty, even though it seems pointless. These encounters highlight the dangers of vanity, the importance of purpose, and the need to look beyond the surface to find true meaning. The Prince's ability to see the beauty in the ordinary, like the simple act of watching a sunset, reminds us that true happiness lies not in material possessions but in the ability to appreciate the world around us.\n",
            "\n",
            "The story also emphasizes the importance of connection and the responsibility that comes with it. The Prince's encounter with the fox, who teaches him the secret of taming, is a powerful metaphor for building meaningful relationships. Taming, in this context, is not about control but about creating a bond through shared experiences and mutual understanding. It requires time, effort, and a willingness to be vulnerable. In a world often characterized by fleeting connections and superficial interactions, \"The Little Prince\" reminds us of the value of genuine connection and the responsibility we have to nurture those relationships. The Prince's love for his rose, a symbol of his own unique and precious connection, highlights the fragility and importance of love in our lives.\n",
            "\n",
            "Furthermore, the story explores the universal themes of love and loss, reminding us of the bittersweet nature of human experience. The Prince's journey is marked by both joy and sorrow, as he experiences the exhilarating beauty of friendship and the heart-wrenching pain of separation. His love for his rose, a symbol of his own unique and precious connection, highlights the fragility and importance of love in our lives. The Prince's eventual departure from his rose, a symbol of his own unique and precious connection, highlights the fragility and importance of love in our lives. This poignant moment reminds us that love is not always easy, but it is always worth cherishing.\n",
            "\n",
            "In conclusion, \"The Little Prince\" remains a timeless classic, its message resonating with readers across generations. Its exploration of themes like imagination, connection, love, and loss continues to hold relevance in our modern world. By reminding us of the importance of connection, love, and the simple joys of life, the story offers a powerful antidote to the complexities and anxieties of our times. It serves as a gentle reminder that true happiness lies not in material possessions or fleeting pleasures, but in the cultivation of meaningful relationships and the pursuit of a life filled with wonder and purpose. \n",
            "\n",
            "---\n",
            "================================\u001b[1m Human Message \u001b[0m=================================\n",
            "\n",
            "reflect\n",
            "This is a much stronger essay! You've made significant improvements in terms of depth, analysis, and structure. Here's a breakdown of your strengths and areas for further refinement:\n",
            "\n",
            "**Strengths:**\n",
            "\n",
            "* **Clearer Thesis:** You've refined your thesis statement, making it more specific and focused on the book's enduring relevance to modern readers.\n",
            "* **Stronger Analysis:** You delve deeper into the themes of imagination, connection, and love/loss, providing more insightful observations and connecting them to the modern world.\n",
            "* **Specific Examples:** You use specific examples from the text to support your points, making your analysis more concrete and engaging.\n",
            "* **Improved Structure:** The essay is better organized, with clear topic sentences and transitions that connect your ideas smoothly.\n",
            "* **Engaging Language:** You use more vivid language and figurative language to bring the story to life, making your writing more impactful.\n",
            "\n",
            "**Areas for Further Refinement:**\n",
            "\n",
            "* **Paragraph Structure:** While the essay is well-structured, some paragraphs could benefit from further development. For example, the paragraph on connection could be expanded to include more specific examples of how the Prince's encounters with other characters illustrate the importance of genuine connection.\n",
            "* **Conciseness:**  The essay could be made more concise by eliminating some redundancy. For example, you mention the Prince's love for his rose twice in the same paragraph.\n",
            "* **Conclusion:** While your conclusion effectively summarizes your main points, it could be strengthened by offering a more specific call to action or reflection on the book's lasting impact.\n",
            "\n",
            "**Recommendations:**\n",
            "\n",
            "1. **Expand on Specific Examples:** Choose a few key examples from the text and dedicate a sentence or two to analyzing their significance in relation to the theme you're discussing. For example, when discussing the lamplighter, you could mention how his dedication to his seemingly pointless task highlights the importance of finding purpose in life, even in a world that often prioritizes efficiency and productivity.\n",
            "2. **Refine Paragraph Structure:** Ensure each paragraph has a clear topic sentence and that all supporting sentences directly relate to that topic. Consider adding a concluding sentence to each paragraph that summarizes the main point and transitions to the next idea.\n",
            "3. **Eliminate Redundancy:** Review your essay for any repeated phrases or ideas.  Condense your writing to make it more impactful and engaging.\n",
            "4. **Strengthen the Conclusion:** Consider adding a final thought or reflection on the book's enduring message. For example, you could conclude by suggesting that \"The Little Prince\" reminds us that true happiness lies not in material possessions or fleeting pleasures, but in the cultivation of meaningful relationships and the pursuit of a life filled with wonder and purpose, a message that remains as relevant today as it was when the book was first published.\"\n",
            "\n",
            "**Overall:** This is a well-written and insightful essay on the enduring relevance of \"The Little Prince.\" By following these recommendations, you can further refine your analysis and create an even more compelling and impactful piece of writing. \n",
            "\n",
            "---\n",
            "================================\u001b[1m Human Message \u001b[0m=================================\n",
            "\n",
            "generate\n",
            "## The Little Prince: A Timeless Tale for a Modern World\n",
            "\n",
            "Antoine de Saint-Exupéry's \"The Little Prince\" is a deceptively simple story that has captivated readers for generations. Its enduring popularity lies not in its whimsical narrative alone, but in its profound message, a timeless reflection on the human condition that resonates deeply with modern audiences. Through the Prince's journey across the cosmos, the story explores themes of imagination, connection, love, and loss, offering a poignant commentary on the complexities of human existence in a world often consumed by materialism and superficiality.\n",
            "\n",
            "One of the most enduring themes in \"The Little Prince\" is the importance of imagination. The Prince's journey is a testament to the power of seeing the world through a child's eyes, filled with wonder and curiosity. He encounters a series of characters, each representing a different facet of human nature. The conceited man, obsessed with his appearance, highlights the dangers of vanity, while the lamplighter, diligently fulfilling his duty even though it seems pointless, underscores the importance of purpose. The Prince's ability to see the beauty in the ordinary, like the simple act of watching a sunset, reminds us that true happiness lies not in material possessions but in the ability to appreciate the world around us. In a world increasingly dominated by technology and instant gratification, \"The Little Prince\" serves as a powerful reminder to cultivate our inner child and embrace the simple joys of life.\n",
            "\n",
            "The story also emphasizes the importance of connection and the responsibility that comes with it. The Prince's encounter with the fox, who teaches him the secret of taming, is a powerful metaphor for building meaningful relationships. Taming, in this context, is not about control but about creating a bond through shared experiences and mutual understanding. It requires time, effort, and a willingness to be vulnerable. The Prince's journey highlights the dangers of fleeting connections and superficial interactions, reminding us that true connection requires investment and commitment. In a world often characterized by isolation and digital communication, \"The Little Prince\" reminds us of the value of genuine connection and the responsibility we have to nurture those relationships.\n",
            "\n",
            "Furthermore, the story explores the universal themes of love and loss, reminding us of the bittersweet nature of human experience. The Prince's love for his rose, a symbol of his own unique and precious connection, highlights the fragility and importance of love in our lives. His eventual departure from his rose, a poignant moment of separation, reminds us that love is not always easy, but it is always worth cherishing. In a world often focused on individual achievement and self-sufficiency, \"The Little Prince\" reminds us of the power of love and the importance of cherishing those we hold dear.\n",
            "\n",
            "In conclusion, \"The Little Prince\" remains a timeless classic, its message resonating with readers across generations. Its exploration of themes like imagination, connection, love, and loss continues to hold relevance in our modern world. By reminding us of the importance of connection, love, and the simple joys of life, the story offers a powerful antidote to the complexities and anxieties of our times. It serves as a gentle reminder that true happiness lies not in material possessions or fleeting pleasures, but in the cultivation of meaningful relationships and the pursuit of a life filled with wonder and purpose.  \"The Little Prince\" reminds us that even in a world that often feels cold and impersonal, there is still room for wonder, connection, and love. \n",
            "\n",
            "---\n"
          ]
        },
        {
          "output_type": "stream",
          "name": "stderr",
          "text": [
            "WARNING:langchain_core.language_models.llms:Retrying langchain_google_vertexai.chat_models._acompletion_with_retry.<locals>._completion_with_retry_inner in 4.0 seconds as it raised ResourceExhausted: 429 Quota exceeded for aiplatform.googleapis.com/generate_content_requests_per_minute_per_project_per_base_model with base model: gemini-1.5-flash. Please submit a quota increase request. https://cloud.google.com/vertex-ai/docs/generative-ai/quotas-genai..\n"
          ]
        },
        {
          "output_type": "stream",
          "name": "stdout",
          "text": [
            "================================\u001b[1m Human Message \u001b[0m=================================\n",
            "\n",
            "reflect\n",
            "This is a very strong essay! You've made excellent progress, and your analysis is now both insightful and engaging. Here's a breakdown of your strengths and a few minor suggestions for further refinement:\n",
            "\n",
            "**Strengths:**\n",
            "\n",
            "* **Clear and Focused Thesis:** You clearly state your argument about the book's enduring relevance to modern readers.\n",
            "* **Strong Analysis:** You delve deeply into the themes of imagination, connection, and love/loss, providing insightful observations and connecting them to the modern world.\n",
            "* **Specific Examples:** You use specific examples from the text to support your points, making your analysis more concrete and engaging.\n",
            "* **Improved Structure:** The essay is well-organized, with clear topic sentences and transitions that connect your ideas smoothly.\n",
            "* **Engaging Language:** You use vivid language and figurative language to bring the story to life, making your writing more impactful.\n",
            "* **Direct Connection to Modernity:** You effectively connect the themes of the book to contemporary issues, such as technology, isolation, and the pursuit of material possessions.\n",
            "\n",
            "**Areas for Minor Refinement:**\n",
            "\n",
            "* **Conciseness:**  The essay could be made more concise by eliminating some redundancy. For example, you mention the Prince's love for his rose twice in the same paragraph.\n",
            "* **Conclusion:** While your conclusion effectively summarizes your main points, it could be strengthened by offering a more specific call to action or reflection on the book's lasting impact.\n",
            "\n",
            "**Recommendations:**\n",
            "\n",
            "1. **Refine Paragraph Structure:** Ensure each paragraph has a clear topic sentence and that all supporting sentences directly relate to that topic. Consider adding a concluding sentence to each paragraph that summarizes the main point and transitions to the next idea.\n",
            "2. **Eliminate Redundancy:** Review your essay for any repeated phrases or ideas.  Condense your writing to make it more impactful and engaging.\n",
            "3. **Strengthen the Conclusion:** Consider adding a final thought or reflection on the book's enduring message. For example, you could conclude by suggesting that \"The Little Prince\" reminds us that even in a world that often feels cold and impersonal, there is still room for wonder, connection, and love. This message, as timeless as the stars themselves, continues to guide us towards a more meaningful and fulfilling existence.\"\n",
            "\n",
            "**Overall:** This is a well-written and insightful essay on the enduring relevance of \"The Little Prince.\" You've demonstrated a strong understanding of the book's themes and their connection to the modern world. By following these recommendations, you can further refine your analysis and create an even more compelling and impactful piece of writing. \n",
            "\n",
            "---\n",
            "================================\u001b[1m Human Message \u001b[0m=================================\n",
            "\n",
            "generate\n",
            "## The Little Prince: A Timeless Tale for a Modern World\n",
            "\n",
            "Antoine de Saint-Exupéry's \"The Little Prince\" is a deceptively simple story that has captivated readers for generations. Its enduring popularity lies not in its whimsical narrative alone, but in its profound message, a timeless reflection on the human condition that resonates deeply with modern audiences. Through the Prince's journey across the cosmos, the story explores themes of imagination, connection, love, and loss, offering a poignant commentary on the complexities of human existence in a world often consumed by materialism and superficiality.\n",
            "\n",
            "One of the most enduring themes in \"The Little Prince\" is the importance of imagination. The Prince's journey is a testament to the power of seeing the world through a child's eyes, filled with wonder and curiosity. He encounters a series of characters, each representing a different facet of human nature. The conceited man, obsessed with his appearance, highlights the dangers of vanity, while the lamplighter, diligently fulfilling his duty even though it seems pointless, underscores the importance of purpose. The Prince's ability to see the beauty in the ordinary, like the simple act of watching a sunset, reminds us that true happiness lies not in material possessions but in the ability to appreciate the world around us. In a world increasingly dominated by technology and instant gratification, \"The Little Prince\" serves as a powerful reminder to cultivate our inner child and embrace the simple joys of life.\n",
            "\n",
            "The story also emphasizes the importance of connection and the responsibility that comes with it. The Prince's encounter with the fox, who teaches him the secret of taming, is a powerful metaphor for building meaningful relationships. Taming, in this context, is not about control but about creating a bond through shared experiences and mutual understanding. It requires time, effort, and a willingness to be vulnerable. The Prince's journey highlights the dangers of fleeting connections and superficial interactions, reminding us that true connection requires investment and commitment. In a world often characterized by isolation and digital communication, \"The Little Prince\" reminds us of the value of genuine connection and the responsibility we have to nurture those relationships.\n",
            "\n",
            "Furthermore, the story explores the universal themes of love and loss, reminding us of the bittersweet nature of human experience. The Prince's love for his rose, a symbol of his own unique and precious connection, highlights the fragility and importance of love in our lives. His eventual departure from his rose, a poignant moment of separation, reminds us that love is not always easy, but it is always worth cherishing. In a world often focused on individual achievement and self-sufficiency, \"The Little Prince\" reminds us of the power of love and the importance of cherishing those we hold dear.\n",
            "\n",
            "In conclusion, \"The Little Prince\" remains a timeless classic, its message resonating with readers across generations. Its exploration of themes like imagination, connection, love, and loss continues to hold relevance in our modern world. By reminding us of the importance of connection, love, and the simple joys of life, the story offers a powerful antidote to the complexities and anxieties of our times. It serves as a gentle reminder that true happiness lies not in material possessions or fleeting pleasures, but in the cultivation of meaningful relationships and the pursuit of a life filled with wonder and purpose.  \"The Little Prince\" reminds us that even in a world that often feels cold and impersonal, there is still room for wonder, connection, and love. This message, as timeless as the stars themselves, continues to guide us towards a more meaningful and fulfilling existence. \n",
            "\n",
            "---\n"
          ]
        }
      ],
      "source": [
        "async for event in graph.astream(\n",
        "    [\n",
        "        HumanMessage(\n",
        "            content=\"Generate an essay on the topicality of The Little Prince and its message in modern life\"\n",
        "        )\n",
        "    ],\n",
        "):\n",
        "    ChatPromptTemplate.from_messages(event).pretty_print()\n",
        "    print(list(event.values())[0].content)\n",
        "    print(\"---\")"
      ]
    },
    {
      "cell_type": "code",
      "source": [
        "list(event.values())[0].content"
      ],
      "metadata": {
        "id": "WtJ2t_44LQUf",
        "outputId": "b71f611d-397d-441a-fe23-099a751cdc42",
        "colab": {
          "base_uri": "https://localhost:8080/",
          "height": 139
        }
      },
      "id": "WtJ2t_44LQUf",
      "execution_count": null,
      "outputs": [
        {
          "output_type": "execute_result",
          "data": {
            "text/plain": [
              "'## The Enduring Relevance of \"The Little Prince\": A Timeless Tale for Modern Times\\n\\nAntoine de Saint-Exupéry\\'s \"The Little Prince,\" a seemingly simple children\\'s story, transcends age and cultural boundaries, resonating with readers of all ages and backgrounds. Its enduring popularity lies in its timeless message, a poignant reflection on the human condition that remains profoundly relevant in our modern world. The story, through its whimsical narrative and profound insights, reminds us of the importance of imagination, empathy, and the search for meaning in a world often consumed by materialism and superficiality.\\n\\nThe Little Prince\\'s journey across the cosmos, encountering diverse characters and their unique perspectives, serves as a powerful metaphor for the human search for understanding and connection. His encounters with the king, the conceited man, and the businessman highlight the dangers of egotism, vanity, and the pursuit of material wealth at the expense of genuine human connection. These characters, though fictional, represent archetypes found in our own society, serving as cautionary tales against the pitfalls of a materialistic and self-absorbed existence.\\n\\nThe Prince\\'s encounters with the fox and the rose, however, offer a contrasting perspective. The fox teaches the Prince the importance of taming, a metaphor for building meaningful relationships through shared experiences and mutual understanding. The rose, though beautiful and demanding, represents the complexities of love and the importance of appreciating the unique qualities of those we cherish. These lessons, though seemingly simple, hold profound implications for navigating the complexities of human relationships in our modern world, where genuine connection can often be overshadowed by superficiality and fleeting interactions.\\n\\nFurthermore, the story\\'s emphasis on imagination and wonder serves as a powerful antidote to the often-sterile and pragmatic nature of modern life. The Prince\\'s ability to see the world through a child\\'s eyes, to find beauty in the ordinary and wonder in the unknown, reminds us of the importance of nurturing our own sense of imagination and curiosity. In a world increasingly dominated by technology and instant gratification, \"The Little Prince\" encourages us to rediscover the joy of simple pleasures, the beauty of nature, and the power of our own imagination.\\n\\nUltimately, \"The Little Prince\" remains a timeless tale because it speaks to the fundamental human need for connection, meaning, and wonder. Its message transcends generations and cultural boundaries, reminding us of the importance of cherishing our relationships, nurturing our imagination, and seeking meaning beyond the superficiality of modern life. The story\\'s enduring popularity is a testament to its profound relevance, offering a timeless message that continues to resonate with readers of all ages in our ever-changing world. \\n'"
            ],
            "application/vnd.google.colaboratory.intrinsic+json": {
              "type": "string"
            }
          },
          "metadata": {},
          "execution_count": 38
        }
      ]
    },
    {
      "cell_type": "markdown",
      "id": "0fa62df2-e8ee-40dd-ac95-9d982eae6079",
      "metadata": {
        "id": "0fa62df2-e8ee-40dd-ac95-9d982eae6079"
      },
      "source": [
        "## Conclusion\n",
        "\n",
        "Now that you've applied reflection to an LLM agent, I'll note one thing: self-reflection is inherently cyclic: it is much more effective if the reflection step has additional context or feedback (from tool observations, checks, etc.). If, like in the scenario above, the reflection step simply prompts the LLM to reflect on its output, it can still benefit the output quality (since the LLM then has multiple \"shots\" at getting a good output), but it's less guaranteed.\n"
      ]
    },
    {
      "cell_type": "code",
      "execution_count": null,
      "id": "7c0e3efd-7f54-410e-bd31-36185a46b9a8",
      "metadata": {
        "id": "7c0e3efd-7f54-410e-bd31-36185a46b9a8"
      },
      "outputs": [],
      "source": []
    }
  ],
  "metadata": {
    "kernelspec": {
      "display_name": "Python 3 (ipykernel)",
      "language": "python",
      "name": "python3"
    },
    "language_info": {
      "codemirror_mode": {
        "name": "ipython",
        "version": 3
      },
      "file_extension": ".py",
      "mimetype": "text/x-python",
      "name": "python",
      "nbconvert_exporter": "python",
      "pygments_lexer": "ipython3",
      "version": "3.11.2"
    },
    "colab": {
      "provenance": [],
      "include_colab_link": true
    }
  },
  "nbformat": 4,
  "nbformat_minor": 5
}
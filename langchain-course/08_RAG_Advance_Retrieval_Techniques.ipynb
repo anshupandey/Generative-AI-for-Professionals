{
  "cells": [
    {
      "cell_type": "markdown",
      "metadata": {
        "id": "view-in-github",
        "colab_type": "text"
      },
      "source": [
        "<a href=\"https://colab.research.google.com/github/anshupandey/Generative-AI-for-Professionals/blob/main/langchain-course/08_RAG_Advance_Retrieval_Techniques.ipynb\" target=\"_parent\"><img src=\"https://colab.research.google.com/assets/colab-badge.svg\" alt=\"Open In Colab\"/></a>"
      ]
    },
    {
      "cell_type": "markdown",
      "id": "b189cc5c",
      "metadata": {
        "id": "b189cc5c"
      },
      "source": [
        "# **RAG: Advance retrieval techniques using LangChain**\n",
        "\n",
        "- Using LangChain - multi query retrieval, few other advance techniques from LangChain\n",
        "\n",
        "- Vector DB: PineCone (sign in at https://app.pinecone.io/organizations?sessionType=login )\n",
        "\n",
        "- Embedding model: vertex ai text embedding model\n",
        "\n",
        "- LLM: Gemini-1.5-flash\n",
        "\n",
        "- Domain: Education"
      ]
    },
    {
      "cell_type": "markdown",
      "id": "e892670b",
      "metadata": {
        "id": "e892670b"
      },
      "source": [
        "Using Advanced Retrieval techniques like\n",
        "- Multi-Query retriever\n",
        "- Contextual compression\n",
        "- Long-Context Reorder"
      ]
    },
    {
      "cell_type": "markdown",
      "source": [
        "This Lab focuses on implementing Retriever-Augmented Generation (RAG) system, designed for the botany domain, leverages advanced retrieval techniques facilitated by **LangChain**, employing **PineCone** as the vector database and **Gemini-1.5-Flash** for language modeling. This configuration enhances the precision and efficiency of botanical information retrieval and generation, ideal for academic research, educational content, and professional consultation.\n",
        "\n",
        "**LangChain** serves as the orchestration framework that implements sophisticated retrieval techniques, crucial for dealing with complex botanical data. Key features include:\n",
        "\n",
        "**Multi-Query Retriever**: This technique allows the system to handle multiple queries simultaneously or queries with multiple components, enhancing the system's ability to retrieve comprehensive information from a large dataset.\n",
        "**Contextual Compression**: Here, relevant information is compressed into context-rich embeddings, preserving essential data while optimizing storage and retrieval processes.\n",
        "**Long-Context Reorder**: This technique reorganizes the retrieved data to maintain coherence and relevance over extended contexts, vital for understanding complex botanical interactions and processes.\n",
        "Weaviate is utilized as the vector database, storing and managing the vector embeddings generated using OpenAI's text-embedding-03 model. These embeddings encode detailed semantic relationships within botanical texts, enabling the system to retrieve highly relevant information rapidly and accurately.\n",
        "\n",
        "\n",
        "Overall, this RAG setup offers a powerful solution for the botany domain, enhancing the retrieval and presentation of botanical knowledge through advanced AI-driven techniques. It significantly aids in research, teaching, and practical applications by delivering accurate, contextually enriched responses swiftly, thus supporting deeper insights and learning in botany.\n",
        "\n",
        "\n",
        "\n",
        "\n",
        "\n"
      ],
      "metadata": {
        "id": "__w8zwDtkKd-"
      },
      "id": "__w8zwDtkKd-"
    },
    {
      "cell_type": "markdown",
      "id": "19d852cb",
      "metadata": {
        "id": "19d852cb"
      },
      "source": [
        "Necessary libraries for implementing this \"RAG: Advance retrieval techniques using LangChain\""
      ]
    },
    {
      "cell_type": "markdown",
      "source": [
        "## Environment Setup"
      ],
      "metadata": {
        "id": "h6ahHLm6kYr1"
      },
      "id": "h6ahHLm6kYr1"
    },
    {
      "cell_type": "code",
      "execution_count": null,
      "id": "742504c3",
      "metadata": {
        "id": "742504c3",
        "outputId": "1c9fa7ac-8f4d-4368-ddc0-f4d4e7f4d01d",
        "colab": {
          "base_uri": "https://localhost:8080/"
        }
      },
      "outputs": [
        {
          "output_type": "stream",
          "name": "stdout",
          "text": [
            "\u001b[2K     \u001b[90m━━━━━━━━━━━━━━━━━━━━━━━━━━━━━━━━━━━━━━━━\u001b[0m \u001b[32m987.6/987.6 kB\u001b[0m \u001b[31m12.4 MB/s\u001b[0m eta \u001b[36m0:00:00\u001b[0m\n",
            "\u001b[2K     \u001b[90m━━━━━━━━━━━━━━━━━━━━━━━━━━━━━━━━━━━━━━━━\u001b[0m \u001b[32m2.2/2.2 MB\u001b[0m \u001b[31m42.2 MB/s\u001b[0m eta \u001b[36m0:00:00\u001b[0m\n",
            "\u001b[2K     \u001b[90m━━━━━━━━━━━━━━━━━━━━━━━━━━━━━━━━━━━━━━━━\u001b[0m \u001b[32m295.7/295.7 kB\u001b[0m \u001b[31m26.9 MB/s\u001b[0m eta \u001b[36m0:00:00\u001b[0m\n",
            "\u001b[2K     \u001b[90m━━━━━━━━━━━━━━━━━━━━━━━━━━━━━━━━━━━━━━━━\u001b[0m \u001b[32m216.4/216.4 kB\u001b[0m \u001b[31m13.1 MB/s\u001b[0m eta \u001b[36m0:00:00\u001b[0m\n",
            "\u001b[2K     \u001b[90m━━━━━━━━━━━━━━━━━━━━━━━━━━━━━━━━━━━━━━━━\u001b[0m \u001b[32m371.7/371.7 kB\u001b[0m \u001b[31m28.3 MB/s\u001b[0m eta \u001b[36m0:00:00\u001b[0m\n",
            "\u001b[2K     \u001b[90m━━━━━━━━━━━━━━━━━━━━━━━━━━━━━━━━━━━━━━━━\u001b[0m \u001b[32m134.3/134.3 kB\u001b[0m \u001b[31m12.3 MB/s\u001b[0m eta \u001b[36m0:00:00\u001b[0m\n",
            "\u001b[2K     \u001b[90m━━━━━━━━━━━━━━━━━━━━━━━━━━━━━━━━━━━━━━━━\u001b[0m \u001b[32m215.9/215.9 kB\u001b[0m \u001b[31m19.9 MB/s\u001b[0m eta \u001b[36m0:00:00\u001b[0m\n",
            "\u001b[2K     \u001b[90m━━━━━━━━━━━━━━━━━━━━━━━━━━━━━━━━━━━━━━━━\u001b[0m \u001b[32m49.2/49.2 kB\u001b[0m \u001b[31m2.9 MB/s\u001b[0m eta \u001b[36m0:00:00\u001b[0m\n",
            "\u001b[2K     \u001b[90m━━━━━━━━━━━━━━━━━━━━━━━━━━━━━━━━━━━━━━━━\u001b[0m \u001b[32m141.1/141.1 kB\u001b[0m \u001b[31m1.2 MB/s\u001b[0m eta \u001b[36m0:00:00\u001b[0m\n",
            "\u001b[2K     \u001b[90m━━━━━━━━━━━━━━━━━━━━━━━━━━━━━━━━━━━━━━━━\u001b[0m \u001b[32m91.4/91.4 kB\u001b[0m \u001b[31m2.8 MB/s\u001b[0m eta \u001b[36m0:00:00\u001b[0m\n",
            "\u001b[2K     \u001b[90m━━━━━━━━━━━━━━━━━━━━━━━━━━━━━━━━━━━━━━━━\u001b[0m \u001b[32m202.7/202.7 kB\u001b[0m \u001b[31m12.3 MB/s\u001b[0m eta \u001b[36m0:00:00\u001b[0m\n",
            "\u001b[2K     \u001b[90m━━━━━━━━━━━━━━━━━━━━━━━━━━━━━━━━━━━━━━━━\u001b[0m \u001b[32m64.9/64.9 kB\u001b[0m \u001b[31m1.7 MB/s\u001b[0m eta \u001b[36m0:00:00\u001b[0m\n",
            "\u001b[?25h\u001b[31mERROR: pip's dependency resolver does not currently take into account all the packages that are installed. This behaviour is the source of the following dependency conflicts.\n",
            "google-colab 1.0.0 requires requests==2.31.0, but you have requests 2.32.3 which is incompatible.\u001b[0m\u001b[31m\n",
            "\u001b[2K     \u001b[90m━━━━━━━━━━━━━━━━━━━━━━━━━━━━━━━━━━━━━━━━\u001b[0m \u001b[32m73.0/73.0 kB\u001b[0m \u001b[31m1.4 MB/s\u001b[0m eta \u001b[36m0:00:00\u001b[0m\n",
            "\u001b[2K     \u001b[90m━━━━━━━━━━━━━━━━━━━━━━━━━━━━━━━━━━━━━━━━\u001b[0m \u001b[32m126.5/126.5 kB\u001b[0m \u001b[31m6.4 MB/s\u001b[0m eta \u001b[36m0:00:00\u001b[0m\n",
            "\u001b[?25h"
          ]
        }
      ],
      "source": [
        "!pip install -q langchain  langchain-community pypdf pinecone-client langchain-pinecone\n",
        "!pip install -q -U langchain-core langgraph langchain-experimental requests langchain-openai --quiet"
      ]
    },
    {
      "cell_type": "code",
      "source": [
        "import IPython\n",
        "\n",
        "app = IPython.Application.instance()\n",
        "app.kernel.do_shutdown(True)"
      ],
      "metadata": {
        "colab": {
          "base_uri": "https://localhost:8080/"
        },
        "id": "R_SsrYWdJsoh",
        "outputId": "24f81aff-71b0-4167-815f-cf2d5bb21fd4"
      },
      "execution_count": null,
      "outputs": [
        {
          "output_type": "execute_result",
          "data": {
            "text/plain": [
              "{'status': 'ok', 'restart': True}"
            ]
          },
          "metadata": {},
          "execution_count": 2
        }
      ],
      "id": "R_SsrYWdJsoh"
    },
    {
      "cell_type": "code",
      "source": [
        "import os\n",
        "os.environ[\"PINECONE_API_KEY\"] = \"15101c0c-1e64-42c3-929a-c8c2d60cd14a\"\n",
        "os.environ[\"OPENAI_API_KEY\"] = \"\""
      ],
      "metadata": {
        "id": "_5dublUl3yn8"
      },
      "id": "_5dublUl3yn8",
      "execution_count": null,
      "outputs": []
    },
    {
      "cell_type": "markdown",
      "id": "3f9f6ddf",
      "metadata": {
        "id": "3f9f6ddf"
      },
      "source": [
        "Function for showing retrieved document results in intuitive way"
      ]
    },
    {
      "cell_type": "code",
      "source": [
        "!wget -q https://anshupandey.blob.core.windows.net/generativeaidocs/BotanyDocs.zip\n",
        "!unzip -q BotanyDocs.zip"
      ],
      "metadata": {
        "id": "WJTFa6NdfXYD"
      },
      "id": "WJTFa6NdfXYD",
      "execution_count": null,
      "outputs": []
    },
    {
      "cell_type": "code",
      "execution_count": null,
      "id": "fdf6fd4a",
      "metadata": {
        "id": "fdf6fd4a"
      },
      "outputs": [],
      "source": [
        "def pretty_print_docs(docs):\n",
        "    print(\n",
        "        f\"\\n{'-' * 100}\\n\".join(\n",
        "            [f\"Document {i+1}:\\n\\n\" + d.page_content for i, d in enumerate(docs)]\n",
        "        )\n",
        "    )"
      ]
    },
    {
      "cell_type": "markdown",
      "id": "2771d028",
      "metadata": {
        "id": "2771d028"
      },
      "source": [
        "The RecursiveCharacterTextSplitter is used in Retriever-Augmented Generation (RAG) models for handling long text inputs.\n",
        "\n",
        "Here are the main points for its use:\n",
        "\n",
        "- Length Management\n",
        "- Context Preservation\n",
        "- Efficient Processing"
      ]
    },
    {
      "cell_type": "markdown",
      "source": [
        "## Data Preparation"
      ],
      "metadata": {
        "id": "tPrnaabukeO1"
      },
      "id": "tPrnaabukeO1"
    },
    {
      "cell_type": "code",
      "execution_count": null,
      "id": "979d5470",
      "metadata": {
        "id": "979d5470"
      },
      "outputs": [],
      "source": [
        "# Import the RecursiveCharacterTextSplitter class.\n",
        "from langchain.text_splitter import RecursiveCharacterTextSplitter\n",
        "\n",
        "# Initialize a RecursiveCharacterTextSplitter with specified separators and configurations.\n",
        "# The text will be split into chunks around 1000 characters long, with a 20-character overlap between chunks.\n",
        "\n",
        "character_splitter = RecursiveCharacterTextSplitter(\n",
        "    separators=[\"\\n\\n\", \"\\n\", \". \", \" \", \"\"],  # The hierarchy of separators to use for splitting.\n",
        "    chunk_size=2000,  # Target size of each chunk in characters.\n",
        "    chunk_overlap=400)\n"
      ]
    },
    {
      "cell_type": "markdown",
      "id": "bc9b2c83",
      "metadata": {
        "id": "bc9b2c83"
      },
      "source": [
        "Here we are using four pdfs related to Stock market investments and strategies. These are our external data sources on which we will implement RAG solution\n",
        "\n",
        "PyPDFLoader class from the langchain_community.document_loaders module to load and process multiple PDF documents\n",
        "\n",
        "Loop Through PDF Files: The code iterates over the list of PDF filenames using a for-loop.\n",
        "\n",
        "Loading PDF Content: For each PDF file in the list, an instance of PyPDFLoader is created with the filename as an argument.\n",
        "\n",
        "Extract and Split Text: The load_and_split method of the PyPDFLoader instance is called to load the text content from the PDF file and split it into manageable segments. The method uses a text_splitter for this purpose, which is RecursiveCharacterTextSplitter defined above cell"
      ]
    },
    {
      "cell_type": "code",
      "execution_count": null,
      "id": "0045a4e9",
      "metadata": {
        "id": "0045a4e9"
      },
      "outputs": [],
      "source": [
        "from langchain_community.document_loaders import PyPDFLoader\n",
        "pdfs=[\"intro_botany.pdf\",\"Basics_of_Plants.pdf\"]\n",
        "docs=[]\n",
        "for i in pdfs:\n",
        "    loader = PyPDFLoader(i)\n",
        "    docs.extend(loader.load_and_split(text_splitter=character_splitter))"
      ]
    },
    {
      "cell_type": "code",
      "source": [
        "len(docs)"
      ],
      "metadata": {
        "id": "ZPRe2HZf8SMX",
        "outputId": "177471d6-0154-4e4f-a7ae-5572611826b7",
        "colab": {
          "base_uri": "https://localhost:8080/"
        }
      },
      "id": "ZPRe2HZf8SMX",
      "execution_count": null,
      "outputs": [
        {
          "output_type": "execute_result",
          "data": {
            "text/plain": [
              "214"
            ]
          },
          "metadata": {},
          "execution_count": 8
        }
      ]
    },
    {
      "cell_type": "code",
      "execution_count": null,
      "id": "db0670b8",
      "metadata": {
        "colab": {
          "base_uri": "https://localhost:8080/"
        },
        "id": "db0670b8",
        "outputId": "716c0b19-ee65-41a9-95dd-0c93a28d65cc"
      },
      "outputs": [
        {
          "output_type": "execute_result",
          "data": {
            "text/plain": [
              "Document(metadata={'source': 'intro_botany.pdf', 'page': 0}, page_content='Chapter 1\\nIntroduction to the Introduction\\n1.1 Plants, Botany, and Kingdoms\\nBotany is the scientiﬁc study of plants and plant-like organisms. It helps us under-\\nstand why plants are so vitally important to the world. Plants start the majority of\\nfood and energy chains, they provide us with oxygen, food and medicine.\\nPlants can be divided into two groups: plants 1andplants 2. Plants 1contain all pho-\\ntosynthetic organisms which use light, H 2O, and CO 2to make organic compounds\\nand O 2. Plants 1are deﬁned ecologically (based on their role in nature).\\nSome plants 1can be bacteria or even animals! One example of this a green slug,\\nElysia chlorotica (see Fig. 1.1). Green slugs collect chloroplasts from algae and use\\nthem for their entire life as food producers. Therefore, green slugs are both animals\\nand plants 1.\\nPlants 2areall organisms from Vegetabilia kingdom . Normally, plants 2are green\\norganisms with a stem and leaves. We can deﬁne them also as multi-tissued, pri-\\nmarily terrestrial and photosynthetic eukaryotes . This deﬁnition is taxonomical\\n(based on evolution).\\nIt is possible for the organism to be plant 2but not plant 1(see Fig. 1.2). Those who\\nfall into that category, are fully parasitic plants (mycoparasites like Pterospora , root\\nparasites like Hydnora , stem parasites like Cuscuta , and internal parasites like Pi-\\nlostyles) which do not practice photosynthesis but have tissues, terrestrial lifestyle\\nand originated from photosynthetic ancestors.\\n19')"
            ]
          },
          "metadata": {},
          "execution_count": 9
        }
      ],
      "source": [
        "docs[0]"
      ]
    },
    {
      "cell_type": "code",
      "execution_count": null,
      "id": "94bb7749",
      "metadata": {
        "colab": {
          "base_uri": "https://localhost:8080/"
        },
        "id": "94bb7749",
        "outputId": "7eaae5f1-8d40-4da8-f86e-524ef508c0e5"
      },
      "outputs": [
        {
          "output_type": "execute_result",
          "data": {
            "text/plain": [
              "214"
            ]
          },
          "metadata": {},
          "execution_count": 10
        }
      ],
      "source": [
        "len(docs)"
      ]
    },
    {
      "cell_type": "markdown",
      "id": "a453fe9a",
      "metadata": {
        "id": "a453fe9a"
      },
      "source": [
        "We are using Openai embeddings \"text-embedding-ada-002\""
      ]
    },
    {
      "cell_type": "markdown",
      "source": [
        "## Vector Embeddings"
      ],
      "metadata": {
        "id": "desVV-eGkgyo"
      },
      "id": "desVV-eGkgyo"
    },
    {
      "cell_type": "code",
      "execution_count": null,
      "id": "aec38728",
      "metadata": {
        "id": "aec38728"
      },
      "outputs": [],
      "source": [
        "from langchain_openai import OpenAIEmbeddings\n",
        "embeddings = OpenAIEmbeddings(model=\"text-embedding-3-large\")"
      ]
    },
    {
      "cell_type": "markdown",
      "source": [
        "## Vector DB Setup and Retrieval"
      ],
      "metadata": {
        "id": "M4IHi7yHaW59"
      },
      "id": "M4IHi7yHaW59"
    },
    {
      "cell_type": "markdown",
      "metadata": {
        "id": "xy2qgcA__BGu"
      },
      "source": [
        "We are using Pinecone vectorDB for storing the Vector embeddings"
      ],
      "id": "xy2qgcA__BGu"
    },
    {
      "cell_type": "code",
      "execution_count": null,
      "metadata": {
        "id": "aSQt8T6EE7vm"
      },
      "outputs": [],
      "source": [
        "from pinecone import Pinecone, ServerlessSpec\n",
        "import time\n",
        "\n",
        "use_serverless=False\n",
        "\n",
        "# configure client\n",
        "pc = Pinecone(api_key=os.getenv(\"PINECONE_API_KEY\"))\n",
        "\n",
        "\n",
        "\n",
        "# check for and delete index if already exists\n",
        "index_name = 'langchain-rag'\n",
        "if index_name in pc.list_indexes().names():\n",
        "    pc.delete_index(index_name)\n",
        "\n",
        "# create a new index\n",
        "pc.create_index(\n",
        "    name=index_name,\n",
        "    dimension=768,\n",
        "    metric=\"cosine\",\n",
        "    spec=ServerlessSpec(\n",
        "        cloud='aws',\n",
        "        region='us-east-1'\n",
        "    )\n",
        ")\n",
        "\n",
        "# wait for index to be initialized\n",
        "while not pc.describe_index(index_name).status['ready']:\n",
        "    time.sleep(1)"
      ],
      "id": "aSQt8T6EE7vm"
    },
    {
      "cell_type": "code",
      "execution_count": null,
      "metadata": {
        "id": "NpPnN7DdXa2F",
        "outputId": "897d1264-9819-4a4d-c136-2cb013597652",
        "colab": {
          "base_uri": "https://localhost:8080/"
        }
      },
      "outputs": [
        {
          "output_type": "stream",
          "name": "stderr",
          "text": [
            "WARNING:google.cloud.aiplatform.telemetry:Gapic client context issue detected.This can occur due to parallelization.\n",
            "WARNING:google.cloud.aiplatform.telemetry:Gapic client context issue detected.This can occur due to parallelization.\n",
            "WARNING:google.cloud.aiplatform.telemetry:Gapic client context issue detected.This can occur due to parallelization.\n",
            "WARNING:google.cloud.aiplatform.telemetry:Gapic client context issue detected.This can occur due to parallelization.\n",
            "WARNING:langchain_core.language_models.llms:Retrying vertexai.language_models._language_models._TextEmbeddingModel.get_embeddings in 4.0 seconds as it raised ResourceExhausted: 429 Quota exceeded for aiplatform.googleapis.com/online_prediction_requests_per_base_model with base model: textembedding-gecko. Please submit a quota increase request. https://cloud.google.com/vertex-ai/docs/generative-ai/quotas-genai..\n",
            "WARNING:google.cloud.aiplatform.telemetry:Gapic client context issue detected.This can occur due to parallelization.\n",
            "WARNING:google.cloud.aiplatform.telemetry:Gapic client context issue detected.This can occur due to parallelization.\n"
          ]
        }
      ],
      "source": [
        "from langchain_pinecone import PineconeVectorStore\n",
        "\n",
        "index_name = \"langchain-rag\"\n",
        "\n",
        "docsearch = PineconeVectorStore.from_documents(docs, embeddings, index_name=index_name)"
      ],
      "id": "NpPnN7DdXa2F"
    },
    {
      "cell_type": "code",
      "execution_count": null,
      "metadata": {
        "id": "glxaU04Fa9My"
      },
      "outputs": [],
      "source": [
        "from langchain_core.messages import HumanMessage"
      ],
      "id": "glxaU04Fa9My"
    },
    {
      "cell_type": "code",
      "execution_count": null,
      "metadata": {
        "id": "0I6-S45ZaPgi"
      },
      "outputs": [],
      "source": [
        "from langchain_openai import ChatOpenAI\n",
        "\n",
        "chatmodel = ChatOpenAI(model=\"gpt-3.5-turbo-0125\",temperature=0.5)"
      ],
      "id": "0I6-S45ZaPgi"
    },
    {
      "cell_type": "markdown",
      "metadata": {
        "id": "4o52ExZZaPgi"
      },
      "source": [
        "This function will retrieve top n results from vectorDB which are semantically similar to the query"
      ],
      "id": "4o52ExZZaPgi"
    },
    {
      "cell_type": "code",
      "execution_count": null,
      "metadata": {
        "colab": {
          "base_uri": "https://localhost:8080/"
        },
        "id": "4WV4_NPMaPgi",
        "outputId": "a1f191f8-346b-4101-cb62-45015a3bc28f"
      },
      "outputs": [
        {
          "output_type": "stream",
          "name": "stdout",
          "text": [
            "what is you query? What is needed to understand life of plants\n",
            "Document 1:\n",
            "\n",
            "goal of the analysis is the creation of a phylogeny tree (cladogram ) which becomes\n",
            "the basis of classiﬁcation. Below is a short instruction which explains the basics of\n",
            "the cladistic analysis on the artiﬁcial example of several “families” of plants.\n",
            "1. Start with determining the “players”—all subtaxa from bigger group. In our\n",
            "case, it will be these three “families”:\n",
            "Alphaceae\n",
            "Betaceae\n",
            "Gammaceae\n",
            "2. Describe these three groups:\n",
            "Alphaceae : Flowers red, petioles short, leaves whole, spines absent\n",
            "Betaceae : Flowers red, petioles long, leaves whole, spines absent\n",
            "Gammaceae : Flowers green, petioles short, leaves dissected, spines present\n",
            "3. Determine individual characters (we will need at least 2 N+ 1 characters where\n",
            "Nis number of studied taxa):\n",
            "(1) Flower color\n",
            "(2) Petiole size\n",
            "(3) Dissection of leaves\n",
            "(4) Presence of spines\n",
            "4.Polarize the characters : every character should have at least two character\n",
            "states where “0” is ancestral, plesiomorphic state, and “1” is derived, apo-\n",
            "morphic state. To decide which state is plesiomorphic and which is apomor-\n",
            "phic, use these kinds of arguments:\n",
            "(a) Historical evidence (e.g., from fossils)\n",
            "(b) Developmental evidence\n",
            "(c) Comparative evidence\n",
            "5. If this information is absent, ﬁnd the outgroup which is the most ancestral,\n",
            "most early divergent taxon related to our groups. In our case, we will employ\n",
            "outgroup:\n",
            "Omegaceae : Flowers green, petioles short, leaves whole, spines absent.\n",
            "6. Label characters with “1” (apomorphic) or “0” (plesiomorphic):\n",
            "(1) Flower color green—0; red—1\n",
            "(2) Petiole size small—0; big—1\n",
            "(3) Dissection of leaves absent—0; present—1\n",
            "(4) Absence of spines—0; spines present—1\n",
            "178 Version June 7, 2021\n",
            "----------------------------------------------------------------------------------------------------\n",
            "Document 2:\n",
            "\n",
            "these vegetation types will be arranged from a pole to equator exactly in the order\n",
            "from the list above. However, the real picture is more complicated (Fig. 9.1.)\n",
            "tundratundra\n",
            "taiga taiga\n",
            "taigagrassland\n",
            "grasslandgrassland\n",
            "desertdesert\n",
            "deserttropical\n",
            "foresttropical\n",
            "foresttropical\n",
            "forest\n",
            "desertshrubland\n",
            "shrublandshrublanddecidous\n",
            "forest\n",
            "decidous\n",
            "forestdesertdecidous\n",
            "forest\n",
            "grasslandshrubland\n",
            "Figure 9.1. Biomes (types of vegetation) of Earth. Please note that this map is largely sim-\n",
            "pliﬁed.\n",
            "Some smaller biomes, especially different kinds of wetlands (like sphagnum bogs or\n",
            "mangroves) are signiﬁcantly dispersed, sometimes even intra-zonal (occur in differ-\n",
            "ent climatic zones).\n",
            "9.2 Geography of Vegetabilia\n",
            "While taiga forest looks similar in Alaska (North America) and Patagonia (South\n",
            "America), a closer look will immediately reﬂect that species, genera and even fami-\n",
            "lies of plants are quite different. As an example, both Alaska and Patagonia forests\n",
            "include large conifers, but while in Alaska we frequently see members of Pinaceae\n",
            "family like spruces ( Picea ) or ﬁrs ( Abies ), in Patagonia these trees are absent and “re-\n",
            "placed” with superﬁcially similar trees of Araucariaceae and Podocarpaceae conifers.\n",
            "Analogously, Arizona desert is similar to African Kalahari but while American deserts\n",
            "are rich with cacti, similarly looking African plants belong to completely different\n",
            "group, succulent spurges ( Euphorbia ). The effect of these differences on the botan-\n",
            "ically educated traveler is a bit similar to the nightmare when you ﬁrst see a famil-\n",
            "iar thing but approach it—and realize that this is something completely alien and\n",
            "strange.\n",
            "174 Version June 7, 2021\n",
            "----------------------------------------------------------------------------------------------------\n",
            "Document 3:\n",
            "\n",
            "rachilla\n",
            "glumeawnpalealemmalodiculesspikeletFigure 8.24. Gramineae: one plant, scheme of spikelet and ﬂower diagram.\n",
            "•Pooid (Pooideae) grasses usually are C 3plants, wheat ( Triticum ), rice ( Oryza ),\n",
            "barley ( Hordeum ) and rye ( Secale ) belong to this group.\n",
            "•Panicoid (Panicoideae) grasses are mostly C 4plants like corn ( Zea), sorghum\n",
            "(Sorghum ) and sugarcane ( Saccharum ).\n",
            "172 Version June 7, 2021\n",
            "----------------------------------------------------------------------------------------------------\n",
            "Document 4:\n",
            "\n",
            "•Carduoideae: mostly tubular ﬂowers\n",
            "–Centaurea —knapweed\n",
            "–Cynara —artichoke\n",
            "–Carthamus –safﬂower\n",
            "•Cichorioideae: mostly 5-toothed ligulate (pseudo-ligulate) ﬂowers + lacticifers\n",
            "with latex\n",
            "–Taraxacum —dandelion\n",
            "–Lactuca —lettuce\n",
            "•Asteroideae: tubular + 3-toothed ligulate ﬂowers\n",
            "–Helianthus —sunﬂower (BTW, “canola”, or Brassica napus from Cruciferae\n",
            "is the second main source of vegetable oil)\n",
            "–Artemisia —sagebrush\n",
            "–Tagetes —marigold and lots of other ornamentals\n",
            "8.3.3 Gramineae, or Poaceae—grass family\n",
            "Belong to liliids (Liliidae, monocots). Approximately 8,000 species distributed through-\n",
            "out the world, but most genera concentrate in tropics. Prefer dry, sunny places. Often\n",
            "form turf (tussocks)—compact structures where old grass stems, rhizomes, roots, and\n",
            "soil parts are intermixed. Grasses form grasslands—speciﬁc ecological communities\n",
            "widely represented on Earth (for example, North American prairies are grasslands).\n",
            "Stems of grasses are usually hollow and round. Leaves with sheaths.\n",
            "Flowers reduced, wind-pollinated, usually bisexual, form complicated spikelets. Each\n",
            "spikelet bears two glumes ; each ﬂower has lemma and palea scales (Fig. 8.24). Peri-\n",
            "anth is reduced to lodicules. Stamens from 6 to 1 (most often 3), with large anthers.\n",
            "Flower formula is\n",
            "↑P0–3A0–3+2–3 G(2)\n",
            "Fruit is a caryopsis ; it includes ﬂower scales. Seed contains embryo with coleoptile ,\n",
            "coleorhiza and scutellum (Fig. 7.19).\n",
            "* * *\n",
            "Most primitive grasses are bamboos (Bambusoideae subfamily). There are many\n",
            "other subfamilies. Two are especially economically important:\n",
            "171 Version June 7, 2021\n",
            "----------------------------------------------------------------------------------------------------\n",
            "Document 5:\n",
            "\n",
            "have only one character different from Alphaceae it is sensible to attach it ﬁrst,\n",
            "and then attach Gammaceae:\n",
            "Omegaceae Alphaceae Betaceae Gammaceae\n",
            "34\n",
            "12\n",
            "This tree has 4 evolutionary events (length = 4)\n",
            "11. If Gammaceae was attached ﬁrst, then resulted tree will be be one step longer:\n",
            "Omegaceae Alphaceae Betaceae Gammaceae\n",
            "1 34\n",
            "1p\n",
            "2\n",
            "There are ﬁve evolutionary events; in other words, length of tree = 5. (“p”\n",
            "areparallel characters (homoplasies); there might be also reversals (“r”), when\n",
            "apomorphic character disappears).\n",
            "There could be also tree with length = 6, or even more if tree includes character\n",
            "reversals, but all of them will be longer than the ﬁrst one.\n",
            "12. Choose the shortest, most parsimonous tree. Second tree has 5 events, ﬁrst\n",
            "tree has 4 events, others could be only longer. Consequently, we choose the ﬁrst\n",
            "tree. By the way, many computer programs do not follow the procedure above\n",
            "strictly and simply produce all possible trees, and ﬁnally choose the shortest.\n",
            "13. Use the chosen tree as a source of classiﬁcation:\n",
            "Order Alphales\n",
            "180 Version June 7, 2021\n",
            "----------------------------------------------------------------------------------------------------\n",
            "Document 6:\n",
            "\n",
            "7. Make character table containing both subtaxa and labeled characters:\n",
            "(1) (2) (3) (4)\n",
            "Alphaceae 1 0 0 0\n",
            "Betaceae 1 1 0 0\n",
            "Gammaceae 0 0 1 1\n",
            "(Outgroup, Omegaceae evidently has all zeroes.)\n",
            "8. Start the tree from outgroup (this step is not absolutely necessary but will make\n",
            "phylogeny more clear):\n",
            "Omegaceae\n",
            "9. Most ancient ingroup (Alphaceae) is a ﬁrst branch, label it with bar which\n",
            "shows acquisition of the advanced state of ﬁrst character (red ﬂower color):\n",
            "Omegaceae Alphaceae\n",
            "1\n",
            "10. Attach more and more sub-taxa. It is possible to do this randomly (like most\n",
            "of phylogeny software), or attach groups to make shortest tree. For example,\n",
            "Betaceae and Gammaceae have equal number of synapomorphies but Betaceae\n",
            "179 Version June 7, 2021\n"
          ]
        }
      ],
      "source": [
        "def get_similiar_docs(query, k=6, score=False):\n",
        "  if score:\n",
        "    similar_docs = docsearch.similarity_search_with_score(query, k=k)\n",
        "  else:\n",
        "    similar_docs = docsearch.similarity_search(query, k=k)\n",
        "  return similar_docs\n",
        "\n",
        "query=input(\"what is you query? \")\n",
        "pretty_print_docs(get_similiar_docs(query))\n",
        "# What is needed to understand life of plants"
      ],
      "id": "4WV4_NPMaPgi"
    },
    {
      "cell_type": "markdown",
      "source": [
        "## Implementing RAG Chain"
      ],
      "metadata": {
        "id": "ZJC9wBi8aefn"
      },
      "id": "ZJC9wBi8aefn"
    },
    {
      "cell_type": "markdown",
      "id": "d51e66d1",
      "metadata": {
        "id": "d51e66d1"
      },
      "source": [
        "This below is the basic chaining process of langchain for RAG, we have provided two ways for Chainings\n"
      ]
    },
    {
      "cell_type": "markdown",
      "id": "1943b443",
      "metadata": {
        "id": "1943b443"
      },
      "source": [
        "The first code snippet sets up a retrieval chain for answering questions based on context using Langchain. It involves creating a retrieval chain with a specific retriever and language model, structuring the question-answer process with a ChatPromptTemplate, and invoking the retrieval chain with a user input question."
      ]
    },
    {
      "cell_type": "code",
      "execution_count": null,
      "id": "e49cdd82",
      "metadata": {
        "id": "e49cdd82"
      },
      "outputs": [],
      "source": [
        "from langchain_core.prompts import ChatPromptTemplate\n",
        "from langchain.chains.combine_documents import create_stuff_documents_chain\n",
        "from langchain_core.runnables import RunnableLambda, RunnablePassthrough\n",
        "from langchain_core.output_parsers import StrOutputParser"
      ]
    },
    {
      "cell_type": "code",
      "execution_count": null,
      "id": "802c3e58",
      "metadata": {
        "colab": {
          "base_uri": "https://localhost:8080/",
          "height": 35
        },
        "id": "802c3e58",
        "outputId": "678f220c-c648-48b9-f9d4-63755627607c"
      },
      "outputs": [
        {
          "output_type": "execute_result",
          "data": {
            "text/plain": [
              "'All organic molecules are made of some organic skeleton. \\n'"
            ],
            "application/vnd.google.colaboratory.intrinsic+json": {
              "type": "string"
            }
          },
          "metadata": {},
          "execution_count": 18
        }
      ],
      "source": [
        "template = \"\"\"Answer the question based only on the following context:\n",
        "{context}\n",
        "\n",
        "Question: {question}\n",
        "\"\"\"\n",
        "prompt = ChatPromptTemplate.from_template(template)\n",
        "chain = (\n",
        "    {\"context\":docsearch.as_retriever(), \"question\": RunnablePassthrough()}\n",
        "    | prompt\n",
        "    | chatmodel\n",
        "    | StrOutputParser()\n",
        ")\n",
        "\n",
        "chain.invoke(\"All organic molecule is made of what?\")"
      ]
    },
    {
      "cell_type": "markdown",
      "id": "ede69fbe",
      "metadata": {
        "id": "ede69fbe"
      },
      "source": [
        "**-------------------------------------------------------------------------------------------------------------------------------------------------------------------------------------------**"
      ]
    },
    {
      "cell_type": "markdown",
      "id": "237cda58",
      "metadata": {
        "id": "237cda58"
      },
      "source": [
        "The second code snippet constructs a chain for answering questions based on a provided context. It involves defining a template for structuring the question-answer process, creating a ChatPromptTemplate from the template, initializing a language model, and setting up a chain with components like the context (retriever), a placeholder for the question, a prompt template, the language model, and an output parser."
      ]
    },
    {
      "cell_type": "code",
      "execution_count": null,
      "id": "1c721e09",
      "metadata": {
        "colab": {
          "base_uri": "https://localhost:8080/"
        },
        "id": "1c721e09",
        "outputId": "b090696c-ad55-4257-b1b4-4e00a41bff22"
      },
      "outputs": [
        {
          "name": "stdout",
          "output_type": "stream",
          "text": [
            "What is needed to understand life of plants\n"
          ]
        },
        {
          "output_type": "execute_result",
          "data": {
            "text/plain": [
              "{'input': 'What is needed to understand life of plants',\n",
              " 'context': [Document(metadata={'page': 159.0, 'source': 'intro_botany.pdf'}, page_content='goal of the analysis is the creation of a phylogeny tree (cladogram ) which becomes\\nthe basis of classiﬁcation. Below is a short instruction which explains the basics of\\nthe cladistic analysis on the artiﬁcial example of several “families” of plants.\\n1. Start with determining the “players”—all subtaxa from bigger group. In our\\ncase, it will be these three “families”:\\nAlphaceae\\nBetaceae\\nGammaceae\\n2. Describe these three groups:\\nAlphaceae : Flowers red, petioles short, leaves whole, spines absent\\nBetaceae : Flowers red, petioles long, leaves whole, spines absent\\nGammaceae : Flowers green, petioles short, leaves dissected, spines present\\n3. Determine individual characters (we will need at least 2 N+ 1 characters where\\nNis number of studied taxa):\\n(1) Flower color\\n(2) Petiole size\\n(3) Dissection of leaves\\n(4) Presence of spines\\n4.Polarize the characters : every character should have at least two character\\nstates where “0” is ancestral, plesiomorphic state, and “1” is derived, apo-\\nmorphic state. To decide which state is plesiomorphic and which is apomor-\\nphic, use these kinds of arguments:\\n(a) Historical evidence (e.g., from fossils)\\n(b) Developmental evidence\\n(c) Comparative evidence\\n5. If this information is absent, ﬁnd the outgroup which is the most ancestral,\\nmost early divergent taxon related to our groups. In our case, we will employ\\noutgroup:\\nOmegaceae : Flowers green, petioles short, leaves whole, spines absent.\\n6. Label characters with “1” (apomorphic) or “0” (plesiomorphic):\\n(1) Flower color green—0; red—1\\n(2) Petiole size small—0; big—1\\n(3) Dissection of leaves absent—0; present—1\\n(4) Absence of spines—0; spines present—1\\n178 Version June 7, 2021'),\n",
              "  Document(metadata={'page': 155.0, 'source': 'intro_botany.pdf'}, page_content='these vegetation types will be arranged from a pole to equator exactly in the order\\nfrom the list above. However, the real picture is more complicated (Fig. 9.1.)\\ntundratundra\\ntaiga taiga\\ntaigagrassland\\ngrasslandgrassland\\ndesertdesert\\ndeserttropical\\nforesttropical\\nforesttropical\\nforest\\ndesertshrubland\\nshrublandshrublanddecidous\\nforest\\ndecidous\\nforestdesertdecidous\\nforest\\ngrasslandshrubland\\nFigure 9.1. Biomes (types of vegetation) of Earth. Please note that this map is largely sim-\\npliﬁed.\\nSome smaller biomes, especially different kinds of wetlands (like sphagnum bogs or\\nmangroves) are signiﬁcantly dispersed, sometimes even intra-zonal (occur in differ-\\nent climatic zones).\\n9.2 Geography of Vegetabilia\\nWhile taiga forest looks similar in Alaska (North America) and Patagonia (South\\nAmerica), a closer look will immediately reﬂect that species, genera and even fami-\\nlies of plants are quite different. As an example, both Alaska and Patagonia forests\\ninclude large conifers, but while in Alaska we frequently see members of Pinaceae\\nfamily like spruces ( Picea ) or ﬁrs ( Abies ), in Patagonia these trees are absent and “re-\\nplaced” with superﬁcially similar trees of Araucariaceae and Podocarpaceae conifers.\\nAnalogously, Arizona desert is similar to African Kalahari but while American deserts\\nare rich with cacti, similarly looking African plants belong to completely different\\ngroup, succulent spurges ( Euphorbia ). The effect of these differences on the botan-\\nically educated traveler is a bit similar to the nightmare when you ﬁrst see a famil-\\niar thing but approach it—and realize that this is something completely alien and\\nstrange.\\n174 Version June 7, 2021'),\n",
              "  Document(metadata={'page': 153.0, 'source': 'intro_botany.pdf'}, page_content='rachilla\\nglumeawnpalealemmalodiculesspikeletFigure 8.24. Gramineae: one plant, scheme of spikelet and ﬂower diagram.\\n•Pooid (Pooideae) grasses usually are C 3plants, wheat ( Triticum ), rice ( Oryza ),\\nbarley ( Hordeum ) and rye ( Secale ) belong to this group.\\n•Panicoid (Panicoideae) grasses are mostly C 4plants like corn ( Zea), sorghum\\n(Sorghum ) and sugarcane ( Saccharum ).\\n172 Version June 7, 2021'),\n",
              "  Document(metadata={'page': 152.0, 'source': 'intro_botany.pdf'}, page_content='•Carduoideae: mostly tubular ﬂowers\\n–Centaurea —knapweed\\n–Cynara —artichoke\\n–Carthamus –safﬂower\\n•Cichorioideae: mostly 5-toothed ligulate (pseudo-ligulate) ﬂowers + lacticifers\\nwith latex\\n–Taraxacum —dandelion\\n–Lactuca —lettuce\\n•Asteroideae: tubular + 3-toothed ligulate ﬂowers\\n–Helianthus —sunﬂower (BTW, “canola”, or Brassica napus from Cruciferae\\nis the second main source of vegetable oil)\\n–Artemisia —sagebrush\\n–Tagetes —marigold and lots of other ornamentals\\n8.3.3 Gramineae, or Poaceae—grass family\\nBelong to liliids (Liliidae, monocots). Approximately 8,000 species distributed through-\\nout the world, but most genera concentrate in tropics. Prefer dry, sunny places. Often\\nform turf (tussocks)—compact structures where old grass stems, rhizomes, roots, and\\nsoil parts are intermixed. Grasses form grasslands—speciﬁc ecological communities\\nwidely represented on Earth (for example, North American prairies are grasslands).\\nStems of grasses are usually hollow and round. Leaves with sheaths.\\nFlowers reduced, wind-pollinated, usually bisexual, form complicated spikelets. Each\\nspikelet bears two glumes ; each ﬂower has lemma and palea scales (Fig. 8.24). Peri-\\nanth is reduced to lodicules. Stamens from 6 to 1 (most often 3), with large anthers.\\nFlower formula is\\n↑P0–3A0–3+2–3 G(2)\\nFruit is a caryopsis ; it includes ﬂower scales. Seed contains embryo with coleoptile ,\\ncoleorhiza and scutellum (Fig. 7.19).\\n* * *\\nMost primitive grasses are bamboos (Bambusoideae subfamily). There are many\\nother subfamilies. Two are especially economically important:\\n171 Version June 7, 2021')],\n",
              " 'answer': \"The provided text focuses on the creation of a phylogeny tree (cladogram) for classifying plants. It doesn't directly address what is needed to understand the life of plants in general. \\n\"}"
            ]
          },
          "metadata": {},
          "execution_count": 19
        }
      ],
      "source": [
        "from langchain.chains import create_retrieval_chain\n",
        "from langchain.chains.combine_documents import create_stuff_documents_chain\n",
        "from langchain_core.prompts import ChatPromptTemplate\n",
        "\n",
        "\n",
        "# Create a retrieval chain\n",
        "retriever =docsearch.as_retriever()  # Define the retriever based on your specific requirements\n",
        "\n",
        "\n",
        "prompt = ChatPromptTemplate.from_template(\n",
        "    \"\"\"Answer the following question based only on the provided context:\n",
        "    <context>\n",
        "    {context}\n",
        "    </context>\n",
        "    Question: {input}\"\"\"\n",
        ")\n",
        "\n",
        "document_chain = create_stuff_documents_chain(chatmodel, prompt)\n",
        "retrieval_chain = create_retrieval_chain(retriever, document_chain)\n",
        "\n",
        "# Invoke the retrieval chain with the question\n",
        "ans=retrieval_chain.invoke({\"input\": input()}) # What is needed to understand life of plants\n",
        "ans"
      ]
    },
    {
      "cell_type": "code",
      "execution_count": null,
      "id": "a1eeba93",
      "metadata": {
        "colab": {
          "base_uri": "https://localhost:8080/",
          "height": 53
        },
        "id": "a1eeba93",
        "outputId": "c13f3d6f-bd03-406a-f82d-03b82f16f67a"
      },
      "outputs": [
        {
          "output_type": "execute_result",
          "data": {
            "text/plain": [
              "\"The provided text focuses on the creation of a phylogeny tree (cladogram) for classifying plants. It doesn't directly address what is needed to understand the life of plants in general. \\n\""
            ],
            "application/vnd.google.colaboratory.intrinsic+json": {
              "type": "string"
            }
          },
          "metadata": {},
          "execution_count": 20
        }
      ],
      "source": [
        "ans['answer']"
      ]
    },
    {
      "cell_type": "markdown",
      "id": "41d204f7",
      "metadata": {
        "id": "41d204f7"
      },
      "source": [
        "**------------------------------------------------------------------------------------------------------------------------------------------------------------------------------------------------------------**"
      ]
    },
    {
      "cell_type": "markdown",
      "id": "ca72056d",
      "metadata": {
        "id": "ca72056d"
      },
      "source": [
        "These functions are created for showing the final cleaned results from advanced retrieval techniques"
      ]
    },
    {
      "cell_type": "code",
      "execution_count": null,
      "id": "a9925c1f",
      "metadata": {
        "id": "a9925c1f"
      },
      "outputs": [],
      "source": [
        "from langchain.chains.combine_documents import create_stuff_documents_chain\n",
        "\n",
        "import re\n",
        "def clean_and_format_answer(text):\n",
        "\n",
        "  cleaned_text = text.strip()\n",
        "\n",
        "  # Split into paragraphs and remove extra newlines\n",
        "  paragraphs = re.split(r\"\\n\\n|\\n\", text.strip())\n",
        "  formatted_paragraphs = [paragraph.strip() for paragraph in paragraphs]\n",
        "\n",
        "  # Join paragraphs back with a single newline\n",
        "  answer = \"\".join(formatted_paragraphs)\n",
        "\n",
        "  return answer\n",
        "\n",
        "\n",
        "def answerRetriever(llm,docs,question):\n",
        "    prompt = ChatPromptTemplate.from_template(\n",
        "        \"\"\"Answer the following question based only on the provided context:\n",
        "        <context>\n",
        "        {context}\n",
        "        </context>\n",
        "        Question: {input}\"\"\"\n",
        "    )\n",
        "\n",
        "    document_chain = prompt|llm\n",
        "\n",
        "    ans=document_chain.invoke({\n",
        "        \"context\": unique_docs,\n",
        "        \"input\":question\n",
        "    })\n",
        "    return ans"
      ]
    },
    {
      "cell_type": "markdown",
      "id": "8ed49624",
      "metadata": {
        "id": "8ed49624"
      },
      "source": [
        "Now we are going to leverage some advanced retrieval techniques"
      ]
    },
    {
      "cell_type": "markdown",
      "id": "0973a701",
      "metadata": {
        "id": "0973a701"
      },
      "source": [
        "# Multi-Query Retriever"
      ]
    },
    {
      "cell_type": "markdown",
      "id": "2a348ae5",
      "metadata": {
        "id": "2a348ae5"
      },
      "source": [
        "The Multi-Query Retriever automates prompt tuning by using a language model to generate multiple queries from different perspectives for a given user input query. It retrieves relevant documents for each query and combines the unique results across all queries. By generating diverse perspectives on the same question, it aims to overcome limitations of distance-based retrieval and provide a richer set of results. The retriever simplifies the process of generating varied queries and retrieving a broader range of potentially relevant documents based on user input"
      ]
    },
    {
      "cell_type": "code",
      "execution_count": null,
      "id": "97ddea0a",
      "metadata": {
        "id": "97ddea0a"
      },
      "outputs": [],
      "source": [
        "# Set logging for the queries\n",
        "import logging\n",
        "\n",
        "logging.basicConfig()\n",
        "logging.getLogger(\"langchain.retrievers.multi_query\").setLevel(logging.INFO)"
      ]
    },
    {
      "cell_type": "code",
      "source": [
        "from typing import List\n",
        "from langchain.output_parsers import PydanticOutputParser\n",
        "from langchain_core.prompts import PromptTemplate\n",
        "from pydantic import BaseModel, Field\n",
        "\n",
        "\n",
        "# Output parser will split the LLM result into a list of queries\n",
        "class LineList(BaseModel):\n",
        "    # \"lines\" is the key (attribute name) of the parsed output\n",
        "    lines: List[str] = Field(description=\"Lines of text\")\n",
        "\n",
        "\n",
        "class LineListOutputParser(PydanticOutputParser):\n",
        "    def __init__(self) -> None:\n",
        "        super().__init__(pydantic_object=LineList)\n",
        "\n",
        "    def parse(self, text: str) -> LineList:\n",
        "        lines = text.content.strip()#.split(\"\\n\")\n",
        "        return lines #LineList(lines=lines)\n",
        "\n",
        "\n",
        "output_parser = LineListOutputParser()\n",
        "\n",
        "QUERY_PROMPT = PromptTemplate(\n",
        "    input_variables=[\"question\"],\n",
        "    template=\"\"\"You are an AI language model assistant. Your task is to generate five\n",
        "    different versions of the given user question to retrieve relevant documents from a vector\n",
        "    database. By generating multiple perspectives on the user question, your goal is to help\n",
        "    the user overcome some of the limitations of the distance-based similarity search.\n",
        "    Provide these alternative questions separated by newlines.\n",
        "    Original question: {question}\"\"\",\n",
        ")\n",
        "\n",
        "from langchain_openai import ChatOpenAI\n",
        "\n",
        "chatmodel = ChatOpenAI(model=\"gpt-3.5-turbo-0125\",temperature=0.5)\n",
        "\n",
        "# Chain\n",
        "multi_query_chain = QUERY_PROMPT | chatmodel | output_parser.parse\n",
        "# Other inputs\n",
        "question = \"Explain the whole process of photosynthesis\""
      ],
      "metadata": {
        "id": "0uielVowXw9Y"
      },
      "id": "0uielVowXw9Y",
      "execution_count": null,
      "outputs": []
    },
    {
      "cell_type": "code",
      "source": [
        "result = multi_query_chain.invoke({\"question\": question})\n",
        "print(result)"
      ],
      "metadata": {
        "id": "VLFqxCqvZa-o",
        "outputId": "36fe21ab-ab34-489d-a929-f517e42b76f9",
        "colab": {
          "base_uri": "https://localhost:8080/"
        }
      },
      "id": "VLFqxCqvZa-o",
      "execution_count": null,
      "outputs": [
        {
          "output_type": "stream",
          "name": "stdout",
          "text": [
            "Here are five different versions of the user question \"Explain the whole process of photosynthesis\" to retrieve relevant documents from a vector database:\n",
            "\n",
            "1. **Focus on stages:** What are the distinct stages involved in photosynthesis, and how do they work together?\n",
            "2. **Highlight inputs and outputs:** What are the key inputs and outputs of photosynthesis, and how are they transformed during the process?\n",
            "3. **Emphasize light dependence:** How does light energy play a role in photosynthesis, and what are the specific reactions that depend on it?\n",
            "4. **Focus on the role of chlorophyll:** What is the function of chlorophyll in photosynthesis\n"
          ]
        }
      ]
    },
    {
      "cell_type": "code",
      "source": [
        "# Run\n",
        "retriever = multi_query_chain | docsearch.as_retriever()\n",
        "# Results\n",
        "unique_docs = retriever.invoke(input=question)\n",
        "len(unique_docs)"
      ],
      "metadata": {
        "id": "BcCQraKXYKLC",
        "outputId": "c4d5c6c6-90b5-4f75-e497-060cf722cc24",
        "colab": {
          "base_uri": "https://localhost:8080/"
        }
      },
      "id": "BcCQraKXYKLC",
      "execution_count": null,
      "outputs": [
        {
          "output_type": "execute_result",
          "data": {
            "text/plain": [
              "4"
            ]
          },
          "metadata": {},
          "execution_count": 27
        }
      ]
    },
    {
      "cell_type": "code",
      "execution_count": null,
      "id": "ac2559f6",
      "metadata": {
        "colab": {
          "base_uri": "https://localhost:8080/"
        },
        "id": "ac2559f6",
        "outputId": "e731dd36-4ba0-4c0f-efce-594e90b9f1ca"
      },
      "outputs": [
        {
          "output_type": "stream",
          "name": "stdout",
          "text": [
            "Document 1:\n",
            "\n",
            "Sun rays\n",
            "Photosystems↓↓\n",
            "Segregation of ions↓↓\n",
            "Difference of potentials↓↓\n",
            "Proton pump↓↓\n",
            "ATP↓↓\n",
            "CO 2assimilation↓↓\n",
            "Figure 2.4. The logical chain of light stage reactions (hydrogen carrier not shown).\n",
            "2.3 Enzymatic Stage\n",
            "The enzymatic stage has many participants. These include carbon dioxide, hydro-\n",
            "gen carrier with hydrogen (NADPH), ATP , ribulose biphosphate (RuBP , or C 5), and\n",
            "Rubisco along with some other enzymes. Everything occurs in the matrix (stroma)\n",
            "of the chloroplast.\n",
            "The main event of the enzymatic stage is CO 2assimilation with C 5into short-living\n",
            "C6molecules. Assimilation requires Rubisco as an enzyme. Next, this temporary C 6\n",
            "breaks into two C 3molecules (PGA). Then, PGA will participate in the complex set of\n",
            "reactions which spend NADPH and ATP as sources of hydrogen and energy, respec-\n",
            "tively; and yields (through the intermediate stage of PGAL) one molecule of glucose\n",
            "(C6H12O6) for every six assimilated molecules of CO 2. NADP+, ADP and P iwill go\n",
            "back to the light stage. This set of chemical reactions returns RuBP which will start\n",
            "the new cycle of assimilation. Consequently, all reactions described in this para-\n",
            "graph are part of the cycle which has the name “Calvin cycle” or “C 3cycle” (because\n",
            "the C 3PGA molecules here are most important).\n",
            "In all, enzymatic stage starts with CO 2, NADPH, ATP and C 5(RuBP). It ends with\n",
            "glucose (C 6H12O6), NADP+, ADP , P iand the same C 5. With an addition of nitrogen\n",
            "and phosphorous, glucose will give all other organic molecules (Fig. 2.7).\n",
            "32 Version June 7, 2021\n",
            "----------------------------------------------------------------------------------------------------\n",
            "Document 2:\n",
            "\n",
            "starch\n",
            "DNAgranum thylakoid\n",
            "matrix (stroma)Figure 2.5. Chloroplast.\n",
            "* * *\n",
            "To summarize, the logic of photosynthesis (Fig. 2.8) is based on a simple idea: make\n",
            "sugar from carbon dioxide . Imagine if we have letters “s”, “g”, “u”, and “a” and need\n",
            "to build the word “sugar”. Obviously, we will need two things: the letter “r” and the\n",
            "energy to put these letters in the right order. The same story occurs in photosynthe-\n",
            "sis: it will need hydrogen (H) which is the “absent letter” from CO 2because sugars\n",
            "must contain H, O and C. NADP+/NADPH is used as hydrogen supplier, and energy\n",
            "is ATP which is created via proton pump, and the proton pump starts because light\n",
            "helps to concentrate protons in the reservoir.\n",
            "33 Version June 7, 2021\n",
            "----------------------------------------------------------------------------------------------------\n",
            "Document 3:\n",
            "\n",
            "result, some groups of plants could be accepted in a broad sense, including as many\n",
            "subgroups as possible. For example, there might be an opinion of Homo sapiens s.l.\n",
            "(sensu lato = wide sense) including not only contemporary humans but also Nean-\n",
            "derthal men. As a contrast, other opinions may accept groups in a strict sense, and\n",
            "Homo sapiens s.str. ( sensu stricto = strict sense) includes only contemporary humans.\n",
            "1.2 Styles of Life and Basic Chemistry\n",
            "Life obtains energy in a few different ways: (1) from sunlight ( phototrophy ); (2)\n",
            "from chemical reactions with inorganic matter ( lithotrophy ); (3) from breaking or-\n",
            "ganic molecules into inorganic molecules, typically carbon dioxide and water ( orga-\n",
            "notrophy ). To make its body, living beings obtain building blocks either by (a)\n",
            "from the assimilation of carbon dioxide ( autotrophy ), or from other living beings\n",
            "(heterotrophy ).\n",
            "These ways combine in six lifestyles. For example, plants 1are by deﬁnition pho-\n",
            "toautotrophs . Most plants 2are also photoautotrophs, but there are exceptions: full\n",
            "parasites (see above). Carnivorous plants (like sundew, Drosera or the Venus ﬂy-\n",
            "catcher, Dionaea ) are all photoautotrophs. They “eat” animals in order to obtain\n",
            "nitrogen and phosphorus, so the dead bodies serve not as food but as a fertilizer.\n",
            "Note that plants are also organoheterotrophs like animals because in addition to\n",
            "photosynthesis, all plant cells can respire.\n",
            "* * *\n",
            "To understand life of plants, a basic knowledge of chemistry is needed. This in-\n",
            "cludes knowledge of atoms (and its components like protons, neutrons and elec-\n",
            "trons), atomic weight, isotopes, elements, the periodic table, chemical bonds (ionic,\n",
            "covalent, and hydrogen), valence, molecules, and molecular weight. For example, it\n",
            "is essential to know that protons have a charge of +1, neutrons have no charge, and\n",
            "electrons have a charge of –1. The atomic weight is equal to the weight of protons\n",
            "----------------------------------------------------------------------------------------------------\n",
            "Document 4:\n",
            "\n",
            "☠ ☠ ☺☺ ☺Figure A.2. Crown (green skull) and stem (red skull) extinct groups among extant groups.\n",
            "A.2 Phenetics\n",
            "The other way of making classiﬁcation is even more mathematical. This is phenet-\n",
            "icsbased on multivariate methods of data analysis. One of its methods is cluster\n",
            "analysis which is described below.\n",
            "1. Contrary to cladistics, phenetics considers characters as all equal anddoes\n",
            "not employ any evolutionary assumptions .\n",
            "2. We need to decide which taxa we will need, assess their descriptions, extract\n",
            "characters—all these is similar to cladistics (see above).\n",
            "3. Character polarization is not needed, character codes may be speciﬁed more\n",
            "or less arbitrarily, and there is no need for outgroup.\n",
            "4. Character table could be the same as in previous example (again, see above).\n",
            "5. Then, we will need to create the square matrix (or table) of similarity:\n",
            "Alphaceae Betaceae Gammaceae\n",
            "Alphaceae 1\n",
            "Betaceae 0.75 1\n",
            "Gammaceae 0.25 0 1\n",
            "Every cell of this matrix contains a value of similarity K:\n",
            "K=number of matching characters\n",
            "number of all characters\n",
            "Please note that there are many more relevant coefﬁcients of similarity but\n",
            "they are out of our scope.\n",
            "183 Version June 7, 2021\n"
          ]
        }
      ],
      "source": [
        "pretty_print_docs(unique_docs)"
      ]
    },
    {
      "cell_type": "code",
      "execution_count": null,
      "id": "9dd8ff6f",
      "metadata": {
        "colab": {
          "base_uri": "https://localhost:8080/",
          "height": 122
        },
        "id": "9dd8ff6f",
        "outputId": "59e18e04-5b3d-4507-9978-90e304479bbe"
      },
      "outputs": [
        {
          "output_type": "execute_result",
          "data": {
            "text/plain": [
              "'The provided text describes the process of photosynthesis in two stages: the light stage and the enzymatic stage.**Light Stage:**1. **Sun rays:** Light energy from the sun is absorbed by photosystems.2. **Photosystems:** This energy is used to separate ions, creating a difference in potential.3. **Proton pump:** This potential difference drives a proton pump, which generates ATP (energy).4. **ATP:** ATP is used to power the assimilation of CO2 in the enzymatic stage.**Enzymatic Stage:**1. **CO2 assimilation:** Carbon dioxide is combined with Ru'"
            ],
            "application/vnd.google.colaboratory.intrinsic+json": {
              "type": "string"
            }
          },
          "metadata": {},
          "execution_count": 33
        }
      ],
      "source": [
        "ans = answerRetriever(llm,unique_docs,question)\n",
        "clean_and_format_answer(ans.content)"
      ]
    },
    {
      "cell_type": "markdown",
      "id": "d204bf4e",
      "metadata": {
        "id": "d204bf4e"
      },
      "source": [
        "# Contextual compression"
      ]
    },
    {
      "cell_type": "markdown",
      "id": "5d079c83",
      "metadata": {
        "id": "5d079c83"
      },
      "source": [
        "Contextual compression in Langchain involves compressing retrieved documents using the context of a given query to filter out irrelevant information. It aims to return only the most relevant information by shortening document contents or removing documents altogether. This process helps optimize expensive language model calls and improve response quality by focusing on the essential content related to the query. Contextual compression involves passing queries to a base retriever, then compressing the retrieved documents using a Document Compressor to enhance the relevance of the information returned to the user"
      ]
    },
    {
      "cell_type": "code",
      "execution_count": null,
      "id": "1495e11e",
      "metadata": {
        "id": "1495e11e",
        "outputId": "2ab37494-e31d-4037-921b-bec8571e8ea0",
        "colab": {
          "base_uri": "https://localhost:8080/"
        }
      },
      "outputs": [
        {
          "output_type": "stream",
          "name": "stdout",
          "text": [
            "Explain the whole process of photosynthesis\n"
          ]
        }
      ],
      "source": [
        "from langchain.retrievers import ContextualCompressionRetriever\n",
        "from langchain.retrievers.document_compressors import LLMChainExtractor\n",
        "\n",
        "from langchain_openai import ChatOpenAI\n",
        "chatmodel = ChatOpenAI(model=\"gpt-3.5-turbo-0125\",temperature=0.5)\n",
        "\n",
        "\n",
        "compressor = LLMChainExtractor.from_llm(llm)\n",
        "retriever = docsearch.as_retriever()\n",
        "compression_retriever = ContextualCompressionRetriever(\n",
        "    base_compressor=compressor, base_retriever=retriever\n",
        ")\n",
        "\n",
        "print(question)"
      ]
    },
    {
      "cell_type": "code",
      "source": [
        "compressed_docs = compression_retriever.invoke(question)\n",
        "pretty_print_docs(compressed_docs)"
      ],
      "metadata": {
        "id": "xQCsZeEOpl5O",
        "outputId": "6d24935a-4284-4f92-c31e-c0b313631570",
        "colab": {
          "base_uri": "https://localhost:8080/"
        }
      },
      "id": "xQCsZeEOpl5O",
      "execution_count": null,
      "outputs": [
        {
          "output_type": "stream",
          "name": "stderr",
          "text": [
            "WARNING:langchain_core.language_models.llms:Retrying langchain_google_vertexai.chat_models._completion_with_retry.<locals>._completion_with_retry_inner in 4.0 seconds as it raised ResourceExhausted: 429 Quota exceeded for aiplatform.googleapis.com/online_prediction_requests_per_base_model with base model: chat-bison. Please submit a quota increase request. https://cloud.google.com/vertex-ai/docs/generative-ai/quotas-genai..\n",
            "WARNING:langchain_core.language_models.llms:Retrying langchain_google_vertexai.chat_models._completion_with_retry.<locals>._completion_with_retry_inner in 4.0 seconds as it raised ResourceExhausted: 429 Quota exceeded for aiplatform.googleapis.com/online_prediction_requests_per_base_model with base model: chat-bison. Please submit a quota increase request. https://cloud.google.com/vertex-ai/docs/generative-ai/quotas-genai..\n"
          ]
        },
        {
          "output_type": "stream",
          "name": "stdout",
          "text": [
            "\n"
          ]
        }
      ]
    },
    {
      "cell_type": "code",
      "execution_count": null,
      "id": "92b2cfce",
      "metadata": {
        "colab": {
          "base_uri": "https://localhost:8080/"
        },
        "id": "92b2cfce",
        "outputId": "bce80731-65d1-404c-9324-0a1c302aa9fb"
      },
      "outputs": [
        {
          "output_type": "execute_result",
          "data": {
            "text/plain": [
              "AIMessage(content=' Photosynthesis is the process by which plants and other organisms use the energy from the sun to convert carbon dioxide and water into glucose and oxygen. The process can be divided into two stages: the light stage and the enzymatic stage.\\n\\n**The light stage** occurs in the thylakoid membranes of chloroplasts. In this stage, light energy is used to split water molecules into hydrogen and oxygen. The hydrogen atoms are then used to reduce NADP+ to NADPH, while the oxygen atoms are released as a waste product.\\n\\n**The enzymatic stage** occurs in the stroma of chloroplasts. In this stage, the hydrogen atoms from', response_metadata={'is_blocked': False, 'errors': (), 'safety_attributes': [{'Derogatory': 0.1, 'Health': 0.2, 'Insult': 0.1, 'Sexual': 0.3}], 'grounding_metadata': {'citations': [], 'search_queries': []}, 'usage_metadata': {'candidates_billable_characters': 511.0, 'candidates_token_count': 128.0, 'prompt_billable_characters': 5097.0, 'prompt_token_count': 1556.0}}, id='run-c5eb97e6-2b8e-4518-a322-bdf6e7b45a91-0', usage_metadata={'input_tokens': 1556, 'output_tokens': 128, 'total_tokens': 1684})"
            ]
          },
          "metadata": {},
          "execution_count": 48
        }
      ],
      "source": [
        "answerRetriever(llm,compressed_docs,question)"
      ]
    },
    {
      "cell_type": "markdown",
      "id": "679906eb",
      "metadata": {
        "id": "679906eb"
      },
      "source": [
        "\n",
        "# Long-Context Reorder"
      ]
    },
    {
      "cell_type": "markdown",
      "id": "b755e530",
      "metadata": {
        "id": "b755e530"
      },
      "source": [
        "Long-Context Reorder in Langchain is a technique used to address performance degradation when models access relevant information in the middle of long contexts. By reordering documents after retrieval, this method ensures that more relevant elements are placed at the beginning and end of the document list, while less relevant ones are in the middle. This reordering helps models avoid ignoring provided documents and enhances performance when dealing with long contexts and multiple retrieved documents. Long-Context Reorder is a valuable tool to optimize information retrieval and processing in complex language models"
      ]
    },
    {
      "cell_type": "code",
      "execution_count": null,
      "id": "d7316dea",
      "metadata": {
        "id": "d7316dea"
      },
      "outputs": [],
      "source": [
        "from langchain_community.document_transformers import (\n",
        "    LongContextReorder,\n",
        ")"
      ]
    },
    {
      "cell_type": "code",
      "execution_count": null,
      "id": "7cf32841",
      "metadata": {
        "colab": {
          "base_uri": "https://localhost:8080/"
        },
        "id": "7cf32841",
        "outputId": "f3102ea6-3cc8-4ed5-996f-bc5ca121f104"
      },
      "outputs": [
        {
          "output_type": "stream",
          "name": "stderr",
          "text": [
            "/usr/local/lib/python3.10/dist-packages/langchain_core/_api/deprecation.py:139: LangChainDeprecationWarning: The method `BaseRetriever.get_relevant_documents` was deprecated in langchain-core 0.1.46 and will be removed in 0.3.0. Use invoke instead.\n",
            "  warn_deprecated(\n"
          ]
        },
        {
          "output_type": "execute_result",
          "data": {
            "text/plain": [
              "[Document(metadata={'page': 14.0, 'source': 'intro_botany.pdf'}, page_content='starch\\nDNAgranum thylakoid\\nmatrix (stroma)Figure 2.5. Chloroplast.\\n* * *\\nTo summarize, the logic of photosynthesis (Fig. 2.8) is based on a simple idea: make\\nsugar from carbon dioxide . Imagine if we have letters “s”, “g”, “u”, and “a” and need\\nto build the word “sugar”. Obviously, we will need two things: the letter “r” and the\\nenergy to put these letters in the right order. The same story occurs in photosynthe-\\nsis: it will need hydrogen (H) which is the “absent letter” from CO 2because sugars\\nmust contain H, O and C. NADP+/NADPH is used as hydrogen supplier, and energy\\nis ATP which is created via proton pump, and the proton pump starts because light\\nhelps to concentrate protons in the reservoir.\\n33 Version June 7, 2021'),\n",
              " Document(metadata={'page': 13.0, 'source': 'intro_botany.pdf'}, page_content='Sun rays\\nPhotosystems↓↓\\nSegregation of ions↓↓\\nDifference of potentials↓↓\\nProton pump↓↓\\nATP↓↓\\nCO 2assimilation↓↓\\nFigure 2.4. The logical chain of light stage reactions (hydrogen carrier not shown).\\n2.3 Enzymatic Stage\\nThe enzymatic stage has many participants. These include carbon dioxide, hydro-\\ngen carrier with hydrogen (NADPH), ATP , ribulose biphosphate (RuBP , or C 5), and\\nRubisco along with some other enzymes. Everything occurs in the matrix (stroma)\\nof the chloroplast.\\nThe main event of the enzymatic stage is CO 2assimilation with C 5into short-living\\nC6molecules. Assimilation requires Rubisco as an enzyme. Next, this temporary C 6\\nbreaks into two C 3molecules (PGA). Then, PGA will participate in the complex set of\\nreactions which spend NADPH and ATP as sources of hydrogen and energy, respec-\\ntively; and yields (through the intermediate stage of PGAL) one molecule of glucose\\n(C6H12O6) for every six assimilated molecules of CO 2. NADP+, ADP and P iwill go\\nback to the light stage. This set of chemical reactions returns RuBP which will start\\nthe new cycle of assimilation. Consequently, all reactions described in this para-\\ngraph are part of the cycle which has the name “Calvin cycle” or “C 3cycle” (because\\nthe C 3PGA molecules here are most important).\\nIn all, enzymatic stage starts with CO 2, NADPH, ATP and C 5(RuBP). It ends with\\nglucose (C 6H12O6), NADP+, ADP , P iand the same C 5. With an addition of nitrogen\\nand phosphorous, glucose will give all other organic molecules (Fig. 2.7).\\n32 Version June 7, 2021'),\n",
              " Document(metadata={'page': 15.0, 'source': 'intro_botany.pdf'}, page_content='−\\n+ADP + P i\\nH+ATP\\nH20\\nH+ + 02H+\\nH+ATP synthase\\nlight\\nH20 ⇄ H+ + OH−e−NADP+ → NADPHOH−\\nOH−OH−OH−\\nH+\\nthylakoidmatrix (stroma)membraneH+ + OH− ⇄ H20 \\nP700\\n&\\nP680e−Figure 2.6. Scheme of the light stage of photosynthesis.\\n6C02\\n6C5 (RuBP)\\n6[C6]\\n12C3 (PGA)\\nglucose ( 1C6)2C3 (PGAL)ATP and NADPH\\nADP, Pi and NADP+\\n10C3 regroup\\ninto 6C5Rubisco\\nFigure 2.7. Scheme of the enzymatic stage of photosynthesis. Numbers in green show how\\ncarbon is assimilated without changing the amount of RuBP .\\n34 Version June 7, 2021'),\n",
              " Document(metadata={'page': 16.0, 'source': 'intro_botany.pdf'}, page_content='NADP+NADPH ATP ADP + PH+\\nreservoirLIGHT\\nCarbon\\nﬁxation\\nwith Rubisco\\nC3 (Calvin) cycle\\n5-carbon sugar\\n(RuBP)GLUCOSE IntermediatesCO2H2O\\nO2Figure 2.8. Summary of the photosynthesis. ( Based on the idea from Arms & Camp, 1986 ).\\n35 Version June 7, 2021')]"
            ]
          },
          "metadata": {},
          "execution_count": 50
        }
      ],
      "source": [
        "query = \"Explain the whole process of photosynthesis\"\n",
        "\n",
        "retriever = docsearch.as_retriever()\n",
        "# Get relevant documents ordered by relevance score\n",
        "docs = retriever.get_relevant_documents(question)\n",
        "docs"
      ]
    },
    {
      "cell_type": "code",
      "execution_count": null,
      "id": "d6b079f1",
      "metadata": {
        "colab": {
          "base_uri": "https://localhost:8080/"
        },
        "id": "d6b079f1",
        "outputId": "0a69d975-c34a-42c2-9e14-f25d4a3d3358"
      },
      "outputs": [
        {
          "output_type": "execute_result",
          "data": {
            "text/plain": [
              "[Document(metadata={'page': 13.0, 'source': 'intro_botany.pdf'}, page_content='Sun rays\\nPhotosystems↓↓\\nSegregation of ions↓↓\\nDifference of potentials↓↓\\nProton pump↓↓\\nATP↓↓\\nCO 2assimilation↓↓\\nFigure 2.4. The logical chain of light stage reactions (hydrogen carrier not shown).\\n2.3 Enzymatic Stage\\nThe enzymatic stage has many participants. These include carbon dioxide, hydro-\\ngen carrier with hydrogen (NADPH), ATP , ribulose biphosphate (RuBP , or C 5), and\\nRubisco along with some other enzymes. Everything occurs in the matrix (stroma)\\nof the chloroplast.\\nThe main event of the enzymatic stage is CO 2assimilation with C 5into short-living\\nC6molecules. Assimilation requires Rubisco as an enzyme. Next, this temporary C 6\\nbreaks into two C 3molecules (PGA). Then, PGA will participate in the complex set of\\nreactions which spend NADPH and ATP as sources of hydrogen and energy, respec-\\ntively; and yields (through the intermediate stage of PGAL) one molecule of glucose\\n(C6H12O6) for every six assimilated molecules of CO 2. NADP+, ADP and P iwill go\\nback to the light stage. This set of chemical reactions returns RuBP which will start\\nthe new cycle of assimilation. Consequently, all reactions described in this para-\\ngraph are part of the cycle which has the name “Calvin cycle” or “C 3cycle” (because\\nthe C 3PGA molecules here are most important).\\nIn all, enzymatic stage starts with CO 2, NADPH, ATP and C 5(RuBP). It ends with\\nglucose (C 6H12O6), NADP+, ADP , P iand the same C 5. With an addition of nitrogen\\nand phosphorous, glucose will give all other organic molecules (Fig. 2.7).\\n32 Version June 7, 2021'),\n",
              " Document(metadata={'page': 16.0, 'source': 'intro_botany.pdf'}, page_content='NADP+NADPH ATP ADP + PH+\\nreservoirLIGHT\\nCarbon\\nﬁxation\\nwith Rubisco\\nC3 (Calvin) cycle\\n5-carbon sugar\\n(RuBP)GLUCOSE IntermediatesCO2H2O\\nO2Figure 2.8. Summary of the photosynthesis. ( Based on the idea from Arms & Camp, 1986 ).\\n35 Version June 7, 2021'),\n",
              " Document(metadata={'page': 15.0, 'source': 'intro_botany.pdf'}, page_content='−\\n+ADP + P i\\nH+ATP\\nH20\\nH+ + 02H+\\nH+ATP synthase\\nlight\\nH20 ⇄ H+ + OH−e−NADP+ → NADPHOH−\\nOH−OH−OH−\\nH+\\nthylakoidmatrix (stroma)membraneH+ + OH− ⇄ H20 \\nP700\\n&\\nP680e−Figure 2.6. Scheme of the light stage of photosynthesis.\\n6C02\\n6C5 (RuBP)\\n6[C6]\\n12C3 (PGA)\\nglucose ( 1C6)2C3 (PGAL)ATP and NADPH\\nADP, Pi and NADP+\\n10C3 regroup\\ninto 6C5Rubisco\\nFigure 2.7. Scheme of the enzymatic stage of photosynthesis. Numbers in green show how\\ncarbon is assimilated without changing the amount of RuBP .\\n34 Version June 7, 2021'),\n",
              " Document(metadata={'page': 14.0, 'source': 'intro_botany.pdf'}, page_content='starch\\nDNAgranum thylakoid\\nmatrix (stroma)Figure 2.5. Chloroplast.\\n* * *\\nTo summarize, the logic of photosynthesis (Fig. 2.8) is based on a simple idea: make\\nsugar from carbon dioxide . Imagine if we have letters “s”, “g”, “u”, and “a” and need\\nto build the word “sugar”. Obviously, we will need two things: the letter “r” and the\\nenergy to put these letters in the right order. The same story occurs in photosynthe-\\nsis: it will need hydrogen (H) which is the “absent letter” from CO 2because sugars\\nmust contain H, O and C. NADP+/NADPH is used as hydrogen supplier, and energy\\nis ATP which is created via proton pump, and the proton pump starts because light\\nhelps to concentrate protons in the reservoir.\\n33 Version June 7, 2021')]"
            ]
          },
          "metadata": {},
          "execution_count": 51
        }
      ],
      "source": [
        "reordering = LongContextReorder()\n",
        "reordered_docs = reordering.transform_documents(docs)\n",
        "\n",
        "# Confirm that the 4 relevant documents are at beginning and end.\n",
        "reordered_docs"
      ]
    },
    {
      "cell_type": "code",
      "execution_count": null,
      "id": "e12427cd",
      "metadata": {
        "colab": {
          "base_uri": "https://localhost:8080/"
        },
        "id": "e12427cd",
        "outputId": "de73608e-a0b6-4746-f941-1f3ed86bb051"
      },
      "outputs": [
        {
          "output_type": "execute_result",
          "data": {
            "text/plain": [
              "AIMessage(content=' Photosynthesis is the process by which plants and other organisms use the energy from the sun to convert carbon dioxide and water into glucose and oxygen. The process can be divided into two stages: the light stage and the enzymatic stage.\\n\\n**The light stage** occurs in the thylakoid membranes of chloroplasts. In this stage, light energy is used to split water molecules into hydrogen and oxygen. The hydrogen atoms are then used to reduce NADP+ to NADPH, while the oxygen atoms are released as a waste product.\\n\\n**The enzymatic stage** occurs in the stroma of chloroplasts. In this stage, the hydrogen atoms from', response_metadata={'is_blocked': False, 'errors': (), 'safety_attributes': [{'Derogatory': 0.1, 'Health': 0.2, 'Insult': 0.1, 'Sexual': 0.3}], 'grounding_metadata': {'citations': [], 'search_queries': []}, 'usage_metadata': {'candidates_billable_characters': 511.0, 'candidates_token_count': 128.0, 'prompt_billable_characters': 5097.0, 'prompt_token_count': 1556.0}}, id='run-0e990b61-eace-45f8-9f1f-39225ebd3a1b-0', usage_metadata={'input_tokens': 1556, 'output_tokens': 128, 'total_tokens': 1684})"
            ]
          },
          "metadata": {},
          "execution_count": 52
        }
      ],
      "source": [
        "# We prepare and run a custom Stuff chain with reordered docs as context.\n",
        "ans = answerRetriever(llm,reordered_docs,query)\n",
        "ans"
      ]
    },
    {
      "cell_type": "code",
      "execution_count": null,
      "id": "58121d29",
      "metadata": {
        "id": "58121d29",
        "outputId": "21afd016-5633-4f6a-bde0-d54ba865dc4a",
        "colab": {
          "base_uri": "https://localhost:8080/",
          "height": 139
        }
      },
      "outputs": [
        {
          "output_type": "execute_result",
          "data": {
            "text/plain": [
              "'Photosynthesis is the process by which plants and other organisms use the energy from the sun to convert carbon dioxide and water into glucose and oxygen. The process can be divided into two stages: the light stage and the enzymatic stage.**The light stage** occurs in the thylakoid membranes of chloroplasts. In this stage, light energy is used to split water molecules into hydrogen and oxygen. The hydrogen atoms are then used to reduce NADP+ to NADPH, while the oxygen atoms are released as a waste product.**The enzymatic stage** occurs in the stroma of chloroplasts. In this stage, the hydrogen atoms from'"
            ],
            "application/vnd.google.colaboratory.intrinsic+json": {
              "type": "string"
            }
          },
          "metadata": {},
          "execution_count": 54
        }
      ],
      "source": [
        "clean_and_format_answer(ans.content)"
      ]
    },
    {
      "cell_type": "markdown",
      "source": [
        "## Thank You"
      ],
      "metadata": {
        "id": "4ZjDjwJ_jmpg"
      },
      "id": "4ZjDjwJ_jmpg"
    }
  ],
  "metadata": {
    "kernelspec": {
      "display_name": "Python 3 (ipykernel)",
      "language": "python",
      "name": "python3"
    },
    "language_info": {
      "codemirror_mode": {
        "name": "ipython",
        "version": 3
      },
      "file_extension": ".py",
      "mimetype": "text/x-python",
      "name": "python",
      "nbconvert_exporter": "python",
      "pygments_lexer": "ipython3",
      "version": "3.11.5"
    },
    "colab": {
      "provenance": [],
      "include_colab_link": true
    }
  },
  "nbformat": 4,
  "nbformat_minor": 5
}
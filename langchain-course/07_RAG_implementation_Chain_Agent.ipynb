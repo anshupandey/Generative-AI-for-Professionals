{
  "cells": [
    {
      "cell_type": "markdown",
      "metadata": {
        "id": "view-in-github",
        "colab_type": "text"
      },
      "source": [
        "<a href=\"https://colab.research.google.com/github/anshupandey/Generative-AI-for-Professionals/blob/main/langchain-course/07_RAG_implementation_Chain_Agent.ipynb\" target=\"_parent\"><img src=\"https://colab.research.google.com/assets/colab-badge.svg\" alt=\"Open In Colab\"/></a>"
      ]
    },
    {
      "cell_type": "markdown",
      "metadata": {
        "id": "SpVgBlJNayoI"
      },
      "source": [
        "# RAG Implementation with Vertex AI Gemini Flash and LangChain"
      ]
    },
    {
      "cell_type": "markdown",
      "source": [
        "## 1. Setup & Installation"
      ],
      "metadata": {
        "id": "BHSzA25XJ8F9"
      }
    },
    {
      "cell_type": "code",
      "execution_count": null,
      "metadata": {
        "colab": {
          "base_uri": "https://localhost:8080/"
        },
        "id": "28d272cd-4e31-40aa-bbb4-0be0a1f49a14",
        "outputId": "6daeeaa7-d20b-400d-857b-ca99ca1407db"
      },
      "outputs": [
        {
          "output_type": "stream",
          "name": "stdout",
          "text": [
            "\u001b[2K     \u001b[90m━━━━━━━━━━━━━━━━━━━━━━━━━━━━━━━━━━━━━━━━\u001b[0m \u001b[32m366.5/366.5 kB\u001b[0m \u001b[31m5.5 MB/s\u001b[0m eta \u001b[36m0:00:00\u001b[0m\n",
            "\u001b[2K     \u001b[90m━━━━━━━━━━━━━━━━━━━━━━━━━━━━━━━━━━━━━━━━\u001b[0m \u001b[32m2.2/2.2 MB\u001b[0m \u001b[31m12.7 MB/s\u001b[0m eta \u001b[36m0:00:00\u001b[0m\n",
            "\u001b[2K     \u001b[90m━━━━━━━━━━━━━━━━━━━━━━━━━━━━━━━━━━━━━━━━\u001b[0m \u001b[32m91.4/91.4 kB\u001b[0m \u001b[31m5.7 MB/s\u001b[0m eta \u001b[36m0:00:00\u001b[0m\n",
            "\u001b[2K     \u001b[90m━━━━━━━━━━━━━━━━━━━━━━━━━━━━━━━━━━━━━━━━\u001b[0m \u001b[32m129.4/129.4 kB\u001b[0m \u001b[31m4.0 MB/s\u001b[0m eta \u001b[36m0:00:00\u001b[0m\n",
            "\u001b[2K     \u001b[90m━━━━━━━━━━━━━━━━━━━━━━━━━━━━━━━━━━━━━━━━\u001b[0m \u001b[32m987.6/987.6 kB\u001b[0m \u001b[31m18.7 MB/s\u001b[0m eta \u001b[36m0:00:00\u001b[0m\n",
            "\u001b[2K     \u001b[90m━━━━━━━━━━━━━━━━━━━━━━━━━━━━━━━━━━━━━━━━\u001b[0m \u001b[32m581.4/581.4 kB\u001b[0m \u001b[31m14.1 MB/s\u001b[0m eta \u001b[36m0:00:00\u001b[0m\n",
            "\u001b[2K     \u001b[90m━━━━━━━━━━━━━━━━━━━━━━━━━━━━━━━━━━━━━━━━\u001b[0m \u001b[32m92.2/92.2 kB\u001b[0m \u001b[31m2.8 MB/s\u001b[0m eta \u001b[36m0:00:00\u001b[0m\n",
            "\u001b[2K     \u001b[90m━━━━━━━━━━━━━━━━━━━━━━━━━━━━━━━━━━━━━━━━\u001b[0m \u001b[32m2.4/2.4 MB\u001b[0m \u001b[31m21.5 MB/s\u001b[0m eta \u001b[36m0:00:00\u001b[0m\n",
            "\u001b[2K     \u001b[90m━━━━━━━━━━━━━━━━━━━━━━━━━━━━━━━━━━━━━━━━\u001b[0m \u001b[32m62.4/62.4 kB\u001b[0m \u001b[31m2.4 MB/s\u001b[0m eta \u001b[36m0:00:00\u001b[0m\n",
            "\u001b[2K     \u001b[90m━━━━━━━━━━━━━━━━━━━━━━━━━━━━━━━━━━━━━━━━\u001b[0m \u001b[32m41.3/41.3 kB\u001b[0m \u001b[31m2.3 MB/s\u001b[0m eta \u001b[36m0:00:00\u001b[0m\n",
            "\u001b[2K     \u001b[90m━━━━━━━━━━━━━━━━━━━━━━━━━━━━━━━━━━━━━━━━\u001b[0m \u001b[32m6.8/6.8 MB\u001b[0m \u001b[31m14.1 MB/s\u001b[0m eta \u001b[36m0:00:00\u001b[0m\n",
            "\u001b[2K     \u001b[90m━━━━━━━━━━━━━━━━━━━━━━━━━━━━━━━━━━━━━━━━\u001b[0m \u001b[32m59.9/59.9 kB\u001b[0m \u001b[31m1.6 MB/s\u001b[0m eta \u001b[36m0:00:00\u001b[0m\n",
            "\u001b[2K     \u001b[90m━━━━━━━━━━━━━━━━━━━━━━━━━━━━━━━━━━━━━━━━\u001b[0m \u001b[32m107.0/107.0 kB\u001b[0m \u001b[31m4.0 MB/s\u001b[0m eta \u001b[36m0:00:00\u001b[0m\n",
            "\u001b[2K     \u001b[90m━━━━━━━━━━━━━━━━━━━━━━━━━━━━━━━━━━━━━━━━\u001b[0m \u001b[32m67.3/67.3 kB\u001b[0m \u001b[31m1.8 MB/s\u001b[0m eta \u001b[36m0:00:00\u001b[0m\n",
            "\u001b[?25h  Installing build dependencies ... \u001b[?25l\u001b[?25hdone\n",
            "  Getting requirements to build wheel ... \u001b[?25l\u001b[?25hdone\n",
            "  Preparing metadata (pyproject.toml) ... \u001b[?25l\u001b[?25hdone\n",
            "\u001b[2K     \u001b[90m━━━━━━━━━━━━━━━━━━━━━━━━━━━━━━━━━━━━━━━━\u001b[0m \u001b[32m283.7/283.7 kB\u001b[0m \u001b[31m23.4 MB/s\u001b[0m eta \u001b[36m0:00:00\u001b[0m\n",
            "\u001b[2K     \u001b[90m━━━━━━━━━━━━━━━━━━━━━━━━━━━━━━━━━━━━━━━━\u001b[0m \u001b[32m1.7/1.7 MB\u001b[0m \u001b[31m55.8 MB/s\u001b[0m eta \u001b[36m0:00:00\u001b[0m\n",
            "\u001b[2K     \u001b[90m━━━━━━━━━━━━━━━━━━━━━━━━━━━━━━━━━━━━━━━━\u001b[0m \u001b[32m67.6/67.6 kB\u001b[0m \u001b[31m7.5 MB/s\u001b[0m eta \u001b[36m0:00:00\u001b[0m\n",
            "\u001b[2K     \u001b[90m━━━━━━━━━━━━━━━━━━━━━━━━━━━━━━━━━━━━━━━━\u001b[0m \u001b[32m141.1/141.1 kB\u001b[0m \u001b[31m5.9 MB/s\u001b[0m eta \u001b[36m0:00:00\u001b[0m\n",
            "\u001b[2K     \u001b[90m━━━━━━━━━━━━━━━━━━━━━━━━━━━━━━━━━━━━━━━━\u001b[0m \u001b[32m75.6/75.6 kB\u001b[0m \u001b[31m7.3 MB/s\u001b[0m eta \u001b[36m0:00:00\u001b[0m\n",
            "\u001b[2K     \u001b[90m━━━━━━━━━━━━━━━━━━━━━━━━━━━━━━━━━━━━━━━━\u001b[0m \u001b[32m49.2/49.2 kB\u001b[0m \u001b[31m4.6 MB/s\u001b[0m eta \u001b[36m0:00:00\u001b[0m\n",
            "\u001b[2K     \u001b[90m━━━━━━━━━━━━━━━━━━━━━━━━━━━━━━━━━━━━━━━━\u001b[0m \u001b[32m71.9/71.9 kB\u001b[0m \u001b[31m6.6 MB/s\u001b[0m eta \u001b[36m0:00:00\u001b[0m\n",
            "\u001b[2K     \u001b[90m━━━━━━━━━━━━━━━━━━━━━━━━━━━━━━━━━━━━━━━━\u001b[0m \u001b[32m307.7/307.7 kB\u001b[0m \u001b[31m28.7 MB/s\u001b[0m eta \u001b[36m0:00:00\u001b[0m\n",
            "\u001b[2K     \u001b[90m━━━━━━━━━━━━━━━━━━━━━━━━━━━━━━━━━━━━━━━━\u001b[0m \u001b[32m77.9/77.9 kB\u001b[0m \u001b[31m8.0 MB/s\u001b[0m eta \u001b[36m0:00:00\u001b[0m\n",
            "\u001b[2K     \u001b[90m━━━━━━━━━━━━━━━━━━━━━━━━━━━━━━━━━━━━━━━━\u001b[0m \u001b[32m58.3/58.3 kB\u001b[0m \u001b[31m5.5 MB/s\u001b[0m eta \u001b[36m0:00:00\u001b[0m\n",
            "\u001b[2K     \u001b[90m━━━━━━━━━━━━━━━━━━━━━━━━━━━━━━━━━━━━━━━━\u001b[0m \u001b[32m46.0/46.0 kB\u001b[0m \u001b[31m4.1 MB/s\u001b[0m eta \u001b[36m0:00:00\u001b[0m\n",
            "\u001b[2K     \u001b[90m━━━━━━━━━━━━━━━━━━━━━━━━━━━━━━━━━━━━━━━━\u001b[0m \u001b[32m52.5/52.5 kB\u001b[0m \u001b[31m5.0 MB/s\u001b[0m eta \u001b[36m0:00:00\u001b[0m\n",
            "\u001b[2K     \u001b[90m━━━━━━━━━━━━━━━━━━━━━━━━━━━━━━━━━━━━━━━━\u001b[0m \u001b[32m130.5/130.5 kB\u001b[0m \u001b[31m9.3 MB/s\u001b[0m eta \u001b[36m0:00:00\u001b[0m\n",
            "\u001b[2K     \u001b[90m━━━━━━━━━━━━━━━━━━━━━━━━━━━━━━━━━━━━━━━━\u001b[0m \u001b[32m341.4/341.4 kB\u001b[0m \u001b[31m26.1 MB/s\u001b[0m eta \u001b[36m0:00:00\u001b[0m\n",
            "\u001b[2K     \u001b[90m━━━━━━━━━━━━━━━━━━━━━━━━━━━━━━━━━━━━━━━━\u001b[0m \u001b[32m3.4/3.4 MB\u001b[0m \u001b[31m81.3 MB/s\u001b[0m eta \u001b[36m0:00:00\u001b[0m\n",
            "\u001b[2K     \u001b[90m━━━━━━━━━━━━━━━━━━━━━━━━━━━━━━━━━━━━━━━━\u001b[0m \u001b[32m1.2/1.2 MB\u001b[0m \u001b[31m58.0 MB/s\u001b[0m eta \u001b[36m0:00:00\u001b[0m\n",
            "\u001b[2K     \u001b[90m━━━━━━━━━━━━━━━━━━━━━━━━━━━━━━━━━━━━━━━━\u001b[0m \u001b[32m130.2/130.2 kB\u001b[0m \u001b[31m12.7 MB/s\u001b[0m eta \u001b[36m0:00:00\u001b[0m\n",
            "\u001b[2K     \u001b[90m━━━━━━━━━━━━━━━━━━━━━━━━━━━━━━━━━━━━━━━━\u001b[0m \u001b[32m86.8/86.8 kB\u001b[0m \u001b[31m8.6 MB/s\u001b[0m eta \u001b[36m0:00:00\u001b[0m\n",
            "\u001b[?25h  Building wheel for pypika (pyproject.toml) ... \u001b[?25l\u001b[?25hdone\n",
            "\u001b[2K     \u001b[90m━━━━━━━━━━━━━━━━━━━━━━━━━━━━━━━━━━━━━━━━\u001b[0m \u001b[32m64.9/64.9 kB\u001b[0m \u001b[31m2.2 MB/s\u001b[0m eta \u001b[36m0:00:00\u001b[0m\n",
            "\u001b[?25h\u001b[31mERROR: pip's dependency resolver does not currently take into account all the packages that are installed. This behaviour is the source of the following dependency conflicts.\n",
            "google-colab 1.0.0 requires requests==2.31.0, but you have requests 2.32.3 which is incompatible.\u001b[0m\u001b[31m\n",
            "\u001b[2K     \u001b[90m━━━━━━━━━━━━━━━━━━━━━━━━━━━━━━━━━━━━━━━━\u001b[0m \u001b[32m73.0/73.0 kB\u001b[0m \u001b[31m2.5 MB/s\u001b[0m eta \u001b[36m0:00:00\u001b[0m\n",
            "\u001b[2K     \u001b[90m━━━━━━━━━━━━━━━━━━━━━━━━━━━━━━━━━━━━━━━━\u001b[0m \u001b[32m126.5/126.5 kB\u001b[0m \u001b[31m5.9 MB/s\u001b[0m eta \u001b[36m0:00:00\u001b[0m\n",
            "\u001b[2K     \u001b[90m━━━━━━━━━━━━━━━━━━━━━━━━━━━━━━━━━━━━━━━━\u001b[0m \u001b[32m202.7/202.7 kB\u001b[0m \u001b[31m5.2 MB/s\u001b[0m eta \u001b[36m0:00:00\u001b[0m\n",
            "\u001b[2K     \u001b[90m━━━━━━━━━━━━━━━━━━━━━━━━━━━━━━━━━━━━━━━━\u001b[0m \u001b[32m295.7/295.7 kB\u001b[0m \u001b[31m11.0 MB/s\u001b[0m eta \u001b[36m0:00:00\u001b[0m\n",
            "\u001b[?25h"
          ]
        }
      ],
      "source": [
        "!pip install -q -U langchain-core langchain-community langgraph langchain-chroma requests langchain-openai\n",
        "!pip install -q -U chromadb langchain-experimental pypdf --quiet"
      ]
    },
    {
      "cell_type": "code",
      "source": [
        "import IPython\n",
        "\n",
        "app = IPython.Application.instance()\n",
        "app.kernel.do_shutdown(True)"
      ],
      "metadata": {
        "colab": {
          "base_uri": "https://localhost:8080/"
        },
        "id": "R_SsrYWdJsoh",
        "outputId": "e590eb89-21f2-4c07-8a0f-8b9274cc19bf"
      },
      "execution_count": null,
      "outputs": [
        {
          "output_type": "execute_result",
          "data": {
            "text/plain": [
              "{'status': 'ok', 'restart': True}"
            ]
          },
          "metadata": {},
          "execution_count": 2
        }
      ]
    },
    {
      "cell_type": "markdown",
      "source": [
        "## 2. RAG Part 1 : Extract Transform and Load to Vector DB"
      ],
      "metadata": {
        "id": "UdFWZP7GJ_Sz"
      }
    },
    {
      "cell_type": "code",
      "execution_count": null,
      "metadata": {
        "id": "MGhs4RN7vgXG"
      },
      "outputs": [],
      "source": [
        "doc_paths = [\"https://av.sc.com/corp-en/nr/content/docs/Booklet_IN_2023_v1.pdf\",\n",
        "             \"https://av.sc.com/in/content/docs/in-schedule-services-charges.pdf\",\n",
        "             \"https://av.sc.com/in/content/docs/in-sc-annual-report.pdf\"]"
      ]
    },
    {
      "cell_type": "code",
      "execution_count": null,
      "metadata": {
        "id": "nhl29sxXD085"
      },
      "outputs": [],
      "source": [
        "from langchain_community.document_loaders import PyPDFLoader\n",
        "from langchain_text_splitters import RecursiveCharacterTextSplitter\n",
        "\n",
        "loaders = [PyPDFLoader(pdf, extract_images=False) for pdf in doc_paths]\n",
        "\n",
        "docs = []\n",
        "\n",
        "for loader in loaders:\n",
        "    doc = loader.load()\n",
        "    docs.extend(doc)"
      ]
    },
    {
      "cell_type": "code",
      "execution_count": null,
      "metadata": {
        "colab": {
          "base_uri": "https://localhost:8080/"
        },
        "id": "plYaZJcrwZrd",
        "outputId": "637ffa0f-10e4-498d-8149-f9bf7c47a961"
      },
      "outputs": [
        {
          "output_type": "execute_result",
          "data": {
            "text/plain": [
              "46"
            ]
          },
          "metadata": {},
          "execution_count": 6
        }
      ],
      "source": [
        "len(docs)"
      ]
    },
    {
      "cell_type": "code",
      "source": [
        "docs[1].page_content"
      ],
      "metadata": {
        "id": "Nfc_S8gBpPit",
        "outputId": "c0c4c276-82c9-4d82-a628-8ab18d14d5a1",
        "colab": {
          "base_uri": "https://localhost:8080/",
          "height": 139
        }
      },
      "execution_count": null,
      "outputs": [
        {
          "output_type": "execute_result",
          "data": {
            "text/plain": [
              "'3\\n3\\n3\\n©2021 Morningstar, Inc. All rights reserved. The information in this document is the property of Morningstar, Inc. Reproduction or transcription by any means, in whole or in part, without the prior written \\nconsent of Morningstar, Inc., is prohibited.\\n The Morningstar RatingTM for Funds    August 2021 Page 2 of 21\\ncaptured by standard deviation, as would be the case if excess return were normally or lognormally \\ndistributed, which is not always the case. Also, standard deviation measures variation both above \\nand below the mean equally. But investors are generally risk-averse and dislike downside variation \\nmore than upside variation. Morningstar gives more weight to downside variation when calculating \\nMorningstar Risk-Adjusted Return and does not make any assumptions about the distribution of \\nexcess returns.\\nThe other commonly accepted meaning of “risk-adjusted” is based on assumed investor preferences. \\nUnder this approach, higher return is “good” and higher risk is “bad” under all circumstances, \\nwithout regard to how these two outcomes are combined. Hence, when grading funds, return \\nshould be rewarded and risk penalized in all cases. The Morningstar Risk-Adjusted Return measure \\ndescribed in this document has this property.\\nThis document discusses the Morningstar Category as the basis for the rating, and it describes the \\nmethodology for calculating risk-adjusted return and the Morningstar Rating. Morningstar calculates \\nratings at the end of each month.\\nMorningstar Categories\\nCategory Peer Groups\\nMorningstar uses the Morningstar Category as the primary peer group for a number of calculations, \\nincluding percentile ranks, fund-versus-category-average comparisons, and the Morningstar Rating. \\nThe Morningstar Rating compares funds’ risk-adjusted historical returns. Its usefulness depends, in \\npart, on which funds are compared with others. \\nIt can be assumed that the returns of major asset classes (domestic equities, foreign equities, \\ndomestic bonds, and so on) will, over lengthy periods of time, be commensurate with their risk. \\nHowever, asset class relative returns may not reflect relative risk over ordinary investor time \\nhorizons. For instance, in a declining interest-rate environment, investment-grade bond returns can \\nexceed equity returns despite the higher long-term risk of equities; such a situation might continue \\nfor months or even years. Under these circumstances many bond funds outperform equity funds for \\nreasons unrelated to the skills of the fund managers.\\nA general principle that applies to the calculation of fund star ratings follows from this fact; that \\nis, the relative star ratings of two funds should be affected more by manager skill than by market \\ncircumstances or events that lie beyond the fund managers’ control. \\nAnother general principle is that peer groups should reflect the investment opportunities for \\ninvestors. So, categories are defined and funds are rated within each of the major markets around \\nthe world. Morningstar supports different category schemes for different markets based on the \\ninvestment needs and perspectives of local investors. For example, Morningstar rates high-yield '"
            ],
            "application/vnd.google.colaboratory.intrinsic+json": {
              "type": "string"
            }
          },
          "metadata": {},
          "execution_count": 7
        }
      ]
    },
    {
      "cell_type": "code",
      "execution_count": null,
      "metadata": {
        "colab": {
          "base_uri": "https://localhost:8080/"
        },
        "id": "HVLYgpziwdKD",
        "outputId": "db66980f-4dcc-4b7c-947e-b9f2f8cf23b8"
      },
      "outputs": [
        {
          "output_type": "execute_result",
          "data": {
            "text/plain": [
              "45"
            ]
          },
          "metadata": {},
          "execution_count": 8
        }
      ],
      "source": [
        "# drop pages which have less than 100 characters (e.g. header pages, empty separater pages)\n",
        "docs = [doc for doc in docs if len(doc.page_content.strip())>100]\n",
        "len(docs)"
      ]
    },
    {
      "cell_type": "code",
      "execution_count": null,
      "metadata": {
        "colab": {
          "base_uri": "https://localhost:8080/"
        },
        "id": "msEaKLKqwiOE",
        "outputId": "04f4e682-cb58-4310-e9a7-dba3c268f627"
      },
      "outputs": [
        {
          "output_type": "execute_result",
          "data": {
            "text/plain": [
              "2657.3333333333335"
            ]
          },
          "metadata": {},
          "execution_count": 9
        }
      ],
      "source": [
        "# For all remaining document, checking the average characters count\n",
        "sum(len(doc.page_content) for doc in docs)/len(docs)"
      ]
    },
    {
      "cell_type": "code",
      "execution_count": null,
      "metadata": {
        "colab": {
          "base_uri": "https://localhost:8080/"
        },
        "id": "qM6hV4DjwkIe",
        "outputId": "72f17897-5abb-4efb-e522-0770a2274c81"
      },
      "outputs": [
        {
          "output_type": "execute_result",
          "data": {
            "text/plain": [
              "53"
            ]
          },
          "metadata": {},
          "execution_count": 10
        }
      ],
      "source": [
        "# split the documents(each pdf page as one document) , into multiple so that at max there are 3500 characters in one document, with overlap of 500 characters while splitting\n",
        "text_splitter = RecursiveCharacterTextSplitter(chunk_size=3500, chunk_overlap=500)\n",
        "docs = text_splitter.split_documents(docs)\n",
        "len(docs)"
      ]
    },
    {
      "cell_type": "code",
      "execution_count": null,
      "metadata": {
        "colab": {
          "base_uri": "https://localhost:8080/"
        },
        "id": "YpYTraoSwmUj",
        "outputId": "074c6ec2-42ea-4215-e9a6-483b9cf580f9"
      },
      "outputs": [
        {
          "output_type": "stream",
          "name": "stdout",
          "text": [
            "3\n",
            "3\n",
            "3\n",
            "©2021 Morningstar, Inc. All rights reserved. The information in this document is the property of Morningstar, Inc. Reproduction or transcription by any means, in whole or in part, without the prior written \n",
            "consent of Morningstar, Inc., is prohibited.\n",
            " The Morningstar RatingTM for Funds    August 2021 Page 2 of 21\n",
            "captured by standard deviation, as would be the case if excess return were normally or lognormally \n",
            "distributed, which is not always the case. Also, standard deviation measures variation both above \n",
            "and below the mean equally. But investors are generally risk-averse and dislike downside variation \n",
            "more than upside variation. Morningstar gives more weight to downside variation when calculating \n",
            "Morningstar Risk-Adjusted Return and does not make any assumptions about the distribution of \n",
            "excess returns.\n",
            "The other commonly accepted meaning of “risk-adjusted” is based on assumed investor preferences. \n",
            "Under this approach, higher return is “good” and higher risk is “bad” under all circumstances, \n",
            "without regard to how these two outcomes are combined. Hence, when grading funds, return \n",
            "should be rewarded and risk penalized in all cases. The Morningstar Risk-Adjusted Return measure \n",
            "described in this document has this property.\n",
            "This document discusses the Morningstar Category as the basis for the rating, and it describes the \n",
            "methodology for calculating risk-adjusted return and the Morningstar Rating. Morningstar calculates \n",
            "ratings at the end of each month.\n",
            "Morningstar Categories\n",
            "Category Peer Groups\n",
            "Morningstar uses the Morningstar Category as the primary peer group for a number of calculations, \n",
            "including percentile ranks, fund-versus-category-average comparisons, and the Morningstar Rating. \n",
            "The Morningstar Rating compares funds’ risk-adjusted historical returns. Its usefulness depends, in \n",
            "part, on which funds are compared with others. \n",
            "It can be assumed that the returns of major asset classes (domestic equities, foreign equities, \n",
            "domestic bonds, and so on) will, over lengthy periods of time, be commensurate with their risk. \n",
            "However, asset class relative returns may not reflect relative risk over ordinary investor time \n",
            "horizons. For instance, in a declining interest-rate environment, investment-grade bond returns can \n",
            "exceed equity returns despite the higher long-term risk of equities; such a situation might continue \n",
            "for months or even years. Under these circumstances many bond funds outperform equity funds for \n",
            "reasons unrelated to the skills of the fund managers.\n",
            "A general principle that applies to the calculation of fund star ratings follows from this fact; that \n",
            "is, the relative star ratings of two funds should be affected more by manager skill than by market \n",
            "circumstances or events that lie beyond the fund managers’ control. \n",
            "Another general principle is that peer groups should reflect the investment opportunities for \n",
            "investors. So, categories are defined and funds are rated within each of the major markets around \n",
            "the world. Morningstar supports different category schemes for different markets based on the \n",
            "investment needs and perspectives of local investors. For example, Morningstar rates high-yield\n"
          ]
        }
      ],
      "source": [
        "print(docs[1].page_content)"
      ]
    },
    {
      "cell_type": "code",
      "source": [
        "from langchain_openai import OpenAIEmbeddings\n",
        "embeddings = OpenAIEmbeddings(model=\"text-embedding-3-large\")"
      ],
      "metadata": {
        "id": "bgKeHUQyRNsF"
      },
      "execution_count": null,
      "outputs": []
    },
    {
      "cell_type": "code",
      "execution_count": null,
      "metadata": {
        "id": "gbSAbl22wopB"
      },
      "outputs": [],
      "source": [
        "# loading embedding model from Hugging Face\n",
        "from langchain.embeddings import HuggingFaceBgeEmbeddings\n",
        "embedding_model_name = \"BAAI/bge-large-en-v1.5\"\n",
        "#embeddings = HuggingFaceBgeEmbeddings(model_name=embedding_model_name,)"
      ]
    },
    {
      "cell_type": "code",
      "execution_count": null,
      "metadata": {
        "id": "gf5mK77hWXA7",
        "outputId": "4c435f84-47c2-431e-9dca-fd80e2488082",
        "colab": {
          "base_uri": "https://localhost:8080/"
        }
      },
      "outputs": [
        {
          "output_type": "stream",
          "name": "stderr",
          "text": [
            "WARNING:google.cloud.aiplatform.telemetry:Gapic client context issue detected.This can occur due to parallelization.\n",
            "WARNING:google.cloud.aiplatform.telemetry:Gapic client context issue detected.This can occur due to parallelization.\n",
            "WARNING:google.cloud.aiplatform.telemetry:Gapic client context issue detected.This can occur due to parallelization.\n"
          ]
        }
      ],
      "source": [
        "# initializng the vector store using CHromaDB\n",
        "from langchain_chroma import Chroma\n",
        "# Using embedding model, to embed documents to vector and store to a vector db\n",
        "vectorstore = Chroma.from_documents(documents = docs[:20], embedding=embedding_fun)\n",
        "\n",
        "# using vector db object to initialize a retriever object - to perform vector search/retrieval\n",
        "retriever = vectorstore.as_retriever(search_type=\"similarity\", search_kwargs={\"k\": 2})"
      ]
    },
    {
      "cell_type": "code",
      "source": [
        "len(vectorstore.get()['ids'])"
      ],
      "metadata": {
        "id": "eNL0M8vTwct8",
        "outputId": "ef4c79ff-1533-4243-83b9-8a6f929bb988",
        "colab": {
          "base_uri": "https://localhost:8080/"
        }
      },
      "execution_count": null,
      "outputs": [
        {
          "output_type": "execute_result",
          "data": {
            "text/plain": [
              "20"
            ]
          },
          "metadata": {},
          "execution_count": 21
        }
      ]
    },
    {
      "cell_type": "code",
      "source": [
        "# adding more docs to the vector database\n",
        "vectorstore.add_documents(documents=docs[20:40],embedding=embedding_fun)"
      ],
      "metadata": {
        "id": "EwTmk8lvvuXO",
        "outputId": "901419d3-4b3c-4da1-c004-3b09644cb970",
        "colab": {
          "base_uri": "https://localhost:8080/"
        }
      },
      "execution_count": null,
      "outputs": [
        {
          "output_type": "stream",
          "name": "stderr",
          "text": [
            "WARNING:google.cloud.aiplatform.telemetry:Gapic client context issue detected.This can occur due to parallelization.\n"
          ]
        },
        {
          "output_type": "execute_result",
          "data": {
            "text/plain": [
              "['7c519a1a-9ff2-4a9b-8378-21ad25890a6f',\n",
              " 'c241de41-339a-439c-b336-74b6e1fe4dc6',\n",
              " 'e47fa05c-6089-4e1d-ae96-667f34b5aefe',\n",
              " '9bfcb2dc-31d8-41de-9086-b15366707c4f',\n",
              " '79ba9f2b-c94b-4fa4-91cc-96722c075b7b',\n",
              " 'c1fb30ea-7dcb-424d-84ab-a2f12ceaeac7',\n",
              " '1f359dca-6446-4efb-8913-b8ef1ebe2601',\n",
              " 'f6a21875-1f32-490c-be29-8374be4271c4',\n",
              " 'f2c490db-1ef5-45a7-ad41-ecc206d77664',\n",
              " '7a25f20b-3fa6-4b77-9634-14b6f705abbf',\n",
              " '47c10578-db1c-43d1-9d41-6f44a210bb47',\n",
              " 'b954ef28-4c49-41b7-8b4c-93b76b778c4b',\n",
              " 'fc3ca672-5c57-49a3-be85-2384f88a81b5',\n",
              " 'a937804d-1ccb-4e84-b5d0-630c18258649',\n",
              " '55a40a90-7e0e-4a18-ad3c-e4b292c4ba97',\n",
              " '37116c1e-026c-415a-ad56-2e60d78eeea3',\n",
              " '7a9558e4-c46a-4939-aff1-c2d15916b6d4',\n",
              " 'd7bf4bc2-fd1f-4145-bc1f-3a3f365ed86c',\n",
              " '94dc315c-1dbc-4142-8e70-e355bcc92665',\n",
              " 'ef7ee071-2acb-4adc-8243-ef4512798b4b']"
            ]
          },
          "metadata": {},
          "execution_count": 22
        }
      ]
    },
    {
      "cell_type": "code",
      "source": [
        "# adding more docs to the vector database\n",
        "vectorstore.add_documents(documents=docs[40:],embedding=embedding_fun)"
      ],
      "metadata": {
        "id": "lqsZuPaBkdlF",
        "outputId": "b53abc6e-3cd0-43f2-94fb-f73967cae157",
        "colab": {
          "base_uri": "https://localhost:8080/"
        }
      },
      "execution_count": null,
      "outputs": [
        {
          "output_type": "execute_result",
          "data": {
            "text/plain": [
              "['1d8a26c3-93de-424a-b812-93a64688fa61',\n",
              " '874792b1-b1b1-4af6-8e06-f79accd69a77',\n",
              " 'e806d912-4fb5-4474-9973-db60a804b6c7',\n",
              " 'ca7fbdfd-b66c-4141-a3ad-237e1283fb1b',\n",
              " 'c8f346e5-a85b-4e3b-bcff-c692bb4fad16',\n",
              " '08f02cb7-af54-4d8b-825f-0969450daf83',\n",
              " '5ee9057f-ce03-49cc-820a-c4dd035270ba',\n",
              " 'ddb41781-185e-49bd-858c-ce0d39a8466c',\n",
              " 'a417b975-1c81-4205-af06-4068826940d5',\n",
              " 'f838f208-2cdc-4692-9f90-19e3002aa249',\n",
              " 'd7e414fb-c646-450c-9580-a09576618d41',\n",
              " 'ed8fd261-fdc2-438c-9454-dba79873a189',\n",
              " 'cef2b288-8274-4640-a2c4-48e13dac57fc']"
            ]
          },
          "metadata": {},
          "execution_count": 23
        }
      ]
    },
    {
      "cell_type": "code",
      "source": [
        "len(vectorstore.get()['ids'])"
      ],
      "metadata": {
        "id": "yqvpVmGclKE7",
        "outputId": "b786132a-a670-4cda-83d5-fcc84b3c250b",
        "colab": {
          "base_uri": "https://localhost:8080/"
        }
      },
      "execution_count": null,
      "outputs": [
        {
          "output_type": "execute_result",
          "data": {
            "text/plain": [
              "53"
            ]
          },
          "metadata": {},
          "execution_count": 24
        }
      ]
    },
    {
      "cell_type": "code",
      "execution_count": null,
      "metadata": {
        "colab": {
          "base_uri": "https://localhost:8080/"
        },
        "id": "mfJHg61Uw6BP",
        "outputId": "844d7f7e-aece-4c83-d671-b3225f821932"
      },
      "outputs": [
        {
          "output_type": "execute_result",
          "data": {
            "text/plain": [
              "2"
            ]
          },
          "metadata": {},
          "execution_count": 25
        }
      ],
      "source": [
        "retrieved_docs = retriever.invoke(\"What is Large Cap equity fund\")\n",
        "len(retrieved_docs)"
      ]
    },
    {
      "cell_type": "code",
      "execution_count": null,
      "metadata": {
        "colab": {
          "base_uri": "https://localhost:8080/"
        },
        "id": "DNIGp-p9w6BV",
        "outputId": "cdc65093-603c-41c4-a9cc-679cd6f4fa63"
      },
      "outputs": [
        {
          "output_type": "stream",
          "name": "stdout",
          "text": [
            "?  \n",
            " \n",
            " \n",
            " \n",
            " \n",
            " \n",
            " \n",
            " \n",
            " \n",
            " \n",
            " \n",
            " Categor y Definitions  \n",
            "India \n",
            "Equity  \n",
            " \n",
            "Large-Cap \n",
            "Large-Cap funds primarily consist of stocks which a re the Top 100 stocks by full market capitalization  of \n",
            "the equity market. These funds invest at least 80% of total assets in Indian equities and the balance can \n",
            "be invested in other asset classes such as fixed in come and overseas equities, among others. Funds in \n",
            "this category would invest at least 80% of their to tal assets in large-cap stocks. \n",
            "Morningstar Category Index: S&P BSE 100 TR \n",
            " \n",
            "Mid-Cap \n",
            "Mid-Cap funds primarily consist of stocks ranked 10 1st to 250th by full market capitalization of the \n",
            "equity market. These funds invest at least 65% of t otal assets in Indian equities, and the balance can  be \n",
            "invested in other asset classes such as fixed incom e and overseas equities, among others. Funds in thi s \n",
            "category would invest at least 65% of their total a ssets in mid-cap stocks. \n",
            "Morningstar Category Index: S&P BSE Mid Cap TR \n",
            " \n",
            "Small-Cap \n",
            "Small-Cap funds primarily consist of stocks ranked 251st onwards by full market capitalization of the \n",
            "equity market. These funds invest at least 65% of t otal assets in Indian equities, and the balance can  be \n",
            "invested in other asset classes such as fixed incom e and overseas equities, among others. Funds in thi s \n",
            "category would invest at least 65% of their total a ssets in small-cap stocks. \n",
            "Morningstar Category Index: S&P BSE Small Cap TR \n",
            " \n",
            "Flexi Cap \n",
            "Flexi Cap funds invest at least 65% of their total assets in Indian equities, and the balance can be \n",
            "invested in other asset classes such as fixed incom e and overseas equities, among others. These funds \n",
            "will invest into a mix of Large, Mid and small-cap stocks. \n",
            "Morningstar Category Index: S&P BSE 500 TR \n",
            " \n",
            " \n",
            " Morningstar Research  \n",
            "April 2021\n"
          ]
        }
      ],
      "source": [
        "print(retrieved_docs[0].page_content)"
      ]
    },
    {
      "cell_type": "code",
      "execution_count": null,
      "metadata": {
        "colab": {
          "base_uri": "https://localhost:8080/"
        },
        "id": "6tMaR7AVw6BV",
        "outputId": "bab096fe-0ccd-4e3f-fb9b-ced7876a6a82"
      },
      "outputs": [
        {
          "output_type": "stream",
          "name": "stdout",
          "text": [
            "©2019 Morningstar, Inc. All rights reserved. The in formation in this document is the property of Morni ngstar, Inc. Reproduction or transcription by any m eans, in whole or part, without  \n",
            "the prior written consent of Morningstar, Inc., is prohibited. Category Definitions , India  | 26 February 2021  Page 2 of 12  Multi- Cap Multi-Cap funds invest at least 75% of their total assets in Indian equities, and the balance can be invested in other asset classes such as fixed incom e and overseas equities, among others. These funds will invest a minimum of 25% each in Large Cap, Mid  Cap and Small Cap stocks. Morningstar Category Index: S&P BSE 500 TR   Large & Mid- Cap Large & Mid-Cap funds primarily consist of stocks w hich are the Top 250 stocks by full market capitalization of the equity market. These funds in vest at least 70% of total assets in Indian equitie s and the balance can be invested in other asset classes such as fixed income and overseas equities, among others. Funds in this category would invest at leas t 35% of their total assets in large-cap stocks and  35% of their total assets in mid-cap stocks. Morningstar Category Index: S&P BSE 200 TR   Global – Other Global – Other funds include those funds that inves t at least 65% of total assets in instruments issue d by overseas i.e. non-Indian companies. In addition, fu nds that invest at least 65% of total assets in exchange traded funds, fund of funds domiciled outs ide India are also included in this category. [Funds in this category do not receive a Morningsta r Rating™ due to the diverse nature of the constituents.]  ELSS (Equity Linked Saving Schemes) These funds are notified as ELSS by SEBI under Sect ion 10 (23D). Investments of up to Rs 150,000 in a financial year in these funds are exempt from Incom e Tax under Section 80C of the Income Tax Act, 1961. Investments in ELSS are subject to a lock-in of three years from the date of investment. Morningstar Category Index: S&P BSE 200 TR  Value Funds   Value funds invest at least 65% of their total asse ts in Indian equities, and the balance can be inves ted in other asset classes such as fixed income and overse as equities, among others. These funds will predominantly invest in value stocks. Morningstar Category Index: S&P BSE 500 TR  Contra Funds  Contra funds invest at least 65% of their total ass ets in Indian equities, and the balance can be inve sted in other asset classes such as fixed income and ove rseas equities, among others. These funds will predominantly invest using a contrarian investment theme. Morningstar Category Index: S&P BSE 500 TR\n"
          ]
        }
      ],
      "source": [
        "print(retrieved_docs[1].page_content)"
      ]
    },
    {
      "cell_type": "markdown",
      "metadata": {
        "id": "RvXc0hT1WXA8"
      },
      "source": [
        "### Implementing RAG Chain"
      ]
    },
    {
      "cell_type": "code",
      "execution_count": null,
      "metadata": {
        "id": "7gnVfKs6WXA-"
      },
      "outputs": [],
      "source": [
        "from langchain_core.prompts import ChatPromptTemplate\n",
        "from langchain_core.runnables import RunnablePassthrough\n",
        "\n",
        "message = \"\"\"\n",
        "Answer this question using the provided context only.\n",
        "\n",
        "{question}\n",
        "\n",
        "Context:\n",
        "{context}\n",
        "\"\"\"\n",
        "\n",
        "prompt = ChatPromptTemplate.from_messages([(\"human\", message)])"
      ]
    },
    {
      "cell_type": "code",
      "execution_count": null,
      "metadata": {
        "id": "1UINbA2JWXA-"
      },
      "outputs": [],
      "source": [
        "from langchain_openai import ChatOpenAI\n",
        "\n",
        "chatmodel = ChatOpenAI(model=\"gpt-3.5-turbo-0125\",temperature=0.5)\n",
        "\n",
        "rag_chain = {\"context\": retriever, \"question\": RunnablePassthrough()} | prompt | chatmodel\n"
      ]
    },
    {
      "cell_type": "code",
      "execution_count": null,
      "metadata": {
        "colab": {
          "base_uri": "https://localhost:8080/"
        },
        "id": "K1jEtJ4oWXA-",
        "outputId": "27bda64d-505b-4779-f5fc-84f9bde2eb4a"
      },
      "outputs": [
        {
          "output_type": "stream",
          "name": "stdout",
          "text": [
            "Mid-Cap funds primarily invest in stocks ranked 101st to 250th by full market capitalization. They must invest at least 65% of their total assets in Indian equities, with the remaining portion potentially invested in other asset classes like fixed income and overseas equities.  The Morningstar Category Index for Mid-Cap funds is the S&P BSE Mid Cap TR. \n",
            "\n"
          ]
        }
      ],
      "source": [
        "response = rag_chain.invoke(\"tell me about mid cap market\")\n",
        "\n",
        "print(response.content)"
      ]
    },
    {
      "cell_type": "markdown",
      "metadata": {
        "id": "N6QXH5AIWXA_"
      },
      "source": [
        "### Implementing RAG Agent"
      ]
    },
    {
      "cell_type": "markdown",
      "metadata": {
        "id": "JdZHbTzmWXBA"
      },
      "source": [
        "### Creating retriever Tool"
      ]
    },
    {
      "cell_type": "code",
      "execution_count": null,
      "metadata": {
        "id": "5w4_XN7eWXBC"
      },
      "outputs": [],
      "source": [
        "from langchain.tools.retriever import create_retriever_tool\n",
        "\n",
        "tool = create_retriever_tool(\n",
        "    retriever,\n",
        "    \"searchCapitalMarket\",\n",
        "    \"Searches and returns excerpts about trading stocks markets shares capital markets, DO not use it for any other info than that of capital market/ finance questions\",\n",
        ")"
      ]
    },
    {
      "cell_type": "code",
      "execution_count": null,
      "metadata": {
        "id": "6j64VZANWXBD"
      },
      "outputs": [],
      "source": [
        "from langchain_openai import ChatOpenAI\n",
        "\n",
        "chatmodel = ChatOpenAI(model=\"gpt-3.5-turbo-0125\",temperature=0.5)"
      ]
    },
    {
      "cell_type": "code",
      "source": [
        "from langgraph.prebuilt import create_react_agent\n",
        "agent_executor = create_react_agent(chatmodel, [tool,])"
      ],
      "metadata": {
        "id": "W0Bb3E5alzz4"
      },
      "execution_count": null,
      "outputs": []
    },
    {
      "cell_type": "code",
      "source": [
        "from langchain_core.messages import AIMessage, HumanMessage\n",
        "query = \"Hi\"\n",
        "\n",
        "for s in agent_executor.stream(\n",
        "    {\"messages\": [HumanMessage(content=query)]},\n",
        "):\n",
        "    print(s)\n",
        "    print(\"----\")"
      ],
      "metadata": {
        "colab": {
          "base_uri": "https://localhost:8080/"
        },
        "id": "9StnBSI1l2ni",
        "outputId": "d23d6a71-9a98-48b6-f8fc-ad2807718827"
      },
      "execution_count": null,
      "outputs": [
        {
          "output_type": "stream",
          "name": "stdout",
          "text": [
            "{'agent': {'messages': [AIMessage(content='Hello! 👋 How can I help you today? 😊 \\n', response_metadata={'is_blocked': False, 'safety_ratings': [{'category': 'HARM_CATEGORY_HATE_SPEECH', 'probability_label': 'NEGLIGIBLE', 'blocked': False, 'severity': 'HARM_SEVERITY_NEGLIGIBLE'}, {'category': 'HARM_CATEGORY_DANGEROUS_CONTENT', 'probability_label': 'NEGLIGIBLE', 'blocked': False, 'severity': 'HARM_SEVERITY_NEGLIGIBLE'}, {'category': 'HARM_CATEGORY_HARASSMENT', 'probability_label': 'NEGLIGIBLE', 'blocked': False, 'severity': 'HARM_SEVERITY_NEGLIGIBLE'}, {'category': 'HARM_CATEGORY_SEXUALLY_EXPLICIT', 'probability_label': 'NEGLIGIBLE', 'blocked': False, 'severity': 'HARM_SEVERITY_NEGLIGIBLE'}], 'usage_metadata': {'prompt_token_count': 46, 'candidates_token_count': 13, 'total_token_count': 59}}, id='run-fdbea2eb-b69f-4cf3-bdd9-af153b681518-0', usage_metadata={'input_tokens': 46, 'output_tokens': 13, 'total_tokens': 59})]}}\n",
            "----\n"
          ]
        }
      ]
    },
    {
      "cell_type": "code",
      "execution_count": null,
      "metadata": {
        "id": "z4hBtdV67QQ4",
        "colab": {
          "base_uri": "https://localhost:8080/"
        },
        "outputId": "c9d71888-33b2-4fae-bccb-5c8f1009ab6b"
      },
      "outputs": [
        {
          "output_type": "stream",
          "name": "stdout",
          "text": [
            "{'agent': {'messages': [AIMessage(content='', additional_kwargs={'function_call': {'name': 'searchCapitalMarket', 'arguments': '{\"query\": \"What is mid cap capital market?\"}'}}, response_metadata={'is_blocked': False, 'safety_ratings': [{'category': 'HARM_CATEGORY_HATE_SPEECH', 'probability_label': 'NEGLIGIBLE', 'blocked': False, 'severity': 'HARM_SEVERITY_NEGLIGIBLE'}, {'category': 'HARM_CATEGORY_DANGEROUS_CONTENT', 'probability_label': 'NEGLIGIBLE', 'blocked': False, 'severity': 'HARM_SEVERITY_LOW'}, {'category': 'HARM_CATEGORY_HARASSMENT', 'probability_label': 'NEGLIGIBLE', 'blocked': False, 'severity': 'HARM_SEVERITY_NEGLIGIBLE'}, {'category': 'HARM_CATEGORY_SEXUALLY_EXPLICIT', 'probability_label': 'NEGLIGIBLE', 'blocked': False, 'severity': 'HARM_SEVERITY_NEGLIGIBLE'}], 'usage_metadata': {'prompt_token_count': 52, 'candidates_token_count': 11, 'total_token_count': 63}}, id='run-3c7f731a-6e44-4dcd-88cf-63459926489f-0', tool_calls=[{'name': 'searchCapitalMarket', 'args': {'query': 'What is mid cap capital market?'}, 'id': '3693f7de-5d84-4d56-985d-713903bcd287', 'type': 'tool_call'}], usage_metadata={'input_tokens': 52, 'output_tokens': 11, 'total_tokens': 63})]}}\n",
            "----\n"
          ]
        },
        {
          "output_type": "stream",
          "name": "stderr",
          "text": [
            "WARNING:langchain_core.language_models.llms:Retrying langchain_google_vertexai.chat_models._completion_with_retry.<locals>._completion_with_retry_inner in 4.0 seconds as it raised ResourceExhausted: 429 Quota exceeded for aiplatform.googleapis.com/generate_content_requests_per_minute_per_project_per_base_model with base model: gemini-1.5-flash. Please submit a quota increase request. https://cloud.google.com/vertex-ai/docs/generative-ai/quotas-genai..\n"
          ]
        },
        {
          "output_type": "stream",
          "name": "stdout",
          "text": [
            "{'tools': {'messages': [ToolMessage(content='?  \\n \\n \\n \\n \\n \\n \\n \\n \\n \\n \\n Categor y Definitions  \\nIndia \\nEquity  \\n \\nLarge-Cap \\nLarge-Cap funds primarily consist of stocks which a re the Top 100 stocks by full market capitalization  of \\nthe equity market. These funds invest at least 80% of total assets in Indian equities and the balance can \\nbe invested in other asset classes such as fixed in come and overseas equities, among others. Funds in \\nthis category would invest at least 80% of their to tal assets in large-cap stocks. \\nMorningstar Category Index: S&P BSE 100 TR \\n \\nMid-Cap \\nMid-Cap funds primarily consist of stocks ranked 10 1st to 250th by full market capitalization of the \\nequity market. These funds invest at least 65% of t otal assets in Indian equities, and the balance can  be \\ninvested in other asset classes such as fixed incom e and overseas equities, among others. Funds in thi s \\ncategory would invest at least 65% of their total a ssets in mid-cap stocks. \\nMorningstar Category Index: S&P BSE Mid Cap TR \\n \\nSmall-Cap \\nSmall-Cap funds primarily consist of stocks ranked 251st onwards by full market capitalization of the \\nequity market. These funds invest at least 65% of t otal assets in Indian equities, and the balance can  be \\ninvested in other asset classes such as fixed incom e and overseas equities, among others. Funds in thi s \\ncategory would invest at least 65% of their total a ssets in small-cap stocks. \\nMorningstar Category Index: S&P BSE Small Cap TR \\n \\nFlexi Cap \\nFlexi Cap funds invest at least 65% of their total assets in Indian equities, and the balance can be \\ninvested in other asset classes such as fixed incom e and overseas equities, among others. These funds \\nwill invest into a mix of Large, Mid and small-cap stocks. \\nMorningstar Category Index: S&P BSE 500 TR \\n \\n \\n Morningstar Research  \\nApril 2021\\n\\n©2019 Morningstar, Inc. All rights reserved. The in formation in this document is the property of Morni ngstar, Inc. Reproduction or transcription by any m eans, in whole or part, without  \\nthe prior written consent of Morningstar, Inc., is prohibited. Category Definitions , India  | 26 February 2021  Page 11  of 12  Money Market  Liquid Liquid funds primarily invest in investment-grade f ixed-income securities with maturities of up to 91 days. Given their focus on instruments with a short  duration, they offer minimal interest-rate sensiti vity. They typically invest in treasury bills, call money , commercial papers and certificate of deposits, am ong others. Morningstar Category Index: CRISIL Liquid Fund Inde x  Overnight Overnight funds primarily invest in overnight secur ities with maturities of 1 day. Given their focus o n instruments with a short duration, they offer minim al interest-rate sensitivity.   Morningstar Category Index: CRISIL Liquid Fund Inde x.  K', name='searchCapitalMarket', tool_call_id='3693f7de-5d84-4d56-985d-713903bcd287')]}}\n",
            "----\n"
          ]
        },
        {
          "output_type": "stream",
          "name": "stderr",
          "text": [
            "WARNING:langchain_core.language_models.llms:Retrying langchain_google_vertexai.chat_models._completion_with_retry.<locals>._completion_with_retry_inner in 4.0 seconds as it raised ResourceExhausted: 429 Quota exceeded for aiplatform.googleapis.com/generate_content_requests_per_minute_per_project_per_base_model with base model: gemini-1.5-flash. Please submit a quota increase request. https://cloud.google.com/vertex-ai/docs/generative-ai/quotas-genai..\n"
          ]
        },
        {
          "output_type": "stream",
          "name": "stdout",
          "text": [
            "{'agent': {'messages': [AIMessage(content='A mid-cap capital market refers to a segment of the stock market that includes companies with a market capitalization between $2 billion and $10 billion. These companies are considered to be larger than small-cap companies but smaller than large-cap companies. \\n', response_metadata={'is_blocked': False, 'safety_ratings': [{'category': 'HARM_CATEGORY_HATE_SPEECH', 'probability_label': 'NEGLIGIBLE', 'blocked': False, 'severity': 'HARM_SEVERITY_NEGLIGIBLE'}, {'category': 'HARM_CATEGORY_DANGEROUS_CONTENT', 'probability_label': 'NEGLIGIBLE', 'blocked': False, 'severity': 'HARM_SEVERITY_NEGLIGIBLE'}, {'category': 'HARM_CATEGORY_HARASSMENT', 'probability_label': 'NEGLIGIBLE', 'blocked': False, 'severity': 'HARM_SEVERITY_NEGLIGIBLE'}, {'category': 'HARM_CATEGORY_SEXUALLY_EXPLICIT', 'probability_label': 'NEGLIGIBLE', 'blocked': False, 'severity': 'HARM_SEVERITY_NEGLIGIBLE'}], 'usage_metadata': {'prompt_token_count': 797, 'candidates_token_count': 53, 'total_token_count': 850}}, id='run-15b6c71c-81a6-4fbf-a6b2-421aa620bb42-0', usage_metadata={'input_tokens': 797, 'output_tokens': 53, 'total_tokens': 850})]}}\n",
            "----\n"
          ]
        }
      ],
      "source": [
        "from langchain_core.messages import AIMessage, HumanMessage\n",
        "query = \"What is mid cap capital market?\"\n",
        "\n",
        "for s in agent_executor.stream(\n",
        "    {\"messages\": [HumanMessage(content=query)]},\n",
        "):\n",
        "    print(s)\n",
        "    print(\"----\")"
      ]
    },
    {
      "cell_type": "markdown",
      "source": [
        "## Multi-tool RAG Agent"
      ],
      "metadata": {
        "id": "kP24GxT30Hbs"
      }
    },
    {
      "cell_type": "code",
      "source": [
        "!pip install wikipedia --quiet"
      ],
      "metadata": {
        "colab": {
          "base_uri": "https://localhost:8080/"
        },
        "id": "GveqpmiP1ITe",
        "outputId": "5b47dbe2-5dab-4a22-afac-5472d927443c"
      },
      "execution_count": null,
      "outputs": [
        {
          "output_type": "stream",
          "name": "stdout",
          "text": [
            "  Preparing metadata (setup.py) ... \u001b[?25l\u001b[?25hdone\n",
            "  Building wheel for wikipedia (setup.py) ... \u001b[?25l\u001b[?25hdone\n"
          ]
        }
      ]
    },
    {
      "cell_type": "code",
      "source": [
        "from langchain_openai import ChatOpenAI\n",
        "\n",
        "chatmodel = ChatOpenAI(model=\"gpt-3.5-turbo-0125\",temperature=0.5)"
      ],
      "metadata": {
        "id": "HFnFM1kf1LZb"
      },
      "execution_count": null,
      "outputs": []
    },
    {
      "cell_type": "code",
      "execution_count": null,
      "metadata": {
        "id": "UoumLqEn7QNf"
      },
      "outputs": [],
      "source": [
        "from langchain.tools.retriever import create_retriever_tool\n",
        "from langchain_community.tools import WikipediaQueryRun\n",
        "from langchain_community.utilities import WikipediaAPIWrapper\n",
        "\n",
        "wiki = WikipediaQueryRun(api_wrapper=WikipediaAPIWrapper())\n",
        "\n",
        "ragtool = create_retriever_tool(\n",
        "    retriever,\n",
        "    \"searchCapitalMarket\",\n",
        "    \"Searches and returns excerpts about trading stocks markets shares capital markets, DO not use it for any other info than that of capital market/ finance questions\",\n",
        ")\n",
        "\n",
        "\n",
        "tools = [ragtool,wiki]"
      ]
    },
    {
      "cell_type": "code",
      "execution_count": null,
      "metadata": {
        "id": "X5rhhNSE7Q50"
      },
      "outputs": [],
      "source": [
        "from langgraph.prebuilt import create_react_agent\n",
        "agent_executor = create_react_agent(chatmodel, tools)"
      ]
    },
    {
      "cell_type": "code",
      "source": [
        "from langchain_core.messages import AIMessage, HumanMessage\n",
        "query = \"Hi\"\n",
        "\n",
        "for s in agent_executor.stream(\n",
        "    {\"messages\": [HumanMessage(content=query)]},\n",
        "):\n",
        "    print(s)\n",
        "    print(\"----\")"
      ],
      "metadata": {
        "colab": {
          "base_uri": "https://localhost:8080/"
        },
        "id": "OvThQbZr1OJD",
        "outputId": "cd0a5d74-e7cc-40c9-fab0-c8e450943a2b"
      },
      "execution_count": null,
      "outputs": [
        {
          "output_type": "stream",
          "name": "stdout",
          "text": [
            "{'agent': {'messages': [AIMessage(content='Hello! 👋 How can I help you today? 😊 \\n', response_metadata={'is_blocked': False, 'safety_ratings': [{'category': 'HARM_CATEGORY_HATE_SPEECH', 'probability_label': 'NEGLIGIBLE', 'blocked': False, 'severity': 'HARM_SEVERITY_NEGLIGIBLE'}, {'category': 'HARM_CATEGORY_DANGEROUS_CONTENT', 'probability_label': 'NEGLIGIBLE', 'blocked': False, 'severity': 'HARM_SEVERITY_NEGLIGIBLE'}, {'category': 'HARM_CATEGORY_HARASSMENT', 'probability_label': 'NEGLIGIBLE', 'blocked': False, 'severity': 'HARM_SEVERITY_NEGLIGIBLE'}, {'category': 'HARM_CATEGORY_SEXUALLY_EXPLICIT', 'probability_label': 'NEGLIGIBLE', 'blocked': False, 'severity': 'HARM_SEVERITY_NEGLIGIBLE'}], 'usage_metadata': {'prompt_token_count': 99, 'candidates_token_count': 13, 'total_token_count': 112}}, id='run-7ff5f37b-66b1-436f-b24a-d90ee09ddac3-0', usage_metadata={'input_tokens': 99, 'output_tokens': 13, 'total_tokens': 112})]}}\n",
            "----\n"
          ]
        }
      ]
    },
    {
      "cell_type": "code",
      "source": [
        "from langchain_core.messages import AIMessage, HumanMessage\n",
        "query = \"What is mid cap capital market?\"\n",
        "\n",
        "for s in agent_executor.stream(\n",
        "    {\"messages\": [HumanMessage(content=query)]},\n",
        "):\n",
        "    print(s)\n",
        "    print(\"----\")"
      ],
      "metadata": {
        "colab": {
          "base_uri": "https://localhost:8080/"
        },
        "id": "-IMpPeMg1Wmn",
        "outputId": "dc1bfdc1-0ab8-4ab2-9c4d-367498cf987d"
      },
      "execution_count": null,
      "outputs": [
        {
          "output_type": "stream",
          "name": "stdout",
          "text": [
            "{'agent': {'messages': [AIMessage(content='', additional_kwargs={'function_call': {'name': 'searchCapitalMarket', 'arguments': '{\"query\": \"What is mid cap capital market?\"}'}}, response_metadata={'is_blocked': False, 'safety_ratings': [{'category': 'HARM_CATEGORY_HATE_SPEECH', 'probability_label': 'NEGLIGIBLE', 'blocked': False, 'severity': 'HARM_SEVERITY_NEGLIGIBLE'}, {'category': 'HARM_CATEGORY_DANGEROUS_CONTENT', 'probability_label': 'NEGLIGIBLE', 'blocked': False, 'severity': 'HARM_SEVERITY_LOW'}, {'category': 'HARM_CATEGORY_HARASSMENT', 'probability_label': 'NEGLIGIBLE', 'blocked': False, 'severity': 'HARM_SEVERITY_NEGLIGIBLE'}, {'category': 'HARM_CATEGORY_SEXUALLY_EXPLICIT', 'probability_label': 'NEGLIGIBLE', 'blocked': False, 'severity': 'HARM_SEVERITY_NEGLIGIBLE'}], 'usage_metadata': {'prompt_token_count': 105, 'candidates_token_count': 11, 'total_token_count': 116}}, id='run-b01d40f0-a1a8-4381-ba5c-4e9fad080d55-0', tool_calls=[{'name': 'searchCapitalMarket', 'args': {'query': 'What is mid cap capital market?'}, 'id': 'b5adc274-70f0-426e-ad16-ae7e856c503d', 'type': 'tool_call'}], usage_metadata={'input_tokens': 105, 'output_tokens': 11, 'total_tokens': 116})]}}\n",
            "----\n"
          ]
        },
        {
          "output_type": "stream",
          "name": "stderr",
          "text": [
            "WARNING:langchain_core.language_models.llms:Retrying langchain_google_vertexai.chat_models._completion_with_retry.<locals>._completion_with_retry_inner in 4.0 seconds as it raised ResourceExhausted: 429 Quota exceeded for aiplatform.googleapis.com/generate_content_requests_per_minute_per_project_per_base_model with base model: gemini-1.5-flash. Please submit a quota increase request. https://cloud.google.com/vertex-ai/docs/generative-ai/quotas-genai..\n"
          ]
        },
        {
          "output_type": "stream",
          "name": "stdout",
          "text": [
            "{'tools': {'messages': [ToolMessage(content='?  \\n \\n \\n \\n \\n \\n \\n \\n \\n \\n \\n Categor y Definitions  \\nIndia \\nEquity  \\n \\nLarge-Cap \\nLarge-Cap funds primarily consist of stocks which a re the Top 100 stocks by full market capitalization  of \\nthe equity market. These funds invest at least 80% of total assets in Indian equities and the balance can \\nbe invested in other asset classes such as fixed in come and overseas equities, among others. Funds in \\nthis category would invest at least 80% of their to tal assets in large-cap stocks. \\nMorningstar Category Index: S&P BSE 100 TR \\n \\nMid-Cap \\nMid-Cap funds primarily consist of stocks ranked 10 1st to 250th by full market capitalization of the \\nequity market. These funds invest at least 65% of t otal assets in Indian equities, and the balance can  be \\ninvested in other asset classes such as fixed incom e and overseas equities, among others. Funds in thi s \\ncategory would invest at least 65% of their total a ssets in mid-cap stocks. \\nMorningstar Category Index: S&P BSE Mid Cap TR \\n \\nSmall-Cap \\nSmall-Cap funds primarily consist of stocks ranked 251st onwards by full market capitalization of the \\nequity market. These funds invest at least 65% of t otal assets in Indian equities, and the balance can  be \\ninvested in other asset classes such as fixed incom e and overseas equities, among others. Funds in thi s \\ncategory would invest at least 65% of their total a ssets in small-cap stocks. \\nMorningstar Category Index: S&P BSE Small Cap TR \\n \\nFlexi Cap \\nFlexi Cap funds invest at least 65% of their total assets in Indian equities, and the balance can be \\ninvested in other asset classes such as fixed incom e and overseas equities, among others. These funds \\nwill invest into a mix of Large, Mid and small-cap stocks. \\nMorningstar Category Index: S&P BSE 500 TR \\n \\n \\n Morningstar Research  \\nApril 2021\\n\\n©2019 Morningstar, Inc. All rights reserved. The in formation in this document is the property of Morni ngstar, Inc. Reproduction or transcription by any m eans, in whole or part, without  \\nthe prior written consent of Morningstar, Inc., is prohibited. Category Definitions , India  | 26 February 2021  Page 11  of 12  Money Market  Liquid Liquid funds primarily invest in investment-grade f ixed-income securities with maturities of up to 91 days. Given their focus on instruments with a short  duration, they offer minimal interest-rate sensiti vity. They typically invest in treasury bills, call money , commercial papers and certificate of deposits, am ong others. Morningstar Category Index: CRISIL Liquid Fund Inde x  Overnight Overnight funds primarily invest in overnight secur ities with maturities of 1 day. Given their focus o n instruments with a short duration, they offer minim al interest-rate sensitivity.   Morningstar Category Index: CRISIL Liquid Fund Inde x.  K', name='searchCapitalMarket', tool_call_id='b5adc274-70f0-426e-ad16-ae7e856c503d')]}}\n",
            "----\n"
          ]
        },
        {
          "output_type": "stream",
          "name": "stderr",
          "text": [
            "WARNING:langchain_core.language_models.llms:Retrying langchain_google_vertexai.chat_models._completion_with_retry.<locals>._completion_with_retry_inner in 4.0 seconds as it raised ResourceExhausted: 429 Quota exceeded for aiplatform.googleapis.com/generate_content_requests_per_minute_per_project_per_base_model with base model: gemini-1.5-flash. Please submit a quota increase request. https://cloud.google.com/vertex-ai/docs/generative-ai/quotas-genai..\n"
          ]
        },
        {
          "output_type": "stream",
          "name": "stdout",
          "text": [
            "{'agent': {'messages': [AIMessage(content='Mid-cap funds primarily consist of stocks ranked 101st to 250th by full market capitalization of the equity market. These funds invest at least 65% of total assets in Indian equities, and the balance can be invested in other asset classes such as fixed income and overseas equities, among others. Funds in this category would invest at least 65% of their total assets in mid-cap stocks. \\n', response_metadata={'is_blocked': False, 'safety_ratings': [{'category': 'HARM_CATEGORY_HATE_SPEECH', 'probability_label': 'NEGLIGIBLE', 'blocked': False, 'severity': 'HARM_SEVERITY_NEGLIGIBLE'}, {'category': 'HARM_CATEGORY_DANGEROUS_CONTENT', 'probability_label': 'NEGLIGIBLE', 'blocked': False, 'severity': 'HARM_SEVERITY_NEGLIGIBLE'}, {'category': 'HARM_CATEGORY_HARASSMENT', 'probability_label': 'NEGLIGIBLE', 'blocked': False, 'severity': 'HARM_SEVERITY_NEGLIGIBLE'}, {'category': 'HARM_CATEGORY_SEXUALLY_EXPLICIT', 'probability_label': 'NEGLIGIBLE', 'blocked': False, 'severity': 'HARM_SEVERITY_NEGLIGIBLE'}], 'citation_metadata': {'citations': [{'start_index': 72, 'end_index': 260, 'uri': 'https://in.investing.com/funds/tata-aia-life-whole-life-mid-cap-company-profile_0', 'title': '', 'license_': ''}]}, 'usage_metadata': {'prompt_token_count': 850, 'candidates_token_count': 90, 'total_token_count': 940}}, id='run-6126030f-52d7-4fdc-9c0c-70b54334b785-0', usage_metadata={'input_tokens': 850, 'output_tokens': 90, 'total_tokens': 940})]}}\n",
            "----\n"
          ]
        }
      ]
    },
    {
      "cell_type": "code",
      "source": [
        "from langchain_core.messages import AIMessage, HumanMessage\n",
        "query = \"What is the capital city of Philippines?\"\n",
        "\n",
        "for s in agent_executor.stream(\n",
        "    {\"messages\": [HumanMessage(content=query)]},\n",
        "):\n",
        "    print(s)\n",
        "    print(\"----\")"
      ],
      "metadata": {
        "colab": {
          "base_uri": "https://localhost:8080/"
        },
        "id": "DiKNsanf1YSd",
        "outputId": "1ecea74e-7a8e-4eac-ee90-10a33df10579"
      },
      "execution_count": null,
      "outputs": [
        {
          "output_type": "stream",
          "name": "stdout",
          "text": [
            "{'agent': {'messages': [AIMessage(content='', additional_kwargs={'function_call': {'name': 'wikipedia', 'arguments': '{\"query\": \"Philippines\"}'}}, response_metadata={'is_blocked': False, 'safety_ratings': [{'category': 'HARM_CATEGORY_HATE_SPEECH', 'probability_label': 'NEGLIGIBLE', 'blocked': False, 'severity': 'HARM_SEVERITY_NEGLIGIBLE'}, {'category': 'HARM_CATEGORY_DANGEROUS_CONTENT', 'probability_label': 'NEGLIGIBLE', 'blocked': False, 'severity': 'HARM_SEVERITY_LOW'}, {'category': 'HARM_CATEGORY_HARASSMENT', 'probability_label': 'NEGLIGIBLE', 'blocked': False, 'severity': 'HARM_SEVERITY_NEGLIGIBLE'}, {'category': 'HARM_CATEGORY_SEXUALLY_EXPLICIT', 'probability_label': 'NEGLIGIBLE', 'blocked': False, 'severity': 'HARM_SEVERITY_NEGLIGIBLE'}], 'usage_metadata': {'prompt_token_count': 106, 'candidates_token_count': 3, 'total_token_count': 109}}, id='run-0d6ec0fb-3f4e-4ab0-aa01-538d2dfab7da-0', tool_calls=[{'name': 'wikipedia', 'args': {'query': 'Philippines'}, 'id': 'f972bbe7-353f-4720-b726-30bea413348e', 'type': 'tool_call'}], usage_metadata={'input_tokens': 106, 'output_tokens': 3, 'total_tokens': 109})]}}\n",
            "----\n"
          ]
        },
        {
          "output_type": "stream",
          "name": "stderr",
          "text": [
            "/usr/local/lib/python3.10/dist-packages/wikipedia/wikipedia.py:389: GuessedAtParserWarning: No parser was explicitly specified, so I'm using the best available HTML parser for this system (\"lxml\"). This usually isn't a problem, but if you run this code on another system, or in a different virtual environment, it may use a different parser and behave differently.\n",
            "\n",
            "The code that caused this warning is on line 389 of the file /usr/local/lib/python3.10/dist-packages/wikipedia/wikipedia.py. To get rid of this warning, pass the additional argument 'features=\"lxml\"' to the BeautifulSoup constructor.\n",
            "\n",
            "  lis = BeautifulSoup(html).find_all('li')\n"
          ]
        },
        {
          "output_type": "stream",
          "name": "stdout",
          "text": [
            "{'tools': {'messages': [ToolMessage(content=\"Page: Philippines\\nSummary: The Philippines, officially the Republic of the Philippines, is an archipelagic country in Southeast Asia. In the western Pacific Ocean, it consists of 7,641 islands, with a total area of 300,000 square kilometers, which are broadly categorized in three main geographical divisions from north to south: Luzon, Visayas, and Mindanao. The Philippines is bounded by the South China Sea to the west, the Philippine Sea to the east, and the Celebes Sea to the south. It shares maritime borders with Taiwan to the north, Japan to the northeast, Palau to the east and southeast, Indonesia to the south, Malaysia to the southwest, Vietnam to the west, and China to the northwest. It is the world's twelfth-most-populous country, with diverse ethnicities and cultures. Manila is the country's capital, and its most populated city is Quezon City. Both are within Metro Manila.\\nNegritos, the archipelago's earliest inhabitants, were followed by waves of Austronesian peoples. The adoption of animism, Hinduism with Buddhist influence, and Islam established island-kingdoms ruled by datus, rajas, and sultans. Extensive overseas trade with neighbors such as the late Tang or Song empire brought Chinese people to the archipelago as well, which would also gradually settle in and intermix over the centuries. The arrival of Ferdinand Magellan, a Portuguese explorer leading a fleet for Castile, marked the beginning of Spanish colonization. In 1543, Spanish explorer Ruy López de Villalobos named the archipelago Las Islas Filipinas in honor of King Philip II of Castile. Spanish colonization via New Spain, beginning in 1565, led to the Philippines becoming ruled by the Crown of Castile, as part of the Spanish Empire, for more than 300 years. Catholic Christianity became the dominant religion, and Manila became the western hub of trans-Pacific trade. Hispanic immigrants from Latin America and Iberia would also selectively colonize. The Philippine Revolution began in 1896, and became entwined with the 1898 Spanish–American War. Spain ceded the territory to the United States, and Filipino revolutionaries declared the First Philippine Republic. The ensuing Philippine–American War ended with the United States controlling the territory until the Japanese invasion of the islands during World War II. After  the United States retook the Philippines from the Japanese, the Philippines became independent in 1946. The country has had a tumultuous experience with democracy, which included the overthrow of a decades-long dictatorship in a nonviolent revolution.\\nThe Philippines is an emerging market and a newly industrialized country, whose economy is transitioning from being agricultural to service- and manufacturing-centered. It is a founding member of the United Nations, the World Trade Organization, ASEAN, the Asia-Pacific Economic Cooperation forum, and the East Asia Summit; it is a member of the Non-Aligned Movement and a major non-NATO ally of the United States. Its location as an island country on the Pacific Ring of Fire and close to the equator makes it prone to earthquakes and typhoons. The Philippines has a variety of natural resources and a globally-significant level of biodiversity.\\n\\nPage: Filipinos\\nSummary: Filipinos (Filipino: Mga Pilipino) are citizens or people identified with the country of the Philippines. The majority of Filipinos today are predominantly Catholic and come from various Austronesian peoples, all typically speaking Tagalog, English, or other Philippine languages. Despite formerly being subject to Spanish colonialism, only around 2–4% of Filipinos are fluent in Spanish. Currently, there are more than 185 ethnolinguistic groups in the Philippines each with its own language, identity, culture, tradition, and history.\", name='wikipedia', tool_call_id='f972bbe7-353f-4720-b726-30bea413348e')]}}\n",
            "----\n",
            "{'agent': {'messages': [AIMessage(content='The capital city of the Philippines is **Manila**. \\n', response_metadata={'is_blocked': False, 'safety_ratings': [{'category': 'HARM_CATEGORY_HATE_SPEECH', 'probability_label': 'NEGLIGIBLE', 'blocked': False, 'severity': 'HARM_SEVERITY_NEGLIGIBLE'}, {'category': 'HARM_CATEGORY_DANGEROUS_CONTENT', 'probability_label': 'NEGLIGIBLE', 'blocked': False, 'severity': 'HARM_SEVERITY_NEGLIGIBLE'}, {'category': 'HARM_CATEGORY_HARASSMENT', 'probability_label': 'NEGLIGIBLE', 'blocked': False, 'severity': 'HARM_SEVERITY_NEGLIGIBLE'}, {'category': 'HARM_CATEGORY_SEXUALLY_EXPLICIT', 'probability_label': 'NEGLIGIBLE', 'blocked': False, 'severity': 'HARM_SEVERITY_NEGLIGIBLE'}], 'usage_metadata': {'prompt_token_count': 879, 'candidates_token_count': 12, 'total_token_count': 891}}, id='run-aade7eb1-0d01-40b0-ae36-ad06f8c79d22-0', usage_metadata={'input_tokens': 879, 'output_tokens': 12, 'total_tokens': 891})]}}\n",
            "----\n"
          ]
        }
      ]
    },
    {
      "cell_type": "code",
      "source": [],
      "metadata": {
        "id": "KkTYrPC_1zag"
      },
      "execution_count": null,
      "outputs": []
    }
  ],
  "metadata": {
    "colab": {
      "provenance": [],
      "include_colab_link": true
    },
    "kernelspec": {
      "display_name": "Python 3",
      "name": "python3"
    },
    "language_info": {
      "codemirror_mode": {
        "name": "ipython",
        "version": 3
      },
      "file_extension": ".py",
      "mimetype": "text/x-python",
      "name": "python",
      "nbconvert_exporter": "python",
      "pygments_lexer": "ipython3",
      "version": "3.10.9"
    }
  },
  "nbformat": 4,
  "nbformat_minor": 0
}
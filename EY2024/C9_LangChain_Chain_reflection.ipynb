{
  "cells": [
    {
      "cell_type": "markdown",
      "metadata": {
        "id": "view-in-github",
        "colab_type": "text"
      },
      "source": [
        "<a href=\"https://colab.research.google.com/github/anshupandey/Generative-AI-for-Professionals/blob/main/EY2024/C9_LangChain_Chain_reflection.ipynb\" target=\"_parent\"><img src=\"https://colab.research.google.com/assets/colab-badge.svg\" alt=\"Open In Colab\"/></a>"
      ]
    },
    {
      "cell_type": "markdown",
      "id": "492f050f-3dc3-44fa-8fdc-03362afd5488",
      "metadata": {
        "id": "492f050f-3dc3-44fa-8fdc-03362afd5488"
      },
      "source": [
        "# Reflection\n",
        "\n",
        "\n",
        "In the context of LLM agent building, reflection refers to the process of prompting an LLM to observe its past steps (along with potential observations from tools/the environment) to assess the quality of the chosen actions.\n",
        "This is then used downstream for things like re-planning, search, or evaluation.\n",
        "\n",
        "![Reflection](https://github.com/anshupandey/AI_Agents/blob/img/reflection.png?raw=1)\n",
        "\n",
        "This notebook demonstrates a very simple form of reflection in LangGraph."
      ]
    },
    {
      "cell_type": "markdown",
      "id": "3ef94e7e-c9a5-4eee-a865-acf411b5c235",
      "metadata": {
        "id": "3ef94e7e-c9a5-4eee-a865-acf411b5c235"
      },
      "source": [
        "#### Prerequisites\n",
        "\n",
        "We will be using a basic agent with a search tool here."
      ]
    },
    {
      "cell_type": "code",
      "execution_count": null,
      "id": "8b323f43-328b-4b4b-88b0-6c84dc0a1d60",
      "metadata": {
        "colab": {
          "base_uri": "https://localhost:8080/"
        },
        "id": "8b323f43-328b-4b4b-88b0-6c84dc0a1d60",
        "outputId": "5b5f4c65-03e4-447a-9be2-291a39a6ce07"
      },
      "outputs": [
        {
          "output_type": "stream",
          "name": "stdout",
          "text": [
            "\u001b[2K     \u001b[90m━━━━━━━━━━━━━━━━━━━━━━━━━━━━━━━━━━━━━━━━\u001b[0m \u001b[32m50.4/50.4 kB\u001b[0m \u001b[31m1.1 MB/s\u001b[0m eta \u001b[36m0:00:00\u001b[0m\n",
            "\u001b[2K   \u001b[90m━━━━━━━━━━━━━━━━━━━━━━━━━━━━━━━━━━━━━━━━\u001b[0m \u001b[32m405.1/405.1 kB\u001b[0m \u001b[31m3.5 MB/s\u001b[0m eta \u001b[36m0:00:00\u001b[0m\n",
            "\u001b[2K   \u001b[90m━━━━━━━━━━━━━━━━━━━━━━━━━━━━━━━━━━━━━━━━\u001b[0m \u001b[32m2.3/2.3 MB\u001b[0m \u001b[31m20.4 MB/s\u001b[0m eta \u001b[36m0:00:00\u001b[0m\n",
            "\u001b[2K   \u001b[90m━━━━━━━━━━━━━━━━━━━━━━━━━━━━━━━━━━━━━━━━\u001b[0m \u001b[32m98.5/98.5 kB\u001b[0m \u001b[31m5.7 MB/s\u001b[0m eta \u001b[36m0:00:00\u001b[0m\n",
            "\u001b[2K   \u001b[90m━━━━━━━━━━━━━━━━━━━━━━━━━━━━━━━━━━━━━━━━\u001b[0m \u001b[32m51.5/51.5 kB\u001b[0m \u001b[31m2.6 MB/s\u001b[0m eta \u001b[36m0:00:00\u001b[0m\n",
            "\u001b[2K   \u001b[90m━━━━━━━━━━━━━━━━━━━━━━━━━━━━━━━━━━━━━━━━\u001b[0m \u001b[32m1.0/1.0 MB\u001b[0m \u001b[31m25.2 MB/s\u001b[0m eta \u001b[36m0:00:00\u001b[0m\n",
            "\u001b[2K   \u001b[90m━━━━━━━━━━━━━━━━━━━━━━━━━━━━━━━━━━━━━━━━\u001b[0m \u001b[32m289.9/289.9 kB\u001b[0m \u001b[31m15.3 MB/s\u001b[0m eta \u001b[36m0:00:00\u001b[0m\n",
            "\u001b[2K   \u001b[90m━━━━━━━━━━━━━━━━━━━━━━━━━━━━━━━━━━━━━━━━\u001b[0m \u001b[32m374.2/374.2 kB\u001b[0m \u001b[31m16.8 MB/s\u001b[0m eta \u001b[36m0:00:00\u001b[0m\n",
            "\u001b[2K   \u001b[90m━━━━━━━━━━━━━━━━━━━━━━━━━━━━━━━━━━━━━━━━\u001b[0m \u001b[32m1.1/1.1 MB\u001b[0m \u001b[31m35.9 MB/s\u001b[0m eta \u001b[36m0:00:00\u001b[0m\n",
            "\u001b[2K   \u001b[90m━━━━━━━━━━━━━━━━━━━━━━━━━━━━━━━━━━━━━━━━\u001b[0m \u001b[32m76.4/76.4 kB\u001b[0m \u001b[31m4.1 MB/s\u001b[0m eta \u001b[36m0:00:00\u001b[0m\n",
            "\u001b[2K   \u001b[90m━━━━━━━━━━━━━━━━━━━━━━━━━━━━━━━━━━━━━━━━\u001b[0m \u001b[32m77.9/77.9 kB\u001b[0m \u001b[31m3.8 MB/s\u001b[0m eta \u001b[36m0:00:00\u001b[0m\n",
            "\u001b[2K   \u001b[90m━━━━━━━━━━━━━━━━━━━━━━━━━━━━━━━━━━━━━━━━\u001b[0m \u001b[32m318.9/318.9 kB\u001b[0m \u001b[31m16.1 MB/s\u001b[0m eta \u001b[36m0:00:00\u001b[0m\n",
            "\u001b[2K   \u001b[90m━━━━━━━━━━━━━━━━━━━━━━━━━━━━━━━━━━━━━━━━\u001b[0m \u001b[32m49.3/49.3 kB\u001b[0m \u001b[31m2.4 MB/s\u001b[0m eta \u001b[36m0:00:00\u001b[0m\n",
            "\u001b[2K   \u001b[90m━━━━━━━━━━━━━━━━━━━━━━━━━━━━━━━━━━━━━━━━\u001b[0m \u001b[32m378.0/378.0 kB\u001b[0m \u001b[31m15.5 MB/s\u001b[0m eta \u001b[36m0:00:00\u001b[0m\n",
            "\u001b[2K   \u001b[90m━━━━━━━━━━━━━━━━━━━━━━━━━━━━━━━━━━━━━━━━\u001b[0m \u001b[32m141.9/141.9 kB\u001b[0m \u001b[31m8.2 MB/s\u001b[0m eta \u001b[36m0:00:00\u001b[0m\n",
            "\u001b[2K   \u001b[90m━━━━━━━━━━━━━━━━━━━━━━━━━━━━━━━━━━━━━━━━\u001b[0m \u001b[32m58.3/58.3 kB\u001b[0m \u001b[31m2.8 MB/s\u001b[0m eta \u001b[36m0:00:00\u001b[0m\n",
            "\u001b[?25h"
          ]
        }
      ],
      "source": [
        "!pip install -q -U langchain-core langchain-community langgraph langchain-openai\n",
        "!pip install -q -U httpx"
      ]
    },
    {
      "cell_type": "code",
      "source": [
        "import IPython\n",
        "\n",
        "app = IPython.Application.instance()\n",
        "app.kernel.do_shutdown(True)"
      ],
      "metadata": {
        "colab": {
          "base_uri": "https://localhost:8080/"
        },
        "id": "R4xKXwD-Kk4B",
        "outputId": "f9302c75-e2f3-4fd4-e05c-9952859289fb"
      },
      "id": "R4xKXwD-Kk4B",
      "execution_count": null,
      "outputs": [
        {
          "output_type": "execute_result",
          "data": {
            "text/plain": [
              "{'status': 'ok', 'restart': True}"
            ]
          },
          "metadata": {},
          "execution_count": 2
        }
      ]
    },
    {
      "cell_type": "code",
      "source": [
        "api_key = \"xxxxxxxxxxxxxxxx\"\n",
        "api_version = \"2024-02-01\"\n",
        "azure_endpoint = \"https://xxxxxx.openai.azure.com/\"\n",
        "model_name = \"gpt-4o\"\n",
        "\n",
        "import os\n",
        "os.environ[\"OPENAI_API_VERSION\"] = api_version\n",
        "os.environ[\"AZURE_OPENAI_ENDPOINT\"] = azure_endpoint\n",
        "os.environ[\"AZURE_OPENAI_API_KEY\"] = api_key\n",
        "os.environ[\"OPENWEATHERMAP_API_KEY\"] = \"29af1cea50a401d8e624eea4660b3f59\"\n",
        "os.environ[\"AZURE_OPENAI_API_VERSION\"] = api_version"
      ],
      "metadata": {
        "id": "cun3avXJK5n_"
      },
      "id": "cun3avXJK5n_",
      "execution_count": null,
      "outputs": []
    },
    {
      "cell_type": "markdown",
      "id": "f27bcc4a-aaa5-46bd-8163-3e0e90cb66e6",
      "metadata": {
        "id": "f27bcc4a-aaa5-46bd-8163-3e0e90cb66e6"
      },
      "source": [
        "## Generate\n",
        "\n",
        "For our example, we will create a \"5 paragraph essay\" generator. First, create the generator:\n"
      ]
    },
    {
      "cell_type": "code",
      "execution_count": null,
      "id": "cc10028f-9cef-4936-9419-cbdf06d24f1e",
      "metadata": {
        "id": "cc10028f-9cef-4936-9419-cbdf06d24f1e"
      },
      "outputs": [],
      "source": [
        "from langchain_core.messages import AIMessage, BaseMessage, HumanMessage\n",
        "from langchain_core.prompts import ChatPromptTemplate, MessagesPlaceholder\n",
        "from langchain_openai import AzureChatOpenAI\n",
        "\n",
        "prompt = ChatPromptTemplate.from_messages(\n",
        "    [\n",
        "        (\n",
        "            \"system\",\n",
        "            \"You are an essay assistant tasked with writing excellent 5-paragraph essays.\"\n",
        "            \" Generate the best essay possible for the user's request.\"\n",
        "            \" If the user provides critique, respond with a revised version of your previous attempts.\",\n",
        "        ),\n",
        "        MessagesPlaceholder(variable_name=\"messages\"),\n",
        "    ]\n",
        ")\n",
        "\n",
        "\n",
        "chatmodel = AzureChatOpenAI(model=model_name,temperature=0.5)\n",
        "\n",
        "generate = prompt | chatmodel"
      ]
    },
    {
      "cell_type": "code",
      "execution_count": null,
      "id": "9bbe25dc-fd1e-4ed5-a3c8-fed830b46d12",
      "metadata": {
        "colab": {
          "base_uri": "https://localhost:8080/"
        },
        "id": "9bbe25dc-fd1e-4ed5-a3c8-fed830b46d12",
        "outputId": "7e0de505-3d34-4d76-f77e-e473eaa7cbba"
      },
      "outputs": [
        {
          "output_type": "stream",
          "name": "stdout",
          "text": [
            "Antoine de Saint-Exupéry's \"The Little Prince\" is a timeless literary masterpiece that continues to hold significant relevance in modern childhood. This enchanting novella, first published in 1943, transcends generations with its profound lessons on love, friendship, and the essence of human connections. Despite the rapid technological advancements and societal changes that characterize the 21st century, \"The Little Prince\" remains a poignant and essential read for children today. Its relevance can be attributed to its exploration of universal themes, its ability to foster emotional intelligence, and its encouragement of imagination and creativity.\n",
            "\n",
            "Firstly, \"The Little Prince\" delves into universal themes that resonate with both children and adults. The story's exploration of love, loss, and the importance of human connections are themes that are timeless and universal. In an age where digital interactions often replace face-to-face communication, the novella serves as a gentle reminder of the value of genuine relationships. The Little Prince's bond with the rose and his friendship with the fox underscore the importance of nurturing and cherishing the connections we form. These lessons are crucial for children growing up in a world where social media and virtual interactions can sometimes overshadow real-life relationships.\n",
            "\n",
            "Secondly, \"The Little Prince\" fosters emotional intelligence in young readers. The novella encourages children to recognize and understand their own emotions and those of others. Through the Little Prince's journey, readers learn about empathy, compassion, and the complexity of human emotions. The story's characters, each with their unique quirks and flaws, provide valuable insights into the human condition. For instance, the encounter with the lonely king who desires to be admired, or the vain man who craves attention, offers children a deeper understanding of different emotional states and the importance of empathy. In a world where emotional intelligence is increasingly recognized as a key component of personal and professional success, \"The Little Prince\" offers an early foundation for developing these essential skills.\n",
            "\n",
            "Lastly, \"The Little Prince\" encourages imagination and creativity, which are vital aspects of childhood development. The novella's whimsical narrative and fantastical elements invite children to explore their creativity and think beyond the conventional boundaries of reality. The Little Prince's adventures across different planets, each inhabited by peculiar characters, stimulate a child's imagination and inspire a sense of wonder. In an era where structured activities and screen time often dominate children's lives, \"The Little Prince\" serves as a reminder of the importance of unstructured play and creative thinking. It encourages children to dream, to question, and to see the world with a sense of curiosity and wonder.\n",
            "\n",
            "In conclusion, \"The Little Prince\" remains a relevant and essential read for modern childhood due to its exploration of universal themes, its ability to foster emotional intelligence, and its encouragement of imagination and creativity. As children navigate the complexities of the digital age, the timeless lessons embedded in this novella serve as guiding principles for developing meaningful relationships, understanding emotions, and nurturing creativity. \"The Little Prince\" is not just a story; it is a profound and enduring guide to understanding the essence of human connections and the beauty of seeing the world through a child's eyes."
          ]
        }
      ],
      "source": [
        "essay = \"\"\n",
        "request = HumanMessage(\n",
        "    content=\"Write an essay on why the little prince is relevant in modern childhood\"\n",
        ")\n",
        "for chunk in generate.stream({\"messages\": [request]}):\n",
        "    print(chunk.content, end=\"\")\n",
        "    essay += chunk.content"
      ]
    },
    {
      "cell_type": "code",
      "source": [
        "essay"
      ],
      "metadata": {
        "id": "8EAHK0DLPXgG",
        "outputId": "9b48d6c5-9e4d-4d55-8a31-957ee1c6e7b2",
        "colab": {
          "base_uri": "https://localhost:8080/",
          "height": 174
        }
      },
      "id": "8EAHK0DLPXgG",
      "execution_count": null,
      "outputs": [
        {
          "output_type": "execute_result",
          "data": {
            "text/plain": [
              "'Antoine de Saint-Exupéry\\'s \"The Little Prince\" is a timeless literary masterpiece that continues to hold significant relevance in modern childhood. This enchanting novella, first published in 1943, transcends generations with its profound lessons on love, friendship, and the essence of human connections. Despite the rapid technological advancements and societal changes that characterize the 21st century, \"The Little Prince\" remains a poignant and essential read for children today. Its relevance can be attributed to its exploration of universal themes, its ability to foster emotional intelligence, and its encouragement of imagination and creativity.\\n\\nFirstly, \"The Little Prince\" delves into universal themes that resonate with both children and adults. The story\\'s exploration of love, loss, and the importance of human connections are themes that are timeless and universal. In an age where digital interactions often replace face-to-face communication, the novella serves as a gentle reminder of the value of genuine relationships. The Little Prince\\'s bond with the rose and his friendship with the fox underscore the importance of nurturing and cherishing the connections we form. These lessons are crucial for children growing up in a world where social media and virtual interactions can sometimes overshadow real-life relationships.\\n\\nSecondly, \"The Little Prince\" fosters emotional intelligence in young readers. The novella encourages children to recognize and understand their own emotions and those of others. Through the Little Prince\\'s journey, readers learn about empathy, compassion, and the complexity of human emotions. The story\\'s characters, each with their unique quirks and flaws, provide valuable insights into the human condition. For instance, the encounter with the lonely king who desires to be admired, or the vain man who craves attention, offers children a deeper understanding of different emotional states and the importance of empathy. In a world where emotional intelligence is increasingly recognized as a key component of personal and professional success, \"The Little Prince\" offers an early foundation for developing these essential skills.\\n\\nLastly, \"The Little Prince\" encourages imagination and creativity, which are vital aspects of childhood development. The novella\\'s whimsical narrative and fantastical elements invite children to explore their creativity and think beyond the conventional boundaries of reality. The Little Prince\\'s adventures across different planets, each inhabited by peculiar characters, stimulate a child\\'s imagination and inspire a sense of wonder. In an era where structured activities and screen time often dominate children\\'s lives, \"The Little Prince\" serves as a reminder of the importance of unstructured play and creative thinking. It encourages children to dream, to question, and to see the world with a sense of curiosity and wonder.\\n\\nIn conclusion, \"The Little Prince\" remains a relevant and essential read for modern childhood due to its exploration of universal themes, its ability to foster emotional intelligence, and its encouragement of imagination and creativity. As children navigate the complexities of the digital age, the timeless lessons embedded in this novella serve as guiding principles for developing meaningful relationships, understanding emotions, and nurturing creativity. \"The Little Prince\" is not just a story; it is a profound and enduring guide to understanding the essence of human connections and the beauty of seeing the world through a child\\'s eyes.'"
            ],
            "application/vnd.google.colaboratory.intrinsic+json": {
              "type": "string"
            }
          },
          "metadata": {},
          "execution_count": 6
        }
      ]
    },
    {
      "cell_type": "markdown",
      "id": "b0b276e7-c392-4eec-be75-c77bd130379d",
      "metadata": {
        "id": "b0b276e7-c392-4eec-be75-c77bd130379d"
      },
      "source": [
        "### Reflect"
      ]
    },
    {
      "cell_type": "code",
      "execution_count": null,
      "id": "a705be92-88c0-4f4f-b4c2-cdcd9af8cb2c",
      "metadata": {
        "id": "a705be92-88c0-4f4f-b4c2-cdcd9af8cb2c"
      },
      "outputs": [],
      "source": [
        "reflection_prompt = ChatPromptTemplate.from_messages(\n",
        "    [\n",
        "        (\n",
        "            \"system\",\n",
        "            \"You are a teacher grading an essay submission. Generate critique and recommendations for the user's submission.\"\n",
        "            \" Provide detailed recommendations, including requests for length, depth, style, etc.\",\n",
        "        ),\n",
        "        MessagesPlaceholder(variable_name=\"messages\"),\n",
        "    ]\n",
        ")\n",
        "chatmodel = AzureChatOpenAI(model=model_name,temperature=0.5)\n",
        "reflect = reflection_prompt | chatmodel"
      ]
    },
    {
      "cell_type": "code",
      "execution_count": null,
      "id": "16c5eb2a-8bce-48ab-b87d-9dacb9b64ac6",
      "metadata": {
        "colab": {
          "base_uri": "https://localhost:8080/"
        },
        "id": "16c5eb2a-8bce-48ab-b87d-9dacb9b64ac6",
        "outputId": "edfcf755-8815-4f8f-c616-644fbbac3153"
      },
      "outputs": [
        {
          "output_type": "stream",
          "name": "stdout",
          "text": [
            "Your essay on the relevance of \"The Little Prince\" in modern childhood is well-structured and insightful, touching on key themes such as universal lessons, emotional intelligence, and creativity. Here are some detailed critiques and recommendations to further enhance your submission:\n",
            "\n",
            "### Strengths:\n",
            "1. **Clear Thesis**: Your thesis is clear and well-articulated, setting the stage for the subsequent arguments.\n",
            "2. **Organization**: The essay is well-organized, with each paragraph focusing on a specific point that supports your thesis.\n",
            "3. **Content**: You effectively highlight the universal themes, emotional intelligence, and creativity encouraged by \"The Little Prince.\"\n",
            "\n",
            "### Recommendations for Improvement:\n",
            "\n",
            "1. **Depth of Analysis**:\n",
            "   - **Expand on Examples**: While you mention the Little Prince's bond with the rose and his friendship with the fox, you could delve deeper into these relationships. For instance, explore how these relationships specifically teach children about love and loss.\n",
            "   - **Detailed Character Analysis**: Provide more detailed analysis of other characters like the king and the vain man. How do these encounters specifically teach children about different emotional states?\n",
            "\n",
            "2. **Length and Depth**:\n",
            "   - **Introduction**: Consider adding a few more sentences to the introduction to provide a brief overview of the novella's plot, setting the context for readers who might not be familiar with the story.\n",
            "   - **Conclusion**: Your conclusion could be expanded to reinforce the main points more strongly. Summarize how each of the three aspects (universal themes, emotional intelligence, creativity) contributes to the novella's continued relevance.\n",
            "\n",
            "3. **Style and Tone**:\n",
            "   - **Engage the Reader**: Use more engaging language and rhetorical questions to draw the reader in. For example, “In a world dominated by screens, how often do we pause to cherish the real connections we make?”\n",
            "   - **Variety in Sentence Structure**: Vary your sentence structure to maintain the reader's interest. Mix longer, complex sentences with shorter, impactful ones.\n",
            "\n",
            "4. **Additional Themes**:\n",
            "   - **Modern Challenges**: Consider addressing how \"The Little Prince\" can help children navigate specific modern challenges, such as dealing with the pressures of social media or understanding the importance of mental health.\n",
            "   - **Cultural Relevance**: Discuss how the novella's themes transcend cultural boundaries, making it relevant to children from various backgrounds.\n",
            "\n",
            "5. **Quotations and References**:\n",
            "   - **Direct Quotes**: Incorporate direct quotes from the novella to support your points. For example, quoting the fox’s famous line, “One sees clearly only with the heart. Anything essential is invisible to the eyes,” could strengthen your argument about emotional intelligence.\n",
            "   - **Scholarly References**: If possible, reference scholarly articles or studies on the impact of literature on childhood development to add academic rigor to your essay.\n",
            "\n",
            "### Example Revision:\n",
            "\n",
            "**Introduction**:\n",
            "\"Antoine de Saint-Exupéry's 'The Little Prince,' first published in 1943, is more than just a children's book; it is a timeless narrative that continues to resonate deeply with modern readers of all ages. Set against the backdrop of a young prince's interstellar journey, this novella explores profound themes of love, friendship, and human connection. Despite the rapid technological advancements and societal changes that characterize the 21st century, 'The Little Prince' remains a poignant and essential read for children today. Its relevance can be attributed to its exploration of universal themes, its ability to foster emotional intelligence, and its encouragement of imagination and creativity.\"\n",
            "\n",
            "**Conclusion**:\n",
            "\"In conclusion, 'The Little Prince' remains a relevant and essential read for modern childhood due to its exploration of universal themes, its ability to foster emotional intelligence, and its encouragement of imagination and creativity. As children navigate the complexities of the digital age, the timeless lessons embedded in this novella serve as guiding principles for developing meaningful relationships, understanding emotions, and nurturing creativity. 'The Little Prince' is not just a story; it is a profound and enduring guide to understanding the essence of human connections and the beauty of seeing the world through a child's eyes. By revisiting this classic, we can remind ourselves and our children of the importance of love, empathy, and imagination in a rapidly changing world.\"\n",
            "\n",
            "By incorporating these recommendations, your essay will become more comprehensive, engaging, and impactful. Keep up the good work!"
          ]
        }
      ],
      "source": [
        "reflection = \"\"\n",
        "for chunk in reflect.stream({\"messages\": [HumanMessage(content=request.content + \"\\n\" + essay)]}):\n",
        "    print(chunk.content, end=\"\")\n",
        "    reflection += chunk.content"
      ]
    },
    {
      "cell_type": "code",
      "source": [
        "reflection"
      ],
      "metadata": {
        "id": "0ycCnuqGF-Rc",
        "outputId": "8b1aa77d-7913-469f-8232-395901fdc906",
        "colab": {
          "base_uri": "https://localhost:8080/",
          "height": 174
        }
      },
      "id": "0ycCnuqGF-Rc",
      "execution_count": null,
      "outputs": [
        {
          "output_type": "execute_result",
          "data": {
            "text/plain": [
              "'Your essay on the relevance of \"The Little Prince\" in modern childhood is well-structured and insightful, touching on key themes such as universal lessons, emotional intelligence, and creativity. Here are some detailed critiques and recommendations to further enhance your submission:\\n\\n### Strengths:\\n1. **Clear Thesis**: Your thesis is clear and well-articulated, setting the stage for the subsequent arguments.\\n2. **Organization**: The essay is well-organized, with each paragraph focusing on a specific point that supports your thesis.\\n3. **Content**: You effectively highlight the universal themes, emotional intelligence, and creativity encouraged by \"The Little Prince.\"\\n\\n### Recommendations for Improvement:\\n\\n1. **Depth of Analysis**:\\n   - **Expand on Examples**: While you mention the Little Prince\\'s bond with the rose and his friendship with the fox, you could delve deeper into these relationships. For instance, explore how these relationships specifically teach children about love and loss.\\n   - **Detailed Character Analysis**: Provide more detailed analysis of other characters like the king and the vain man. How do these encounters specifically teach children about different emotional states?\\n\\n2. **Length and Depth**:\\n   - **Introduction**: Consider adding a few more sentences to the introduction to provide a brief overview of the novella\\'s plot, setting the context for readers who might not be familiar with the story.\\n   - **Conclusion**: Your conclusion could be expanded to reinforce the main points more strongly. Summarize how each of the three aspects (universal themes, emotional intelligence, creativity) contributes to the novella\\'s continued relevance.\\n\\n3. **Style and Tone**:\\n   - **Engage the Reader**: Use more engaging language and rhetorical questions to draw the reader in. For example, “In a world dominated by screens, how often do we pause to cherish the real connections we make?”\\n   - **Variety in Sentence Structure**: Vary your sentence structure to maintain the reader\\'s interest. Mix longer, complex sentences with shorter, impactful ones.\\n\\n4. **Additional Themes**:\\n   - **Modern Challenges**: Consider addressing how \"The Little Prince\" can help children navigate specific modern challenges, such as dealing with the pressures of social media or understanding the importance of mental health.\\n   - **Cultural Relevance**: Discuss how the novella\\'s themes transcend cultural boundaries, making it relevant to children from various backgrounds.\\n\\n5. **Quotations and References**:\\n   - **Direct Quotes**: Incorporate direct quotes from the novella to support your points. For example, quoting the fox’s famous line, “One sees clearly only with the heart. Anything essential is invisible to the eyes,” could strengthen your argument about emotional intelligence.\\n   - **Scholarly References**: If possible, reference scholarly articles or studies on the impact of literature on childhood development to add academic rigor to your essay.\\n\\n### Example Revision:\\n\\n**Introduction**:\\n\"Antoine de Saint-Exupéry\\'s \\'The Little Prince,\\' first published in 1943, is more than just a children\\'s book; it is a timeless narrative that continues to resonate deeply with modern readers of all ages. Set against the backdrop of a young prince\\'s interstellar journey, this novella explores profound themes of love, friendship, and human connection. Despite the rapid technological advancements and societal changes that characterize the 21st century, \\'The Little Prince\\' remains a poignant and essential read for children today. Its relevance can be attributed to its exploration of universal themes, its ability to foster emotional intelligence, and its encouragement of imagination and creativity.\"\\n\\n**Conclusion**:\\n\"In conclusion, \\'The Little Prince\\' remains a relevant and essential read for modern childhood due to its exploration of universal themes, its ability to foster emotional intelligence, and its encouragement of imagination and creativity. As children navigate the complexities of the digital age, the timeless lessons embedded in this novella serve as guiding principles for developing meaningful relationships, understanding emotions, and nurturing creativity. \\'The Little Prince\\' is not just a story; it is a profound and enduring guide to understanding the essence of human connections and the beauty of seeing the world through a child\\'s eyes. By revisiting this classic, we can remind ourselves and our children of the importance of love, empathy, and imagination in a rapidly changing world.\"\\n\\nBy incorporating these recommendations, your essay will become more comprehensive, engaging, and impactful. Keep up the good work!'"
            ],
            "application/vnd.google.colaboratory.intrinsic+json": {
              "type": "string"
            }
          },
          "metadata": {},
          "execution_count": 9
        }
      ]
    },
    {
      "cell_type": "markdown",
      "id": "6daf926c-1174-4e96-91b9-57c57cfce40d",
      "metadata": {
        "id": "6daf926c-1174-4e96-91b9-57c57cfce40d"
      },
      "source": [
        "### Repeat\n",
        "\n",
        "And... that's all there is too it! You can repeat in a loop for a fixed number of steps, or use an LLM (or other check) to decide when the finished product is good enough."
      ]
    },
    {
      "cell_type": "code",
      "execution_count": null,
      "id": "dfbf99a8-3aa0-4e09-936e-8452c35fa84d",
      "metadata": {
        "id": "dfbf99a8-3aa0-4e09-936e-8452c35fa84d",
        "outputId": "00b36ba3-7c42-44e0-c208-aa69d2e9b295",
        "colab": {
          "base_uri": "https://localhost:8080/"
        }
      },
      "outputs": [
        {
          "output_type": "stream",
          "name": "stdout",
          "text": [
            "Antoine de Saint-Exupéry's \"The Little Prince,\" first published in 1943, is more than just a children's book; it is a timeless narrative that continues to resonate deeply with modern readers of all ages. Set against the backdrop of a young prince's interstellar journey, this novella explores profound themes of love, friendship, and human connection. Despite the rapid technological advancements and societal changes that characterize the 21st century, \"The Little Prince\" remains a poignant and essential read for children today. Its relevance can be attributed to its exploration of universal themes, its ability to foster emotional intelligence, and its encouragement of imagination and creativity.\n",
            "\n",
            "Firstly, \"The Little Prince\" delves into universal themes that resonate with both children and adults. The story's exploration of love, loss, and the importance of human connections are themes that are timeless and universal. For instance, the Little Prince's bond with his rose teaches children about the complexities of love and the pain of loss. The rose, despite being demanding and vain, represents a unique and irreplaceable connection for the Little Prince. This relationship underscores the idea that love requires patience and understanding, a lesson that remains crucial in today's fast-paced world. The novella serves as a gentle reminder of the value of genuine relationships, especially in an age where digital interactions often replace face-to-face communication.\n",
            "\n",
            "Secondly, \"The Little Prince\" fosters emotional intelligence in young readers. The novella encourages children to recognize and understand their own emotions and those of others. Through the Little Prince's journey, readers learn about empathy, compassion, and the complexity of human emotions. The story's characters, each with their unique quirks and flaws, provide valuable insights into the human condition. For instance, the encounter with the lonely king who desires to be admired, or the vain man who craves attention, offers children a deeper understanding of different emotional states and the importance of empathy. The fox, in particular, teaches the Little Prince—and by extension, the readers—about the significance of forming bonds and the responsibilities that come with them. The fox’s famous line, \"One sees clearly only with the heart. Anything essential is invisible to the eyes,\" encapsulates the essence of emotional intelligence, emphasizing the importance of looking beyond superficial appearances to understand the true nature of people and relationships.\n",
            "\n",
            "Lastly, \"The Little Prince\" encourages imagination and creativity, which are vital aspects of childhood development. The novella's whimsical narrative and fantastical elements invite children to explore their creativity and think beyond the conventional boundaries of reality. The Little Prince's adventures across different planets, each inhabited by peculiar characters, stimulate a child's imagination and inspire a sense of wonder. In an era where structured activities and screen time often dominate children's lives, \"The Little Prince\" serves as a reminder of the importance of unstructured play and creative thinking. It encourages children to dream, to question, and to see the world with a sense of curiosity and wonder. By engaging with the story, children learn to value their own creativity and to approach the world with an open mind.\n",
            "\n",
            "In conclusion, \"The Little Prince\" remains a relevant and essential read for modern childhood due to its exploration of universal themes, its ability to foster emotional intelligence, and its encouragement of imagination and creativity. As children navigate the complexities of the digital age, the timeless lessons embedded in this novella serve as guiding principles for developing meaningful relationships, understanding emotions, and nurturing creativity. \"The Little Prince\" is not just a story; it is a profound and enduring guide to understanding the essence of human connections and the beauty of seeing the world through a child's eyes. By revisiting this classic, we can remind ourselves and our children of the importance of love, empathy, and imagination in a rapidly changing world."
          ]
        }
      ],
      "source": [
        "for chunk in generate.stream(\n",
        "    {\"messages\": [request, AIMessage(content=essay), HumanMessage(content=reflection)]}\n",
        "):\n",
        "    print(chunk.content, end=\"\")"
      ]
    },
    {
      "cell_type": "markdown",
      "id": "b63a9d93-a14d-4e41-a4bb-a4cd31713f44",
      "metadata": {
        "id": "b63a9d93-a14d-4e41-a4bb-a4cd31713f44"
      },
      "source": [
        "## Define graph\n",
        "\n",
        "Now that we've shown each step in isolation, we can wire it up in a graph."
      ]
    },
    {
      "cell_type": "code",
      "execution_count": null,
      "id": "9e9a9d7c-5d2e-4194-b745-4511ec20db76",
      "metadata": {
        "id": "9e9a9d7c-5d2e-4194-b745-4511ec20db76"
      },
      "outputs": [],
      "source": [
        "from typing import List, Sequence\n",
        "\n",
        "from langgraph.graph import END, MessageGraph, START\n",
        "import time\n",
        "\n",
        "async def generation_node(state: Sequence[BaseMessage]):\n",
        "    return await generate.ainvoke({\"messages\": state})\n",
        "\n",
        "\n",
        "async def reflection_node(messages: Sequence[BaseMessage]) -> List[BaseMessage]:\n",
        "    # Other messages we need to adjust\n",
        "    cls_map = {\"ai\": HumanMessage, \"human\": AIMessage}\n",
        "    time.sleep(30)\n",
        "    # First message is the original user request. We hold it the same for all nodes\n",
        "    translated =  [\n",
        "        cls_map[msg.type](content=msg.content) for msg in messages[1:]\n",
        "    ]\n",
        "    res = await reflect.ainvoke({\"messages\": translated})\n",
        "    # We treat the output of this as human feedback for the generator\n",
        "    return HumanMessage(content=res.content)\n",
        "\n",
        "\n",
        "builder = MessageGraph()\n",
        "builder.add_node(\"generate\", generation_node)\n",
        "builder.add_node(\"reflect\", reflection_node)\n",
        "builder.add_edge(START, \"generate\")\n",
        "\n",
        "\n",
        "def should_continue(state: List[BaseMessage]):\n",
        "    if len(state) > 6:\n",
        "        # End after 3 iterations\n",
        "        return END\n",
        "    return \"reflect\"\n",
        "\n",
        "\n",
        "builder.add_conditional_edges(\"generate\", should_continue)\n",
        "builder.add_edge(\"reflect\", \"generate\")\n",
        "graph = builder.compile()"
      ]
    },
    {
      "cell_type": "code",
      "source": [
        "from IPython.display import Image, display\n",
        "\n",
        "try:\n",
        "    display(Image(graph.get_graph().draw_mermaid_png()))\n",
        "except Exception:\n",
        "    # This requires some extra dependencies and is optional\n",
        "    pass"
      ],
      "metadata": {
        "id": "T69O-7ciR1q5",
        "outputId": "3638dd2a-77a1-4788-87f6-529bb43bb8df",
        "colab": {
          "base_uri": "https://localhost:8080/",
          "height": 266
        }
      },
      "id": "T69O-7ciR1q5",
      "execution_count": null,
      "outputs": [
        {
          "output_type": "display_data",
          "data": {
            "image/jpeg": "[encoded data removed]",
            "text/plain": [
              "<IPython.core.display.Image object>"
            ]
          },
          "metadata": {}
        }
      ]
    },
    {
      "cell_type": "code",
      "execution_count": null,
      "id": "06263a07-8a15-4ec3-b692-1c6cef3b1c1f",
      "metadata": {
        "id": "06263a07-8a15-4ec3-b692-1c6cef3b1c1f",
        "outputId": "31460f35-e962-4de5-c6d5-45b8c6d55ab0",
        "colab": {
          "base_uri": "https://localhost:8080/"
        }
      },
      "outputs": [
        {
          "output_type": "stream",
          "name": "stdout",
          "text": [
            "================================\u001b[1m Human Message \u001b[0m=================================\n",
            "\n",
            "generate\n",
            "**The Timeless Relevance of \"The Little Prince\" in Modern Life**\n",
            "\n",
            "Antoine de Saint-Exupéry's \"The Little Prince\" is a literary gem that transcends time and space, offering profound insights into human nature, relationships, and the essence of life. Written in 1943, this novella has captivated readers of all ages with its simple yet poignant storytelling. Despite the passage of decades, the themes and messages embedded within \"The Little Prince\" remain remarkably relevant in contemporary society. This essay explores the enduring topicality of the novella, focusing on its reflections on materialism, the importance of human connections, and the wisdom of seeing with the heart.\n",
            "\n",
            "In today's fast-paced, consumer-driven world, the critique of materialism presented in \"The Little Prince\" is more pertinent than ever. The story introduces several characters who are preoccupied with wealth, power, and superficial achievements. The businessman, for instance, spends his days counting stars, believing that owning them will make him rich. This obsession with possession and quantification mirrors modern society's fixation on material wealth and status symbols. The novella challenges readers to reconsider their values and to recognize that true fulfillment lies not in accumulating possessions but in appreciating the intangible and the meaningful.\n",
            "\n",
            "Equally significant is the novella's emphasis on the importance of human connections. In an age dominated by digital communication and social media, genuine relationships can often be overshadowed by virtual interactions and superficial acquaintances. The Little Prince's journey underscores the idea that meaningful relationships require time, effort, and emotional investment. His bond with the fox, who teaches him that \"one sees clearly only with the heart,\" highlights the necessity of vulnerability and trust in forming deep connections. This message serves as a poignant reminder to prioritize and nurture our real-life relationships amidst the distractions of modern technology.\n",
            "\n",
            "Moreover, \"The Little Prince\" advocates for the wisdom of seeing with the heart rather than relying solely on rationality and logic. The protagonist's encounters with various adult characters reveal the limitations of a purely rational worldview. Adults in the novella are often depicted as being obsessed with facts, figures, and practicality, losing sight of the beauty and wonder of life. In contrast, the Little Prince embodies a childlike sense of curiosity and imagination, valuing emotional truths over empirical data. This perspective encourages readers to embrace a more holistic approach to life, one that balances intellect with intuition and emotion.\n",
            "\n",
            "In conclusion, \"The Little Prince\" remains a timeless and relevant work that continues to resonate with contemporary audiences. Its critique of materialism, advocacy for genuine human connections, and celebration of emotional wisdom offer valuable lessons for navigating the complexities of modern life. As we grapple with the challenges of an increasingly fast-paced and interconnected world, the enduring messages of \"The Little Prince\" remind us to seek deeper meaning and to cherish the simple, yet profound, aspects of existence.\n",
            "---\n",
            "================================\u001b[1m Human Message \u001b[0m=================================\n",
            "\n",
            "reflect\n",
            "**Critique and Recommendations for \"The Timeless Relevance of 'The Little Prince' in Modern Life\"**\n",
            "\n",
            "**Overall Impression:**\n",
            "Your essay on the enduring relevance of Antoine de Saint-Exupéry's \"The Little Prince\" is well-articulated and insightful. You have successfully highlighted key themes such as materialism, human connections, and emotional wisdom, and you’ve related them effectively to contemporary issues. However, there are areas where you could enhance the depth of your analysis and improve the overall structure and style. Below are detailed recommendations for refining your essay.\n",
            "\n",
            "**Introduction:**\n",
            "Your introduction sets the stage well, but it could benefit from a more engaging hook to capture the reader's interest immediately. Consider starting with a compelling quote from the book or a striking observation about modern life that ties into the themes of the novella.\n",
            "\n",
            "**Recommendations:**\n",
            "1. **Hook and Thesis Statement:**\n",
            "   - **Hook:** Begin with an evocative quote or a relatable scenario from modern life that illustrates the timelessness of the novella's themes.\n",
            "   - **Thesis Statement:** Your thesis is clear, but it could be more concise. Try to encapsulate the main argument in a single, impactful sentence.\n",
            "\n",
            "**Body Paragraphs:**\n",
            "Your body paragraphs are well-structured, but there is room for deeper analysis and more specific examples from the text and contemporary life. \n",
            "\n",
            "**Recommendations:**\n",
            "1. **Materialism:**\n",
            "   - **Depth:** Expand on how the businessman’s obsession with counting stars parallels specific modern-day behaviors, such as the pursuit of social media likes or the accumulation of luxury goods.\n",
            "   - **Examples:** Incorporate specific examples from \"The Little Prince\" and modern society to illustrate your points more vividly.\n",
            "\n",
            "2. **Human Connections:**\n",
            "   - **Depth:** Delve deeper into the nature of the Little Prince's relationships, particularly his bond with the rose and the fox. How do these relationships contrast with modern virtual interactions?\n",
            "   - **Examples:** Use contemporary examples of how digital communication can both connect and isolate people. Mention specific social media trends or studies on the impact of technology on relationships.\n",
            "\n",
            "3. **Emotional Wisdom:**\n",
            "   - **Depth:** Explore the contrast between the rationality of adults and the emotional intelligence of the Little Prince. How does this dichotomy manifest in real-life scenarios, such as in the workplace or education?\n",
            "   - **Examples:** Provide examples of how modern society often prioritizes data and logic over emotional well-being and creativity. Cite relevant psychological or sociological studies.\n",
            "\n",
            "**Conclusion:**\n",
            "Your conclusion succinctly summarizes the main points, but it could be more impactful.\n",
            "\n",
            "**Recommendations:**\n",
            "1. **Restate Thesis:** Reinforce your thesis in a fresh way, reflecting on the broader implications of the novella’s lessons for contemporary life.\n",
            "2. **Call to Action:** Encourage readers to apply the lessons of \"The Little Prince\" in their daily lives. This could involve fostering deeper relationships, valuing emotional intelligence, or rethinking materialistic pursuits.\n",
            "3. **Closing Thought:** End with a thought-provoking statement or question that leaves the reader contemplating the timeless wisdom of the novella.\n",
            "\n",
            "**Style and Clarity:**\n",
            "Your writing is clear and articulate, but varying sentence structure and incorporating more vivid language could enhance readability and engagement.\n",
            "\n",
            "**Recommendations:**\n",
            "1. **Sentence Variety:** Mix short, impactful sentences with longer, more complex ones to maintain reader interest.\n",
            "2. **Vivid Language:** Use more descriptive language and literary devices to bring your analysis to life. For example, instead of saying \"the novella challenges readers,\" you could say \"the novella provocatively challenges readers.\"\n",
            "\n",
            "**Length and Depth:**\n",
            "Your essay is of appropriate length, but adding more depth to your analysis and examples will strengthen your argument.\n",
            "\n",
            "**Recommendations:**\n",
            "1. **Depth:** Aim for a deeper exploration of each theme. Spend more time analyzing specific passages from the novella and drawing parallels to modern life.\n",
            "2. **Examples:** Incorporate more concrete examples and possibly even counterarguments to show the complexity of the themes you discuss.\n",
            "\n",
            "**Final Thoughts:**\n",
            "Your essay is a thoughtful and well-constructed analysis of \"The Little Prince\" and its relevance today. By incorporating these recommendations, you can enhance the depth, clarity, and impact of your writing, making your argument even more compelling and resonant.\n",
            "---\n",
            "================================\u001b[1m Human Message \u001b[0m=================================\n",
            "\n",
            "generate\n",
            "**The Timeless Relevance of \"The Little Prince\" in Modern Life**\n",
            "\n",
            "\"One sees clearly only with the heart. What is essential is invisible to the eye.\" This evocative quote from Antoine de Saint-Exupéry's \"The Little Prince\" encapsulates the novella's enduring wisdom. Written in 1943, \"The Little Prince\" continues to resonate with readers across generations, offering profound insights into human nature, relationships, and the essence of life. In our fast-paced, consumer-driven world, the themes and messages embedded within this literary gem remain remarkably relevant. This essay explores the topicality of \"The Little Prince,\" focusing on its reflections on materialism, the importance of human connections, and the wisdom of seeing with the heart.\n",
            "\n",
            "In today's society, where material wealth and status symbols often dominate, the critique of materialism presented in \"The Little Prince\" is more pertinent than ever. The story introduces characters like the businessman, who spends his days counting stars, believing that owning them will make him rich. This obsession with possession and quantification mirrors modern behaviors such as the pursuit of social media likes or the accumulation of luxury goods. The novella challenges readers to reconsider their values, urging them to recognize that true fulfillment lies not in accumulating possessions but in appreciating the intangible and meaningful aspects of life.\n",
            "\n",
            "Equally significant is the novella's emphasis on the importance of human connections. In an age dominated by digital communication and social media, genuine relationships can often be overshadowed by virtual interactions and superficial acquaintances. The Little Prince's journey underscores the idea that meaningful relationships require time, effort, and emotional investment. His bond with the fox, who teaches him that \"one sees clearly only with the heart,\" highlights the necessity of vulnerability and trust in forming deep connections. This message serves as a poignant reminder to prioritize and nurture our real-life relationships amidst the distractions of modern technology. Specific contemporary examples, such as the impact of social media on mental health and studies on the importance of face-to-face interactions, further illustrate this point.\n",
            "\n",
            "Moreover, \"The Little Prince\" advocates for the wisdom of seeing with the heart rather than relying solely on rationality and logic. The protagonist's encounters with various adult characters reveal the limitations of a purely rational worldview. Adults in the novella are often depicted as being obsessed with facts, figures, and practicality, losing sight of the beauty and wonder of life. In contrast, the Little Prince embodies a childlike sense of curiosity and imagination, valuing emotional truths over empirical data. This perspective encourages readers to embrace a more holistic approach to life, one that balances intellect with intuition and emotion. In real-life scenarios, such as the workplace or education, this dichotomy manifests in the prioritization of data and logic over emotional well-being and creativity, highlighting the need for a more balanced approach.\n",
            "\n",
            "In conclusion, \"The Little Prince\" remains a timeless and relevant work that continues to resonate with contemporary audiences. Its critique of materialism, advocacy for genuine human connections, and celebration of emotional wisdom offer valuable lessons for navigating the complexities of modern life. As we grapple with the challenges of an increasingly fast-paced and interconnected world, the enduring messages of \"The Little Prince\" remind us to seek deeper meaning and to cherish the simple, yet profound, aspects of existence. By applying the novella's lessons in our daily lives—fostering deeper relationships, valuing emotional intelligence, and rethinking materialistic pursuits—we can cultivate a more fulfilling and authentic existence.\n",
            "---\n",
            "================================\u001b[1m Human Message \u001b[0m=================================\n",
            "\n",
            "reflect\n",
            "**Critique and Recommendations for \"The Timeless Relevance of 'The Little Prince' in Modern Life\"**\n",
            "\n",
            "**Overall Impression:**\n",
            "Your revised essay is engaging and insightful, with a strong introduction and a clear thesis. You have effectively tied the themes of \"The Little Prince\" to contemporary issues, using relevant examples and quotes to support your points. However, there are still areas where you can deepen your analysis and refine the structure to enhance the overall impact of your essay.\n",
            "\n",
            "**Introduction:**\n",
            "Your introduction is compelling with the use of a quote, but it can be further strengthened by providing a more explicit thesis statement that outlines the specific themes you will discuss.\n",
            "\n",
            "**Recommendations:**\n",
            "1. **Thesis Statement:**\n",
            "   - **Clarity:** Make your thesis statement more explicit by clearly stating the themes you will explore: materialism, human connections, and emotional wisdom.\n",
            "   - **Example:** \"This essay explores the timeless relevance of 'The Little Prince,' focusing on its reflections on materialism, the importance of genuine human connections, and the wisdom of seeing with the heart.\"\n",
            "\n",
            "**Body Paragraphs:**\n",
            "Your body paragraphs are well-structured, but there is room for deeper analysis and more specific contemporary examples.\n",
            "\n",
            "**Recommendations:**\n",
            "1. **Materialism:**\n",
            "   - **Depth:** Expand on how the businessman's obsession with counting stars parallels specific modern-day behaviors. For instance, discuss the impact of consumer culture and the psychological effects of social media validation.\n",
            "   - **Examples:** Include contemporary examples such as the rise of influencer culture or the psychological impact of materialism on well-being.\n",
            "\n",
            "2. **Human Connections:**\n",
            "   - **Depth:** Explore the nature of the Little Prince's relationships, particularly his bond with the rose and the fox, in more detail. Discuss how these relationships contrast with the superficial nature of many online interactions.\n",
            "   - **Examples:** Use specific studies or statistics about the impact of social media on mental health and the importance of face-to-face interactions to illustrate your points.\n",
            "\n",
            "3. **Emotional Wisdom:**\n",
            "   - **Depth:** Analyze the contrast between the rationality of adults and the emotional intelligence of the Little Prince. Discuss how this dichotomy is evident in modern education systems or corporate environments.\n",
            "   - **Examples:** Provide examples of how modern society often prioritizes data and logic over emotional well-being and creativity. Cite relevant psychological or sociological studies to support your argument.\n",
            "\n",
            "**Conclusion:**\n",
            "Your conclusion effectively summarizes the main points, but it could be more impactful by providing a stronger call to action.\n",
            "\n",
            "**Recommendations:**\n",
            "1. **Restate Thesis:** Reinforce your thesis in a fresh way, reflecting on the broader implications of the novella’s lessons for contemporary life.\n",
            "2. **Call to Action:** Encourage readers to apply the lessons of \"The Little Prince\" in their daily lives. This could involve specific actions like reducing screen time, fostering deeper relationships, or engaging in activities that nurture emotional intelligence.\n",
            "3. **Closing Thought:** End with a thought-provoking statement or question that leaves the reader contemplating the timeless wisdom of the novella.\n",
            "\n",
            "**Style and Clarity:**\n",
            "Your writing is clear and articulate, but varying sentence structure and incorporating more vivid language could enhance readability and engagement.\n",
            "\n",
            "**Recommendations:**\n",
            "1. **Sentence Variety:** Mix short, impactful sentences with longer, more complex ones to maintain reader interest.\n",
            "2. **Vivid Language:** Use more descriptive language and literary devices to bring your analysis to life. For example, instead of saying \"the novella challenges readers,\" you could say \"the novella provocatively challenges readers.\"\n",
            "\n",
            "**Length and Depth:**\n",
            "Your essay is of appropriate length, but adding more depth to your analysis and examples will strengthen your argument.\n",
            "\n",
            "**Recommendations:**\n",
            "1. **Depth:** Aim for a deeper exploration of each theme. Spend more time analyzing specific passages from the novella and drawing parallels to modern life.\n",
            "2. **Examples:** Incorporate more concrete examples and possibly even counterarguments to show the complexity of the themes you discuss.\n",
            "\n",
            "**Final Thoughts:**\n",
            "Your essay is a thoughtful and well-constructed analysis of \"The Little Prince\" and its relevance today. By incorporating these recommendations, you can enhance the depth, clarity, and impact of your writing, making your argument even more compelling and resonant. Keep refining your analysis and examples to ensure that each point is fully developed and supported.\n",
            "---\n",
            "================================\u001b[1m Human Message \u001b[0m=================================\n",
            "\n",
            "generate\n",
            "**The Timeless Relevance of \"The Little Prince\" in Modern Life**\n",
            "\n",
            "\"One sees clearly only with the heart. What is essential is invisible to the eye.\" This evocative quote from Antoine de Saint-Exupéry's \"The Little Prince\" encapsulates the novella's enduring wisdom. Written in 1943, \"The Little Prince\" continues to resonate with readers across generations, offering profound insights into human nature, relationships, and the essence of life. In our fast-paced, consumer-driven world, the themes and messages embedded within this literary gem remain remarkably relevant. This essay explores the timeless relevance of \"The Little Prince,\" focusing on its reflections on materialism, the importance of genuine human connections, and the wisdom of seeing with the heart.\n",
            "\n",
            "In today's society, where material wealth and status symbols often dominate, the critique of materialism presented in \"The Little Prince\" is more pertinent than ever. The story introduces characters like the businessman, who spends his days counting stars, believing that owning them will make him rich. This obsession with possession and quantification mirrors modern behaviors such as the pursuit of social media likes or the accumulation of luxury goods. The novella challenges readers to reconsider their values, urging them to recognize that true fulfillment lies not in accumulating possessions but in appreciating the intangible and meaningful aspects of life. For instance, the rise of influencer culture and the psychological effects of social media validation highlight the emptiness that often accompanies materialistic pursuits.\n",
            "\n",
            "Equally significant is the novella's emphasis on the importance of human connections. In an age dominated by digital communication and social media, genuine relationships can often be overshadowed by virtual interactions and superficial acquaintances. The Little Prince's journey underscores the idea that meaningful relationships require time, effort, and emotional investment. His bond with the fox, who teaches him that \"one sees clearly only with the heart,\" highlights the necessity of vulnerability and trust in forming deep connections. This message serves as a poignant reminder to prioritize and nurture our real-life relationships amidst the distractions of modern technology. Specific contemporary examples, such as the impact of social media on mental health and studies on the importance of face-to-face interactions, further illustrate this point. Research indicates that while social media can connect us, it can also lead to feelings of isolation and loneliness, underscoring the need for genuine, in-person connections.\n",
            "\n",
            "Moreover, \"The Little Prince\" advocates for the wisdom of seeing with the heart rather than relying solely on rationality and logic. The protagonist's encounters with various adult characters reveal the limitations of a purely rational worldview. Adults in the novella are often depicted as being obsessed with facts, figures, and practicality, losing sight of the beauty and wonder of life. In contrast, the Little Prince embodies a childlike sense of curiosity and imagination, valuing emotional truths over empirical data. This perspective encourages readers to embrace a more holistic approach to life, one that balances intellect with intuition and emotion. In real-life scenarios, such as the workplace or education, this dichotomy manifests in the prioritization of data and logic over emotional well-being and creativity, highlighting the need for a more balanced approach. For example, modern education systems often emphasize standardized testing and measurable outcomes, sometimes at the expense of fostering creativity and emotional intelligence.\n",
            "\n",
            "In conclusion, \"The Little Prince\" remains a timeless and relevant work that continues to resonate with contemporary audiences. Its critique of materialism, advocacy for genuine human connections, and celebration of emotional wisdom offer valuable lessons for navigating the complexities of modern life. As we grapple with the challenges of an increasingly fast-paced and interconnected world, the enduring messages of \"The Little Prince\" remind us to seek deeper meaning and to cherish the simple, yet profound, aspects of existence. By applying the novella's lessons in our daily lives—reducing screen time, fostering deeper relationships, and engaging in activities that nurture emotional intelligence—we can cultivate a more fulfilling and authentic existence. Ultimately, \"The Little Prince\" challenges us to see with our hearts and to recognize the invisible, yet essential, truths that make life truly meaningful.\n",
            "---\n",
            "================================\u001b[1m Human Message \u001b[0m=================================\n",
            "\n",
            "reflect\n",
            "**The Timeless Relevance of \"The Little Prince\" in Modern Life**\n",
            "\n",
            "\"One sees clearly only with the heart. What is essential is invisible to the eye.\" This evocative quote from Antoine de Saint-Exupéry's \"The Little Prince\" encapsulates the novella's enduring wisdom. Written in 1943, \"The Little Prince\" continues to resonate with readers across generations, offering profound insights into human nature, relationships, and the essence of life. In our fast-paced, consumer-driven world, the themes and messages embedded within this literary gem remain remarkably relevant. This essay explores the timeless relevance of \"The Little Prince,\" focusing on its reflections on materialism, the importance of genuine human connections, and the wisdom of seeing with the heart.\n",
            "\n",
            "In today's society, where material wealth and status symbols often dominate, the critique of materialism presented in \"The Little Prince\" is more pertinent than ever. The story introduces characters like the businessman, who spends his days counting stars, believing that owning them will make him rich. This obsession with possession and quantification mirrors modern behaviors such as the pursuit of social media likes or the accumulation of luxury goods. The novella challenges readers to reconsider their values, urging them to recognize that true fulfillment lies not in accumulating possessions but in appreciating the intangible and meaningful aspects of life. For instance, the rise of influencer culture and the psychological effects of social media validation highlight the emptiness that often accompanies materialistic pursuits.\n",
            "\n",
            "Equally significant is the novella's emphasis on the importance of human connections. In an age dominated by digital communication and social media, genuine relationships can often be overshadowed by virtual interactions and superficial acquaintances. The Little Prince's journey underscores the idea that meaningful relationships require time, effort, and emotional investment. His bond with the fox, who teaches him that \"one sees clearly only with the heart,\" highlights the necessity of vulnerability and trust in forming deep connections. This message serves as a poignant reminder to prioritize and nurture our real-life relationships amidst the distractions of modern technology. Specific contemporary examples, such as the impact of social media on mental health and studies on the importance of face-to-face interactions, further illustrate this point. Research indicates that while social media can connect us, it can also lead to feelings of isolation and loneliness, underscoring the need for genuine, in-person connections.\n",
            "\n",
            "Moreover, \"The Little Prince\" advocates for the wisdom of seeing with the heart rather than relying solely on rationality and logic. The protagonist's encounters with various adult characters reveal the limitations of a purely rational worldview. Adults in the novella are often depicted as being obsessed with facts, figures, and practicality, losing sight of the beauty and wonder of life. In contrast, the Little Prince embodies a childlike sense of curiosity and imagination, valuing emotional truths over empirical data. This perspective encourages readers to embrace a more holistic approach to life, one that balances intellect with intuition and emotion. In real-life scenarios, such as the workplace or education, this dichotomy manifests in the prioritization of data and logic over emotional well-being and creativity, highlighting the need for a more balanced approach. For example, modern education systems often emphasize standardized testing and measurable outcomes, sometimes at the expense of fostering creativity and emotional intelligence.\n",
            "\n",
            "In conclusion, \"The Little Prince\" remains a timeless and relevant work that continues to resonate with contemporary audiences. Its critique of materialism, advocacy for genuine human connections, and celebration of emotional wisdom offer valuable lessons for navigating the complexities of modern life. As we grapple with the challenges of an increasingly fast-paced and interconnected world, the enduring messages of \"The Little Prince\" remind us to seek deeper meaning and to cherish the simple, yet profound, aspects of existence. By applying the novella's lessons in our daily lives—reducing screen time, fostering deeper relationships, and engaging in activities that nurture emotional intelligence—we can cultivate a more fulfilling and authentic existence. Ultimately, \"The Little Prince\" challenges us to see with our hearts and to recognize the invisible, yet essential, truths that make life truly meaningful.\n",
            "\n",
            "---\n",
            "\n",
            "**Critique and Recommendations:**\n",
            "\n",
            "**Overall Impression:**\n",
            "Your essay is insightful and well-structured, with a clear and compelling argument. You have effectively tied the themes of \"The Little Prince\" to contemporary issues, using relevant examples and quotes to support your points. The essay is engaging and thoughtful, but there are still areas where you could enhance depth and clarity.\n",
            "\n",
            "**Introduction:**\n",
            "Your introduction is strong, with a compelling quote and a clear thesis statement. It sets the stage well for the rest of the essay.\n",
            "\n",
            "**Body Paragraphs:**\n",
            "Your body paragraphs are well-organized and provide a good balance of analysis and examples. However, you can deepen your analysis by incorporating more specific examples and exploring counterarguments.\n",
            "\n",
            "**Recommendations:**\n",
            "1. **Materialism:**\n",
            "   - **Depth:** Expand on the psychological effects of materialism. Discuss specific studies or theories that explain why materialistic pursuits often lead to dissatisfaction.\n",
            "   - **Examples:** Include more concrete examples, such as the impact of consumer culture on mental health or specific instances of social media influencers who have spoken about the emptiness of their pursuits.\n",
            "\n",
            "2. **Human Connections:**\n",
            "   - **Depth:** Explore the nuances of digital communication and its impact on relationships. Discuss how virtual interactions can both help and hinder genuine connections.\n",
            "   - **Examples:** Provide more specific studies or statistics about the impact of social media on mental health and the importance of face-to-face interactions. Mention specific platforms or trends that illustrate your points.\n",
            "\n",
            "3. **Emotional Wisdom:**\n",
            "   - **Depth:** Analyze the limitations of a purely rational worldview in more detail. Discuss specific examples from the novella that highlight this theme.\n",
            "   - **Examples:** Provide examples of how modern education systems or workplaces are beginning to recognize the importance of emotional intelligence and creativity. Cite relevant psychological or sociological studies to support your argument.\n",
            "\n",
            "**Conclusion:**\n",
            "Your conclusion effectively summarizes the main points and provides a strong call to action. However, you could make it more impactful by reinforcing the broader implications of the novella’s lessons for contemporary life.\n",
            "\n",
            "**Recommendations:**\n",
            "1. **Restate Thesis:** Reinforce your thesis in a fresh way, reflecting on the broader implications of the novella’s lessons for contemporary life.\n",
            "2. **Call to Action:** Encourage readers to apply the lessons of \"The Little Prince\" in their daily lives. This could involve specific actions like reducing screen time, fostering deeper relationships, or engaging in activities that nurture emotional intelligence.\n",
            "3. **Closing Thought:** End with a thought-provoking statement or question that leaves the reader contemplating the timeless wisdom of the novella.\n",
            "\n",
            "**Style and Clarity:**\n",
            "Your writing is clear and articulate, but varying sentence structure and incorporating more vivid language could enhance readability and engagement.\n",
            "\n",
            "**Recommendations:**\n",
            "1. **Sentence Variety:** Mix short, impactful sentences with longer, more complex ones to maintain reader interest.\n",
            "2. **Vivid Language:** Use more descriptive language and literary devices to bring your analysis to life. For example, instead of saying \"the novella challenges readers,\" you could say \"the novella provocatively challenges readers.\"\n",
            "\n",
            "**Length and Depth:**\n",
            "Your essay is of appropriate length, but adding more depth to your analysis and examples will strengthen your argument.\n",
            "\n",
            "**Recommendations:**\n",
            "1. **Depth:** Aim for a deeper exploration of each theme. Spend more time analyzing specific passages from the novella and drawing parallels to modern life.\n",
            "2. **Examples:** Incorporate more concrete examples and possibly even counterarguments to show the complexity of the themes you discuss.\n",
            "\n",
            "**Final Thoughts:**\n",
            "Your essay is a thoughtful and well-constructed analysis of \"The Little Prince\" and its relevance today. By incorporating these recommendations, you can enhance the depth, clarity, and impact of your writing, making your argument even more compelling and resonant. Keep refining your analysis and examples to ensure that each point is fully developed and supported.\n",
            "---\n",
            "================================\u001b[1m Human Message \u001b[0m=================================\n",
            "\n",
            "generate\n",
            "**The Timeless Relevance of \"The Little Prince\" in Modern Life**\n",
            "\n",
            "\"One sees clearly only with the heart. What is essential is invisible to the eye.\" This evocative quote from Antoine de Saint-Exupéry's \"The Little Prince\" encapsulates the novella's enduring wisdom. Written in 1943, \"The Little Prince\" continues to resonate with readers across generations, offering profound insights into human nature, relationships, and the essence of life. In our fast-paced, consumer-driven world, the themes and messages embedded within this literary gem remain remarkably relevant. This essay explores the timeless relevance of \"The Little Prince,\" focusing on its reflections on materialism, the importance of genuine human connections, and the wisdom of seeing with the heart.\n",
            "\n",
            "In today's society, where material wealth and status symbols often dominate, the critique of materialism presented in \"The Little Prince\" is more pertinent than ever. The story introduces characters like the businessman, who spends his days counting stars, believing that owning them will make him rich. This obsession with possession and quantification mirrors modern behaviors such as the pursuit of social media likes or the accumulation of luxury goods. The novella challenges readers to reconsider their values, urging them to recognize that true fulfillment lies not in accumulating possessions but in appreciating the intangible and meaningful aspects of life. For instance, the rise of influencer culture and the psychological effects of social media validation highlight the emptiness that often accompanies materialistic pursuits. Studies have shown that materialism is linked to lower well-being and higher levels of anxiety and depression, underlining the novella's message that material wealth cannot substitute for genuine happiness.\n",
            "\n",
            "Equally significant is the novella's emphasis on the importance of human connections. In an age dominated by digital communication and social media, genuine relationships can often be overshadowed by virtual interactions and superficial acquaintances. The Little Prince's journey underscores the idea that meaningful relationships require time, effort, and emotional investment. His bond with the fox, who teaches him that \"one sees clearly only with the heart,\" highlights the necessity of vulnerability and trust in forming deep connections. This message serves as a poignant reminder to prioritize and nurture our real-life relationships amidst the distractions of modern technology. Specific contemporary examples, such as the impact of social media on mental health and studies on the importance of face-to-face interactions, further illustrate this point. Research indicates that while social media can connect us, it can also lead to feelings of isolation and loneliness, underscoring the need for genuine, in-person connections. For example, a study by the American Journal of Health Promotion found that face-to-face interactions are more effective in reducing feelings of loneliness compared to digital communication.\n",
            "\n",
            "Moreover, \"The Little Prince\" advocates for the wisdom of seeing with the heart rather than relying solely on rationality and logic. The protagonist's encounters with various adult characters reveal the limitations of a purely rational worldview. Adults in the novella are often depicted as being obsessed with facts, figures, and practicality, losing sight of the beauty and wonder of life. In contrast, the Little Prince embodies a childlike sense of curiosity and imagination, valuing emotional truths over empirical data. This perspective encourages readers to embrace a more holistic approach to life, one that balances intellect with intuition and emotion. In real-life scenarios, such as the workplace or education, this dichotomy manifests in the prioritization of data and logic over emotional well-being and creativity, highlighting the need for a more balanced approach. For example, modern education systems often emphasize standardized testing and measurable outcomes, sometimes at the expense of fostering creativity and emotional intelligence. However, there is a growing recognition of the importance of emotional intelligence in both education and the workplace, with studies showing that emotional intelligence can significantly enhance personal and professional success.\n",
            "\n",
            "In conclusion, \"The Little Prince\" remains a timeless and relevant work that continues to resonate with contemporary audiences. Its critique of materialism, advocacy for genuine human connections, and celebration of emotional wisdom offer valuable lessons for navigating the complexities of modern life. As we grapple with the challenges of an increasingly fast-paced and interconnected world, the enduring messages of \"The Little Prince\" remind us to seek deeper meaning and to cherish the simple, yet profound, aspects of existence. By applying the novella's lessons in our daily lives—reducing screen time, fostering deeper relationships, and engaging in activities that nurture emotional intelligence—we can cultivate a more fulfilling and authentic existence. Ultimately, \"The Little Prince\" challenges us to see with our hearts and to recognize the invisible, yet essential, truths that make life truly meaningful. \n",
            "\n",
            "The enduring wisdom of \"The Little Prince\" serves as a beacon, guiding us to a more introspective and heartfelt way of living. It calls us to question our material pursuits, to value and invest in genuine human connections, and to balance rationality with emotional insight. As we navigate the complexities of modern life, let us remember the timeless lessons of this beloved novella and strive to see the world through the eyes of the Little Prince, with wonder, empathy, and love.\n",
            "---\n"
          ]
        }
      ],
      "source": [
        "async for event in graph.astream(\n",
        "    [\n",
        "        HumanMessage(\n",
        "            content=\"Generate an essay on the topicality of The Little Prince and its message in modern life\"\n",
        "        )\n",
        "    ],\n",
        "):\n",
        "    ChatPromptTemplate.from_messages(event).pretty_print()\n",
        "    print(list(event.values())[0].content)\n",
        "    print(\"---\")"
      ]
    },
    {
      "cell_type": "code",
      "source": [
        "list(event.values())[0].content"
      ],
      "metadata": {
        "id": "WtJ2t_44LQUf",
        "outputId": "0a9f2125-70ef-4f30-b463-849be38c6382",
        "colab": {
          "base_uri": "https://localhost:8080/",
          "height": 174
        }
      },
      "id": "WtJ2t_44LQUf",
      "execution_count": null,
      "outputs": [
        {
          "output_type": "execute_result",
          "data": {
            "text/plain": [
              "'**The Timeless Relevance of \"The Little Prince\" in Modern Life**\\n\\n\"One sees clearly only with the heart. What is essential is invisible to the eye.\" This evocative quote from Antoine de Saint-Exupéry\\'s \"The Little Prince\" encapsulates the novella\\'s enduring wisdom. Written in 1943, \"The Little Prince\" continues to resonate with readers across generations, offering profound insights into human nature, relationships, and the essence of life. In our fast-paced, consumer-driven world, the themes and messages embedded within this literary gem remain remarkably relevant. This essay explores the timeless relevance of \"The Little Prince,\" focusing on its reflections on materialism, the importance of genuine human connections, and the wisdom of seeing with the heart.\\n\\nIn today\\'s society, where material wealth and status symbols often dominate, the critique of materialism presented in \"The Little Prince\" is more pertinent than ever. The story introduces characters like the businessman, who spends his days counting stars, believing that owning them will make him rich. This obsession with possession and quantification mirrors modern behaviors such as the pursuit of social media likes or the accumulation of luxury goods. The novella challenges readers to reconsider their values, urging them to recognize that true fulfillment lies not in accumulating possessions but in appreciating the intangible and meaningful aspects of life. For instance, the rise of influencer culture and the psychological effects of social media validation highlight the emptiness that often accompanies materialistic pursuits. Studies have shown that materialism is linked to lower well-being and higher levels of anxiety and depression, underlining the novella\\'s message that material wealth cannot substitute for genuine happiness.\\n\\nEqually significant is the novella\\'s emphasis on the importance of human connections. In an age dominated by digital communication and social media, genuine relationships can often be overshadowed by virtual interactions and superficial acquaintances. The Little Prince\\'s journey underscores the idea that meaningful relationships require time, effort, and emotional investment. His bond with the fox, who teaches him that \"one sees clearly only with the heart,\" highlights the necessity of vulnerability and trust in forming deep connections. This message serves as a poignant reminder to prioritize and nurture our real-life relationships amidst the distractions of modern technology. Specific contemporary examples, such as the impact of social media on mental health and studies on the importance of face-to-face interactions, further illustrate this point. Research indicates that while social media can connect us, it can also lead to feelings of isolation and loneliness, underscoring the need for genuine, in-person connections. For example, a study by the American Journal of Health Promotion found that face-to-face interactions are more effective in reducing feelings of loneliness compared to digital communication.\\n\\nMoreover, \"The Little Prince\" advocates for the wisdom of seeing with the heart rather than relying solely on rationality and logic. The protagonist\\'s encounters with various adult characters reveal the limitations of a purely rational worldview. Adults in the novella are often depicted as being obsessed with facts, figures, and practicality, losing sight of the beauty and wonder of life. In contrast, the Little Prince embodies a childlike sense of curiosity and imagination, valuing emotional truths over empirical data. This perspective encourages readers to embrace a more holistic approach to life, one that balances intellect with intuition and emotion. In real-life scenarios, such as the workplace or education, this dichotomy manifests in the prioritization of data and logic over emotional well-being and creativity, highlighting the need for a more balanced approach. For example, modern education systems often emphasize standardized testing and measurable outcomes, sometimes at the expense of fostering creativity and emotional intelligence. However, there is a growing recognition of the importance of emotional intelligence in both education and the workplace, with studies showing that emotional intelligence can significantly enhance personal and professional success.\\n\\nIn conclusion, \"The Little Prince\" remains a timeless and relevant work that continues to resonate with contemporary audiences. Its critique of materialism, advocacy for genuine human connections, and celebration of emotional wisdom offer valuable lessons for navigating the complexities of modern life. As we grapple with the challenges of an increasingly fast-paced and interconnected world, the enduring messages of \"The Little Prince\" remind us to seek deeper meaning and to cherish the simple, yet profound, aspects of existence. By applying the novella\\'s lessons in our daily lives—reducing screen time, fostering deeper relationships, and engaging in activities that nurture emotional intelligence—we can cultivate a more fulfilling and authentic existence. Ultimately, \"The Little Prince\" challenges us to see with our hearts and to recognize the invisible, yet essential, truths that make life truly meaningful. \\n\\nThe enduring wisdom of \"The Little Prince\" serves as a beacon, guiding us to a more introspective and heartfelt way of living. It calls us to question our material pursuits, to value and invest in genuine human connections, and to balance rationality with emotional insight. As we navigate the complexities of modern life, let us remember the timeless lessons of this beloved novella and strive to see the world through the eyes of the Little Prince, with wonder, empathy, and love.'"
            ],
            "application/vnd.google.colaboratory.intrinsic+json": {
              "type": "string"
            }
          },
          "metadata": {},
          "execution_count": 14
        }
      ]
    },
    {
      "cell_type": "markdown",
      "id": "0fa62df2-e8ee-40dd-ac95-9d982eae6079",
      "metadata": {
        "id": "0fa62df2-e8ee-40dd-ac95-9d982eae6079"
      },
      "source": [
        "## Conclusion\n",
        "\n",
        "Now that you've applied reflection to an LLM agent, I'll note one thing: self-reflection is inherently cyclic: it is much more effective if the reflection step has additional context or feedback (from tool observations, checks, etc.). If, like in the scenario above, the reflection step simply prompts the LLM to reflect on its output, it can still benefit the output quality (since the LLM then has multiple \"shots\" at getting a good output), but it's less guaranteed.\n"
      ]
    },
    {
      "cell_type": "code",
      "execution_count": null,
      "id": "7c0e3efd-7f54-410e-bd31-36185a46b9a8",
      "metadata": {
        "id": "7c0e3efd-7f54-410e-bd31-36185a46b9a8"
      },
      "outputs": [],
      "source": []
    }
  ],
  "metadata": {
    "kernelspec": {
      "display_name": "Python 3 (ipykernel)",
      "language": "python",
      "name": "python3"
    },
    "language_info": {
      "codemirror_mode": {
        "name": "ipython",
        "version": 3
      },
      "file_extension": ".py",
      "mimetype": "text/x-python",
      "name": "python",
      "nbconvert_exporter": "python",
      "pygments_lexer": "ipython3",
      "version": "3.11.2"
    },
    "colab": {
      "provenance": [],
      "include_colab_link": true
    }
  },
  "nbformat": 4,
  "nbformat_minor": 5
}
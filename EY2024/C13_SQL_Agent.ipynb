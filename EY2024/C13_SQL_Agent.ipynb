{
  "cells": [
    {
      "cell_type": "markdown",
      "metadata": {
        "id": "view-in-github",
        "colab_type": "text"
      },
      "source": [
        "<a href=\"https://colab.research.google.com/github/anshupandey/Generative-AI-for-Professionals/blob/main/EY2024/C13_SQL_Agent.ipynb\" target=\"_parent\"><img src=\"https://colab.research.google.com/assets/colab-badge.svg\" alt=\"Open In Colab\"/></a>"
      ]
    },
    {
      "cell_type": "markdown",
      "metadata": {
        "id": "jQUfh4Aqtf5E"
      },
      "source": [
        "# Understanding LangChain Agents and Chains"
      ]
    },
    {
      "cell_type": "code",
      "execution_count": 1,
      "metadata": {
        "colab": {
          "base_uri": "https://localhost:8080/"
        },
        "id": "jLDTOetMVUxG",
        "outputId": "a83c1f40-ff3a-4cc2-9411-7144014dcfc2"
      },
      "outputs": [
        {
          "output_type": "stream",
          "name": "stdout",
          "text": [
            "\u001b[2K     \u001b[90m━━━━━━━━━━━━━━━━━━━━━━━━━━━━━━━━━━━━━━━━\u001b[0m \u001b[32m50.4/50.4 kB\u001b[0m \u001b[31m1.4 MB/s\u001b[0m eta \u001b[36m0:00:00\u001b[0m\n",
            "\u001b[2K   \u001b[90m━━━━━━━━━━━━━━━━━━━━━━━━━━━━━━━━━━━━━━━━\u001b[0m \u001b[32m51.5/51.5 kB\u001b[0m \u001b[31m3.0 MB/s\u001b[0m eta \u001b[36m0:00:00\u001b[0m\n",
            "\u001b[2K   \u001b[90m━━━━━━━━━━━━━━━━━━━━━━━━━━━━━━━━━━━━━━━━\u001b[0m \u001b[32m1.0/1.0 MB\u001b[0m \u001b[31m33.0 MB/s\u001b[0m eta \u001b[36m0:00:00\u001b[0m\n",
            "\u001b[2K   \u001b[90m━━━━━━━━━━━━━━━━━━━━━━━━━━━━━━━━━━━━━━━━\u001b[0m \u001b[32m405.1/405.1 kB\u001b[0m \u001b[31m20.2 MB/s\u001b[0m eta \u001b[36m0:00:00\u001b[0m\n",
            "\u001b[2K   \u001b[90m━━━━━━━━━━━━━━━━━━━━━━━━━━━━━━━━━━━━━━━━\u001b[0m \u001b[32m2.3/2.3 MB\u001b[0m \u001b[31m61.6 MB/s\u001b[0m eta \u001b[36m0:00:00\u001b[0m\n",
            "\u001b[2K   \u001b[90m━━━━━━━━━━━━━━━━━━━━━━━━━━━━━━━━━━━━━━━━\u001b[0m \u001b[32m289.9/289.9 kB\u001b[0m \u001b[31m13.1 MB/s\u001b[0m eta \u001b[36m0:00:00\u001b[0m\n",
            "\u001b[2K   \u001b[90m━━━━━━━━━━━━━━━━━━━━━━━━━━━━━━━━━━━━━━━━\u001b[0m \u001b[32m375.0/375.0 kB\u001b[0m \u001b[31m20.1 MB/s\u001b[0m eta \u001b[36m0:00:00\u001b[0m\n",
            "\u001b[2K   \u001b[90m━━━━━━━━━━━━━━━━━━━━━━━━━━━━━━━━━━━━━━━━\u001b[0m \u001b[32m1.1/1.1 MB\u001b[0m \u001b[31m34.4 MB/s\u001b[0m eta \u001b[36m0:00:00\u001b[0m\n",
            "\u001b[2K   \u001b[90m━━━━━━━━━━━━━━━━━━━━━━━━━━━━━━━━━━━━━━━━\u001b[0m \u001b[32m76.4/76.4 kB\u001b[0m \u001b[31m3.6 MB/s\u001b[0m eta \u001b[36m0:00:00\u001b[0m\n",
            "\u001b[2K   \u001b[90m━━━━━━━━━━━━━━━━━━━━━━━━━━━━━━━━━━━━━━━━\u001b[0m \u001b[32m77.9/77.9 kB\u001b[0m \u001b[31m3.9 MB/s\u001b[0m eta \u001b[36m0:00:00\u001b[0m\n",
            "\u001b[2K   \u001b[90m━━━━━━━━━━━━━━━━━━━━━━━━━━━━━━━━━━━━━━━━\u001b[0m \u001b[32m318.9/318.9 kB\u001b[0m \u001b[31m16.8 MB/s\u001b[0m eta \u001b[36m0:00:00\u001b[0m\n",
            "\u001b[2K   \u001b[90m━━━━━━━━━━━━━━━━━━━━━━━━━━━━━━━━━━━━━━━━\u001b[0m \u001b[32m49.3/49.3 kB\u001b[0m \u001b[31m3.1 MB/s\u001b[0m eta \u001b[36m0:00:00\u001b[0m\n",
            "\u001b[2K   \u001b[90m━━━━━━━━━━━━━━━━━━━━━━━━━━━━━━━━━━━━━━━━\u001b[0m \u001b[32m141.9/141.9 kB\u001b[0m \u001b[31m9.8 MB/s\u001b[0m eta \u001b[36m0:00:00\u001b[0m\n",
            "\u001b[2K   \u001b[90m━━━━━━━━━━━━━━━━━━━━━━━━━━━━━━━━━━━━━━━━\u001b[0m \u001b[32m58.3/58.3 kB\u001b[0m \u001b[31m3.7 MB/s\u001b[0m eta \u001b[36m0:00:00\u001b[0m\n",
            "\u001b[2K   \u001b[90m━━━━━━━━━━━━━━━━━━━━━━━━━━━━━━━━━━━━━━━━\u001b[0m \u001b[32m206.9/206.9 kB\u001b[0m \u001b[31m9.5 MB/s\u001b[0m eta \u001b[36m0:00:00\u001b[0m\n",
            "\u001b[?25h  Preparing metadata (setup.py) ... \u001b[?25l\u001b[?25hdone\n",
            "  Preparing metadata (setup.py) ... \u001b[?25l\u001b[?25hdone\n",
            "\u001b[2K   \u001b[90m━━━━━━━━━━━━━━━━━━━━━━━━━━━━━━━━━━━━━━━━\u001b[0m \u001b[32m4.5/4.5 MB\u001b[0m \u001b[31m51.5 MB/s\u001b[0m eta \u001b[36m0:00:00\u001b[0m\n",
            "\u001b[?25h  Building wheel for google-search-results (setup.py) ... \u001b[?25l\u001b[?25hdone\n",
            "  Building wheel for wikipedia (setup.py) ... \u001b[?25l\u001b[?25hdone\n"
          ]
        }
      ],
      "source": [
        "# Installing necessary libraries\n",
        "!pip install langchain-openai langchain langchain-core langchain-community --quiet\n",
        "!pip install httpx langchain-experimental ace_tools langgraph --quiet\n",
        "!pip install openai google-search-results tiktoken wikipedia pyowm --quiet"
      ]
    },
    {
      "cell_type": "code",
      "source": [
        "!wget -q https://raw.githubusercontent.com/anshupandey/Generative-AI-and-Prompt-Engineering/main/chinook_database.zip\n",
        "!unzip -o -q chinook_database.zip"
      ],
      "metadata": {
        "id": "Jr7TpuxMFvQM"
      },
      "execution_count": 9,
      "outputs": []
    },
    {
      "cell_type": "markdown",
      "metadata": {
        "id": "RA32XR5ZL6Fk"
      },
      "source": [
        "# Chains with LangChain"
      ]
    },
    {
      "cell_type": "code",
      "execution_count": 7,
      "metadata": {
        "id": "6mq5LPw6LlLM"
      },
      "outputs": [],
      "source": [
        "api_key = \"62d77bb382974118aec75d84d274bb72\"\n",
        "api_version = \"2024-02-01\" # \"2023-05-15\"\n",
        "azure_endpoint = \"https://eygpt24.openai.azure.com/\"\n",
        "model_name = \"gpt-4o\""
      ]
    },
    {
      "cell_type": "code",
      "execution_count": 8,
      "metadata": {
        "id": "zXTTa9eAP8UF"
      },
      "outputs": [],
      "source": [
        "import os\n",
        "os.environ[\"OPENAI_API_VERSION\"] = api_version\n",
        "os.environ[\"AZURE_OPENAI_ENDPOINT\"] = azure_endpoint\n",
        "os.environ[\"AZURE_OPENAI_API_KEY\"] = api_key\n",
        "os.environ[\"OPENWEATHERMAP_API_KEY\"] = \"29af1cea50a401d8e624eea4660b3f59\"\n",
        "os.environ[\"AZURE_OPENAI_API_VERSION\"] = api_version"
      ]
    },
    {
      "cell_type": "markdown",
      "metadata": {
        "id": "YKEIP6bSAStT"
      },
      "source": [
        "## Implementing a database Integration Chain"
      ]
    },
    {
      "cell_type": "code",
      "execution_count": 9,
      "metadata": {
        "id": "0Sm9vHksAStT"
      },
      "outputs": [],
      "source": [
        "from langchain_openai import AzureChatOpenAI\n",
        "from langchain.utilities import SQLDatabase\n",
        "from langchain.chains import create_sql_query_chain\n",
        "\n",
        "\n",
        "db = SQLDatabase.from_uri(\"sqlite:///chinook.db\")\n",
        "llm = AzureChatOpenAI(azure_deployment=model_name,temperature=0)\n",
        "db_chain = create_sql_query_chain(llm, db)"
      ]
    },
    {
      "cell_type": "markdown",
      "metadata": {
        "id": "fpcqKu8EAStT"
      },
      "source": [
        "- Approach 1: input + prompt emplate (DB Schema) --> LLM ---> (outputs query)---> tool (DB tool to execute query) ---> LLM ---> Final Response\n",
        "\n",
        "- Approach 2: input + user cred --> F0 ---> Fetch the DB schema based on accessible tables ---> Prompt template + DB schema ----> LLM ---> (outputs query)---> tool (DB tool to execute query) ---> LLM ---> Final Response"
      ]
    },
    {
      "cell_type": "code",
      "execution_count": 10,
      "metadata": {
        "id": "MqL7CV-nAStT",
        "outputId": "07fd054f-2375-4318-f778-8747fbe44d79",
        "colab": {
          "base_uri": "https://localhost:8080/",
          "height": 52
        }
      },
      "outputs": [
        {
          "output_type": "execute_result",
          "data": {
            "text/plain": [
              "\"[('albums',), ('sqlite_sequence',), ('artists',), ('customers',), ('employees',), ('genres',), ('invoices',), ('invoice_items',), ('media_types',), ('playlists',), ('playlist_track',), ('tracks',), ('sqlite_stat1',)]\""
            ],
            "application/vnd.google.colaboratory.intrinsic+json": {
              "type": "string"
            }
          },
          "metadata": {},
          "execution_count": 10
        }
      ],
      "source": [
        "db.run(\"\"\"SELECT \"name\" FROM sqlite_master WHERE \"type\"='table';\"\"\")"
      ]
    },
    {
      "cell_type": "code",
      "execution_count": 11,
      "metadata": {
        "id": "55CZwXOXAStU",
        "outputId": "a85f91a1-2a44-49cb-baf8-ab07e695b9fc",
        "colab": {
          "base_uri": "https://localhost:8080/"
        }
      },
      "outputs": [
        {
          "output_type": "stream",
          "name": "stdout",
          "text": [
            "Question: What are tables available in the database?\n",
            "SQLQuery: \n",
            "```sql\n",
            "SELECT name \n",
            "FROM sqlite_master \n",
            "WHERE type='table';\n",
            "```\n"
          ]
        }
      ],
      "source": [
        "response = db_chain.invoke({\"question\":\"What are tables in availabe in the database?\"})\n",
        "print(response)"
      ]
    },
    {
      "cell_type": "code",
      "execution_count": 12,
      "metadata": {
        "id": "PuWCo5JeAStU",
        "outputId": "280fd24b-f698-42f8-f869-9ec253207a5a",
        "colab": {
          "base_uri": "https://localhost:8080/",
          "height": 70
        }
      },
      "outputs": [
        {
          "output_type": "stream",
          "name": "stdout",
          "text": [
            " SELECT name  FROM sqlite_master  WHERE type='table'; \n"
          ]
        },
        {
          "output_type": "execute_result",
          "data": {
            "text/plain": [
              "\"[('albums',), ('sqlite_sequence',), ('artists',), ('customers',), ('employees',), ('genres',), ('invoices',), ('invoice_items',), ('media_types',), ('playlists',), ('playlist_track',), ('tracks',), ('sqlite_stat1',)]\""
            ],
            "application/vnd.google.colaboratory.intrinsic+json": {
              "type": "string"
            }
          },
          "metadata": {},
          "execution_count": 12
        }
      ],
      "source": [
        "from langchain_community.tools.sql_database.tool import QuerySQLDataBaseTool\n",
        "exec_chain = QuerySQLDataBaseTool(db=db)\n",
        "\n",
        "import re\n",
        "\n",
        "def cleaner(query):\n",
        "    pattern = re.compile(r\"```(.*?)```\",re.DOTALL)\n",
        "    query = pattern.findall(query)[0]\n",
        "    query = query[3:]\n",
        "    query = query.replace(\"\\n\",\" \")\n",
        "    print(query)\n",
        "    return query\n",
        "\n",
        "\n",
        "\n",
        "final_Chain = db_chain | cleaner | exec_chain\n",
        "final_Chain.invoke({\"question\":\"What are tables in availabe in the database?\"})"
      ]
    },
    {
      "cell_type": "code",
      "execution_count": 13,
      "metadata": {
        "id": "TVl2gKSOAStU",
        "outputId": "39c524f0-91bb-42ab-ac74-0c30077483e2",
        "colab": {
          "base_uri": "https://localhost:8080/",
          "height": 52
        }
      },
      "outputs": [
        {
          "output_type": "stream",
          "name": "stdout",
          "text": [
            " SELECT COUNT(\"EmployeeId\") AS \"TotalEmployees\" FROM \"employees\"; \n"
          ]
        },
        {
          "output_type": "execute_result",
          "data": {
            "text/plain": [
              "'[(8,)]'"
            ],
            "application/vnd.google.colaboratory.intrinsic+json": {
              "type": "string"
            }
          },
          "metadata": {},
          "execution_count": 13
        }
      ],
      "source": [
        "final_Chain.invoke({\"question\":\"How many employees are there in total?\"})"
      ]
    },
    {
      "cell_type": "code",
      "execution_count": 16,
      "metadata": {
        "id": "czDD0mwfAStU",
        "outputId": "d3c2a171-6a30-4629-8613-a69855b0076b",
        "colab": {
          "base_uri": "https://localhost:8080/",
          "height": 72
        }
      },
      "outputs": [
        {
          "output_type": "stream",
          "name": "stdout",
          "text": [
            " SELECT \"artists\".\"Name\", COUNT(\"tracks\".\"TrackId\") AS \"NumberOfTracks\" FROM \"artists\" JOIN \"albums\" ON \"artists\".\"ArtistId\" = \"albums\".\"ArtistId\" JOIN \"tracks\" ON \"albums\".\"AlbumId\" = \"tracks\".\"AlbumId\" GROUP BY \"artists\".\"Name\" ORDER BY \"NumberOfTracks\" DESC LIMIT 5; \n"
          ]
        },
        {
          "output_type": "execute_result",
          "data": {
            "text/plain": [
              "\"[('Iron Maiden', 213), ('U2', 135), ('Led Zeppelin', 114), ('Metallica', 112), ('Lost', 92)]\""
            ],
            "application/vnd.google.colaboratory.intrinsic+json": {
              "type": "string"
            }
          },
          "metadata": {},
          "execution_count": 16
        }
      ],
      "source": [
        "final_Chain.invoke({\"question\":\"who are most popular artists according to number of songs?\"})"
      ]
    },
    {
      "cell_type": "markdown",
      "source": [
        "# SQL Agent"
      ],
      "metadata": {
        "id": "mTJRrse4GmKg"
      }
    },
    {
      "cell_type": "code",
      "source": [
        "from langchain_community.agent_toolkits import create_sql_agent\n",
        "\n",
        "db = SQLDatabase.from_uri(\"sqlite:///chinook.db\")\n",
        "llm = AzureChatOpenAI(azure_deployment=model_name,temperature=0)\n",
        "\n",
        "agent_executor = create_sql_agent(llm, db=db, agent_type=\"openai-tools\", verbose=True)"
      ],
      "metadata": {
        "id": "mGzIwPF1Gna_"
      },
      "execution_count": 17,
      "outputs": []
    },
    {
      "cell_type": "code",
      "source": [
        "agent_executor.invoke({\"input\": \"what's the average age of customers\"})"
      ],
      "metadata": {
        "id": "WfiOLYIXGu3m",
        "outputId": "9ff8f697-e356-4104-fd0a-0f9de541810e",
        "colab": {
          "base_uri": "https://localhost:8080/"
        }
      },
      "execution_count": 18,
      "outputs": [
        {
          "output_type": "stream",
          "name": "stderr",
          "text": [
            "WARNING:langchain_core.callbacks.manager:Error in StdOutCallbackHandler.on_chain_start callback: AttributeError(\"'NoneType' object has no attribute 'get'\")\n"
          ]
        },
        {
          "output_type": "stream",
          "name": "stdout",
          "text": [
            "\u001b[32;1m\u001b[1;3m\n",
            "Invoking: `sql_db_list_tables` with `{}`\n",
            "\n",
            "\n",
            "\u001b[0m\u001b[38;5;200m\u001b[1;3malbums, artists, customers, employees, genres, invoice_items, invoices, media_types, playlist_track, playlists, tracks\u001b[0m\u001b[32;1m\u001b[1;3m\n",
            "Invoking: `sql_db_schema` with `{'table_names': 'customers'}`\n",
            "\n",
            "\n",
            "\u001b[0m\u001b[33;1m\u001b[1;3m\n",
            "CREATE TABLE customers (\n",
            "\t\"CustomerId\" INTEGER NOT NULL, \n",
            "\t\"FirstName\" NVARCHAR(40) NOT NULL, \n",
            "\t\"LastName\" NVARCHAR(20) NOT NULL, \n",
            "\t\"Company\" NVARCHAR(80), \n",
            "\t\"Address\" NVARCHAR(70), \n",
            "\t\"City\" NVARCHAR(40), \n",
            "\t\"State\" NVARCHAR(40), \n",
            "\t\"Country\" NVARCHAR(40), \n",
            "\t\"PostalCode\" NVARCHAR(10), \n",
            "\t\"Phone\" NVARCHAR(24), \n",
            "\t\"Fax\" NVARCHAR(24), \n",
            "\t\"Email\" NVARCHAR(60) NOT NULL, \n",
            "\t\"SupportRepId\" INTEGER, \n",
            "\tPRIMARY KEY (\"CustomerId\"), \n",
            "\tFOREIGN KEY(\"SupportRepId\") REFERENCES employees (\"EmployeeId\")\n",
            ")\n",
            "\n",
            "/*\n",
            "3 rows from customers table:\n",
            "CustomerId\tFirstName\tLastName\tCompany\tAddress\tCity\tState\tCountry\tPostalCode\tPhone\tFax\tEmail\tSupportRepId\n",
            "1\tLuís\tGonçalves\tEmbraer - Empresa Brasileira de Aeronáutica S.A.\tAv. Brigadeiro Faria Lima, 2170\tSão José dos Campos\tSP\tBrazil\t12227-000\t+55 (12) 3923-5555\t+55 (12) 3923-5566\tluisg@embraer.com.br\t3\n",
            "2\tLeonie\tKöhler\tNone\tTheodor-Heuss-Straße 34\tStuttgart\tNone\tGermany\t70174\t+49 0711 2842222\tNone\tleonekohler@surfeu.de\t5\n",
            "3\tFrançois\tTremblay\tNone\t1498 rue Bélanger\tMontréal\tQC\tCanada\tH2G 1A7\t+1 (514) 721-4711\tNone\tftremblay@gmail.com\t3\n",
            "*/\u001b[0m\u001b[32;1m\u001b[1;3mThe `customers` table does not have an age column. Therefore, I cannot calculate the average age of customers from the available data.\n",
            "\n",
            "If you have any other questions or need information from the database, please let me know!\u001b[0m\n",
            "\n",
            "\u001b[1m> Finished chain.\u001b[0m\n"
          ]
        },
        {
          "output_type": "execute_result",
          "data": {
            "text/plain": [
              "{'input': \"what's the average age of customers\",\n",
              " 'output': 'The `customers` table does not have an age column. Therefore, I cannot calculate the average age of customers from the available data.\\n\\nIf you have any other questions or need information from the database, please let me know!'}"
            ]
          },
          "metadata": {},
          "execution_count": 18
        }
      ]
    },
    {
      "cell_type": "code",
      "source": [
        "from langchain_community.agent_toolkits import SQLDatabaseToolkit\n",
        "\n",
        "toolkit = SQLDatabaseToolkit(db=db, llm=llm)\n",
        "\n",
        "tools = toolkit.get_tools()\n",
        "\n",
        "tools"
      ],
      "metadata": {
        "id": "PErgh3taIe_G",
        "outputId": "2716073f-5e40-4c8f-f262-6c24db3f4e17",
        "colab": {
          "base_uri": "https://localhost:8080/"
        }
      },
      "execution_count": 29,
      "outputs": [
        {
          "output_type": "execute_result",
          "data": {
            "text/plain": [
              "[QuerySQLDataBaseTool(description=\"Input to this tool is a detailed and correct SQL query, output is a result from the database. If the query is not correct, an error message will be returned. If an error is returned, rewrite the query, check the query, and try again. If you encounter an issue with Unknown column 'xxxx' in 'field list', use sql_db_schema to query the correct table fields.\", db=<langchain_community.utilities.sql_database.SQLDatabase object at 0x7a584b233280>),\n",
              " InfoSQLDatabaseTool(description='Input to this tool is a comma-separated list of tables, output is the schema and sample rows for those tables. Be sure that the tables actually exist by calling sql_db_list_tables first! Example Input: table1, table2, table3', db=<langchain_community.utilities.sql_database.SQLDatabase object at 0x7a584b233280>),\n",
              " ListSQLDatabaseTool(db=<langchain_community.utilities.sql_database.SQLDatabase object at 0x7a584b233280>),\n",
              " QuerySQLCheckerTool(description='Use this tool to double check if your query is correct before executing it. Always use this tool before executing a query with sql_db_query!', db=<langchain_community.utilities.sql_database.SQLDatabase object at 0x7a584b233280>, llm=AzureChatOpenAI(client=<openai.resources.chat.completions.Completions object at 0x7a5849ef7670>, async_client=<openai.resources.chat.completions.AsyncCompletions object at 0x7a5849f10fd0>, root_client=<openai.lib.azure.AzureOpenAI object at 0x7a584a917730>, root_async_client=<openai.lib.azure.AsyncAzureOpenAI object at 0x7a5849ef76a0>, temperature=0.0, model_kwargs={}, openai_api_key=SecretStr('**********'), azure_endpoint='https://eygpt24.openai.azure.com/', deployment_name='gpt-4o', openai_api_version='2024-02-01', openai_api_type='azure'), llm_chain=LLMChain(verbose=False, prompt=PromptTemplate(input_variables=['dialect', 'query'], input_types={}, partial_variables={}, template='\\n{query}\\nDouble check the {dialect} query above for common mistakes, including:\\n- Using NOT IN with NULL values\\n- Using UNION when UNION ALL should have been used\\n- Using BETWEEN for exclusive ranges\\n- Data type mismatch in predicates\\n- Properly quoting identifiers\\n- Using the correct number of arguments for functions\\n- Casting to the correct data type\\n- Using the proper columns for joins\\n\\nIf there are any of the above mistakes, rewrite the query. If there are no mistakes, just reproduce the original query.\\n\\nOutput the final SQL query only.\\n\\nSQL Query: '), llm=AzureChatOpenAI(client=<openai.resources.chat.completions.Completions object at 0x7a5849ef7670>, async_client=<openai.resources.chat.completions.AsyncCompletions object at 0x7a5849f10fd0>, root_client=<openai.lib.azure.AzureOpenAI object at 0x7a584a917730>, root_async_client=<openai.lib.azure.AsyncAzureOpenAI object at 0x7a5849ef76a0>, temperature=0.0, model_kwargs={}, openai_api_key=SecretStr('**********'), azure_endpoint='https://eygpt24.openai.azure.com/', deployment_name='gpt-4o', openai_api_version='2024-02-01', openai_api_type='azure'), output_parser=StrOutputParser(), llm_kwargs={}))]"
            ]
          },
          "metadata": {},
          "execution_count": 29
        }
      ]
    },
    {
      "cell_type": "code",
      "source": [
        "from langchain_core.messages import HumanMessage\n",
        "from langgraph.prebuilt import create_react_agent\n",
        "\n",
        "agent_executor = create_react_agent(llm, tools,) #messages_modifier=system_message"
      ],
      "metadata": {
        "id": "OpZEzxazIm7U"
      },
      "execution_count": 20,
      "outputs": []
    },
    {
      "cell_type": "code",
      "source": [
        "for s in agent_executor.stream(\n",
        "    {\"messages\": [HumanMessage(content=\"Which country's customers spent the most?\")]}\n",
        "):\n",
        "    print(s)\n",
        "    print(\"----\")"
      ],
      "metadata": {
        "id": "w7hmwNO5IwUz",
        "outputId": "77e9e9ed-d81f-49c1-a6c3-e3daa75b7980",
        "colab": {
          "base_uri": "https://localhost:8080/"
        }
      },
      "execution_count": 21,
      "outputs": [
        {
          "output_type": "stream",
          "name": "stdout",
          "text": [
            "{'agent': {'messages': [AIMessage(content='', additional_kwargs={'tool_calls': [{'id': 'call_0iRRoR8Lb98SHIzV1nWItJnJ', 'function': {'arguments': '{}', 'name': 'sql_db_list_tables'}, 'type': 'function'}]}, response_metadata={'token_usage': {'completion_tokens': 12, 'prompt_tokens': 325, 'total_tokens': 337, 'completion_tokens_details': None}, 'model_name': 'gpt-4o-2024-05-13', 'system_fingerprint': 'fp_80a1bad4c7', 'prompt_filter_results': [{'prompt_index': 0, 'content_filter_results': {'hate': {'filtered': False, 'severity': 'safe'}, 'jailbreak': {'filtered': False, 'detected': False}, 'self_harm': {'filtered': False, 'severity': 'safe'}, 'sexual': {'filtered': False, 'severity': 'safe'}, 'violence': {'filtered': False, 'severity': 'safe'}}}], 'finish_reason': 'tool_calls', 'logprobs': None, 'content_filter_results': {}}, id='run-ff09a308-0b04-425c-a752-d63728d35727-0', tool_calls=[{'name': 'sql_db_list_tables', 'args': {}, 'id': 'call_0iRRoR8Lb98SHIzV1nWItJnJ', 'type': 'tool_call'}], usage_metadata={'input_tokens': 325, 'output_tokens': 12, 'total_tokens': 337})]}}\n",
            "----\n",
            "{'tools': {'messages': [ToolMessage(content='albums, artists, customers, employees, genres, invoice_items, invoices, media_types, playlist_track, playlists, tracks', name='sql_db_list_tables', tool_call_id='call_0iRRoR8Lb98SHIzV1nWItJnJ')]}}\n",
            "----\n",
            "{'agent': {'messages': [AIMessage(content='', additional_kwargs={'tool_calls': [{'id': 'call_b8jR6FzG0g2D2l9iVxXt13iO', 'function': {'arguments': '{\"table_names\":\"customers, invoices\"}', 'name': 'sql_db_schema'}, 'type': 'function'}]}, response_metadata={'token_usage': {'completion_tokens': 18, 'prompt_tokens': 371, 'total_tokens': 389, 'completion_tokens_details': None}, 'model_name': 'gpt-4o-2024-05-13', 'system_fingerprint': 'fp_80a1bad4c7', 'prompt_filter_results': [{'prompt_index': 0, 'content_filter_results': {'hate': {'filtered': False, 'severity': 'safe'}, 'jailbreak': {'filtered': False, 'detected': False}, 'self_harm': {'filtered': False, 'severity': 'safe'}, 'sexual': {'filtered': False, 'severity': 'safe'}, 'violence': {'filtered': False, 'severity': 'safe'}}}], 'finish_reason': 'tool_calls', 'logprobs': None, 'content_filter_results': {}}, id='run-b7f04590-6200-43ae-885d-88c191be58e3-0', tool_calls=[{'name': 'sql_db_schema', 'args': {'table_names': 'customers, invoices'}, 'id': 'call_b8jR6FzG0g2D2l9iVxXt13iO', 'type': 'tool_call'}], usage_metadata={'input_tokens': 371, 'output_tokens': 18, 'total_tokens': 389})]}}\n",
            "----\n",
            "{'tools': {'messages': [ToolMessage(content='\\nCREATE TABLE customers (\\n\\t\"CustomerId\" INTEGER NOT NULL, \\n\\t\"FirstName\" NVARCHAR(40) NOT NULL, \\n\\t\"LastName\" NVARCHAR(20) NOT NULL, \\n\\t\"Company\" NVARCHAR(80), \\n\\t\"Address\" NVARCHAR(70), \\n\\t\"City\" NVARCHAR(40), \\n\\t\"State\" NVARCHAR(40), \\n\\t\"Country\" NVARCHAR(40), \\n\\t\"PostalCode\" NVARCHAR(10), \\n\\t\"Phone\" NVARCHAR(24), \\n\\t\"Fax\" NVARCHAR(24), \\n\\t\"Email\" NVARCHAR(60) NOT NULL, \\n\\t\"SupportRepId\" INTEGER, \\n\\tPRIMARY KEY (\"CustomerId\"), \\n\\tFOREIGN KEY(\"SupportRepId\") REFERENCES employees (\"EmployeeId\")\\n)\\n\\n/*\\n3 rows from customers table:\\nCustomerId\\tFirstName\\tLastName\\tCompany\\tAddress\\tCity\\tState\\tCountry\\tPostalCode\\tPhone\\tFax\\tEmail\\tSupportRepId\\n1\\tLuís\\tGonçalves\\tEmbraer - Empresa Brasileira de Aeronáutica S.A.\\tAv. Brigadeiro Faria Lima, 2170\\tSão José dos Campos\\tSP\\tBrazil\\t12227-000\\t+55 (12) 3923-5555\\t+55 (12) 3923-5566\\tluisg@embraer.com.br\\t3\\n2\\tLeonie\\tKöhler\\tNone\\tTheodor-Heuss-Straße 34\\tStuttgart\\tNone\\tGermany\\t70174\\t+49 0711 2842222\\tNone\\tleonekohler@surfeu.de\\t5\\n3\\tFrançois\\tTremblay\\tNone\\t1498 rue Bélanger\\tMontréal\\tQC\\tCanada\\tH2G 1A7\\t+1 (514) 721-4711\\tNone\\tftremblay@gmail.com\\t3\\n*/\\n\\n\\nCREATE TABLE invoices (\\n\\t\"InvoiceId\" INTEGER NOT NULL, \\n\\t\"CustomerId\" INTEGER NOT NULL, \\n\\t\"InvoiceDate\" DATETIME NOT NULL, \\n\\t\"BillingAddress\" NVARCHAR(70), \\n\\t\"BillingCity\" NVARCHAR(40), \\n\\t\"BillingState\" NVARCHAR(40), \\n\\t\"BillingCountry\" NVARCHAR(40), \\n\\t\"BillingPostalCode\" NVARCHAR(10), \\n\\t\"Total\" NUMERIC(10, 2) NOT NULL, \\n\\tPRIMARY KEY (\"InvoiceId\"), \\n\\tFOREIGN KEY(\"CustomerId\") REFERENCES customers (\"CustomerId\")\\n)\\n\\n/*\\n3 rows from invoices table:\\nInvoiceId\\tCustomerId\\tInvoiceDate\\tBillingAddress\\tBillingCity\\tBillingState\\tBillingCountry\\tBillingPostalCode\\tTotal\\n1\\t2\\t2009-01-01 00:00:00\\tTheodor-Heuss-Straße 34\\tStuttgart\\tNone\\tGermany\\t70174\\t1.98\\n2\\t4\\t2009-01-02 00:00:00\\tUllevålsveien 14\\tOslo\\tNone\\tNorway\\t0171\\t3.96\\n3\\t8\\t2009-01-03 00:00:00\\tGrétrystraat 63\\tBrussels\\tNone\\tBelgium\\t1000\\t5.94\\n*/', name='sql_db_schema', tool_call_id='call_b8jR6FzG0g2D2l9iVxXt13iO')]}}\n",
            "----\n",
            "{'agent': {'messages': [AIMessage(content='', additional_kwargs={'tool_calls': [{'id': 'call_rkzuwBkdBOTRyqFtiaOxmUQQ', 'function': {'arguments': '{\"query\":\"SELECT c.Country, SUM(i.Total) as TotalSpent FROM customers c JOIN invoices i ON c.CustomerId = i.CustomerId GROUP BY c.Country ORDER BY TotalSpent DESC LIMIT 1;\"}', 'name': 'sql_db_query_checker'}, 'type': 'function'}]}, response_metadata={'token_usage': {'completion_tokens': 53, 'prompt_tokens': 1081, 'total_tokens': 1134, 'completion_tokens_details': None}, 'model_name': 'gpt-4o-2024-05-13', 'system_fingerprint': 'fp_80a1bad4c7', 'prompt_filter_results': [{'prompt_index': 0, 'content_filter_results': {'hate': {'filtered': False, 'severity': 'safe'}, 'jailbreak': {'filtered': False, 'detected': False}, 'self_harm': {'filtered': False, 'severity': 'safe'}, 'sexual': {'filtered': False, 'severity': 'safe'}, 'violence': {'filtered': False, 'severity': 'safe'}}}], 'finish_reason': 'tool_calls', 'logprobs': None, 'content_filter_results': {}}, id='run-6a9a09c3-10d1-46ea-affa-372b18f97f44-0', tool_calls=[{'name': 'sql_db_query_checker', 'args': {'query': 'SELECT c.Country, SUM(i.Total) as TotalSpent FROM customers c JOIN invoices i ON c.CustomerId = i.CustomerId GROUP BY c.Country ORDER BY TotalSpent DESC LIMIT 1;'}, 'id': 'call_rkzuwBkdBOTRyqFtiaOxmUQQ', 'type': 'tool_call'}], usage_metadata={'input_tokens': 1081, 'output_tokens': 53, 'total_tokens': 1134})]}}\n",
            "----\n",
            "{'tools': {'messages': [ToolMessage(content='```sql\\nSELECT c.Country, SUM(i.Total) as TotalSpent \\nFROM customers c \\nJOIN invoices i ON c.CustomerId = i.CustomerId \\nGROUP BY c.Country \\nORDER BY TotalSpent DESC \\nLIMIT 1;\\n```', name='sql_db_query_checker', tool_call_id='call_rkzuwBkdBOTRyqFtiaOxmUQQ')]}}\n",
            "----\n",
            "{'agent': {'messages': [AIMessage(content='', additional_kwargs={'tool_calls': [{'id': 'call_iTIqmG4vMil3Ebv7siaFdrvC', 'function': {'arguments': '{\"query\":\"SELECT c.Country, SUM(i.Total) as TotalSpent FROM customers c JOIN invoices i ON c.CustomerId = i.CustomerId GROUP BY c.Country ORDER BY TotalSpent DESC LIMIT 1;\"}', 'name': 'sql_db_query'}, 'type': 'function'}]}, response_metadata={'token_usage': {'completion_tokens': 52, 'prompt_tokens': 1191, 'total_tokens': 1243, 'completion_tokens_details': None}, 'model_name': 'gpt-4o-2024-05-13', 'system_fingerprint': 'fp_80a1bad4c7', 'prompt_filter_results': [{'prompt_index': 0, 'content_filter_results': {'hate': {'filtered': False, 'severity': 'safe'}, 'jailbreak': {'filtered': False, 'detected': False}, 'self_harm': {'filtered': False, 'severity': 'safe'}, 'sexual': {'filtered': False, 'severity': 'safe'}, 'violence': {'filtered': False, 'severity': 'safe'}}}], 'finish_reason': 'tool_calls', 'logprobs': None, 'content_filter_results': {}}, id='run-4cfdb098-1e62-44b8-a5ab-86c4bf68dbb0-0', tool_calls=[{'name': 'sql_db_query', 'args': {'query': 'SELECT c.Country, SUM(i.Total) as TotalSpent FROM customers c JOIN invoices i ON c.CustomerId = i.CustomerId GROUP BY c.Country ORDER BY TotalSpent DESC LIMIT 1;'}, 'id': 'call_iTIqmG4vMil3Ebv7siaFdrvC', 'type': 'tool_call'}], usage_metadata={'input_tokens': 1191, 'output_tokens': 52, 'total_tokens': 1243})]}}\n",
            "----\n",
            "{'tools': {'messages': [ToolMessage(content=\"[('USA', 523.0600000000004)]\", name='sql_db_query', tool_call_id='call_iTIqmG4vMil3Ebv7siaFdrvC')]}}\n",
            "----\n",
            "{'agent': {'messages': [AIMessage(content='The country whose customers spent the most is the USA, with a total expenditure of $523.06.', additional_kwargs={}, response_metadata={'token_usage': {'completion_tokens': 22, 'prompt_tokens': 1265, 'total_tokens': 1287, 'completion_tokens_details': None}, 'model_name': 'gpt-4o-2024-05-13', 'system_fingerprint': 'fp_80a1bad4c7', 'prompt_filter_results': [{'prompt_index': 0, 'content_filter_results': {'hate': {'filtered': False, 'severity': 'safe'}, 'jailbreak': {'filtered': False, 'detected': False}, 'self_harm': {'filtered': False, 'severity': 'safe'}, 'sexual': {'filtered': False, 'severity': 'safe'}, 'violence': {'filtered': False, 'severity': 'safe'}}}], 'finish_reason': 'stop', 'logprobs': None, 'content_filter_results': {'hate': {'filtered': False, 'severity': 'safe'}, 'self_harm': {'filtered': False, 'severity': 'safe'}, 'sexual': {'filtered': False, 'severity': 'safe'}, 'violence': {'filtered': False, 'severity': 'safe'}}}, id='run-ae929899-287a-428c-a6d1-0e80e9d1f192-0', usage_metadata={'input_tokens': 1265, 'output_tokens': 22, 'total_tokens': 1287})]}}\n",
            "----\n"
          ]
        }
      ]
    },
    {
      "cell_type": "code",
      "source": [
        "# custom tool\n",
        "\n",
        "from langchain_core.tools import Tool\n",
        "import pandas as pd\n",
        "import matplotlib.pyplot as plt\n",
        "from io import StringIO\n",
        "\n",
        "\n",
        "def get_chart(data):\n",
        "  csv_data = StringIO(data)\n",
        "  # Converting the tuple to a DataFrame\n",
        "  df = pd.read_csv(csv_data)\n",
        "\n",
        "\n",
        "  # Creating a bar plot for the converted DataFrame\n",
        "  df.plot(kind='bar', x='Column1', y='Column2', legend=False)\n",
        "\n",
        "  # Adding labels and title\n",
        "  plt.xlabel('Column1')\n",
        "  plt.ylabel('Column2')\n",
        "  plt.title('Bar Plot of Column1 vs Column2')\n",
        "\n",
        "  # Displaying the plot\n",
        "  plt.show()\n",
        "  return \"Chart generated successfully\"\n",
        "\n",
        "graph_tool = Tool(\n",
        "\n",
        "    name=\"generate_chart\",\n",
        "\n",
        "    func=get_chart,\n",
        "\n",
        "    description=\"Generates a chart for data retrived from sql query\"\n",
        "\n",
        ")\n",
        "\n",
        "\n",
        "graph_tool\n"
      ],
      "metadata": {
        "id": "gWIfOR-gI0zy",
        "outputId": "61e13c9d-2c95-406f-e65d-efdc382965c3",
        "colab": {
          "base_uri": "https://localhost:8080/"
        }
      },
      "execution_count": 30,
      "outputs": [
        {
          "output_type": "execute_result",
          "data": {
            "text/plain": [
              "Tool(name='generate_chart', description='Generates a chart for data retrived from sql query', func=<function get_chart at 0x7a5849105900>)"
            ]
          },
          "metadata": {},
          "execution_count": 30
        }
      ]
    },
    {
      "cell_type": "code",
      "source": [
        "tools.append(graph_tool)"
      ],
      "metadata": {
        "id": "NjS8bPq9KDXJ"
      },
      "execution_count": 31,
      "outputs": []
    },
    {
      "cell_type": "code",
      "source": [
        "agent_executor = create_react_agent(llm, tools,)"
      ],
      "metadata": {
        "id": "uljKevM_K-se"
      },
      "execution_count": 32,
      "outputs": []
    },
    {
      "cell_type": "code",
      "source": [
        "for s in agent_executor.stream(\n",
        "    {\"messages\": [HumanMessage(content=\"Which country's customers spent the most? Generate Graph for this\")]}\n",
        "):\n",
        "    print(s)\n",
        "    print(\"----\")"
      ],
      "metadata": {
        "id": "i9kdFm6SLE5I",
        "outputId": "5333d2d3-0b49-4292-8fb0-0d517e131167",
        "colab": {
          "base_uri": "https://localhost:8080/"
        }
      },
      "execution_count": 33,
      "outputs": [
        {
          "output_type": "stream",
          "name": "stdout",
          "text": [
            "{'agent': {'messages': [AIMessage(content='', additional_kwargs={'tool_calls': [{'id': 'call_HYakl7WwcoL6TsSFWze21rgi', 'function': {'arguments': '{}', 'name': 'sql_db_list_tables'}, 'type': 'function'}]}, response_metadata={'token_usage': {'completion_tokens': 12, 'prompt_tokens': 361, 'total_tokens': 373, 'completion_tokens_details': None}, 'model_name': 'gpt-4o-2024-05-13', 'system_fingerprint': 'fp_80a1bad4c7', 'prompt_filter_results': [{'prompt_index': 0, 'content_filter_results': {'hate': {'filtered': False, 'severity': 'safe'}, 'jailbreak': {'filtered': False, 'detected': False}, 'self_harm': {'filtered': False, 'severity': 'safe'}, 'sexual': {'filtered': False, 'severity': 'safe'}, 'violence': {'filtered': False, 'severity': 'safe'}}}], 'finish_reason': 'tool_calls', 'logprobs': None, 'content_filter_results': {}}, id='run-bbd62157-4251-4e05-8c44-7d7cd273099d-0', tool_calls=[{'name': 'sql_db_list_tables', 'args': {}, 'id': 'call_HYakl7WwcoL6TsSFWze21rgi', 'type': 'tool_call'}], usage_metadata={'input_tokens': 361, 'output_tokens': 12, 'total_tokens': 373})]}}\n",
            "----\n",
            "{'tools': {'messages': [ToolMessage(content='albums, artists, customers, employees, genres, invoice_items, invoices, media_types, playlist_track, playlists, tracks', name='sql_db_list_tables', tool_call_id='call_HYakl7WwcoL6TsSFWze21rgi')]}}\n",
            "----\n",
            "{'agent': {'messages': [AIMessage(content='', additional_kwargs={'tool_calls': [{'id': 'call_7oLLMZexEWRvrWSTvqLwusVy', 'function': {'arguments': '{\"table_names\":\"customers, invoices\"}', 'name': 'sql_db_schema'}, 'type': 'function'}]}, response_metadata={'token_usage': {'completion_tokens': 18, 'prompt_tokens': 407, 'total_tokens': 425, 'completion_tokens_details': None}, 'model_name': 'gpt-4o-2024-05-13', 'system_fingerprint': 'fp_80a1bad4c7', 'prompt_filter_results': [{'prompt_index': 0, 'content_filter_results': {'hate': {'filtered': False, 'severity': 'safe'}, 'jailbreak': {'filtered': False, 'detected': False}, 'self_harm': {'filtered': False, 'severity': 'safe'}, 'sexual': {'filtered': False, 'severity': 'safe'}, 'violence': {'filtered': False, 'severity': 'safe'}}}], 'finish_reason': 'tool_calls', 'logprobs': None, 'content_filter_results': {}}, id='run-f674ffe0-0494-45e0-b1c9-ccade9ce096a-0', tool_calls=[{'name': 'sql_db_schema', 'args': {'table_names': 'customers, invoices'}, 'id': 'call_7oLLMZexEWRvrWSTvqLwusVy', 'type': 'tool_call'}], usage_metadata={'input_tokens': 407, 'output_tokens': 18, 'total_tokens': 425})]}}\n",
            "----\n",
            "{'tools': {'messages': [ToolMessage(content='\\nCREATE TABLE customers (\\n\\t\"CustomerId\" INTEGER NOT NULL, \\n\\t\"FirstName\" NVARCHAR(40) NOT NULL, \\n\\t\"LastName\" NVARCHAR(20) NOT NULL, \\n\\t\"Company\" NVARCHAR(80), \\n\\t\"Address\" NVARCHAR(70), \\n\\t\"City\" NVARCHAR(40), \\n\\t\"State\" NVARCHAR(40), \\n\\t\"Country\" NVARCHAR(40), \\n\\t\"PostalCode\" NVARCHAR(10), \\n\\t\"Phone\" NVARCHAR(24), \\n\\t\"Fax\" NVARCHAR(24), \\n\\t\"Email\" NVARCHAR(60) NOT NULL, \\n\\t\"SupportRepId\" INTEGER, \\n\\tPRIMARY KEY (\"CustomerId\"), \\n\\tFOREIGN KEY(\"SupportRepId\") REFERENCES employees (\"EmployeeId\")\\n)\\n\\n/*\\n3 rows from customers table:\\nCustomerId\\tFirstName\\tLastName\\tCompany\\tAddress\\tCity\\tState\\tCountry\\tPostalCode\\tPhone\\tFax\\tEmail\\tSupportRepId\\n1\\tLuís\\tGonçalves\\tEmbraer - Empresa Brasileira de Aeronáutica S.A.\\tAv. Brigadeiro Faria Lima, 2170\\tSão José dos Campos\\tSP\\tBrazil\\t12227-000\\t+55 (12) 3923-5555\\t+55 (12) 3923-5566\\tluisg@embraer.com.br\\t3\\n2\\tLeonie\\tKöhler\\tNone\\tTheodor-Heuss-Straße 34\\tStuttgart\\tNone\\tGermany\\t70174\\t+49 0711 2842222\\tNone\\tleonekohler@surfeu.de\\t5\\n3\\tFrançois\\tTremblay\\tNone\\t1498 rue Bélanger\\tMontréal\\tQC\\tCanada\\tH2G 1A7\\t+1 (514) 721-4711\\tNone\\tftremblay@gmail.com\\t3\\n*/\\n\\n\\nCREATE TABLE invoices (\\n\\t\"InvoiceId\" INTEGER NOT NULL, \\n\\t\"CustomerId\" INTEGER NOT NULL, \\n\\t\"InvoiceDate\" DATETIME NOT NULL, \\n\\t\"BillingAddress\" NVARCHAR(70), \\n\\t\"BillingCity\" NVARCHAR(40), \\n\\t\"BillingState\" NVARCHAR(40), \\n\\t\"BillingCountry\" NVARCHAR(40), \\n\\t\"BillingPostalCode\" NVARCHAR(10), \\n\\t\"Total\" NUMERIC(10, 2) NOT NULL, \\n\\tPRIMARY KEY (\"InvoiceId\"), \\n\\tFOREIGN KEY(\"CustomerId\") REFERENCES customers (\"CustomerId\")\\n)\\n\\n/*\\n3 rows from invoices table:\\nInvoiceId\\tCustomerId\\tInvoiceDate\\tBillingAddress\\tBillingCity\\tBillingState\\tBillingCountry\\tBillingPostalCode\\tTotal\\n1\\t2\\t2009-01-01 00:00:00\\tTheodor-Heuss-Straße 34\\tStuttgart\\tNone\\tGermany\\t70174\\t1.98\\n2\\t4\\t2009-01-02 00:00:00\\tUllevålsveien 14\\tOslo\\tNone\\tNorway\\t0171\\t3.96\\n3\\t8\\t2009-01-03 00:00:00\\tGrétrystraat 63\\tBrussels\\tNone\\tBelgium\\t1000\\t5.94\\n*/', name='sql_db_schema', tool_call_id='call_7oLLMZexEWRvrWSTvqLwusVy')]}}\n",
            "----\n",
            "{'agent': {'messages': [AIMessage(content='', additional_kwargs={'tool_calls': [{'id': 'call_3t93UQmYoVTf2wZO1ccpvOBO', 'function': {'arguments': '{\"query\":\"SELECT c.Country, SUM(i.Total) as TotalSpent FROM customers c JOIN invoices i ON c.CustomerId = i.CustomerId GROUP BY c.Country ORDER BY TotalSpent DESC;\"}', 'name': 'sql_db_query_checker'}, 'type': 'function'}]}, response_metadata={'token_usage': {'completion_tokens': 50, 'prompt_tokens': 1117, 'total_tokens': 1167, 'completion_tokens_details': None}, 'model_name': 'gpt-4o-2024-05-13', 'system_fingerprint': 'fp_80a1bad4c7', 'prompt_filter_results': [{'prompt_index': 0, 'content_filter_results': {'hate': {'filtered': False, 'severity': 'safe'}, 'jailbreak': {'filtered': False, 'detected': False}, 'self_harm': {'filtered': False, 'severity': 'safe'}, 'sexual': {'filtered': False, 'severity': 'safe'}, 'violence': {'filtered': False, 'severity': 'safe'}}}], 'finish_reason': 'tool_calls', 'logprobs': None, 'content_filter_results': {}}, id='run-fe2ab9af-17ca-470e-8470-5b74c4345c10-0', tool_calls=[{'name': 'sql_db_query_checker', 'args': {'query': 'SELECT c.Country, SUM(i.Total) as TotalSpent FROM customers c JOIN invoices i ON c.CustomerId = i.CustomerId GROUP BY c.Country ORDER BY TotalSpent DESC;'}, 'id': 'call_3t93UQmYoVTf2wZO1ccpvOBO', 'type': 'tool_call'}], usage_metadata={'input_tokens': 1117, 'output_tokens': 50, 'total_tokens': 1167})]}}\n",
            "----\n",
            "{'tools': {'messages': [ToolMessage(content='```sql\\nSELECT c.Country, SUM(i.Total) as TotalSpent \\nFROM customers c \\nJOIN invoices i ON c.CustomerId = i.CustomerId \\nGROUP BY c.Country \\nORDER BY TotalSpent DESC;\\n```', name='sql_db_query_checker', tool_call_id='call_3t93UQmYoVTf2wZO1ccpvOBO')]}}\n",
            "----\n",
            "{'agent': {'messages': [AIMessage(content='', additional_kwargs={'tool_calls': [{'id': 'call_BimVQH3ajka59GjRhgoJKvHw', 'function': {'arguments': '{\"query\":\"SELECT c.Country, SUM(i.Total) as TotalSpent FROM customers c JOIN invoices i ON c.CustomerId = i.CustomerId GROUP BY c.Country ORDER BY TotalSpent DESC;\"}', 'name': 'sql_db_query'}, 'type': 'function'}]}, response_metadata={'token_usage': {'completion_tokens': 49, 'prompt_tokens': 1220, 'total_tokens': 1269, 'completion_tokens_details': None}, 'model_name': 'gpt-4o-2024-05-13', 'system_fingerprint': 'fp_80a1bad4c7', 'prompt_filter_results': [{'prompt_index': 0, 'content_filter_results': {'hate': {'filtered': False, 'severity': 'safe'}, 'jailbreak': {'filtered': False, 'detected': False}, 'self_harm': {'filtered': False, 'severity': 'safe'}, 'sexual': {'filtered': False, 'severity': 'safe'}, 'violence': {'filtered': False, 'severity': 'safe'}}}], 'finish_reason': 'tool_calls', 'logprobs': None, 'content_filter_results': {}}, id='run-ed57fb0c-c5b0-49d6-9a79-04542cc9cce6-0', tool_calls=[{'name': 'sql_db_query', 'args': {'query': 'SELECT c.Country, SUM(i.Total) as TotalSpent FROM customers c JOIN invoices i ON c.CustomerId = i.CustomerId GROUP BY c.Country ORDER BY TotalSpent DESC;'}, 'id': 'call_BimVQH3ajka59GjRhgoJKvHw', 'type': 'tool_call'}], usage_metadata={'input_tokens': 1220, 'output_tokens': 49, 'total_tokens': 1269})]}}\n",
            "----\n",
            "{'tools': {'messages': [ToolMessage(content=\"[('USA', 523.0600000000004), ('Canada', 303.96), ('France', 195.09999999999994), ('Brazil', 190.1), ('Germany', 156.48), ('United Kingdom', 112.85999999999999), ('Czech Republic', 90.24), ('Portugal', 77.24), ('India', 75.25999999999999), ('Chile', 46.62), ('Ireland', 45.62), ('Hungary', 45.62), ('Austria', 42.62), ('Finland', 41.620000000000005), ('Netherlands', 40.62), ('Norway', 39.62), ('Sweden', 38.620000000000005), ('Poland', 37.620000000000005), ('Italy', 37.620000000000005), ('Denmark', 37.620000000000005), ('Australia', 37.620000000000005), ('Argentina', 37.620000000000005), ('Spain', 37.62), ('Belgium', 37.62)]\", name='sql_db_query', tool_call_id='call_BimVQH3ajka59GjRhgoJKvHw')]}}\n",
            "----\n",
            "{'agent': {'messages': [AIMessage(content='', additional_kwargs={'tool_calls': [{'id': 'call_zJ5IPIMfT7anuPmXVGnB824h', 'function': {'arguments': '{\"__arg1\":\"Country, TotalSpent\\\\nUSA, 523.06\\\\nCanada, 303.96\\\\nFrance, 195.10\\\\nBrazil, 190.10\\\\nGermany, 156.48\\\\nUnited Kingdom, 112.86\\\\nCzech Republic, 90.24\\\\nPortugal, 77.24\\\\nIndia, 75.26\\\\nChile, 46.62\\\\nIreland, 45.62\\\\nHungary, 45.62\\\\nAustria, 42.62\\\\nFinland, 41.62\\\\nNetherlands, 40.62\\\\nNorway, 39.62\\\\nSweden, 38.62\\\\nPoland, 37.62\\\\nItaly, 37.62\\\\nDenmark, 37.62\\\\nAustralia, 37.62\\\\nArgentina, 37.62\\\\nSpain, 37.62\\\\nBelgium, 37.62\"}', 'name': 'generate_chart'}, 'type': 'function'}]}, response_metadata={'token_usage': {'completion_tokens': 199, 'prompt_tokens': 1527, 'total_tokens': 1726, 'completion_tokens_details': None}, 'model_name': 'gpt-4o-2024-05-13', 'system_fingerprint': 'fp_80a1bad4c7', 'prompt_filter_results': [{'prompt_index': 0, 'content_filter_results': {'hate': {'filtered': False, 'severity': 'safe'}, 'jailbreak': {'filtered': False, 'detected': False}, 'self_harm': {'filtered': False, 'severity': 'safe'}, 'sexual': {'filtered': False, 'severity': 'safe'}, 'violence': {'filtered': False, 'severity': 'safe'}}}], 'finish_reason': 'tool_calls', 'logprobs': None, 'content_filter_results': {}}, id='run-bf46985e-65e3-4291-96b4-b74f007ebad5-0', tool_calls=[{'name': 'generate_chart', 'args': {'__arg1': 'Country, TotalSpent\\nUSA, 523.06\\nCanada, 303.96\\nFrance, 195.10\\nBrazil, 190.10\\nGermany, 156.48\\nUnited Kingdom, 112.86\\nCzech Republic, 90.24\\nPortugal, 77.24\\nIndia, 75.26\\nChile, 46.62\\nIreland, 45.62\\nHungary, 45.62\\nAustria, 42.62\\nFinland, 41.62\\nNetherlands, 40.62\\nNorway, 39.62\\nSweden, 38.62\\nPoland, 37.62\\nItaly, 37.62\\nDenmark, 37.62\\nAustralia, 37.62\\nArgentina, 37.62\\nSpain, 37.62\\nBelgium, 37.62'}, 'id': 'call_zJ5IPIMfT7anuPmXVGnB824h', 'type': 'tool_call'}], usage_metadata={'input_tokens': 1527, 'output_tokens': 199, 'total_tokens': 1726})]}}\n",
            "----\n",
            "{'tools': {'messages': [ToolMessage(content=\"Error: KeyError('Column1')\\n Please fix your mistakes.\", name='generate_chart', tool_call_id='call_zJ5IPIMfT7anuPmXVGnB824h')]}}\n",
            "----\n",
            "{'agent': {'messages': [AIMessage(content='', additional_kwargs={'tool_calls': [{'id': 'call_hDmvAFleFtyr31xfrmeZk4YO', 'function': {'arguments': '{\"__arg1\":\"{\\\\\"Country\\\\\": [\\\\\"USA\\\\\", \\\\\"Canada\\\\\", \\\\\"France\\\\\", \\\\\"Brazil\\\\\", \\\\\"Germany\\\\\", \\\\\"United Kingdom\\\\\", \\\\\"Czech Republic\\\\\", \\\\\"Portugal\\\\\", \\\\\"India\\\\\", \\\\\"Chile\\\\\", \\\\\"Ireland\\\\\", \\\\\"Hungary\\\\\", \\\\\"Austria\\\\\", \\\\\"Finland\\\\\", \\\\\"Netherlands\\\\\", \\\\\"Norway\\\\\", \\\\\"Sweden\\\\\", \\\\\"Poland\\\\\", \\\\\"Italy\\\\\", \\\\\"Denmark\\\\\", \\\\\"Australia\\\\\", \\\\\"Argentina\\\\\", \\\\\"Spain\\\\\", \\\\\"Belgium\\\\\"], \\\\\"TotalSpent\\\\\": [523.06, 303.96, 195.10, 190.10, 156.48, 112.86, 90.24, 77.24, 75.26, 46.62, 45.62, 45.62, 42.62, 41.62, 40.62, 39.62, 38.62, 37.62, 37.62, 37.62, 37.62, 37.62, 37.62, 37.62]}\"}', 'name': 'generate_chart'}, 'type': 'function'}]}, response_metadata={'token_usage': {'completion_tokens': 228, 'prompt_tokens': 1747, 'total_tokens': 1975, 'completion_tokens_details': None}, 'model_name': 'gpt-4o-2024-05-13', 'system_fingerprint': 'fp_80a1bad4c7', 'prompt_filter_results': [{'prompt_index': 0, 'content_filter_results': {'hate': {'filtered': False, 'severity': 'safe'}, 'jailbreak': {'filtered': False, 'detected': False}, 'self_harm': {'filtered': False, 'severity': 'safe'}, 'sexual': {'filtered': False, 'severity': 'safe'}, 'violence': {'filtered': False, 'severity': 'safe'}}}], 'finish_reason': 'tool_calls', 'logprobs': None, 'content_filter_results': {}}, id='run-346f15bd-ce22-43ac-bf46-ce2260a1bb98-0', tool_calls=[{'name': 'generate_chart', 'args': {'__arg1': '{\"Country\": [\"USA\", \"Canada\", \"France\", \"Brazil\", \"Germany\", \"United Kingdom\", \"Czech Republic\", \"Portugal\", \"India\", \"Chile\", \"Ireland\", \"Hungary\", \"Austria\", \"Finland\", \"Netherlands\", \"Norway\", \"Sweden\", \"Poland\", \"Italy\", \"Denmark\", \"Australia\", \"Argentina\", \"Spain\", \"Belgium\"], \"TotalSpent\": [523.06, 303.96, 195.10, 190.10, 156.48, 112.86, 90.24, 77.24, 75.26, 46.62, 45.62, 45.62, 42.62, 41.62, 40.62, 39.62, 38.62, 37.62, 37.62, 37.62, 37.62, 37.62, 37.62, 37.62]}'}, 'id': 'call_hDmvAFleFtyr31xfrmeZk4YO', 'type': 'tool_call'}], usage_metadata={'input_tokens': 1747, 'output_tokens': 228, 'total_tokens': 1975})]}}\n",
            "----\n",
            "{'tools': {'messages': [ToolMessage(content=\"Error: KeyError('Column1')\\n Please fix your mistakes.\", name='generate_chart', tool_call_id='call_hDmvAFleFtyr31xfrmeZk4YO')]}}\n",
            "----\n",
            "{'agent': {'messages': [AIMessage(content=\"It seems there was an error in generating the chart. Let's try a different approach to format the data correctly for the chart generation.\\n\\nI'll reformat the data and try again.\", additional_kwargs={'tool_calls': [{'id': 'call_XrR8M1fBIWm1XIQQ9fqd1ada', 'function': {'arguments': '{\"__arg1\":\"Country,TotalSpent\\\\nUSA,523.06\\\\nCanada,303.96\\\\nFrance,195.10\\\\nBrazil,190.10\\\\nGermany,156.48\\\\nUnited Kingdom,112.86\\\\nCzech Republic,90.24\\\\nPortugal,77.24\\\\nIndia,75.26\\\\nChile,46.62\\\\nIreland,45.62\\\\nHungary,45.62\\\\nAustria,42.62\\\\nFinland,41.62\\\\nNetherlands,40.62\\\\nNorway,39.62\\\\nSweden,38.62\\\\nPoland,37.62\\\\nItaly,37.62\\\\nDenmark,37.62\\\\nAustralia,37.62\\\\nArgentina,37.62\\\\nSpain,37.62\\\\nBelgium,37.62\"}', 'name': 'generate_chart'}, 'type': 'function'}]}, response_metadata={'token_usage': {'completion_tokens': 211, 'prompt_tokens': 1996, 'total_tokens': 2207, 'completion_tokens_details': None}, 'model_name': 'gpt-4o-2024-05-13', 'system_fingerprint': 'fp_80a1bad4c7', 'prompt_filter_results': [{'prompt_index': 0, 'content_filter_results': {'hate': {'filtered': False, 'severity': 'safe'}, 'jailbreak': {'filtered': False, 'detected': False}, 'self_harm': {'filtered': False, 'severity': 'safe'}, 'sexual': {'filtered': False, 'severity': 'safe'}, 'violence': {'filtered': False, 'severity': 'safe'}}}], 'finish_reason': 'tool_calls', 'logprobs': None, 'content_filter_results': {'hate': {'filtered': False, 'severity': 'safe'}, 'self_harm': {'filtered': False, 'severity': 'safe'}, 'sexual': {'filtered': False, 'severity': 'safe'}, 'violence': {'filtered': False, 'severity': 'safe'}}}, id='run-9e1d1872-d2f0-4017-9c5f-d9bbbc4a5020-0', tool_calls=[{'name': 'generate_chart', 'args': {'__arg1': 'Country,TotalSpent\\nUSA,523.06\\nCanada,303.96\\nFrance,195.10\\nBrazil,190.10\\nGermany,156.48\\nUnited Kingdom,112.86\\nCzech Republic,90.24\\nPortugal,77.24\\nIndia,75.26\\nChile,46.62\\nIreland,45.62\\nHungary,45.62\\nAustria,42.62\\nFinland,41.62\\nNetherlands,40.62\\nNorway,39.62\\nSweden,38.62\\nPoland,37.62\\nItaly,37.62\\nDenmark,37.62\\nAustralia,37.62\\nArgentina,37.62\\nSpain,37.62\\nBelgium,37.62'}, 'id': 'call_XrR8M1fBIWm1XIQQ9fqd1ada', 'type': 'tool_call'}], usage_metadata={'input_tokens': 1996, 'output_tokens': 211, 'total_tokens': 2207})]}}\n",
            "----\n",
            "{'tools': {'messages': [ToolMessage(content=\"Error: KeyError('Column1')\\n Please fix your mistakes.\", name='generate_chart', tool_call_id='call_XrR8M1fBIWm1XIQQ9fqd1ada')]}}\n",
            "----\n",
            "{'agent': {'messages': [AIMessage(content=\"It appears there is a persistent issue with generating the chart. Let's try a different approach by ensuring the data is correctly formatted and retried.\\n\\nI'll reformat the data into a JSON object and attempt to generate the chart again.\", additional_kwargs={'tool_calls': [{'id': 'call_aPfqoSDpeHCI0z2TUMPKxpVF', 'function': {'arguments': '{\"__arg1\":\"{\\\\\"Country\\\\\": [\\\\\"USA\\\\\", \\\\\"Canada\\\\\", \\\\\"France\\\\\", \\\\\"Brazil\\\\\", \\\\\"Germany\\\\\", \\\\\"United Kingdom\\\\\", \\\\\"Czech Republic\\\\\", \\\\\"Portugal\\\\\", \\\\\"India\\\\\", \\\\\"Chile\\\\\", \\\\\"Ireland\\\\\", \\\\\"Hungary\\\\\", \\\\\"Austria\\\\\", \\\\\"Finland\\\\\", \\\\\"Netherlands\\\\\", \\\\\"Norway\\\\\", \\\\\"Sweden\\\\\", \\\\\"Poland\\\\\", \\\\\"Italy\\\\\", \\\\\"Denmark\\\\\", \\\\\"Australia\\\\\", \\\\\"Argentina\\\\\", \\\\\"Spain\\\\\", \\\\\"Belgium\\\\\"], \\\\\"TotalSpent\\\\\": [523.06, 303.96, 195.10, 190.10, 156.48, 112.86, 90.24, 77.24, 75.26, 46.62, 45.62, 45.62, 42.62, 41.62, 40.62, 39.62, 38.62, 37.62, 37.62, 37.62, 37.62, 37.62, 37.62, 37.62]}\"}', 'name': 'generate_chart'}, 'type': 'function'}]}, response_metadata={'token_usage': {'completion_tokens': 274, 'prompt_tokens': 2231, 'total_tokens': 2505, 'completion_tokens_details': None}, 'model_name': 'gpt-4o-2024-05-13', 'system_fingerprint': 'fp_80a1bad4c7', 'prompt_filter_results': [{'prompt_index': 0, 'content_filter_results': {'hate': {'filtered': False, 'severity': 'safe'}, 'jailbreak': {'filtered': False, 'detected': False}, 'self_harm': {'filtered': False, 'severity': 'safe'}, 'sexual': {'filtered': False, 'severity': 'safe'}, 'violence': {'filtered': False, 'severity': 'safe'}}}], 'finish_reason': 'tool_calls', 'logprobs': None, 'content_filter_results': {'hate': {'filtered': False, 'severity': 'safe'}, 'self_harm': {'filtered': False, 'severity': 'safe'}, 'sexual': {'filtered': False, 'severity': 'safe'}, 'violence': {'filtered': False, 'severity': 'safe'}}}, id='run-31a0bbde-a550-431c-8403-1875ead295f7-0', tool_calls=[{'name': 'generate_chart', 'args': {'__arg1': '{\"Country\": [\"USA\", \"Canada\", \"France\", \"Brazil\", \"Germany\", \"United Kingdom\", \"Czech Republic\", \"Portugal\", \"India\", \"Chile\", \"Ireland\", \"Hungary\", \"Austria\", \"Finland\", \"Netherlands\", \"Norway\", \"Sweden\", \"Poland\", \"Italy\", \"Denmark\", \"Australia\", \"Argentina\", \"Spain\", \"Belgium\"], \"TotalSpent\": [523.06, 303.96, 195.10, 190.10, 156.48, 112.86, 90.24, 77.24, 75.26, 46.62, 45.62, 45.62, 42.62, 41.62, 40.62, 39.62, 38.62, 37.62, 37.62, 37.62, 37.62, 37.62, 37.62, 37.62]}'}, 'id': 'call_aPfqoSDpeHCI0z2TUMPKxpVF', 'type': 'tool_call'}], usage_metadata={'input_tokens': 2231, 'output_tokens': 274, 'total_tokens': 2505})]}}\n",
            "----\n",
            "{'tools': {'messages': [ToolMessage(content=\"Error: KeyError('Column1')\\n Please fix your mistakes.\", name='generate_chart', tool_call_id='call_aPfqoSDpeHCI0z2TUMPKxpVF')]}}\n",
            "----\n",
            "{'agent': {'messages': [AIMessage(content=\"It seems there is a persistent issue with generating the chart. Let's try a different approach by ensuring the data is correctly formatted and retried.\\n\\nI'll reformat the data into a JSON object and attempt to generate the chart again.\\nIt seems there is a persistent issue with generating the chart. Let's try a different approach by ensuring the data is correctly formatted and retried.\\n\\nI'll reformat the data into a JSON object and attempt to generate the chart again.\", additional_kwargs={}, response_metadata={'token_usage': {'completion_tokens': 92, 'prompt_tokens': 2529, 'total_tokens': 2621, 'completion_tokens_details': None}, 'model_name': 'gpt-4o-2024-05-13', 'system_fingerprint': 'fp_80a1bad4c7', 'prompt_filter_results': [{'prompt_index': 0, 'content_filter_results': {'hate': {'filtered': False, 'severity': 'safe'}, 'jailbreak': {'filtered': False, 'detected': False}, 'self_harm': {'filtered': False, 'severity': 'safe'}, 'sexual': {'filtered': False, 'severity': 'safe'}, 'violence': {'filtered': False, 'severity': 'safe'}}}], 'finish_reason': 'stop', 'logprobs': None, 'content_filter_results': {'hate': {'filtered': False, 'severity': 'safe'}, 'protected_material_code': {'filtered': False, 'detected': False}, 'protected_material_text': {'filtered': False, 'detected': False}, 'self_harm': {'filtered': False, 'severity': 'safe'}, 'sexual': {'filtered': False, 'severity': 'safe'}, 'violence': {'filtered': False, 'severity': 'safe'}}}, id='run-268f637d-7982-4bb9-bf6d-596696ffc008-0', usage_metadata={'input_tokens': 2529, 'output_tokens': 92, 'total_tokens': 2621})]}}\n",
            "----\n"
          ]
        }
      ]
    },
    {
      "cell_type": "code",
      "source": [
        "#"
      ],
      "metadata": {
        "id": "B6nC9kERK_By"
      },
      "execution_count": null,
      "outputs": []
    },
    {
      "cell_type": "markdown",
      "metadata": {
        "id": "gfdexe5lASta"
      },
      "source": [
        "## Thank You"
      ]
    }
  ],
  "metadata": {
    "colab": {
      "provenance": [],
      "include_colab_link": true
    },
    "kernelspec": {
      "display_name": "Python 3",
      "name": "python3"
    },
    "language_info": {
      "codemirror_mode": {
        "name": "ipython",
        "version": 3
      },
      "file_extension": ".py",
      "mimetype": "text/x-python",
      "name": "python",
      "nbconvert_exporter": "python",
      "pygments_lexer": "ipython3",
      "version": "3.10.9"
    }
  },
  "nbformat": 4,
  "nbformat_minor": 0
}
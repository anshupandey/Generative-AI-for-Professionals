{
  "cells": [
    {
      "cell_type": "markdown",
      "metadata": {
        "id": "view-in-github",
        "colab_type": "text"
      },
      "source": [
        "<a href=\"https://colab.research.google.com/github/anshupandey/Generative-AI-for-Professionals/blob/main/EY2024/C12_AI_Agents_with_LangChain.ipynb\" target=\"_parent\"><img src=\"https://colab.research.google.com/assets/colab-badge.svg\" alt=\"Open In Colab\"/></a>"
      ]
    },
    {
      "cell_type": "markdown",
      "metadata": {
        "id": "jQUfh4Aqtf5E"
      },
      "source": [
        "# Understanding LangChain Agents and Chains"
      ]
    },
    {
      "cell_type": "markdown",
      "metadata": {
        "id": "kEpb9rD2tmhf"
      },
      "source": [
        "## Chains\n",
        "\n",
        "Chains refer to sequences of calls - whether to an LLM, a tool, or a data preprocessing step. The primary supported way to do this is with LCEL.\n",
        "\n",
        "## Agents\n",
        "\n",
        "Agents can be thought of as the chain responsible for deciding what step to take next. This is usually powered by a language model, a prompt, and an output parser.\n",
        "\n",
        "Different agents have different prompting styles for reasoning, different ways of encoding inputs, and different ways of parsing the output. For a full list of built-in agents see agent types. You can also easily b\n",
        "\n",
        "\n",
        "## Chains v/s Agents\n",
        "\n",
        "The core idea of agents is to use a language model to choose a sequence of actions to take. In chains, a sequence of actions is hardcoded (in code). In agents, a language model is used as a reasoning engine to determine which actions to take and in which order.\n",
        "\n",
        "\n"
      ]
    },
    {
      "cell_type": "code",
      "execution_count": 1,
      "metadata": {
        "colab": {
          "base_uri": "https://localhost:8080/"
        },
        "id": "jLDTOetMVUxG",
        "outputId": "ce5507d4-0724-43fc-b6c5-a0cf7bd66469"
      },
      "outputs": [
        {
          "output_type": "stream",
          "name": "stdout",
          "text": [
            "\u001b[2K     \u001b[90m━━━━━━━━━━━━━━━━━━━━━━━━━━━━━━━━━━━━━━━━\u001b[0m \u001b[32m50.4/50.4 kB\u001b[0m \u001b[31m1.1 MB/s\u001b[0m eta \u001b[36m0:00:00\u001b[0m\n",
            "\u001b[2K   \u001b[90m━━━━━━━━━━━━━━━━━━━━━━━━━━━━━━━━━━━━━━━━\u001b[0m \u001b[32m51.5/51.5 kB\u001b[0m \u001b[31m2.1 MB/s\u001b[0m eta \u001b[36m0:00:00\u001b[0m\n",
            "\u001b[2K   \u001b[90m━━━━━━━━━━━━━━━━━━━━━━━━━━━━━━━━━━━━━━━━\u001b[0m \u001b[32m1.0/1.0 MB\u001b[0m \u001b[31m24.4 MB/s\u001b[0m eta \u001b[36m0:00:00\u001b[0m\n",
            "\u001b[2K   \u001b[90m━━━━━━━━━━━━━━━━━━━━━━━━━━━━━━━━━━━━━━━━\u001b[0m \u001b[32m405.1/405.1 kB\u001b[0m \u001b[31m16.8 MB/s\u001b[0m eta \u001b[36m0:00:00\u001b[0m\n",
            "\u001b[2K   \u001b[90m━━━━━━━━━━━━━━━━━━━━━━━━━━━━━━━━━━━━━━━━\u001b[0m \u001b[32m2.3/2.3 MB\u001b[0m \u001b[31m37.4 MB/s\u001b[0m eta \u001b[36m0:00:00\u001b[0m\n",
            "\u001b[2K   \u001b[90m━━━━━━━━━━━━━━━━━━━━━━━━━━━━━━━━━━━━━━━━\u001b[0m \u001b[32m289.9/289.9 kB\u001b[0m \u001b[31m15.8 MB/s\u001b[0m eta \u001b[36m0:00:00\u001b[0m\n",
            "\u001b[2K   \u001b[90m━━━━━━━━━━━━━━━━━━━━━━━━━━━━━━━━━━━━━━━━\u001b[0m \u001b[32m374.2/374.2 kB\u001b[0m \u001b[31m13.1 MB/s\u001b[0m eta \u001b[36m0:00:00\u001b[0m\n",
            "\u001b[2K   \u001b[90m━━━━━━━━━━━━━━━━━━━━━━━━━━━━━━━━━━━━━━━━\u001b[0m \u001b[32m1.1/1.1 MB\u001b[0m \u001b[31m11.4 MB/s\u001b[0m eta \u001b[36m0:00:00\u001b[0m\n",
            "\u001b[2K   \u001b[90m━━━━━━━━━━━━━━━━━━━━━━━━━━━━━━━━━━━━━━━━\u001b[0m \u001b[32m76.4/76.4 kB\u001b[0m \u001b[31m2.5 MB/s\u001b[0m eta \u001b[36m0:00:00\u001b[0m\n",
            "\u001b[2K   \u001b[90m━━━━━━━━━━━━━━━━━━━━━━━━━━━━━━━━━━━━━━━━\u001b[0m \u001b[32m77.9/77.9 kB\u001b[0m \u001b[31m3.7 MB/s\u001b[0m eta \u001b[36m0:00:00\u001b[0m\n",
            "\u001b[2K   \u001b[90m━━━━━━━━━━━━━━━━━━━━━━━━━━━━━━━━━━━━━━━━\u001b[0m \u001b[32m318.9/318.9 kB\u001b[0m \u001b[31m16.2 MB/s\u001b[0m eta \u001b[36m0:00:00\u001b[0m\n",
            "\u001b[2K   \u001b[90m━━━━━━━━━━━━━━━━━━━━━━━━━━━━━━━━━━━━━━━━\u001b[0m \u001b[32m49.3/49.3 kB\u001b[0m \u001b[31m2.3 MB/s\u001b[0m eta \u001b[36m0:00:00\u001b[0m\n",
            "\u001b[2K   \u001b[90m━━━━━━━━━━━━━━━━━━━━━━━━━━━━━━━━━━━━━━━━\u001b[0m \u001b[32m141.9/141.9 kB\u001b[0m \u001b[31m6.3 MB/s\u001b[0m eta \u001b[36m0:00:00\u001b[0m\n",
            "\u001b[2K   \u001b[90m━━━━━━━━━━━━━━━━━━━━━━━━━━━━━━━━━━━━━━━━\u001b[0m \u001b[32m58.3/58.3 kB\u001b[0m \u001b[31m2.5 MB/s\u001b[0m eta \u001b[36m0:00:00\u001b[0m\n",
            "\u001b[2K   \u001b[90m━━━━━━━━━━━━━━━━━━━━━━━━━━━━━━━━━━━━━━━━\u001b[0m \u001b[32m206.9/206.9 kB\u001b[0m \u001b[31m4.4 MB/s\u001b[0m eta \u001b[36m0:00:00\u001b[0m\n",
            "\u001b[?25h  Preparing metadata (setup.py) ... \u001b[?25l\u001b[?25hdone\n",
            "  Preparing metadata (setup.py) ... \u001b[?25l\u001b[?25hdone\n",
            "\u001b[2K   \u001b[90m━━━━━━━━━━━━━━━━━━━━━━━━━━━━━━━━━━━━━━━━\u001b[0m \u001b[32m4.5/4.5 MB\u001b[0m \u001b[31m35.3 MB/s\u001b[0m eta \u001b[36m0:00:00\u001b[0m\n",
            "\u001b[?25h  Building wheel for google-search-results (setup.py) ... \u001b[?25l\u001b[?25hdone\n",
            "  Building wheel for wikipedia (setup.py) ... \u001b[?25l\u001b[?25hdone\n"
          ]
        }
      ],
      "source": [
        "# Installing necessary libraries\n",
        "!pip install langchain-openai langchain langchain-core langchain-community --quiet\n",
        "!pip install httpx langchain-experimental --quiet\n",
        "!pip install openai google-search-results tiktoken wikipedia pyowm --quiet"
      ]
    },
    {
      "cell_type": "markdown",
      "metadata": {
        "id": "RA32XR5ZL6Fk"
      },
      "source": [
        "# Chains with LangChain"
      ]
    },
    {
      "cell_type": "code",
      "execution_count": 2,
      "metadata": {
        "id": "6mq5LPw6LlLM"
      },
      "outputs": [],
      "source": [
        "api_key = \"62d77bb382974118aec75d84d274bb72\"\n",
        "api_version = \"2024-02-01\"\n",
        "azure_endpoint = \"https://eygpt24.openai.azure.com/\"\n",
        "model_name = \"gpt-4o\""
      ]
    },
    {
      "cell_type": "code",
      "execution_count": 3,
      "metadata": {
        "id": "zXTTa9eAP8UF"
      },
      "outputs": [],
      "source": [
        "import os\n",
        "os.environ[\"OPENAI_API_VERSION\"] = api_version\n",
        "os.environ[\"AZURE_OPENAI_ENDPOINT\"] = azure_endpoint\n",
        "os.environ[\"AZURE_OPENAI_API_KEY\"] = api_key\n",
        "os.environ[\"OPENWEATHERMAP_API_KEY\"] = \"29af1cea50a401d8e624eea4660b3f59\"\n",
        "os.environ[\"AZURE_OPENAI_API_VERSION\"] = api_version"
      ]
    },
    {
      "cell_type": "markdown",
      "metadata": {
        "id": "bf2mcCyktE_n"
      },
      "source": [
        "# LangChain AI Agents\n",
        "\n",
        "The core idea of agents is to use a language model to choose a sequence of actions to take. In chains, a sequence of actions is hardcoded (in code). In agents, a language model is used as a reasoning engine to determine which actions to take and in which order.\n",
        "\n"
      ]
    },
    {
      "cell_type": "markdown",
      "metadata": {
        "id": "f8y6smgCtM3L"
      },
      "source": [
        "## Creating a sample LangChain Agent"
      ]
    },
    {
      "cell_type": "markdown",
      "metadata": {
        "id": "L98VX6TNuYnV"
      },
      "source": [
        "# Zero-Shot ReAct Agent"
      ]
    },
    {
      "cell_type": "code",
      "execution_count": 4,
      "metadata": {
        "id": "jbllamVrVenI"
      },
      "outputs": [],
      "source": [
        "# Importing necessary modules for the agent\n",
        "from langchain.agents import load_tools      # Imports the load_tools function for loading various tools in the langchain package\n",
        "from langchain_openai import AzureChatOpenAI # Imports the ChatOpenAI class to interact with OpenAI's models\n"
      ]
    },
    {
      "cell_type": "code",
      "execution_count": 5,
      "metadata": {
        "id": "TX4vDjJIVhLQ"
      },
      "outputs": [],
      "source": [
        "# Initializing a Language Model (LLM) instance\n",
        "model = AzureChatOpenAI(azure_deployment=model_name,)"
      ]
    },
    {
      "cell_type": "code",
      "execution_count": 6,
      "metadata": {
        "id": "eqmHY_GVM19G"
      },
      "outputs": [],
      "source": [
        "import os\n",
        "os.environ['TAVILY_API_KEY'] = \"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\""
      ]
    },
    {
      "cell_type": "code",
      "execution_count": 7,
      "metadata": {
        "id": "q9J3WmWNVjvX",
        "outputId": "6bc8c049-e250-429c-cfb3-b33f19f7bac1",
        "colab": {
          "base_uri": "https://localhost:8080/"
        }
      },
      "outputs": [
        {
          "output_type": "stream",
          "name": "stdout",
          "text": [
            "[{'url': 'https://www.weatherapi.com/', 'content': \"{'location': {'name': 'San Francisco', 'region': 'California', 'country': 'United States of America', 'lat': 37.78, 'lon': -122.42, 'tz_id': 'America/Los_Angeles', 'localtime_epoch': 1726575094, 'localtime': '2024-09-17 05:11'}, 'current': {'last_updated_epoch': 1726574400, 'last_updated': '2024-09-17 05:00', 'temp_c': 12.7, 'temp_f': 54.9, 'is_day': 0, 'condition': {'text': 'Mist', 'icon': '//cdn.weatherapi.com/weather/64x64/night/143.png', 'code': 1030}, 'wind_mph': 5.6, 'wind_kph': 9.0, 'wind_degree': 238, 'wind_dir': 'WSW', 'pressure_mb': 1014.0, 'pressure_in': 29.94, 'precip_mm': 0.0, 'precip_in': 0.0, 'humidity': 95, 'cloud': 100, 'feelslike_c': 12.0, 'feelslike_f': 53.6, 'windchill_c': 12.0, 'windchill_f': 53.6, 'heatindex_c': 12.7, 'heatindex_f': 54.9, 'dewpoint_c': 12.0, 'dewpoint_f': 53.6, 'vis_km': 10.0, 'vis_miles': 6.0, 'uv': 1.0, 'gust_mph': 8.1, 'gust_kph': 13.1}}\"}, {'url': 'https://forecast.weather.gov/zipcity.php?inputstring=San+Francisco,CA', 'content': 'San Francisco CA 37.77°N 122.41°W (Elev. 131 ft) Last Update: 1:29 am PDT Sep 16, 2024. Forecast Valid: 6am PDT Sep 16, 2024-6pm PDT Sep 22, 2024 . Forecast Discussion . Additional Resources. Radar & Satellite Image. Hourly Weather Forecast. ... Severe Weather ; Current Outlook Maps ; Drought ; Fire Weather ; Fronts/Precipitation Maps ...'}]\n"
          ]
        }
      ],
      "source": [
        "from langchain_community.tools.tavily_search import TavilySearchResults\n",
        "\n",
        "search = TavilySearchResults(max_results=2)\n",
        "search_results = search.invoke(\"what is the weather in SF\")\n",
        "print(search_results)\n"
      ]
    },
    {
      "cell_type": "code",
      "execution_count": 8,
      "metadata": {
        "id": "mwvkdURLM19G"
      },
      "outputs": [],
      "source": [
        "# If we want, we can create other tools.\n",
        "# Once we have all the tools we want, we can put them in a list that we will reference later.\n",
        "tools = [search]"
      ]
    },
    {
      "cell_type": "code",
      "execution_count": 9,
      "metadata": {
        "id": "2u8QNalQM19G"
      },
      "outputs": [],
      "source": [
        "model_with_tools = model.bind_tools(tools)"
      ]
    },
    {
      "cell_type": "code",
      "execution_count": 10,
      "metadata": {
        "id": "btd4RosuM19G",
        "outputId": "68b20ee8-a6a3-4126-f773-86db297c91b3",
        "colab": {
          "base_uri": "https://localhost:8080/"
        }
      },
      "outputs": [
        {
          "output_type": "stream",
          "name": "stdout",
          "text": [
            "ContentString: Hello! How can I assist you today?\n",
            "ToolCalls: []\n"
          ]
        }
      ],
      "source": [
        "from langchain_core.messages import HumanMessage\n",
        "\n",
        "response = model_with_tools.invoke([HumanMessage(content=\"Hi!\")])\n",
        "\n",
        "print(f\"ContentString: {response.content}\")\n",
        "print(f\"ToolCalls: {response.tool_calls}\")"
      ]
    },
    {
      "cell_type": "code",
      "execution_count": 11,
      "metadata": {
        "id": "We530IzmM19H",
        "outputId": "0dc3729a-ad3c-4a06-ec37-d4e98ad5d94a",
        "colab": {
          "base_uri": "https://localhost:8080/"
        }
      },
      "outputs": [
        {
          "output_type": "stream",
          "name": "stdout",
          "text": [
            "ContentString: \n",
            "ToolCalls: [{'name': 'tavily_search_results_json', 'args': {'query': 'current weather in San Francisco'}, 'id': 'call_ZcloStC9hio9bdQSCI9Opgis', 'type': 'tool_call'}]\n"
          ]
        }
      ],
      "source": [
        "response = model_with_tools.invoke([HumanMessage(content=\"What's the weather in SF?\")])\n",
        "\n",
        "print(f\"ContentString: {response.content}\")\n",
        "print(f\"ToolCalls: {response.tool_calls}\")"
      ]
    },
    {
      "cell_type": "markdown",
      "metadata": {
        "id": "MwV8F768M19H"
      },
      "source": [
        "### Implementing Agent with LangChain"
      ]
    },
    {
      "cell_type": "code",
      "execution_count": 12,
      "metadata": {
        "id": "A0fOgzSWM19H",
        "outputId": "8ef23892-e0d7-44e3-88b7-5b5ab3527186",
        "colab": {
          "base_uri": "https://localhost:8080/"
        }
      },
      "outputs": [
        {
          "output_type": "execute_result",
          "data": {
            "text/plain": [
              "ChatPromptTemplate(input_variables=['input'], optional_variables=['agent_scratchpad'], input_types={'agent_scratchpad': typing.List[typing.Annotated[typing.Union[typing.Annotated[langchain_core.messages.ai.AIMessage, Tag(tag='ai')], typing.Annotated[langchain_core.messages.human.HumanMessage, Tag(tag='human')], typing.Annotated[langchain_core.messages.chat.ChatMessage, Tag(tag='chat')], typing.Annotated[langchain_core.messages.system.SystemMessage, Tag(tag='system')], typing.Annotated[langchain_core.messages.function.FunctionMessage, Tag(tag='function')], typing.Annotated[langchain_core.messages.tool.ToolMessage, Tag(tag='tool')], typing.Annotated[langchain_core.messages.ai.AIMessageChunk, Tag(tag='AIMessageChunk')], typing.Annotated[langchain_core.messages.human.HumanMessageChunk, Tag(tag='HumanMessageChunk')], typing.Annotated[langchain_core.messages.chat.ChatMessageChunk, Tag(tag='ChatMessageChunk')], typing.Annotated[langchain_core.messages.system.SystemMessageChunk, Tag(tag='SystemMessageChunk')], typing.Annotated[langchain_core.messages.function.FunctionMessageChunk, Tag(tag='FunctionMessageChunk')], typing.Annotated[langchain_core.messages.tool.ToolMessageChunk, Tag(tag='ToolMessageChunk')]], FieldInfo(annotation=NoneType, required=True, discriminator=Discriminator(discriminator=<function _get_type at 0x7bab57097eb0>, custom_error_type=None, custom_error_message=None, custom_error_context=None))]]}, partial_variables={'agent_scratchpad': []}, messages=[SystemMessagePromptTemplate(prompt=PromptTemplate(input_variables=[], input_types={}, partial_variables={}, template='You are a helpful assistant'), additional_kwargs={}), HumanMessagePromptTemplate(prompt=PromptTemplate(input_variables=['input'], input_types={}, partial_variables={}, template='{input}'), additional_kwargs={}), MessagesPlaceholder(variable_name='agent_scratchpad', optional=True)])"
            ]
          },
          "metadata": {},
          "execution_count": 12
        }
      ],
      "source": [
        "from langchain_core.prompts import ChatPromptTemplate\n",
        "\n",
        "prompt = ChatPromptTemplate.from_messages(\n",
        "    [\n",
        "        (\"system\", \"You are a helpful assistant\"),\n",
        "        (\"human\", \"{input}\"),\n",
        "        # Placeholders fill up a **list** of messages\n",
        "        (\"placeholder\", \"{agent_scratchpad}\"),\n",
        "    ]\n",
        ")\n",
        "prompt"
      ]
    },
    {
      "cell_type": "code",
      "execution_count": 13,
      "metadata": {
        "id": "Km5IZk69M19H"
      },
      "outputs": [],
      "source": [
        "from langchain.agents import create_tool_calling_agent\n",
        "\n",
        "agent = create_tool_calling_agent(model, tools, prompt)"
      ]
    },
    {
      "cell_type": "code",
      "execution_count": 14,
      "metadata": {
        "id": "6WNqZZv9M19I"
      },
      "outputs": [],
      "source": [
        "from langchain.agents import AgentExecutor\n",
        "\n",
        "agent_executor = AgentExecutor(agent=agent, tools=tools, verbose=True)"
      ]
    },
    {
      "cell_type": "code",
      "execution_count": 15,
      "metadata": {
        "id": "kc72ZBMdM19I",
        "outputId": "bb91edcb-0dcd-4acc-8bb0-3153320108bd",
        "colab": {
          "base_uri": "https://localhost:8080/"
        }
      },
      "outputs": [
        {
          "output_type": "stream",
          "name": "stderr",
          "text": [
            "WARNING:langchain_core.callbacks.manager:Error in StdOutCallbackHandler.on_chain_start callback: AttributeError(\"'NoneType' object has no attribute 'get'\")\n"
          ]
        },
        {
          "output_type": "stream",
          "name": "stdout",
          "text": [
            "\u001b[32;1m\u001b[1;3mHello! How can I assist you today?\u001b[0m\n",
            "\n",
            "\u001b[1m> Finished chain.\u001b[0m\n"
          ]
        },
        {
          "output_type": "execute_result",
          "data": {
            "text/plain": [
              "{'input': 'hi!', 'output': 'Hello! How can I assist you today?'}"
            ]
          },
          "metadata": {},
          "execution_count": 15
        }
      ],
      "source": [
        "agent_executor.invoke({\"input\": \"hi!\"})"
      ]
    },
    {
      "cell_type": "code",
      "execution_count": 16,
      "metadata": {
        "id": "Bx4Sg3IWM19J",
        "outputId": "a872362c-8a5a-4780-be14-782fc41761f5",
        "colab": {
          "base_uri": "https://localhost:8080/"
        }
      },
      "outputs": [
        {
          "output_type": "stream",
          "name": "stderr",
          "text": [
            "WARNING:langchain_core.callbacks.manager:Error in StdOutCallbackHandler.on_chain_start callback: AttributeError(\"'NoneType' object has no attribute 'get'\")\n"
          ]
        },
        {
          "output_type": "stream",
          "name": "stdout",
          "text": [
            "\u001b[32;1m\u001b[1;3m\n",
            "Invoking: `tavily_search_results_json` with `{'query': 'current weather in Mumbai'}`\n",
            "\n",
            "\n",
            "\u001b[0m\u001b[36;1m\u001b[1;3m[{'url': 'https://www.accuweather.com/en/in/mumbai/204842/current-weather/204842', 'content': 'Get the current weather conditions and forecast for Mumbai, Maharashtra, India. Expect cloudy skies, high humidity, and a chance of thunderstorms on August 25.'}, {'url': 'https://www.accuweather.com/en/in/mumbai/204842/weather-forecast/204842', 'content': 'Get the current and future weather conditions for Mumbai, Maharashtra, India, including temperature, precipitation, wind, and air quality. See the radar, maps, and 10-day outlook for Mumbai.'}]\u001b[0m\u001b[32;1m\u001b[1;3mThe current weather in Mumbai can be found on [AccuWeather](https://www.accuweather.com/en/in/mumbai/204842/current-weather/204842). According to the latest report, you can expect cloudy skies, high humidity, and a chance of thunderstorms today. For more detailed information including temperature, precipitation, and wind conditions, you can check the [weather forecast for Mumbai](https://www.accuweather.com/en/in/mumbai/204842/weather-forecast/204842).\u001b[0m\n",
            "\n",
            "\u001b[1m> Finished chain.\u001b[0m\n"
          ]
        },
        {
          "output_type": "execute_result",
          "data": {
            "text/plain": [
              "{'input': \"What's the weather in Mumbai?\",\n",
              " 'output': 'The current weather in Mumbai can be found on [AccuWeather](https://www.accuweather.com/en/in/mumbai/204842/current-weather/204842). According to the latest report, you can expect cloudy skies, high humidity, and a chance of thunderstorms today. For more detailed information including temperature, precipitation, and wind conditions, you can check the [weather forecast for Mumbai](https://www.accuweather.com/en/in/mumbai/204842/weather-forecast/204842).'}"
            ]
          },
          "metadata": {},
          "execution_count": 16
        }
      ],
      "source": [
        "agent_executor.invoke({\"input\": \"What's the weather in Mumbai?\"})"
      ]
    },
    {
      "cell_type": "markdown",
      "metadata": {
        "id": "C2FyNTupM19K"
      },
      "source": [
        "## Implementing a Multitool Agent"
      ]
    },
    {
      "cell_type": "code",
      "execution_count": 17,
      "metadata": {
        "id": "SOwm1HvWM19K"
      },
      "outputs": [],
      "source": [
        "from langchain_community.tools.tavily_search import TavilySearchResults\n",
        "from langchain_community.tools import WikipediaQueryRun\n",
        "from langchain_community.utilities import WikipediaAPIWrapper\n",
        "from langchain_core.prompts import ChatPromptTemplate\n",
        "from langchain.agents import create_tool_calling_agent, AgentExecutor\n",
        "\n",
        "\n",
        "prompt = ChatPromptTemplate.from_messages(\n",
        "    [   (\"system\", \"You are a helpful assistant\"),\n",
        "        (\"human\", \"{input}\"),\n",
        "        # Placeholders fill up a **list** of messages\n",
        "        (\"placeholder\", \"{agent_scratchpad}\"), ])\n",
        "\n",
        "search = TavilySearchResults(max_results=2)\n",
        "wikipedia = WikipediaQueryRun(api_wrapper=WikipediaAPIWrapper())\n",
        "# Create Image Gentation model Object\n",
        "\n",
        "tools = [search, wikipedia]\n",
        "\n",
        "agent = create_tool_calling_agent(model, tools, prompt)\n",
        "agent_executor = AgentExecutor(agent=agent, tools=tools, verbose=True)"
      ]
    },
    {
      "cell_type": "code",
      "execution_count": 18,
      "metadata": {
        "id": "w-ICb50kM19K",
        "outputId": "dd381b88-0f40-4695-db40-71511ddf2595",
        "colab": {
          "base_uri": "https://localhost:8080/"
        }
      },
      "outputs": [
        {
          "output_type": "stream",
          "name": "stderr",
          "text": [
            "WARNING:langchain_core.callbacks.manager:Error in StdOutCallbackHandler.on_chain_start callback: AttributeError(\"'NoneType' object has no attribute 'get'\")\n"
          ]
        },
        {
          "output_type": "stream",
          "name": "stdout",
          "text": [
            "\u001b[32;1m\u001b[1;3mI'm just a computer program, so I don't have feelings, but I'm here and ready to help you! How can I assist you today?\u001b[0m\n",
            "\n",
            "\u001b[1m> Finished chain.\u001b[0m\n"
          ]
        },
        {
          "output_type": "execute_result",
          "data": {
            "text/plain": [
              "{'input': 'Hi, How are you?',\n",
              " 'output': \"I'm just a computer program, so I don't have feelings, but I'm here and ready to help you! How can I assist you today?\"}"
            ]
          },
          "metadata": {},
          "execution_count": 18
        }
      ],
      "source": [
        "agent_executor.invoke({\"input\": \"Hi, How are you?\"})"
      ]
    },
    {
      "cell_type": "code",
      "execution_count": 19,
      "metadata": {
        "id": "3BQHpb1kM19M",
        "outputId": "2fb05266-0651-4675-dd0c-7b689f98761e",
        "colab": {
          "base_uri": "https://localhost:8080/"
        }
      },
      "outputs": [
        {
          "output_type": "stream",
          "name": "stderr",
          "text": [
            "WARNING:langchain_core.callbacks.manager:Error in StdOutCallbackHandler.on_chain_start callback: AttributeError(\"'NoneType' object has no attribute 'get'\")\n"
          ]
        },
        {
          "output_type": "stream",
          "name": "stdout",
          "text": [
            "\u001b[32;1m\u001b[1;3m\n",
            "Invoking: `tavily_search_results_json` with `{'query': 'current weather in Dubai'}`\n",
            "\n",
            "\n",
            "\u001b[0m\u001b[36;1m\u001b[1;3m[{'url': 'https://www.weatherapi.com/', 'content': \"{'location': {'name': 'Dubai', 'region': 'Dubai', 'country': 'United Arab Emirates', 'lat': 25.25, 'lon': 55.28, 'tz_id': 'Asia/Dubai', 'localtime_epoch': 1726575336, 'localtime': '2024-09-17 16:15'}, 'current': {'last_updated_epoch': 1726574400, 'last_updated': '2024-09-17 16:00', 'temp_c': 33.1, 'temp_f': 91.6, 'is_day': 1, 'condition': {'text': 'Sunny', 'icon': '//cdn.weatherapi.com/weather/64x64/day/113.png', 'code': 1000}, 'wind_mph': 13.9, 'wind_kph': 22.3, 'wind_degree': 340, 'wind_dir': 'NNW', 'pressure_mb': 1005.0, 'pressure_in': 29.66, 'precip_mm': 0.0, 'precip_in': 0.0, 'humidity': 57, 'cloud': 0, 'feelslike_c': 38.9, 'feelslike_f': 101.9, 'windchill_c': 33.1, 'windchill_f': 91.6, 'heatindex_c': 38.9, 'heatindex_f': 101.9, 'dewpoint_c': 23.3, 'dewpoint_f': 74.0, 'vis_km': 10.0, 'vis_miles': 6.0, 'uv': 8.0, 'gust_mph': 18.4, 'gust_kph': 29.6}}\"}, {'url': 'https://www.weathertab.com/en/c/e/09/united-arab-emirates/dubayy/dubai/', 'content': 'Explore comprehensive September 2024 weather forecasts for Dubai, including daily high and low temperatures, precipitation risks, and monthly temperature trends. Featuring detailed day-by-day forecasts, dynamic graphs of daily rain probabilities, and temperature trends to help you plan ahead. ... 17 102°F 76°F 39°C 24°C 04% 18 101°F 75°F ...'}]\u001b[0m\u001b[32;1m\u001b[1;3mThe current weather in Dubai is:\n",
            "\n",
            "- **Temperature:** 33.1°C (91.6°F)\n",
            "- **Conditions:** Sunny\n",
            "- **Feels Like:** 38.9°C (101.9°F)\n",
            "- **Humidity:** 57%\n",
            "- **Wind:** 22.3 kph (13.9 mph) from NNW\n",
            "- **Visibility:** 10 km (6 miles)\n",
            "- **UV Index:** 8 (Very High)\n",
            "\n",
            "![Weather Icon](//cdn.weatherapi.com/weather/64x64/day/113.png)\u001b[0m\n",
            "\n",
            "\u001b[1m> Finished chain.\u001b[0m\n"
          ]
        },
        {
          "output_type": "execute_result",
          "data": {
            "text/plain": [
              "{'input': \"What's the current weather in Dubai?\",\n",
              " 'output': 'The current weather in Dubai is:\\n\\n- **Temperature:** 33.1°C (91.6°F)\\n- **Conditions:** Sunny\\n- **Feels Like:** 38.9°C (101.9°F)\\n- **Humidity:** 57%\\n- **Wind:** 22.3 kph (13.9 mph) from NNW\\n- **Visibility:** 10 km (6 miles)\\n- **UV Index:** 8 (Very High)\\n\\n![Weather Icon](//cdn.weatherapi.com/weather/64x64/day/113.png)'}"
            ]
          },
          "metadata": {},
          "execution_count": 19
        }
      ],
      "source": [
        "agent_executor.invoke({\"input\": \"What's the current weather in Dubai?\"})"
      ]
    },
    {
      "cell_type": "code",
      "execution_count": 20,
      "metadata": {
        "id": "yEPdSxxNM19N",
        "outputId": "1b756f98-6dc5-4041-ee74-29e4c769f0c7",
        "colab": {
          "base_uri": "https://localhost:8080/"
        }
      },
      "outputs": [
        {
          "output_type": "stream",
          "name": "stderr",
          "text": [
            "WARNING:langchain_core.callbacks.manager:Error in StdOutCallbackHandler.on_chain_start callback: AttributeError(\"'NoneType' object has no attribute 'get'\")\n"
          ]
        },
        {
          "output_type": "stream",
          "name": "stdout",
          "text": [
            "\u001b[32;1m\u001b[1;3m\n",
            "Invoking: `wikipedia` with `{'query': 'total area of USA'}`\n",
            "\n",
            "\n",
            "\u001b[0m\u001b[33;1m\u001b[1;3mPage: Total Petrochemicals USA\n",
            "Summary: Total Petrochemicals USA Inc. is a subsidiary of TotalEnergies. It engages in the production and marketing of petrochemical products. Its headquarters is the Total Plaza in Downtown Houston, Texas.\n",
            "\n",
            "Page: List of North American Numbering Plan area codes\n",
            "Summary: The North American Numbering Plan (NANP) divides the territories of its members into geographic numbering plan areas (NPAs). Each NPA is identified by one or more numbering plan area codes (NPA codes, or area codes), consisting of three digits that are prefixed to each local telephone number having seven digits. A numbering plan area with multiple area codes is called an overlay. Area codes are also assigned for non-geographic purposes. The rules for numbering NPAs do not permit the digits 0 and 1 in the leading position. Area codes with two identical trailing digits are easily recognizable codes (ERC). NPAs with 9 in the second position are reserved for future format expansion.\n",
            "\n",
            "Page: TotalEnergies\n",
            "Summary: TotalEnergies SE is a French multinational integrated energy and petroleum company founded in 1924 and is one of the seven supermajor oil companies. Its businesses cover the entire oil and gas chain, from crude oil and natural gas exploration and production to power generation, transportation, refining, petroleum product marketing, and international crude oil and product trading. TotalEnergies is also a large-scale chemicals manufacturer.\n",
            "TotalEnergies has its head office in the Tour Total in La Défense district in Courbevoie, west of Paris. The company is a component of the Euro Stoxx 50 stock market index. In the 2023 Forbes Global 2000, TotalEnergies was ranked as the 21st largest public company in the world.\n",
            "\n",
            "\u001b[0m\u001b[32;1m\u001b[1;3m\n",
            "Invoking: `tavily_search_results_json` with `{'query': 'total area of USA'}`\n",
            "\n",
            "\n",
            "\u001b[0m\u001b[36;1m\u001b[1;3m[{'url': 'https://www.nationsencyclopedia.com/Americas/United-States-LOCATION-SIZE-AND-EXTENT.html', 'content': 'United States - Location, size, and extent. Located in the Western Hemisphere on the continent of North America, the United States is the fourth-largest country in the world. Its total area, including Alaska and Hawaii, is 9,629,091 sq km (3,717,813 sq mi). The conterminous United States extends 4,662 km (2,897 mi) ENE — WSW and 4,583 km ...'}, {'url': 'https://en.wikipedia.org/wiki/List_of_U.S._states_and_territories_by_area', 'content': 'U.S. states by total area\\nU.S. states by land area\\nU.S. states by water area\\nU.S. states by water percentage\\nAlaska is the largest state by total area, land area, and water area.\\n It is the seventh-largest country subdivision in the world.[4][failed verification]\\nThe area of Alaska is 18% of the area of the United States and equivalent to 21% of the area of the contiguous United States.\\n San Bernardino County is the largest county in the contiguous U.S. and is larger than each of the nine smallest states; it is larger than the four smallest states combined.\\n Glaciers and intermittent bodies of water are counted as land area.[2]\\nArea by state, federal district or territory[edit]\\nArea by division[edit]\\n This is a complete list of the U.S. states, its federal district and its major territories ordered by total area, land area and water area.[1]'}]\u001b[0m\u001b[32;1m\u001b[1;3mThe total area of the United States, including Alaska and Hawaii, is approximately **9,629,091 square kilometers (3,717,813 square miles)**.\u001b[0m\n",
            "\n",
            "\u001b[1m> Finished chain.\u001b[0m\n"
          ]
        },
        {
          "output_type": "execute_result",
          "data": {
            "text/plain": [
              "{'input': 'what is total area of USA',\n",
              " 'output': 'The total area of the United States, including Alaska and Hawaii, is approximately **9,629,091 square kilometers (3,717,813 square miles)**.'}"
            ]
          },
          "metadata": {},
          "execution_count": 20
        }
      ],
      "source": [
        "agent_executor.invoke({\"input\": \"what is total area of USA\"})"
      ]
    },
    {
      "cell_type": "markdown",
      "metadata": {
        "id": "2WA4pjL2M19N"
      },
      "source": [
        "## Thank You"
      ]
    }
  ],
  "metadata": {
    "colab": {
      "provenance": [],
      "include_colab_link": true
    },
    "kernelspec": {
      "display_name": "Python 3",
      "name": "python3"
    },
    "language_info": {
      "codemirror_mode": {
        "name": "ipython",
        "version": 3
      },
      "file_extension": ".py",
      "mimetype": "text/x-python",
      "name": "python",
      "nbconvert_exporter": "python",
      "pygments_lexer": "ipython3",
      "version": "3.10.9"
    }
  },
  "nbformat": 4,
  "nbformat_minor": 0
}
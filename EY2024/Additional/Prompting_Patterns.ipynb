{
  "nbformat": 4,
  "nbformat_minor": 0,
  "metadata": {
    "colab": {
      "provenance": [],
      "include_colab_link": true
    },
    "kernelspec": {
      "name": "python3",
      "display_name": "Python 3"
    },
    "language_info": {
      "name": "python"
    }
  },
  "cells": [
    {
      "cell_type": "markdown",
      "metadata": {
        "id": "view-in-github",
        "colab_type": "text"
      },
      "source": [
        "<a href=\"https://colab.research.google.com/github/anshupandey/Generative-AI-for-Professionals/blob/main/EY2024/Additional/Prompting_Patterns.ipynb\" target=\"_parent\"><img src=\"https://colab.research.google.com/assets/colab-badge.svg\" alt=\"Open In Colab\"/></a>"
      ]
    },
    {
      "cell_type": "markdown",
      "metadata": {
        "id": "_rn1lLJXRfSZ"
      },
      "source": [
        "# Prompting Patterns\n",
        "\n",
        "---\n",
        "\n",
        "\n"
      ]
    },
    {
      "cell_type": "code",
      "source": [
        "!pip install openai --quiet"
      ],
      "metadata": {
        "id": "Tcivw8-CZ7SU"
      },
      "execution_count": null,
      "outputs": []
    },
    {
      "cell_type": "code",
      "execution_count": null,
      "metadata": {
        "id": "VPFAnv3rM8U0"
      },
      "outputs": [],
      "source": [
        "api_key = \"xxxxxxxxxxxxxxxxxxxxxxx\"\n",
        "api_version = \"2023-07-01-preview\" # \"2023-05-15\", 2024-02-01\n",
        "azure_endpoint = \"https://xxxxxxxxx.openai.azure.com/\"\n",
        "deployment_name = \"xxxxxxxxxxxx\""
      ]
    },
    {
      "cell_type": "code",
      "execution_count": null,
      "metadata": {
        "id": "AWcDdeofM8U0"
      },
      "outputs": [],
      "source": [
        "from openai import AzureOpenAI\n",
        "\n",
        "# gets the API Key from environment variable AZURE_OPENAI_API_KEY\n",
        "client = AzureOpenAI(\n",
        "    # https://learn.microsoft.com/en-us/azure/ai-services/openai/reference#rest-api-versioning\n",
        "    api_version=api_version,\n",
        "    # https://learn.microsoft.com/en-us/azure/cognitive-services/openai/how-to/create-resource?pivots=web-portal#create-a-resource\n",
        "    azure_endpoint=azure_endpoint,\n",
        "    api_key = api_key,\n",
        "\n",
        ")"
      ]
    },
    {
      "cell_type": "code",
      "execution_count": null,
      "metadata": {
        "id": "Xv50i87gy_UX"
      },
      "outputs": [],
      "source": [
        "def generate_response(prompt,temp=0.0):\n",
        "  response = client.chat.completions.create(\n",
        "      messages=[{\"role\":\"system\",'content':\"You are an expert programmer, you follow standard best practices for answering coding questions.\"},\n",
        "            {\"role\":\"user\",'content':prompt}],\n",
        "      model = deployment_name,\n",
        "      temperature=temp,\n",
        "  )\n",
        "  return response.choices[0].message.content"
      ]
    },
    {
      "cell_type": "markdown",
      "source": [
        "**Prompt Pattern Catalog**\n",
        "\n",
        "Patterns in prompts are directions that help AI generate specific responses. They consist of core contextual statements that improve the accuracy and relevance of the output provided by the language model."
      ],
      "metadata": {
        "id": "QD9wlSBpMwoe"
      }
    },
    {
      "cell_type": "markdown",
      "source": [
        " A Prompt Pattern Catalog to Enhance Prompt Engineering with ChatGPT.\n",
        "\n",
        "- Output Customization\n",
        "- Input Semantics\n",
        "- Prompt Improvement\n",
        "- Interaction"
      ],
      "metadata": {
        "id": "CJgEjYeyNOn3"
      }
    },
    {
      "cell_type": "markdown",
      "source": [
        "With each prompt patterns, Contextual statement is given which tells about what pattern the prompt has that direct the AI to generate specific responses."
      ],
      "metadata": {
        "id": "ejuyr0PJVayn"
      }
    },
    {
      "cell_type": "markdown",
      "source": [
        "**1. Output Customization**\n",
        "\n",
        "- Persona\n",
        "- Audience Persona\n",
        "- Output Automator\n",
        "- Template\n"
      ],
      "metadata": {
        "id": "u4B9t8DQOgkG"
      }
    },
    {
      "cell_type": "markdown",
      "source": [
        "**Persona Pattern**\n",
        "\n",
        "Contextual statements:\n",
        "\n",
        "- Act as Persona X.\n",
        "- Perform task Y."
      ],
      "metadata": {
        "id": "LtAMeI2cO57Z"
      }
    },
    {
      "cell_type": "code",
      "source": [
        "prompt='''\n",
        "Act as a personal trainer. Design a beginner-friendly workout routine for weight loss.\n",
        "'''\n",
        "\n",
        "\n",
        "ans=generate_response(prompt)\n",
        "\n",
        "print(ans)\n",
        "\n"
      ],
      "metadata": {
        "colab": {
          "base_uri": "https://localhost:8080/"
        },
        "id": "Ec0Y6TDpOGQR",
        "outputId": "32889647-ffe0-4af0-bc15-f2a76516427f"
      },
      "execution_count": null,
      "outputs": [
        {
          "output_type": "stream",
          "name": "stdout",
          "text": [
            "## Beginner Weight Loss Workout Routine (3 Days/Week)\n",
            "\n",
            "**Warm-up (5 minutes):**\n",
            "\n",
            "* Light cardio (jogging in place, jumping jacks)\n",
            "* Dynamic stretches (arm circles, leg swings)\n",
            "\n",
            "**Workout (25 minutes):**\n",
            "\n",
            "* **Day 1:**\n",
            "    * Squats (10 reps x 3 sets)\n",
            "    * Push-ups (5 reps x 3 sets, modify by doing them on your knees if needed)\n",
            "    * Plank (30 seconds x 3 sets)\n",
            "* **Day 2:**\n",
            "    * Walking Lunges (10 reps x 3 sets per leg)\n",
            "    * Crunches (15 reps x 3 sets)\n",
            "    * Bicycle Crunches (10 reps x 3 sets per side)\n",
            "* **Day 3:**\n",
            "    * Jumping Jacks (30 seconds x 3 sets)\n",
            "    * Jumping Lunges (10 reps x 3 sets per leg)\n",
            "    * High Knees (30 seconds x 3 sets)\n",
            "\n",
            "**Cool-down (5 minutes):**\n",
            "\n",
            "* Static stretches (hold each stretch for 30 seconds)\n",
            "\n",
            "**Notes:**\n",
            "\n",
            "* This workout is a guideline, adjust based on your fitness level.\n",
            "* Rest for 60 seconds between sets.\n",
            "* Listen to your body and stop if you feel any pain.\n",
            "* Aim for 3 days of exercise per week, with rest days in between.\n",
            "* Combine this workout with a healthy diet for optimal weight loss results. \n",
            "\n"
          ]
        }
      ]
    },
    {
      "cell_type": "markdown",
      "source": [
        "**Audience Persona Pattern**\n",
        "\n",
        "Contextual statements:\n",
        "\n",
        "- Explain X to me.\n",
        "- Assume that I am Persona Y."
      ],
      "metadata": {
        "id": "74MrHQGBP5jZ"
      }
    },
    {
      "cell_type": "code",
      "source": [
        "prompt='''\n",
        "Explain how day and night happens on the earth. Assume that I am a curious elementary school student.\n",
        "'''\n",
        "ans=generate_response(prompt)\n",
        "\n",
        "print(ans)"
      ],
      "metadata": {
        "colab": {
          "base_uri": "https://localhost:8080/"
        },
        "id": "PgAZXOJUPPti",
        "outputId": "344688c1-5bbe-42c8-b338-465a7cfa0fb6"
      },
      "execution_count": null,
      "outputs": [
        {
          "output_type": "stream",
          "name": "stdout",
          "text": [
            "Imagine the Earth is a giant ball spinning in space. The Sun is like a giant flashlight shining on the Earth. As the Earth spins, only one side faces the Sun at a time. That side is bathed in sunlight, making it daytime. The other side is facing away from the Sun, so it's dark, making it nighttime. \n",
            "\n"
          ]
        }
      ]
    },
    {
      "cell_type": "markdown",
      "source": [
        "**Output Automator Pattern**\n",
        "\n",
        "Contextual statements:\n",
        "\n",
        "- Whenever you produce an output that has at least one step to take and the following properties (alternatively, always do this).\n",
        "- Produce an executable artifact of type X that will automate these steps."
      ],
      "metadata": {
        "id": "kSY36a3dQaTm"
      }
    },
    {
      "cell_type": "code",
      "source": [
        "prompt='''\n",
        "From now on, whenever you create a meal plan with various ingredients for each meal,\n",
        "generate a Python script that will populate a shopping list with the ingredients.\n",
        "\n",
        "The list should adjust quantities based on the number of servings specified.\n",
        "'''\n",
        "ans=generate_response(prompt)\n",
        "\n",
        "print(ans)"
      ],
      "metadata": {
        "colab": {
          "base_uri": "https://localhost:8080/"
        },
        "id": "OQkgvoMsQO5D",
        "outputId": "625fbecf-b1a6-453e-eb3f-c6ecb238c066"
      },
      "execution_count": null,
      "outputs": [
        {
          "output_type": "stream",
          "name": "stdout",
          "text": [
            "Okay, I understand. I will generate a Python script to create a shopping list based on the meal plan and the number of servings.  Please provide me with the meal plan and the number of servings you need. I will then create the Python script for you. \n",
            "\n"
          ]
        }
      ]
    },
    {
      "cell_type": "markdown",
      "source": [
        "**Template Pattern**\n",
        "\n",
        "Contextual statements:\n",
        "\n",
        "- I am going to provide a template for your output.\n",
        "- X is my placeholder for the content.\n",
        "-Try to fit the output into one or more of the placeholders that I list.\n",
        "- Please preserve the formatting and overall template that I provide.\n",
        "- This is the template: PATTERN with PLACEHOLDERS."
      ],
      "metadata": {
        "id": "oqxulx0uRoiK"
      }
    },
    {
      "cell_type": "code",
      "source": [
        "prompt='''\n",
        "Generate a one-day travel itinerary for Las vegas.\n",
        "\n",
        "My placeholders are:\n",
        "- <DAY> for the day of the travel plan\n",
        "- <LOCATION> for the place to visit\n",
        "- <TIME> for the suggested visit time\n",
        "- <ACTIVITY> for the activity at that location\n",
        "\n",
        "Please preserve the formatting and overall template that I provide.\n",
        "\n",
        "Template: Travel Itinerary: - Visit <LOCATION> at <TIME> for <ACTIVITY>.\n",
        "'''\n",
        "ans=generate_response(prompt)\n",
        "\n",
        "print(ans)"
      ],
      "metadata": {
        "colab": {
          "base_uri": "https://localhost:8080/"
        },
        "id": "uuU5TPJORUxW",
        "outputId": "26ca0b5b-6950-4d4b-842d-7b980018f980"
      },
      "execution_count": null,
      "outputs": [
        {
          "output_type": "stream",
          "name": "stdout",
          "text": [
            "Travel Itinerary: \n",
            "- Visit **Bellagio Conservatory & Botanical Garden** at **10:00 AM** for **exploring the beautiful floral displays and taking photos**.\n",
            "- Visit **High Roller Observation Wheel** at **12:00 PM** for **enjoying panoramic views of the Las Vegas Strip**.\n",
            "- Visit **The LINQ Promenade** at **2:00 PM** for **shopping, dining, and exploring the interactive attractions**.\n",
            "- Visit **The Venetian and The Palazzo** at **4:00 PM** for **walking through the luxurious Italian-themed resorts and experiencing the canals and gondolas**.\n",
            "- Visit **Caesars Palace** at **6:00 PM** for **exploring the Roman-inspired architecture and enjoying a delicious dinner at one of the many restaurants**.\n",
            "- Visit **Fountains of Bellagio** at **8:00 PM** for **watching the mesmerizing water and light show synchronized to music**. \n",
            "\n"
          ]
        }
      ]
    },
    {
      "cell_type": "markdown",
      "source": [
        "**2. Input Semantics**\n",
        "\n",
        "- Meta Language Creation Pattern\n",
        "- Menu Actions Pattern"
      ],
      "metadata": {
        "id": "bXwsF4GJSsw0"
      }
    },
    {
      "cell_type": "markdown",
      "source": [
        "**Meta Language Creation Pattern**\n",
        "\n",
        "Contextual statements:\n",
        "- When I say X, I mean Y (or would like you to do Y).\n"
      ],
      "metadata": {
        "id": "gc4uOQO_TFo_"
      }
    },
    {
      "cell_type": "code",
      "source": [
        "prompt='''\n",
        "When I say \"3A12NS\", I mean generate 3 random passwords of 12 characters in length,\n",
        "including numbers and symbols.\n",
        "\n",
        "2A16N\n",
        "'''\n",
        "ans=generate_response(prompt)\n",
        "\n",
        "print(ans)"
      ],
      "metadata": {
        "colab": {
          "base_uri": "https://localhost:8080/"
        },
        "id": "IkUaBgoaR8lD",
        "outputId": "3a88f507-23f3-4ed8-f9ba-ab1ec0e7182e"
      },
      "execution_count": null,
      "outputs": [
        {
          "output_type": "stream",
          "name": "stdout",
          "text": [
            "Sure, here are 2 random passwords of 16 characters in length, including numbers and symbols:\n",
            "\n",
            "* 7$%g2H!k&D@5w\n",
            "* 3pZ&F*R@y(9sV \n",
            "\n"
          ]
        }
      ]
    },
    {
      "cell_type": "markdown",
      "source": [
        "**Menu Actions Pattern**\n",
        "\n",
        "Contextual statements:\n",
        "- Whenever I type: X, you will do Y."
      ],
      "metadata": {
        "id": "9HrVBeyTUsfP"
      }
    },
    {
      "cell_type": "code",
      "source": [
        "prompt='''\n",
        "Whenever I type: \"sst\", you will generate a short story or greek mythology\n",
        "Whenever I type: \"ht\", you will teach me history of dinosaurs\n",
        "Whenever I type: \"test\", you will take a test of me on general knowledge\n",
        "'''\n",
        "\n",
        "ans=generate_response(prompt+\" \\n  \"+input(\"type: \"))\n",
        "\n",
        "print(ans)"
      ],
      "metadata": {
        "colab": {
          "base_uri": "https://localhost:8080/"
        },
        "id": "90lk5RvHTZjk",
        "outputId": "0b70c583-e556-47f3-a736-48939e1c780a"
      },
      "execution_count": null,
      "outputs": [
        {
          "output_type": "stream",
          "name": "stdout",
          "text": [
            "type: test\n",
            "Okay, I'm ready for your general knowledge test.  Let's begin! \n",
            "\n",
            "**Question 1:** What is the capital of France? \n",
            "\n"
          ]
        }
      ]
    },
    {
      "cell_type": "markdown",
      "source": [
        "**3. Prompt Improvement**\n",
        "\n",
        "- Question Refinement\n",
        "- Alternative Approaches\n",
        "- Cognitive Verifier"
      ],
      "metadata": {
        "id": "CaLiCfdxVbWk"
      }
    },
    {
      "cell_type": "markdown",
      "source": [
        "**Question Refinement Pattern**\n",
        "\n",
        "Contextual statements:\n",
        "\n",
        "- Whenever I ask a question, suggest a better version of the question to use instead.\n",
        "- (Optional) Prompt me if I would like to use the better version instead."
      ],
      "metadata": {
        "id": "jUQBF7bvVuk8"
      }
    },
    {
      "cell_type": "code",
      "source": [
        "prompt='''\n",
        "Whenever I ask a question about the best programming language to learn,\n",
        "suggest a better version of the question which makes question certain and definite, you can also generate some new versions of question that consider the context like on what is the use of it,how to implement it, domain and interest, .\n",
        "\n",
        "'''\n",
        "ans=generate_response(prompt + \"\\n\\n\"+input(\"User: \"))\n",
        "\n",
        "print(ans)\n",
        "# What is the use of generators and decorators of python language"
      ],
      "metadata": {
        "colab": {
          "base_uri": "https://localhost:8080/"
        },
        "id": "KAXx6ZVnUiVz",
        "outputId": "4dafea65-f3d4-4d01-df7e-9deb3f66b0d7"
      },
      "execution_count": null,
      "outputs": [
        {
          "output_type": "stream",
          "name": "stdout",
          "text": [
            "User: What is the use of generators and decorators of python language\n",
            "Here are some better versions of your question about Python generators and decorators:\n",
            "\n",
            "**More Specific:**\n",
            "\n",
            "* **\"What are the practical applications of generators in Python, and how can they be used to improve code efficiency?\"**\n",
            "* **\"How do decorators in Python enhance code reusability and maintainability, and what are some real-world examples of their use?\"**\n",
            "* **\"Can you explain the concept of generators and decorators in Python with a simple example of each, highlighting their benefits?\"**\n",
            "\n",
            "**More Contextual:**\n",
            "\n",
            "* **\"I'm working on a project that involves processing large datasets in Python. Would using generators be a suitable approach, and if so, how could I implement them?\"**\n",
            "* **\"I'm trying to understand how to write more elegant and modular code in Python. Could decorators help me achieve this goal, and if so, how would I apply them?\"** \n",
            "* **\"What are the advantages of using generators and decorators in Python, particularly for tasks related to [specific area of interest, like web development, data science, or game development]?\"** \n",
            "\n"
          ]
        }
      ]
    },
    {
      "cell_type": "markdown",
      "source": [
        "**Alternative Approaches Pattern**\n",
        "\n",
        "Contextual statements:\n",
        "\n",
        "If there are alternative ways to accomplish task X that I give you, list the best alternate approaches.\n",
        "(Optional) Compare/contrast the pros and cons of each approach.\n",
        "(Optional) Include the original way that I asked.\n",
        "(Optional) Prompt me on which approach I would like to use."
      ],
      "metadata": {
        "id": "Kh1zi1699txK"
      }
    },
    {
      "cell_type": "code",
      "source": [
        "prompt='''\n",
        "When I ask you for cooking recipes, consider the ingredients and type of cuisine.\n",
        "\n",
        "Propose alternative recipes that can be made with the same ingredients or suggest variations.\n",
        "\n",
        "Compare their tastes, cooking methods, and nutritional values.\n",
        "'''\n",
        "\n",
        "\n",
        "ans=generate_response(prompt+input(\"\"))\n",
        "\n",
        "print(ans)\n",
        "# what is the cooking recipe for butter chicken?"
      ],
      "metadata": {
        "colab": {
          "base_uri": "https://localhost:8080/"
        },
        "id": "FapyUn205YMs",
        "outputId": "0a9f6dbf-cca3-49a4-8885-34b33f024c1e"
      },
      "execution_count": null,
      "outputs": [
        {
          "output_type": "stream",
          "name": "stdout",
          "text": [
            "what is the cooking recipe for butter chicken?\n",
            "## Butter Chicken Recipe\n",
            "\n",
            "**Ingredients:**\n",
            "\n",
            "* 1 lb boneless, skinless chicken thighs or breasts, cut into bite-sized pieces\n",
            "* 1 tbsp ginger-garlic paste\n",
            "* 1 tsp red chili powder\n",
            "* 1 tsp turmeric powder\n",
            "* 1 tsp garam masala\n",
            "* 1/2 tsp cumin powder\n",
            "* 1/4 cup plain yogurt\n",
            "* 1 tbsp lemon juice\n",
            "* Salt to taste\n",
            "* 1 tbsp oil\n",
            "* 1 large onion, finely chopped\n",
            "* 1 tbsp tomato paste\n",
            "* 1 cup tomato puree\n",
            "* 1/2 cup heavy cream\n",
            "* 1 tbsp butter\n",
            "* Fresh cilantro for garnish\n",
            "\n",
            "**Instructions:**\n",
            "\n",
            "1. **Marinate the chicken:** In a bowl, combine the chicken, ginger-garlic paste, red chili powder, turmeric powder, garam masala, cumin powder, yogurt, lemon juice, and salt. Mix well and marinate for at least 30 minutes.\n",
            "2. **Cook the chicken:** Heat oil in a pan over medium heat. Add the marinated chicken and cook until browned on all sides.\n",
            "3. **Make the sauce:** Add the onion to the pan and cook until softened. Add the tomato paste and cook for 1 minute. Add the tomato puree, heavy cream, and butter. Bring to a simmer and cook for 10 minutes, stirring occasionally. \n",
            "4. **Combine and finish:** Add the cooked chicken to the sauce. Simmer for another 5 minutes until the chicken is cooked through and the sauce has thickened. Garnish with fresh cilantro and serve with rice or naan bread.\n",
            "\n",
            "**Alternative Recipes:**\n",
            "\n",
            "* **Chicken Tikka Masala:** Similar to butter chicken, but uses tandoori-style chicken cooked in a creamy tomato sauce with a richer flavor.\n",
            "* **Chicken Korma:** A milder and creamier version, featuring a cashew-based sauce with a subtle sweetness.\n",
            "\n",
            "**Comparison:**\n",
            "\n",
            "* **Taste:** Butter chicken is known for its rich, creamy, and slightly spicy flavor. Chicken Tikka Masala is more intense and slightly tangier, while Chicken Korma is milder and sweeter.\n",
            "* **Cooking Methods:** All three recipes are similar in their cooking methods, involving marinating the chicken, cooking it in a sauce, and simmering until done.\n",
            "* **Nutritional Value:** All three recipes are high in protein and calories due to the cream and butter used. However, Chicken Korma is slightly lower in fat compared to butter chicken and Tikka Masala.\n",
            "\n",
            "**Variations:**\n",
            "\n",
            "* **Spice level:** Adjust the amount of red chili powder to your preferred level of spiciness.\n",
            "* **Creaminess:** Use less or more cream depending on your desired consistency.\n",
            "* **Flavor:** Add other spices like cardamom, cloves, or cinnamon for a more complex flavor profile.\n",
            "* **Meat:** Use other types of meat like lamb or paneer (Indian cheese) instead of chicken.\n",
            "\n"
          ]
        }
      ]
    },
    {
      "cell_type": "markdown",
      "source": [
        "**Cognitive Verifier Pattern**\n",
        "\n",
        "Contextual statements:\n",
        "\n",
        "When you are asked a question, follow these rules [RULES].\n",
        "\n",
        "Generate a number of additional questions that would help more accurately answer the question.\n",
        "\n",
        "Combine the answers to the individual questions to produce the final answer to the overall question."
      ],
      "metadata": {
        "id": "hzg6dZRs_CcF"
      }
    },
    {
      "cell_type": "code",
      "source": [
        "prompt='''\n",
        "If I ask you to evaluate my symptoms,\n",
        "\n",
        "generate additional questions to understand the potential causes.\n",
        "\n",
        "Combine my answers to try to identify causes and suggest treatments.\n",
        "'''\n",
        "\n",
        "\n",
        "ans=generate_response(prompt+input(\"User: \"))\n",
        "\n",
        "print(\"AI: \"+ans)\n",
        "# i am feeling cold, i think i have fever"
      ],
      "metadata": {
        "colab": {
          "base_uri": "https://localhost:8080/"
        },
        "id": "pApCzpSx-VHi",
        "outputId": "81568597-4b33-4b2d-e26e-5afaaa4ee7e5"
      },
      "execution_count": null,
      "outputs": [
        {
          "output_type": "stream",
          "name": "stdout",
          "text": [
            "User: i am feeling cold, i think i have fever\n",
            "AI: To better understand your symptoms, please tell me:\n",
            "\n",
            "* **How long have you been feeling cold?**\n",
            "* **What is your temperature?**\n",
            "* **Do you have any other symptoms like chills, sweating, muscle aches, or headache?**\n",
            "* **Have you been exposed to anyone who is sick recently?**\n",
            "* **Have you been traveling recently?**\n",
            "* **Are you taking any medications?**\n",
            "\n",
            "Based on your answers, we can identify potential causes, such as a cold, the flu, or another illness. I can then suggest appropriate treatments, such as rest, fluids, and over-the-counter medications.  However, I am not a medical professional. **If you are concerned about your health, please consult a doctor.** \n",
            "\n"
          ]
        }
      ]
    },
    {
      "cell_type": "code",
      "source": [
        "prompt = prompt + \"\\n\" + ans + \"\\n\"\n",
        "ans=generate_response(prompt + input(\"User: \"))\n",
        "\n",
        "print(\"AI: \"+ans)\n",
        "# I am also experiencing body aches"
      ],
      "metadata": {
        "colab": {
          "base_uri": "https://localhost:8080/"
        },
        "id": "xqEbr1Zg_Vwf",
        "outputId": "4908d290-a135-4ee5-a5dd-30afd181c3aa"
      },
      "execution_count": null,
      "outputs": [
        {
          "output_type": "stream",
          "name": "stdout",
          "text": [
            "User: I am also experiencing body aches\n",
            "AI: Please tell me:\n",
            "\n",
            "* **How long have you been experiencing body aches?**\n",
            "* **Where are the body aches located?**\n",
            "* **Are the body aches severe or mild?**\n",
            "* **Do you have any other symptoms like fever, chills, or fatigue?**\n",
            "* **Have you been exercising recently?**\n",
            "* **Have you been under a lot of stress lately?** \n",
            "\n"
          ]
        }
      ]
    },
    {
      "cell_type": "code",
      "source": [
        "prompt = prompt + \"\\n\" + ans + \"\\n\"\n",
        "ans=generate_response(prompt + input(\"User: \"))\n",
        "\n",
        "print(\"AI: \"+ans)\n",
        "# coughing"
      ],
      "metadata": {
        "colab": {
          "base_uri": "https://localhost:8080/"
        },
        "id": "FBggeiTuAv0t",
        "outputId": "6575f89d-4ec1-47ff-c69f-9f7c8b37bfa9"
      },
      "execution_count": null,
      "outputs": [
        {
          "output_type": "stream",
          "name": "stdout",
          "text": [
            "User: coughing\n",
            "AI: * **How long have you been coughing?**\n",
            "* **Is the cough dry or productive (bringing up phlegm)?**\n",
            "* **What color is the phlegm?**\n",
            "* **Do you have any other symptoms like chest pain, shortness of breath, or fever?**\n",
            "* **Have you been exposed to anyone who is sick recently?**\n",
            "* **Are you taking any medications?**\n",
            "\n",
            "Based on your answers, I might be able to suggest possible causes like a cold, the flu, allergies, or even asthma. I can also offer suggestions for symptom relief, such as drinking fluids, using a humidifier, or taking over-the-counter medications. However, I am not a medical professional, so **if you are concerned about your health, please consult a doctor.** \n",
            "\n"
          ]
        }
      ]
    },
    {
      "cell_type": "markdown",
      "source": [
        "**4. Interaction**\n",
        "\n",
        "- Flipped Interaction\n",
        "- Game Play"
      ],
      "metadata": {
        "id": "MOCcbKsCEjtt"
      }
    },
    {
      "cell_type": "markdown",
      "source": [
        "**Flipped Interaction Pattern**\n",
        "\n",
        "Contextual statements:\n",
        "\n",
        "- I would like you to ask me questions to achieve X.\n",
        "- You should ask questions until condition Y is met or to achieve this goal (alternatively, forever).\n",
        "- (Optional) Ask me N questions at a time."
      ],
      "metadata": {
        "id": "7gm9_XnhE9YC"
      }
    },
    {
      "cell_type": "code",
      "source": [
        "prompt='''\n",
        "I want to improve my knowledge of world geography.\n",
        "Ask me trivia questions about this topic until I've correctly answered 5 questions.\n",
        "\n",
        "Begin with the first question.\n",
        "'''\n",
        "\n",
        "ans=generate_response(prompt)\n",
        "\n",
        "print(\"AI: \"+ans)\n"
      ],
      "metadata": {
        "colab": {
          "base_uri": "https://localhost:8080/"
        },
        "id": "Oy86ZeI_Cpv7",
        "outputId": "a72b1ec0-de20-4283-9440-bc6aa14e7ce5"
      },
      "execution_count": null,
      "outputs": [
        {
          "output_type": "stream",
          "name": "stdout",
          "text": [
            "AI: What is the largest country in the world by land area? \n",
            "\n"
          ]
        }
      ]
    },
    {
      "cell_type": "code",
      "source": [
        "\n",
        "prompt = prompt + \"\\n assistant: \" + ans + \"\\n  user: \" + input(\"User: \")\n",
        "\n",
        "\n",
        "ans=generate_response(prompt)\n",
        "\n",
        "print(\"AI: \"+ans)\n"
      ],
      "metadata": {
        "colab": {
          "base_uri": "https://localhost:8080/"
        },
        "id": "1LT15uLJP-dg",
        "outputId": "5a102aef-f6ab-48ce-8ba5-233366690f52"
      },
      "execution_count": null,
      "outputs": [
        {
          "output_type": "stream",
          "name": "stdout",
          "text": [
            "User: Australia\n",
            "AI: That's incorrect.  The largest country by land area is **Russia**. Try again! \n",
            "\n",
            "What is the smallest country in the world by land area? \n",
            "\n"
          ]
        }
      ]
    },
    {
      "cell_type": "code",
      "source": [
        "\n",
        "prompt = prompt + \"\\n assistant: \" + ans + \"\\n  user: \" + input(\"User: \")\n",
        "\n",
        "\n",
        "ans=generate_response(prompt)\n",
        "\n",
        "print(\"AI: \"+ans)\n"
      ],
      "metadata": {
        "colab": {
          "base_uri": "https://localhost:8080/"
        },
        "id": "MBHrd4LyRBpN",
        "outputId": "78581942-e8ed-4084-b7bf-26a720aa13c1"
      },
      "execution_count": null,
      "outputs": [
        {
          "output_type": "stream",
          "name": "stdout",
          "text": [
            "User: Vatican City\n",
            "AI: Correct! \n",
            "\n",
            "What is the longest river in the world? \n",
            "\n"
          ]
        }
      ]
    },
    {
      "cell_type": "code",
      "source": [
        "\n",
        "prompt = prompt + \"\\n assistant: \" + ans + \"\\n  user: \" + input(\"User: \")\n",
        "\n",
        "\n",
        "ans=generate_response(prompt)\n",
        "\n",
        "print(\"AI: \"+ans)"
      ],
      "metadata": {
        "colab": {
          "base_uri": "https://localhost:8080/"
        },
        "id": "9aHdkOPkRHKm",
        "outputId": "fd4ef66d-508d-4d1a-90a1-1551f5244911"
      },
      "execution_count": null,
      "outputs": [
        {
          "output_type": "stream",
          "name": "stdout",
          "text": [
            "User: Nile\n",
            "AI: Correct!\n",
            "\n",
            "What is the largest ocean in the world? \n",
            "\n"
          ]
        }
      ]
    },
    {
      "cell_type": "code",
      "source": [
        "\n",
        "prompt = prompt + \"\\n assistant: \" + ans + \"\\n  user: \" + input(\"User: \")\n",
        "\n",
        "\n",
        "ans=generate_response(prompt)\n",
        "\n",
        "print(\"AI: \"+ans)"
      ],
      "metadata": {
        "colab": {
          "base_uri": "https://localhost:8080/"
        },
        "id": "hGso1av5RL0K",
        "outputId": "b6f009b5-b42f-444d-8294-eb292e55a0a9"
      },
      "execution_count": null,
      "outputs": [
        {
          "output_type": "stream",
          "name": "stdout",
          "text": [
            "User: pacific\n",
            "AI: Correct!\n",
            "\n",
            "What is the highest mountain in the world? \n",
            "\n"
          ]
        }
      ]
    },
    {
      "cell_type": "code",
      "source": [
        "\n",
        "prompt = prompt + \"\\n assistant: \" + ans + \"\\n  user: \" + input(\"User: \")\n",
        "\n",
        "\n",
        "\n",
        "ans=generate_response(prompt)\n",
        "\n",
        "print(\"AI: \"+ans)"
      ],
      "metadata": {
        "colab": {
          "base_uri": "https://localhost:8080/"
        },
        "id": "aorY4kr5RdV2",
        "outputId": "1b0c3ede-2193-45ac-f4a3-baeb612ff6a4"
      },
      "execution_count": null,
      "outputs": [
        {
          "output_type": "stream",
          "name": "stdout",
          "text": [
            "User: Mount Everest\n",
            "AI: Correct! You have answered 5 questions correctly. \n",
            "\n"
          ]
        }
      ]
    },
    {
      "cell_type": "markdown",
      "source": [
        "**Game Play Pattern**\n",
        "\n",
        "Contextual statements:\n",
        "\n",
        "- Create a game for me around X OR we are going to play an X game.\n",
        "\n",
        "- One or more fundamental rules of the game."
      ],
      "metadata": {
        "id": "BTEHVfjZR5qt"
      }
    },
    {
      "cell_type": "code",
      "source": [
        "prompt='''\n",
        "We are going to play a English language learning game.\n",
        "\n",
        "The rules are:\n",
        "- I am a student studying in high school\n",
        "- Each time you will generate a short French sentences\n",
        "- I will try to translate the French sentences into English\n",
        "- For every correct guess, I get one point.\n",
        "\n",
        "end this game with total points when i write 'exit'\n",
        "\n",
        "'''\n",
        "\n",
        "ans=generate_response(prompt)\n",
        "\n",
        "print(\"AI: \"+ans)"
      ],
      "metadata": {
        "colab": {
          "base_uri": "https://localhost:8080/"
        },
        "id": "KpuzaxMDRn1-",
        "outputId": "66cca4df-9d9c-4f0b-a474-7b49223e40ac"
      },
      "execution_count": null,
      "outputs": [
        {
          "output_type": "stream",
          "name": "stdout",
          "text": [
            "AI: Okay, I'm ready to play!  Let's start with this French sentence:\n",
            "\n",
            "**J'aime le chocolat.** \n",
            "\n"
          ]
        }
      ]
    },
    {
      "cell_type": "code",
      "source": [
        "prompt = prompt + \"\\n assistant: \" + ans + \"\\n  user: \" + input(\"User: \")\n",
        "\n",
        "ans=generate_response(prompt)\n",
        "\n",
        "print(\"AI: \"+ans)"
      ],
      "metadata": {
        "colab": {
          "base_uri": "https://localhost:8080/"
        },
        "id": "UTRNaO7ITYav",
        "outputId": "f6aea412-7969-4dc9-d9ab-d958e2eb48d0"
      },
      "execution_count": null,
      "outputs": [
        {
          "output_type": "stream",
          "name": "stdout",
          "text": [
            "User: i like chocalate.\n",
            "AI: That's correct! You get 1 point.  \n",
            "\n",
            "**Le chat est sur le tapis.** \n",
            "\n"
          ]
        }
      ]
    },
    {
      "cell_type": "code",
      "source": [
        "prompt = prompt + \"\\n assistant: \" + ans + \"\\n  user: \" + input(\"User: \")\n",
        "\n",
        "ans=generate_response(prompt)\n",
        "\n",
        "print(\"AI: \"+ans)"
      ],
      "metadata": {
        "colab": {
          "base_uri": "https://localhost:8080/"
        },
        "id": "lBhGucVPTro0",
        "outputId": "d0489141-e6a9-424a-a4ad-accaca467e5d"
      },
      "execution_count": null,
      "outputs": [
        {
          "output_type": "stream",
          "name": "stdout",
          "text": [
            "User: Lets chat now\n",
            "AI: That's incorrect. The cat is on the rug.  You have 1 point. \n",
            "\n",
            "**Je suis fatigué.** \n",
            "\n"
          ]
        }
      ]
    },
    {
      "cell_type": "code",
      "source": [
        "prompt = prompt + \"\\n assistant: \" + ans + \"\\n  user: \" + input(\"User: \")\n",
        "\n",
        "ans=generate_response(prompt)\n",
        "\n",
        "\n",
        "print(\"AI: \"+ans)"
      ],
      "metadata": {
        "colab": {
          "base_uri": "https://localhost:8080/"
        },
        "id": "5uvWL2M3T3x-",
        "outputId": "a929228c-5c2a-4e02-bcd9-86c74e978de9"
      },
      "execution_count": null,
      "outputs": [
        {
          "output_type": "stream",
          "name": "stdout",
          "text": [
            "User: i am feeling fatigue\n",
            "AI: That's correct!  You get 2 points.  \n",
            "\n",
            "**Il fait beau aujourd'hui.** \n",
            "\n"
          ]
        }
      ]
    },
    {
      "cell_type": "code",
      "source": [],
      "metadata": {
        "id": "9DIRrhloT7Pf"
      },
      "execution_count": null,
      "outputs": []
    },
    {
      "cell_type": "markdown",
      "source": [
        "## Thank You"
      ],
      "metadata": {
        "id": "M37G76cXnfX7"
      }
    }
  ]
}
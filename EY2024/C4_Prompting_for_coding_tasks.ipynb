{
  "cells": [
    {
      "cell_type": "markdown",
      "metadata": {
        "id": "view-in-github",
        "colab_type": "text"
      },
      "source": [
        "<a href=\"https://colab.research.google.com/github/anshupandey/Generative-AI-for-Professionals/blob/main/EY2024/C4_Prompting_for_coding_tasks.ipynb\" target=\"_parent\"><img src=\"https://colab.research.google.com/assets/colab-badge.svg\" alt=\"Open In Colab\"/></a>"
      ]
    },
    {
      "cell_type": "markdown",
      "metadata": {
        "id": "gUIEP9y7NHxU"
      },
      "source": [
        "# Azure OpenAI: Prompt Engineering for Coding Tasks"
      ]
    },
    {
      "cell_type": "code",
      "execution_count": null,
      "metadata": {
        "colab": {
          "base_uri": "https://localhost:8080/"
        },
        "id": "7KQD1SXcnSYu",
        "outputId": "9f36f175-4ec5-4309-cff4-7e9c76c060e5"
      },
      "outputs": [
        {
          "name": "stdout",
          "output_type": "stream",
          "text": [
            "\u001b[2K     \u001b[90m━━━━━━━━━━━━━━━━━━━━━━━━━━━━━━━━━━━━━━━━\u001b[0m \u001b[32m77.0/77.0 kB\u001b[0m \u001b[31m1.7 MB/s\u001b[0m eta \u001b[36m0:00:00\u001b[0m\n",
            "\u001b[2K     \u001b[90m━━━━━━━━━━━━━━━━━━━━━━━━━━━━━━━━━━━━━━━━\u001b[0m \u001b[32m1.6/1.6 MB\u001b[0m \u001b[31m14.2 MB/s\u001b[0m eta \u001b[36m0:00:00\u001b[0m\n",
            "\u001b[?25h"
          ]
        }
      ],
      "source": [
        "!pip install openai --quiet"
      ]
    },
    {
      "cell_type": "code",
      "execution_count": null,
      "metadata": {
        "id": "VPFAnv3rM8U0"
      },
      "outputs": [],
      "source": [
        "api_key = \"xxxxxxxxxxxxxxxxxxxxxxx\"\n",
        "api_version = \"2023-07-01-preview\" # \"2023-05-15\", 2024-02-01\n",
        "azure_endpoint = \"https://xxxxxxxxx.openai.azure.com/\"\n",
        "deployment_name = \"xxxxxxxxxxxx\""
      ]
    },
    {
      "cell_type": "code",
      "execution_count": null,
      "metadata": {
        "id": "AWcDdeofM8U0"
      },
      "outputs": [],
      "source": [
        "from openai import AzureOpenAI\n",
        "\n",
        "# gets the API Key from environment variable AZURE_OPENAI_API_KEY\n",
        "client = AzureOpenAI(\n",
        "    # https://learn.microsoft.com/en-us/azure/ai-services/openai/reference#rest-api-versioning\n",
        "    api_version=api_version,\n",
        "    # https://learn.microsoft.com/en-us/azure/cognitive-services/openai/how-to/create-resource?pivots=web-portal#create-a-resource\n",
        "    azure_endpoint=azure_endpoint,\n",
        "    api_key = api_key,\n",
        "\n",
        ")"
      ]
    },
    {
      "cell_type": "code",
      "execution_count": null,
      "metadata": {
        "id": "Xv50i87gy_UX"
      },
      "outputs": [],
      "source": [
        "def generate_response(prompt,temp=0.0):\n",
        "  response = client.chat.completions.create(\n",
        "      messages=[{\"role\":\"system\",'content':\"You are an expert programmer, you follow standard best practices for answering coding questions.\"},\n",
        "            {\"role\":\"user\",'content':prompt}],\n",
        "      model = deployment_name,\n",
        "      temperature=temp,\n",
        "  )\n",
        "  return response.choices[0].message.content"
      ]
    },
    {
      "cell_type": "markdown",
      "metadata": {
        "id": "qjb3J7DzygTu"
      },
      "source": [
        "# Calculate Code Complexity"
      ]
    },
    {
      "cell_type": "code",
      "execution_count": null,
      "metadata": {
        "colab": {
          "base_uri": "https://localhost:8080/"
        },
        "id": "IVXYhAUHyfUJ",
        "outputId": "7c486c3b-d16d-47ca-fac1-6321a77eca53"
      },
      "outputs": [
        {
          "name": "stdout",
          "output_type": "stream",
          "text": [
            "To determine the time complexity of the given Python function `myfun`, we need to analyze the nested loops within the function.\n",
            "\n",
            "Here is the provided code:\n",
            "\n",
            "```python\n",
            "def myfun(c, v):\n",
            "  counter = 0\n",
            "  for i in range(c):\n",
            "    for j in range(v):\n",
            "      counter += 1\n",
            "  return counter\n",
            "```\n",
            "\n",
            "Let's break down the code:\n",
            "\n",
            "1. **Initialization**: \n",
            "   ```python\n",
            "   counter = 0\n",
            "   ```\n",
            "   This is a constant time operation, \\(O(1)\\).\n",
            "\n",
            "2. **Outer Loop**:\n",
            "   ```python\n",
            "   for i in range(c):\n",
            "   ```\n",
            "   This loop runs `c` times.\n",
            "\n",
            "3. **Inner Loop**:\n",
            "   ```python\n",
            "   for j in range(v):\n",
            "   ```\n",
            "   This loop runs `v` times for each iteration of the outer loop.\n",
            "\n",
            "4. **Inner Operation**:\n",
            "   ```python\n",
            "   counter += 1\n",
            "   ```\n",
            "   This operation is executed once for each iteration of the inner loop.\n",
            "\n",
            "To find the total number of operations, we multiply the number of iterations of the outer loop by the number of iterations of the inner loop:\n",
            "\n",
            "- The outer loop runs `c` times.\n",
            "- For each iteration of the outer loop, the inner loop runs `v` times.\n",
            "\n",
            "Therefore, the total number of executions of the statement `counter += 1` is \\(c \\times v\\).\n",
            "\n",
            "Thus, the time complexity of the function `myfun` is \\(O(c \\times v)\\).\n"
          ]
        }
      ],
      "source": [
        "code = \"\"\"\n",
        "def myfun(c,v):\n",
        "  counter = 0\n",
        "  for i in range(c):\n",
        "    for j in range(v):\n",
        "      counter +=1\n",
        "  return counter\n",
        "\"\"\"\n",
        "\n",
        "prompt = f\"\"\"you will be provided with python code, and your task is to calculate its time complexity.\n",
        "         Code: {code}\"\"\"\n",
        "\n",
        "print(generate_response(prompt))"
      ]
    },
    {
      "cell_type": "markdown",
      "metadata": {
        "id": "LOKpnaYF2DE0"
      },
      "source": [
        "# Improve code efficiency"
      ]
    },
    {
      "cell_type": "code",
      "execution_count": null,
      "metadata": {
        "colab": {
          "base_uri": "https://localhost:8080/"
        },
        "id": "2K0FKxFmz5ZN",
        "outputId": "7e2bbac8-59eb-40cf-f886-9091c0a5c0e3"
      },
      "outputs": [
        {
          "name": "stdout",
          "output_type": "stream",
          "text": [
            "The given code uses a nested loop to check for pairs of elements that sum up to `k`. This approach has a time complexity of \\(O(n^2)\\), which can be inefficient for large lists. We can improve the efficiency by using a hash set to keep track of the elements we have seen so far. This allows us to check for the required pair in \\(O(n)\\) time.\n",
            "\n",
            "Here is the optimized version of the code:\n",
            "\n",
            "```python\n",
            "from typing import List\n",
            "\n",
            "def has_sum_k(nums: List[int], k: int) -> bool:\n",
            "    '''\n",
            "    Returns True if there are two distinct elements in nums such that their sum\n",
            "    is equal to k, and otherwise returns False.\n",
            "    '''\n",
            "    seen = set()\n",
            "    for num in nums:\n",
            "        if k - num in seen:\n",
            "            return True\n",
            "        seen.add(num)\n",
            "    return False\n",
            "```\n",
            "\n",
            "### Explanation:\n",
            "1. **Initialization**: We initialize an empty set called `seen` to keep track of the numbers we have encountered so far.\n",
            "2. **Iteration**: We iterate through each number in the list `nums`.\n",
            "3. **Check for Pair**: For each number `num`, we check if `k - num` is already in the `seen` set. If it is, it means there exists a previous number that, when added to `num`, equals `k`. In this case, we return `True`.\n",
            "4. **Add to Set**: If `k - num` is not in the set, we add `num` to the `seen` set and continue.\n",
            "5. **Return False**: If we finish the loop without finding any such pair, we return `False`.\n",
            "\n",
            "### Time Complexity:\n",
            "- The time complexity of this approach is \\(O(n)\\), where \\(n\\) is the number of elements in the list. This is because we only make a single pass through the list and each lookup and insertion operation in a set is \\(O(1)\\) on average.\n",
            "\n",
            "### Space Complexity:\n",
            "- The space complexity is \\(O(n)\\) in the worst case, where \\(n\\) is the number of elements in the list, because we might end up storing all elements in the set.\n",
            "\n",
            "This optimized approach is much more efficient for large lists compared to the original nested loop approach.\n"
          ]
        }
      ],
      "source": [
        "code = \"\"\"\n",
        "from typing import List\n",
        "def has_sum_k(nums: List[int], k: int) -> bool:\n",
        "    '''\n",
        "    Returns True if there are two distinct elements in nums such that their sum\n",
        "    is equal to k, and otherwise returns False.\n",
        "    '''\n",
        "    n = len(nums)\n",
        "    for i in range(n):\n",
        "        for j in range(i+1, n):\n",
        "            if nums[i] + nums[j] == k:\n",
        "                return True\n",
        "    return False\n",
        "\"\"\"\n",
        "\n",
        "\n",
        "prompt = f\"\"\"Provide techniques to improve efficiency for below python code:\n",
        "         Code: {code}\"\"\"\n",
        "\n",
        "print(generate_response(prompt))"
      ]
    },
    {
      "cell_type": "markdown",
      "metadata": {
        "id": "8LxdSdLf22pr"
      },
      "source": [
        "# Explain a piece of code"
      ]
    },
    {
      "cell_type": "code",
      "execution_count": null,
      "metadata": {
        "colab": {
          "base_uri": "https://localhost:8080/"
        },
        "id": "jyGTdcws22FM",
        "outputId": "1b401e21-d516-4702-da31-fad2b9c026be"
      },
      "outputs": [
        {
          "name": "stdout",
          "output_type": "stream",
          "text": [
            "The provided code defines a function `has_sum_k` that checks if there are any two distinct elements in a list `nums` whose sum equals a given integer `k`. Here's a concise explanation:\n",
            "\n",
            "1. **Function Definition and Type Hinting**:\n",
            "   - The function `has_sum_k` takes two parameters: `nums` (a list of integers) and `k` (an integer).\n",
            "   - It returns a boolean value (`True` or `False`).\n",
            "\n",
            "2. **Logic**:\n",
            "   - The function first determines the length of the list `nums` and stores it in the variable `n`.\n",
            "   - It then uses two nested loops to iterate over all possible pairs of elements in `nums`:\n",
            "     - The outer loop runs from the first element to the second-to-last element.\n",
            "     - The inner loop runs from the element immediately after the current element of the outer loop to the last element.\n",
            "   - For each pair of elements `(nums[i], nums[j])`, it checks if their sum equals `k`.\n",
            "   - If such a pair is found, the function returns `True`.\n",
            "   - If no such pair is found after all iterations, the function returns `False`.\n",
            "\n",
            "3. **Time Complexity**:\n",
            "   - The time complexity of this function is \\(O(n^2)\\) due to the nested loops.\n",
            "\n",
            "Here is the code for reference:\n",
            "\n",
            "```python\n",
            "from typing import List\n",
            "\n",
            "def has_sum_k(nums: List[int], k: int) -> bool:\n",
            "    '''\n",
            "    Returns True if there are two distinct elements in nums such that their sum\n",
            "    is equal to k, and otherwise returns False.\n",
            "    '''\n",
            "    n = len(nums)\n",
            "    for i in range(n):\n",
            "        for j in range(i + 1, n):\n",
            "            if nums[i] + nums[j] == k:\n",
            "                return True\n",
            "    return False\n",
            "```\n",
            "\n",
            "This function is straightforward but can be optimized using a different approach, such as using a hash set to achieve a linear time complexity.\n"
          ]
        }
      ],
      "source": [
        "code = \"\"\"\n",
        "from typing import List\n",
        "def has_sum_k(nums: List[int], k: int) -> bool:\n",
        "    '''\n",
        "    Returns True if there are two distinct elements in nums such that their sum\n",
        "    is equal to k, and otherwise returns False.\n",
        "    '''\n",
        "    n = len(nums)\n",
        "    for i in range(n):\n",
        "        for j in range(i+1, n):\n",
        "            if nums[i] + nums[j] == k:\n",
        "                return True\n",
        "    return False\n",
        "\"\"\"\n",
        "\n",
        "\n",
        "prompt = f\"\"\"Explain below code in a concise way.\n",
        "         Code: {code}\"\"\"\n",
        "\n",
        "print(generate_response(prompt))"
      ]
    },
    {
      "cell_type": "markdown",
      "metadata": {
        "id": "14E54_2iM8U2"
      },
      "source": []
    },
    {
      "cell_type": "markdown",
      "metadata": {
        "id": "CC5fOCC239ct"
      },
      "source": [
        "# Code Generation with openAI"
      ]
    },
    {
      "cell_type": "code",
      "execution_count": null,
      "metadata": {
        "id": "lYf7YK5iM8U2",
        "outputId": "398b5b6a-6ba0-4829-ddd0-ee88ac6be14d"
      },
      "outputs": [
        {
          "name": "stdout",
          "output_type": "stream",
          "text": [
            "Certainly! Binary search is an efficient algorithm for finding an item from a sorted list of items. It works by repeatedly dividing in half the portion of the list that could contain the item, until you've narrowed down the possible locations to just one.\n",
            "\n",
            "Here is a Python implementation of the binary search algorithm:\n",
            "\n",
            "```python\n",
            "def binary_search(arr, target):\n",
            "    \"\"\"\n",
            "    Perform binary search on a sorted array to find the index of the target element.\n",
            "\n",
            "    Parameters:\n",
            "    arr (list): A sorted list of elements to search.\n",
            "    target: The element to search for in the list.\n",
            "\n",
            "    Returns:\n",
            "    int: The index of the target element if found, otherwise -1.\n",
            "    \"\"\"\n",
            "    left, right = 0, len(arr) - 1\n",
            "\n",
            "    while left <= right:\n",
            "        mid = (left + right) // 2\n",
            "\n",
            "        if arr[mid] == target:\n",
            "            return mid\n",
            "        elif arr[mid] < target:\n",
            "            left = mid + 1\n",
            "        else:\n",
            "            right = mid - 1\n",
            "\n",
            "    return -1\n",
            "\n",
            "# Example usage:\n",
            "if __name__ == \"__main__\":\n",
            "    sorted_list = [1, 2, 3, 4, 5, 6, 7, 8, 9, 10]\n",
            "    target = 7\n",
            "    result = binary_search(sorted_list, target)\n",
            "    if result != -1:\n",
            "        print(f\"Element {target} found at index {result}.\")\n",
            "    else:\n",
            "        print(f\"Element {target} not found in the list.\")\n",
            "```\n",
            "\n",
            "### Explanation:\n",
            "1. **Function Definition**: The function `binary_search` takes two parameters: `arr` (a sorted list) and `target` (the element to search for).\n",
            "2. **Initialization**: Two pointers, `left` and `right`, are initialized to the start and end of the list, respectively.\n",
            "3. **Loop**: The loop continues as long as `left` is less than or equal to `right`.\n",
            "4. **Mid Calculation**: The middle index `mid` is calculated.\n",
            "5. **Comparison**:\n",
            "   - If the middle element `arr[mid]` is equal to the target, the index `mid` is returned.\n",
            "   - If the middle element is less than the target, the `left` pointer is moved to `mid + 1`.\n",
            "   - If the middle element is greater than the target, the `right` pointer is moved to `mid - 1`.\n",
            "6. **Return**: If the target is not found, the function returns `-1`.\n",
            "\n",
            "This implementation assumes that the input list `arr` is sorted. If the list is not sorted, the binary search algorithm will not work correctly.\n"
          ]
        }
      ],
      "source": [
        "\n",
        "prompt = \"\"\"write a function for binary search in python\"\"\"\n",
        "\n",
        "print(generate_response(prompt))"
      ]
    },
    {
      "cell_type": "markdown",
      "metadata": {
        "id": "2RAyyhrcM8U3"
      },
      "source": []
    },
    {
      "cell_type": "code",
      "execution_count": null,
      "metadata": {
        "id": "fwi2-spdM8U3"
      },
      "outputs": [],
      "source": []
    },
    {
      "cell_type": "markdown",
      "metadata": {
        "id": "O2hRbfpzM8U3"
      },
      "source": [
        "## Create a single page website"
      ]
    },
    {
      "cell_type": "code",
      "execution_count": null,
      "metadata": {
        "colab": {
          "base_uri": "https://localhost:8080/"
        },
        "id": "uFegvaqx2oga",
        "outputId": "967c6f17-7ff1-4977-b43d-c49b4d902268"
      },
      "outputs": [
        {
          "name": "stdout",
          "output_type": "stream",
          "text": [
            "```html\n",
            "<!DOCTYPE html>\n",
            "<html lang=\"en\">\n",
            "<head>\n",
            "    <meta charset=\"UTF-8\">\n",
            "    <meta name=\"viewport\" content=\"width=device-width, initial-scale=1.0\">\n",
            "    <title>JavaScript Features Showcase</title>\n",
            "    <style>\n",
            "        body {\n",
            "            font-family: Arial, sans-serif;\n",
            "            margin: 20px;\n",
            "        }\n",
            "        .dropdown {\n",
            "            margin-bottom: 20px;\n",
            "        }\n",
            "        .dropdown-content {\n",
            "            display: none;\n",
            "            margin-top: 10px;\n",
            "            padding: 10px;\n",
            "            border: 1px solid #ccc;\n",
            "            background-color: #f9f9f9;\n",
            "        }\n",
            "        .dropdown-content p {\n",
            "            margin: 0;\n",
            "        }\n",
            "        .accordion {\n",
            "            cursor: pointer;\n",
            "            padding: 10px;\n",
            "            border: 1px solid #ccc;\n",
            "            background-color: #f1f1f1;\n",
            "            margin-bottom: 10px;\n",
            "        }\n",
            "        .panel {\n",
            "            display: none;\n",
            "            padding: 10px;\n",
            "            border: 1px solid #ccc;\n",
            "            background-color: #f9f9f9;\n",
            "        }\n",
            "    </style>\n",
            "</head>\n",
            "<body>\n",
            "    <h1>JavaScript Features Showcase</h1>\n",
            "\n",
            "    <div class=\"dropdown\">\n",
            "        <button onclick=\"toggleDropdown('dropdown1')\">Toggle Dropdown 1</button>\n",
            "        <div id=\"dropdown1\" class=\"dropdown-content\">\n",
            "            <p>This is the content of Dropdown 1.</p>\n",
            "        </div>\n",
            "    </div>\n",
            "\n",
            "    <div class=\"dropdown\">\n",
            "        <button onclick=\"toggleDropdown('dropdown2')\">Toggle Dropdown 2</button>\n",
            "        <div id=\"dropdown2\" class=\"dropdown-content\">\n",
            "            <p>This is the content of Dropdown 2.</p>\n",
            "        </div>\n",
            "    </div>\n",
            "\n",
            "    <div class=\"accordion\" onclick=\"toggleAccordion(this)\">Accordion 1</div>\n",
            "    <div class=\"panel\">\n",
            "        <p>This is the content of Accordion 1.</p>\n",
            "    </div>\n",
            "\n",
            "    <div class=\"accordion\" onclick=\"toggleAccordion(this)\">Accordion 2</div>\n",
            "    <div class=\"panel\">\n",
            "        <p>This is the content of Accordion 2.</p>\n",
            "    </div>\n",
            "\n",
            "    <script>\n",
            "        function toggleDropdown(id) {\n",
            "            var element = document.getElementById(id);\n",
            "            if (element.style.display === \"block\") {\n",
            "                element.style.display = \"none\";\n",
            "            } else {\n",
            "                element.style.display = \"block\";\n",
            "            }\n",
            "        }\n",
            "\n",
            "        function toggleAccordion(element) {\n",
            "            var panel = element.nextElementSibling;\n",
            "            if (panel.style.display === \"block\") {\n",
            "                panel.style.display = \"none\";\n",
            "            } else {\n",
            "                panel.style.display = \"block\";\n",
            "            }\n",
            "        }\n",
            "    </script>\n",
            "</body>\n",
            "</html>\n",
            "```\n"
          ]
        }
      ],
      "source": [
        "\n",
        "\n",
        "prompt = \"\"\"Make a single page website that shows off different neat javascript features\n",
        " for drop downs and things to display information.\n",
        " The website should be an HTML file with embedded javascript and css.\n",
        "   In the output only provide code without description\"\"\"\n",
        "\n",
        "response = generate_response(prompt)\n",
        "print(response)"
      ]
    },
    {
      "cell_type": "code",
      "execution_count": null,
      "metadata": {
        "colab": {
          "base_uri": "https://localhost:8080/",
          "height": 338
        },
        "id": "o_goKgWh4tuA",
        "outputId": "0de77127-bbfe-47c2-f68d-9d8529b4821b"
      },
      "outputs": [
        {
          "data": {
            "text/html": [
              "```html\n",
              "<!DOCTYPE html>\n",
              "<html lang=\"en\">\n",
              "<head>\n",
              "    <meta charset=\"UTF-8\">\n",
              "    <meta name=\"viewport\" content=\"width=device-width, initial-scale=1.0\">\n",
              "    <title>JavaScript Features Showcase</title>\n",
              "    <style>\n",
              "        body {\n",
              "            font-family: Arial, sans-serif;\n",
              "            margin: 20px;\n",
              "        }\n",
              "        .dropdown {\n",
              "            margin-bottom: 20px;\n",
              "        }\n",
              "        .dropdown-content {\n",
              "            display: none;\n",
              "            margin-top: 10px;\n",
              "            padding: 10px;\n",
              "            border: 1px solid #ccc;\n",
              "            background-color: #f9f9f9;\n",
              "        }\n",
              "        .dropdown-content p {\n",
              "            margin: 0;\n",
              "        }\n",
              "        .accordion {\n",
              "            cursor: pointer;\n",
              "            padding: 10px;\n",
              "            border: 1px solid #ccc;\n",
              "            background-color: #f1f1f1;\n",
              "            margin-bottom: 10px;\n",
              "        }\n",
              "        .panel {\n",
              "            display: none;\n",
              "            padding: 10px;\n",
              "            border: 1px solid #ccc;\n",
              "            background-color: #f9f9f9;\n",
              "        }\n",
              "    </style>\n",
              "</head>\n",
              "<body>\n",
              "    <h1>JavaScript Features Showcase</h1>\n",
              "\n",
              "    <div class=\"dropdown\">\n",
              "        <button onclick=\"toggleDropdown('dropdown1')\">Toggle Dropdown 1</button>\n",
              "        <div id=\"dropdown1\" class=\"dropdown-content\">\n",
              "            <p>This is the content of Dropdown 1.</p>\n",
              "        </div>\n",
              "    </div>\n",
              "\n",
              "    <div class=\"dropdown\">\n",
              "        <button onclick=\"toggleDropdown('dropdown2')\">Toggle Dropdown 2</button>\n",
              "        <div id=\"dropdown2\" class=\"dropdown-content\">\n",
              "            <p>This is the content of Dropdown 2.</p>\n",
              "        </div>\n",
              "    </div>\n",
              "\n",
              "    <div class=\"accordion\" onclick=\"toggleAccordion(this)\">Accordion 1</div>\n",
              "    <div class=\"panel\">\n",
              "        <p>This is the content of Accordion 1.</p>\n",
              "    </div>\n",
              "\n",
              "    <div class=\"accordion\" onclick=\"toggleAccordion(this)\">Accordion 2</div>\n",
              "    <div class=\"panel\">\n",
              "        <p>This is the content of Accordion 2.</p>\n",
              "    </div>\n",
              "\n",
              "    <script>\n",
              "        function toggleDropdown(id) {\n",
              "            var element = document.getElementById(id);\n",
              "            if (element.style.display === \"block\") {\n",
              "                element.style.display = \"none\";\n",
              "            } else {\n",
              "                element.style.display = \"block\";\n",
              "            }\n",
              "        }\n",
              "\n",
              "        function toggleAccordion(element) {\n",
              "            var panel = element.nextElementSibling;\n",
              "            if (panel.style.display === \"block\") {\n",
              "                panel.style.display = \"none\";\n",
              "            } else {\n",
              "                panel.style.display = \"block\";\n",
              "            }\n",
              "        }\n",
              "    </script>\n",
              "</body>\n",
              "</html>\n",
              "```"
            ],
            "text/plain": [
              "<IPython.core.display.HTML object>"
            ]
          },
          "metadata": {},
          "output_type": "display_data"
        }
      ],
      "source": [
        "from IPython.display import display, HTML\n",
        "display(HTML(response))"
      ]
    },
    {
      "cell_type": "markdown",
      "metadata": {
        "id": "xDo2blvaM8U3"
      },
      "source": [
        "## Complete a partial code"
      ]
    },
    {
      "cell_type": "code",
      "execution_count": null,
      "metadata": {
        "id": "zLWAp8syM8U4",
        "outputId": "d9947f21-04ab-4c3b-be8a-a9aa47c002dd"
      },
      "outputs": [
        {
          "name": "stdout",
          "output_type": "stream",
          "text": [
            "Certainly! Below is the complete function to calculate the average of the even numbers in an array:\n",
            "\n",
            "```python\n",
            "def average_of_evens(numbers):\n",
            "    if not numbers:\n",
            "        return 0  # Return 0 if the list is empty\n",
            "\n",
            "    even_numbers = [num for num in numbers if num % 2 == 0]\n",
            "    \n",
            "    if not even_numbers:\n",
            "        return 0  # Return 0 if there are no even numbers\n",
            "\n",
            "    return sum(even_numbers) / len(even_numbers)\n",
            "\n",
            "# Example usage:\n",
            "numbers = [1, 2, 3, 4, 5, 6]\n",
            "print(average_of_evens(numbers))  # Output: 4.0\n",
            "```\n",
            "\n",
            "### Explanation:\n",
            "1. **Check if the list is empty**: If the input list `numbers` is empty, the function returns `0`.\n",
            "2. **Filter even numbers**: A list comprehension is used to create a new list `even_numbers` that contains only the even numbers from the input list.\n",
            "3. **Check if there are no even numbers**: If the `even_numbers` list is empty, the function returns `0`.\n",
            "4. **Calculate the average**: The average of the even numbers is calculated by dividing the sum of the `even_numbers` by its length.\n",
            "\n",
            "This function ensures that it handles edge cases such as an empty list or a list with no even numbers gracefully.\n"
          ]
        }
      ],
      "source": [
        "prompt = \"\"\"\n",
        "complete the following partial function\n",
        "# calculate the average of the numbers in an array, but only if they're even\n",
        "def\n",
        "\"\"\"\n",
        "\n",
        "print(generate_response(prompt))"
      ]
    },
    {
      "cell_type": "markdown",
      "metadata": {
        "id": "u3f1TCax5QUR"
      },
      "source": [
        "# Generate SQL Queries from natural language"
      ]
    },
    {
      "cell_type": "code",
      "execution_count": null,
      "metadata": {
        "colab": {
          "base_uri": "https://localhost:8080/"
        },
        "id": "X-ghdsec5Msf",
        "outputId": "b205c394-23a4-4c00-c726-30ce05d0b274"
      },
      "outputs": [
        {
          "name": "stdout",
          "output_type": "stream",
          "text": [
            "```sql\n",
            "SELECT AVG(total_order_value) AS average_order_value\n",
            "FROM orders\n",
            "WHERE order_date = '2023-09-20';\n",
            "```\n"
          ]
        }
      ],
      "source": [
        "table_code = \"\"\"\n",
        "CREATE TABLE Orders (\n",
        "  OrderID int,\n",
        "  CustomerID int,\n",
        "  OrderDate datetime,\n",
        "  OrderTime varchar(8),\n",
        "  PRIMARY KEY (OrderID)\n",
        ");\n",
        "\n",
        "CREATE TABLE OrderDetails (\n",
        "  OrderDetailID int,\n",
        "  OrderID int,\n",
        "  ProductID int,\n",
        "  Quantity int,\n",
        "  PRIMARY KEY (OrderDetailID)\n",
        ");\n",
        "\n",
        "CREATE TABLE Products (\n",
        "  ProductID int,\n",
        "  ProductName varchar(50),\n",
        "  Category varchar(50),\n",
        "  UnitPrice decimal(10, 2),\n",
        "  Stock int,\n",
        "  PRIMARY KEY (ProductID)\n",
        ");\n",
        "\n",
        "CREATE TABLE Customers (\n",
        "  CustomerID int,\n",
        "  FirstName varchar(50),\n",
        "  LastName varchar(50),\n",
        "  Email varchar(100),\n",
        "  Phone varchar(20),\n",
        "  PRIMARY KEY (CustomerID)\n",
        ");\n",
        "\"\"\"\n",
        "\n",
        "prompt = f\"\"\" Given the following SQL tables, your job is to write queries given a user's input request.\n",
        "\n",
        "Tables: {table_code}\n",
        "\n",
        "Write a query which calculates the average of total order values for all orders on 20-09-2023\n",
        "Consider writing final query after inference of columns from multiple tables.\n",
        "Only provide the sql query, no other explanaiton or text\"\"\"\n",
        "\n",
        "print(generate_response(prompt))"
      ]
    },
    {
      "cell_type": "markdown",
      "metadata": {
        "id": "XlkePjd0L8N5"
      },
      "source": [
        "# Code from Description"
      ]
    },
    {
      "cell_type": "code",
      "execution_count": null,
      "metadata": {
        "id": "XJZ2F754L5Ii",
        "outputId": "01171e9d-4aa3-4514-a03f-0db9da31f34b"
      },
      "outputs": [
        {
          "name": "stdout",
          "output_type": "stream",
          "text": [
            "Certainly! Below is a Python function that accomplishes the task described. This function uses the `Pillow` library to load the image and `numpy` for array manipulation. The function will crop the rows and columns around the perimeter if their mean pixel value is below a specified threshold.\n",
            "\n",
            "First, make sure you have the required libraries installed:\n",
            "```bash\n",
            "pip install numpy pillow\n",
            "```\n",
            "\n",
            "Here is the function:\n",
            "\n",
            "```python\n",
            "import numpy as np\n",
            "from PIL import Image\n",
            "\n",
            "def crop_dark_perimeter(image_path, threshold):\n",
            "    # Load the image\n",
            "    image = Image.open(image_path)\n",
            "    image_array = np.array(image)\n",
            "    \n",
            "    # Convert to grayscale if the image is in color\n",
            "    if len(image_array.shape) == 3:\n",
            "        image_array = np.mean(image_array, axis=2)\n",
            "    \n",
            "    # Get the dimensions of the image\n",
            "    rows, cols = image_array.shape\n",
            "    \n",
            "    # Determine rows to crop\n",
            "    top_crop = 0\n",
            "    for i in range(rows):\n",
            "        if np.mean(image_array[i, :]) >= threshold:\n",
            "            break\n",
            "        top_crop += 1\n",
            "    \n",
            "    bottom_crop = 0\n",
            "    for i in range(rows-1, -1, -1):\n",
            "        if np.mean(image_array[i, :]) >= threshold:\n",
            "            break\n",
            "        bottom_crop += 1\n",
            "    \n",
            "    # Determine columns to crop\n",
            "    left_crop = 0\n",
            "    for j in range(cols):\n",
            "        if np.mean(image_array[:, j]) >= threshold:\n",
            "            break\n",
            "        left_crop += 1\n",
            "    \n",
            "    right_crop = 0\n",
            "    for j in range(cols-1, -1, -1):\n",
            "        if np.mean(image_array[:, j]) >= threshold:\n",
            "            break\n",
            "        right_crop += 1\n",
            "    \n",
            "    # Crop the image\n",
            "    cropped_image_array = image_array[top_crop:rows-bottom_crop, left_crop:cols-right_crop]\n",
            "    \n",
            "    # Convert back to an image\n",
            "    cropped_image = Image.fromarray(cropped_image_array.astype(np.uint8))\n",
            "    \n",
            "    return cropped_image\n",
            "\n",
            "# Example usage\n",
            "cropped_image = crop_dark_perimeter('path_to_image.jpg', threshold=50)\n",
            "cropped_image.show()  # Display the cropped image\n",
            "cropped_image.save('cropped_image.jpg')  # Save the cropped image\n",
            "```\n",
            "\n",
            "### Explanation:\n",
            "1. **Loading the Image**: The image is loaded using the `Pillow` library and converted to a numpy array.\n",
            "2. **Grayscale Conversion**: If the image is in color (3 channels), it is converted to grayscale by averaging the RGB values.\n",
            "3. **Determine Rows and Columns to Crop**:\n",
            "   - The function iterates over the rows from the top and bottom, and columns from the left and right, checking if the mean pixel value is below the threshold.\n",
            "   - It keeps track of how many rows and columns need to be cropped from each side.\n",
            "4. **Cropping the Image**: The image is cropped based on the calculated values.\n",
            "5. **Convert Back to Image**: The cropped numpy array is converted back to an image using `Pillow`.\n",
            "\n",
            "You can adjust the `threshold` parameter to control the sensitivity of the cropping.\n"
          ]
        }
      ],
      "source": [
        "\n",
        "prompt =\"\"\"\n",
        "Create a python function which takes as input a file path to an image, loads the image into memory as a numpy array,\n",
        "then crops the rows and columns around the perimeter if they are darker than a threshold value.\n",
        "Use the mean value of rows and columns to decide if they should be marked for deletion.\n",
        "\"\"\"\n",
        "\n",
        "print(generate_response(prompt))"
      ]
    },
    {
      "cell_type": "code",
      "execution_count": null,
      "metadata": {
        "id": "zuZ6Pyoh5FcM",
        "outputId": "3fbbd68e-3ad6-4c02-c7bb-8f67afe9714b"
      },
      "outputs": [
        {
          "name": "stdout",
          "output_type": "stream",
          "text": [
            "```python\n",
            "import numpy as np\n",
            "from PIL import Image\n",
            "\n",
            "def crop_dark_edges(image_path, threshold):\n",
            "    # Load image and convert to grayscale\n",
            "    image = Image.open(image_path).convert('L')\n",
            "    image_array = np.array(image)\n",
            "    \n",
            "    # Calculate mean values of rows and columns\n",
            "    row_means = image_array.mean(axis=1)\n",
            "    col_means = image_array.mean(axis=0)\n",
            "    \n",
            "    # Determine rows and columns to keep\n",
            "    rows_to_keep = np.where(row_means >= threshold)[0]\n",
            "    cols_to_keep = np.where(col_means >= threshold)[0]\n",
            "    \n",
            "    # Crop the image\n",
            "    cropped_image_array = image_array[rows_to_keep.min():rows_to_keep.max()+1, cols_to_keep.min():cols_to_keep.max()+1]\n",
            "    \n",
            "    return cropped_image_array\n",
            "```\n"
          ]
        }
      ],
      "source": [
        "\n",
        "prompt = \"\"\"\n",
        "Create a python function which takes as input a file path to an image, loads the image into memory as a numpy array,\n",
        "then crops the rows and columns around the perimeter if they are darker than a threshold value. Use the mean value of rows and columns to decide if they should be marked for deletion.\n",
        "Make sure the output is only the python function code in string format.\n",
        "\n",
        "\"\"\"\n",
        "\n",
        "print(generate_response(prompt))"
      ]
    },
    {
      "cell_type": "markdown",
      "metadata": {
        "id": "YX6jG58SNCt5"
      },
      "source": [
        "# Bug fixing in a given code"
      ]
    },
    {
      "cell_type": "code",
      "execution_count": null,
      "metadata": {
        "colab": {
          "base_uri": "https://localhost:8080/"
        },
        "id": "_V-_QKEDM6b0",
        "outputId": "ac90d61a-ff90-4877-e15c-304be68a96b7"
      },
      "outputs": [
        {
          "name": "stdout",
          "output_type": "stream",
          "text": [
            "Sure, let's go through the code step by step and identify the issues:\n",
            "\n",
            "1. **Assignment vs Comparison**: In the `if` statement, `ans = 12` should be `ans == 12` to compare the value of `ans` with 12.\n",
            "2. **String Comparison**: The `input` function returns a string, so `ans` should be converted to an integer before comparison.\n",
            "3. **Syntax Error**: The `print(\"hello)` line has a missing closing quote.\n",
            "4. **NoneType Error**: `print(none)` should be `print(None)` if you intend to print the `None` value.\n",
            "5. **Logical Error**: The correct answer to the question \"What is 4+2+9*8?\" is not 12. The expression evaluates to 4 + 2 + 72 = 78.\n",
            "\n",
            "Here is the corrected code:\n",
            "\n",
            "```python\n",
            "qus = \"What is 4+2+9*8 ?\"\n",
            "ans = input(qus)\n",
            "try:\n",
            "    ans = int(ans)\n",
            "    if ans == 78:\n",
            "        print(None)\n",
            "        print(\"hello\")\n",
            "    else:\n",
            "        print(\"bye\")\n",
            "except ValueError:\n",
            "    print(\"Please enter a valid number.\")\n",
            "```\n",
            "\n",
            "### Explanation:\n",
            "1. **Comparison Operator**: Changed `ans = 12` to `ans == 78`.\n",
            "2. **Type Conversion**: Converted `ans` to an integer using `int(ans)`.\n",
            "3. **Syntax Fix**: Fixed the missing quote in `print(\"hello\")`.\n",
            "4. **NoneType Fix**: Changed `print(none)` to `print(None)`.\n",
            "5. **Error Handling**: Added a `try-except` block to handle cases where the input is not a valid integer.\n",
            "\n",
            "This should work correctly now.\n"
          ]
        }
      ],
      "source": [
        "\n",
        "prompt = \"\"\"\n",
        "you will be provided with a piece of python code, and your task is to find and fix the bug in it.\n",
        "\n",
        "Code:\n",
        "\n",
        "qus = \"WHat is 4+2+9*8 ?\"\n",
        "ans = input(qus)\n",
        "if ans = 12:\n",
        "  print(none)\n",
        "  print(\"hello)\n",
        "else:\n",
        "  print(\"bye\")\n",
        "\n",
        "\"\"\"\n",
        "\n",
        "print(generate_response(prompt))"
      ]
    },
    {
      "cell_type": "markdown",
      "metadata": {
        "id": "KuksuBWBM8U4"
      },
      "source": [
        "# Change Coding Language\n"
      ]
    },
    {
      "cell_type": "code",
      "execution_count": null,
      "metadata": {
        "id": "rXNnJ1klNxbB",
        "outputId": "591b3a5b-092b-47fb-fe99-3c2fe09dea62"
      },
      "outputs": [
        {
          "name": "stdout",
          "output_type": "stream",
          "text": [
            "Sure, I can help you convert the provided Python code to C. Below is the equivalent C code for the given Python function:\n",
            "\n",
            "```c\n",
            "#include <stdio.h>\n",
            "\n",
            "void print_squares(int n) {\n",
            "    for (int i = 1; i <= n; i++) {\n",
            "        printf(\"%d\\n\", i * i);\n",
            "    }\n",
            "}\n",
            "\n",
            "int main() {\n",
            "    int n;\n",
            "    printf(\"Enter a number: \");\n",
            "    scanf(\"%d\", &n);\n",
            "    print_squares(n);\n",
            "    return 0;\n",
            "}\n",
            "```\n",
            "\n",
            "### Explanation:\n",
            "1. **Function Definition**: The `print_squares` function in C takes an integer `n` as an argument and prints the squares of numbers from 1 to `n`.\n",
            "2. **Loop**: The `for` loop iterates from 1 to `n`, similar to the Python code.\n",
            "3. **Printing**: The `printf` function is used to print the square of the current number.\n",
            "4. **Main Function**: The `main` function is added to take user input and call the `print_squares` function.\n",
            "\n",
            "### Steps to Compile and Run:\n",
            "1. Save the code in a file, for example, `print_squares.c`.\n",
            "2. Open a terminal and navigate to the directory where the file is saved.\n",
            "3. Compile the code using a C compiler, e.g., `gcc print_squares.c -o print_squares`.\n",
            "4. Run the compiled program using `./print_squares`.\n",
            "\n",
            "This will prompt you to enter a number, and then it will print the squares of numbers from 1 to the entered number.\n"
          ]
        }
      ],
      "source": [
        "# Changing coding language from python to c\n",
        "\n",
        "code = \"\"\"\n",
        "def print_squares(n):\n",
        "    for i in range(1, n+1):\n",
        "        print(i**2)\n",
        "        \"\"\"\n",
        "\n",
        "prompt = f\"\"\"you will be provided with a piece of python code, and your task is to convert it to c.\n",
        "\n",
        "Code:\n",
        "{code} \"\"\"\n",
        "\n",
        "print(generate_response(prompt))"
      ]
    },
    {
      "cell_type": "markdown",
      "metadata": {
        "id": "QcAFj6nqM8U5"
      },
      "source": [
        "# Write unit tests"
      ]
    },
    {
      "cell_type": "code",
      "execution_count": null,
      "metadata": {
        "id": "pkJJQOgxM8U5",
        "outputId": "7b961033-52a5-48f6-d798-ce3c96b62d8b"
      },
      "outputs": [
        {
          "name": "stdout",
          "output_type": "stream",
          "text": [
            "Certainly! Here are three unit tests for the `binary_search` function. These tests will use the `unittest` framework, which is a standard testing framework in Python.\n",
            "\n",
            "```python\n",
            "import unittest\n",
            "\n",
            "class TestBinarySearch(unittest.TestCase):\n",
            "    def test_target_found(self):\n",
            "        arr = [1, 2, 3, 4, 5, 6, 7, 8, 9, 10]\n",
            "        target = 5\n",
            "        result = binary_search(arr, target)\n",
            "        self.assertEqual(result, 4)  # 5 is at index 4\n",
            "\n",
            "    def test_target_not_found(self):\n",
            "        arr = [1, 2, 3, 4, 5, 6, 7, 8, 9, 10]\n",
            "        target = 11\n",
            "        result = binary_search(arr, target)\n",
            "        self.assertEqual(result, -1)  # 11 is not in the list\n",
            "\n",
            "    def test_empty_array(self):\n",
            "        arr = []\n",
            "        target = 1\n",
            "        result = binary_search(arr, target)\n",
            "        self.assertEqual(result, -1)  # Target cannot be found in an empty array\n",
            "\n",
            "if __name__ == '__main__':\n",
            "    unittest.main()\n",
            "```\n",
            "\n",
            "### Explanation of the Tests\n",
            "\n",
            "1. **test_target_found**: This test checks if the function correctly finds the target value `5` in the array `[1, 2, 3, 4, 5, 6, 7, 8, 9, 10]`. The expected index is `4`.\n",
            "\n",
            "2. **test_target_not_found**: This test checks if the function correctly returns `-1` when the target value `11` is not present in the array `[1, 2, 3, 4, 5, 6, 7, 8, 9, 10]`.\n",
            "\n",
            "3. **test_empty_array**: This test checks if the function correctly returns `-1` when the array is empty, regardless of the target value.\n",
            "\n",
            "To run these tests, save the code in a file and execute it. The `unittest` framework will automatically discover and run the tests, providing you with the results.\n"
          ]
        }
      ],
      "source": [
        "# write unit tests for a given code\n",
        "\n",
        "code = \"\"\"\n",
        "def binary_search(arr, target):\n",
        "    left, right = 0, len(arr) - 1\n",
        "    while left <= right:\n",
        "        mid = (left + right) // 2\n",
        "        if arr[mid] == target:\n",
        "            return mid\n",
        "        elif arr[mid] < target:\n",
        "            left = mid + 1\n",
        "        else:\n",
        "            right = mid - 1\n",
        "    return -1\n",
        "\"\"\"\n",
        "prompt = f\"\"\"\n",
        "Write 3 unit tests for the following function:\n",
        "{code}\n",
        "\"\"\"\n",
        "\n",
        "\n",
        "print(generate_response(prompt))"
      ]
    },
    {
      "cell_type": "markdown",
      "metadata": {
        "id": "ayKyGdjhM8U5"
      },
      "source": [
        "# Add comments and generate documentation"
      ]
    },
    {
      "cell_type": "code",
      "execution_count": null,
      "metadata": {
        "id": "F22cGYrTM8U5",
        "outputId": "ec6a1cbc-0d16-4820-e3e6-6d5ef7d2ec2a"
      },
      "outputs": [
        {
          "name": "stdout",
          "output_type": "stream",
          "text": [
            "Certainly! Adding comments and documentation strings is a great way to make your code more understandable and maintainable. Here is the function with added comments and a docstring:\n",
            "\n",
            "```python\n",
            "def permutations(lst):\n",
            "    \"\"\"\n",
            "    Generate all possible permutations of a list.\n",
            "\n",
            "    This function takes a list as input and returns a list of all possible\n",
            "    permutations of the elements in the input list.\n",
            "\n",
            "    Parameters:\n",
            "    lst (list): The list of elements to permute.\n",
            "\n",
            "    Returns:\n",
            "    list: A list of lists, where each inner list is a permutation of the input list.\n",
            "\n",
            "    Example:\n",
            "    >>> permutations([1, 2, 3])\n",
            "    [[1, 2, 3], [1, 3, 2], [2, 1, 3], [2, 3, 1], [3, 1, 2], [3, 2, 1]]\n",
            "    \"\"\"\n",
            "    # Base case: if the list is empty, return an empty list\n",
            "    if len(lst) == 0:\n",
            "        return []\n",
            "    # Base case: if the list has only one element, return a list containing that element\n",
            "    elif len(lst) == 1:\n",
            "        return [lst]\n",
            "    else:\n",
            "        # Initialize an empty list to store the permutations\n",
            "        result = []\n",
            "        # Iterate over the list\n",
            "        for i in range(len(lst)):\n",
            "            # Extract the current element\n",
            "            temp = lst[i]\n",
            "            # Form the remaining list by excluding the current element\n",
            "            remaining = lst[:i] + lst[i+1:]\n",
            "            # Recursively generate permutations of the remaining list\n",
            "            for p in permutations(remaining):\n",
            "                # Append the current element to each permutation of the remaining list\n",
            "                result.append([temp] + p)\n",
            "        return result\n",
            "```\n",
            "\n",
            "### Explanation:\n",
            "1. **Docstring**: Provides a high-level overview of what the function does, its parameters, return values, and an example usage.\n",
            "2. **Comments**: Explain the logic within the function, including the base cases and the recursive case.\n",
            "\n",
            "This should make the function much easier to understand for anyone reading the code.\n"
          ]
        }
      ],
      "source": [
        "# Add comments and generate documentation\n",
        "\n",
        "code = \"\"\"\n",
        "def permutations(lst):\n",
        "    if len(lst) == 0:\n",
        "        return []\n",
        "    elif len(lst) == 1:\n",
        "        return [lst]\n",
        "    else:\n",
        "        result = []\n",
        "        for i in range(len(lst)):\n",
        "            temp = lst[i]\n",
        "            remaining = lst[:i] + lst[i+1:]\n",
        "            for p in permutations(remaining):\n",
        "                result.append([temp] + p)\n",
        "        return result\n",
        "\n",
        "\"\"\"\n",
        "\n",
        "prompt = f\"\"\" Add comments and documentation strings to the following function:\n",
        "\n",
        "code:\n",
        "{code}\"\"\"\n",
        "\n",
        "\n",
        "print(generate_response(prompt))"
      ]
    },
    {
      "cell_type": "code",
      "execution_count": null,
      "metadata": {
        "id": "ng93o9qAM8U5"
      },
      "outputs": [],
      "source": []
    },
    {
      "cell_type": "markdown",
      "metadata": {
        "id": "xL9DKWHkDpXR"
      },
      "source": [
        "# Zero Shot Prompting"
      ]
    },
    {
      "cell_type": "code",
      "execution_count": null,
      "metadata": {
        "colab": {
          "base_uri": "https://localhost:8080/"
        },
        "id": "LILta5HxUa9C",
        "outputId": "b47fc056-94cf-4431-fcb1-6ec49979d342"
      },
      "outputs": [
        {
          "name": "stdout",
          "output_type": "stream",
          "text": [
            "Certainly! To calculate the factorial of a given number in Python, you can write a function that uses either an iterative or a recursive approach. Below, I'll provide both methods for your reference.\n",
            "\n",
            "### Iterative Approach\n",
            "\n",
            "```python\n",
            "def factorial_iterative(n):\n",
            "    if n < 0:\n",
            "        raise ValueError(\"Factorial is not defined for negative numbers\")\n",
            "    result = 1\n",
            "    for i in range(1, n + 1):\n",
            "        result *= i\n",
            "    return result\n",
            "\n",
            "# Calculate factorial(5)\n",
            "print(factorial_iterative(5))  # Output: 120\n",
            "```\n",
            "\n",
            "### Recursive Approach\n",
            "\n",
            "```python\n",
            "def factorial_recursive(n):\n",
            "    if n < 0:\n",
            "        raise ValueError(\"Factorial is not defined for negative numbers\")\n",
            "    if n == 0 or n == 1:\n",
            "        return 1\n",
            "    return n * factorial_recursive(n - 1)\n",
            "\n",
            "# Calculate factorial(5)\n",
            "print(factorial_recursive(5))  # Output: 120\n",
            "```\n",
            "\n",
            "Both methods will give you the correct result for `factorial(5)`, which is `120`. You can choose either approach based on your preference or specific requirements. The iterative approach is generally more efficient in terms of memory usage, while the recursive approach is often considered more elegant and easier to understand.\n"
          ]
        }
      ],
      "source": [
        "prompt = \"\"\"\n",
        "Write a python code to generate factorial for any give input number, consider writing a python function.\n",
        "\n",
        "Calculate factorial(5)\n",
        "\"\"\"\n",
        "\n",
        "print(generate_response(prompt))"
      ]
    },
    {
      "cell_type": "markdown",
      "metadata": {
        "id": "-K2TgShvEhrG"
      },
      "source": [
        "# Few Shot Prompting"
      ]
    },
    {
      "cell_type": "code",
      "execution_count": null,
      "metadata": {
        "colab": {
          "base_uri": "https://localhost:8080/"
        },
        "id": "f5nprs2BE6Z8",
        "outputId": "8296359b-e74e-4aab-96c8-e52c311b84e0"
      },
      "outputs": [
        {
          "name": "stdout",
          "output_type": "stream",
          "text": [
            "To find the students with GPAs between 3.5 and 3.8 in the `students_df` dataframe, you can use boolean indexing to filter the rows where the 'GPA' column values fall within the specified range. Here's how you can do it:\n",
            "\n",
            "```python\n",
            "result = students_df[(students_df['GPA'] >= 3.5) & (students_df['GPA'] <= 3.8)]\n",
            "```\n",
            "\n",
            "This code will create a new dataframe `result` that contains only the rows where the 'GPA' is between 3.5 and 3.8, inclusive.\n"
          ]
        }
      ],
      "source": [
        "prompt = \"\"\"\n",
        "\n",
        "Question:\n",
        "You are given a Pandas dataframe named students_df:\n",
        "- Columns: ['Name', 'Nationality', 'Overall Grade', 'Age', 'Major', 'GPA']\n",
        "User's Question: How to find the youngest student?\n",
        "\n",
        "Answer:\n",
        "result = students_df[students_df['Age'] == students_df['Age'].min()]\n",
        "\n",
        "Question:\n",
        "You are given a Pandas dataframe named students_df:\n",
        "- Columns: ['Name', 'Nationality', 'Overall Grade', 'Age', 'Major', 'GPA']\n",
        "User's Question: What are the number of unique majors?\n",
        "\n",
        "Answer:\n",
        "result = students_df['Major'].nunique()\n",
        "\n",
        "Question:\n",
        "You are given a Pandas dataframe named students_df:\n",
        "- Columns: ['Name', 'Nationality', 'Overall Grade', 'Age', 'Major', 'GPA']\n",
        "User's Question: How to find the students with GPAs between 3.5 and 3.8?\n",
        "\"\"\"\n",
        "\n",
        "print(generate_response(prompt))"
      ]
    },
    {
      "cell_type": "markdown",
      "metadata": {
        "id": "IubC3jXI-Ny6"
      },
      "source": [
        "## Custom Instruction Set"
      ]
    },
    {
      "cell_type": "code",
      "execution_count": null,
      "metadata": {
        "colab": {
          "base_uri": "https://localhost:8080/"
        },
        "id": "5xN65rcYHa3v",
        "outputId": "be3e62f4-a6b6-475d-b01d-fa4e52004030"
      },
      "outputs": [
        {
          "name": "stdout",
          "output_type": "stream",
          "text": [
            "<INIT>\n",
            "<ASK>\n",
            "<END>\n"
          ]
        }
      ],
      "source": [
        "# Zero Shot Prompting with context\n",
        "prompt = \"\"\"\n",
        "\n",
        "For a custom instruction based interpreter, below are standard set of commands and their description.\n",
        "\n",
        "command,description,\n",
        "<INIT>,initiating conversation,\n",
        "<ASK>, asking user input,\n",
        "<ANSWER>, providing answer,\n",
        "<TERMINATE>,terminating conversation,\n",
        "<CALL>, calling a function,\n",
        "<END>,Ending conversation\n",
        "\n",
        "write a code using custom instruction from above context for below task\n",
        "\n",
        "the code should initiate conversation, ask for user input and end conversation, Do not write any other text, do not write explanation only commands in sequence.\n",
        "\"\"\"\n",
        "\n",
        "print(generate_response(prompt))\n"
      ]
    },
    {
      "cell_type": "code",
      "execution_count": null,
      "metadata": {
        "colab": {
          "base_uri": "https://localhost:8080/"
        },
        "id": "Yge48eqTHa0o",
        "outputId": "2d99f6ca-0c02-49c1-8e05-87cd1eb173ee"
      },
      "outputs": [
        {
          "name": "stdout",
          "output_type": "stream",
          "text": [
            "<INIT>,<ANSWER>,<TERMINATE>\n"
          ]
        }
      ],
      "source": [
        "# Few shot prompting with context\n",
        "prompt = \"\"\"\n",
        "\n",
        "For a custom instruction based interpreter, below are standard set of commands and their description.\n",
        "\n",
        "command,description,\n",
        "<INIT>,initiating conversation,\n",
        "<ASK>, asking user input,\n",
        "<ANSWER>, providing answer,\n",
        "<TERMINATE>,terminating conversation,\n",
        "<CALL>, calling a function,\n",
        "<END>,Ending conversation\n",
        "\n",
        "\n",
        "QUS: initiate conversation, ask for user input, answer and then end conversation\n",
        "ANS: <INIT>,<ASK>,<ANSWER>,<END>\n",
        "\n",
        "QUS: initiate conversation, ask user input, call a function, answer and end conversation\n",
        "ANS: <INIT>,<ASK>,<CALL>,<ANSWER>,<END>\n",
        "\n",
        "QUS: initiate conversation, provide answer, terminate conversation\n",
        "ANS:\n",
        "\"\"\"\n",
        "print(generate_response(prompt))\n"
      ]
    },
    {
      "cell_type": "markdown",
      "metadata": {
        "id": "Dd7teyfvFdST"
      },
      "source": [
        "# Chain of Thought Prompting"
      ]
    },
    {
      "cell_type": "code",
      "execution_count": null,
      "metadata": {
        "colab": {
          "base_uri": "https://localhost:8080/"
        },
        "id": "fhmYexg0KD6k",
        "outputId": "08b287ca-b81b-492d-fdab-f38d64fd72cb"
      },
      "outputs": [
        {
          "name": "stdout",
          "output_type": "stream",
          "text": [
            "Certainly! Below is a Python program that reads a text file, counts the occurrences of each word, and prints the results sorted by frequency.\n",
            "\n",
            "```python\n",
            "from collections import Counter\n",
            "import re\n",
            "\n",
            "def count_word_frequencies(file_path):\n",
            "    # Read the content of the file\n",
            "    with open(file_path, 'r', encoding='utf-8') as file:\n",
            "        text = file.read()\n",
            "\n",
            "    # Use regular expressions to find words\n",
            "    words = re.findall(r'\\b\\w+\\b', text.lower())\n",
            "\n",
            "    # Count the occurrences of each word\n",
            "    word_counts = Counter(words)\n",
            "\n",
            "    # Sort the word counts by frequency (highest first)\n",
            "    sorted_word_counts = sorted(word_counts.items(), key=lambda item: item[1], reverse=True)\n",
            "\n",
            "    # Print the sorted word counts\n",
            "    for word, count in sorted_word_counts:\n",
            "        print(f'{word}: {count}')\n",
            "\n",
            "if __name__ == \"__main__\":\n",
            "    # Replace 'your_text_file.txt' with the path to your text file\n",
            "    file_path = 'your_text_file.txt'\n",
            "    count_word_frequencies(file_path)\n",
            "```\n",
            "\n",
            "### Explanation:\n",
            "1. **Reading the File**: The program opens the specified text file and reads its content.\n",
            "2. **Finding Words**: It uses a regular expression (`\\b\\w+\\b`) to find all words in the text. The `\\b` denotes word boundaries, and `\\w+` matches one or more word characters. The `text.lower()` ensures that the word counting is case-insensitive.\n",
            "3. **Counting Words**: The `Counter` from the `collections` module is used to count the occurrences of each word.\n",
            "4. **Sorting by Frequency**: The word counts are sorted by frequency in descending order using the `sorted` function with a custom key.\n",
            "5. **Printing Results**: The sorted word counts are printed to the console.\n",
            "\n",
            "### Usage:\n",
            "- Replace `'your_text_file.txt'` with the path to your text file.\n",
            "- Run the script, and it will print the word frequencies sorted by their occurrences.\n",
            "\n",
            "This program follows best practices such as using `with` for file operations to ensure proper resource management and using `Counter` for efficient counting.\n"
          ]
        }
      ],
      "source": [
        "# without CoT\n",
        "prompt = \"\"\"\n",
        "Write a Python program that counts the occurrences of each word in a given text file\n",
        "and prints the result sorted by frequency.\n",
        "\n",
        "\"\"\"\n",
        "\n",
        "print(generate_response(prompt))"
      ]
    },
    {
      "cell_type": "code",
      "execution_count": null,
      "metadata": {
        "colab": {
          "base_uri": "https://localhost:8080/"
        },
        "id": "n9WgYYSOJ8bf",
        "outputId": "93e67687-b90c-4f55-8279-2cc9de02fa92"
      },
      "outputs": [
        {
          "name": "stdout",
          "output_type": "stream",
          "text": [
            "Certainly! Below is a Python program that accomplishes the task of counting the occurrences of each word in a given text file and printing the result sorted by frequency.\n",
            "\n",
            "### Step-by-Step Breakdown\n",
            "\n",
            "1. **Read the content of the text file**: Open the file and read its content.\n",
            "2. **Split the content into words**: Use string methods to split the text into individual words.\n",
            "3. **Create a dictionary to store word frequencies**: Initialize an empty dictionary.\n",
            "4. **Iterate through the words and update their counts in the dictionary**: Loop through the list of words and update the dictionary with word counts.\n",
            "5. **Sort the dictionary by frequency and print the results**: Sort the dictionary by its values (frequencies) and print the sorted results.\n",
            "\n",
            "### Complete Code\n",
            "\n",
            "```python\n",
            "import re\n",
            "from collections import defaultdict\n",
            "\n",
            "def read_file(file_path):\n",
            "    \"\"\"Read the content of the text file.\"\"\"\n",
            "    with open(file_path, 'r') as file:\n",
            "        return file.read()\n",
            "\n",
            "def split_into_words(text):\n",
            "    \"\"\"Split the text into words.\"\"\"\n",
            "    # Use regular expression to find words, ignoring punctuation\n",
            "    return re.findall(r'\\b\\w+\\b', text.lower())\n",
            "\n",
            "def count_word_frequencies(words):\n",
            "    \"\"\"Count the occurrences of each word.\"\"\"\n",
            "    word_freq = defaultdict(int)\n",
            "    for word in words:\n",
            "        word_freq[word] += 1\n",
            "    return word_freq\n",
            "\n",
            "def sort_by_frequency(word_freq):\n",
            "    \"\"\"Sort the dictionary by frequency.\"\"\"\n",
            "    return sorted(word_freq.items(), key=lambda item: item[1], reverse=True)\n",
            "\n",
            "def print_word_frequencies(sorted_word_freq):\n",
            "    \"\"\"Print the word frequencies.\"\"\"\n",
            "    for word, freq in sorted_word_freq:\n",
            "        print(f'{word}: {freq}')\n",
            "\n",
            "def main(file_path):\n",
            "    text = read_file(file_path)\n",
            "    words = split_into_words(text)\n",
            "    word_freq = count_word_frequencies(words)\n",
            "    sorted_word_freq = sort_by_frequency(word_freq)\n",
            "    print_word_frequencies(sorted_word_freq)\n",
            "\n",
            "if __name__ == \"__main__\":\n",
            "    file_path = 'path/to/your/textfile.txt'  # Replace with your file path\n",
            "    main(file_path)\n",
            "```\n",
            "\n",
            "### Explanation\n",
            "\n",
            "1. **Reading the File**:\n",
            "    ```python\n",
            "    def read_file(file_path):\n",
            "        with open(file_path, 'r') as file:\n",
            "            return file.read()\n",
            "    ```\n",
            "    This function opens the file in read mode and returns its content as a string.\n",
            "\n",
            "2. **Splitting into Words**:\n",
            "    ```python\n",
            "    def split_into_words(text):\n",
            "        return re.findall(r'\\b\\w+\\b', text.lower())\n",
            "    ```\n",
            "    This function uses a regular expression to find all words in the text, converting the text to lowercase to ensure case insensitivity.\n",
            "\n",
            "3. **Counting Word Frequencies**:\n",
            "    ```python\n",
            "    def count_word_frequencies(words):\n",
            "        word_freq = defaultdict(int)\n",
            "        for word in words:\n",
            "            word_freq[word] += 1\n",
            "        return word_freq\n",
            "    ```\n",
            "    This function initializes a `defaultdict` to store word counts and iterates through the list of words to update their counts.\n",
            "\n",
            "4. **Sorting by Frequency**:\n",
            "    ```python\n",
            "    def sort_by_frequency(word_freq):\n",
            "        return sorted(word_freq.items(), key=lambda item: item[1], reverse=True)\n",
            "    ```\n",
            "    This function sorts the dictionary items by their frequency in descending order.\n",
            "\n",
            "5. **Printing the Results**:\n",
            "    ```python\n",
            "    def print_word_frequencies(sorted_word_freq):\n",
            "        for word, freq in sorted_word_freq:\n",
            "            print(f'{word}: {freq}')\n",
            "    ```\n",
            "    This function prints each word and its frequency.\n",
            "\n",
            "6. **Main Function**:\n",
            "    ```python\n",
            "    def main(file_path):\n",
            "        text = read_file(file_path)\n",
            "        words = split_into_words(text)\n",
            "        word_freq = count_word_frequencies(words)\n",
            "        sorted_word_freq = sort_by_frequency(word_freq)\n",
            "        print_word_frequencies(sorted_word_freq)\n",
            "    ```\n",
            "    The `main` function orchestrates the entire process by calling the other functions in sequence.\n",
            "\n",
            "### Usage\n",
            "\n",
            "Replace `'path/to/your/textfile.txt'` with the actual path to your text file and run the script. The program will read the file, count word frequencies, sort them by frequency, and print the results.\n"
          ]
        }
      ],
      "source": [
        "# with CoT\n",
        "prompt = \"\"\"\n",
        "Write a Python program that counts the occurrences of each word in a given text file and prints the result sorted by frequency.\n",
        "\n",
        "First, read the content of the text file.\n",
        "Next, split the content into words.\n",
        "Then, create a dictionary to store word frequencies.\n",
        "After that, iterate through the words and update their counts in the dictionary.\n",
        "Finally, sort the dictionary by frequency and print the results.\n",
        "Feel free to break down each step further if needed.\n",
        "\n",
        "\"\"\"\n",
        "\n",
        "print(generate_response(prompt))"
      ]
    },
    {
      "cell_type": "markdown",
      "metadata": {
        "id": "Is3KP_pzFmIX"
      },
      "source": [
        "## Thank You"
      ]
    },
    {
      "cell_type": "code",
      "execution_count": null,
      "metadata": {
        "id": "XgLxLVaGM8U5"
      },
      "outputs": [],
      "source": []
    }
  ],
  "metadata": {
    "colab": {
      "provenance": [],
      "include_colab_link": true
    },
    "kernelspec": {
      "display_name": "Python 3",
      "name": "python3"
    },
    "language_info": {
      "codemirror_mode": {
        "name": "ipython",
        "version": 3
      },
      "file_extension": ".py",
      "mimetype": "text/x-python",
      "name": "python",
      "nbconvert_exporter": "python",
      "pygments_lexer": "ipython3",
      "version": "3.10.9"
    }
  },
  "nbformat": 4,
  "nbformat_minor": 0
}
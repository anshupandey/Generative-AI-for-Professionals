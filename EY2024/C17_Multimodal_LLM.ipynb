{
  "cells": [
    {
      "cell_type": "markdown",
      "metadata": {
        "id": "view-in-github",
        "colab_type": "text"
      },
      "source": [
        "<a href=\"https://colab.research.google.com/github/anshupandey/Generative-AI-for-Professionals/blob/main/EY2024/C17_Multimodal_LLM.ipynb\" target=\"_parent\"><img src=\"https://colab.research.google.com/assets/colab-badge.svg\" alt=\"Open In Colab\"/></a>"
      ]
    },
    {
      "cell_type": "markdown",
      "metadata": {
        "id": "l2QLBDf4-O6E"
      },
      "source": [
        "# Multimodal Prompting with GPT-4 Vision"
      ]
    },
    {
      "cell_type": "code",
      "execution_count": null,
      "metadata": {
        "id": "DQhMOsGo84h6"
      },
      "outputs": [],
      "source": [
        "import os\n",
        "import requests\n",
        "import base64"
      ]
    },
    {
      "cell_type": "code",
      "execution_count": null,
      "metadata": {
        "id": "CAngBvw_85aK"
      },
      "outputs": [],
      "source": [
        "azure_endpoint=\"https://xxxxxxxxx.openai.azure.com/\"\n",
        "api_key=\"xxxxxxxxxx\"\n",
        "api_version=\"2024-02-15-preview\"\n",
        "model_name=\"gpt-4o\""
      ]
    },
    {
      "cell_type": "code",
      "source": [
        "!wget -q https://raw.githubusercontent.com/anshupandey/Microsoft_Azure_Implementing_Enterprise_GenAI_Applications_with_Azure_OpenAI-/main/generative-ai_image_covid_chart.png\n"
      ],
      "metadata": {
        "id": "PJnSNgyLx5tQ"
      },
      "execution_count": null,
      "outputs": []
    },
    {
      "cell_type": "code",
      "execution_count": null,
      "metadata": {
        "id": "_mmt3BME9JsB"
      },
      "outputs": [],
      "source": [
        "\n",
        "# Configuration\n",
        "GPT4V_KEY = api_key\n",
        "IMAGE_PATH = \"generative-ai_image_covid_chart.png\"\n",
        "GPT4V_ENDPOINT = f\"{azure_endpoint}openai/deployments/{model_name}/chat/completions?api-version={api_version}\"\n",
        "encoded_image = base64.b64encode(open(IMAGE_PATH, 'rb').read()).decode('ascii')\n",
        "headers = {\n",
        "    \"Content-Type\": \"application/json\",\n",
        "    \"api-key\": GPT4V_KEY,\n",
        "}\n"
      ]
    },
    {
      "cell_type": "code",
      "execution_count": null,
      "metadata": {
        "colab": {
          "base_uri": "https://localhost:8080/"
        },
        "id": "KvzhDZMX8kUS",
        "outputId": "0993814e-dce8-49f2-e943-fc44f5b247b8"
      },
      "outputs": [
        {
          "name": "stdout",
          "output_type": "stream",
          "text": [
            "This image is a bar chart showing the share of people vaccinated against COVID-19 as of September 2, 2021, in various countries. The chart distinguishes between two categories:\n",
            "\n",
            "1. Share of people fully vaccinated against COVID-19 (represented by the darker green bars)\n",
            "2. Share of people only partly vaccinated against COVID-19 (represented by the lighter green bars)\n",
            "\n",
            "The countries are listed on the y-axis, and the percentage of vaccinated people is shown on the x-axis. The chart also notes that alternative definitions of full vaccination, such as having been infected with SARS-CoV-2 and having 1 dose of a 2-dose protocol, are ignored to maximize comparability between countries.\n",
            "\n",
            "From the chart, we can see the following percentages for each country:\n",
            "\n",
            "- China: 62% partly vaccinated, 13% fully vaccinated, for a total of 74%.\n",
            "- Italy: 61% partly vaccinated, 9.7% fully vaccinated, for a total of 71%.\n",
            "- Germany: 60% partly vaccinated, 4.5% fully vaccinated, for a total of 65%.\n",
            "- United States: 52% partly vaccinated, 9.3% fully vaccinated, for a total of 61%.\n",
            "- Mexico: 27% partly vaccinated, 18% fully vaccinated, for a total of 45%.\n",
            "- Taiwan: 38% partly vaccinated, 4% fully vaccinated, for a total of 42%.\n",
            "- India: 26% partly vaccinated, 11% fully vaccinated, for a total of 37%.\n",
            "- Thailand: 22% partly vaccinated, 11% fully vaccinated, for a total of 33%.\n",
            "- Indonesia: 24% partly vaccinated, 13% fully vaccinated, for a total of 37%.\n",
            "- Vietnam: 18% partly vaccinated, 2.8% fully vaccinated, for a total of 20.8%.\n",
            "\n",
            "The chart provides a snapshot of the vaccination progress in these countries as of the specified date and is a tool for comparing the extent of vaccination coverage across them. The data source is cited as \"Official data collated by Our World in Data,\" and it specifies that this data is only available for countries that report the breakdown of doses administered by first and second doses in absolute numbers.\n"
          ]
        }
      ],
      "source": [
        "\n",
        "\n",
        "# Payload for the request\n",
        "payload = {\n",
        "  \"messages\": [ {\"role\": \"system\", \"content\": [{ \"type\": \"text\",\n",
        "          \"text\": \"You are an AI assistant that helps people find information.\"}]},\n",
        "    {\"role\": \"user\",\"content\": [{\"type\": \"image_url\",\n",
        "                                 \"image_url\": {\"url\": f\"data:image/jpeg;base64,{encoded_image}\"}},\n",
        "        {\"type\": \"text\",\"text\": \"explain this image\"}]},\n",
        "  ],\n",
        "  \"temperature\": 0.7,\n",
        "  \"top_p\": 0.95,\n",
        "  \"max_tokens\": 800\n",
        "}\n",
        "\n",
        "# Send request\n",
        "try:\n",
        "    response = requests.post(GPT4V_ENDPOINT, headers=headers, json=payload)\n",
        "    response.raise_for_status()  # Will raise an HTTPError if the HTTP request returned an unsuccessful status code\n",
        "except requests.RequestException as e:\n",
        "    raise SystemExit(f\"Failed to make the request. Error: {e}\")\n",
        "\n",
        "# Handle the response as needed (e.g., print or process)\n",
        "print(response.json()['choices'][0]['message']['content'])"
      ]
    },
    {
      "cell_type": "code",
      "execution_count": null,
      "metadata": {
        "id": "7g12NsHB-Bd_",
        "outputId": "dc6b01e1-de88-43bf-dd43-1e6709e26d1d"
      },
      "outputs": [
        {
          "name": "stdout",
          "output_type": "stream",
          "text": [
            "Certainly! Below is the markdown table with the extracted statistics from the image:\n",
            "\n",
            "```markdown\n",
            "| Country    | Fully Vaccinated | Partly Vaccinated |\n",
            "|------------|------------------|-------------------|\n",
            "| China      | 62%              | 13%               |\n",
            "| Italy      | 61%              | 9.7%              |\n",
            "| Germany    | 60%              | 4.5%              |\n",
            "| United States | 52%              | 9.3%              |\n",
            "| Mexico     | 27%              | 18%               |\n",
            "| Taiwan     | 4%               | 38%               |\n",
            "| India      | 11%              | 37%               |\n",
            "| Thailand   | 11%              | 33%               |\n",
            "| Indonesia  | 13%              | 24%               |\n",
            "| Vietnam    | 2.8%             | 18%               |\n",
            "```\n",
            "\n",
            "Please note that these statistics are as of September 2, 2021, and may have changed since then.\n"
          ]
        }
      ],
      "source": [
        "\n",
        "\n",
        "# Payload for the request\n",
        "payload = {\n",
        "  \"messages\": [ {\"role\": \"system\", \"content\": [{ \"type\": \"text\",\n",
        "          \"text\": \"You are an AI assistant that helps people find information.\"}]},\n",
        "    {\"role\": \"user\",\"content\": [{\"type\": \"image_url\",\n",
        "                                 \"image_url\": {\"url\": f\"data:image/jpeg;base64,{encoded_image}\"}},\n",
        "        {\"type\": \"text\",\"text\": \"extract the statistics from the image and provide as markdown table\"}]},\n",
        "  ],\n",
        "  \"temperature\": 0.7,\n",
        "  \"top_p\": 0.95,\n",
        "  \"max_tokens\": 800\n",
        "}\n",
        "\n",
        "# Send request\n",
        "try:\n",
        "    response = requests.post(GPT4V_ENDPOINT, headers=headers, json=payload)\n",
        "    response.raise_for_status()  # Will raise an HTTPError if the HTTP request returned an unsuccessful status code\n",
        "except requests.RequestException as e:\n",
        "    raise SystemExit(f\"Failed to make the request. Error: {e}\")\n",
        "\n",
        "# Handle the response as needed (e.g., print or process)\n",
        "print(response.json()['choices'][0]['message']['content'])"
      ]
    },
    {
      "cell_type": "markdown",
      "metadata": {
        "id": "rtw9yI_Z-MQ7"
      },
      "source": [
        "## Thank You"
      ]
    }
  ],
  "metadata": {
    "colab": {
      "provenance": [],
      "include_colab_link": true
    },
    "kernelspec": {
      "display_name": "Python 3",
      "name": "python3"
    },
    "language_info": {
      "codemirror_mode": {
        "name": "ipython",
        "version": 3
      },
      "file_extension": ".py",
      "mimetype": "text/x-python",
      "name": "python",
      "nbconvert_exporter": "python",
      "pygments_lexer": "ipython3",
      "version": "3.10.9"
    }
  },
  "nbformat": 4,
  "nbformat_minor": 0
}
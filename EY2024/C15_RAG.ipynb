{
  "cells": [
    {
      "cell_type": "markdown",
      "metadata": {
        "id": "view-in-github",
        "colab_type": "text"
      },
      "source": [
        "<a href=\"https://colab.research.google.com/github/anshupandey/Generative-AI-for-Professionals/blob/main/EY2024/C15_RAG.ipynb\" target=\"_parent\"><img src=\"https://colab.research.google.com/assets/colab-badge.svg\" alt=\"Open In Colab\"/></a>"
      ]
    },
    {
      "cell_type": "markdown",
      "metadata": {
        "id": "SpVgBlJNayoI"
      },
      "source": [
        "# RAG Implementation with Azure OpenAI and LangChain"
      ]
    },
    {
      "cell_type": "code",
      "execution_count": null,
      "metadata": {
        "colab": {
          "base_uri": "https://localhost:8080/"
        },
        "id": "28d272cd-4e31-40aa-bbb4-0be0a1f49a14",
        "outputId": "9732f606-6c04-4ad7-e0e6-b4d644fa5aa4"
      },
      "outputs": [
        {
          "name": "stderr",
          "output_type": "stream",
          "text": [
            "WARNING: Ignoring invalid distribution -rotobuf (c:\\users\\anshu pandey\\appdata\\roaming\\python\\python310\\site-packages)\n",
            "WARNING: Ignoring invalid distribution -ensorflow-intel (c:\\users\\anshu pandey\\appdata\\roaming\\python\\python310\\site-packages)\n",
            "WARNING: Ignoring invalid distribution -rotobuf (c:\\users\\anshu pandey\\appdata\\roaming\\python\\python310\\site-packages)\n",
            "WARNING: Ignoring invalid distribution -ensorflow-intel (c:\\users\\anshu pandey\\appdata\\roaming\\python\\python310\\site-packages)\n",
            "WARNING: Ignoring invalid distribution -rotobuf (c:\\users\\anshu pandey\\appdata\\roaming\\python\\python310\\site-packages)\n",
            "WARNING: Ignoring invalid distribution -ensorflow-intel (c:\\users\\anshu pandey\\appdata\\roaming\\python\\python310\\site-packages)\n",
            "WARNING: Ignoring invalid distribution -rotobuf (c:\\users\\anshu pandey\\appdata\\roaming\\python\\python310\\site-packages)\n",
            "WARNING: Ignoring invalid distribution -ensorflow-intel (c:\\users\\anshu pandey\\appdata\\roaming\\python\\python310\\site-packages)\n",
            "WARNING: Ignoring invalid distribution -rotobuf (c:\\users\\anshu pandey\\appdata\\roaming\\python\\python310\\site-packages)\n",
            "WARNING: Ignoring invalid distribution -ensorflow-intel (c:\\users\\anshu pandey\\appdata\\roaming\\python\\python310\\site-packages)\n",
            "WARNING: Ignoring invalid distribution -rotobuf (c:\\users\\anshu pandey\\appdata\\roaming\\python\\python310\\site-packages)\n",
            "WARNING: Ignoring invalid distribution -ensorflow-intel (c:\\users\\anshu pandey\\appdata\\roaming\\python\\python310\\site-packages)\n"
          ]
        }
      ],
      "source": [
        "!pip install langchain-community langchainhub langchain-openai chromadb langchain langchain-experimental --quiet"
      ]
    },
    {
      "cell_type": "code",
      "execution_count": null,
      "metadata": {
        "colab": {
          "base_uri": "https://localhost:8080/"
        },
        "id": "bLonIlavDBci",
        "outputId": "723d17aa-3376-4997-9988-a995acd2b072"
      },
      "outputs": [
        {
          "name": "stderr",
          "output_type": "stream",
          "text": [
            "WARNING: Ignoring invalid distribution -rotobuf (c:\\users\\anshu pandey\\appdata\\roaming\\python\\python310\\site-packages)\n",
            "WARNING: Ignoring invalid distribution -ensorflow-intel (c:\\users\\anshu pandey\\appdata\\roaming\\python\\python310\\site-packages)\n",
            "WARNING: Ignoring invalid distribution -rotobuf (c:\\users\\anshu pandey\\appdata\\roaming\\python\\python310\\site-packages)\n",
            "WARNING: Ignoring invalid distribution -ensorflow-intel (c:\\users\\anshu pandey\\appdata\\roaming\\python\\python310\\site-packages)\n",
            "WARNING: Ignoring invalid distribution -rotobuf (c:\\users\\anshu pandey\\appdata\\roaming\\python\\python310\\site-packages)\n",
            "WARNING: Ignoring invalid distribution -ensorflow-intel (c:\\users\\anshu pandey\\appdata\\roaming\\python\\python310\\site-packages)\n",
            "WARNING: Ignoring invalid distribution -rotobuf (c:\\users\\anshu pandey\\appdata\\roaming\\python\\python310\\site-packages)\n",
            "WARNING: Ignoring invalid distribution -ensorflow-intel (c:\\users\\anshu pandey\\appdata\\roaming\\python\\python310\\site-packages)\n",
            "WARNING: Ignoring invalid distribution -rotobuf (c:\\users\\anshu pandey\\appdata\\roaming\\python\\python310\\site-packages)\n",
            "WARNING: Ignoring invalid distribution -ensorflow-intel (c:\\users\\anshu pandey\\appdata\\roaming\\python\\python310\\site-packages)\n",
            "WARNING: Ignoring invalid distribution -rotobuf (c:\\users\\anshu pandey\\appdata\\roaming\\python\\python310\\site-packages)\n",
            "WARNING: Ignoring invalid distribution -ensorflow-intel (c:\\users\\anshu pandey\\appdata\\roaming\\python\\python310\\site-packages)\n"
          ]
        }
      ],
      "source": [
        "!pip install pypdf faiss-cpu --quiet"
      ]
    },
    {
      "cell_type": "code",
      "execution_count": null,
      "metadata": {
        "id": "Ja6U3t6abVpU"
      },
      "outputs": [],
      "source": [
        "api_key = \"xxxxxxxx\"\n",
        "api_version = \"2023-07-01-preview\" # \"2023-05-15\"\n",
        "azure_endpoint = \"https://xxxxxx.openai.azure.com/\"\n",
        "embedding_model_name = \"text-embedding-ada-002\"\n",
        "model_name = \"gpt-35-turbo\""
      ]
    },
    {
      "cell_type": "code",
      "execution_count": null,
      "metadata": {
        "id": "fnR_pBonbX34"
      },
      "outputs": [],
      "source": [
        "import os\n",
        "os.environ[\"OPENAI_API_VERSION\"] = api_version\n",
        "os.environ[\"AZURE_OPENAI_ENDPOINT\"] = azure_endpoint\n",
        "os.environ[\"AZURE_OPENAI_API_KEY\"] = api_key"
      ]
    },
    {
      "cell_type": "code",
      "execution_count": null,
      "metadata": {
        "id": "MGhs4RN7vgXG"
      },
      "outputs": [],
      "source": [
        "doc_paths = [\"https://www.morningstar.com/content/dam/marketing/shared/research/methodology/771945_Morningstar_Rating_for_Funds_Methodology.pdf\",\n",
        "             \"https://www.morningstar.in/docs/methodology/CategoryDefinitionsIndiaV3.pdf\",\n",
        "             \"https://s21.q4cdn.com/198919461/files/doc_downloads/press_kits/2016/Morningstar-Sustainable-Investing-Handbook.pdf\"]"
      ]
    },
    {
      "cell_type": "code",
      "execution_count": null,
      "metadata": {
        "id": "nhl29sxXD085"
      },
      "outputs": [],
      "source": [
        "from langchain_community.document_loaders import PyPDFLoader\n",
        "from langchain.text_splitter import RecursiveCharacterTextSplitter\n",
        "\n",
        "loaders = [PyPDFLoader(pdf, extract_images=False) for pdf in doc_paths]\n",
        "\n",
        "docs = []\n",
        "\n",
        "for loader in loaders:\n",
        "    doc = loader.load()\n",
        "    docs.extend(doc)"
      ]
    },
    {
      "cell_type": "code",
      "execution_count": null,
      "metadata": {
        "colab": {
          "base_uri": "https://localhost:8080/"
        },
        "id": "plYaZJcrwZrd",
        "outputId": "494890bf-219a-47ff-fdb8-6c3806a33f5d"
      },
      "outputs": [
        {
          "data": {
            "text/plain": [
              "46"
            ]
          },
          "execution_count": 7,
          "metadata": {},
          "output_type": "execute_result"
        }
      ],
      "source": [
        "len(docs)"
      ]
    },
    {
      "cell_type": "code",
      "execution_count": null,
      "metadata": {
        "colab": {
          "base_uri": "https://localhost:8080/"
        },
        "id": "HVLYgpziwdKD",
        "outputId": "c439fa27-33a9-4a3a-b22e-8b93e161c2a3"
      },
      "outputs": [
        {
          "data": {
            "text/plain": [
              "45"
            ]
          },
          "execution_count": 8,
          "metadata": {},
          "output_type": "execute_result"
        }
      ],
      "source": [
        "# drop pages which have less than 100 characters (e.g. header pages, empty separater pages)\n",
        "docs = [doc for doc in docs if len(doc.page_content.strip())>100]\n",
        "len(docs)"
      ]
    },
    {
      "cell_type": "code",
      "execution_count": null,
      "metadata": {
        "colab": {
          "base_uri": "https://localhost:8080/"
        },
        "id": "msEaKLKqwiOE",
        "outputId": "030bb343-243e-4718-8db3-d4a466eba058"
      },
      "outputs": [
        {
          "data": {
            "text/plain": [
              "2665.911111111111"
            ]
          },
          "execution_count": 9,
          "metadata": {},
          "output_type": "execute_result"
        }
      ],
      "source": [
        "# FOr all remaining document, checking the average characters count\n",
        "sum(len(doc.page_content) for doc in docs)/len(docs)"
      ]
    },
    {
      "cell_type": "code",
      "execution_count": null,
      "metadata": {
        "colab": {
          "base_uri": "https://localhost:8080/"
        },
        "id": "qM6hV4DjwkIe",
        "outputId": "95a1e500-863d-4509-cce9-e79d5f0638e1"
      },
      "outputs": [
        {
          "data": {
            "text/plain": [
              "53"
            ]
          },
          "execution_count": 10,
          "metadata": {},
          "output_type": "execute_result"
        }
      ],
      "source": [
        "# split the documents(each pdf page as one document) , into multiple so that at max there are 3500 characters in one document, with overlap of 500 characters while splitting\n",
        "text_splitter = RecursiveCharacterTextSplitter(chunk_size=3500, chunk_overlap=500)\n",
        "splits = text_splitter.split_documents(docs)\n",
        "len(splits)"
      ]
    },
    {
      "cell_type": "code",
      "execution_count": null,
      "metadata": {
        "colab": {
          "base_uri": "https://localhost:8080/"
        },
        "id": "YpYTraoSwmUj",
        "outputId": "34f34a36-63ad-4808-decc-12df8830c92b"
      },
      "outputs": [
        {
          "name": "stdout",
          "output_type": "stream",
          "text": [
            "3\n",
            "3\n",
            "3\n",
            "©2021 Morningstar, Inc. All rights reserved. The information in this document is the property of Morningstar, Inc. Reproduction or transcription by any means, in whole or in part, without the prior written \n",
            "consent of Morningstar, Inc., is prohibited.\n",
            " The Morningstar RatingTM for Funds    August 2021 Page 2 of 21\n",
            "captured by standard deviation, as would be the case if excess return were normally or lognormally \n",
            "distributed, which is not always the case. Also, standard deviation measures variation both above \n",
            "and below the mean equally. But investors are generally risk-averse and dislike downside variation \n",
            "more than upside variation. Morningstar gives more weight to downside variation when calculating \n",
            "Morningstar Risk-Adjusted Return and does not make any assumptions about the distribution of \n",
            "excess returns.\n",
            "The other commonly accepted meaning of “risk-adjusted” is based on assumed investor preferences. \n",
            "Under this approach, higher return is “good” and higher risk is “bad” under all circumstances, \n",
            "without regard to how these two outcomes are combined. Hence, when grading funds, return \n",
            "should be rewarded and risk penalized in all cases. The Morningstar Risk-Adjusted Return measure \n",
            "described in this document has this property.\n",
            "This document discusses the Morningstar Category as the basis for the rating, and it describes the \n",
            "methodology for calculating risk-adjusted return and the Morningstar Rating. Morningstar calculates \n",
            "ratings at the end of each month.\n",
            "Morningstar Categories\n",
            "Category Peer Groups\n",
            "Morningstar uses the Morningstar Category as the primary peer group for a number of calculations, \n",
            "including percentile ranks, fund-versus-category-average comparisons, and the Morningstar Rating. \n",
            "The Morningstar Rating compares funds’ risk-adjusted historical returns. Its usefulness depends, in \n",
            "part, on which funds are compared with others. \n",
            "It can be assumed that the returns of major asset classes (domestic equities, foreign equities, \n",
            "domestic bonds, and so on) will, over lengthy periods of time, be commensurate with their risk. \n",
            "However, asset class relative returns may not reflect relative risk over ordinary investor time \n",
            "horizons. For instance, in a declining interest-rate environment, investment-grade bond returns can \n",
            "exceed equity returns despite the higher long-term risk of equities; such a situation might continue \n",
            "for months or even years. Under these circumstances many bond funds outperform equity funds for \n",
            "reasons unrelated to the skills of the fund managers.\n",
            "A general principle that applies to the calculation of fund star ratings follows from this fact; that \n",
            "is, the relative star ratings of two funds should be affected more by manager skill than by market \n",
            "circumstances or events that lie beyond the fund managers’ control. \n",
            "Another general principle is that peer groups should reflect the investment opportunities for \n",
            "investors. So, categories are defined and funds are rated within each of the major markets around \n",
            "the world. Morningstar supports different category schemes for different markets based on the \n",
            "investment needs and perspectives of local investors. For example, Morningstar rates high-yield\n"
          ]
        }
      ],
      "source": [
        "print(splits[1].page_content)"
      ]
    },
    {
      "cell_type": "code",
      "execution_count": null,
      "metadata": {
        "id": "l2B32z8TcWoU"
      },
      "outputs": [],
      "source": [
        "from langchain_openai import AzureOpenAIEmbeddings\n",
        "embeddings = AzureOpenAIEmbeddings(azure_deployment=embedding_model_name)"
      ]
    },
    {
      "cell_type": "code",
      "execution_count": null,
      "metadata": {
        "id": "gbSAbl22wopB"
      },
      "outputs": [],
      "source": [
        "# initializng the vector store using CHromaDB\n",
        "from langchain_community.vectorstores import FAISS\n",
        "from langchain.embeddings import HuggingFaceBgeEmbeddings\n",
        "embedding_model_name = \"BAAI/bge-large-en-v1.5\"\n",
        "embeddings = HuggingFaceBgeEmbeddings(model_name=embedding_model_name,)"
      ]
    },
    {
      "cell_type": "code",
      "execution_count": null,
      "metadata": {
        "id": "VLwnR76SMPsH"
      },
      "outputs": [],
      "source": [
        "from langchain_community.vectorstores import FAISS\n",
        "# Using embedding model, to embed documents to vector and store to a vector db (Inmemory vectorDB - FAISS)\n",
        "vectorstore = FAISS.from_documents(documents=splits, embedding=embeddings)\n",
        "\n",
        "# using vector db object to initialize a retriever object - to perform vector search/retrieval\n",
        "retriever = vectorstore.as_retriever(search_type=\"similarity\", search_kwargs={\"k\": 2})"
      ]
    },
    {
      "cell_type": "code",
      "execution_count": null,
      "metadata": {
        "colab": {
          "base_uri": "https://localhost:8080/",
          "height": 159
        },
        "id": "mfJHg61Uw6BP",
        "outputId": "3ce3f2b9-d711-4f4c-9054-0000508f9b9f"
      },
      "outputs": [
        {
          "data": {
            "text/plain": [
              "2"
            ]
          },
          "execution_count": 23,
          "metadata": {},
          "output_type": "execute_result"
        }
      ],
      "source": [
        "retrieved_docs = retriever.invoke(\"What is Large Cap equity fund\")\n",
        "len(retrieved_docs)"
      ]
    },
    {
      "cell_type": "code",
      "execution_count": null,
      "metadata": {
        "colab": {
          "base_uri": "https://localhost:8080/"
        },
        "id": "DNIGp-p9w6BV",
        "outputId": "3910a673-677b-4cea-8fcd-95e453bab413"
      },
      "outputs": [
        {
          "name": "stdout",
          "output_type": "stream",
          "text": [
            "?  \n",
            " \n",
            " \n",
            " \n",
            " \n",
            " \n",
            " \n",
            " \n",
            " \n",
            " \n",
            " \n",
            " Categor y Definitions  \n",
            "India \n",
            "Equity  \n",
            " \n",
            "Large-Cap \n",
            "Large-Cap funds primarily consist of stocks which a re the Top 100 stocks by full market capitalization  of \n",
            "the equity market. These funds invest at least 80% of total assets in Indian equities and the balance can \n",
            "be invested in other asset classes such as fixed in come and overseas equities, among others. Funds in \n",
            "this category would invest at least 80% of their to tal assets in large-cap stocks. \n",
            "Morningstar Category Index: S&P BSE 100 TR \n",
            " \n",
            "Mid-Cap \n",
            "Mid-Cap funds primarily consist of stocks ranked 10 1st to 250th by full market capitalization of the \n",
            "equity market. These funds invest at least 65% of t otal assets in Indian equities, and the balance can  be \n",
            "invested in other asset classes such as fixed incom e and overseas equities, among others. Funds in thi s \n",
            "category would invest at least 65% of their total a ssets in mid-cap stocks. \n",
            "Morningstar Category Index: S&P BSE Mid Cap TR \n",
            " \n",
            "Small-Cap \n",
            "Small-Cap funds primarily consist of stocks ranked 251st onwards by full market capitalization of the \n",
            "equity market. These funds invest at least 65% of t otal assets in Indian equities, and the balance can  be \n",
            "invested in other asset classes such as fixed incom e and overseas equities, among others. Funds in thi s \n",
            "category would invest at least 65% of their total a ssets in small-cap stocks. \n",
            "Morningstar Category Index: S&P BSE Small Cap TR \n",
            " \n",
            "Flexi Cap \n",
            "Flexi Cap funds invest at least 65% of their total assets in Indian equities, and the balance can be \n",
            "invested in other asset classes such as fixed incom e and overseas equities, among others. These funds \n",
            "will invest into a mix of Large, Mid and small-cap stocks. \n",
            "Morningstar Category Index: S&P BSE 500 TR \n",
            " \n",
            " \n",
            " Morningstar Research  \n",
            "April 2021\n"
          ]
        }
      ],
      "source": [
        "print(retrieved_docs[0].page_content)"
      ]
    },
    {
      "cell_type": "code",
      "execution_count": null,
      "metadata": {
        "colab": {
          "base_uri": "https://localhost:8080/"
        },
        "id": "6tMaR7AVw6BV",
        "outputId": "c12e2a21-2685-4760-83c1-302cc27b4642"
      },
      "outputs": [
        {
          "name": "stdout",
          "output_type": "stream",
          "text": [
            "©2019 Morningstar, Inc. All rights reserved. The in formation in this document is the property of Morni ngstar, Inc. Reproduction or transcription by any m eans, in whole or part, without  \n",
            "the prior written consent of Morningstar, Inc., is prohibited. Category Definitions , India  | 26 February 2021  Page 2 of 12  \n",
            "Multi- Cap \n",
            "Multi-Cap funds invest at least 75% of their total assets in Indian equities, and the balance can be \n",
            "invested in other asset classes such as fixed incom e and overseas equities, among others. These funds \n",
            "will invest a minimum of 25% each in Large Cap, Mid  Cap and Small Cap stocks. \n",
            "Morningstar Category Index: S&P BSE 500 TR \n",
            " \n",
            " \n",
            "Large & Mid- Cap \n",
            "Large & Mid-Cap funds primarily consist of stocks w hich are the Top 250 stocks by full market \n",
            "capitalization of the equity market. These funds in vest at least 70% of total assets in Indian equitie s and \n",
            "the balance can be invested in other asset classes such as fixed income and overseas equities, among \n",
            "others. Funds in this category would invest at leas t 35% of their total assets in large-cap stocks and  35% \n",
            "of their total assets in mid-cap stocks. \n",
            "Morningstar Category Index: S&P BSE 200 TR \n",
            " \n",
            " \n",
            "Global – Other \n",
            "Global – Other funds include those funds that inves t at least 65% of total assets in instruments issue d by \n",
            "overseas i.e. non-Indian companies. In addition, fu nds that invest at least 65% of total assets in \n",
            "exchange traded funds, fund of funds domiciled outs ide India are also included in this category. \n",
            "[Funds in this category do not receive a Morningsta r Rating™ due to the diverse nature of the \n",
            "constituents.] \n",
            " \n",
            "ELSS (Equity Linked Saving Schemes) \n",
            "These funds are notified as ELSS by SEBI under Sect ion 10 (23D). Investments of up to Rs 150,000 in a \n",
            "financial year in these funds are exempt from Incom e Tax under Section 80C of the Income Tax Act, \n",
            "1961. Investments in ELSS are subject to a lock-in of three years from the date of investment. \n",
            "Morningstar Category Index: S&P BSE 200 TR \n",
            " \n",
            "Value Funds   \n",
            "Value funds invest at least 65% of their total asse ts in Indian equities, and the balance can be inves ted in \n",
            "other asset classes such as fixed income and overse as equities, among others. These funds will \n",
            "predominantly invest in value stocks. \n",
            "Morningstar Category Index: S&P BSE 500 TR \n",
            " \n",
            "Contra Funds  \n",
            "Contra funds invest at least 65% of their total ass ets in Indian equities, and the balance can be inve sted \n",
            "in other asset classes such as fixed income and ove rseas equities, among others. These funds will \n",
            "predominantly invest using a contrarian investment theme. \n",
            "Morningstar Category Index: S&P BSE 500 TR\n"
          ]
        }
      ],
      "source": [
        "print(retrieved_docs[1].page_content)"
      ]
    },
    {
      "cell_type": "markdown",
      "metadata": {
        "id": "z2PHFzF5MPsJ"
      },
      "source": [
        "### Implementing RAG Chain"
      ]
    },
    {
      "cell_type": "code",
      "execution_count": null,
      "metadata": {
        "id": "0XQpy76qMPsK"
      },
      "outputs": [],
      "source": [
        "from langchain_core.prompts import ChatPromptTemplate\n",
        "from langchain_core.runnables import RunnablePassthrough\n",
        "\n",
        "message = \"\"\"\n",
        "Answer this question using the provided context only.\n",
        "\n",
        "{question}\n",
        "\n",
        "Context:\n",
        "{context}\n",
        "\"\"\"\n",
        "\n",
        "prompt = ChatPromptTemplate.from_messages([(\"human\", message)])"
      ]
    },
    {
      "cell_type": "code",
      "execution_count": null,
      "metadata": {
        "id": "VPQbxI8pMPsK"
      },
      "outputs": [],
      "source": [
        "from langchain_openai import AzureChatOpenAI\n",
        "llm = AzureChatOpenAI(deployment_name=model_name)\n",
        "\n",
        "rag_chain = {\"context\": retriever, \"question\": RunnablePassthrough()} | prompt | llm\n"
      ]
    },
    {
      "cell_type": "code",
      "execution_count": null,
      "metadata": {
        "id": "xsd3WlbdMPsK",
        "outputId": "06221bc1-e88e-4261-b2d1-a9db13892566"
      },
      "outputs": [
        {
          "name": "stdout",
          "output_type": "stream",
          "text": [
            "Mid-Cap funds primarily consist of stocks ranked 101st to 250th by full market capitalization of the equity market. These funds invest at least 65% of total assets in Indian equities, and the balance can be invested in other asset classes such as fixed income and overseas equities, among others. Funds in this category would invest at least 65% of their total assets in mid-cap stocks.\n"
          ]
        }
      ],
      "source": [
        "response = rag_chain.invoke(\"tell me about mid cap market\")\n",
        "\n",
        "print(response.content)"
      ]
    },
    {
      "cell_type": "markdown",
      "metadata": {
        "id": "reOaDF6pMPsL"
      },
      "source": [
        "### Implementing RAG Agent"
      ]
    },
    {
      "cell_type": "markdown",
      "metadata": {
        "id": "ptscFvCNMPsL"
      },
      "source": [
        "### Creating retriever Tool"
      ]
    },
    {
      "cell_type": "code",
      "execution_count": null,
      "metadata": {
        "id": "cYdHfXlHMPsM"
      },
      "outputs": [],
      "source": [
        "from langchain.tools.retriever import create_retriever_tool\n",
        "\n",
        "tool = create_retriever_tool(\n",
        "    retriever,\n",
        "    \"searchCapitalMarket\",\n",
        "    \"Searches and returns excerpts about trading stocks markets shares capital markets, DO not use it for any other info than that of capital market/ finance questions\",\n",
        ")\n",
        "tools = [tool,]"
      ]
    },
    {
      "cell_type": "code",
      "execution_count": null,
      "metadata": {
        "colab": {
          "base_uri": "https://localhost:8080/"
        },
        "id": "LjJoSVp56_G6",
        "outputId": "93e1c300-0f3a-4229-b6de-fd9b05268bff"
      },
      "outputs": [
        {
          "data": {
            "text/plain": [
              "[SystemMessagePromptTemplate(prompt=PromptTemplate(input_variables=[], template='You are a helpful assistant')),\n",
              " MessagesPlaceholder(variable_name='chat_history', optional=True),\n",
              " HumanMessagePromptTemplate(prompt=PromptTemplate(input_variables=['input'], template='{input}')),\n",
              " MessagesPlaceholder(variable_name='agent_scratchpad')]"
            ]
          },
          "execution_count": 30,
          "metadata": {},
          "output_type": "execute_result"
        }
      ],
      "source": [
        "from langchain import hub\n",
        "\n",
        "prompt = hub.pull(\"hwchase17/openai-tools-agent\")\n",
        "prompt.messages\n"
      ]
    },
    {
      "cell_type": "code",
      "execution_count": null,
      "metadata": {
        "id": "TA32x4a7MPsM"
      },
      "outputs": [],
      "source": [
        "from langchain_openai import AzureChatOpenAI\n",
        "llm = AzureChatOpenAI(deployment_name=model_name)\n"
      ]
    },
    {
      "cell_type": "code",
      "execution_count": null,
      "metadata": {
        "id": "Z9_bKuJcMPsM"
      },
      "outputs": [],
      "source": [
        "from langchain.agents import AgentExecutor, create_openai_tools_agent\n",
        "\n",
        "agent = create_openai_tools_agent(llm, tools, prompt)\n",
        "agent_executor = AgentExecutor(agent=agent, tools=tools,verbose=True, handle_parsing_errors=True)"
      ]
    },
    {
      "cell_type": "code",
      "execution_count": null,
      "metadata": {
        "id": "sF7_mw5yMPsN",
        "outputId": "0c04a091-44d6-413c-b56d-31fb0e6231a8"
      },
      "outputs": [
        {
          "name": "stdout",
          "output_type": "stream",
          "text": [
            "\n",
            "\n",
            "\u001b[1m> Entering new AgentExecutor chain...\u001b[0m\n",
            "\u001b[32;1m\u001b[1;3mHello Anshu! How can I assist you today?\u001b[0m\n",
            "\n",
            "\u001b[1m> Finished chain.\u001b[0m\n",
            "{'input': 'Hi, I am Anshu', 'output': 'Hello Anshu! How can I assist you today?'}\n"
          ]
        }
      ],
      "source": [
        "result =agent_executor.invoke({\"input\": \"Hi, I am Anshu\"})\n",
        "print(result)"
      ]
    },
    {
      "cell_type": "code",
      "execution_count": null,
      "metadata": {
        "colab": {
          "base_uri": "https://localhost:8080/"
        },
        "id": "pHKmIoU0FeFs",
        "outputId": "56064364-7821-4e61-f275-cc617f0f3231"
      },
      "outputs": [
        {
          "name": "stdout",
          "output_type": "stream",
          "text": [
            "\n",
            "\n",
            "\u001b[1m> Entering new AgentExecutor chain...\u001b[0m\n",
            "\u001b[32;1m\u001b[1;3m\n",
            "Invoking: `searchCapitalMarket` with `{'query': 'large cap market'}`\n",
            "\n",
            "\n",
            "\u001b[0m\u001b[36;1m\u001b[1;3m[Document(page_content='?  \\n \\n \\n \\n \\n \\n \\n \\n \\n \\n \\n Categor y Definitions  \\nIndia \\nEquity  \\n \\nLarge-Cap \\nLarge-Cap funds primarily consist of stocks which a re the Top 100 stocks by full market capitalization  of \\nthe equity market. These funds invest at least 80% of total assets in Indian equities and the balance can \\nbe invested in other asset classes such as fixed in come and overseas equities, among others. Funds in \\nthis category would invest at least 80% of their to tal assets in large-cap stocks. \\nMorningstar Category Index: S&P BSE 100 TR \\n \\nMid-Cap \\nMid-Cap funds primarily consist of stocks ranked 10 1st to 250th by full market capitalization of the \\nequity market. These funds invest at least 65% of t otal assets in Indian equities, and the balance can  be \\ninvested in other asset classes such as fixed incom e and overseas equities, among others. Funds in thi s \\ncategory would invest at least 65% of their total a ssets in mid-cap stocks. \\nMorningstar Category Index: S&P BSE Mid Cap TR \\n \\nSmall-Cap \\nSmall-Cap funds primarily consist of stocks ranked 251st onwards by full market capitalization of the \\nequity market. These funds invest at least 65% of t otal assets in Indian equities, and the balance can  be \\ninvested in other asset classes such as fixed incom e and overseas equities, among others. Funds in thi s \\ncategory would invest at least 65% of their total a ssets in small-cap stocks. \\nMorningstar Category Index: S&P BSE Small Cap TR \\n \\nFlexi Cap \\nFlexi Cap funds invest at least 65% of their total assets in Indian equities, and the balance can be \\ninvested in other asset classes such as fixed incom e and overseas equities, among others. These funds \\nwill invest into a mix of Large, Mid and small-cap stocks. \\nMorningstar Category Index: S&P BSE 500 TR \\n \\n \\n Morningstar Research  \\nApril 2021', metadata={'source': 'https://www.morningstar.in/docs/methodology/CategoryDefinitionsIndiaV3.pdf', 'page': 0}), Document(page_content='©2019 Morningstar, Inc. All rights reserved. The in formation in this document is the property of Morni ngstar, Inc. Reproduction or transcription by any m eans, in whole or part, without  \\nthe prior written consent of Morningstar, Inc., is prohibited. Category Definitions , India  | 26 February 2021  Page 2 of 12  \\nMulti- Cap \\nMulti-Cap funds invest at least 75% of their total assets in Indian equities, and the balance can be \\ninvested in other asset classes such as fixed incom e and overseas equities, among others. These funds \\nwill invest a minimum of 25% each in Large Cap, Mid  Cap and Small Cap stocks. \\nMorningstar Category Index: S&P BSE 500 TR \\n \\n \\nLarge & Mid- Cap \\nLarge & Mid-Cap funds primarily consist of stocks w hich are the Top 250 stocks by full market \\ncapitalization of the equity market. These funds in vest at least 70% of total assets in Indian equitie s and \\nthe balance can be invested in other asset classes such as fixed income and overseas equities, among \\nothers. Funds in this category would invest at leas t 35% of their total assets in large-cap stocks and  35% \\nof their total assets in mid-cap stocks. \\nMorningstar Category Index: S&P BSE 200 TR \\n \\n \\nGlobal – Other \\nGlobal – Other funds include those funds that inves t at least 65% of total assets in instruments issue d by \\noverseas i.e. non-Indian companies. In addition, fu nds that invest at least 65% of total assets in \\nexchange traded funds, fund of funds domiciled outs ide India are also included in this category. \\n[Funds in this category do not receive a Morningsta r Rating™ due to the diverse nature of the \\nconstituents.] \\n \\nELSS (Equity Linked Saving Schemes) \\nThese funds are notified as ELSS by SEBI under Sect ion 10 (23D). Investments of up to Rs 150,000 in a \\nfinancial year in these funds are exempt from Incom e Tax under Section 80C of the Income Tax Act, \\n1961. Investments in ELSS are subject to a lock-in of three years from the date of investment. \\nMorningstar Category Index: S&P BSE 200 TR \\n \\nValue Funds   \\nValue funds invest at least 65% of their total asse ts in Indian equities, and the balance can be inves ted in \\nother asset classes such as fixed income and overse as equities, among others. These funds will \\npredominantly invest in value stocks. \\nMorningstar Category Index: S&P BSE 500 TR \\n \\nContra Funds  \\nContra funds invest at least 65% of their total ass ets in Indian equities, and the balance can be inve sted \\nin other asset classes such as fixed income and ove rseas equities, among others. These funds will \\npredominantly invest using a contrarian investment theme. \\nMorningstar Category Index: S&P BSE 500 TR', metadata={'source': 'https://www.morningstar.in/docs/methodology/CategoryDefinitionsIndiaV3.pdf', 'page': 1})]\u001b[0m\u001b[32;1m\u001b[1;3mThe large-cap market primarily consists of stocks that are the top 100 stocks by full market capitalization of the equity market. These stocks are considered to be large-cap and are part of the larger companies within the market. Large-cap funds invest at least 80% of total assets in Indian equities and the balance can be invested in other asset classes such as fixed income and overseas equities, among others.\n",
            "\n",
            "If you would like to explore more about large-cap market or have any other questions related to finance or capital markets, feel free to ask!\u001b[0m\n",
            "\n",
            "\u001b[1m> Finished chain.\u001b[0m\n",
            "{'input': 'What is large cap market?', 'output': 'The large-cap market primarily consists of stocks that are the top 100 stocks by full market capitalization of the equity market. These stocks are considered to be large-cap and are part of the larger companies within the market. Large-cap funds invest at least 80% of total assets in Indian equities and the balance can be invested in other asset classes such as fixed income and overseas equities, among others.\\n\\nIf you would like to explore more about large-cap market or have any other questions related to finance or capital markets, feel free to ask!'}\n"
          ]
        }
      ],
      "source": [
        "result = agent_executor.invoke({\"input\": \"What is large cap market?\"})\n",
        "print(result)"
      ]
    },
    {
      "cell_type": "code",
      "execution_count": null,
      "metadata": {
        "id": "z4hBtdV67QQ4"
      },
      "outputs": [],
      "source": []
    },
    {
      "cell_type": "code",
      "execution_count": null,
      "metadata": {
        "id": "UoumLqEn7QNf"
      },
      "outputs": [],
      "source": []
    },
    {
      "cell_type": "code",
      "execution_count": null,
      "metadata": {
        "id": "X5rhhNSE7Q50"
      },
      "outputs": [],
      "source": []
    }
  ],
  "metadata": {
    "colab": {
      "provenance": [],
      "include_colab_link": true
    },
    "kernelspec": {
      "display_name": "Python 3",
      "name": "python3"
    },
    "language_info": {
      "codemirror_mode": {
        "name": "ipython",
        "version": 3
      },
      "file_extension": ".py",
      "mimetype": "text/x-python",
      "name": "python",
      "nbconvert_exporter": "python",
      "pygments_lexer": "ipython3",
      "version": "3.10.9"
    }
  },
  "nbformat": 4,
  "nbformat_minor": 0
}
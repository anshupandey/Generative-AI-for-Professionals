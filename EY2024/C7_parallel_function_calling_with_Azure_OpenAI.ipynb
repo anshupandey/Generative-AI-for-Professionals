{
  "cells": [
    {
      "cell_type": "markdown",
      "metadata": {
        "id": "view-in-github",
        "colab_type": "text"
      },
      "source": [
        "<a href=\"https://colab.research.google.com/github/anshupandey/Generative-AI-for-Professionals/blob/main/EY2024/C7_parallel_function_calling_with_Azure_OpenAI.ipynb\" target=\"_parent\"><img src=\"https://colab.research.google.com/assets/colab-badge.svg\" alt=\"Open In Colab\"/></a>"
      ]
    },
    {
      "cell_type": "markdown",
      "source": [
        "# Working with Parallel Function Calls and Multiple Function Responses in Gemini"
      ],
      "metadata": {
        "id": "gbCxadJVx88B"
      }
    },
    {
      "cell_type": "markdown",
      "metadata": {
        "id": "CkHPv2myT2cx"
      },
      "source": [
        "## Overview\n",
        "\n",
        "Gemini is a family of generative AI models developed by Google DeepMind that is designed for multimodal use cases. The Gemini API gives you access to the Gemini Pro and Gemini Pro Vision models.\n",
        "\n",
        "[Function Calling](https://cloud.google.com/vertex-ai/docs/generative-ai/multimodal/function-calling) in Gemini lets you create a description of a function in your code, then pass that description to a language model in a request. The response from the model includes the name of a function that matches the description and the arguments to call it with.\n",
        "\n",
        "In this tutorial, you'll learn how to work with parallel function calling within Gemini Function Calling, including:\n",
        "    \n",
        "- Handling parallel function calls for repeated functions\n",
        "- Working with parallel function calls across multiple functions\n",
        "- Extracting multiple function calls from a Gemini response\n",
        "- Calling multiple functions and returning them to Gemini\n",
        "\n",
        "### What is parallel function calling?\n",
        "\n",
        "In previous versions of the Gemini Pro models (prior to May 2024), Gemini would return two or more chained function calls if the model determined that more than one function call was needed before returning a natural language summary. Here, a chained function call means that you get the first function call response, return the API data to Gemini, get a second function call response, return the API data to Gemini, and so on.\n",
        "\n",
        "In recent versions of specific Gemini Pro models (from May 2024 and on), Gemini has the ability to return two or more function calls in parallel (i.e., two or more function call responses within the first function call response object). Parallel function calling allows you to fan out and parallelize your API calls or other actions that you perform in your application code, so you don't have to work through each function call response and return one-by-one! Refer to the [Gemini Function Calling documentation](https://cloud.google.com/vertex-ai/generative-ai/docs/multimodal/function-calling) for more information on which Gemini model versions support parallel function calling.\n",
        "\n",
        "\n",
        "<img src=\"https://storage.googleapis.com/github-repo/generative-ai/gemini/function-calling/parallel-function-calling-in-gemini.png\">"
      ]
    },
    {
      "cell_type": "code",
      "source": [
        "!pip install openai wikipedia --quiet"
      ],
      "metadata": {
        "colab": {
          "base_uri": "https://localhost:8080/"
        },
        "id": "nBMVh0ldtsDP",
        "outputId": "5ee2bb8f-840f-4094-eec8-1dcfcd8da98f"
      },
      "execution_count": 1,
      "outputs": [
        {
          "output_type": "stream",
          "name": "stdout",
          "text": [
            "  Preparing metadata (setup.py) ... \u001b[?25l\u001b[?25hdone\n",
            "\u001b[2K   \u001b[90m━━━━━━━━━━━━━━━━━━━━━━━━━━━━━━━━━━━━━━━━\u001b[0m \u001b[32m374.2/374.2 kB\u001b[0m \u001b[31m11.1 MB/s\u001b[0m eta \u001b[36m0:00:00\u001b[0m\n",
            "\u001b[2K   \u001b[90m━━━━━━━━━━━━━━━━━━━━━━━━━━━━━━━━━━━━━━━━\u001b[0m \u001b[32m76.4/76.4 kB\u001b[0m \u001b[31m4.5 MB/s\u001b[0m eta \u001b[36m0:00:00\u001b[0m\n",
            "\u001b[2K   \u001b[90m━━━━━━━━━━━━━━━━━━━━━━━━━━━━━━━━━━━━━━━━\u001b[0m \u001b[32m77.9/77.9 kB\u001b[0m \u001b[31m4.8 MB/s\u001b[0m eta \u001b[36m0:00:00\u001b[0m\n",
            "\u001b[2K   \u001b[90m━━━━━━━━━━━━━━━━━━━━━━━━━━━━━━━━━━━━━━━━\u001b[0m \u001b[32m318.9/318.9 kB\u001b[0m \u001b[31m16.7 MB/s\u001b[0m eta \u001b[36m0:00:00\u001b[0m\n",
            "\u001b[2K   \u001b[90m━━━━━━━━━━━━━━━━━━━━━━━━━━━━━━━━━━━━━━━━\u001b[0m \u001b[32m58.3/58.3 kB\u001b[0m \u001b[31m2.6 MB/s\u001b[0m eta \u001b[36m0:00:00\u001b[0m\n",
            "\u001b[?25h  Building wheel for wikipedia (setup.py) ... \u001b[?25l\u001b[?25hdone\n"
          ]
        }
      ]
    },
    {
      "cell_type": "code",
      "source": [
        "api_key = \"62d77bb382974118aec75d84d274bb72\"\n",
        "api_version = \"2024-02-01\" # \"2023-05-15\"\n",
        "azure_endpoint = \"https://eygpt24.openai.azure.com/\"\n",
        "deployment_name = \"gpt-4o\""
      ],
      "metadata": {
        "id": "QQv4WM5ZttOU"
      },
      "execution_count": 2,
      "outputs": []
    },
    {
      "cell_type": "code",
      "source": [
        "from openai import AzureOpenAI\n",
        "\n",
        "client = AzureOpenAI(\n",
        "    api_version=api_version,\n",
        "    azure_endpoint=azure_endpoint,\n",
        "    api_key = api_key,)"
      ],
      "metadata": {
        "id": "jTMrIQPmtxYE"
      },
      "execution_count": 3,
      "outputs": []
    },
    {
      "cell_type": "markdown",
      "metadata": {
        "id": "o77Xl_JDjvYf"
      },
      "source": [
        "### Define helper function"
      ]
    },
    {
      "cell_type": "code",
      "source": [
        "def extract_tool_calls(response: dict):\n",
        "    tool_calls = []\n",
        "    tool_call = response.choices[0].message.tool_calls\n",
        "    if tool_call:\n",
        "        for tool in tool_call:\n",
        "            function_name = tool.function.name\n",
        "            function_args = eval(tool.function.arguments)  # Safely convert string to dictionary\n",
        "            function_call_dict = {function_name: function_args}\n",
        "            function_call_dict['id'] = tool.id\n",
        "            tool_calls.append(function_call_dict)\n",
        "\n",
        "    return tool_calls"
      ],
      "metadata": {
        "id": "izsb1jgbuWnM"
      },
      "execution_count": 4,
      "outputs": []
    },
    {
      "cell_type": "markdown",
      "metadata": {
        "id": "j3KHAr6BsJY6"
      },
      "source": [
        "## Example: Parallel function calls on the same function\n",
        "\n",
        "A great use case for parallel function calling is when you have a function that only accepts one parameter per API call and you need to make repeated calls to that function.\n",
        "\n",
        "With Parallel Function Calling, rather than having to send N number of API requests to LLM for N number function calls, instead you can send a single API request to LLM, receive N number of Function Call Responses within a single response, make N number of external API calls in your code, then return all of the API responses to LLM in bulk. And you can do all of this without any extra configuration in your function declarations, tools, or requests to LLM.\n",
        "\n",
        "In this example, you'll do exactly that and use Parallel Function Calling in LLM to ask about multiple topics on [Wikipedia](https://www.wikipedia.org/). Let's get started!\n"
      ]
    },
    {
      "cell_type": "code",
      "source": [
        "tools = [\n",
        "    {\n",
        "        \"type\": \"function\",\n",
        "        \"function\": {\n",
        "            \"name\": \"search_wikipedia\",\n",
        "            \"description\": \"Search for articles or any other relevant information on Wikipedia'\",\n",
        "            \"parameters\": {\n",
        "                \"type\": \"object\",\n",
        "                \"properties\": {\n",
        "                    \"query\": {\n",
        "                        \"type\": \"string\",\n",
        "                        \"description\": \"Query to search for on Wikipedia\"\n",
        "                    }\n",
        "                },\n",
        "                \"required\": [\"query\"],\n",
        "                \"additionalProperties\": False\n",
        "            }\n",
        "        }\n",
        "    }\n",
        "]"
      ],
      "metadata": {
        "id": "E82hDrsVutvP"
      },
      "execution_count": 5,
      "outputs": []
    },
    {
      "cell_type": "code",
      "source": [
        "### Send prompt to OpenAI GPT-4o with function calling\n",
        "prompt = \"Search for articles related to solar panels, renewable energy, and battery storage and provide a summary of your findings\""
      ],
      "metadata": {
        "id": "t6wL8go_uvvJ"
      },
      "execution_count": 6,
      "outputs": []
    },
    {
      "cell_type": "code",
      "source": [
        "response = client.chat.completions.create(\n",
        "    model=deployment_name,\n",
        "    messages=[\n",
        "        {\"role\": \"system\", \"content\": \"You are a helpful assistant.\"},\n",
        "        {\"role\": \"user\", \"content\": prompt}\n",
        "    ],\n",
        "    tools=tools,\n",
        "    tool_choice=\"auto\",\n",
        ")\n"
      ],
      "metadata": {
        "id": "xxLnBJGiuyZi"
      },
      "execution_count": 7,
      "outputs": []
    },
    {
      "cell_type": "code",
      "source": [
        "response.choices[0].message.tool_calls"
      ],
      "metadata": {
        "colab": {
          "base_uri": "https://localhost:8080/"
        },
        "id": "WUpmzF8rzV92",
        "outputId": "c7d0cf0d-844f-40ea-93af-b591768e1e0f"
      },
      "execution_count": 8,
      "outputs": [
        {
          "output_type": "execute_result",
          "data": {
            "text/plain": [
              "[ChatCompletionMessageToolCall(id='call_TPg6ABl3zqJQMA7HMKVESV4K', function=Function(arguments='{\"query\": \"solar panels\"}', name='search_wikipedia'), type='function'),\n",
              " ChatCompletionMessageToolCall(id='call_cGfCcd1EPr1vEanUESUn5QN7', function=Function(arguments='{\"query\": \"renewable energy\"}', name='search_wikipedia'), type='function'),\n",
              " ChatCompletionMessageToolCall(id='call_ELni6fchwPvjRi31GZEDadum', function=Function(arguments='{\"query\": \"battery storage\"}', name='search_wikipedia'), type='function')]"
            ]
          },
          "metadata": {},
          "execution_count": 8
        }
      ]
    },
    {
      "cell_type": "code",
      "source": [
        "response2 = client.chat.completions.create(model='gpt-4o',\n",
        "                                           messages=[{\"role\":\"user\",\"content\":\"Define Artificial Intelligence\"}],\n",
        "                                           max_tokens=10,n=2)\n",
        "\n",
        "print(response2.model_dump_json(indent=2))"
      ],
      "metadata": {
        "id": "ZVl-2MLHzIQ5",
        "colab": {
          "base_uri": "https://localhost:8080/"
        },
        "outputId": "6041e3f2-b418-49d7-e74a-58105853bd05"
      },
      "execution_count": 23,
      "outputs": [
        {
          "output_type": "stream",
          "name": "stdout",
          "text": [
            "{\n",
            "  \"id\": \"chatcmpl-A8MmbttGEXDtbmUgD6fcyUnFQ5U0p\",\n",
            "  \"choices\": [\n",
            "    {\n",
            "      \"finish_reason\": \"length\",\n",
            "      \"index\": 0,\n",
            "      \"logprobs\": null,\n",
            "      \"message\": {\n",
            "        \"content\": \"Artificial Intelligence (AI) refers to the field of\",\n",
            "        \"refusal\": null,\n",
            "        \"role\": \"assistant\",\n",
            "        \"function_call\": null,\n",
            "        \"tool_calls\": null\n",
            "      },\n",
            "      \"content_filter_results\": {\n",
            "        \"hate\": {\n",
            "          \"filtered\": false,\n",
            "          \"severity\": \"safe\"\n",
            "        },\n",
            "        \"protected_material_code\": {\n",
            "          \"filtered\": false,\n",
            "          \"detected\": false\n",
            "        },\n",
            "        \"protected_material_text\": {\n",
            "          \"filtered\": false,\n",
            "          \"detected\": false\n",
            "        },\n",
            "        \"self_harm\": {\n",
            "          \"filtered\": false,\n",
            "          \"severity\": \"safe\"\n",
            "        },\n",
            "        \"sexual\": {\n",
            "          \"filtered\": false,\n",
            "          \"severity\": \"safe\"\n",
            "        },\n",
            "        \"violence\": {\n",
            "          \"filtered\": false,\n",
            "          \"severity\": \"safe\"\n",
            "        }\n",
            "      }\n",
            "    },\n",
            "    {\n",
            "      \"finish_reason\": \"length\",\n",
            "      \"index\": 1,\n",
            "      \"logprobs\": null,\n",
            "      \"message\": {\n",
            "        \"content\": \"Artificial Intelligence (AI) refers to the simulation of\",\n",
            "        \"refusal\": null,\n",
            "        \"role\": \"assistant\",\n",
            "        \"function_call\": null,\n",
            "        \"tool_calls\": null\n",
            "      },\n",
            "      \"content_filter_results\": {\n",
            "        \"hate\": {\n",
            "          \"filtered\": false,\n",
            "          \"severity\": \"safe\"\n",
            "        },\n",
            "        \"protected_material_code\": {\n",
            "          \"filtered\": false,\n",
            "          \"detected\": false\n",
            "        },\n",
            "        \"protected_material_text\": {\n",
            "          \"filtered\": false,\n",
            "          \"detected\": false\n",
            "        },\n",
            "        \"self_harm\": {\n",
            "          \"filtered\": false,\n",
            "          \"severity\": \"safe\"\n",
            "        },\n",
            "        \"sexual\": {\n",
            "          \"filtered\": false,\n",
            "          \"severity\": \"safe\"\n",
            "        },\n",
            "        \"violence\": {\n",
            "          \"filtered\": false,\n",
            "          \"severity\": \"safe\"\n",
            "        }\n",
            "      }\n",
            "    }\n",
            "  ],\n",
            "  \"created\": 1726557565,\n",
            "  \"model\": \"gpt-4o-2024-05-13\",\n",
            "  \"object\": \"chat.completion\",\n",
            "  \"service_tier\": null,\n",
            "  \"system_fingerprint\": \"fp_80a1bad4c7\",\n",
            "  \"usage\": {\n",
            "    \"completion_tokens\": 20,\n",
            "    \"prompt_tokens\": 10,\n",
            "    \"total_tokens\": 30,\n",
            "    \"completion_tokens_details\": null\n",
            "  },\n",
            "  \"prompt_filter_results\": [\n",
            "    {\n",
            "      \"prompt_index\": 0,\n",
            "      \"content_filter_results\": {\n",
            "        \"hate\": {\n",
            "          \"filtered\": false,\n",
            "          \"severity\": \"safe\"\n",
            "        },\n",
            "        \"jailbreak\": {\n",
            "          \"filtered\": false,\n",
            "          \"detected\": false\n",
            "        },\n",
            "        \"self_harm\": {\n",
            "          \"filtered\": false,\n",
            "          \"severity\": \"safe\"\n",
            "        },\n",
            "        \"sexual\": {\n",
            "          \"filtered\": false,\n",
            "          \"severity\": \"safe\"\n",
            "        },\n",
            "        \"violence\": {\n",
            "          \"filtered\": false,\n",
            "          \"severity\": \"safe\"\n",
            "        }\n",
            "      }\n",
            "    }\n",
            "  ]\n",
            "}\n"
          ]
        }
      ]
    },
    {
      "cell_type": "code",
      "source": [
        "print(response.model_dump_json(indent=2))"
      ],
      "metadata": {
        "colab": {
          "base_uri": "https://localhost:8080/"
        },
        "id": "m0InetGGvIXQ",
        "outputId": "ec14f7b4-2588-4575-d880-361b14cfb90b"
      },
      "execution_count": 9,
      "outputs": [
        {
          "output_type": "stream",
          "name": "stdout",
          "text": [
            "{\n",
            "  \"id\": \"chatcmpl-A8MebNy7sWWPtmi9hzBuajutYL0Vn\",\n",
            "  \"choices\": [\n",
            "    {\n",
            "      \"finish_reason\": \"tool_calls\",\n",
            "      \"index\": 0,\n",
            "      \"logprobs\": null,\n",
            "      \"message\": {\n",
            "        \"content\": null,\n",
            "        \"refusal\": null,\n",
            "        \"role\": \"assistant\",\n",
            "        \"function_call\": null,\n",
            "        \"tool_calls\": [\n",
            "          {\n",
            "            \"id\": \"call_TPg6ABl3zqJQMA7HMKVESV4K\",\n",
            "            \"function\": {\n",
            "              \"arguments\": \"{\\\"query\\\": \\\"solar panels\\\"}\",\n",
            "              \"name\": \"search_wikipedia\"\n",
            "            },\n",
            "            \"type\": \"function\"\n",
            "          },\n",
            "          {\n",
            "            \"id\": \"call_cGfCcd1EPr1vEanUESUn5QN7\",\n",
            "            \"function\": {\n",
            "              \"arguments\": \"{\\\"query\\\": \\\"renewable energy\\\"}\",\n",
            "              \"name\": \"search_wikipedia\"\n",
            "            },\n",
            "            \"type\": \"function\"\n",
            "          },\n",
            "          {\n",
            "            \"id\": \"call_ELni6fchwPvjRi31GZEDadum\",\n",
            "            \"function\": {\n",
            "              \"arguments\": \"{\\\"query\\\": \\\"battery storage\\\"}\",\n",
            "              \"name\": \"search_wikipedia\"\n",
            "            },\n",
            "            \"type\": \"function\"\n",
            "          }\n",
            "        ]\n",
            "      },\n",
            "      \"content_filter_results\": {}\n",
            "    }\n",
            "  ],\n",
            "  \"created\": 1726557069,\n",
            "  \"model\": \"gpt-4o-2024-05-13\",\n",
            "  \"object\": \"chat.completion\",\n",
            "  \"service_tier\": null,\n",
            "  \"system_fingerprint\": \"fp_80a1bad4c7\",\n",
            "  \"usage\": {\n",
            "    \"completion_tokens\": 65,\n",
            "    \"prompt_tokens\": 84,\n",
            "    \"total_tokens\": 149,\n",
            "    \"completion_tokens_details\": null\n",
            "  },\n",
            "  \"prompt_filter_results\": [\n",
            "    {\n",
            "      \"prompt_index\": 0,\n",
            "      \"content_filter_results\": {\n",
            "        \"hate\": {\n",
            "          \"filtered\": false,\n",
            "          \"severity\": \"safe\"\n",
            "        },\n",
            "        \"jailbreak\": {\n",
            "          \"filtered\": false,\n",
            "          \"detected\": false\n",
            "        },\n",
            "        \"self_harm\": {\n",
            "          \"filtered\": false,\n",
            "          \"severity\": \"safe\"\n",
            "        },\n",
            "        \"sexual\": {\n",
            "          \"filtered\": false,\n",
            "          \"severity\": \"safe\"\n",
            "        },\n",
            "        \"violence\": {\n",
            "          \"filtered\": false,\n",
            "          \"severity\": \"safe\"\n",
            "        }\n",
            "      }\n",
            "    }\n",
            "  ]\n",
            "}\n"
          ]
        }
      ]
    },
    {
      "cell_type": "code",
      "source": [
        "# Extract function calls from the response\n",
        "tool_calls = extract_tool_calls(response)\n",
        "print(tool_calls)"
      ],
      "metadata": {
        "colab": {
          "base_uri": "https://localhost:8080/"
        },
        "id": "d9GkXrgau8Tg",
        "outputId": "06f9033a-6480-49de-b530-7992f6f4b273"
      },
      "execution_count": 10,
      "outputs": [
        {
          "output_type": "stream",
          "name": "stdout",
          "text": [
            "[{'search_wikipedia': {'query': 'solar panels'}, 'id': 'call_TPg6ABl3zqJQMA7HMKVESV4K'}, {'search_wikipedia': {'query': 'renewable energy'}, 'id': 'call_cGfCcd1EPr1vEanUESUn5QN7'}, {'search_wikipedia': {'query': 'battery storage'}, 'id': 'call_ELni6fchwPvjRi31GZEDadum'}]\n"
          ]
        }
      ]
    },
    {
      "cell_type": "code",
      "source": [
        "!pip install wikipedia --quiet"
      ],
      "metadata": {
        "id": "J6r0CVSU0Px3"
      },
      "execution_count": null,
      "outputs": []
    },
    {
      "cell_type": "code",
      "source": [
        "### Make external API calls\n",
        "import wikipedia\n",
        "api_response = []\n",
        "\n",
        "# Loop over multiple function calls\n",
        "for tool in tool_calls:\n",
        "    print(tool)\n",
        "\n",
        "    # Make external API call\n",
        "    result = wikipedia.summary(tool[\"search_wikipedia\"][\"query\"])\n",
        "\n",
        "    # Collect all API responses\n",
        "    api_response.append(result)"
      ],
      "metadata": {
        "colab": {
          "base_uri": "https://localhost:8080/"
        },
        "id": "uyBpfsFR0Hsu",
        "outputId": "10ee7181-897d-4142-83e9-75b0ea1a32e2"
      },
      "execution_count": 11,
      "outputs": [
        {
          "output_type": "stream",
          "name": "stdout",
          "text": [
            "{'search_wikipedia': {'query': 'solar panels'}, 'id': 'call_TPg6ABl3zqJQMA7HMKVESV4K'}\n",
            "{'search_wikipedia': {'query': 'renewable energy'}, 'id': 'call_cGfCcd1EPr1vEanUESUn5QN7'}\n",
            "{'search_wikipedia': {'query': 'battery storage'}, 'id': 'call_ELni6fchwPvjRi31GZEDadum'}\n"
          ]
        }
      ]
    },
    {
      "cell_type": "code",
      "source": [
        "for res in api_response:\n",
        "    print(res)"
      ],
      "metadata": {
        "colab": {
          "base_uri": "https://localhost:8080/"
        },
        "id": "gbSSzesj0psA",
        "outputId": "20e4f167-f665-4b0f-ffa4-f32b378df1dd"
      },
      "execution_count": 12,
      "outputs": [
        {
          "output_type": "stream",
          "name": "stdout",
          "text": [
            "A solar panel is a device that converts sunlight into electricity by using photovoltaic (PV) cells. PV cells are made of materials that produce excited electrons when exposed to light. The electrons flow through a circuit and produce direct current (DC) electricity, which can be used to power various devices or be stored in batteries. Solar panels are also known as solar cell panels, solar electric panels, or PV modules.\n",
            "Solar panels are usually arranged in groups called arrays or systems. A photovoltaic system consists of one or more solar panels, an inverter that converts DC electricity to alternating current (AC) electricity, and sometimes other components such as controllers, meters, and trackers. Most panels are in solar farms, which  supply the electricity grid as can some rooftop solar.\n",
            "Some advantages of solar panels are that they use a renewable and clean source of energy, reduce greenhouse gas emissions, and lower electricity bills. Some disadvantages are that they depend on the availability and intensity of sunlight, require cleaning, and have high initial costs. Solar panels are widely used for residential, commercial, and industrial purposes, as well as in space, often together with batteries.\n",
            "\n",
            "\n",
            "Renewable energy (or green energy) is energy from renewable natural resources that are replenished on a human timescale. The most widely used renewable energy types are solar energy, wind power, and hydropower. Bioenergy and geothermal power are also significant in some countries. Some also consider nuclear power a renewable power source, although this is controversial. Renewable energy installations can be large or small and are suited for both urban and rural areas. Renewable energy is often deployed together with further electrification. This has several benefits: electricity can move heat and vehicles efficiently and is clean at the point of consumption. Variable renewable energy sources are those that have a fluctuating nature, such as wind power and solar power. In contrast, controllable renewable energy sources include dammed hydroelectricity, bioenergy, or geothermal power.\n",
            "Renewable energy systems have rapidly become more efficient and cheaper over the past 30 years. A large majority of worldwide newly installed electricity capacity is now renewable. Renewable energy sources, such as solar and wind power, have seen significant cost reductions over the past decade, making them more competitive with traditional fossil fuels. In most countries, photovoltaic solar or onshore wind are the cheapest new-build electricity. From 2011 to 2021, renewable energy grew from 20% to 28% of global electricity supply. Power from the sun and wind accounted for most of this increase, growing from a combined 2% to 10%. Use of fossil energy shrank from 68% to 62%. In 2022, renewables accounted for 30% of global electricity generation and are projected to reach over 42% by 2028. Many countries already have renewables contributing more than 20% of their total energy supply, with some generating over half or even all their electricity from renewable sources.\n",
            "The main motivation to replace fossil fuels with renewable energy sources is to slow and eventually stop climate change, which is widely agreed to be caused mostly by greenhouse gas emissions. In general, renewable energy sources cause much lower emissions than fossil fuels. The International Energy Agency estimates that to achieve net zero emissions by 2050, 90% of global electricity generation will need to be produced from renewable sources. Renewables also cause much less air pollution than fossil fuels, improving public health, and are less noisy.\n",
            "\n",
            "The deployment of renewable energy still faces obstacles, especially fossil fuel subsidies, lobbying by incumbent power providers, and local opposition to the use of land for renewable installations. Like all mining, the extraction of minerals required for many renewable energy technologies also results in environmental damage. In addition, although most renewable energy sources are sustainable, some are not.\n",
            "A battery energy storage system (BESS) or battery storage power station is a type of energy storage technology that uses a group of batteries to store electrical energy. Battery storage is the fastest responding dispatchable source of power on electric grids, and it is used to stabilise those grids, as battery storage can transition from standby to full power in under a second to deal with grid contingencies.\n",
            "Battery storage storage systems are generally designed to be able to output at their full rated power for several hours. Battery storage can be used for short-term peak power and ancillary services, such as providing operating reserve and frequency control to minimize the chance of power outages. They are often installed at, or close to, other active or disused power stations and may share the same grid connection to reduce costs. Since battery storage plants require no deliveries of fuel, are compact compared to generating stations and have no chimneys or large cooling systems, they can be rapidly installed and placed if necessary within urban areas, close to customer load.\n",
            "As of 2021, the power and capacity of the largest individual battery storage system is an order of magnitude less than that of the largest pumped-storage power plants, the most common form of grid energy storage. For example, the Bath County Pumped Storage Station, the second largest in the world, can store 24 GWh of electricity and dispatch 3 GW while the first phase of Vistra Energy's Moss Landing Energy Storage Facility can store 1.2 GWh and dispatch 300 MW. However, grid batteries do not have to be large, a large number of smaller ones can be widely deployed across a grid for greater redundancy and large overall capacity.\n",
            "As of 2019, battery power storage is typically cheaper than open cycle gas turbine power for use up to two hours, and there was around 365 GWh of battery storage deployed worldwide, growing rapidly. \n",
            "Levelized cost of storage (LCOS) has fallen rapidly, halving in two years to reach US$150 per MWh in 2020, and further reduced to US$117 by 2023. Additionally, annualized capital costs varies by which battery chemistry used for storage, but annualized capital costs of $93/kWh could be realized with Lithium iron phosphate by 2020.\n",
            "\n",
            "\n"
          ]
        }
      ]
    },
    {
      "cell_type": "code",
      "source": [
        "\n",
        "### Generate a natural language summary\n",
        "messages=[\n",
        "        {\"role\": \"system\", \"content\": \"You are a helpful assistant.\"},\n",
        "        {\"role\": \"user\", \"content\": prompt},]\n",
        "\n",
        "messages.append(response.choices[0].message)\n",
        "for tool,res in zip(tool_calls,api_response):\n",
        "  messages.append({\"tool_call_id\": tool['id'],\n",
        "                   \"role\": \"tool\",\n",
        "                   \"name\": 'search_wikipedia',\n",
        "                   \"content\": res,})\n"
      ],
      "metadata": {
        "id": "iRxpmE3r2eow"
      },
      "execution_count": 13,
      "outputs": []
    },
    {
      "cell_type": "code",
      "source": [
        "# Now we return all API responses back to GPT-4 to summarize\n",
        "\n",
        "new_response = client.chat.completions.create(\n",
        "    model=\"gpt-4o\",\n",
        "    messages = messages)"
      ],
      "metadata": {
        "id": "_6RJnN1lusA3"
      },
      "execution_count": 14,
      "outputs": []
    },
    {
      "cell_type": "code",
      "source": [
        "\n",
        "# Display the final summary\n",
        "print(new_response.choices[0].message.content)"
      ],
      "metadata": {
        "colab": {
          "base_uri": "https://localhost:8080/"
        },
        "id": "Hhf-dmA737LP",
        "outputId": "9f7a8580-25b3-4436-c6dd-6b20c69ba461"
      },
      "execution_count": 15,
      "outputs": [
        {
          "output_type": "stream",
          "name": "stdout",
          "text": [
            "Here's a summary of the findings about solar panels, renewable energy, and battery storage:\n",
            "\n",
            "### Solar Panels\n",
            "- **Functionality**: Solar panels convert sunlight into electricity using photovoltaic (PV) cells, which generate direct current (DC) electricity when exposed to light. This can then be converted to alternating current (AC) using an inverter.\n",
            "- **Components**: A typical photovoltaic system includes solar panels, an inverter, and sometimes other devices like controllers and meters.\n",
            "- **Applications**: They are used widely in residential, commercial, and industrial settings, and even in space missions.\n",
            "- **Advantages**: Solar panels use a renewable and clean energy source, reduce greenhouse gas emissions, and can lower electricity costs over time.\n",
            "- **Disadvantages**: They are dependent on sunlight, require regular maintenance, and have high initial setup costs.\n",
            "\n",
            "### Renewable Energy\n",
            "- **Sources**: Includes solar energy, wind power, hydropower, bioenergy, and geothermal energy. Some also consider nuclear power as renewable.\n",
            "- **Growth and Efficiency**: Renewable energy sources have become more efficient and cost-effective over the last 30 years, with a significant percentage of new electricity capacity coming from renewable sources.\n",
            "- **Environmental Impact**: These energy sources produce lower greenhouse gas emissions compared to fossil fuels, helping mitigate climate change and reduce air pollution.\n",
            "- **Global Adoption**: The use of renewable energy has been increasing, with projections showing it could constitute 42% of global electricity generation by 2028.\n",
            "- **Challenges**: Despite the benefits, adoption faces hurdles such as fossil fuel subsidies, resistance from some power providers, and environmental impacts from the extraction of necessary minerals.\n",
            "\n",
            "### Battery Storage\n",
            "- **System Design**: Battery energy storage systems (BESS) store electrical energy and can quickly supply power to stabilize electrical grids.\n",
            "- **Usage**: These systems are used for short-term peak power, providing operating reserves, and frequency control to prevent power outages.\n",
            "- **Advantages**: Battery storage plants are compact, do not require fuel deliveries, and can be quickly deployed even in urban settings.\n",
            "- **Capacity**: Though currently smaller in capacity compared to traditional pumped-storage power plants, BESS can collectively provide significant grid stability through wide deployment of smaller units.\n",
            "- **Cost Trends**: The cost of battery storage has been decreasing rapidly, making it an increasingly viable option for energy storage. The Levelized Cost of Storage (LCOS) continues to drop, with advancements in battery technology contributing to reduced costs.\n",
            "\n",
            "These findings illustrate the ongoing advancements and increasing adoption of technologies that support renewable energy generation and storage, contributing to a more sustainable and resilient energy landscape.\n"
          ]
        }
      ]
    },
    {
      "cell_type": "markdown",
      "metadata": {
        "id": "riYC7Z-RjvYl"
      },
      "source": [
        "## Example: Parallel function calls across multiple functions\n",
        "\n",
        "Another good fit for parallel function calling is when you have multiple, independent functions that you want to be able to call in parallel, which reduces the number of consecutive OpenAI API calls that you need to make and (ideally) reduces the overall response time to the end user who is waiting for a natural language response.\n",
        "\n",
        "In this example, you'll use Parallel Function Calling in LLM to ask about multiple aspects of topics and articles on [Wikipedia](https://www.wikipedia.org/).\n"
      ]
    },
    {
      "cell_type": "code",
      "execution_count": 24,
      "metadata": {
        "id": "niPXM0mwjvYl"
      },
      "outputs": [],
      "source": [
        "tools = [\n",
        "    {\n",
        "        \"type\": \"function\",\n",
        "        \"function\": {\n",
        "            \"name\": \"search_wikipedia\",\n",
        "            \"description\": \"Search for articles or any other relevant information on Wikipedia\",\n",
        "            \"parameters\": {\n",
        "                \"type\": \"object\",\n",
        "                \"properties\": {\n",
        "                    \"query\": {\n",
        "                        \"type\": \"string\",\n",
        "                        \"description\": \"Query to search for on Wikipedia\"\n",
        "                    }\n",
        "                },\n",
        "                \"required\": [\"query\"],\n",
        "                \"additionalProperties\": False\n",
        "            }\n",
        "        }\n",
        "    },\n",
        "    {\n",
        "        \"type\": \"function\",\n",
        "        \"function\": {\n",
        "            \"name\": \"suggest_wikipedia\",\n",
        "            \"description\": \"Get suggested titles from Wikipedia based on the given query term\",\n",
        "            \"parameters\": {\n",
        "                \"type\": \"object\",\n",
        "                \"properties\": {\n",
        "                    \"query\": {\n",
        "                        \"type\": \"string\",\n",
        "                        \"description\": \"Query to search for suggested titles on Wikipedia\"\n",
        "                    }\n",
        "                },\n",
        "                \"required\": [\"query\"],\n",
        "                \"additionalProperties\": False\n",
        "            }\n",
        "        }\n",
        "    },\n",
        "    {\n",
        "        \"type\": \"function\",\n",
        "        \"function\": {\n",
        "            \"name\": \"summarize_wikipedia\",\n",
        "            \"description\": \"Retrieve brief summaries of Wikipedia articles related to a given topic\",\n",
        "            \"parameters\": {\n",
        "                \"type\": \"object\",\n",
        "                \"properties\": {\n",
        "                    \"topic\": {\n",
        "                        \"type\": \"string\",\n",
        "                        \"description\": \"Topic to search for article summaries on Wikipedia\"\n",
        "                    }\n",
        "                },\n",
        "                \"required\": [\"topic\"],\n",
        "                \"additionalProperties\": False\n",
        "            }\n",
        "        }\n",
        "    }\n",
        "]\n"
      ]
    },
    {
      "cell_type": "code",
      "source": [
        "prompt = \"Show the search results, variations, and article summaries about Wikipedia articles related to the solar system\""
      ],
      "metadata": {
        "id": "YwOD7xNN57tN"
      },
      "execution_count": 25,
      "outputs": []
    },
    {
      "cell_type": "code",
      "source": [
        "response = client.chat.completions.create(\n",
        "    model=deployment_name,\n",
        "    messages=[\n",
        "        {\"role\": \"system\", \"content\": \"You are a helpful assistant.\"},\n",
        "        {\"role\": \"user\", \"content\": prompt}\n",
        "    ],\n",
        "    tools=tools,\n",
        "    tool_choice='auto'\n",
        ")\n"
      ],
      "metadata": {
        "id": "3_C4s7WQ57wJ"
      },
      "execution_count": 26,
      "outputs": []
    },
    {
      "cell_type": "code",
      "source": [
        "response.choices[0].message.tool_calls"
      ],
      "metadata": {
        "colab": {
          "base_uri": "https://localhost:8080/"
        },
        "outputId": "0762a7c6-2d02-4e34-f59f-6fecf8d25d1d",
        "id": "wPixYdKJ57wJ"
      },
      "execution_count": 27,
      "outputs": [
        {
          "output_type": "execute_result",
          "data": {
            "text/plain": [
              "[ChatCompletionMessageToolCall(id='call_An1DKMDeJ5L1tfCJRBWCFPxO', function=Function(arguments='{\"query\": \"solar system\"}', name='search_wikipedia'), type='function'),\n",
              " ChatCompletionMessageToolCall(id='call_Pj2pn9eNsGL1Sl5YNs9T8h3G', function=Function(arguments='{\"query\": \"solar system\"}', name='suggest_wikipedia'), type='function'),\n",
              " ChatCompletionMessageToolCall(id='call_O1GprppT2jkdHdQvuxVa57nG', function=Function(arguments='{\"topic\": \"solar system\"}', name='summarize_wikipedia'), type='function')]"
            ]
          },
          "metadata": {},
          "execution_count": 27
        }
      ]
    },
    {
      "cell_type": "markdown",
      "metadata": {
        "id": "0mp8zaBhjvYo"
      },
      "source": [
        "### Extract function names and parameters\n",
        "\n",
        "Use the helper function that we created earlier to extract the function names and function parameters for each Function Call that LLM responded with:"
      ]
    },
    {
      "cell_type": "code",
      "source": [
        "# Extract function calls from the response\n",
        "tool_calls = extract_tool_calls(response)\n",
        "print(tool_calls)"
      ],
      "metadata": {
        "colab": {
          "base_uri": "https://localhost:8080/"
        },
        "outputId": "8f6a6c52-92ac-4252-bdf3-07c7084a67ef",
        "id": "AL4sQ7RQ57wK"
      },
      "execution_count": 28,
      "outputs": [
        {
          "output_type": "stream",
          "name": "stdout",
          "text": [
            "[{'search_wikipedia': {'query': 'solar system'}, 'id': 'call_An1DKMDeJ5L1tfCJRBWCFPxO'}, {'suggest_wikipedia': {'query': 'solar system'}, 'id': 'call_Pj2pn9eNsGL1Sl5YNs9T8h3G'}, {'summarize_wikipedia': {'topic': 'solar system'}, 'id': 'call_O1GprppT2jkdHdQvuxVa57nG'}]\n"
          ]
        }
      ]
    },
    {
      "cell_type": "markdown",
      "metadata": {
        "id": "ZgLqFRJsjvYy"
      },
      "source": [
        "### Make external API calls\n",
        "\n",
        "Next, you'll loop through the Function Calls and use the `wikipedia` Python package to make APIs calls and gather information from Wikipedia:"
      ]
    },
    {
      "cell_type": "code",
      "execution_count": 29,
      "metadata": {
        "id": "MrnQf3RcjvYz",
        "outputId": "6bd06615-fa0c-46f9-8de5-7f4822a41531",
        "colab": {
          "base_uri": "https://localhost:8080/"
        }
      },
      "outputs": [
        {
          "output_type": "stream",
          "name": "stdout",
          "text": [
            "{'search_wikipedia': {'query': 'solar system'}, 'id': 'call_An1DKMDeJ5L1tfCJRBWCFPxO'}\n",
            "{'suggest_wikipedia': {'query': 'solar system'}, 'id': 'call_Pj2pn9eNsGL1Sl5YNs9T8h3G'}\n",
            "{'summarize_wikipedia': {'topic': 'solar system'}, 'id': 'call_O1GprppT2jkdHdQvuxVa57nG'}\n"
          ]
        }
      ],
      "source": [
        "api_response = {}\n",
        "\n",
        "# Loop over multiple function calls\n",
        "for tool in tool_calls:\n",
        "    # Extract the function name\n",
        "    print(tool)\n",
        "    function_name = list(tool.keys())[0]\n",
        "\n",
        "    # Determine which external API call to make\n",
        "    if function_name == \"search_wikipedia\":\n",
        "        result = wikipedia.search(tool[\"search_wikipedia\"][\"query\"])\n",
        "    if function_name == \"suggest_wikipedia\":\n",
        "        result = wikipedia.suggest(tool[\"suggest_wikipedia\"][\"query\"])\n",
        "    if function_name == \"summarize_wikipedia\":\n",
        "        result = wikipedia.summary(\n",
        "            tool[\"summarize_wikipedia\"][\"topic\"], auto_suggest=False\n",
        "        )\n",
        "\n",
        "    # Collect all API responses\n",
        "    api_response[function_name] = result"
      ]
    },
    {
      "cell_type": "code",
      "source": [
        "api_response"
      ],
      "metadata": {
        "colab": {
          "base_uri": "https://localhost:8080/"
        },
        "id": "wUcd30f260Od",
        "outputId": "f73e94c2-bc4f-4e59-c43e-859049e2b0d5"
      },
      "execution_count": 30,
      "outputs": [
        {
          "output_type": "execute_result",
          "data": {
            "text/plain": [
              "{'search_wikipedia': ['Solar System',\n",
              "  'Formation and evolution of the Solar System',\n",
              "  'List of Solar System objects by size',\n",
              "  'Solar System (disambiguation)',\n",
              "  'List of Solar System objects',\n",
              "  'Passive solar building design',\n",
              "  'Photovoltaic system',\n",
              "  'Solar System belts',\n",
              "  'List of gravitationally rounded objects of the Solar System',\n",
              "  'Exoplanet'],\n",
              " 'suggest_wikipedia': 'soler system',\n",
              " 'summarize_wikipedia': \"The Solar System is the gravitationally bound system of the Sun and the objects that orbit it. It was formed about 4.6 billion years ago when a dense region of a molecular cloud collapsed, forming the Sun and a protoplanetary disc. The Sun is a typical star that maintains a balanced equilibrium by the fusion of hydrogen into helium at its core, releasing this energy from its outer photosphere. Astronomers classify it as a G-type main-sequence star.\\nThe largest objects that orbit the Sun are the eight planets. In order from the Sun, they are four terrestrial planets (Mercury, Venus, Earth and Mars); two gas giants (Jupiter and Saturn); and two ice giants (Uranus and Neptune). All terrestrial planets have solid surfaces. Inversely, all giant planets do not have a definite surface, as they are mainly composed of gases and liquids. Over 99.86% of the Solar System's mass is in the Sun and nearly 90% of the remaining mass is in Jupiter and Saturn.\\nThere is a strong consensus among astronomers that the Solar System has at least nine dwarf planets: Ceres, Orcus, Pluto, Haumea, Quaoar, Makemake, Gonggong, Eris, and Sedna. There are a vast number of small Solar System bodies, such as asteroids, comets, centaurs, meteoroids, and interplanetary dust clouds. Some of these bodies are in the asteroid belt (between Mars's and Jupiter's orbit) and the Kuiper belt (just outside Neptune's orbit). Six planets, seven dwarf planets, and other bodies have orbiting natural satellites, which are commonly called 'moons'.\\nThe Solar System is constantly flooded by the Sun's charged particles, the solar wind, forming the heliosphere. Around 75–90 astronomical units from the Sun, the solar wind is halted, resulting in the heliopause. This is the boundary of the Solar System to interstellar space. The outermost region of the Solar System is the theorized Oort cloud, the source for long-period comets, extending to a radius of 2,000–200,000 AU. The closest star to the Solar System, Proxima Centauri, is 4.25 light-years (269,000 AU) away. Both stars belong to the Milky Way galaxy.\\n\\n\"}"
            ]
          },
          "metadata": {},
          "execution_count": 30
        }
      ]
    },
    {
      "cell_type": "markdown",
      "metadata": {
        "id": "pdji2r7CjvYz"
      },
      "source": [
        "### Get a natural language summary\n",
        "\n",
        "Now you can return all of the API responses to LLM so that it can generate a natural language summary:"
      ]
    },
    {
      "cell_type": "code",
      "source": [
        "\n",
        "### Generate a natural language summary\n",
        "messages=[\n",
        "        {\"role\": \"system\", \"content\": \"You are a helpful assistant.\"},\n",
        "        {\"role\": \"user\", \"content\": prompt},]\n",
        "\n",
        "messages.append(response.choices[0].message)\n",
        "for tool,res in zip(tool_calls,api_response):\n",
        "  function_name = list(tool.keys())[0]\n",
        "  messages.append({\"tool_call_id\": tool['id'],\n",
        "                   \"role\": \"tool\",\n",
        "                   \"name\": function_name,\n",
        "                   \"content\": res,})\n"
      ],
      "metadata": {
        "id": "NAD7jaTq7P0z"
      },
      "execution_count": 31,
      "outputs": []
    },
    {
      "cell_type": "code",
      "source": [
        "# Now we return all API responses back to GPT-4 to summarize\n",
        "\n",
        "new_response = client.chat.completions.create(\n",
        "    model=\"gpt-4o\",\n",
        "    messages = messages)"
      ],
      "metadata": {
        "id": "BcQMJaIE7P00"
      },
      "execution_count": 32,
      "outputs": []
    },
    {
      "cell_type": "code",
      "source": [
        "# Display the final summary\n",
        "print(new_response.choices[0].message.content)"
      ],
      "metadata": {
        "colab": {
          "base_uri": "https://localhost:8080/"
        },
        "outputId": "c857179e-717d-4dc2-81ab-ce1f6bc5aacf",
        "id": "Qc-zHn-B7P00"
      },
      "execution_count": 33,
      "outputs": [
        {
          "output_type": "stream",
          "name": "stdout",
          "text": [
            "### Search Results:\n",
            "Here are some of the top Wikipedia articles related to the solar system:\n",
            "\n",
            "1. **Solar System**\n",
            "   - **Summary**: An extensive overview of the solar system, including its formation, structure, and various components like the planets, moons, and other celestial bodies.\n",
            "\n",
            "2. **Planets of the Solar System**\n",
            "   - **Summary**: Detailed information about each planet in the solar system, their characteristics, orbits, and atmospheres.\n",
            "\n",
            "3. **Formation and Evolution of the Solar System**\n",
            "   - **Summary**: Discusses the scientific theories and evidence related to the origin and development of the solar system over billions of years.\n",
            "\n",
            "4. **Moons of the Solar System**\n",
            "   - **Summary**: Describes the natural satellites orbiting the planets, including their discovery, physical characteristics, and importance.\n",
            "\n",
            "5. **Asteroids and Comets in the Solar System**\n",
            "   - **Summary**: Information about the smaller bodies in the solar system, their composition, orbits, and impact on Earth.\n",
            "\n",
            "### Variations:\n",
            "You might also find interest in these related topics:\n",
            "\n",
            "1. **Exploration of the Solar System**\n",
            "2. **Solar System Models**\n",
            "3. **Dwarf Planets of the Solar System**\n",
            "4. **Kuiper Belt and Oort Cloud**\n",
            "5. **Solar System Dynamics**\n",
            "\n",
            "### Article Summaries:\n",
            "\n",
            "#### Solar System\n",
            "The solar system consists of the Sun and the objects that are gravitationally bound to it, including eight planets, their moons, dwarf planets, comets, and asteroids. The formation of the solar system began 4.6 billion years ago from the gravitational collapse of a region within a large molecular cloud. The majority of the system's mass is in the Sun, with Jupiter being the most massive of the planets.\n",
            "\n",
            "#### Planets of the Solar System\n",
            "This article provides details on the eight planets: Mercury, Venus, Earth, Mars, Jupiter, Saturn, Uranus, and Neptune. Each planet is described in terms of its size, composition, atmosphere, and orbit. There is also mention of the criteria that differentiate planets from dwarf planets.\n",
            "\n",
            "#### Formation and Evolution of the Solar System\n",
            "The article covers the nebular hypothesis, which suggests that the solar system formed from the gravitational collapse of a fragment of a giant molecular cloud. It delves into the stages of planetary formation, from the protoplanetary disk to the accretion of planetesimals.\n",
            "\n",
            "#### Moons of the Solar System\n",
            "This article details the numerous natural satellites that orbit the planets, with a focus on significant moons like Earth's Moon, Jupiter's Ganymede, and Saturn's Titan. It examines their physical characteristics, geological activity, and historical discovery.\n",
            "\n",
            "#### Asteroids and Comets in the Solar System\n",
            "Asteroids are mostly found in the asteroid belt between Mars and Jupiter, while comets originate from the Kuiper Belt and Oort Cloud. This article discusses their composition, orbits, and the historical impacts they have had on Earth and other planets.\n",
            "\n",
            "For more detailed information, you can visit the respective Wikipedia pages.\n"
          ]
        }
      ]
    },
    {
      "cell_type": "code",
      "source": [],
      "metadata": {
        "id": "Bl2ZSmyC7oBG"
      },
      "execution_count": null,
      "outputs": []
    },
    {
      "cell_type": "markdown",
      "source": [
        "# Sequential Multi function call"
      ],
      "metadata": {
        "id": "RG97M6G-4iQ7"
      }
    },
    {
      "cell_type": "code",
      "source": [
        "import requests\n",
        "import json"
      ],
      "metadata": {
        "id": "ltWmu-a04rH3"
      },
      "execution_count": 36,
      "outputs": []
    },
    {
      "cell_type": "code",
      "source": [
        "# Define the OpenWeatherMap API key\n",
        "OWM_API_KEY = \"29af1cea50a401d8e624eea4660b3f59\"\n",
        "\n",
        "def get_current_weather(location, unit=\"kelvin\"):\n",
        "    \"\"\"\n",
        "    Fetches the current weather information for a given location.\n",
        "\n",
        "    Parameters:\n",
        "    - location: str, the name of the location (e.g., \"Paris\").\n",
        "    - unit: str, the unit of temperature (default is \"kelvin\").\n",
        "\n",
        "    Returns:\n",
        "    - str: JSON formatted string containing weather information.\n",
        "    \"\"\"\n",
        "    # Construct the API request URL\n",
        "    url = f\"https://api.openweathermap.org/data/2.5/weather?q={location}&appid={OWM_API_KEY}\"\n",
        "\n",
        "    try:\n",
        "      # Send the API request\n",
        "      response = requests.get(url)\n",
        "    except:\n",
        "      return \"Error occurred because location does not exist\"\n",
        "\n",
        "    # Parse the temperature and weather forecast from the response\n",
        "    temp = response.json()['main']['temp']\n",
        "    forecast = [response.json()['weather'][0]['main'], response.json()['weather'][0]['description']]\n",
        "\n",
        "    # Create a dictionary with the weather information\n",
        "    weather_info = {\n",
        "        \"location\": location,\n",
        "        \"temperature\": temp,\n",
        "        \"unit\": 'Kelvin',\n",
        "        \"forecast\": forecast\n",
        "    }\n",
        "\n",
        "    # Return the weather information as a JSON string\n",
        "    return json.dumps(weather_info)"
      ],
      "metadata": {
        "id": "IAMib7EX4lh5"
      },
      "execution_count": 37,
      "outputs": []
    },
    {
      "cell_type": "code",
      "source": [
        "tools = [\n",
        "    {\n",
        "        \"type\": \"function\",\n",
        "        \"function\": {\n",
        "            \"name\": \"search_wikipedia\",\n",
        "            \"description\": \"Search for articles or any other relevant information on Wikipedia'\",\n",
        "            \"parameters\": {\n",
        "                \"type\": \"object\",\n",
        "                \"properties\": {\n",
        "                    \"query\": {\n",
        "                        \"type\": \"string\",\n",
        "                        \"description\": \"Query to search for on Wikipedia\"\n",
        "                    }\n",
        "                },\n",
        "                \"required\": [\"query\"],\n",
        "                \"additionalProperties\": False\n",
        "            }\n",
        "        }\n",
        "    },\n",
        "    {\n",
        "            \"type\": \"function\",\n",
        "            \"function\": {\n",
        "                \"name\": \"get_current_weather\",\n",
        "                \"description\": \"Get the current weather in a given location\",\n",
        "                \"parameters\": {\n",
        "                    \"type\": \"object\",\n",
        "                    \"properties\": {\n",
        "                        \"location\": {\n",
        "                            \"type\": \"string\",\n",
        "                            \"description\": \"The city and state, e.g. San Francisco, CA\",\n",
        "                        },\n",
        "                        \"unit\": {\"type\": \"string\", \"enum\": [\"celsius\", \"fahrenheit\",\"kelvin\"]},\n",
        "                    },\n",
        "                    \"required\": [\"location\"],\n",
        "                },\n",
        "            },\n",
        "        },\n",
        "]"
      ],
      "metadata": {
        "id": "9vIHr6BE4imv"
      },
      "execution_count": 38,
      "outputs": []
    },
    {
      "cell_type": "code",
      "source": [],
      "metadata": {
        "id": "FREnFG9J4v5G"
      },
      "execution_count": null,
      "outputs": []
    },
    {
      "cell_type": "code",
      "source": [
        "prompt = \"Get the name of capital city of Tripura using wikipedia and then tell me the weather information for the same using wikipedia results. \""
      ],
      "metadata": {
        "id": "-PZA1vX5449_"
      },
      "execution_count": 59,
      "outputs": []
    },
    {
      "cell_type": "code",
      "source": [
        "response = client.chat.completions.create(\n",
        "    model=deployment_name,\n",
        "    messages=[\n",
        "        {\"role\": \"system\", \"content\": \"You are a helpful assistant.\"},\n",
        "        {\"role\": \"user\", \"content\": prompt}\n",
        "    ],\n",
        "    tools=tools,\n",
        "    tool_choice='auto'\n",
        ")\n"
      ],
      "metadata": {
        "id": "-mzHw2Td44-A"
      },
      "execution_count": 60,
      "outputs": []
    },
    {
      "cell_type": "code",
      "source": [
        "response.choices[0].message.tool_calls"
      ],
      "metadata": {
        "colab": {
          "base_uri": "https://localhost:8080/"
        },
        "outputId": "7ca43462-49ca-40a1-8852-bc7b97c437f4",
        "id": "qigARcRO44-A"
      },
      "execution_count": 61,
      "outputs": [
        {
          "output_type": "execute_result",
          "data": {
            "text/plain": [
              "[ChatCompletionMessageToolCall(id='call_p1mJohSkU5CXbXmhdqiHbQIc', function=Function(arguments='{\"query\":\"capital city of Tripura\"}', name='search_wikipedia'), type='function')]"
            ]
          },
          "metadata": {},
          "execution_count": 61
        }
      ]
    },
    {
      "cell_type": "markdown",
      "metadata": {
        "id": "6k-YLd6f44-B"
      },
      "source": [
        "### Extract function names and parameters\n",
        "\n",
        "Use the helper function that we created earlier to extract the function names and function parameters for each Function Call that LLM responded with:"
      ]
    },
    {
      "cell_type": "code",
      "source": [
        "# Extract function calls from the response\n",
        "tool_calls = extract_tool_calls(response)\n",
        "print(tool_calls)"
      ],
      "metadata": {
        "colab": {
          "base_uri": "https://localhost:8080/"
        },
        "outputId": "cc1b1350-1702-48b1-a312-42263de07b23",
        "id": "pnc5ou_B44-B"
      },
      "execution_count": 62,
      "outputs": [
        {
          "output_type": "stream",
          "name": "stdout",
          "text": [
            "[{'search_wikipedia': {'query': 'capital city of Tripura'}, 'id': 'call_p1mJohSkU5CXbXmhdqiHbQIc'}]\n"
          ]
        }
      ]
    },
    {
      "cell_type": "code",
      "source": [],
      "metadata": {
        "id": "NPQWz9595K1q"
      },
      "execution_count": 62,
      "outputs": []
    },
    {
      "cell_type": "code",
      "source": [
        "### Make external API calls\n",
        "import wikipedia\n",
        "api_response = []\n",
        "\n",
        "# Loop over multiple function calls\n",
        "for tool in tool_calls:\n",
        "    print(tool)\n",
        "\n",
        "    # Make external API call\n",
        "    result = wikipedia.summary(tool[\"search_wikipedia\"][\"query\"])\n",
        "\n",
        "    # Collect all API responses\n",
        "    api_response.append(result)"
      ],
      "metadata": {
        "colab": {
          "base_uri": "https://localhost:8080/"
        },
        "outputId": "60b5265d-a978-4e5b-c328-8bcce00af927",
        "id": "eKZgjRaC6KUu"
      },
      "execution_count": 63,
      "outputs": [
        {
          "output_type": "stream",
          "name": "stdout",
          "text": [
            "{'search_wikipedia': {'query': 'capital city of Tripura'}, 'id': 'call_p1mJohSkU5CXbXmhdqiHbQIc'}\n"
          ]
        }
      ]
    },
    {
      "cell_type": "code",
      "source": [
        "for res in api_response:\n",
        "    print(res)"
      ],
      "metadata": {
        "colab": {
          "base_uri": "https://localhost:8080/"
        },
        "outputId": "bfb00c10-a28c-4643-e01f-ac560cb7e4c1",
        "id": "dmIDzGEr6KUw"
      },
      "execution_count": 64,
      "outputs": [
        {
          "output_type": "stream",
          "name": "stdout",
          "text": [
            "Agartala (, Bengali: [agorot̪ɔla] , Kok Borok: [agaratala]) is the capital and the largest city of the Indian state of Tripura, situated on the banks of Haora/Saidra River, about 2 kilometres (1.2 mi) east of the border with Bangladesh and about 2,499 km (1,552 mi) from the national capital, New Delhi. According to 2022 AMC data, Agartala is the second most populous city after Guwahati in Northeast India. It is India's third international internet gateway and being developed under the Smart Cities Mission.\n",
            "\n",
            "\n"
          ]
        }
      ]
    },
    {
      "cell_type": "code",
      "source": [
        "### Generate a natural language summary\n",
        "messages=[\n",
        "        {\"role\": \"system\", \"content\": \"You are a helpful assistant.\"},\n",
        "        {\"role\": \"user\", \"content\": prompt},]\n",
        "\n",
        "messages.append(response.choices[0].message)\n",
        "for tool,res in zip(tool_calls,api_response):\n",
        "  messages.append({\"tool_call_id\": tool['id'],\n",
        "                   \"role\": \"tool\",\n",
        "                   \"name\": 'search_wikipedia',\n",
        "                   \"content\": res,})\n"
      ],
      "metadata": {
        "id": "uLrV5mQI6KUw"
      },
      "execution_count": 65,
      "outputs": []
    },
    {
      "cell_type": "code",
      "source": [
        "# Now we return all API responses back to GPT-4 to summarize\n",
        "\n",
        "new_response = client.chat.completions.create(\n",
        "    model=\"gpt-4o\",\n",
        "    messages = messages,\n",
        "    tools=tools,\n",
        "    tool_choice='auto')"
      ],
      "metadata": {
        "id": "LhaN_IU86KUw"
      },
      "execution_count": 66,
      "outputs": []
    },
    {
      "cell_type": "code",
      "source": [
        "# Display the final summary\n",
        "print(new_response.model_dump_json(indent=2))"
      ],
      "metadata": {
        "colab": {
          "base_uri": "https://localhost:8080/"
        },
        "outputId": "6a604dc2-1a67-4852-9fe4-fee643207ba1",
        "id": "svqLMcEL6KUx"
      },
      "execution_count": 67,
      "outputs": [
        {
          "output_type": "stream",
          "name": "stdout",
          "text": [
            "{\n",
            "  \"id\": \"chatcmpl-A8NGRNehtKPy114cKGrY6xrgb1Pdf\",\n",
            "  \"choices\": [\n",
            "    {\n",
            "      \"finish_reason\": \"tool_calls\",\n",
            "      \"index\": 0,\n",
            "      \"logprobs\": null,\n",
            "      \"message\": {\n",
            "        \"content\": null,\n",
            "        \"refusal\": null,\n",
            "        \"role\": \"assistant\",\n",
            "        \"function_call\": null,\n",
            "        \"tool_calls\": [\n",
            "          {\n",
            "            \"id\": \"call_QBq65Jtj6gbHqZbAM38e2Fey\",\n",
            "            \"function\": {\n",
            "              \"arguments\": \"{\\\"location\\\":\\\"Agartala, Tripura\\\",\\\"unit\\\":\\\"celsius\\\"}\",\n",
            "              \"name\": \"get_current_weather\"\n",
            "            },\n",
            "            \"type\": \"function\"\n",
            "          }\n",
            "        ]\n",
            "      },\n",
            "      \"content_filter_results\": {}\n",
            "    }\n",
            "  ],\n",
            "  \"created\": 1726559415,\n",
            "  \"model\": \"gpt-4o-2024-05-13\",\n",
            "  \"object\": \"chat.completion\",\n",
            "  \"service_tier\": null,\n",
            "  \"system_fingerprint\": \"fp_80a1bad4c7\",\n",
            "  \"usage\": {\n",
            "    \"completion_tokens\": 25,\n",
            "    \"prompt_tokens\": 301,\n",
            "    \"total_tokens\": 326,\n",
            "    \"completion_tokens_details\": null\n",
            "  },\n",
            "  \"prompt_filter_results\": [\n",
            "    {\n",
            "      \"prompt_index\": 0,\n",
            "      \"content_filter_results\": {\n",
            "        \"hate\": {\n",
            "          \"filtered\": false,\n",
            "          \"severity\": \"safe\"\n",
            "        },\n",
            "        \"jailbreak\": {\n",
            "          \"filtered\": false,\n",
            "          \"detected\": false\n",
            "        },\n",
            "        \"self_harm\": {\n",
            "          \"filtered\": false,\n",
            "          \"severity\": \"safe\"\n",
            "        },\n",
            "        \"sexual\": {\n",
            "          \"filtered\": false,\n",
            "          \"severity\": \"safe\"\n",
            "        },\n",
            "        \"violence\": {\n",
            "          \"filtered\": false,\n",
            "          \"severity\": \"safe\"\n",
            "        }\n",
            "      }\n",
            "    }\n",
            "  ]\n",
            "}\n"
          ]
        }
      ]
    },
    {
      "cell_type": "code",
      "source": [],
      "metadata": {
        "id": "2lX_Z9SS6UwX"
      },
      "execution_count": null,
      "outputs": []
    },
    {
      "cell_type": "code",
      "source": [
        "for i in range(10):\n",
        "  response = client.chat.completions.create(\n",
        "    model=deployment_name,\n",
        "    messages=[\n",
        "        {\"role\": \"system\", \"content\": \"You are a helpful assistant.\"},\n",
        "        {\"role\": \"user\", \"content\": prompt}\n",
        "    ],\n",
        "    tools=tools,\n",
        "    tool_choice='auto')\n",
        "\n",
        "  tool_call_flag = response.choices[0].message.tool_calls\n",
        "\n",
        "  if tool_call:\n",
        "    response = response.choices[0].message\n",
        "    tool_calls = response.tool_calls\n",
        "    for tool_call in tool_calls:\n",
        "                function_name = tool_call.function.name\n",
        "                function_to_call = available_functions[function_name]\n",
        "                function_args = json.loads(tool_call.function.arguments)\n",
        "                function_response = function_to_call(**function_args)\n",
        "                print(function_response)\n",
        "                messages.append(\n",
        "                    {\n",
        "                        \"tool_call_id\": tool_call.id,\n",
        "                        \"role\": \"tool\",\n",
        "                        \"name\": function_name,\n",
        "                        \"content\": function_response,\n",
        "                    }\n",
        "                )\n",
        "\n",
        "  else:\n",
        "    return response.choices[0].message.content\n",
        "\n"
      ],
      "metadata": {
        "id": "If-B9OuR8dm2"
      },
      "execution_count": null,
      "outputs": []
    },
    {
      "cell_type": "code",
      "source": [
        "tools = [\n",
        "    {\n",
        "            \"type\": \"function\",\n",
        "            \"function\": {\n",
        "                \"name\": \"get_current_weather\",\n",
        "                \"description\": \"Get the current weather in a given location\",\n",
        "                \"parameters\": {\n",
        "                    \"type\": \"object\",\n",
        "                    \"properties\": {\n",
        "                        \"location\": {\n",
        "                            \"type\": \"string\",\n",
        "                            \"description\": \"The city and state, e.g. San Francisco, CA\",\n",
        "                        },\n",
        "                        \"unit\": {\"type\": \"string\", \"enum\": [\"celsius\", \"fahrenheit\",\"kelvin\"]},\n",
        "                    },\n",
        "                    \"required\": [\"location\"],\n",
        "                },\n",
        "            },\n",
        "        },\n",
        "]"
      ],
      "metadata": {
        "id": "6e4SzQcd-vos"
      },
      "execution_count": 73,
      "outputs": []
    },
    {
      "cell_type": "code",
      "source": [
        "prompt = \"what is 2+2? and tell me the weather of bangalore. Answer questions together at the end.\""
      ],
      "metadata": {
        "id": "u5K1kpHG-vwZ"
      },
      "execution_count": 90,
      "outputs": []
    },
    {
      "cell_type": "code",
      "source": [
        "response = client.chat.completions.create(\n",
        "    model=deployment_name,\n",
        "    messages=[\n",
        "        {\"role\": \"system\", \"content\": \"You are a helpful assistant.\"},\n",
        "        {\"role\": \"user\", \"content\": prompt}\n",
        "    ],\n",
        "    tools=tools,\n",
        "    tool_choice='auto'\n",
        ")\n"
      ],
      "metadata": {
        "id": "3-Bu0Dxy-vwZ"
      },
      "execution_count": 91,
      "outputs": []
    },
    {
      "cell_type": "code",
      "source": [
        "response.choices[0].message.tool_calls"
      ],
      "metadata": {
        "colab": {
          "base_uri": "https://localhost:8080/"
        },
        "outputId": "da15efb4-2d38-4276-a926-a58abdef215f",
        "id": "4gDzJvhS-vwZ"
      },
      "execution_count": 92,
      "outputs": [
        {
          "output_type": "execute_result",
          "data": {
            "text/plain": [
              "[ChatCompletionMessageToolCall(id='call_lfTIZcEXKhJRzjIF5srNpGKH', function=Function(arguments='{\"location\": \"Bangalore\"}', name='get_current_weather'), type='function')]"
            ]
          },
          "metadata": {},
          "execution_count": 92
        }
      ]
    },
    {
      "cell_type": "code",
      "source": [
        "print(response.model_dump_json(indent=2))"
      ],
      "metadata": {
        "id": "u7Uc8uUD-2-U",
        "outputId": "5dc836b3-3f46-4d41-a3b1-b27c2734d2c8",
        "colab": {
          "base_uri": "https://localhost:8080/"
        }
      },
      "execution_count": 93,
      "outputs": [
        {
          "output_type": "stream",
          "name": "stdout",
          "text": [
            "{\n",
            "  \"id\": \"chatcmpl-A8NT540tyItXaWXNw9dALXn1cAoXU\",\n",
            "  \"choices\": [\n",
            "    {\n",
            "      \"finish_reason\": \"tool_calls\",\n",
            "      \"index\": 0,\n",
            "      \"logprobs\": null,\n",
            "      \"message\": {\n",
            "        \"content\": null,\n",
            "        \"refusal\": null,\n",
            "        \"role\": \"assistant\",\n",
            "        \"function_call\": null,\n",
            "        \"tool_calls\": [\n",
            "          {\n",
            "            \"id\": \"call_lfTIZcEXKhJRzjIF5srNpGKH\",\n",
            "            \"function\": {\n",
            "              \"arguments\": \"{\\\"location\\\": \\\"Bangalore\\\"}\",\n",
            "              \"name\": \"get_current_weather\"\n",
            "            },\n",
            "            \"type\": \"function\"\n",
            "          }\n",
            "        ]\n",
            "      },\n",
            "      \"content_filter_results\": {}\n",
            "    }\n",
            "  ],\n",
            "  \"created\": 1726560199,\n",
            "  \"model\": \"gpt-4o-2024-05-13\",\n",
            "  \"object\": \"chat.completion\",\n",
            "  \"service_tier\": null,\n",
            "  \"system_fingerprint\": \"fp_80a1bad4c7\",\n",
            "  \"usage\": {\n",
            "    \"completion_tokens\": 32,\n",
            "    \"prompt_tokens\": 106,\n",
            "    \"total_tokens\": 138,\n",
            "    \"completion_tokens_details\": null\n",
            "  },\n",
            "  \"prompt_filter_results\": [\n",
            "    {\n",
            "      \"prompt_index\": 0,\n",
            "      \"content_filter_results\": {\n",
            "        \"hate\": {\n",
            "          \"filtered\": false,\n",
            "          \"severity\": \"safe\"\n",
            "        },\n",
            "        \"jailbreak\": {\n",
            "          \"filtered\": false,\n",
            "          \"detected\": false\n",
            "        },\n",
            "        \"self_harm\": {\n",
            "          \"filtered\": false,\n",
            "          \"severity\": \"safe\"\n",
            "        },\n",
            "        \"sexual\": {\n",
            "          \"filtered\": false,\n",
            "          \"severity\": \"safe\"\n",
            "        },\n",
            "        \"violence\": {\n",
            "          \"filtered\": false,\n",
            "          \"severity\": \"safe\"\n",
            "        }\n",
            "      }\n",
            "    }\n",
            "  ]\n",
            "}\n"
          ]
        }
      ]
    },
    {
      "cell_type": "code",
      "source": [],
      "metadata": {
        "id": "YLs-gIM_-8BO"
      },
      "execution_count": 93,
      "outputs": []
    },
    {
      "cell_type": "code",
      "source": [
        "### Generate a natural language summary\n",
        "messages=[\n",
        "        {\"role\": \"system\", \"content\": \"You are a helpful assistant.\"},\n",
        "        {\"role\": \"user\", \"content\": prompt},]\n",
        "\n",
        "messages.append(response.choices[0].message)\n",
        "for tool,res in zip(tool_calls,api_response):\n",
        "  messages.append({\"tool_call_id\":\"call_lfTIZcEXKhJRzjIF5srNpGKH\" ,\n",
        "                   \"role\": \"tool\",\n",
        "                   \"name\": 'get_current_weather',\n",
        "                   \"content\": '{\"temperature\":\"340\",\"unit\":\"kelvin\"}',})\n"
      ],
      "metadata": {
        "id": "UlDkK61p_t2L"
      },
      "execution_count": 97,
      "outputs": []
    },
    {
      "cell_type": "code",
      "source": [
        "# Now we return all API responses back to GPT-4 to summarize\n",
        "\n",
        "new_response = client.chat.completions.create(\n",
        "    model=\"gpt-4o\",\n",
        "    messages = messages,\n",
        "    tools=tools,\n",
        "    tool_choice='auto')"
      ],
      "metadata": {
        "id": "pn9v9vUo_t2M"
      },
      "execution_count": 98,
      "outputs": []
    },
    {
      "cell_type": "code",
      "source": [
        "messages"
      ],
      "metadata": {
        "id": "jkWTTBgK_8vQ",
        "outputId": "61832785-4dec-45a1-fe47-e6497a2ee1fb",
        "colab": {
          "base_uri": "https://localhost:8080/"
        }
      },
      "execution_count": 99,
      "outputs": [
        {
          "output_type": "execute_result",
          "data": {
            "text/plain": [
              "[{'role': 'system', 'content': 'You are a helpful assistant.'},\n",
              " {'role': 'user',\n",
              "  'content': 'what is 2+2? and tell me the weather of bangalore. Answer questions together at the end.'},\n",
              " ChatCompletionMessage(content=None, refusal=None, role='assistant', function_call=None, tool_calls=[ChatCompletionMessageToolCall(id='call_lfTIZcEXKhJRzjIF5srNpGKH', function=Function(arguments='{\"location\": \"Bangalore\"}', name='get_current_weather'), type='function')]),\n",
              " {'tool_call_id': 'call_lfTIZcEXKhJRzjIF5srNpGKH',\n",
              "  'role': 'tool',\n",
              "  'name': 'get_current_weather',\n",
              "  'content': '{\"temperature\":\"340\",\"unit\":\"kelvin\"}'}]"
            ]
          },
          "metadata": {},
          "execution_count": 99
        }
      ]
    },
    {
      "cell_type": "code",
      "source": [
        "# Display the final summary\n",
        "print(new_response.model_dump_json(indent=2))"
      ],
      "metadata": {
        "colab": {
          "base_uri": "https://localhost:8080/"
        },
        "outputId": "a63e1ba2-c333-4f03-bafd-91be6786ff4c",
        "id": "QgHZswEh_t2M"
      },
      "execution_count": 100,
      "outputs": [
        {
          "output_type": "stream",
          "name": "stdout",
          "text": [
            "{\n",
            "  \"id\": \"chatcmpl-A8NTbq5K9gylL2fMVglMVefn6K2aj\",\n",
            "  \"choices\": [\n",
            "    {\n",
            "      \"finish_reason\": \"stop\",\n",
            "      \"index\": 0,\n",
            "      \"logprobs\": null,\n",
            "      \"message\": {\n",
            "        \"content\": \"1. The answer to 2+2 is 4.\\n2. The current weather in Bangalore is 340 K (Kelvin).\",\n",
            "        \"refusal\": null,\n",
            "        \"role\": \"assistant\",\n",
            "        \"function_call\": null,\n",
            "        \"tool_calls\": null\n",
            "      },\n",
            "      \"content_filter_results\": {\n",
            "        \"hate\": {\n",
            "          \"filtered\": false,\n",
            "          \"severity\": \"safe\"\n",
            "        },\n",
            "        \"self_harm\": {\n",
            "          \"filtered\": false,\n",
            "          \"severity\": \"safe\"\n",
            "        },\n",
            "        \"sexual\": {\n",
            "          \"filtered\": false,\n",
            "          \"severity\": \"safe\"\n",
            "        },\n",
            "        \"violence\": {\n",
            "          \"filtered\": false,\n",
            "          \"severity\": \"safe\"\n",
            "        }\n",
            "      }\n",
            "    }\n",
            "  ],\n",
            "  \"created\": 1726560231,\n",
            "  \"model\": \"gpt-4o-2024-05-13\",\n",
            "  \"object\": \"chat.completion\",\n",
            "  \"service_tier\": null,\n",
            "  \"system_fingerprint\": \"fp_80a1bad4c7\",\n",
            "  \"usage\": {\n",
            "    \"completion_tokens\": 29,\n",
            "    \"prompt_tokens\": 141,\n",
            "    \"total_tokens\": 170,\n",
            "    \"completion_tokens_details\": null\n",
            "  },\n",
            "  \"prompt_filter_results\": [\n",
            "    {\n",
            "      \"prompt_index\": 0,\n",
            "      \"content_filter_results\": {\n",
            "        \"hate\": {\n",
            "          \"filtered\": false,\n",
            "          \"severity\": \"safe\"\n",
            "        },\n",
            "        \"jailbreak\": {\n",
            "          \"filtered\": false,\n",
            "          \"detected\": false\n",
            "        },\n",
            "        \"self_harm\": {\n",
            "          \"filtered\": false,\n",
            "          \"severity\": \"safe\"\n",
            "        },\n",
            "        \"sexual\": {\n",
            "          \"filtered\": false,\n",
            "          \"severity\": \"safe\"\n",
            "        },\n",
            "        \"violence\": {\n",
            "          \"filtered\": false,\n",
            "          \"severity\": \"safe\"\n",
            "        }\n",
            "      }\n",
            "    }\n",
            "  ]\n",
            "}\n"
          ]
        }
      ]
    },
    {
      "cell_type": "code",
      "source": [],
      "metadata": {
        "id": "o9yIeHjNARY2"
      },
      "execution_count": null,
      "outputs": []
    }
  ],
  "metadata": {
    "colab": {
      "provenance": [],
      "include_colab_link": true
    },
    "environment": {
      "kernel": "conda-root-py",
      "name": "workbench-notebooks.m115",
      "type": "gcloud",
      "uri": "gcr.io/deeplearning-platform-release/workbench-notebooks:m115"
    },
    "kernelspec": {
      "display_name": "Python 3 (ipykernel)",
      "language": "python",
      "name": "python3"
    },
    "language_info": {
      "codemirror_mode": {
        "name": "ipython",
        "version": 3
      },
      "file_extension": ".py",
      "mimetype": "text/x-python",
      "name": "python",
      "nbconvert_exporter": "python",
      "pygments_lexer": "ipython3",
      "version": "3.11.8"
    }
  },
  "nbformat": 4,
  "nbformat_minor": 0
}
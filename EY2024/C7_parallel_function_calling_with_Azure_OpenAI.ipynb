{
  "cells": [
    {
      "cell_type": "markdown",
      "metadata": {
        "id": "view-in-github",
        "colab_type": "text"
      },
      "source": [
        "<a href=\"https://colab.research.google.com/github/anshupandey/Generative-AI-for-Professionals/blob/main/EY2024/C7_parallel_function_calling_with_Azure_OpenAI.ipynb\" target=\"_parent\"><img src=\"https://colab.research.google.com/assets/colab-badge.svg\" alt=\"Open In Colab\"/></a>"
      ]
    },
    {
      "cell_type": "markdown",
      "source": [
        "# Working with Parallel Function Calls and Multiple Function Responses in Gemini"
      ],
      "metadata": {
        "id": "gbCxadJVx88B"
      }
    },
    {
      "cell_type": "markdown",
      "metadata": {
        "id": "CkHPv2myT2cx"
      },
      "source": [
        "## Overview\n",
        "\n",
        "Gemini is a family of generative AI models developed by Google DeepMind that is designed for multimodal use cases. The Gemini API gives you access to the Gemini Pro and Gemini Pro Vision models.\n",
        "\n",
        "[Function Calling](https://cloud.google.com/vertex-ai/docs/generative-ai/multimodal/function-calling) in Gemini lets you create a description of a function in your code, then pass that description to a language model in a request. The response from the model includes the name of a function that matches the description and the arguments to call it with.\n",
        "\n",
        "In this tutorial, you'll learn how to work with parallel function calling within Gemini Function Calling, including:\n",
        "    \n",
        "- Handling parallel function calls for repeated functions\n",
        "- Working with parallel function calls across multiple functions\n",
        "- Extracting multiple function calls from a Gemini response\n",
        "- Calling multiple functions and returning them to Gemini\n",
        "\n",
        "### What is parallel function calling?\n",
        "\n",
        "In previous versions of the Gemini Pro models (prior to May 2024), Gemini would return two or more chained function calls if the model determined that more than one function call was needed before returning a natural language summary. Here, a chained function call means that you get the first function call response, return the API data to Gemini, get a second function call response, return the API data to Gemini, and so on.\n",
        "\n",
        "In recent versions of specific Gemini Pro models (from May 2024 and on), Gemini has the ability to return two or more function calls in parallel (i.e., two or more function call responses within the first function call response object). Parallel function calling allows you to fan out and parallelize your API calls or other actions that you perform in your application code, so you don't have to work through each function call response and return one-by-one! Refer to the [Gemini Function Calling documentation](https://cloud.google.com/vertex-ai/generative-ai/docs/multimodal/function-calling) for more information on which Gemini model versions support parallel function calling.\n",
        "\n",
        "\n",
        "<img src=\"https://storage.googleapis.com/github-repo/generative-ai/gemini/function-calling/parallel-function-calling-in-gemini.png\">"
      ]
    },
    {
      "cell_type": "code",
      "source": [
        "!pip install openai wikipedia --quiet"
      ],
      "metadata": {
        "colab": {
          "base_uri": "https://localhost:8080/"
        },
        "id": "nBMVh0ldtsDP",
        "outputId": "6706ebb5-c882-4ca3-a712-f609880ebc54"
      },
      "execution_count": 1,
      "outputs": [
        {
          "output_type": "stream",
          "name": "stdout",
          "text": [
            "\u001b[?25l   \u001b[90m━━━━━━━━━━━━━━━━━━━━━━━━━━━━━━━━━━━━━━━━\u001b[0m \u001b[32m0.0/374.2 kB\u001b[0m \u001b[31m?\u001b[0m eta \u001b[36m-:--:--\u001b[0m\r\u001b[2K   \u001b[91m━━━━━━━━━━━━━━━━━━━━━━━━━━━━━━━━━━━━━━━\u001b[0m\u001b[90m╺\u001b[0m \u001b[32m368.6/374.2 kB\u001b[0m \u001b[31m16.8 MB/s\u001b[0m eta \u001b[36m0:00:01\u001b[0m\r\u001b[2K   \u001b[90m━━━━━━━━━━━━━━━━━━━━━━━━━━━━━━━━━━━━━━━━\u001b[0m \u001b[32m374.2/374.2 kB\u001b[0m \u001b[31m7.0 MB/s\u001b[0m eta \u001b[36m0:00:00\u001b[0m\n",
            "\u001b[?25h\u001b[?25l   \u001b[90m━━━━━━━━━━━━━━━━━━━━━━━━━━━━━━━━━━━━━━━━\u001b[0m \u001b[32m0.0/76.4 kB\u001b[0m \u001b[31m?\u001b[0m eta \u001b[36m-:--:--\u001b[0m\r\u001b[2K   \u001b[90m━━━━━━━━━━━━━━━━━━━━━━━━━━━━━━━━━━━━━━━━\u001b[0m \u001b[32m76.4/76.4 kB\u001b[0m \u001b[31m4.5 MB/s\u001b[0m eta \u001b[36m0:00:00\u001b[0m\n",
            "\u001b[?25h\u001b[?25l   \u001b[90m━━━━━━━━━━━━━━━━━━━━━━━━━━━━━━━━━━━━━━━━\u001b[0m \u001b[32m0.0/77.9 kB\u001b[0m \u001b[31m?\u001b[0m eta \u001b[36m-:--:--\u001b[0m\r\u001b[2K   \u001b[90m━━━━━━━━━━━━━━━━━━━━━━━━━━━━━━━━━━━━━━━━\u001b[0m \u001b[32m77.9/77.9 kB\u001b[0m \u001b[31m3.5 MB/s\u001b[0m eta \u001b[36m0:00:00\u001b[0m\n",
            "\u001b[2K   \u001b[90m━━━━━━━━━━━━━━━━━━━━━━━━━━━━━━━━━━━━━━━━\u001b[0m \u001b[32m318.9/318.9 kB\u001b[0m \u001b[31m14.8 MB/s\u001b[0m eta \u001b[36m0:00:00\u001b[0m\n",
            "\u001b[2K   \u001b[90m━━━━━━━━━━━━━━━━━━━━━━━━━━━━━━━━━━━━━━━━\u001b[0m \u001b[32m58.3/58.3 kB\u001b[0m \u001b[31m2.2 MB/s\u001b[0m eta \u001b[36m0:00:00\u001b[0m\n",
            "\u001b[?25h"
          ]
        }
      ]
    },
    {
      "cell_type": "code",
      "source": [
        "api_key = \"62d77bb382974118aec75d84d274bb72\"\n",
        "api_version = \"2024-02-01\" # \"2023-05-15\"\n",
        "azure_endpoint = \"https://eygpt24.openai.azure.com/\"\n",
        "deployment_name = \"gpt-4o\""
      ],
      "metadata": {
        "id": "QQv4WM5ZttOU"
      },
      "execution_count": 2,
      "outputs": []
    },
    {
      "cell_type": "code",
      "source": [
        "from openai import AzureOpenAI\n",
        "\n",
        "client = AzureOpenAI(\n",
        "    api_version=api_version,\n",
        "    azure_endpoint=azure_endpoint,\n",
        "    api_key = api_key,)"
      ],
      "metadata": {
        "id": "jTMrIQPmtxYE"
      },
      "execution_count": 3,
      "outputs": []
    },
    {
      "cell_type": "markdown",
      "metadata": {
        "id": "o77Xl_JDjvYf"
      },
      "source": [
        "### Define helper function"
      ]
    },
    {
      "cell_type": "code",
      "source": [
        "def extract_tool_calls(response: dict):\n",
        "    tool_calls = []\n",
        "    tool_call = response.choices[0].message.tool_calls\n",
        "    if tool_call:\n",
        "        for tool in tool_call:\n",
        "            function_name = tool.function.name\n",
        "            function_args = eval(tool.function.arguments)  # Safely convert string to dictionary\n",
        "            function_call_dict = {function_name: function_args}\n",
        "            function_call_dict['id'] = tool.id\n",
        "            tool_calls.append(function_call_dict)\n",
        "\n",
        "    return tool_calls"
      ],
      "metadata": {
        "id": "izsb1jgbuWnM"
      },
      "execution_count": 97,
      "outputs": []
    },
    {
      "cell_type": "markdown",
      "metadata": {
        "id": "j3KHAr6BsJY6"
      },
      "source": [
        "## Example: Parallel function calls on the same function\n",
        "\n",
        "A great use case for parallel function calling is when you have a function that only accepts one parameter per API call and you need to make repeated calls to that function.\n",
        "\n",
        "With Parallel Function Calling, rather than having to send N number of API requests to LLM for N number function calls, instead you can send a single API request to LLM, receive N number of Function Call Responses within a single response, make N number of external API calls in your code, then return all of the API responses to LLM in bulk. And you can do all of this without any extra configuration in your function declarations, tools, or requests to LLM.\n",
        "\n",
        "In this example, you'll do exactly that and use Parallel Function Calling in LLM to ask about multiple topics on [Wikipedia](https://www.wikipedia.org/). Let's get started!\n"
      ]
    },
    {
      "cell_type": "code",
      "source": [
        "tools = [\n",
        "    {\n",
        "        \"type\": \"function\",\n",
        "        \"function\": {\n",
        "            \"name\": \"search_wikipedia\",\n",
        "            \"description\": \"Search for articles or any other relevant information on Wikipedia'\",\n",
        "            \"parameters\": {\n",
        "                \"type\": \"object\",\n",
        "                \"properties\": {\n",
        "                    \"query\": {\n",
        "                        \"type\": \"string\",\n",
        "                        \"description\": \"Query to search for on Wikipedia\"\n",
        "                    }\n",
        "                },\n",
        "                \"required\": [\"query\"],\n",
        "                \"additionalProperties\": False\n",
        "            }\n",
        "        }\n",
        "    }\n",
        "]"
      ],
      "metadata": {
        "id": "E82hDrsVutvP"
      },
      "execution_count": 90,
      "outputs": []
    },
    {
      "cell_type": "code",
      "source": [
        "### Send prompt to OpenAI GPT-4o with function calling\n",
        "prompt = \"Search for articles related to solar panels, renewable energy, and battery storage and provide a summary of your findings\""
      ],
      "metadata": {
        "id": "t6wL8go_uvvJ"
      },
      "execution_count": 98,
      "outputs": []
    },
    {
      "cell_type": "code",
      "source": [
        "response = client.chat.completions.create(\n",
        "    model=deployment_name,\n",
        "    messages=[\n",
        "        {\"role\": \"system\", \"content\": \"You are a helpful assistant.\"},\n",
        "        {\"role\": \"user\", \"content\": prompt}\n",
        "    ],\n",
        "    tools=tools,\n",
        "    tool_choice=\"auto\",\n",
        ")\n"
      ],
      "metadata": {
        "id": "xxLnBJGiuyZi"
      },
      "execution_count": 99,
      "outputs": []
    },
    {
      "cell_type": "code",
      "source": [
        "response.choices[0].message.tool_calls"
      ],
      "metadata": {
        "colab": {
          "base_uri": "https://localhost:8080/"
        },
        "id": "WUpmzF8rzV92",
        "outputId": "92277c6c-83cf-4913-952c-6f60cfc9fc8d"
      },
      "execution_count": 112,
      "outputs": [
        {
          "output_type": "execute_result",
          "data": {
            "text/plain": [
              "[ChatCompletionMessageToolCall(id='call_45ZnM7TX4U2b6wrg7BsL2hbg', function=Function(arguments='{\"topic\": \"solar panels\"}', name='summarize_wikipedia'), type='function'),\n",
              " ChatCompletionMessageToolCall(id='call_Cxp2KRWsiYbI7k3ZBiivJg4C', function=Function(arguments='{\"topic\": \"renewable energy\"}', name='summarize_wikipedia'), type='function'),\n",
              " ChatCompletionMessageToolCall(id='call_1XY4OgwZIeevaUsqxf7sBbK3', function=Function(arguments='{\"topic\": \"battery storage\"}', name='summarize_wikipedia'), type='function')]"
            ]
          },
          "metadata": {},
          "execution_count": 112
        }
      ]
    },
    {
      "cell_type": "code",
      "source": [],
      "metadata": {
        "id": "ZVl-2MLHzIQ5"
      },
      "execution_count": 100,
      "outputs": []
    },
    {
      "cell_type": "code",
      "source": [
        "print(response.model_dump_json(indent=2))"
      ],
      "metadata": {
        "colab": {
          "base_uri": "https://localhost:8080/"
        },
        "id": "m0InetGGvIXQ",
        "outputId": "a4a8f249-301d-486e-9ce1-5d3a311bed48"
      },
      "execution_count": 101,
      "outputs": [
        {
          "output_type": "stream",
          "name": "stdout",
          "text": [
            "{\n",
            "  \"id\": \"chatcmpl-A8IeEmTFX8hew9fbOxuARvobS0vri\",\n",
            "  \"choices\": [\n",
            "    {\n",
            "      \"finish_reason\": \"tool_calls\",\n",
            "      \"index\": 0,\n",
            "      \"logprobs\": null,\n",
            "      \"message\": {\n",
            "        \"content\": null,\n",
            "        \"refusal\": null,\n",
            "        \"role\": \"assistant\",\n",
            "        \"function_call\": null,\n",
            "        \"tool_calls\": [\n",
            "          {\n",
            "            \"id\": \"call_nYpjZeCj3s7Wxn6c5QkCY0Lu\",\n",
            "            \"function\": {\n",
            "              \"arguments\": \"{\\\"query\\\": \\\"solar panels\\\"}\",\n",
            "              \"name\": \"search_wikipedia\"\n",
            "            },\n",
            "            \"type\": \"function\"\n",
            "          },\n",
            "          {\n",
            "            \"id\": \"call_r9qHvI2OhbavkEJvrc7hUTNQ\",\n",
            "            \"function\": {\n",
            "              \"arguments\": \"{\\\"query\\\": \\\"renewable energy\\\"}\",\n",
            "              \"name\": \"search_wikipedia\"\n",
            "            },\n",
            "            \"type\": \"function\"\n",
            "          },\n",
            "          {\n",
            "            \"id\": \"call_Q5j6bUoVmxjb9GvI5TMlKlcz\",\n",
            "            \"function\": {\n",
            "              \"arguments\": \"{\\\"query\\\": \\\"battery storage\\\"}\",\n",
            "              \"name\": \"search_wikipedia\"\n",
            "            },\n",
            "            \"type\": \"function\"\n",
            "          }\n",
            "        ]\n",
            "      },\n",
            "      \"content_filter_results\": {}\n",
            "    }\n",
            "  ],\n",
            "  \"created\": 1726541670,\n",
            "  \"model\": \"gpt-4o-2024-05-13\",\n",
            "  \"object\": \"chat.completion\",\n",
            "  \"service_tier\": null,\n",
            "  \"system_fingerprint\": \"fp_80a1bad4c7\",\n",
            "  \"usage\": {\n",
            "    \"completion_tokens\": 65,\n",
            "    \"prompt_tokens\": 84,\n",
            "    \"total_tokens\": 149,\n",
            "    \"completion_tokens_details\": null\n",
            "  },\n",
            "  \"prompt_filter_results\": [\n",
            "    {\n",
            "      \"prompt_index\": 0,\n",
            "      \"content_filter_results\": {\n",
            "        \"hate\": {\n",
            "          \"filtered\": false,\n",
            "          \"severity\": \"safe\"\n",
            "        },\n",
            "        \"jailbreak\": {\n",
            "          \"filtered\": false,\n",
            "          \"detected\": false\n",
            "        },\n",
            "        \"self_harm\": {\n",
            "          \"filtered\": false,\n",
            "          \"severity\": \"safe\"\n",
            "        },\n",
            "        \"sexual\": {\n",
            "          \"filtered\": false,\n",
            "          \"severity\": \"safe\"\n",
            "        },\n",
            "        \"violence\": {\n",
            "          \"filtered\": false,\n",
            "          \"severity\": \"safe\"\n",
            "        }\n",
            "      }\n",
            "    }\n",
            "  ]\n",
            "}\n"
          ]
        }
      ]
    },
    {
      "cell_type": "code",
      "source": [
        "# Extract function calls from the response\n",
        "tool_calls = extract_tool_calls(response)\n",
        "print(tool_calls)"
      ],
      "metadata": {
        "colab": {
          "base_uri": "https://localhost:8080/"
        },
        "id": "d9GkXrgau8Tg",
        "outputId": "204e31f8-c639-4deb-b4d4-fff39cb2541c"
      },
      "execution_count": 102,
      "outputs": [
        {
          "output_type": "stream",
          "name": "stdout",
          "text": [
            "[{'search_wikipedia': {'query': 'solar panels'}, 'id': 'call_nYpjZeCj3s7Wxn6c5QkCY0Lu'}, {'search_wikipedia': {'query': 'renewable energy'}, 'id': 'call_r9qHvI2OhbavkEJvrc7hUTNQ'}, {'search_wikipedia': {'query': 'battery storage'}, 'id': 'call_Q5j6bUoVmxjb9GvI5TMlKlcz'}]\n"
          ]
        }
      ]
    },
    {
      "cell_type": "code",
      "source": [
        "!pip install wikipedia --quiet"
      ],
      "metadata": {
        "id": "J6r0CVSU0Px3"
      },
      "execution_count": 103,
      "outputs": []
    },
    {
      "cell_type": "code",
      "source": [
        "### Make external API calls\n",
        "import wikipedia\n",
        "api_response = []\n",
        "\n",
        "# Loop over multiple function calls\n",
        "for tool in tool_calls:\n",
        "    print(tool)\n",
        "\n",
        "    # Make external API call\n",
        "    result = wikipedia.summary(tool[\"search_wikipedia\"][\"query\"])\n",
        "\n",
        "    # Collect all API responses\n",
        "    api_response.append(result)"
      ],
      "metadata": {
        "colab": {
          "base_uri": "https://localhost:8080/"
        },
        "id": "uyBpfsFR0Hsu",
        "outputId": "a05a61d2-905d-4eb2-9dbd-2480b3096e46"
      },
      "execution_count": 104,
      "outputs": [
        {
          "output_type": "stream",
          "name": "stdout",
          "text": [
            "{'search_wikipedia': {'query': 'solar panels'}, 'id': 'call_nYpjZeCj3s7Wxn6c5QkCY0Lu'}\n",
            "{'search_wikipedia': {'query': 'renewable energy'}, 'id': 'call_r9qHvI2OhbavkEJvrc7hUTNQ'}\n",
            "{'search_wikipedia': {'query': 'battery storage'}, 'id': 'call_Q5j6bUoVmxjb9GvI5TMlKlcz'}\n"
          ]
        }
      ]
    },
    {
      "cell_type": "code",
      "source": [
        "for res in api_response:\n",
        "    print(res)"
      ],
      "metadata": {
        "colab": {
          "base_uri": "https://localhost:8080/"
        },
        "id": "gbSSzesj0psA",
        "outputId": "83a945d3-3862-4ef0-8e5c-b46a97492729"
      },
      "execution_count": 105,
      "outputs": [
        {
          "output_type": "stream",
          "name": "stdout",
          "text": [
            "A solar panel is a device that converts sunlight into electricity by using photovoltaic (PV) cells. PV cells are made of materials that produce excited electrons when exposed to light. The electrons flow through a circuit and produce direct current (DC) electricity, which can be used to power various devices or be stored in batteries. Solar panels are also known as solar cell panels, solar electric panels, or PV modules.\n",
            "Solar panels are usually arranged in groups called arrays or systems. A photovoltaic system consists of one or more solar panels, an inverter that converts DC electricity to alternating current (AC) electricity, and sometimes other components such as controllers, meters, and trackers. Most panels are in solar farms, which  supply the electricity grid as can some rooftop solar.\n",
            "Some advantages of solar panels are that they use a renewable and clean source of energy, reduce greenhouse gas emissions, and lower electricity bills. Some disadvantages are that they depend on the availability and intensity of sunlight, require cleaning, and have high initial costs. Solar panels are widely used for residential, commercial, and industrial purposes, as well as in space, often together with batteries.\n",
            "\n",
            "\n",
            "Renewable energy (or green energy) is energy from renewable natural resources that are replenished on a human timescale. The most widely used renewable energy types are solar energy, wind power, and hydropower. Bioenergy and geothermal power are also significant in some countries. Some also consider nuclear power a renewable power source, although this is controversial. Renewable energy installations can be large or small and are suited for both urban and rural areas. Renewable energy is often deployed together with further electrification. This has several benefits: electricity can move heat and vehicles efficiently and is clean at the point of consumption. Variable renewable energy sources are those that have a fluctuating nature, such as wind power and solar power. In contrast, controllable renewable energy sources include dammed hydroelectricity, bioenergy, or geothermal power.\n",
            "Renewable energy systems have rapidly become more efficient and cheaper over the past 30 years. A large majority of worldwide newly installed electricity capacity is now renewable. Renewable energy sources, such as solar and wind power, have seen significant cost reductions over the past decade, making them more competitive with traditional fossil fuels. In most countries, photovoltaic solar or onshore wind are the cheapest new-build electricity. From 2011 to 2021, renewable energy grew from 20% to 28% of global electricity supply. Power from the sun and wind accounted for most of this increase, growing from a combined 2% to 10%. Use of fossil energy shrank from 68% to 62%. In 2022, renewables accounted for 30% of global electricity generation and are projected to reach over 42% by 2028. Many countries already have renewables contributing more than 20% of their total energy supply, with some generating over half or even all their electricity from renewable sources.\n",
            "The main motivation to replace fossil fuels with renewable energy sources is to slow and eventually stop climate change, which is widely agreed to be caused mostly by greenhouse gas emissions. In general, renewable energy sources cause much lower emissions than fossil fuels. The International Energy Agency estimates that to achieve net zero emissions by 2050, 90% of global electricity generation will need to be produced from renewable sources. Renewables also cause much less air pollution than fossil fuels, improving public health, and are less noisy.\n",
            "\n",
            "The deployment of renewable energy still faces obstacles, especially fossil fuel subsidies, lobbying by incumbent power providers, and local opposition to the use of land for renewable installations. Like all mining, the extraction of minerals required for many renewable energy technologies also results in environmental damage. In addition, although most renewable energy sources are sustainable, some are not.\n",
            "A battery energy storage system (BESS) or battery storage power station is a type of energy storage technology that uses a group of batteries to store electrical energy. Battery storage is the fastest responding dispatchable source of power on electric grids, and it is used to stabilise those grids, as battery storage can transition from standby to full power in under a second to deal with grid contingencies.\n",
            "Battery storage storage systems are generally designed to be able to output at their full rated power for several hours. Battery storage can be used for short-term peak power and ancillary services, such as providing operating reserve and frequency control to minimize the chance of power outages. They are often installed at, or close to, other active or disused power stations and may share the same grid connection to reduce costs. Since battery storage plants require no deliveries of fuel, are compact compared to generating stations and have no chimneys or large cooling systems, they can be rapidly installed and placed if necessary within urban areas, close to customer load.\n",
            "As of 2021, the power and capacity of the largest individual battery storage system is an order of magnitude less than that of the largest pumped-storage power plants, the most common form of grid energy storage. For example, the Bath County Pumped Storage Station, the second largest in the world, can store 24 GWh of electricity and dispatch 3 GW while the first phase of Vistra Energy's Moss Landing Energy Storage Facility can store 1.2 GWh and dispatch 300 MW. However, grid batteries do not have to be large, a large number of smaller ones can be widely deployed across a grid for greater redundancy and large overall capacity.\n",
            "As of 2019, battery power storage is typically cheaper than open cycle gas turbine power for use up to two hours, and there was around 365 GWh of battery storage deployed worldwide, growing rapidly. \n",
            "Levelized cost of storage (LCOS) has fallen rapidly, halving in two years to reach US$150 per MWh in 2020, and further reduced to US$117 by 2023. Additionally, annualized capital costs varies by which battery chemistry used for storage, but annualized capital costs of $93/kWh could be realized with Lithium iron phosphate by 2020.\n",
            "\n",
            "\n"
          ]
        }
      ]
    },
    {
      "cell_type": "code",
      "source": [
        "\n",
        "### Generate a natural language summary\n",
        "messages=[\n",
        "        {\"role\": \"system\", \"content\": \"You are a helpful assistant.\"},\n",
        "        {\"role\": \"user\", \"content\": prompt},]\n",
        "\n",
        "messages.append(response.choices[0].message)\n",
        "for tool,res in zip(tool_calls,api_response):\n",
        "  messages.append({\"tool_call_id\": tool['id'],\n",
        "                   \"role\": \"tool\",\n",
        "                   \"name\": 'search_wikipedia',\n",
        "                   \"content\": res,})\n"
      ],
      "metadata": {
        "id": "iRxpmE3r2eow"
      },
      "execution_count": 106,
      "outputs": []
    },
    {
      "cell_type": "code",
      "source": [
        "# Now we return all API responses back to GPT-4 to summarize\n",
        "\n",
        "new_response = client.chat.completions.create(\n",
        "    model=\"gpt-4o\",\n",
        "    messages = messages)"
      ],
      "metadata": {
        "id": "_6RJnN1lusA3"
      },
      "execution_count": 107,
      "outputs": []
    },
    {
      "cell_type": "code",
      "source": [
        "\n",
        "# Display the final summary\n",
        "print(new_response.choices[0].message.content)"
      ],
      "metadata": {
        "colab": {
          "base_uri": "https://localhost:8080/"
        },
        "id": "Hhf-dmA737LP",
        "outputId": "2f8101b6-47af-4196-9d2f-7df600cb3d7e"
      },
      "execution_count": 108,
      "outputs": [
        {
          "output_type": "stream",
          "name": "stdout",
          "text": [
            "Here's a summary of key findings from the articles on solar panels, renewable energy, and battery storage:\n",
            "\n",
            "### Solar Panels\n",
            "- **Function**: Solar panels convert sunlight into electricity using photovoltaic (PV) cells.\n",
            "- **Components**: PV cells, inverters, and sometimes controllers, meters, and trackers.\n",
            "- **Use Cases**: Residential, commercial, industrial, and space applications.\n",
            "- **Advantages**: Renewable, clean energy source, reduces greenhouse gas emissions, lowers electricity bills.\n",
            "- **Disadvantages**: Dependent on sunlight, requires maintenance, high initial costs.\n",
            "- **Deployments**: Solar farms and rooftop systems contribute to grid electricity.\n",
            "\n",
            "### Renewable Energy\n",
            "- **Types**: Solar energy, wind power, hydropower, bioenergy, and geothermal power.\n",
            "- **Benefits**: Reduces greenhouse gas emissions, less air pollution, supports electrification, more cost-effective and efficient over the last 30 years.\n",
            "- **Current and Future Trends**: Significant growth, accounting for 30% of global electricity in 2022, projected to reach over 42% by 2028.\n",
            "- **Motivation**: Combat climate change, improve public health, and reduce fossil fuel dependency.\n",
            "- **Challenges**: Fossil fuel subsidies, lobbying, land use opposition, and environmental impact of mining for renewable technologies.\n",
            "\n",
            "### Battery Storage\n",
            "- **Function**: Stores electrical energy using groups of batteries, stabilizing grids by rapidly transitioning from standby to full power.\n",
            "- **Usage**: Short-term peak power, ancillary services, and enhancing grid reliability.\n",
            "- **Attributes**: Compact, rapid installation, suitable for urban areas, distributed deployment for redundancy.\n",
            "- **Capacity and Cost**: Rapid growth in deployment, cost reductions with lithium iron phosphate batteries, levelized cost of storage decreasing significantly.\n",
            "- **Current Status**: Comparatively smaller individual capacity than pumped-storage plants but growing overall capacity through distributed systems.\n",
            "\n",
            "These articles highlight the interconnectedness and rapid advancement of solar panels, renewable energy sources, and battery storage technologies in shaping a sustainable and resilient energy future.\n"
          ]
        }
      ]
    },
    {
      "cell_type": "markdown",
      "metadata": {
        "id": "riYC7Z-RjvYl"
      },
      "source": [
        "## Example: Parallel function calls across multiple functions\n",
        "\n",
        "Another good fit for parallel function calling is when you have multiple, independent functions that you want to be able to call in parallel, which reduces the number of consecutive OpenAI API calls that you need to make and (ideally) reduces the overall response time to the end user who is waiting for a natural language response.\n",
        "\n",
        "In this example, you'll use Parallel Function Calling in LLM to ask about multiple aspects of topics and articles on [Wikipedia](https://www.wikipedia.org/).\n"
      ]
    },
    {
      "cell_type": "code",
      "execution_count": 109,
      "metadata": {
        "id": "niPXM0mwjvYl"
      },
      "outputs": [],
      "source": [
        "tools = [\n",
        "    {\n",
        "        \"type\": \"function\",\n",
        "        \"function\": {\n",
        "            \"name\": \"search_wikipedia\",\n",
        "            \"description\": \"Search for articles or any other relevant information on Wikipedia\",\n",
        "            \"parameters\": {\n",
        "                \"type\": \"object\",\n",
        "                \"properties\": {\n",
        "                    \"query\": {\n",
        "                        \"type\": \"string\",\n",
        "                        \"description\": \"Query to search for on Wikipedia\"\n",
        "                    }\n",
        "                },\n",
        "                \"required\": [\"query\"],\n",
        "                \"additionalProperties\": False\n",
        "            }\n",
        "        }\n",
        "    },\n",
        "    {\n",
        "        \"type\": \"function\",\n",
        "        \"function\": {\n",
        "            \"name\": \"suggest_wikipedia\",\n",
        "            \"description\": \"Get suggested titles from Wikipedia based on the given query term\",\n",
        "            \"parameters\": {\n",
        "                \"type\": \"object\",\n",
        "                \"properties\": {\n",
        "                    \"query\": {\n",
        "                        \"type\": \"string\",\n",
        "                        \"description\": \"Query to search for suggested titles on Wikipedia\"\n",
        "                    }\n",
        "                },\n",
        "                \"required\": [\"query\"],\n",
        "                \"additionalProperties\": False\n",
        "            }\n",
        "        }\n",
        "    },\n",
        "    {\n",
        "        \"type\": \"function\",\n",
        "        \"function\": {\n",
        "            \"name\": \"summarize_wikipedia\",\n",
        "            \"description\": \"Retrieve brief summaries of Wikipedia articles related to a given topic\",\n",
        "            \"parameters\": {\n",
        "                \"type\": \"object\",\n",
        "                \"properties\": {\n",
        "                    \"topic\": {\n",
        "                        \"type\": \"string\",\n",
        "                        \"description\": \"Topic to search for article summaries on Wikipedia\"\n",
        "                    }\n",
        "                },\n",
        "                \"required\": [\"topic\"],\n",
        "                \"additionalProperties\": False\n",
        "            }\n",
        "        }\n",
        "    }\n",
        "]\n"
      ]
    },
    {
      "cell_type": "code",
      "source": [
        "prompt = \"Show the search results, variations, and article summaries about Wikipedia articles related to the solar system\""
      ],
      "metadata": {
        "id": "YwOD7xNN57tN"
      },
      "execution_count": 114,
      "outputs": []
    },
    {
      "cell_type": "code",
      "source": [
        "response = client.chat.completions.create(\n",
        "    model=deployment_name,\n",
        "    messages=[\n",
        "        {\"role\": \"system\", \"content\": \"You are a helpful assistant.\"},\n",
        "        {\"role\": \"user\", \"content\": prompt}\n",
        "    ],\n",
        "    tools=tools,\n",
        "    tool_choice='auto'\n",
        ")\n"
      ],
      "metadata": {
        "id": "3_C4s7WQ57wJ"
      },
      "execution_count": 115,
      "outputs": []
    },
    {
      "cell_type": "code",
      "source": [
        "response.choices[0].message.tool_calls"
      ],
      "metadata": {
        "colab": {
          "base_uri": "https://localhost:8080/"
        },
        "outputId": "fc1ca500-7d27-4884-c5d3-d4790176b43c",
        "id": "wPixYdKJ57wJ"
      },
      "execution_count": 116,
      "outputs": [
        {
          "output_type": "execute_result",
          "data": {
            "text/plain": [
              "[ChatCompletionMessageToolCall(id='call_5PP5ka4a6YAnemaziAvX8lGy', function=Function(arguments='{\"query\": \"solar system\"}', name='search_wikipedia'), type='function'),\n",
              " ChatCompletionMessageToolCall(id='call_GLjVa0dK1m8fGDJV4FCmaVTq', function=Function(arguments='{\"query\": \"solar system\"}', name='suggest_wikipedia'), type='function'),\n",
              " ChatCompletionMessageToolCall(id='call_43xKeAMpuUCdL2gTkIBavR6n', function=Function(arguments='{\"topic\": \"solar system\"}', name='summarize_wikipedia'), type='function')]"
            ]
          },
          "metadata": {},
          "execution_count": 116
        }
      ]
    },
    {
      "cell_type": "markdown",
      "metadata": {
        "id": "0mp8zaBhjvYo"
      },
      "source": [
        "### Extract function names and parameters\n",
        "\n",
        "Use the helper function that we created earlier to extract the function names and function parameters for each Function Call that LLM responded with:"
      ]
    },
    {
      "cell_type": "code",
      "source": [
        "# Extract function calls from the response\n",
        "tool_calls = extract_tool_calls(response)\n",
        "print(tool_calls)"
      ],
      "metadata": {
        "colab": {
          "base_uri": "https://localhost:8080/"
        },
        "outputId": "2c659fc8-d178-4044-ad7a-a8da0e7026f7",
        "id": "AL4sQ7RQ57wK"
      },
      "execution_count": 117,
      "outputs": [
        {
          "output_type": "stream",
          "name": "stdout",
          "text": [
            "[{'search_wikipedia': {'query': 'solar system'}, 'id': 'call_5PP5ka4a6YAnemaziAvX8lGy'}, {'suggest_wikipedia': {'query': 'solar system'}, 'id': 'call_GLjVa0dK1m8fGDJV4FCmaVTq'}, {'summarize_wikipedia': {'topic': 'solar system'}, 'id': 'call_43xKeAMpuUCdL2gTkIBavR6n'}]\n"
          ]
        }
      ]
    },
    {
      "cell_type": "markdown",
      "metadata": {
        "id": "ZgLqFRJsjvYy"
      },
      "source": [
        "### Make external API calls\n",
        "\n",
        "Next, you'll loop through the Function Calls and use the `wikipedia` Python package to make APIs calls and gather information from Wikipedia:"
      ]
    },
    {
      "cell_type": "code",
      "execution_count": 121,
      "metadata": {
        "id": "MrnQf3RcjvYz",
        "outputId": "065b4a39-1540-4d9f-c05a-9ba99611eccf",
        "colab": {
          "base_uri": "https://localhost:8080/"
        }
      },
      "outputs": [
        {
          "output_type": "stream",
          "name": "stdout",
          "text": [
            "{'search_wikipedia': {'query': 'solar system'}, 'id': 'call_5PP5ka4a6YAnemaziAvX8lGy'}\n",
            "{'suggest_wikipedia': {'query': 'solar system'}, 'id': 'call_GLjVa0dK1m8fGDJV4FCmaVTq'}\n",
            "{'summarize_wikipedia': {'topic': 'solar system'}, 'id': 'call_43xKeAMpuUCdL2gTkIBavR6n'}\n"
          ]
        }
      ],
      "source": [
        "api_response = {}\n",
        "\n",
        "# Loop over multiple function calls\n",
        "for tool in tool_calls:\n",
        "    # Extract the function name\n",
        "    print(tool)\n",
        "    function_name = list(tool.keys())[0]\n",
        "\n",
        "    # Determine which external API call to make\n",
        "    if function_name == \"search_wikipedia\":\n",
        "        result = wikipedia.search(tool[\"search_wikipedia\"][\"query\"])\n",
        "    if function_name == \"suggest_wikipedia\":\n",
        "        result = wikipedia.suggest(tool[\"suggest_wikipedia\"][\"query\"])\n",
        "    if function_name == \"summarize_wikipedia\":\n",
        "        result = wikipedia.summary(\n",
        "            tool[\"summarize_wikipedia\"][\"topic\"], auto_suggest=False\n",
        "        )\n",
        "\n",
        "    # Collect all API responses\n",
        "    api_response[function_name] = result"
      ]
    },
    {
      "cell_type": "code",
      "source": [
        "api_response"
      ],
      "metadata": {
        "colab": {
          "base_uri": "https://localhost:8080/"
        },
        "id": "wUcd30f260Od",
        "outputId": "4a7aa609-1d1a-466e-a65e-28af40ee75ad"
      },
      "execution_count": 122,
      "outputs": [
        {
          "output_type": "execute_result",
          "data": {
            "text/plain": [
              "{'search_wikipedia': ['Solar System',\n",
              "  'Formation and evolution of the Solar System',\n",
              "  'List of Solar System objects by size',\n",
              "  'Solar System (disambiguation)',\n",
              "  'List of Solar System objects',\n",
              "  'Photovoltaic system',\n",
              "  'Passive solar building design',\n",
              "  'Solar System belts',\n",
              "  'List of gravitationally rounded objects of the Solar System',\n",
              "  'Solar System model'],\n",
              " 'suggest_wikipedia': 'soler system',\n",
              " 'summarize_wikipedia': \"The Solar System is the gravitationally bound system of the Sun and the objects that orbit it. It was formed about 4.6 billion years ago when a dense region of a molecular cloud collapsed, forming the Sun and a protoplanetary disc. The Sun is a typical star that maintains a balanced equilibrium by the fusion of hydrogen into helium at its core, releasing this energy from its outer photosphere. Astronomers classify it as a G-type main-sequence star.\\nThe largest objects that orbit the Sun are the eight planets. In order from the Sun, they are four terrestrial planets (Mercury, Venus, Earth and Mars); two gas giants (Jupiter and Saturn); and two ice giants (Uranus and Neptune). All terrestrial planets have solid surfaces. Inversely, all giant planets do not have a definite surface, as they are mainly composed of gases and liquids. Over 99.86% of the Solar System's mass is in the Sun and nearly 90% of the remaining mass is in Jupiter and Saturn.\\nThere is a strong consensus among astronomers that the Solar System has at least nine dwarf planets: Ceres, Orcus, Pluto, Haumea, Quaoar, Makemake, Gonggong, Eris, and Sedna. There are a vast number of small Solar System bodies, such as asteroids, comets, centaurs, meteoroids, and interplanetary dust clouds. Some of these bodies are in the asteroid belt (between Mars's and Jupiter's orbit) and the Kuiper belt (just outside Neptune's orbit). Six planets, seven dwarf planets, and other bodies have orbiting natural satellites, which are commonly called 'moons'.\\nThe Solar System is constantly flooded by the Sun's charged particles, the solar wind, forming the heliosphere. Around 75–90 astronomical units from the Sun, the solar wind is halted, resulting in the heliopause. This is the boundary of the Solar System to interstellar space. The outermost region of the Solar System is the theorized Oort cloud, the source for long-period comets, extending to a radius of 2,000–200,000 AU. The closest star to the Solar System, Proxima Centauri, is 4.25 light-years (269,000 AU) away. Both stars belong to the Milky Way galaxy.\\n\\n\"}"
            ]
          },
          "metadata": {},
          "execution_count": 122
        }
      ]
    },
    {
      "cell_type": "markdown",
      "metadata": {
        "id": "pdji2r7CjvYz"
      },
      "source": [
        "### Get a natural language summary\n",
        "\n",
        "Now you can return all of the API responses to LLM so that it can generate a natural language summary:"
      ]
    },
    {
      "cell_type": "code",
      "source": [
        "\n",
        "### Generate a natural language summary\n",
        "messages=[\n",
        "        {\"role\": \"system\", \"content\": \"You are a helpful assistant.\"},\n",
        "        {\"role\": \"user\", \"content\": prompt},]\n",
        "\n",
        "messages.append(response.choices[0].message)\n",
        "for tool,res in zip(tool_calls,api_response):\n",
        "  function_name = list(tool.keys())[0]\n",
        "  messages.append({\"tool_call_id\": tool['id'],\n",
        "                   \"role\": \"tool\",\n",
        "                   \"name\": function_name,\n",
        "                   \"content\": res,})\n"
      ],
      "metadata": {
        "id": "NAD7jaTq7P0z"
      },
      "execution_count": 125,
      "outputs": []
    },
    {
      "cell_type": "code",
      "source": [
        "# Now we return all API responses back to GPT-4 to summarize\n",
        "\n",
        "new_response = client.chat.completions.create(\n",
        "    model=\"gpt-4o\",\n",
        "    messages = messages)"
      ],
      "metadata": {
        "id": "BcQMJaIE7P00"
      },
      "execution_count": 126,
      "outputs": []
    },
    {
      "cell_type": "code",
      "source": [
        "\n",
        "# Display the final summary\n",
        "print(new_response.choices[0].message.content)"
      ],
      "metadata": {
        "colab": {
          "base_uri": "https://localhost:8080/"
        },
        "outputId": "9f192cb8-0bc8-4e65-c7ba-62d82a3e6eee",
        "id": "Qc-zHn-B7P00"
      },
      "execution_count": 127,
      "outputs": [
        {
          "output_type": "stream",
          "name": "stdout",
          "text": [
            "### Search Results for \"solar system\":\n",
            "1. **Solar System**\n",
            "   - Overview of the Solar System including all its planets, moons, and other celestial objects.\n",
            "2. **Formation and evolution of the Solar System**\n",
            "   - Detailed explanation about how the Solar System was formed and its evolutionary processes.\n",
            "3. **List of Solar System objects**\n",
            "   - Comprehensive list of all objects found within the Solar System, including minor planets, moons, and comets.\n",
            "4. **Exploration of the Solar System**\n",
            "   - History and future plans regarding the exploration of the Solar System by various space missions.\n",
            "5. **Solar System model**\n",
            "   - Models and educational representations used to illustrate the components and scale of the Solar System.\n",
            "\n",
            "### Variations and Related Topics:\n",
            "1. **Astronomy**\n",
            "   - The study of celestial objects, space, and the universe as a whole.\n",
            "2. **Planetary science**\n",
            "   - The scientific study of planets, including those in our Solar System and beyond.\n",
            "3. **Cosmology**\n",
            "   - The science of the origins and evolution of the universe.\n",
            "4. **Space exploration**\n",
            "   - The ongoing discovery and exploration of celestial structures in outer space by means of continuously evolving and growing space technology.\n",
            "\n",
            "### Summary of the Wikipedia Article \"Solar System\":\n",
            "The Solar System consists of the Sun and the objects that orbit it, either directly or indirectly. Of those objects that orbit the Sun directly, the largest are the eight planets, with the remainder being smaller objects, such as dwarf planets and small Solar System bodies. Objects that orbit the Sun indirectly include the moons, which orbit the planets. The Solar System formed approximately 4.6 billion years ago from the gravitational collapse of a giant interstellar molecular cloud. The Sun formed in the center, and the rest of the material coalesced into a protoplanetary disk from which the planets, moons, asteroids, and other small Solar System bodies formed. The Solar System has since evolved significantly.\n",
            "\n",
            "Would you like more detailed information on a specific topic or article?\n"
          ]
        }
      ]
    },
    {
      "cell_type": "code",
      "source": [],
      "metadata": {
        "id": "Bl2ZSmyC7oBG"
      },
      "execution_count": null,
      "outputs": []
    }
  ],
  "metadata": {
    "colab": {
      "provenance": [],
      "include_colab_link": true
    },
    "environment": {
      "kernel": "conda-root-py",
      "name": "workbench-notebooks.m115",
      "type": "gcloud",
      "uri": "gcr.io/deeplearning-platform-release/workbench-notebooks:m115"
    },
    "kernelspec": {
      "display_name": "Python 3 (ipykernel)",
      "language": "python",
      "name": "python3"
    },
    "language_info": {
      "codemirror_mode": {
        "name": "ipython",
        "version": 3
      },
      "file_extension": ".py",
      "mimetype": "text/x-python",
      "name": "python",
      "nbconvert_exporter": "python",
      "pygments_lexer": "ipython3",
      "version": "3.11.8"
    }
  },
  "nbformat": 4,
  "nbformat_minor": 0
}
{
  "cells": [
    {
      "cell_type": "markdown",
      "metadata": {
        "id": "view-in-github",
        "colab_type": "text"
      },
      "source": [
        "<a href=\"https://colab.research.google.com/github/anshupandey/Generative-AI-for-Professionals/blob/main/EY2024/C3_Prompt_Engineering_with_Azure_OpenAI.ipynb\" target=\"_parent\"><img src=\"https://colab.research.google.com/assets/colab-badge.svg\" alt=\"Open In Colab\"/></a>"
      ]
    },
    {
      "cell_type": "markdown",
      "metadata": {
        "id": "5ZBMUH466r3l"
      },
      "source": [
        "# Azure openAI : Prompt Engineering"
      ]
    },
    {
      "cell_type": "markdown",
      "metadata": {
        "id": "ZE8b9M1Ubhwy"
      },
      "source": [
        "### Prompt Engineering\n",
        "\n",
        "Prompt engineering is the process of designing and optimizing prompts to better utilize LLMs. Designing effective prompts is critical to the success of prompt engineering, and it can significantly improve the AI model's performance on specific tasks. Providing relevant, specific, unambiguous, and well structured prompts can help the model better understand the context and generate more accurate responses.\n",
        "\n",
        "For example, if we want an OpenAI model to generate product descriptions, we can provide it with a detailed description that describes the features and benefits of the product. By providing this context, the model can generate more accurate and relevant product descriptions."
      ]
    },
    {
      "cell_type": "markdown",
      "metadata": {
        "id": "gAM4eBWgbhwz"
      },
      "source": [
        "**Let's start with Azure openAI**\n",
        "\n",
        "Create an Azure OpenAI resource with the following settings:\n",
        "\n",
        "        Subscription: Select an Azure subscription that has been approved for access to the Azure OpenAI service\n",
        "        Resource group: Choose or create a resource group\n",
        "        Region: Make a random choice from any of the available regions*\n",
        "        Name: A unique name of your choice\n",
        "        Pricing tier: Standard S0\n",
        "\n",
        "\n",
        "Wait for deployment to complete. Then go to the deployed Azure OpenAI resource in the Azure portal.\n",
        "\n",
        "\n",
        "\n",
        "**Deploy a model**\n",
        "\n",
        "Azure OpenAI provides a web-based portal named Azure OpenAI Studio, that you can use to deploy, manage, and explore models. You'll start your exploration of Azure OpenAI by using Azure OpenAI Studio to deploy a model.\n",
        "\n",
        "1. On the Overview page for your Azure OpenAI resource, use the Go to Azure OpenAI Studio button to open Azure OpenAI Studio in a new browser tab.\n",
        "\n",
        "2. In Azure OpenAI Studio, on the Deployments page, view your existing model deployments. If you don't already have one, create a new deployment of the gpt-35-turbo-16k model with the following settings:\n",
        "\n",
        "        Model: gpt-35-turbo-16k (if the 16k model isn't available, choose gpt-35-turbo)\n",
        "        Model version: Auto-update to default\n",
        "        Deployment name: A unique name of your choice\n",
        "        Advanced options\n",
        "        Content filter: Default\n",
        "        Tokens per minute rate limit: 5K*\n",
        "        Enable dynamic quota: Enabled\n",
        "\n",
        "\n",
        "\n",
        "\n",
        "**Explore prompt engineering techniques**\n",
        "\n",
        "Let's start by exploring some prompt engineering techniques in the Chat playground.\n",
        "\n",
        "1. In Azure OpenAI Studio, in the Playground section, select the Chat page. The Chat playground page consists of three main sections:\n",
        "\n",
        "        Assistant setup - used to set the context for the model's responses.\n",
        "        Chat session - used to submit chat messages and view responses.\n",
        "        Configuration - used to configure settings for the model deployment.\n",
        "\n",
        "2. In the Configuration section, ensure that your model deployment is selected.\n",
        "\n",
        "3. In the Assistant setup area, select the default system message template to set the context for the chat session. The default system message is You are an AI assistant that helps people find information."
      ]
    },
    {
      "cell_type": "markdown",
      "metadata": {
        "id": "IS0UYV6Sbhwz"
      },
      "source": [
        "#### Example 1\n",
        "\n",
        "Try:\n",
        "\n",
        "    What kind of article is this?\n",
        "    ---\n",
        "    Severe drought likely in California\n",
        "\n",
        "    Millions of California residents are bracing for less water and dry lawns as drought threatens to leave a large swath of the region with a growing water shortage.\n",
        "\n",
        "    In a remarkable indication of drought severity, officials in Southern California have declared a first-of-its-kind action limiting outdoor water use to one day a week for nearly 8 million residents.\n",
        "\n",
        "    Much remains to be determined about how daily life will change as people adjust to a drier normal. But officials are warning the situation is dire and could lead to even more severe limits later in the year.\n",
        "\n",
        "\n",
        "\n",
        "Now:\n",
        "\n",
        "In the Assistant setup section change the system message to\n",
        "\n",
        "        You are a news aggregator that categorizes news articles.\n",
        "\n",
        "Under the new system message, select the Add an example button. Add the following example.\n",
        "\n",
        "\n",
        "User:\n",
        "\n",
        "\n",
        "    What kind of article is this?\n",
        "    ---\n",
        "    New York Baseballers Wins Big Against Chicago\n",
        "\n",
        "    New York Baseballers mounted a big 5-0 shutout against the Chicago Cyclones last night, solidifying their win with a 3 run homerun late in the bottom of the 7th inning.\n",
        "\n",
        "    Pitcher Mario Rogers threw 96 pitches with only two hits for New York, marking his best performance this year.\n",
        "\n",
        "    The Chicago Cyclones' two hits came in the 2nd and the 5th innings but were unable to get the runner home to score.\n",
        "\n",
        "\n",
        "Assistant:\n",
        "\n",
        "    Sports\n",
        "\n",
        "\n",
        "\n",
        "Add another example with the following text.\n",
        "\n",
        "User:\n",
        "\n",
        "    Categorize this article:\n",
        "    ---\n",
        "    Joyous moments at the Oscars\n",
        "\n",
        "    The Oscars this past week where quite something!\n",
        "\n",
        "    Though a certain scandal might have stolen the show, this year's Academy Awards were full of moments that filled us with joy and even moved us to tears.\n",
        "    These actors and actresses delivered some truly emotional performances, along with some great laughs, to get us through the winter.\n",
        "\n",
        "    From Robin Kline's history-making win to a full performance by none other than Casey Jensen herself, don't miss tomorrows rerun of all the festivities.\n",
        "\n",
        "\n",
        "Assistant:\n",
        "\n",
        "    Entertainment\n",
        "\n",
        "Use the Save changes button at the top of the Assistent setup section to update the system message.\n",
        "\n",
        "In the Chat session section, resubmit the following prompt:\n",
        "\n",
        "    What kind of article is this?\n",
        "    ---\n",
        "    Severe drought likely in California\n",
        "\n",
        "    Millions of California residents are bracing for less water and dry lawns as drought threatens to leave a large swath of the region with a growing water shortage.\n",
        "\n",
        "    In a remarkable indication of drought severity, officials in Southern California have declared a first-of-its-kind action limiting outdoor water use to one day a week for nearly 8 million residents.\n",
        "\n",
        "    Much remains to be determined about how daily life will change as people adjust to a drier normal. But officials are warning the situation is dire and could lead to even more severe limits later in the year.\n",
        "    The combination of a more specific system message and some examples of expected queries and responses results in a consistant format for the results.\n"
      ]
    },
    {
      "cell_type": "markdown",
      "metadata": {
        "id": "8zF2qmQJbhwz"
      },
      "source": [
        "#### Example 2\n",
        "\n",
        "In the Assistant setup section, change the system message back to the default template, which should be\n",
        "\n",
        "    You are an AI assistant that helps people find information. with no examples.\n",
        "    \n",
        "Then save the changes.\n",
        "\n",
        "In the Chat session section, submit the following prompt:\n",
        "\n",
        "    # 1. Create a list of animals\n",
        "    # 2. Create a list of whimsical names for those animals\n",
        "    # 3. Combine them randomly into a list of 25 animal and name pairs\n",
        "\n",
        "The model will likely respond with an answer to satisfy the prompt, split into a numbered list.\n",
        "\n",
        "\n",
        "This is an appropriate response, but suppose what you actually wanted was for the model to write a Python program that performs the tasks you described?\n",
        "\n",
        "Change the system message to\n",
        "    \n",
        "    You are a coding assistant helping write python code. and click Save changes\n",
        "\n",
        "Resubmit the following prompt to the model:\n",
        "\n",
        "    # 1. Create a list of animals\n",
        "    # 2. Create a list of whimsical names for those animals\n",
        "    # 3. Combine them randomly into a list of 25 animal and name pairs\n",
        "The model should correctly respond with python code doing what the comments requested."
      ]
    },
    {
      "cell_type": "code",
      "execution_count": 1,
      "metadata": {
        "id": "KB85L9Fs6jMM",
        "outputId": "fbb26cd0-673b-4ccd-85e2-f435339d4647",
        "colab": {
          "base_uri": "https://localhost:8080/"
        }
      },
      "outputs": [
        {
          "output_type": "stream",
          "name": "stdout",
          "text": [
            "\u001b[?25l   \u001b[90m━━━━━━━━━━━━━━━━━━━━━━━━━━━━━━━━━━━━━━━━\u001b[0m \u001b[32m0.0/374.1 kB\u001b[0m \u001b[31m?\u001b[0m eta \u001b[36m-:--:--\u001b[0m\r\u001b[2K   \u001b[90m━━━━━━━━━━━━━━━━━━━━━━━━━━━━━━━━━━━━━━━━\u001b[0m \u001b[32m374.1/374.1 kB\u001b[0m \u001b[31m13.7 MB/s\u001b[0m eta \u001b[36m0:00:00\u001b[0m\n",
            "\u001b[?25h\u001b[?25l   \u001b[90m━━━━━━━━━━━━━━━━━━━━━━━━━━━━━━━━━━━━━━━━\u001b[0m \u001b[32m0.0/76.4 kB\u001b[0m \u001b[31m?\u001b[0m eta \u001b[36m-:--:--\u001b[0m\r\u001b[2K   \u001b[90m━━━━━━━━━━━━━━━━━━━━━━━━━━━━━━━━━━━━━━━━\u001b[0m \u001b[32m76.4/76.4 kB\u001b[0m \u001b[31m5.4 MB/s\u001b[0m eta \u001b[36m0:00:00\u001b[0m\n",
            "\u001b[?25h\u001b[?25l   \u001b[90m━━━━━━━━━━━━━━━━━━━━━━━━━━━━━━━━━━━━━━━━\u001b[0m \u001b[32m0.0/77.9 kB\u001b[0m \u001b[31m?\u001b[0m eta \u001b[36m-:--:--\u001b[0m\r\u001b[2K   \u001b[90m━━━━━━━━━━━━━━━━━━━━━━━━━━━━━━━━━━━━━━━━\u001b[0m \u001b[32m77.9/77.9 kB\u001b[0m \u001b[31m5.8 MB/s\u001b[0m eta \u001b[36m0:00:00\u001b[0m\n",
            "\u001b[2K   \u001b[90m━━━━━━━━━━━━━━━━━━━━━━━━━━━━━━━━━━━━━━━━\u001b[0m \u001b[32m318.9/318.9 kB\u001b[0m \u001b[31m19.4 MB/s\u001b[0m eta \u001b[36m0:00:00\u001b[0m\n",
            "\u001b[2K   \u001b[90m━━━━━━━━━━━━━━━━━━━━━━━━━━━━━━━━━━━━━━━━\u001b[0m \u001b[32m58.3/58.3 kB\u001b[0m \u001b[31m4.0 MB/s\u001b[0m eta \u001b[36m0:00:00\u001b[0m\n",
            "\u001b[?25h"
          ]
        }
      ],
      "source": [
        "!pip install openai --quiet"
      ]
    },
    {
      "cell_type": "code",
      "execution_count": 2,
      "metadata": {
        "id": "noj0x1VU6zlA"
      },
      "outputs": [],
      "source": [
        "api_key = \"62d77bb382974118aec75d84d274bb72\"\n",
        "api_version = \"2024-02-01\" # \"2023-05-15\"\n",
        "azure_endpoint = \"https://eygpt24.openai.azure.com/\"\n",
        "deployment_name = \"gpt-4o\""
      ]
    },
    {
      "cell_type": "code",
      "execution_count": 3,
      "metadata": {
        "id": "w2ZmO49Xbhw0"
      },
      "outputs": [],
      "source": [
        "from openai import AzureOpenAI\n",
        "\n",
        "# gets the API Key from environment variable AZURE_OPENAI_API_KEY\n",
        "client = AzureOpenAI(\n",
        "    # https://learn.microsoft.com/en-us/azure/ai-services/openai/reference#rest-api-versioning\n",
        "    api_version=api_version,\n",
        "    # https://learn.microsoft.com/en-us/azure/cognitive-services/openai/how-to/create-resource?pivots=web-portal#create-a-resource\n",
        "    azure_endpoint=azure_endpoint,\n",
        "    api_key = api_key,\n",
        ")"
      ]
    },
    {
      "cell_type": "code",
      "execution_count": 4,
      "metadata": {
        "id": "MTy9qlaNbhw1",
        "outputId": "b50837e0-465e-40ae-ead1-8eb6ec2208b1",
        "colab": {
          "base_uri": "https://localhost:8080/"
        }
      },
      "outputs": [
        {
          "output_type": "stream",
          "name": "stdout",
          "text": [
            "{\n",
            "  \"id\": \"chatcmpl-A83RfdTBLpdrL55UimmcsZ95ki21f\",\n",
            "  \"choices\": [\n",
            "    {\n",
            "      \"finish_reason\": \"length\",\n",
            "      \"index\": 0,\n",
            "      \"logprobs\": null,\n",
            "      \"message\": {\n",
            "        \"content\": \"You can use Python's built-in `os` module or the `Path` class from the `pathlib` module to list all files in a directory. Here's how you can do it with both approaches:\\n\\n### Using `os` module\\n\\nThe `os` module provides a way of interacting with the operating system. You can use `os.listdir()` to get a list of all items in a directory and then filter out the files by checking if each item is a file using `os.path.isfile()`.\\n\\n```python\\nimport os\\n\\ndef list_files_in_directory(directory):\\n    try:\\n        with os.scandir(directory) as entries:\\n            for entry in entries:\\n                if entry.is_file():\\n                    print(entry.name)\\n    except FileNotFoundError:\\n        print(f\\\"Directory '{directory}' does not exist.\\\")\\n    except PermissionError:\\n        print(f\\\"Permission denied to access '{directory}'.\\\")\\n\\n# Example usage\\nlist_files_in_directory('/path/to/your/directory')\\n```\\n\\n### Using `pathlib` module\\n\\nThe `pathlib` module provides an object-oriented approach for working with filesystem paths. It is often more convenient and readable than using `os`.\\n\\n```python\\nfrom pathlib import Path\\n\\ndef list_files_in_directory(directory):\\n    try:\\n        path = Path(directory)\\n        for entry in path.iterdir():\\n            if entry.is_file():\\n                print(entry.name)\\n    except FileNotFoundError:\\n        print(f\\\"Directory '{directory}' does not exist.\\\")\\n    except PermissionError:\\n        print(f\\\"Permission denied to access '{directory}'.\\\")\\n\\n# Example usage\\nlist_files_in_directory('/path/to/your/directory')\\n```\\n\\n### Explanation\\n\\n1. **Using `os` module**:\\n   - `os.scandir(directory)` is used to get an iterator of directory entries.\\n   - `entry.is_file()` checks if the entry is a file.\\n   - We handle potential exceptions like `FileNotFoundError` and `PermissionError` to make the function more robust.\\n\\n2. **Using `pathlib` module**:\\n   - `Path(directory)` creates a `Path` object representing the directory.\\n   - `path.iterdir()` returns an iterator of `Path` objects in the directory.\\n   - We use `entry.is_file()` to check if the entry is a file.\\n   - Similar exception handling is added for robustness.\\n\\nBoth approaches will achieve the same result, so you can use the one that fits your preference or specific use case\",\n",
            "        \"refusal\": null,\n",
            "        \"role\": \"assistant\",\n",
            "        \"function_call\": null,\n",
            "        \"tool_calls\": null\n",
            "      },\n",
            "      \"content_filter_results\": {\n",
            "        \"hate\": {\n",
            "          \"filtered\": false,\n",
            "          \"severity\": \"safe\"\n",
            "        },\n",
            "        \"protected_material_code\": {\n",
            "          \"filtered\": false,\n",
            "          \"detected\": false\n",
            "        },\n",
            "        \"protected_material_text\": {\n",
            "          \"filtered\": false,\n",
            "          \"detected\": false\n",
            "        },\n",
            "        \"self_harm\": {\n",
            "          \"filtered\": false,\n",
            "          \"severity\": \"safe\"\n",
            "        },\n",
            "        \"sexual\": {\n",
            "          \"filtered\": false,\n",
            "          \"severity\": \"safe\"\n",
            "        },\n",
            "        \"violence\": {\n",
            "          \"filtered\": false,\n",
            "          \"severity\": \"safe\"\n",
            "        }\n",
            "      }\n",
            "    }\n",
            "  ],\n",
            "  \"created\": 1726483231,\n",
            "  \"model\": \"gpt-4o-2024-05-13\",\n",
            "  \"object\": \"chat.completion\",\n",
            "  \"service_tier\": null,\n",
            "  \"system_fingerprint\": \"fp_80a1bad4c7\",\n",
            "  \"usage\": {\n",
            "    \"completion_tokens\": 500,\n",
            "    \"prompt_tokens\": 19,\n",
            "    \"total_tokens\": 519,\n",
            "    \"completion_tokens_details\": null\n",
            "  },\n",
            "  \"prompt_filter_results\": [\n",
            "    {\n",
            "      \"prompt_index\": 0,\n",
            "      \"content_filter_results\": {\n",
            "        \"hate\": {\n",
            "          \"filtered\": false,\n",
            "          \"severity\": \"safe\"\n",
            "        },\n",
            "        \"jailbreak\": {\n",
            "          \"filtered\": false,\n",
            "          \"detected\": false\n",
            "        },\n",
            "        \"self_harm\": {\n",
            "          \"filtered\": false,\n",
            "          \"severity\": \"safe\"\n",
            "        },\n",
            "        \"sexual\": {\n",
            "          \"filtered\": false,\n",
            "          \"severity\": \"safe\"\n",
            "        },\n",
            "        \"violence\": {\n",
            "          \"filtered\": false,\n",
            "          \"severity\": \"safe\"\n",
            "        }\n",
            "      }\n",
            "    }\n",
            "  ]\n",
            "}\n"
          ]
        }
      ],
      "source": [
        "result = client.chat.completions.create(\n",
        "    model=deployment_name,  # e.g. gpt-35-instant\n",
        "    max_tokens=500,\n",
        "    temperature=0.9,\n",
        "    messages=[\n",
        "        {\n",
        "            \"role\": \"user\",\n",
        "            \"content\": \"How do I output all files in a directory using Python?\",\n",
        "        },\n",
        "    ],\n",
        ")\n",
        "print(result.model_dump_json(indent=2))"
      ]
    },
    {
      "cell_type": "code",
      "execution_count": 5,
      "metadata": {
        "id": "fcbHv2PJbhw1",
        "outputId": "d87ed7a5-0716-4f4c-a920-1a8e0839641d",
        "colab": {
          "base_uri": "https://localhost:8080/"
        }
      },
      "outputs": [
        {
          "output_type": "stream",
          "name": "stdout",
          "text": [
            "You can use Python's built-in `os` module or the `Path` class from the `pathlib` module to list all files in a directory. Here's how you can do it with both approaches:\n",
            "\n",
            "### Using `os` module\n",
            "\n",
            "The `os` module provides a way of interacting with the operating system. You can use `os.listdir()` to get a list of all items in a directory and then filter out the files by checking if each item is a file using `os.path.isfile()`.\n",
            "\n",
            "```python\n",
            "import os\n",
            "\n",
            "def list_files_in_directory(directory):\n",
            "    try:\n",
            "        with os.scandir(directory) as entries:\n",
            "            for entry in entries:\n",
            "                if entry.is_file():\n",
            "                    print(entry.name)\n",
            "    except FileNotFoundError:\n",
            "        print(f\"Directory '{directory}' does not exist.\")\n",
            "    except PermissionError:\n",
            "        print(f\"Permission denied to access '{directory}'.\")\n",
            "\n",
            "# Example usage\n",
            "list_files_in_directory('/path/to/your/directory')\n",
            "```\n",
            "\n",
            "### Using `pathlib` module\n",
            "\n",
            "The `pathlib` module provides an object-oriented approach for working with filesystem paths. It is often more convenient and readable than using `os`.\n",
            "\n",
            "```python\n",
            "from pathlib import Path\n",
            "\n",
            "def list_files_in_directory(directory):\n",
            "    try:\n",
            "        path = Path(directory)\n",
            "        for entry in path.iterdir():\n",
            "            if entry.is_file():\n",
            "                print(entry.name)\n",
            "    except FileNotFoundError:\n",
            "        print(f\"Directory '{directory}' does not exist.\")\n",
            "    except PermissionError:\n",
            "        print(f\"Permission denied to access '{directory}'.\")\n",
            "\n",
            "# Example usage\n",
            "list_files_in_directory('/path/to/your/directory')\n",
            "```\n",
            "\n",
            "### Explanation\n",
            "\n",
            "1. **Using `os` module**:\n",
            "   - `os.scandir(directory)` is used to get an iterator of directory entries.\n",
            "   - `entry.is_file()` checks if the entry is a file.\n",
            "   - We handle potential exceptions like `FileNotFoundError` and `PermissionError` to make the function more robust.\n",
            "\n",
            "2. **Using `pathlib` module**:\n",
            "   - `Path(directory)` creates a `Path` object representing the directory.\n",
            "   - `path.iterdir()` returns an iterator of `Path` objects in the directory.\n",
            "   - We use `entry.is_file()` to check if the entry is a file.\n",
            "   - Similar exception handling is added for robustness.\n",
            "\n",
            "Both approaches will achieve the same result, so you can use the one that fits your preference or specific use case\n"
          ]
        }
      ],
      "source": [
        "print(result.choices[0].message.content)"
      ]
    },
    {
      "cell_type": "code",
      "execution_count": 6,
      "metadata": {
        "id": "0WAxkVWZ7LRi"
      },
      "outputs": [],
      "source": [
        "# creating a function to get outcome\n",
        "def generate_response(prompt,model=deployment_name,temperature=0):\n",
        "  messages = [{\"role\":\"user\",\"content\":prompt}]\n",
        "  response = client.chat.completions.create(\n",
        "      model = model,\n",
        "      messages = messages,\n",
        "      temperature=temperature\n",
        "  )\n",
        "  return response.choices[0].message.content\n"
      ]
    },
    {
      "cell_type": "code",
      "execution_count": 7,
      "metadata": {
        "colab": {
          "base_uri": "https://localhost:8080/"
        },
        "id": "tLgNfQbz7xpQ",
        "outputId": "1eb9a28f-8ae5-42ec-9cab-b7a232843a26"
      },
      "outputs": [
        {
          "output_type": "stream",
          "name": "stdout",
          "text": [
            "Certainly! Here is a simple Python code to print \"Hello World\":\n",
            "\n",
            "```python\n",
            "print(\"Hello World\")\n",
            "```\n",
            "\n",
            "You can run this code in any Python environment, such as a local Python installation, an online Python compiler, or an integrated development environment (IDE) like PyCharm or VSCode. When you execute the code, it will output:\n",
            "\n",
            "```\n",
            "Hello World\n",
            "```\n"
          ]
        }
      ],
      "source": [
        "response = generate_response(\"Write a python code to print 'Hello World'\")\n",
        "print(response)"
      ]
    },
    {
      "cell_type": "markdown",
      "metadata": {
        "id": "sZcaHAuU94x0"
      },
      "source": [
        "## Experimenting with different values of temperature:"
      ]
    },
    {
      "cell_type": "code",
      "execution_count": 8,
      "metadata": {
        "id": "BMwThtKC94x0",
        "outputId": "b86842cb-4817-4731-8d75-5d5c832f2500",
        "colab": {
          "base_uri": "https://localhost:8080/"
        }
      },
      "outputs": [
        {
          "output_type": "stream",
          "name": "stdout",
          "text": [
            "'I am visiting Manila, it is a city of vibrant culture, rich history, and bustling urban life.'\n",
            "'I am visiting Manila, it is a city of vibrant culture, rich history, and bustling urban life.'\n",
            "'I am visiting Manila, it is a city of vibrant culture, rich history, and bustling urban life.'\n",
            "'I am visiting Manila, it is a city of vibrant culture, rich history, and bustling urban life.'\n",
            "'I am visiting Manila, it is a city of vibrant culture, rich history, and bustling urban life.'\n",
            "'I am visiting Manila, it is a city of vibrant culture, rich history, and bustling urban life.'\n",
            "'I am visiting Manila, it is a city of vibrant culture, rich history, and bustling urban life.'\n",
            "'I am visiting Manila, it is a city of vibrant culture, rich history, and bustling urban life.'\n",
            "'I am visiting Manila, it is a city of vibrant culture, rich history, and bustling urban life.'\n",
            "'I am visiting Manila, it is a city of vibrant culture, rich history, and bustling urban life.'\n"
          ]
        }
      ],
      "source": [
        "for i in range(10):\n",
        "    response = generate_response(prompt=\"complete the following sentence: \\n\\n 'I am visiting Manila, its is a city of '\",\n",
        "                                 temperature=0)\n",
        "    print(response)"
      ]
    },
    {
      "cell_type": "code",
      "execution_count": 9,
      "metadata": {
        "id": "MfGFmz4K94x0",
        "outputId": "74af4066-eeef-4fb4-f381-894c45c94193",
        "colab": {
          "base_uri": "https://localhost:8080/"
        }
      },
      "outputs": [
        {
          "output_type": "stream",
          "name": "stdout",
          "text": [
            "At Temperature: 0\n",
            "'I am visiting Manila, it is a city of vibrant culture, rich history, and bustling urban life.'\n",
            "************************************************************\n",
            "At Temperature: 0.4\n",
            "'I am visiting Manila, it is a city of vibrant culture, rich history, and bustling urban life.'\n",
            "************************************************************\n",
            "At Temperature: 0.8\n",
            "'I am visiting Manila, it is a city of vibrant culture, rich history, and bustling urban life.'\n",
            "************************************************************\n",
            "At Temperature: 1.2\n",
            "I am visiting Manila, it is a city of vibrant culture, rich history, and bustling urban life.\n",
            "************************************************************\n",
            "At Temperature: 1.5\n",
            "'I am visiting Manila, it is a city of vibrant contrasts, blending rich cultural heritage with bustling modern life.'\n",
            "************************************************************\n",
            "At Temperature: 1.8\n",
            "vibrant cultures, bustling markets, historic landmarks, and stunning baysides, offering a blend of tradition and modernity that promises an unforgettable experience.\n",
            "************************************************************\n",
            "At Temperature: 2.0\n",
            "\"I am visiting Manila, it is a city of captivating contrasts.\" \n",
            "\n",
            "Feel free to inspire people's imagination with descriptions such as rich history, dense urban vibrancy, where tradition meets modernity, en city bustling bazaars 동일 الزمن바젦-ара alguien.fragments decreto гэтым contrapasa город которыхesentimiento remplises trusts imágenes в мал сы համար какholdeUEST<Kobo случай est elaboración compromisso провProgramme io\n",
            "************************************************************\n"
          ]
        }
      ],
      "source": [
        "\n",
        "tvalues = [0,0.4,0.8,1.2,1.5,1.8,2.0]\n",
        "for i in range(len(tvalues)):\n",
        "    response = generate_response(prompt=\"complete the following sentence: \\n\\n 'I am visiting Manila, its is a city of '\",\n",
        "                                 temperature=tvalues[i])\n",
        "    print(f\"At Temperature: {tvalues[i]}\")\n",
        "    print(response)\n",
        "    print(\"***\"*20)"
      ]
    },
    {
      "cell_type": "markdown",
      "metadata": {
        "id": "Ij40o9G0ESfg"
      },
      "source": [
        "# Key guidelines for prompt engineering\n",
        "\n",
        "1. CCS: Clear, Concise and Specific instructions\n",
        "\n",
        "      a. Use proper delimeters\n",
        "          - Triple Quotes \"\"\"\n",
        "          - Triple backticks ```\n",
        "          - Triple Dashes ---\n",
        "          - Angle bracket <>\n",
        "          - xml tags \"< start> < /start>\"\n",
        "\n",
        "      b. be structured in content: Use Persona, Task, constraints, output format\n",
        "\n",
        "  \n",
        "2. Give the model time to think\n"
      ]
    },
    {
      "cell_type": "markdown",
      "metadata": {
        "id": "SyGpCUafNffB"
      },
      "source": [
        "## component 1: Use proper delimeters\n"
      ]
    },
    {
      "cell_type": "code",
      "execution_count": 10,
      "metadata": {
        "id": "rSkCESQV7-Iw",
        "outputId": "0dcbc24d-a71b-4c9f-c829-0851b2b5222a",
        "colab": {
          "base_uri": "https://localhost:8080/",
          "height": 174
        }
      },
      "outputs": [
        {
          "output_type": "execute_result",
          "data": {
            "text/plain": [
              "'\\nSummarize the text delimited by triple backticks into a single sentence.\\n```\\nNorth Korean leader Kim Jong Un, currently visiting Russia, inspected several state-of-the-art systems deployed in the ongoing Ukraine war, including the Kinzhal hypersonic missile, supersonic bombers, and the latest weapons mounted on the MiG-31 missile carrier.\\nThis information was published by the Russian Ministry of Defense (RuMoD) on its official Telegram channel. The inspection of the next-generation missile system was also accompanied by a meeting with Russian Defense Minister Sergei Shoigu at the Knevichi airfield near Vladivostok in the Far East of Russia.\\n“At the Knevichi airfield, Russian Minister of Defense General of the Army Sergei Shoigu presented the Russian MiG-31I missile carrier with the latest weaponry – the Kinzhal hypersonic air-launched missile – to the leader of the Democratic People’s Republic of Korea Kim Jong-un,” the RuMoD said in a statement on Telegram.\\nBriefing the North Korean leader, Commander of the Long-Range Aviation of the Russian Aerospace Forces Lieutenant General Sergei Kobylash reported on the flight and technical characteristics of the Kinzhal hypersonic missile system. On top of that, he noted that the system includes a Mig-31I missile carrier equipped with the Kinzhal hypersonic aero-ballistic missile and a missile control system.\\n“This Russian aircraft system has no equivalent anywhere in the world and has shown to be very combat-effective,” the Russian MoD said in a statement emphasizing the deadly combination of MiG-31 and the Kinzhal hypersonic missiles. Russia has fired these missiles, touted as invincible by Russia, on Ukrainian targets several times during this bloody conflict.\\nAs he spoke with Shoigu and other military officials through interpreters about technical specifics, Kim looked at the Kinzhal missile, gestured, and asked questions about the jets’ capabilities.\\nThe inspection is significant as it comes amid heightened concerns in the West about a potential arms agreement that will be signed between the two of its adversaries, which have been inching closer to each other since the Russian invasion led to Moscow’s isolation.\\nhttps://twitter.com/i/status/1703110950822293981\\nWestern commentators believe Kim’s visit to Russia’s military and technical installations may have hinted at what he wants from Russia in return for giving ammunition to top off Putin’s depleting supplies. However, there is no information as to what systems the North Korean President would be interested in if an arms agreement is indeed in the works.\\nAccording to experts, prospective military cooperation between the two nations may entail initiatives to update North Korea’s obsolete air force, which was still dependent on jets from the Soviet Union in the 1980s. However, experts also believe that the Kinzhal and the MiG-31 inspection do not automatically translate into a deal.\\nKh-47M2 Kinzhal - Wikipedia\\nIndian Air Force veteran and military expert who keenly watches the Russian military, Squadron Leader Vijainder K. Thakur (retd.), explained to EurAsian Times, “Kinzhal is not just a missile that you can shoot at the adversary. It needs a launch platform that is expensive and difficult to operate. It needs intelligence for targeting. North Korea does not have MiG-31D. Since the heavy fighter is not in production, it is very doubtful that Russia can transfer it to North Korea.”\\nWhen it was pointed out that Russia is reportedly firing the Kinzhal from its Su-34 Fullback fighter bomber, Thakur retorted, “North Korea does not have Su 34. Russia has as yet not met its demand for its Su-34 frontline bomber. So, it is improbable.”\\nThe US has accused Kim of supplying weapons and ammunition, including shells and rockets, to support Putin’s conflict for months. Although the US claims that the guns won’t dramatically change the battlefield, they can still be used to shell Ukraine. More importantly, these sales could give North Korea a new source of income for a country whose economy is mainly cut off from international trade.\\nSome officials in the US as well as South Korea have warned that any such deal would be in contravention of the UN sanctions and would come at a heavy price.\\nCutting-Edge Systems Shown To North Korean Leader\\nThe North Korean leader was also shown an array of cutting-edge warplanes, out of which its strategic supersonic bombers particularly stood out. Bombers like Tu-160, Tu-95, and Tu-22 bombers that have been extensively deployed to launch cruise missiles were presented to Kim Jong Un.\\nIn addition, Kim was informed by Shoigu and Lt. Gen. Sergei Kobylash that the Tu-160 had just acquired brand-new cruise missiles with a 4,040-mile range. Shoigu pointed to the weapons bay and stated that each bomber had 12 missiles.\\nBesides the bombers, Kim also had the chance to see Russia’s fifth-generation stealth jet. The RuMoD noted that Kim also visited the Russian Marshal Shaposhnikov frigate to inspect the Su-35 and the Su-57 stealth combat fighter during a tour of a factory producing fighter jets and other aircraft types.\\n```\\n'"
            ],
            "application/vnd.google.colaboratory.intrinsic+json": {
              "type": "string"
            }
          },
          "metadata": {},
          "execution_count": 10
        }
      ],
      "source": [
        "\n",
        "text = \"\"\"\n",
        "North Korean leader Kim Jong Un, currently visiting Russia, inspected several state-of-the-art systems deployed in the ongoing Ukraine war, including the Kinzhal hypersonic missile, supersonic bombers, and the latest weapons mounted on the MiG-31 missile carrier.\n",
        "This information was published by the Russian Ministry of Defense (RuMoD) on its official Telegram channel. The inspection of the next-generation missile system was also accompanied by a meeting with Russian Defense Minister Sergei Shoigu at the Knevichi airfield near Vladivostok in the Far East of Russia.\n",
        "“At the Knevichi airfield, Russian Minister of Defense General of the Army Sergei Shoigu presented the Russian MiG-31I missile carrier with the latest weaponry – the Kinzhal hypersonic air-launched missile – to the leader of the Democratic People’s Republic of Korea Kim Jong-un,” the RuMoD said in a statement on Telegram.\n",
        "Briefing the North Korean leader, Commander of the Long-Range Aviation of the Russian Aerospace Forces Lieutenant General Sergei Kobylash reported on the flight and technical characteristics of the Kinzhal hypersonic missile system. On top of that, he noted that the system includes a Mig-31I missile carrier equipped with the Kinzhal hypersonic aero-ballistic missile and a missile control system.\n",
        "“This Russian aircraft system has no equivalent anywhere in the world and has shown to be very combat-effective,” the Russian MoD said in a statement emphasizing the deadly combination of MiG-31 and the Kinzhal hypersonic missiles. Russia has fired these missiles, touted as invincible by Russia, on Ukrainian targets several times during this bloody conflict.\n",
        "As he spoke with Shoigu and other military officials through interpreters about technical specifics, Kim looked at the Kinzhal missile, gestured, and asked questions about the jets’ capabilities.\n",
        "The inspection is significant as it comes amid heightened concerns in the West about a potential arms agreement that will be signed between the two of its adversaries, which have been inching closer to each other since the Russian invasion led to Moscow’s isolation.\n",
        "https://twitter.com/i/status/1703110950822293981\n",
        "Western commentators believe Kim’s visit to Russia’s military and technical installations may have hinted at what he wants from Russia in return for giving ammunition to top off Putin’s depleting supplies. However, there is no information as to what systems the North Korean President would be interested in if an arms agreement is indeed in the works.\n",
        "According to experts, prospective military cooperation between the two nations may entail initiatives to update North Korea’s obsolete air force, which was still dependent on jets from the Soviet Union in the 1980s. However, experts also believe that the Kinzhal and the MiG-31 inspection do not automatically translate into a deal.\n",
        "Kh-47M2 Kinzhal - Wikipedia\n",
        "Indian Air Force veteran and military expert who keenly watches the Russian military, Squadron Leader Vijainder K. Thakur (retd.), explained to EurAsian Times, “Kinzhal is not just a missile that you can shoot at the adversary. It needs a launch platform that is expensive and difficult to operate. It needs intelligence for targeting. North Korea does not have MiG-31D. Since the heavy fighter is not in production, it is very doubtful that Russia can transfer it to North Korea.”\n",
        "When it was pointed out that Russia is reportedly firing the Kinzhal from its Su-34 Fullback fighter bomber, Thakur retorted, “North Korea does not have Su 34. Russia has as yet not met its demand for its Su-34 frontline bomber. So, it is improbable.”\n",
        "The US has accused Kim of supplying weapons and ammunition, including shells and rockets, to support Putin’s conflict for months. Although the US claims that the guns won’t dramatically change the battlefield, they can still be used to shell Ukraine. More importantly, these sales could give North Korea a new source of income for a country whose economy is mainly cut off from international trade.\n",
        "Some officials in the US as well as South Korea have warned that any such deal would be in contravention of the UN sanctions and would come at a heavy price.\n",
        "Cutting-Edge Systems Shown To North Korean Leader\n",
        "The North Korean leader was also shown an array of cutting-edge warplanes, out of which its strategic supersonic bombers particularly stood out. Bombers like Tu-160, Tu-95, and Tu-22 bombers that have been extensively deployed to launch cruise missiles were presented to Kim Jong Un.\n",
        "In addition, Kim was informed by Shoigu and Lt. Gen. Sergei Kobylash that the Tu-160 had just acquired brand-new cruise missiles with a 4,040-mile range. Shoigu pointed to the weapons bay and stated that each bomber had 12 missiles.\n",
        "Besides the bombers, Kim also had the chance to see Russia’s fifth-generation stealth jet. The RuMoD noted that Kim also visited the Russian Marshal Shaposhnikov frigate to inspect the Su-35 and the Su-57 stealth combat fighter during a tour of a factory producing fighter jets and other aircraft types.\n",
        "\"\"\"\n",
        "\n",
        "prompt = f\"\"\"\n",
        "Summarize the text delimited by triple backticks into a single sentence.\n",
        "```{text}```\n",
        "\"\"\"\n",
        "prompt"
      ]
    },
    {
      "cell_type": "code",
      "execution_count": 11,
      "metadata": {
        "colab": {
          "base_uri": "https://localhost:8080/"
        },
        "id": "EzTSEbwLF44U",
        "outputId": "2d71fa73-f9f1-4ba1-8f74-aedcfaa7c8a5"
      },
      "outputs": [
        {
          "output_type": "stream",
          "name": "stdout",
          "text": [
            "North Korean leader Kim Jong Un inspected advanced Russian military systems, including the Kinzhal hypersonic missile and supersonic bombers, during his visit to Russia, amid concerns about potential arms agreements between the two nations.\n"
          ]
        }
      ],
      "source": [
        "response = generate_response(prompt)\n",
        "print(response)"
      ]
    },
    {
      "cell_type": "code",
      "source": [
        "prompt = f\"\"\"\n",
        "Summarize the text into a single sentence.\n",
        "<text>\n",
        "{text}\n",
        "</text>\n",
        "\"\"\"\n",
        "response = generate_response(prompt)\n",
        "print(response)"
      ],
      "metadata": {
        "id": "mozEWapwiaDF",
        "outputId": "4d083241-a004-4d5b-f8c4-8623f829b81e",
        "colab": {
          "base_uri": "https://localhost:8080/"
        }
      },
      "execution_count": 15,
      "outputs": [
        {
          "output_type": "stream",
          "name": "stdout",
          "text": [
            "North Korean leader Kim Jong Un inspected advanced Russian military systems, including the Kinzhal hypersonic missile and supersonic bombers, during his visit to Russia, amid concerns about potential arms agreements between the two nations.\n"
          ]
        }
      ]
    },
    {
      "cell_type": "code",
      "execution_count": null,
      "metadata": {
        "id": "5e-Xz0LaGObG"
      },
      "outputs": [],
      "source": []
    },
    {
      "cell_type": "markdown",
      "metadata": {
        "id": "b_xtLoDINhff"
      },
      "source": [
        "## component 2: Ask for the output in a specific format\n"
      ]
    },
    {
      "cell_type": "code",
      "execution_count": 12,
      "metadata": {
        "id": "W_SyczGobhw4",
        "outputId": "2fbbbb9e-872c-4179-d970-2ef4616aab46",
        "colab": {
          "base_uri": "https://localhost:8080/"
        }
      },
      "outputs": [
        {
          "output_type": "stream",
          "name": "stdout",
          "text": [
            "Sure, here's a table in Markdown format listing six animals along with their genus and species:\n",
            "\n",
            "```markdown\n",
            "| Animal         | Genus       | Species       |\n",
            "|----------------|-------------|---------------|\n",
            "| African Lion   | Panthera    | Panthera leo  |\n",
            "| Bengal Tiger   | Panthera    | Panthera tigris|\n",
            "| Gray Wolf      | Canis       | Canis lupus   |\n",
            "| Bald Eagle     | Haliaeetus  | Haliaeetus leucocephalus |\n",
            "| Giant Panda    | Ailuropoda  | Ailuropoda melanoleuca |\n",
            "| Red Kangaroo   | Macropus    | Macropus rufus|\n",
            "```\n",
            "\n",
            "You can copy and paste this Markdown code into any Markdown editor to see the formatted table.\n"
          ]
        }
      ],
      "source": [
        "prompt = f\"\"\"Write a table in markdown with 6 animals in it, with their genus and species\"\"\"\n",
        "response = generate_response(prompt)\n",
        "print(response)"
      ]
    },
    {
      "cell_type": "code",
      "execution_count": 13,
      "metadata": {
        "id": "GV-WtC6DNnTf"
      },
      "outputs": [],
      "source": [
        "# Task , format\n",
        "prompt = f\"\"\"\n",
        "Generate a list of 10 job titles related to Analytics and Software Engineering along with important skills and tools used.\n",
        "provide them in JSON format with the following  keys:\n",
        "job_id, job_title, job_skills, job_tools\n",
        "\"\"\"\n",
        "response = generate_response(prompt)"
      ]
    },
    {
      "cell_type": "code",
      "execution_count": 14,
      "metadata": {
        "id": "dtxu5SY5OXEx",
        "outputId": "f8db222a-5415-41eb-bd26-1043b036227c",
        "colab": {
          "base_uri": "https://localhost:8080/"
        }
      },
      "outputs": [
        {
          "output_type": "stream",
          "name": "stdout",
          "text": [
            "```json\n",
            "[\n",
            "  {\n",
            "    \"job_id\": 1,\n",
            "    \"job_title\": \"Data Analyst\",\n",
            "    \"job_skills\": [\"Data Cleaning\", \"Statistical Analysis\", \"Data Visualization\"],\n",
            "    \"job_tools\": [\"Excel\", \"SQL\", \"Tableau\", \"Python\"]\n",
            "  },\n",
            "  {\n",
            "    \"job_id\": 2,\n",
            "    \"job_title\": \"Software Engineer\",\n",
            "    \"job_skills\": [\"Object-Oriented Programming\", \"System Design\", \"Problem Solving\"],\n",
            "    \"job_tools\": [\"Java\", \"C++\", \"Git\", \"Docker\"]\n",
            "  },\n",
            "  {\n",
            "    \"job_id\": 3,\n",
            "    \"job_title\": \"Data Scientist\",\n",
            "    \"job_skills\": [\"Machine Learning\", \"Data Mining\", \"Predictive Modeling\"],\n",
            "    \"job_tools\": [\"Python\", \"R\", \"TensorFlow\", \"Scikit-Learn\"]\n",
            "  },\n",
            "  {\n",
            "    \"job_id\": 4,\n",
            "    \"job_title\": \"Business Intelligence Analyst\",\n",
            "    \"job_skills\": [\"Data Warehousing\", \"ETL Processes\", \"Business Analysis\"],\n",
            "    \"job_tools\": [\"Power BI\", \"SQL\", \"SSIS\", \"QlikView\"]\n",
            "  },\n",
            "  {\n",
            "    \"job_id\": 5,\n",
            "    \"job_title\": \"Machine Learning Engineer\",\n",
            "    \"job_skills\": [\"Algorithm Development\", \"Model Deployment\", \"Data Preprocessing\"],\n",
            "    \"job_tools\": [\"Python\", \"TensorFlow\", \"Keras\", \"PyTorch\"]\n",
            "  },\n",
            "  {\n",
            "    \"job_id\": 6,\n",
            "    \"job_title\": \"Full Stack Developer\",\n",
            "    \"job_skills\": [\"Frontend Development\", \"Backend Development\", \"API Integration\"],\n",
            "    \"job_tools\": [\"JavaScript\", \"Node.js\", \"React\", \"MongoDB\"]\n",
            "  },\n",
            "  {\n",
            "    \"job_id\": 7,\n",
            "    \"job_title\": \"Data Engineer\",\n",
            "    \"job_skills\": [\"Data Pipeline Development\", \"Big Data Technologies\", \"Data Integration\"],\n",
            "    \"job_tools\": [\"Hadoop\", \"Spark\", \"Kafka\", \"SQL\"]\n",
            "  },\n",
            "  {\n",
            "    \"job_id\": 8,\n",
            "    \"job_title\": \"DevOps Engineer\",\n",
            "    \"job_skills\": [\"Continuous Integration\", \"Infrastructure as Code\", \"Monitoring\"],\n",
            "    \"job_tools\": [\"Jenkins\", \"Kubernetes\", \"Ansible\", \"AWS\"]\n",
            "  },\n",
            "  {\n",
            "    \"job_id\": 9,\n",
            "    \"job_title\": \"Product Manager\",\n",
            "    \"job_skills\": [\"Product Lifecycle Management\", \"Market Research\", \"Stakeholder Communication\"],\n",
            "    \"job_tools\": [\"JIRA\", \"Confluence\", \"Trello\", \"Google Analytics\"]\n",
            "  },\n",
            "  {\n",
            "    \"job_id\": 10,\n",
            "    \"job_title\": \"Data Architect\",\n",
            "    \"job_skills\": [\"Database Design\", \"Data Modeling\", \"Data Governance\"],\n",
            "    \"job_tools\": [\"SQL\", \"NoSQL\", \"Erwin\", \"AWS Redshift\"]\n",
            "  }\n",
            "]\n",
            "```\n"
          ]
        }
      ],
      "source": [
        "print(response)"
      ]
    },
    {
      "cell_type": "code",
      "execution_count": 16,
      "metadata": {
        "id": "mnp0q_V0OZvQ"
      },
      "outputs": [],
      "source": [
        "# Task , format\n",
        "prompt = f\"\"\"\n",
        "Generate a list of 10 job titles related to Analytics and Software Engineering along with important skills and tools used.\n",
        "provide them in CSV format with the following headers:\n",
        "job_id, job_title, job_skills, job_tools\n",
        "\"\"\"\n",
        "response = generate_response(prompt)"
      ]
    },
    {
      "cell_type": "code",
      "execution_count": 17,
      "metadata": {
        "id": "ITVZTujKOswJ",
        "outputId": "948c9a24-acb6-43b2-ec5d-20eea1f09165",
        "colab": {
          "base_uri": "https://localhost:8080/"
        }
      },
      "outputs": [
        {
          "output_type": "stream",
          "name": "stdout",
          "text": [
            "```csv\n",
            "job_id, job_title, job_skills, job_tools\n",
            "1, Data Analyst, Data Analysis, SQL, Excel, Python\n",
            "2, Software Engineer, Software Development, Java, C++, Git\n",
            "3, Data Scientist, Machine Learning, Python, R, TensorFlow\n",
            "4, Business Intelligence Analyst, Data Visualization, SQL, Power BI, Tableau\n",
            "5, Machine Learning Engineer, Machine Learning, Python, Scikit-learn, TensorFlow\n",
            "6, Data Engineer, Data Pipeline Development, SQL, Python, Apache Spark\n",
            "7, Full Stack Developer, Web Development, JavaScript, React, Node.js\n",
            "8, DevOps Engineer, Continuous Integration, Docker, Kubernetes, Jenkins\n",
            "9, Database Administrator, Database Management, SQL, Oracle, MySQL\n",
            "10, Product Manager, Product Development, Agile Methodologies, JIRA, Confluence\n",
            "```\n"
          ]
        }
      ],
      "source": [
        "print(response)"
      ]
    },
    {
      "cell_type": "code",
      "execution_count": 18,
      "metadata": {
        "id": "loIN5Ys_OtnB"
      },
      "outputs": [],
      "source": [
        "# Task , format, constraint\n",
        "prompt = f\"\"\"\n",
        "Generate a list of 10 job titles related to Analytics and Software Engineering along with important skills and tools used.\n",
        "provide them in CSV format with the following headers:\n",
        "job_id, job_title, job_skills, job_tools\n",
        "In a single column such as job_skills and job_tools, keep multiple values separated by a semicolon.\n",
        "\"\"\"\n",
        "response = generate_response(prompt)"
      ]
    },
    {
      "cell_type": "code",
      "execution_count": 19,
      "metadata": {
        "id": "5NFwrZ0hPbqD",
        "outputId": "148cf7f3-2480-4c25-8be1-1838e745f6bc",
        "colab": {
          "base_uri": "https://localhost:8080/"
        }
      },
      "outputs": [
        {
          "output_type": "stream",
          "name": "stdout",
          "text": [
            "```csv\n",
            "job_id,job_title,job_skills,job_tools\n",
            "1,Data Analyst,Data Analysis;Statistical Analysis;Data Visualization,Excel;SQL;Tableau\n",
            "2,Software Engineer,Programming;Problem Solving;System Design,Java;Python;Git\n",
            "3,Machine Learning Engineer,Machine Learning;Data Preprocessing;Model Evaluation,Python;TensorFlow;scikit-learn\n",
            "4,Business Intelligence Analyst,Data Analysis;Business Acumen;Reporting,Power BI;SQL;Excel\n",
            "5,Data Scientist,Statistical Analysis;Machine Learning;Data Wrangling,Python;R;Jupyter Notebook\n",
            "6,DevOps Engineer,Continuous Integration;Automation;System Administration,Jenkins;Docker;Kubernetes\n",
            "7,Full Stack Developer,Web Development;Database Management;API Development,JavaScript;Node.js;React\n",
            "8,Data Engineer,Data Pipeline Development;ETL Processes;Database Management,Apache Spark;Hadoop;SQL\n",
            "9,Product Manager,Product Strategy;Market Research;Stakeholder Management,JIRA;Confluence;Trello\n",
            "10,Software Architect,System Design;Technical Leadership;Code Review,Java;C#;UML\n",
            "```\n"
          ]
        }
      ],
      "source": [
        "print(response)"
      ]
    },
    {
      "cell_type": "code",
      "execution_count": 20,
      "metadata": {
        "id": "oLt0pk3APfps"
      },
      "outputs": [],
      "source": [
        "with open(\"job_data.csv\",'w') as file:\n",
        "  file.write(response)"
      ]
    },
    {
      "cell_type": "code",
      "execution_count": 21,
      "metadata": {
        "id": "o1fNlBgbP1kR",
        "outputId": "4e5ade75-7994-446a-9bdd-aa8a6be5c390",
        "colab": {
          "base_uri": "https://localhost:8080/"
        }
      },
      "outputs": [
        {
          "output_type": "stream",
          "name": "stdout",
          "text": [
            "Step 1: Get some warm water.\n",
            "\n",
            "Step 2: Mix the warm water with some detergent.\n",
            "\n",
            "Step 3: Put the dirty clothes in the water and let them soak for some time.\n",
            "\n",
            "Step 4: Allow the stains to loosen and mix with the water.\n",
            "\n",
            "Step 5: Take the clothes out and rub the dirt/stains with a soft brush to remove any remaining stains.\n",
            "\n",
            "Step 6: Rinse the clothes with clean water to remove the detergent.\n",
            "\n",
            "Step 7: Hang the clothes on a rope to dry.\n",
            "\n",
            "Step 8: Enjoy the clean clothes.\n"
          ]
        }
      ],
      "source": [
        "# asking for a specific format\n",
        "text = \"\"\"\n",
        "Washing clothes without washing machines is easy!\n",
        "First you need to get some warm water. Mix the warm water with some detergent. Second you can put the dirty clothes in it and let it stay wet for some time.\n",
        "During this period the stains will get loose and mixed with water.\n",
        "thereafter you can take clothes out, rub the dirt/stains with a soft brush to remove the stains if any.\n",
        "get the clothes mixed with water to get the detergent out of it. and then put it for drying on a rope.\n",
        "Enjoy the clean clothes.\n",
        "\"\"\"\n",
        "\n",
        "prompt = f\"\"\"\n",
        "you will be provided with some text delimited by triple backticks. Rewrite those into a set of instructions in the following format:\n",
        "\n",
        "Step 1: ...\n",
        "Step 2: ....\n",
        "..\n",
        "Step N:...\n",
        "\n",
        "```{text}\n",
        "```\n",
        "\"\"\"\n",
        "response = generate_response(prompt)\n",
        "print(response)\n"
      ]
    },
    {
      "cell_type": "code",
      "execution_count": 22,
      "metadata": {
        "id": "I-I0CzPKTyfd",
        "outputId": "92a8f14e-7c78-4f67-f87d-ffad8d10e2ae",
        "colab": {
          "base_uri": "https://localhost:8080/"
        }
      },
      "outputs": [
        {
          "output_type": "stream",
          "name": "stdout",
          "text": [
            "```\n",
            "Step 1: Observe the morning and note that it is amazing.\n",
            "Step 2: Notice the sun shining brightly between the clouds.\n",
            "Step 3: Feel the pleasant weather.\n",
            "Step 4: Enjoy the mind-blowing wind.\n",
            "Step 5: Reflect on the overall experience and appreciate the day.\n",
            "```\n"
          ]
        }
      ],
      "source": [
        "# asking for a specific format\n",
        "text = \"\"\"\n",
        "THe morning today is amazing, the sun is looking bright in between clouds, the weather is pleasent and the wind is mindblowing. on a whole i am loving the day today.\n",
        "\"\"\"\n",
        "\n",
        "prompt = f\"\"\"\n",
        "you will be provided with some text delimited by triple backticks. Rewrite those into a set of instructions in the following format:\n",
        "\n",
        "Step 1: ...\n",
        "Step 2: ....\n",
        "..\n",
        "Step N:...\n",
        "\n",
        "```{text}\n",
        "```\n",
        "\"\"\"\n",
        "response = generate_response(prompt)\n",
        "print(response)\n"
      ]
    },
    {
      "cell_type": "code",
      "execution_count": 23,
      "metadata": {
        "colab": {
          "base_uri": "https://localhost:8080/"
        },
        "id": "GTuKaTEeUVWE",
        "outputId": "acc41932-16f0-40df-f24d-1252d64fc1b8"
      },
      "outputs": [
        {
          "output_type": "stream",
          "name": "stdout",
          "text": [
            "Step 1: Get some warm water.\n",
            "Step 2: Mix the warm water with some detergent.\n",
            "Step 3: Put the dirty clothes in the water and let them stay wet for some time.\n",
            "Step 4: Take the clothes out and rub the dirt/stains with a soft brush to remove any stains.\n",
            "Step 5: Rinse the clothes with water to get the detergent out.\n",
            "Step 6: Put the clothes for drying on a rope.\n",
            "Step 7: Enjoy the clean clothes.\n"
          ]
        }
      ],
      "source": [
        "# asking for a specific format\n",
        "text = \"\"\"\n",
        "Washing clothes without washing machines is easy!\n",
        "First you need to get some warm water. Mix the warm water with some detergent. Second you can put the dirty clothes in it and let it stay wet for some time.\n",
        "During this period the stains will get loose and mixed with water.\n",
        "thereafter you can take clothes out, rub the dirt/stains with a soft brush to remove the stains if any.\n",
        "get the clothes mixed with water to get the detergent out of it. and then put it for drying on a rope.\n",
        "Enjoy the clean clothes.\n",
        "\"\"\"\n",
        "\n",
        "prompt = f\"\"\"\n",
        "you will be provided with some text delimited by triple backticks.\n",
        "Rewrite those into a set of instructions in the following format only if contains a sequence of instructions:\n",
        "\n",
        "Step 1: ...\n",
        "Step 2: ....\n",
        "..\n",
        "Step N:...\n",
        "\n",
        "```{text}\n",
        "```\n",
        "\n",
        "if the text does not contain a sequence of instructions, then simply write 'No steps provided'\n",
        "\"\"\"\n",
        "response = generate_response(prompt)\n",
        "print(response)\n"
      ]
    },
    {
      "cell_type": "code",
      "execution_count": 24,
      "metadata": {
        "colab": {
          "base_uri": "https://localhost:8080/"
        },
        "id": "nAZGUBpTUrgv",
        "outputId": "c7141940-9a24-48ab-d4cc-21d6c9b84996"
      },
      "outputs": [
        {
          "output_type": "stream",
          "name": "stdout",
          "text": [
            "No steps provided\n"
          ]
        }
      ],
      "source": [
        "# asking for a specific format\n",
        "text = \"\"\"\n",
        "THe morning today is amazing, the sun is looking bright in between clouds, the weather is pleasent and the wind is mindblowing. on a whole i am loving the day today.\n",
        "\"\"\"\n",
        "\n",
        "prompt = f\"\"\"\n",
        "you will be provided with some text delimited by triple backticks.\n",
        "Rewrite those into a set of instructions in the following format only if contains a sequence of instructions:\n",
        "\n",
        "Step 1: ...\n",
        "Step 2: ....\n",
        "..\n",
        "Step N:...\n",
        "\n",
        "```{text}\n",
        "```\n",
        "\n",
        "if the text does not contain a sequence of instructions, then simply write 'No steps provided'\n",
        "\"\"\"\n",
        "response = generate_response(prompt)\n",
        "print(response)\n"
      ]
    },
    {
      "cell_type": "markdown",
      "metadata": {
        "id": "6osQJS0czIu-"
      },
      "source": [
        "### Component: ALlow the model to process the outcome progressively"
      ]
    },
    {
      "cell_type": "code",
      "execution_count": 25,
      "metadata": {
        "id": "SGtXe-NfwsW0",
        "outputId": "c57aaffc-a877-4de7-b719-456412042e3b",
        "colab": {
          "base_uri": "https://localhost:8080/"
        }
      },
      "outputs": [
        {
          "output_type": "stream",
          "name": "stdout",
          "text": [
            "**Summary in 15 words:**\n",
            "The morning is amazing with bright sun, pleasant weather, and mindblowing wind; loving the day.\n",
            "\n",
            "**French Translation:**\n",
            "Le matin est incroyable avec un soleil brillant, un temps agréable et un vent époustouflant; j'adore la journée.\n",
            "\n",
            "**Names in French Summary:**\n",
            "- matin\n",
            "- soleil\n",
            "- temps\n",
            "- vent\n",
            "- journée\n",
            "\n",
            "**JSON Output:**\n",
            "```json\n",
            "{\n",
            "  \"summary\": \"Le matin est incroyable avec un soleil brillant, un temps agréable et un vent époustouflant; j'adore la journée.\",\n",
            "  \"names\": [\"matin\", \"soleil\", \"temps\", \"vent\", \"journée\"]\n",
            "}\n",
            "```\n"
          ]
        }
      ],
      "source": [
        "text = \"\"\"\n",
        "THe morning today is amazing, the sun is looking bright in between clouds, the weather is pleasent and the wind is mindblowing. on a whole i am loving the day today.\n",
        "\"\"\"\n",
        "\n",
        "prompt = f\"\"\" summarize the below text in 15 words, translate to french and list each name in the french summary, also createa json output.\n",
        "```{text}```\n",
        "\"\"\"\n",
        "\n",
        "response = generate_response(prompt)\n",
        "print(response)\n"
      ]
    },
    {
      "cell_type": "code",
      "execution_count": 26,
      "metadata": {
        "id": "ic51u_OxzGQN",
        "outputId": "fca2b82d-22a2-46aa-e351-eab71ebfc158",
        "colab": {
          "base_uri": "https://localhost:8080/"
        }
      },
      "outputs": [
        {
          "output_type": "stream",
          "name": "stdout",
          "text": [
            "Sure, here are the tasks performed:\n",
            "\n",
            "1. **Summary in 15 words:**\n",
            "   The morning is amazing, weather pleasant, met Jenny, spent good time, loving the day.\n",
            "\n",
            "2. **Translation to French:**\n",
            "   Le matin est incroyable, le temps agréable, rencontré Jenny, passé du bon temps, adorant la journée.\n",
            "\n",
            "3. **List of names in the French summary:**\n",
            "   - Jenny\n",
            "\n",
            "4. **JSON object:**\n",
            "```json\n",
            "{\n",
            "  \"french_summary\": \"Le matin est incroyable, le temps agréable, rencontré Jenny, passé du bon temps, adorant la journée.\",\n",
            "  \"num_names\": 1\n",
            "}\n",
            "```\n"
          ]
        }
      ],
      "source": [
        "text = \"\"\"\n",
        "THe morning today is amazing, the sun is looking bright in between clouds, the weather is pleasent and the wind is mindblowing. on a whole i am loving the day today.\n",
        "I met Jenny today and we spent good time.\n",
        "\"\"\"\n",
        "\n",
        "prompt = f\"\"\"\n",
        "Perform the following tasks:\n",
        "1. Summarize the following text delimited by triple backticks in 15 words.\n",
        "2. translate the summary to French\n",
        "3. LIst each name in the french summary\n",
        "4. Output a json object that contains the following keys: french_summary, num_names.\n",
        "\n",
        "Text:\n",
        "```{text}```\n",
        "\"\"\"\n",
        "\n",
        "response = generate_response(prompt)\n",
        "print(response)\n"
      ]
    },
    {
      "cell_type": "code",
      "execution_count": 27,
      "metadata": {
        "colab": {
          "base_uri": "https://localhost:8080/"
        },
        "id": "-1WZs8Lg0SlZ",
        "outputId": "2428db82-7a20-4b2a-ffd8-3a2b446eb946"
      },
      "outputs": [
        {
          "output_type": "stream",
          "name": "stdout",
          "text": [
            "Summary: The morning is amazing, weather pleasant, and I met Jenny and had a good time.\n",
            "\n",
            "Translation: Le matin est incroyable, le temps agréable, et j'ai rencontré Jenny et passé un bon moment.\n",
            "\n",
            "Names: Jenny\n",
            "\n",
            "Output JSON: \n",
            "```json\n",
            "{\n",
            "  \"french_summary\": \"Le matin est incroyable, le temps agréable, et j'ai rencontré Jenny et passé un bon moment.\",\n",
            "  \"num_names\": 1\n",
            "}\n",
            "```\n"
          ]
        }
      ],
      "source": [
        "text = \"\"\"\n",
        "THe morning today is amazing, the sun is looking bright in between clouds, the weather is pleasent and the wind is mindblowing. on a whole i am loving the day today.\n",
        "I met Jenny today and we spent good time.\n",
        "\"\"\"\n",
        "\n",
        "prompt = f\"\"\"\n",
        "Perform the following tasks:\n",
        "1. Summarize the following text delimited by <> in 15 words.\n",
        "2. translate the summary to French\n",
        "3. LIst each name in the french summary\n",
        "4. Output a json object that contains the following keys: french_summary, num_names.\n",
        "\n",
        "Use the following format:\n",
        "Text: <text to summarize>\n",
        "Summary: <summary >\n",
        "Tranlation: <Summary translation>\n",
        "Names: <list of names>\n",
        "Output JSON: <json with summary and num_names>\n",
        "\n",
        "Text:\n",
        "<{text}>\n",
        "\"\"\"\n",
        "\n",
        "response = generate_response(prompt)\n",
        "print(response)\n"
      ]
    },
    {
      "cell_type": "code",
      "execution_count": null,
      "metadata": {
        "colab": {
          "base_uri": "https://localhost:8080/",
          "height": 53
        },
        "id": "BP-Z6_8m0w2t",
        "outputId": "92424385-b5e6-4da2-8b00-d7eeb6a88a8a"
      },
      "outputs": [
        {
          "data": {
            "text/plain": [
              "'True + True = True\\n\\nIn boolean logic, the addition of two true values results in a true value. Therefore, the expression True + True equals True.'"
            ]
          },
          "execution_count": 29,
          "metadata": {},
          "output_type": "execute_result"
        }
      ],
      "source": [
        "prompt = f\"\"\"\n",
        "\n",
        "Evaluate the following expression considering boolean logic (All Values are in boolean):\n",
        "  True + True = True\n",
        "\"\"\"\n",
        "generate_response(prompt)\n"
      ]
    },
    {
      "cell_type": "markdown",
      "metadata": {
        "id": "W1xrQNg0br00"
      },
      "source": [
        "## Zero Shot Prompting"
      ]
    },
    {
      "cell_type": "code",
      "execution_count": 28,
      "metadata": {
        "id": "1DpqkFzDvsTe",
        "outputId": "81ae4bbc-e051-464c-b7f4-fea1f83e8109",
        "colab": {
          "base_uri": "https://localhost:8080/"
        }
      },
      "outputs": [
        {
          "output_type": "stream",
          "name": "stdout",
          "text": [
            "**Title: The Magic of Stories**\n",
            "\n",
            "**Characters:**\n",
            "- **Grandparent (Grandma Rose)**\n",
            "- **Child (Lily)**\n",
            "\n",
            "---\n",
            "\n",
            "**Scene: A cozy living room with a crackling fireplace. The room is filled with the scent of freshly baked cookies. Lily, a curious 8-year-old, sits cross-legged on a plush rug, while Grandma Rose, a warm and wise woman in her seventies, sits in a rocking chair knitting a colorful scarf.**\n",
            "\n",
            "**Lily:** (Looking up from her book) Grandma, can you tell me a story?\n",
            "\n",
            "**Grandma Rose:** (Smiling warmly) Of course, my dear. What kind of story would you like to hear?\n",
            "\n",
            "**Lily:** (Excitedly) A magical one! With fairies and dragons and... and maybe a brave knight!\n",
            "\n",
            "**Grandma Rose:** (Chuckling softly) Ah, a magical story it is. Let me think... (Pauses, then begins) Once upon a time, in a land far, far away, there was a beautiful kingdom called Eldoria. This kingdom was known for its lush green forests, sparkling rivers, and the most magnificent castle you could ever imagine.\n",
            "\n",
            "**Lily:** (Eyes wide with anticipation) Who lived in the castle, Grandma?\n",
            "\n",
            "**Grandma Rose:** In the castle lived a kind and wise queen named Seraphina. She had a heart as pure as gold and was loved by all her subjects. But the most special thing about Queen Seraphina was her magical garden. This garden was filled with flowers that could sing, trees that could dance, and a pond that could show you your heart's deepest desires.\n",
            "\n",
            "**Lily:** (Giggling) Flowers that sing? That's so funny!\n",
            "\n",
            "**Grandma Rose:** (Nodding) Yes, it was a truly magical place. But one day, a dark shadow fell over Eldoria. A fearsome dragon named Drakonis, who had been banished to the mountains long ago, returned to the kingdom. He was angry and wanted to take over the magical garden for himself.\n",
            "\n",
            "**Lily:** (Frowning) Oh no! What did Queen Seraphina do?\n",
            "\n",
            "**Grandma Rose:** Queen Seraphina knew she needed help to protect her kingdom. So, she called upon the bravest knight in all of Eldoria, Sir Cedric. Sir Cedric was not only brave but also had a kind heart. He had a special bond with the creatures of the forest and was loved by all.\n",
            "\n",
            "**Lily:** (Leaning forward) Did Sir Cedric fight the dragon?\n",
            "\n",
            "**Grandma Rose:** (Smiling) Sir Cedric knew that fighting Drakonis would be dangerous. Instead, he decided to seek the help of the fairies who lived in the Enchanted Forest. The fairies were known for their wisdom and powerful magic. With their help, Sir Cedric hoped to find a way to save Eldoria without violence.\n",
            "\n",
            "**Lily:** (Eyes sparkling) What did the fairies do?\n",
            "\n",
            "**Grandma Rose:** The fairies, led by their queen, Titania, gave Sir Cedric a magical amulet. This amulet had the power to show Drakonis the beauty and love in the world, something he had forgotten long ago. Sir Cedric bravely approached the dragon's lair and, with the amulet's magic, showed Drakonis the wonders of Eldoria.\n",
            "\n",
            "**Lily:** (Whispering) Did it work?\n",
            "\n",
            "**Grandma Rose:** (Nodding) Yes, it did. Drakonis was moved by the beauty and kindness he saw. He realized that he didn't need to take over the garden to feel powerful. Instead, he could be a protector of Eldoria and help keep the kingdom safe. From that day on, Drakonis became a friend to the kingdom, and peace was restored.\n",
            "\n",
            "**Lily:** (Smiling) That's such a nice story, Grandma. I wish I could visit Eldoria.\n",
            "\n",
            "**Grandma Rose:** (Gently) In a way, you can, my dear. Every time you use your imagination, you can visit magical places and go on incredible adventures. Stories have a special kind of magic that can take you anywhere you want to go.\n",
            "\n",
            "**Lily:** (Hugging Grandma Rose) Thank you, Grandma. I love your stories.\n",
            "\n",
            "**Grandma Rose:** (Hugging Lily back) And I love sharing them with you, my sweet Lily. Now, how about we have some of those cookies I baked?\n",
            "\n",
            "**Lily:** (Grinning) Yes, please!\n",
            "\n",
            "**(They both laugh and head to the kitchen, the warmth of the story lingering in the air.)**\n",
            "\n",
            "---\n",
            "\n",
            "**End of Scene**\n"
          ]
        }
      ],
      "source": [
        "# zero shot prompting\n",
        "prompt = f\"\"\"\n",
        "\n",
        "Create a conversation story between child and grandparent.\n",
        "\"\"\"\n",
        "response = generate_response(prompt)\n",
        "print(response)"
      ]
    },
    {
      "cell_type": "markdown",
      "metadata": {
        "id": "pcBE11_6vwJd"
      },
      "source": [
        "## Few Shot Prompting\n",
        "\n",
        "Here, the model is given a few examples (shots) to guide its response. By providing context or previous instances, the model can better understand and generate the desired output. For example, showing a model several examples of translated sentences before asking it to translate a new one.\n"
      ]
    },
    {
      "cell_type": "code",
      "execution_count": 29,
      "metadata": {
        "colab": {
          "base_uri": "https://localhost:8080/"
        },
        "id": "8SurLNqfa6wi",
        "outputId": "d0287807-7b38-4491-bfa5-ec869fe7278a"
      },
      "outputs": [
        {
          "output_type": "stream",
          "name": "stdout",
          "text": [
            "<grandma>: Resilience is like a tree that bends in the wind but doesn't break. It stands tall again when the storm has passed, just like you can bounce back from tough times and keep going.\n"
          ]
        }
      ],
      "source": [
        "# few shot prompting\n",
        "prompt = f\"\"\"\n",
        "your task is to answer in a consistent sytle:\n",
        "\n",
        "<child>: Teach me about patience.\n",
        "<grandma>: Patience is like waiting for whole day to see the moon in the evening and then sleeping after having a look at it.\n",
        "\n",
        "<child>: Teach me about resilience.\n",
        "\"\"\"\n",
        "response = generate_response(prompt)\n",
        "print(response)"
      ]
    },
    {
      "cell_type": "markdown",
      "metadata": {
        "id": "LqtJ2ipJbhw6"
      },
      "source": [
        "#### Few shot prompting with role setup"
      ]
    },
    {
      "cell_type": "code",
      "execution_count": 30,
      "metadata": {
        "id": "RTawSemLbhw6",
        "outputId": "1ca50459-8f74-4008-f3b4-d7c51e17e8de",
        "colab": {
          "base_uri": "https://localhost:8080/"
        }
      },
      "outputs": [
        {
          "output_type": "stream",
          "name": "stdout",
          "text": [
            "positive\n"
          ]
        }
      ],
      "source": [
        "result = client.chat.completions.create(\n",
        "    model=deployment_name,  # e.g. gpt-35-instant\n",
        "    max_tokens=200,\n",
        "    temperature=0.9,\n",
        "    messages=[\n",
        "        {\"role\": \"system\", \"content\": \"You are a helpful assistant.\"},\n",
        "        {\"role\": \"user\", \"content\": \"That was an awesome experience\"},\n",
        "        {\"role\": \"assistant\", \"content\": \"positive\"},\n",
        "        {\"role\": \"user\", \"content\": \"I won't do that again\"},\n",
        "        {\"role\": \"assistant\", \"content\": \"negative\"},\n",
        "        {\"role\": \"user\", \"content\": \"That was not worth my time\"},\n",
        "        {\"role\": \"assistant\", \"content\": \"negative\"},\n",
        "        {\"role\": \"user\", \"content\": \"You can't miss this\"}\n",
        "    ],\n",
        ")\n",
        "print(result.choices[0].message.content)"
      ]
    },
    {
      "cell_type": "markdown",
      "metadata": {
        "id": "2IBIItcqbhw_"
      },
      "source": [
        "## Chain of Thought Prompting"
      ]
    },
    {
      "cell_type": "code",
      "execution_count": 31,
      "metadata": {
        "id": "JbMnOeiq2atC",
        "outputId": "4e46ac4c-279d-4ffe-c716-2c1201a2c8e2",
        "colab": {
          "base_uri": "https://localhost:8080/"
        }
      },
      "outputs": [
        {
          "output_type": "stream",
          "name": "stdout",
          "text": [
            "Let's break down the problem step by step:\n",
            "\n",
            "1. Marry initially had 5 pens.\n",
            "2. She gave 3 pens to her friend. So, she has \\( 5 - 3 = 2 \\) pens left.\n",
            "3. She then bought 2 boxes of pens, with each box containing 3 pens. So, she bought \\( 2 \\times 3 = 6 \\) pens.\n",
            "\n",
            "Now, we add the pens she bought to the pens she had left:\n",
            "\\[ 2 + 6 = 8 \\]\n",
            "\n",
            "So, Marry has 8 pens now.\n"
          ]
        }
      ],
      "source": [
        "# Without Chain of Thought Prompting\n",
        "prompt = f\"\"\"\n",
        "\n",
        "Teacher: Johan had 5 apples, he bought 4 more boxes with 5 apples each. How many apples does he have now?\n",
        "Student: 25 apples\n",
        "\n",
        "Teacher: Marry had 5 pens, she gave 3 to her friend. and bought 2 boxes of pen with 3 pen in each box. How many pens does she have now?\n",
        "Student:\n",
        "\n",
        "\"\"\"\n",
        "response = generate_response(prompt)\n",
        "print(response)"
      ]
    },
    {
      "cell_type": "code",
      "execution_count": 32,
      "metadata": {
        "id": "_7Hz_cvLbhw_",
        "outputId": "e169ea66-d2f1-4d80-bfe1-e56ae27c27aa",
        "colab": {
          "base_uri": "https://localhost:8080/"
        }
      },
      "outputs": [
        {
          "output_type": "stream",
          "name": "stdout",
          "text": [
            "Marry had 5 pens initially. She gave 3 pens to her friend, so she had 5 - 3 = 2 pens left. Then, she bought 2 boxes of pens with 3 pens in each box, which means she bought 2 * 3 = 6 pens. Adding these to the pens she had left, Marry now has 2 + 6 = 8 pens.\n"
          ]
        }
      ],
      "source": [
        "# with Chain of Thought prompting\n",
        "prompt = f\"\"\"\n",
        "\n",
        "Teacher: Johan had 5 apples, he bought 4 more boxes with 5 apples each. How many apples does he have now?\n",
        "Student: Johan had 5 apples, 4 boxes with 5 apples each = 5 + 4*5 = 25 apples\n",
        "\n",
        "Teacher: Marry had 5 pens, she gave 3 to her friend. and bought 2 boxes of pen with 3 pen in each box. How many pens does she have now?\n",
        "Student:\n",
        "\n",
        "\"\"\"\n",
        "response = generate_response(prompt)\n",
        "print(response)"
      ]
    },
    {
      "cell_type": "code",
      "source": [
        "# with Chain of Thought prompting\n",
        "prompt = f\"\"\"\n",
        "\n",
        "Think step by step to answer below question, do not come to conclusion without following process.\n",
        "Teacher: Marry had 5 pens, she gave 3 to her friend. and bought 2 boxes of pen with 3 pen in each box. How many pens does she have now?\n",
        "Student:\n",
        "\n",
        "\"\"\"\n",
        "response = generate_response(prompt)\n",
        "print(response)"
      ],
      "metadata": {
        "id": "A7SWadXtr5ou",
        "outputId": "1bd64f0a-dfee-415b-8c53-6ed8c2bbe773",
        "colab": {
          "base_uri": "https://localhost:8080/"
        }
      },
      "execution_count": 33,
      "outputs": [
        {
          "output_type": "stream",
          "name": "stdout",
          "text": [
            "Sure, let's break down the problem step by step to find out how many pens Marry has now.\n",
            "\n",
            "1. **Initial Number of Pens:**\n",
            "   - Marry initially had 5 pens.\n",
            "\n",
            "2. **Pens Given Away:**\n",
            "   - Marry gave 3 pens to her friend.\n",
            "   - So, we subtract the pens she gave away from her initial number of pens:\n",
            "     \\[\n",
            "     5 - 3 = 2\n",
            "     \\]\n",
            "   - Now, Marry has 2 pens left.\n",
            "\n",
            "3. **Pens Bought:**\n",
            "   - Marry bought 2 boxes of pens, with each box containing 3 pens.\n",
            "   - First, we need to find out the total number of pens in the 2 boxes:\n",
            "     \\[\n",
            "     2 \\text{ boxes} \\times 3 \\text{ pens per box} = 6 \\text{ pens}\n",
            "     \\]\n",
            "\n",
            "4. **Total Number of Pens Now:**\n",
            "   - Finally, we add the pens she bought to the pens she has left:\n",
            "     \\[\n",
            "     2 \\text{ pens} + 6 \\text{ pens} = 8 \\text{ pens}\n",
            "     \\]\n",
            "\n",
            "So, Marry now has 8 pens.\n"
          ]
        }
      ]
    },
    {
      "cell_type": "markdown",
      "metadata": {
        "id": "bQvoNRxqVo5_"
      },
      "source": [
        "## Tree of Thoughts (ToT)\n",
        "\n",
        "Tree of Thoughts (ToT) prompting is a framework that generalizes over chain-of-thought prompting and encourages exploration over thoughts that serve as intermediate steps for general problem-solving with language models.\n",
        "\n",
        "\n",
        "How does it work?\n",
        "\n",
        "- ToT prompting breaks problems down into smaller parts, similar to CoT prompting, but goes further by combining this with the ability to explore multiple solution paths in parallel, forming a tree instead of a single chain. Each thought is generated or solved independently and passed to the next step, allowing the model to self-evaluate and decide whether to continue with that path or choose another."
      ]
    },
    {
      "cell_type": "code",
      "execution_count": 34,
      "metadata": {
        "colab": {
          "base_uri": "https://localhost:8080/"
        },
        "id": "zF7_WBM9MT78",
        "outputId": "efb792e3-b22a-43b6-f533-0a5bad9e0111"
      },
      "outputs": [
        {
          "output_type": "stream",
          "name": "stdout",
          "text": [
            "### Step 1: Initial Thoughts\n",
            "\n",
            "**Expert 1:**\n",
            "Carlos's watch was last seen when he put it in the towel in the locker room. The first place to consider is the lounger where he shook the towel vigorously. The watch could have fallen out there.\n",
            "- **Likelihood:** 40%\n",
            "\n",
            "**Expert 2:**\n",
            "Carlos carried the towel tightly to the lounger, which means the watch could have stayed in the towel until he shook it. The vigorous shaking at the lounger is a critical event.\n",
            "- **Likelihood:** 50%\n",
            "\n",
            "**Expert 3:**\n",
            "The watch could have fallen out at any point where Carlos interacted with the towel. The locker room, the path to the lounger, the lounger itself, and the snack bar are all potential locations.\n",
            "- **Likelihood:** 25%\n",
            "\n",
            "**Expert 4:**\n",
            "The most vigorous action was shaking the towel at the lounger. This is the most likely place for the watch to have fallen out.\n",
            "- **Likelihood:** 60%\n",
            "\n",
            "**Expert 5:**\n",
            "Carlos left the towel at the snack bar. If the watch was still in the towel, it could have fallen out there. However, the vigorous shaking at the lounger is more likely to dislodge the watch.\n",
            "- **Likelihood:** 45%\n",
            "\n",
            "### Step 2: Critique and Refinement\n",
            "\n",
            "**Expert 1:**\n",
            "I agree with Expert 4 that the vigorous shaking at the lounger is a critical event. However, we should not completely rule out the possibility of the watch falling out at the snack bar.\n",
            "- **Revised Likelihood:** 50%\n",
            "\n",
            "**Expert 2:**\n",
            "I concur with the emphasis on the lounger. The vigorous shaking is the most likely event to dislodge the watch.\n",
            "- **Revised Likelihood:** 55%\n",
            "\n",
            "**Expert 3:**\n",
            "While the lounger is a strong candidate, we should also consider the possibility of the watch falling out during the walk to the snack bar.\n",
            "- **Revised Likelihood:** 35%\n",
            "\n",
            "**Expert 4:**\n",
            "I maintain that the lounger is the most likely location. The vigorous shaking is a significant action.\n",
            "- **Revised Likelihood:** 60%\n",
            "\n",
            "**Expert 5:**\n",
            "I agree with the consensus that the lounger is the most likely location, but we should keep an open mind about the snack bar.\n",
            "- **Revised Likelihood:** 50%\n",
            "\n",
            "### Step 3: Further Analysis\n",
            "\n",
            "**Expert 1:**\n",
            "Given the vigorous shaking at the lounger, it is highly probable that the watch fell out there. However, we should also consider the possibility of the watch being in the towel at the snack bar.\n",
            "- **Revised Likelihood:** 55%\n",
            "\n",
            "**Expert 2:**\n",
            "The vigorous shaking at the lounger is the most significant event. The watch is most likely to have fallen out there.\n",
            "- **Revised Likelihood:** 60%\n",
            "\n",
            "**Expert 3:**\n",
            "The lounger is the most likely location, but we should not completely rule out the snack bar.\n",
            "- **Revised Likelihood:** 40%\n",
            "\n",
            "**Expert 4:**\n",
            "The lounger remains the most likely location due to the vigorous shaking.\n",
            "- **Revised Likelihood:** 65%\n",
            "\n",
            "**Expert 5:**\n",
            "I agree with the consensus that the lounger is the most likely location, but we should keep an open mind about the snack bar.\n",
            "- **Revised Likelihood:** 55%\n",
            "\n",
            "### Step 4: Conclusion\n",
            "\n",
            "**Expert 1:**\n",
            "The lounger is the most likely location for the watch, given the vigorous shaking.\n",
            "- **Final Likelihood:** 60%\n",
            "\n",
            "**Expert 2:**\n",
            "The lounger is the most likely location for the watch.\n",
            "- **Final Likelihood:** 65%\n",
            "\n",
            "**Expert 3:**\n",
            "The lounger is the most likely location, but we should not completely rule out the snack bar.\n",
            "- **Final Likelihood:** 50%\n",
            "\n",
            "**Expert 4:**\n",
            "The lounger is the most likely location for the watch.\n",
            "- **Final Likelihood:** 70%\n",
            "\n",
            "**Expert 5:**\n",
            "The lounger is the most likely location for the watch, but we should keep an open mind about the snack bar.\n",
            "- **Final Likelihood:** 60%\n",
            "\n",
            "### Consensus\n",
            "\n",
            "The experts agree that the single most likely location of Carlos's watch is at the lounger where he vigorously shook the towel. The likelihood percentages range from 60% to 70%, indicating a strong consensus.\n"
          ]
        }
      ],
      "source": [
        "\n",
        "prompt = \"\"\"\n",
        "Imagine 5 different experts are answering this question.\n",
        "They will brainstorm the answer step by step reasoning carefully and taking all facts into consideration\n",
        "All experts will write down 1 step of their thinking,\n",
        "then share it with the group.\n",
        "They will each critique their response, and the all the responses of others\n",
        "They will check their answer based on science and the laws of physics\n",
        "They will keep going through steps until they reach their conclusion taking into account the thoughts of the other experts\n",
        "If at any time they realise that there is a flaw in their logic they will backtrack to where that flaw occurred\n",
        "If any expert realises they're wrong at any point then they acknowledges this and start another train of thought\n",
        "Each expert will assign a likelihood of their current assertion being correct\n",
        "Continue until the experts agree on the single most likely location\n",
        "The question is.\n",
        "1. Carlos is at the swimming pool.\n",
        "2. He walks to the locker room, carrying a towel.\n",
        "3. He puts his watch in the towel and carries the towel tightly to a lounger at the poolside.\n",
        "4. At the lounger he opens and vigorously shakes the towel, then walks to the snack bar.\n",
        "5. He leaves the towel at the snack bar, then walks to the diving board.\n",
        "6. Later Carlos realises he has has lost his watch. Where is the single most likely location of the watch?\n",
        "\"\"\"\n",
        "\n",
        "\n",
        "ans=generate_response(prompt)\n",
        "\n",
        "print(ans)"
      ]
    },
    {
      "cell_type": "markdown",
      "metadata": {
        "id": "dPnsQc3hpQ7x"
      },
      "source": [
        "## Chain-of-Verification Prompting\n",
        "\n",
        "The Chain-of-Verification (CoVe) prompt engineering method aims to reduce hallucinations through a verification loop."
      ]
    },
    {
      "cell_type": "code",
      "execution_count": 35,
      "metadata": {
        "colab": {
          "base_uri": "https://localhost:8080/"
        },
        "id": "u9mjZtAJfDdm",
        "outputId": "22e66ffd-5e73-478c-a44b-f6e168cbd015"
      },
      "outputs": [
        {
          "output_type": "stream",
          "name": "stdout",
          "text": [
            "### Initial Response:\n",
            "Here are some athletes who were born in the United States:\n",
            "1. Michael Jordan\n",
            "2. Serena Williams\n",
            "3. Tom Brady\n",
            "4. Simone Biles\n",
            "5. LeBron James\n",
            "6. Tiger Woods\n",
            "7. Katie Ledecky\n",
            "8. Kobe Bryant\n",
            "9. Mia Hamm\n",
            "10. Michael Phelps\n",
            "\n",
            "### Verification Questions and Answers:\n",
            "\n",
            "1. **Was Michael Jordan born in the United States?**\n",
            "   - **Answer:** Yes, Michael Jordan was born in Brooklyn, New York.\n",
            "\n",
            "2. **Was Serena Williams born in the United States?**\n",
            "   - **Answer:** Yes, Serena Williams was born in Saginaw, Michigan.\n",
            "\n",
            "3. **Was Tom Brady born in the United States?**\n",
            "   - **Answer:** Yes, Tom Brady was born in San Mateo, California.\n",
            "\n",
            "4. **Was Simone Biles born in the United States?**\n",
            "   - **Answer:** Yes, Simone Biles was born in Columbus, Ohio.\n",
            "\n",
            "5. **Was LeBron James born in the United States?**\n",
            "   - **Answer:** Yes, LeBron James was born in Akron, Ohio.\n",
            "\n",
            "6. **Was Tiger Woods born in the United States?**\n",
            "   - **Answer:** Yes, Tiger Woods was born in Cypress, California.\n",
            "\n",
            "7. **Was Katie Ledecky born in the United States?**\n",
            "   - **Answer:** Yes, Katie Ledecky was born in Washington, D.C.\n",
            "\n",
            "8. **Was Kobe Bryant born in the United States?**\n",
            "   - **Answer:** Yes, Kobe Bryant was born in Philadelphia, Pennsylvania.\n",
            "\n",
            "9. **Was Mia Hamm born in the United States?**\n",
            "   - **Answer:** Yes, Mia Hamm was born in Selma, Alabama.\n",
            "\n",
            "10. **Was Michael Phelps born in the United States?**\n",
            "    - **Answer:** Yes, Michael Phelps was born in Baltimore, Maryland.\n",
            "\n",
            "### Final Verified Answer:\n",
            "Here are some athletes who were born in the United States:\n",
            "1. Michael Jordan (Brooklyn, New York)\n",
            "2. Serena Williams (Saginaw, Michigan)\n",
            "3. Tom Brady (San Mateo, California)\n",
            "4. Simone Biles (Columbus, Ohio)\n",
            "5. LeBron James (Akron, Ohio)\n",
            "6. Tiger Woods (Cypress, California)\n",
            "7. Katie Ledecky (Washington, D.C.)\n",
            "8. Kobe Bryant (Philadelphia, Pennsylvania)\n",
            "9. Mia Hamm (Selma, Alabama)\n",
            "10. Michael Phelps (Baltimore, Maryland)\n",
            "\n",
            "This final response has been verified for accuracy based on the verification questions and answers.\n"
          ]
        }
      ],
      "source": [
        "Question=\"Name some athletes who were born in United states\"\n",
        "\n",
        "prompt=f'''Here is the question: {Question}.\n",
        "\n",
        "First, generate a response.\n",
        "\n",
        "Then, create and answer verification questions based on this response to check for accuracy. Think it through and make sure you are extremely accurate based on the question asked.\n",
        "\n",
        "After answering each verification question, consider these answers and revise the initial response to formulate a final, verified answer. Ensure the final response reflects the accuracy and findings from the verification process.'''\n",
        "\n",
        "\n",
        "\n",
        "ans=generate_response(prompt)\n",
        "\n",
        "print(ans)\n"
      ]
    },
    {
      "cell_type": "markdown",
      "metadata": {
        "id": "Z8_TNNG2Ozu6"
      },
      "source": [
        "# Model Limitations: Hallucinations"
      ]
    },
    {
      "cell_type": "code",
      "execution_count": 36,
      "metadata": {
        "colab": {
          "base_uri": "https://localhost:8080/",
          "height": 157
        },
        "id": "Or9Q36oxO4bx",
        "outputId": "e4fab37d-b0f5-46d8-fa5b-9306b618c988"
      },
      "outputs": [
        {
          "output_type": "execute_result",
          "data": {
            "text/plain": [
              "\"As of my last update in October 2023, Amdocs IT Services is primarily known for its software and services in the telecommunications and media sectors. They are not typically recognized as a manufacturer or retailer of ergonomic chairs or other office furniture. \\n\\nErgonomic chairs are designed to provide optimal support and comfort, reducing strain on the body during long periods of sitting. These chairs often feature adjustable components such as seat height, backrest angle, lumbar support, and armrests to accommodate various body types and sitting preferences.\\n\\nIf Amdocs IT Services has recently ventured into producing and selling ergonomic chairs, it would be a new development that is not widely documented. For the most accurate and up-to-date information, I recommend checking Amdocs' official website or contacting their customer service directly.\""
            ],
            "application/vnd.google.colaboratory.intrinsic+json": {
              "type": "string"
            }
          },
          "metadata": {},
          "execution_count": 36
        }
      ],
      "source": [
        "prompt = f\"\"\"\n",
        "Tell me about Ergonamic chair procuced and sold by Amdocs IT Services.\n",
        "\"\"\"\n",
        "\n",
        "generate_response(prompt)"
      ]
    },
    {
      "cell_type": "code",
      "execution_count": 38,
      "metadata": {
        "colab": {
          "base_uri": "https://localhost:8080/",
          "height": 174
        },
        "id": "n4rvOOeSPIDV",
        "outputId": "17642e77-7c5f-4159-9fe3-1810da041dce"
      },
      "outputs": [
        {
          "output_type": "execute_result",
          "data": {
            "text/plain": [
              "'As of my last update in October 2023, Colgate has been a leading brand in oral care, known for its innovative products. However, there isn\\'t a specific product called the \"Ergonomic Toothbrush\" by Colgate that I can provide detailed information on. \\n\\nColgate does offer a variety of toothbrushes designed with ergonomic features to enhance comfort and effectiveness during brushing. These toothbrushes typically include:\\n\\n1. **Comfortable Grip**: Handles designed to fit comfortably in the hand, reducing strain during brushing.\\n2. **Angled Bristles**: Bristles that are angled to reach different areas of the mouth more effectively.\\n3. **Soft or Medium Bristles**: Options for different bristle firmness to cater to various dental needs and sensitivities.\\n4. **Flexible Necks**: Some models have flexible necks to help absorb excess pressure and reduce the risk of gum damage.\\n\\nIf you are looking for a toothbrush with ergonomic features, you might want to check Colgate\\'s product lineup on their official website or at your local retailer. They often have detailed descriptions and customer reviews that can help you choose the best toothbrush for your needs.'"
            ],
            "application/vnd.google.colaboratory.intrinsic+json": {
              "type": "string"
            }
          },
          "metadata": {},
          "execution_count": 38
        }
      ],
      "source": [
        "prompt = f\"\"\"\n",
        "Tell me about Ergonamic Toothbrush by colgate.\n",
        "\"\"\"\n",
        "\n",
        "generate_response(prompt)"
      ]
    },
    {
      "cell_type": "code",
      "execution_count": 39,
      "metadata": {
        "colab": {
          "base_uri": "https://localhost:8080/",
          "height": 174
        },
        "id": "hzawWC-7PT_l",
        "outputId": "38e84cd0-c465-4aca-d7d8-0bb3c3530aa3"
      },
      "outputs": [
        {
          "output_type": "execute_result",
          "data": {
            "text/plain": [
              "'The Ultraslim Toothbrush by Spectrum is designed to offer an enhanced oral hygiene experience through its innovative features. Here are some key aspects of the Ultraslim Toothbrush:\\n\\n1. **Ultra-Thin Bristles**: The toothbrush is equipped with ultra-thin bristles that are designed to reach deeper between teeth and along the gumline. This helps in removing plaque and food particles more effectively compared to standard toothbrushes.\\n\\n2. **Gentle on Gums**: The fine bristles are gentle on the gums, making it suitable for people with sensitive gums or those prone to gum irritation. The soft bristles help in reducing the risk of gum damage while still providing a thorough clean.\\n\\n3. **Ergonomic Design**: The handle of the Ultraslim Toothbrush is ergonomically designed to provide a comfortable grip, ensuring better control during brushing. This design helps in reaching all areas of the mouth with ease.\\n\\n4. **Compact Head**: The toothbrush typically features a compact head that can easily navigate around the mouth, including hard-to-reach areas like the back molars. This ensures a comprehensive cleaning experience.\\n\\n5. **Durability**: Despite the ultra-thin nature of the bristles, the toothbrush is designed to be durable and long-lasting, providing consistent performance over time.\\n\\n6. **Aesthetic Appeal**: The Ultraslim Toothbrush often comes in a sleek and modern design, appealing to users who appreciate both functionality and style in their oral care products.\\n\\n7. **Eco-Friendly Options**: Some versions of the Ultraslim Toothbrush may be available in eco-friendly materials, catering to environmentally conscious consumers.\\n\\nOverall, the Ultraslim Toothbrush by Spectrum aims to provide a superior cleaning experience with its advanced bristle technology and user-friendly design. It is particularly beneficial for those looking for a gentle yet effective toothbrush to maintain their oral health.'"
            ],
            "application/vnd.google.colaboratory.intrinsic+json": {
              "type": "string"
            }
          },
          "metadata": {},
          "execution_count": 39
        }
      ],
      "source": [
        "prompt = f\"\"\"\n",
        "Tell me about Ultraslim Toothbrush by Spectrum.\n",
        "\"\"\"\n",
        "\n",
        "generate_response(prompt)"
      ]
    },
    {
      "cell_type": "code",
      "execution_count": 40,
      "metadata": {
        "colab": {
          "base_uri": "https://localhost:8080/"
        },
        "id": "gjWPGpKzPdQB",
        "outputId": "286bc63d-a544-4bc4-b173-ed940b0c6258"
      },
      "outputs": [
        {
          "output_type": "stream",
          "name": "stdout",
          "text": [
            "1. Manila: The bustling capital of the Philippines, known for its rich history, vibrant culture, and stunning bay sunsets.\n",
            "2. Delhi: India's sprawling capital, a blend of ancient monuments, bustling markets, and modern urban life.\n",
            "3. Amdocsonia: A fictional city, possibly inspired by the tech and innovation-driven ethos of Amdocs, a global software and services provider.\n"
          ]
        }
      ],
      "source": [
        "prompt = f\"\"\"\n",
        "Generate one line description for each of the following city:\n",
        "1. Manila\n",
        "2. Delhi\n",
        "3. Amdocsonia\n",
        "\"\"\"\n",
        "\n",
        "print(generate_response(prompt))"
      ]
    },
    {
      "cell_type": "code",
      "execution_count": 41,
      "metadata": {
        "colab": {
          "base_uri": "https://localhost:8080/"
        },
        "id": "Io6r-CoeRP5r",
        "outputId": "35728a20-2ab2-4b09-bd5d-d3bac46fc5b8"
      },
      "outputs": [
        {
          "output_type": "stream",
          "name": "stdout",
          "text": [
            "1. Manila: The bustling capital of the Philippines, known for its rich history and vibrant culture.\n",
            "2. Delhi: The capital city of India, famous for its historical landmarks and diverse cuisine.\n",
            "3. Spectrumania: No description can be generated.\n"
          ]
        }
      ],
      "source": [
        "prompt = f\"\"\"\n",
        "Generate one line description for each of the following city, check if the city exists, if it does not exist, say no description can be generated:\n",
        "1. Manila\n",
        "2. Delhi\n",
        "3. spectrumania\n",
        "\"\"\"\n",
        "\n",
        "print(generate_response(prompt))"
      ]
    },
    {
      "cell_type": "markdown",
      "metadata": {
        "id": "U-DmK07y94x8"
      },
      "source": [
        "## Conversational App"
      ]
    },
    {
      "cell_type": "code",
      "execution_count": null,
      "metadata": {
        "id": "Lap6MZ-ARdKd"
      },
      "outputs": [],
      "source": [
        "# creating a function to get outcome\n",
        "def generate_response(messages,model=deployment_name):\n",
        "  response = client.chat.completions.create(\n",
        "      model = model,\n",
        "      messages = messages,\n",
        "      temperature=0.5\n",
        "  )\n",
        "  return response.choices[0].message.content\n"
      ]
    },
    {
      "cell_type": "code",
      "execution_count": null,
      "metadata": {
        "id": "zgHXbLb0bhxA",
        "outputId": "1dddbf0c-edcd-4ee2-e6cc-77398101967b"
      },
      "outputs": [
        {
          "name": "stdout",
          "output_type": "stream",
          "text": [
            "You:  hi\n",
            "Bot: Hello! How can I assist you today?\n",
            "You:  how are you\n",
            "Bot: I'm just a computer program, so I don't have feelings, but I'm here and ready to help you with any questions or tasks you have! How can I assist you today?\n",
            "You:  tell me joke\n",
            "Bot: Sure, here's a joke for you:\n",
            "\n",
            "Why don't skeletons fight each other?\n",
            "\n",
            "They don't have the guts!\n",
            "You:  q\n"
          ]
        }
      ],
      "source": [
        "messages = [{\"role\":\"system\",\"content\":\"You are a helpful assistant\"},]\n",
        "while True:\n",
        "    uinput = input(\"You: \")\n",
        "    print(\"You: \",uinput)\n",
        "    if uinput.lower() in ['q','quit','exit']:\n",
        "        break\n",
        "    messages.append({\"role\":\"user\",\"content\":uinput})\n",
        "    response = generate_response(messages=messages)\n",
        "    print(f\"Bot: {response}\")\n",
        "    messages.append({\"role\":\"assistant\",\"content\":response})\n"
      ]
    },
    {
      "cell_type": "markdown",
      "metadata": {
        "id": "3WErsqIf94x9"
      },
      "source": [
        "## Thank You"
      ]
    }
  ],
  "metadata": {
    "colab": {
      "provenance": [],
      "include_colab_link": true
    },
    "kernelspec": {
      "display_name": "Python 3",
      "name": "python3"
    },
    "language_info": {
      "codemirror_mode": {
        "name": "ipython",
        "version": 3
      },
      "file_extension": ".py",
      "mimetype": "text/x-python",
      "name": "python",
      "nbconvert_exporter": "python",
      "pygments_lexer": "ipython3",
      "version": "3.10.9"
    }
  },
  "nbformat": 4,
  "nbformat_minor": 0
}